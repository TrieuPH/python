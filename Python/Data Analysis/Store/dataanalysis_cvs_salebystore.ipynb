{
 "cells": [
  {
   "cell_type": "code",
   "execution_count": 1,
   "metadata": {},
   "outputs": [],
   "source": [
    "import pandas as pd # type: ignore\n",
    "import glob\n",
    "\n",
    "def load_salesstore_data(data_folder):\n",
    "    # Get the path to all files containing 'salesstore' and ending with '.xlsx'\n",
    "    salesstore_files = glob.glob(data_folder + \"/salebystore*.xlsx\")\n",
    "    \n",
    "    # If no files are found, raise a FileNotFoundError\n",
    "    if not salesstore_files:\n",
    "        raise FileNotFoundError(f\"No 'salebycategory*.xlsx' files found in {data_folder}\")\n",
    "\n",
    "    # Load all the salesstore data into a list of pandas dataframes\n",
    "    salesstore_dfs = [pd.read_excel(file) for file in salesstore_files]\n",
    "    \n",
    "    # Concatenate all the dataframes into one\n",
    "    salesstore_df = pd.concat(salesstore_dfs, ignore_index=True)\n",
    "    \n",
    "    return salesstore_df\n",
    "\n",
    "# Define the data folder\n",
    "data_folder1 = r'C:\\Users\\PC\\Dropbox\\Projects\\data_xls\\salebystore'\n",
    "data_folder2 = r'C:\\Users\\trieu.pham\\Dropbox\\Projects\\data_xls\\salebystore'\n",
    "data_folder3 = r'/Users/trieupham/Dropbox/Projects/data_xls/salebystore'\n",
    "data_folder4 = r'C:\\Users\\haitr\\Dropbox\\Projects\\data_xls\\salebystore'\n",
    "\n",
    "import os\n",
    "\n",
    "data_folders = [data_folder1, data_folder2, data_folder3, data_folder4]\n",
    "df = None\n",
    "\n",
    "for folder in data_folders:\n",
    "    if os.path.exists(folder):\n",
    "        df = load_salesstore_data(folder)\n",
    "        break\n",
    "\n",
    "if df is None:\n",
    "    print(\"Data folder not found\")"
   ]
  },
  {
   "cell_type": "code",
   "execution_count": 2,
   "metadata": {},
   "outputs": [
    {
     "name": "stdout",
     "output_type": "stream",
     "text": [
      "0\n"
     ]
    }
   ],
   "source": [
    "#make sure there are not any duplicated rows\n",
    "print(df.duplicated().sum())\n",
    "\n",
    "#drop duplicated rows\n",
    "df = df.drop_duplicates()"
   ]
  },
  {
   "cell_type": "code",
   "execution_count": 3,
   "metadata": {},
   "outputs": [
    {
     "name": "stdout",
     "output_type": "stream",
     "text": [
      "weekday\n",
      "Saturday     16,058,316.05\n",
      "Sunday       15,086,305.81\n",
      "Friday       13,681,473.00\n",
      "Wednesday    13,150,621.05\n",
      "Tuesday      13,118,044.14\n",
      "Monday       12,904,528.47\n",
      "Thursday     12,755,288.95\n",
      "Name: netSales, dtype: object\n"
     ]
    }
   ],
   "source": [
    "import pandas as pd\n",
    "\n",
    "# Convert the 'dateKey' column to datetime format\n",
    "df['dateKey'] = pd.to_datetime(df['dateKey'], format='%Y%m%d')\n",
    "\n",
    "# Extract the weekday from the date\n",
    "df['weekday'] = df['dateKey'].dt.day_name()\n",
    "\n",
    "# Group by the weekday and calculate the mean of 'netSales'\n",
    "average_sales = df.groupby('weekday')['netSales'].mean()\n",
    "\n",
    "# Sort the weekdays descendingly by the average net sales\n",
    "average_sales = average_sales.sort_values(ascending=False)\n",
    "\n",
    "# Change sale format to currency, with two decimal places\n",
    "average_sales = average_sales.map('{:,.2f}'.format)\n",
    "\n",
    "print(average_sales)"
   ]
  },
  {
   "cell_type": "code",
   "execution_count": 4,
   "metadata": {},
   "outputs": [
    {
     "name": "stdout",
     "output_type": "stream",
     "text": [
      "        month    weekday       netSales\n",
      "66  September     Sunday  17,399,995.20\n",
      "65  September   Saturday  17,331,688.50\n",
      "64  September     Monday  14,210,640.80\n",
      "63  September     Friday  14,117,729.25\n",
      "68  September    Tuesday  14,069,189.00\n",
      "67  September   Thursday  13,843,551.25\n",
      "69  September  Wednesday  13,003,745.50\n",
      "   month    weekday       netSales\n",
      "2  April   Saturday  15,416,354.00\n",
      "3  April     Sunday  15,263,523.75\n",
      "4  April   Thursday  13,611,837.00\n",
      "0  April     Friday  13,147,167.50\n",
      "6  April  Wednesday  12,857,554.75\n",
      "5  April    Tuesday  12,819,201.60\n",
      "1  April     Monday  12,441,210.80\n"
     ]
    }
   ],
   "source": [
    "import pandas as pd\n",
    "\n",
    "# Convert the 'dateKey' column to datetime format\n",
    "df['dateKey'] = pd.to_datetime(df['dateKey'], format='%Y%m%d')\n",
    "\n",
    "# Extract the month and weekday from the date\n",
    "df['month'] = df['dateKey'].dt.month_name()\n",
    "df['weekday'] = df['dateKey'].dt.day_name()\n",
    "\n",
    "# Group by the month and weekday and calculate the mean of 'netSales'\n",
    "average_sales = df.groupby(['month', 'weekday'])['netSales'].mean().reset_index()\n",
    "\n",
    "# Sort the results by month and then by average net sales within each month\n",
    "average_sales = average_sales.sort_values(by=['month', 'netSales'], ascending=[True, False])\n",
    "\n",
    "# Change sale format to currency, with two decimal places\n",
    "average_sales['netSales'] = average_sales['netSales'].map('{:,.2f}'.format)\n",
    "\n",
    "#print(average_sales)\n",
    "\n",
    "# Print average sales for September only\n",
    "print(average_sales[average_sales['month'] == 'September'])\n",
    "\n",
    "# Print average sales for April only\n",
    "print(average_sales[average_sales['month'] == 'April'])"
   ]
  },
  {
   "cell_type": "code",
   "execution_count": 5,
   "metadata": {},
   "outputs": [
    {
     "data": {
      "text/plain": [
       "year_month\n",
       "2024-10    15,144,885.77\n",
       "2024-09    14,917,226.47\n",
       "2024-08    15,642,057.45\n",
       "2024-07    14,539,593.06\n",
       "2024-06    15,474,169.03\n",
       "2024-05    13,664,188.94\n",
       "2024-04    13,582,927.00\n",
       "2024-03    12,429,899.94\n",
       "2024-02    10,810,962.24\n",
       "2024-01    11,756,127.50\n",
       "Freq: M, dtype: object"
      ]
     },
     "execution_count": 5,
     "metadata": {},
     "output_type": "execute_result"
    }
   ],
   "source": [
    "# Extract the year and month from the 'dateKey' column\n",
    "df['year_month'] = df['dateKey'].dt.to_period('M')\n",
    "\n",
    "# Group by the 'year_month' column, and calculate the sum of 'netSales'\n",
    "monthly_sales = df.groupby('year_month')['netSales'].sum()\n",
    "\n",
    "# Count the number of unique days in each month\n",
    "days_in_month = df.groupby('year_month')['dateKey'].nunique()\n",
    "\n",
    "# Calculate the average daily sales per month\n",
    "average_daily_sales = monthly_sales / days_in_month\n",
    "\n",
    "# Sort the average daily sales in descending order\n",
    "average_daily_sales = average_daily_sales.sort_values(ascending=False)\n",
    "\n",
    "# Change the sales format to currency, with two decimal places\n",
    "average_daily_sales = average_daily_sales.map('{:,.2f}'.format)\n",
    "\n",
    "# Sort average daily sales in descending order, order by month\n",
    "average_daily_sales = average_daily_sales.sort_index(ascending=False)\n",
    "#print(average_daily_sales)\n",
    "average_daily_sales"
   ]
  },
  {
   "cell_type": "code",
   "execution_count": 6,
   "metadata": {},
   "outputs": [
    {
     "name": "stdout",
     "output_type": "stream",
     "text": [
      "The average daily sales will reach 16,000,000.00 in 10/2024\n"
     ]
    }
   ],
   "source": [
    "from sklearn.linear_model import LinearRegression\n",
    "import numpy as np\n",
    "import pandas as pd\n",
    "\n",
    "# Convert 'year_month' to a numerical format\n",
    "df['year_month_num'] = df['year_month'].dt.to_timestamp().dt.year * 12 + df['year_month'].dt.to_timestamp().dt.month\n",
    "\n",
    "# Group by the 'year_month_num' column, and calculate the sum of 'netSales' and count of 'dateKey'\n",
    "grouped_df = df.groupby('year_month_num').agg({'netSales': 'sum', 'dateKey': 'nunique'})\n",
    "\n",
    "# Calculate the average daily sales per month\n",
    "average_daily_sales = grouped_df['netSales'] / grouped_df['dateKey']\n",
    "\n",
    "# Fit a linear regression model\n",
    "model = LinearRegression()\n",
    "model.fit(grouped_df.index.values.reshape(-1, 1), average_daily_sales)\n",
    "\n",
    "# Predict the month and year when the average daily sales will reach the target\n",
    "target = 16000000\n",
    "predicted_month_num = int((target - model.intercept_) / model.coef_[0])\n",
    "predicted_year, predicted_month = divmod(predicted_month_num, 12)\n",
    "\n",
    "# Print the prediction, target format to currency, with two decimal places\n",
    "target = '{:,.2f}'.format(target)\n",
    "print(f'The average daily sales will reach {target} in {predicted_month}/{predicted_year}')"
   ]
  },
  {
   "cell_type": "code",
   "execution_count": 7,
   "metadata": {},
   "outputs": [
    {
     "name": "stdout",
     "output_type": "stream",
     "text": [
      "The day with the highest sales was 2024-10-05 00:00:00 with 20,411,507.00\n",
      "The day with the lowest sales was 2024-02-21 00:00:00 with 7,253,694.00\n"
     ]
    }
   ],
   "source": [
    "# Find the day with the highest sales\n",
    "max_sales_day = df.loc[df['netSales'].idxmax(), 'dateKey']\n",
    "\n",
    "# Find the day with the lowest sales\n",
    "min_sales_day = df.loc[df['netSales'].idxmin(), 'dateKey']\n",
    "\n",
    "\n",
    "# Print the results, show the sales format as currency\n",
    "max_sales = '{:,.2f}'.format(df['netSales'].max())\n",
    "min_sales = '{:,.2f}'.format(df['netSales'].min())\n",
    "print(f'The day with the highest sales was {max_sales_day} with {max_sales}')\n",
    "print(f'The day with the lowest sales was {min_sales_day} with {min_sales}')"
   ]
  },
  {
   "cell_type": "code",
   "execution_count": 8,
   "metadata": {},
   "outputs": [
    {
     "data": {
      "image/png": "[encoded data removed]",
      "text/plain": [
       "<Figure size 1200x600 with 1 Axes>"
      ]
     },
     "metadata": {},
     "output_type": "display_data"
    }
   ],
   "source": [
    "import pandas as pd\n",
    "import matplotlib.pyplot as plt\n",
    "\n",
    "# Sample data\n",
    "data = {\n",
    "    'year_month': ['2024-08', '2024-07', '2024-06', '2024-05', '2024-04', '2024-03', '2024-02', '2024-01'],\n",
    "    'average_daily_sales': ['15,753,188.57', '14,539,593.06', '15,474,169.03', '13,664,188.94', '13,582,927.00', '12,429,899.94', '10,810,962.24', '11,756,127.50']\n",
    "}\n",
    "\n",
    "# Create DataFrame\n",
    "df_drawchart = pd.DataFrame(data)\n",
    "df_drawchart['average_daily_sales'] = df_drawchart['average_daily_sales'].str.replace(',', '').astype(float)\n",
    "df_drawchart.set_index('year_month', inplace=True)\n",
    "\n",
    "# Plotting\n",
    "ax = df_drawchart['average_daily_sales'].plot(kind='bar', figsize=(12, 6), color='skyblue')\n",
    "ax.set_title('Average Daily Sales per Month')\n",
    "ax.set_xlabel('Month')\n",
    "ax.set_ylabel('Average Daily Sales')\n",
    "ax.set_xticklabels(df_drawchart.index, rotation=45)\n",
    "\n",
    "# Format the y-axis labels as currency\n",
    "ax.get_yaxis().set_major_formatter(plt.FuncFormatter(lambda x, loc: \"{:,.2f}\".format(x)))\n",
    "\n",
    "plt.show()"
   ]
  }
 ],
 "metadata": {
  "kernelspec": {
   "display_name": "pyenv",
   "language": "python",
   "name": "python3"
  },
  "language_info": {
   "codemirror_mode": {
    "name": "ipython",
    "version": 3
   },
   "file_extension": ".py",
   "mimetype": "text/x-python",
   "name": "python",
   "nbconvert_exporter": "python",
   "pygments_lexer": "ipython3",
   "version": "3.10.13"
  }
 },
 "nbformat": 4,
 "nbformat_minor": 2
}
