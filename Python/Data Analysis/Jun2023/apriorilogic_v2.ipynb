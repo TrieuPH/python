{
 "cells": [
  {
   "cell_type": "code",
   "execution_count": 1,
   "metadata": {},
   "outputs": [
    {
     "name": "stdout",
     "output_type": "stream",
     "text": [
      "Excel files exist in folder\n"
     ]
    }
   ],
   "source": [
    "import dataCate as dc\n",
    "\n",
    "datacate_dict = r'C:\\Users\\trieu.pham\\OneDrive - BTM Global Consulting\\Projects\\github\\python\\Python\\Data Analysis'\n",
    "datacate_filename = r'DataCate'\n",
    "df_cate = dc.loadDataCate(datacate_dict, datacate_filename)"
   ]
  },
  {
   "cell_type": "code",
   "execution_count": null,
   "metadata": {},
   "outputs": [],
   "source": [
    "df_cate"
   ]
  },
  {
   "cell_type": "code",
   "execution_count": null,
   "metadata": {},
   "outputs": [],
   "source": [
    "# import getMonthYear\n",
    "\n",
    "# getMonthYear.getMonthYear('230117 Payment Summary - 2023-01-18T085845.454.xlsx')"
   ]
  }
 ],
 "metadata": {
  "kernelspec": {
   "display_name": "myenv",
   "language": "python",
   "name": "python3"
  },
  "language_info": {
   "codemirror_mode": {
    "name": "ipython",
    "version": 3
   },
   "file_extension": ".py",
   "mimetype": "text/x-python",
   "name": "python",
   "nbconvert_exporter": "python",
   "pygments_lexer": "ipython3",
   "version": "3.11.3"
  },
  "orig_nbformat": 4
 },
 "nbformat": 4,
 "nbformat_minor": 2
}
