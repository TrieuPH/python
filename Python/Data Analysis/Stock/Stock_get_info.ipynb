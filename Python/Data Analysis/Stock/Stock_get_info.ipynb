{
 "cells": [
  {
   "cell_type": "code",
   "execution_count": 7,
   "metadata": {},
   "outputs": [
    {
     "name": "stderr",
     "output_type": "stream",
     "text": [
      "d:\\Miniconda3\\envs\\pyenv\\Lib\\site-packages\\yfinance\\utils.py:771: FutureWarning: The 'unit' keyword in TimedeltaIndex construction is deprecated and will be removed in a future version. Use pd.to_timedelta instead.\n",
      "  df.index += _pd.TimedeltaIndex(dst_error_hours, 'h')\n"
     ]
    },
    {
     "data": {
      "text/plain": [
       "72700.0"
      ]
     },
     "execution_count": 7,
     "metadata": {},
     "output_type": "execute_result"
    }
   ],
   "source": [
    "import yfinance as yf\n",
    "\n",
    "# Get the stock data for VNM\n",
    "vnm_stock = yf.Ticker(\"VNM.VN\")\n",
    "\n",
    "# Get the historical market data\n",
    "vnm_history = vnm_stock.history(period=\"max\")\n",
    "\n",
    "# Display the historical data\n",
    "vnm_history.head()\n",
    "\n",
    "# Display the price at September 20, 2024\n",
    "vnm_history.loc[\"2024-09-20\"]['Close']\n",
    "\n"
   ]
  },
  {
   "cell_type": "code",
   "execution_count": 11,
   "metadata": {},
   "outputs": [
    {
     "ename": "AttributeError",
     "evalue": "'NoneType' object has no attribute 'find_all'",
     "output_type": "error",
     "traceback": [
      "\u001b[1;31m---------------------------------------------------------------------------\u001b[0m",
      "\u001b[1;31mAttributeError\u001b[0m                            Traceback (most recent call last)",
      "Cell \u001b[1;32mIn[11], line 16\u001b[0m\n\u001b[0;32m     12\u001b[0m \u001b[38;5;66;03m# Extract the historical data\u001b[39;00m\n\u001b[0;32m     13\u001b[0m \u001b[38;5;66;03m# Note: The actual extraction logic will depend on the structure of the HTML page\u001b[39;00m\n\u001b[0;32m     14\u001b[0m \u001b[38;5;66;03m# You may need to inspect the page to find the correct tags and classes\u001b[39;00m\n\u001b[0;32m     15\u001b[0m table \u001b[38;5;241m=\u001b[39m soup\u001b[38;5;241m.\u001b[39mfind(\u001b[38;5;124m'\u001b[39m\u001b[38;5;124mtable\u001b[39m\u001b[38;5;124m'\u001b[39m, {\u001b[38;5;124m'\u001b[39m\u001b[38;5;124mclass\u001b[39m\u001b[38;5;124m'\u001b[39m: \u001b[38;5;124m'\u001b[39m\u001b[38;5;124mhistorical-data-table\u001b[39m\u001b[38;5;124m'\u001b[39m})\n\u001b[1;32m---> 16\u001b[0m rows \u001b[38;5;241m=\u001b[39m \u001b[43mtable\u001b[49m\u001b[38;5;241;43m.\u001b[39;49m\u001b[43mfind_all\u001b[49m(\u001b[38;5;124m'\u001b[39m\u001b[38;5;124mtr\u001b[39m\u001b[38;5;124m'\u001b[39m)\n\u001b[0;32m     18\u001b[0m \u001b[38;5;66;03m# Parse the data into a list of dictionaries\u001b[39;00m\n\u001b[0;32m     19\u001b[0m data \u001b[38;5;241m=\u001b[39m []\n",
      "\u001b[1;31mAttributeError\u001b[0m: 'NoneType' object has no attribute 'find_all'"
     ]
    }
   ],
   "source": [
    "import requests\n",
    "from bs4 import BeautifulSoup\n",
    "import pandas as pd\n",
    "\n",
    "# Define the URL for fetching the stock data\n",
    "url = \"https://www.msn.com/vi-vn/money/stockdetails/history/fi-126.1.VNM.VNM\"\n",
    "\n",
    "# Fetch the HTML content from the URL\n",
    "response = requests.get(url)\n",
    "soup = BeautifulSoup(response.content, 'html.parser')\n",
    "\n",
    "# Extract the historical data\n",
    "# Note: The actual extraction logic will depend on the structure of the HTML page\n",
    "# You may need to inspect the page to find the correct tags and classes\n",
    "table = soup.find('table', {'class': 'historical-data-table'})\n",
    "rows = table.find_all('tr')\n",
    "\n",
    "# Parse the data into a list of dictionaries\n",
    "data = []\n",
    "for row in rows[1:]:  # Skip the header row\n",
    "    cols = row.find_all('td')\n",
    "    data.append({\n",
    "        'Date': cols[0].text,\n",
    "        'Close': float(cols[1].text.replace(',', '')),\n",
    "        'Open': float(cols[2].text.replace(',', '')),\n",
    "        'High': float(cols[3].text.replace(',', '')),\n",
    "        'Low': float(cols[4].text.replace(',', '')),\n",
    "        'Volume': int(cols[5].text.replace(',', ''))\n",
    "    })\n",
    "\n",
    "# Convert the list of dictionaries into a pandas DataFrame\n",
    "df = pd.DataFrame(data)\n",
    "\n",
    "# Display the historical data\n",
    "print(df.head())\n",
    "\n",
    "# Display the price at September 20, 2024\n",
    "price_on_date = df[df['Date'] == '2024-09-20']['Close'].values[0]\n",
    "print(f\"Price on September 20, 2024: {price_on_date}\")"
   ]
  }
 ],
 "metadata": {
  "kernelspec": {
   "display_name": "pyenv",
   "language": "python",
   "name": "python3"
  },
  "language_info": {
   "codemirror_mode": {
    "name": "ipython",
    "version": 3
   },
   "file_extension": ".py",
   "mimetype": "text/x-python",
   "name": "python",
   "nbconvert_exporter": "python",
   "pygments_lexer": "ipython3",
   "version": "3.12.4"
  }
 },
 "nbformat": 4,
 "nbformat_minor": 2
}
