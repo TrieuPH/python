{
 "cells": [
  {
   "cell_type": "code",
   "execution_count": 1,
   "metadata": {},
   "outputs": [],
   "source": [
    "import pandas as pd # type: ignore\n",
    "import glob\n",
    "\n",
    "def load_salesstore_data(data_folder):\n",
    "    # Get the path to all files containing 'salesstore' and ending with '.xlsx'\n",
    "    salesstore_files = glob.glob(data_folder + \"/salebystore*.xlsx\")\n",
    "    \n",
    "    # If no files are found, raise a FileNotFoundError\n",
    "    if not salesstore_files:\n",
    "        raise FileNotFoundError(f\"No 'salebycategory*.xlsx' files found in {data_folder}\")\n",
    "\n",
    "    # Load all the salesstore data into a list of pandas dataframes\n",
    "    salesstore_dfs = [pd.read_excel(file) for file in salesstore_files]\n",
    "    \n",
    "    # Concatenate all the dataframes into one\n",
    "    salesstore_df = pd.concat(salesstore_dfs, ignore_index=True)\n",
    "    \n",
    "    return salesstore_df\n",
    "\n",
    "# Define the data folder\n",
    "data_folder1 = r'C:\\Users\\PC\\Dropbox\\Projects\\data_xls\\salebystore'\n",
    "data_folder2 = r'C:\\Users\\trieu.pham\\Dropbox\\Projects\\data_xls\\salebystore'\n",
    "data_folder3 = r'/Users/trieupham/Dropbox/Projects/data_xls/salebystore'\n",
    "data_folder4 = r'C:\\Users\\haitr\\Dropbox\\Projects\\data_xls\\salebystore'\n",
    "\n",
    "import os\n",
    "\n",
    "data_folders = [data_folder1, data_folder2, data_folder3, data_folder4]\n",
    "df = None\n",
    "\n",
    "for folder in data_folders:\n",
    "    if os.path.exists(folder):\n",
    "        df = load_salesstore_data(folder)\n",
    "        break\n",
    "\n",
    "if df is None:\n",
    "    print(\"Data folder not found\")"
   ]
  },
  {
   "cell_type": "code",
   "execution_count": 2,
   "metadata": {},
   "outputs": [
    {
     "name": "stdout",
     "output_type": "stream",
     "text": [
      "0\n"
     ]
    }
   ],
   "source": [
    "#make sure there are not any duplicated rows\n",
    "print(df.duplicated().sum())\n",
    "\n",
    "#drop duplicated rows\n",
    "df = df.drop_duplicates()"
   ]
  },
  {
   "cell_type": "code",
   "execution_count": 3,
   "metadata": {},
   "outputs": [
    {
     "name": "stdout",
     "output_type": "stream",
     "text": [
      "weekday\n",
      "Saturday     15,699,751.05\n",
      "Sunday       14,886,704.87\n",
      "Friday       13,622,977.36\n",
      "Tuesday      13,001,719.00\n",
      "Wednesday    12,944,683.54\n",
      "Monday       12,804,849.92\n",
      "Thursday     12,679,809.79\n",
      "Name: netSales, dtype: object\n"
     ]
    }
   ],
   "source": [
    "import pandas as pd\n",
    "\n",
    "# Convert the 'dateKey' column to datetime format\n",
    "df['dateKey'] = pd.to_datetime(df['dateKey'], format='%Y%m%d')\n",
    "\n",
    "# Extract the weekday from the date\n",
    "df['weekday'] = df['dateKey'].dt.day_name()\n",
    "\n",
    "# Group by the weekday and calculate the mean of 'netSales'\n",
    "average_sales = df.groupby('weekday')['netSales'].mean()\n",
    "\n",
    "# Sort the weekdays descendingly by the average net sales\n",
    "average_sales = average_sales.sort_values(ascending=False)\n",
    "\n",
    "# Change sale format to currency, with two decimal places\n",
    "average_sales = average_sales.map('{:,.2f}'.format)\n",
    "\n",
    "print(average_sales)"
   ]
  },
  {
   "cell_type": "code",
   "execution_count": 4,
   "metadata": {},
   "outputs": [
    {
     "name": "stdout",
     "output_type": "stream",
     "text": [
      "        month    weekday       netSales\n",
      "59  September     Sunday  17,399,995.20\n",
      "58  September   Saturday  17,331,688.50\n",
      "57  September     Monday  14,210,640.80\n",
      "56  September     Friday  14,117,729.25\n",
      "61  September    Tuesday  14,069,189.00\n",
      "60  September   Thursday  13,843,551.25\n",
      "62  September  Wednesday  13,003,745.50\n",
      "   month    weekday       netSales\n",
      "2  April   Saturday  15,416,354.00\n",
      "3  April     Sunday  15,263,523.75\n",
      "4  April   Thursday  13,611,837.00\n",
      "0  April     Friday  13,147,167.50\n",
      "6  April  Wednesday  12,857,554.75\n",
      "5  April    Tuesday  12,819,201.60\n",
      "1  April     Monday  12,441,210.80\n"
     ]
    }
   ],
   "source": [
    "import pandas as pd\n",
    "\n",
    "# Convert the 'dateKey' column to datetime format\n",
    "df['dateKey'] = pd.to_datetime(df['dateKey'], format='%Y%m%d')\n",
    "\n",
    "# Extract the month and weekday from the date\n",
    "df['month'] = df['dateKey'].dt.month_name()\n",
    "df['weekday'] = df['dateKey'].dt.day_name()\n",
    "\n",
    "# Group by the month and weekday and calculate the mean of 'netSales'\n",
    "average_sales = df.groupby(['month', 'weekday'])['netSales'].mean().reset_index()\n",
    "\n",
    "# Sort the results by month and then by average net sales within each month\n",
    "average_sales = average_sales.sort_values(by=['month', 'netSales'], ascending=[True, False])\n",
    "\n",
    "# Change sale format to currency, with two decimal places\n",
    "average_sales['netSales'] = average_sales['netSales'].map('{:,.2f}'.format)\n",
    "\n",
    "#print(average_sales)\n",
    "\n",
    "# Print average sales for September only\n",
    "print(average_sales[average_sales['month'] == 'September'])\n",
    "\n",
    "# Print average sales for April only\n",
    "print(average_sales[average_sales['month'] == 'April'])"
   ]
  },
  {
   "cell_type": "code",
   "execution_count": 5,
   "metadata": {},
   "outputs": [
    {
     "name": "stdout",
     "output_type": "stream",
     "text": [
      "year_month\n",
      "2024-09    14,917,226.47\n",
      "2024-08    15,642,057.45\n",
      "2024-07    14,539,593.06\n",
      "2024-06    15,474,169.03\n",
      "2024-05    13,664,188.94\n",
      "2024-04    13,582,927.00\n",
      "2024-03    12,429,899.94\n",
      "2024-02    10,810,962.24\n",
      "2024-01    11,756,127.50\n",
      "Freq: M, dtype: object\n"
     ]
    }
   ],
   "source": [
    "# Extract the year and month from the 'dateKey' column\n",
    "df['year_month'] = df['dateKey'].dt.to_period('M')\n",
    "\n",
    "# Group by the 'year_month' column, and calculate the sum of 'netSales'\n",
    "monthly_sales = df.groupby('year_month')['netSales'].sum()\n",
    "\n",
    "# Count the number of unique days in each month\n",
    "days_in_month = df.groupby('year_month')['dateKey'].nunique()\n",
    "\n",
    "# Calculate the average daily sales per month\n",
    "average_daily_sales = monthly_sales / days_in_month\n",
    "\n",
    "# Sort the average daily sales in descending order\n",
    "average_daily_sales = average_daily_sales.sort_values(ascending=False)\n",
    "\n",
    "# Change the sales format to currency, with two decimal places\n",
    "average_daily_sales = average_daily_sales.map('{:,.2f}'.format)\n",
    "\n",
    "# Sort average daily sales in descending order, order by month\n",
    "average_daily_sales = average_daily_sales.sort_index(ascending=False)\n",
    "print(average_daily_sales)"
   ]
  },
  {
   "cell_type": "code",
   "execution_count": 6,
   "metadata": {},
   "outputs": [
    {
     "ename": "ModuleNotFoundError",
     "evalue": "No module named 'sklearn'",
     "output_type": "error",
     "traceback": [
      "\u001b[1;31m---------------------------------------------------------------------------\u001b[0m",
      "\u001b[1;31mModuleNotFoundError\u001b[0m                       Traceback (most recent call last)",
      "Cell \u001b[1;32mIn[6], line 1\u001b[0m\n\u001b[1;32m----> 1\u001b[0m \u001b[38;5;28;01mfrom\u001b[39;00m \u001b[38;5;21;01msklearn\u001b[39;00m\u001b[38;5;21;01m.\u001b[39;00m\u001b[38;5;21;01mlinear_model\u001b[39;00m \u001b[38;5;28;01mimport\u001b[39;00m LinearRegression\n\u001b[0;32m      2\u001b[0m \u001b[38;5;28;01mimport\u001b[39;00m \u001b[38;5;21;01mnumpy\u001b[39;00m \u001b[38;5;28;01mas\u001b[39;00m \u001b[38;5;21;01mnp\u001b[39;00m\n\u001b[0;32m      3\u001b[0m \u001b[38;5;28;01mimport\u001b[39;00m \u001b[38;5;21;01mpandas\u001b[39;00m \u001b[38;5;28;01mas\u001b[39;00m \u001b[38;5;21;01mpd\u001b[39;00m\n",
      "\u001b[1;31mModuleNotFoundError\u001b[0m: No module named 'sklearn'"
     ]
    }
   ],
   "source": [
    "from sklearn.linear_model import LinearRegression\n",
    "import numpy as np\n",
    "import pandas as pd\n",
    "\n",
    "# Convert 'year_month' to a numerical format\n",
    "df['year_month_num'] = df['year_month'].dt.to_timestamp().dt.year * 12 + df['year_month'].dt.to_timestamp().dt.month\n",
    "\n",
    "# Group by the 'year_month_num' column, and calculate the sum of 'netSales' and count of 'dateKey'\n",
    "grouped_df = df.groupby('year_month_num').agg({'netSales': 'sum', 'dateKey': 'nunique'})\n",
    "\n",
    "# Calculate the average daily sales per month\n",
    "average_daily_sales = grouped_df['netSales'] / grouped_df['dateKey']\n",
    "\n",
    "# Fit a linear regression model\n",
    "model = LinearRegression()\n",
    "model.fit(grouped_df.index.values.reshape(-1, 1), average_daily_sales)\n",
    "\n",
    "# Predict the month and year when the average daily sales will reach the target\n",
    "target = 16000000\n",
    "predicted_month_num = int((target - model.intercept_) / model.coef_[0])\n",
    "predicted_year, predicted_month = divmod(predicted_month_num, 12)\n",
    "\n",
    "# Print the prediction, target format to currency, with two decimal places\n",
    "target = '{:,.2f}'.format(target)\n",
    "print(f'The average daily sales will reach {target} in {predicted_month}/{predicted_year}')"
   ]
  },
  {
   "cell_type": "code",
   "execution_count": 7,
   "metadata": {},
   "outputs": [
    {
     "name": "stdout",
     "output_type": "stream",
     "text": [
      "The day with the highest sales was 2024-09-15 00:00:00 with 18,810,527.00\n",
      "The day with the lowest sales was 2024-02-21 00:00:00 with 7,253,694.00\n"
     ]
    }
   ],
   "source": [
    "# Find the day with the highest sales\n",
    "max_sales_day = df.loc[df['netSales'].idxmax(), 'dateKey']\n",
    "\n",
    "# Find the day with the lowest sales\n",
    "min_sales_day = df.loc[df['netSales'].idxmin(), 'dateKey']\n",
    "\n",
    "\n",
    "# Print the results, show the sales format as currency\n",
    "max_sales = '{:,.2f}'.format(df['netSales'].max())\n",
    "min_sales = '{:,.2f}'.format(df['netSales'].min())\n",
    "print(f'The day with the highest sales was {max_sales_day} with {max_sales}')\n",
    "print(f'The day with the lowest sales was {min_sales_day} with {min_sales}')"
   ]
  },
  {
   "cell_type": "code",
   "execution_count": 8,
   "metadata": {},
   "outputs": [
    {
     "ename": "ModuleNotFoundError",
     "evalue": "No module named 'matplotlib'",
     "output_type": "error",
     "traceback": [
      "\u001b[1;31m---------------------------------------------------------------------------\u001b[0m",
      "\u001b[1;31mModuleNotFoundError\u001b[0m                       Traceback (most recent call last)",
      "Cell \u001b[1;32mIn[8], line 2\u001b[0m\n\u001b[0;32m      1\u001b[0m \u001b[38;5;28;01mimport\u001b[39;00m \u001b[38;5;21;01mpandas\u001b[39;00m \u001b[38;5;28;01mas\u001b[39;00m \u001b[38;5;21;01mpd\u001b[39;00m\n\u001b[1;32m----> 2\u001b[0m \u001b[38;5;28;01mimport\u001b[39;00m \u001b[38;5;21;01mmatplotlib\u001b[39;00m\u001b[38;5;21;01m.\u001b[39;00m\u001b[38;5;21;01mpyplot\u001b[39;00m \u001b[38;5;28;01mas\u001b[39;00m \u001b[38;5;21;01mplt\u001b[39;00m\n\u001b[0;32m      4\u001b[0m \u001b[38;5;66;03m# Sample data\u001b[39;00m\n\u001b[0;32m      5\u001b[0m data \u001b[38;5;241m=\u001b[39m {\n\u001b[0;32m      6\u001b[0m     \u001b[38;5;124m'\u001b[39m\u001b[38;5;124myear_month\u001b[39m\u001b[38;5;124m'\u001b[39m: [\u001b[38;5;124m'\u001b[39m\u001b[38;5;124m2024-08\u001b[39m\u001b[38;5;124m'\u001b[39m, \u001b[38;5;124m'\u001b[39m\u001b[38;5;124m2024-07\u001b[39m\u001b[38;5;124m'\u001b[39m, \u001b[38;5;124m'\u001b[39m\u001b[38;5;124m2024-06\u001b[39m\u001b[38;5;124m'\u001b[39m, \u001b[38;5;124m'\u001b[39m\u001b[38;5;124m2024-05\u001b[39m\u001b[38;5;124m'\u001b[39m, \u001b[38;5;124m'\u001b[39m\u001b[38;5;124m2024-04\u001b[39m\u001b[38;5;124m'\u001b[39m, \u001b[38;5;124m'\u001b[39m\u001b[38;5;124m2024-03\u001b[39m\u001b[38;5;124m'\u001b[39m, \u001b[38;5;124m'\u001b[39m\u001b[38;5;124m2024-02\u001b[39m\u001b[38;5;124m'\u001b[39m, \u001b[38;5;124m'\u001b[39m\u001b[38;5;124m2024-01\u001b[39m\u001b[38;5;124m'\u001b[39m],\n\u001b[0;32m      7\u001b[0m     \u001b[38;5;124m'\u001b[39m\u001b[38;5;124maverage_daily_sales\u001b[39m\u001b[38;5;124m'\u001b[39m: [\u001b[38;5;124m'\u001b[39m\u001b[38;5;124m15,753,188.57\u001b[39m\u001b[38;5;124m'\u001b[39m, \u001b[38;5;124m'\u001b[39m\u001b[38;5;124m14,539,593.06\u001b[39m\u001b[38;5;124m'\u001b[39m, \u001b[38;5;124m'\u001b[39m\u001b[38;5;124m15,474,169.03\u001b[39m\u001b[38;5;124m'\u001b[39m, \u001b[38;5;124m'\u001b[39m\u001b[38;5;124m13,664,188.94\u001b[39m\u001b[38;5;124m'\u001b[39m, \u001b[38;5;124m'\u001b[39m\u001b[38;5;124m13,582,927.00\u001b[39m\u001b[38;5;124m'\u001b[39m, \u001b[38;5;124m'\u001b[39m\u001b[38;5;124m12,429,899.94\u001b[39m\u001b[38;5;124m'\u001b[39m, \u001b[38;5;124m'\u001b[39m\u001b[38;5;124m10,810,962.24\u001b[39m\u001b[38;5;124m'\u001b[39m, \u001b[38;5;124m'\u001b[39m\u001b[38;5;124m11,756,127.50\u001b[39m\u001b[38;5;124m'\u001b[39m]\n\u001b[0;32m      8\u001b[0m }\n",
      "\u001b[1;31mModuleNotFoundError\u001b[0m: No module named 'matplotlib'"
     ]
    }
   ],
   "source": [
    "import pandas as pd\n",
    "import matplotlib.pyplot as plt\n",
    "\n",
    "# Sample data\n",
    "data = {\n",
    "    'year_month': ['2024-08', '2024-07', '2024-06', '2024-05', '2024-04', '2024-03', '2024-02', '2024-01'],\n",
    "    'average_daily_sales': ['15,753,188.57', '14,539,593.06', '15,474,169.03', '13,664,188.94', '13,582,927.00', '12,429,899.94', '10,810,962.24', '11,756,127.50']\n",
    "}\n",
    "\n",
    "# Create DataFrame\n",
    "df_drawchart = pd.DataFrame(data)\n",
    "df_drawchart['average_daily_sales'] = df_drawchart['average_daily_sales'].str.replace(',', '').astype(float)\n",
    "df_drawchart.set_index('year_month', inplace=True)\n",
    "\n",
    "# Plotting\n",
    "ax = df_drawchart['average_daily_sales'].plot(kind='bar', figsize=(12, 6), color='skyblue')\n",
    "ax.set_title('Average Daily Sales per Month')\n",
    "ax.set_xlabel('Month')\n",
    "ax.set_ylabel('Average Daily Sales')\n",
    "ax.set_xticklabels(df_drawchart.index, rotation=45)\n",
    "\n",
    "# Format the y-axis labels as currency\n",
    "ax.get_yaxis().set_major_formatter(plt.FuncFormatter(lambda x, loc: \"{:,.2f}\".format(x)))\n",
    "\n",
    "plt.show()"
   ]
  }
 ],
 "metadata": {
  "kernelspec": {
   "display_name": "pyenv",
   "language": "python",
   "name": "python3"
  },
  "language_info": {
   "codemirror_mode": {
    "name": "ipython",
    "version": 3
   },
   "file_extension": ".py",
   "mimetype": "text/x-python",
   "name": "python",
   "nbconvert_exporter": "python",
   "pygments_lexer": "ipython3",
   "version": "3.12.5"
  }
 },
 "nbformat": 4,
 "nbformat_minor": 2
}
