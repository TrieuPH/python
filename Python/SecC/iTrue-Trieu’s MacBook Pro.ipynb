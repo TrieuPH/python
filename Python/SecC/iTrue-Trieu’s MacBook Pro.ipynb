{
 "cells": [
  {
   "cell_type": "code",
   "execution_count": 4,
   "metadata": {},
   "outputs": [
    {
     "ename": "AttributeError",
     "evalue": "module 'network' has no attribute 'WLAN'",
     "output_type": "error",
     "traceback": [
      "\u001b[0;31m---------------------------------------------------------------------------\u001b[0m",
      "\u001b[0;31mAttributeError\u001b[0m                            Traceback (most recent call last)",
      "Cell \u001b[0;32mIn[4], line 62\u001b[0m\n\u001b[1;32m     46\u001b[0m         \u001b[39mreturn\u001b[39;00m ssids\n\u001b[1;32m     48\u001b[0m \u001b[39mif\u001b[39;00m \u001b[39m__name__\u001b[39m \u001b[39m==\u001b[39m \u001b[39m'\u001b[39m\u001b[39m__main__\u001b[39m\u001b[39m'\u001b[39m:\n\u001b[1;32m     49\u001b[0m     \u001b[39m# import pandas as pd\u001b[39;00m\n\u001b[1;32m     50\u001b[0m     \u001b[39m# # Create an empty DataFrame\u001b[39;00m\n\u001b[0;32m   (...)\u001b[0m\n\u001b[1;32m     60\u001b[0m     \u001b[39m# # Print the updated DataFrame\u001b[39;00m\n\u001b[1;32m     61\u001b[0m     \u001b[39m# print(df)\u001b[39;00m\n\u001b[0;32m---> 62\u001b[0m     \u001b[39mprint\u001b[39m(scan_wifi())\n",
      "Cell \u001b[0;32mIn[4], line 42\u001b[0m, in \u001b[0;36mscan_wifi\u001b[0;34m()\u001b[0m\n\u001b[1;32m     39\u001b[0m \u001b[39melse\u001b[39;00m:\n\u001b[1;32m     40\u001b[0m     \u001b[39mimport\u001b[39;00m \u001b[39mnetwork\u001b[39;00m\n\u001b[0;32m---> 42\u001b[0m     wlan \u001b[39m=\u001b[39m network\u001b[39m.\u001b[39;49mWLAN(network\u001b[39m.\u001b[39mSTA_IF)\n\u001b[1;32m     43\u001b[0m     wlan\u001b[39m.\u001b[39mactive(\u001b[39mTrue\u001b[39;00m)\n\u001b[1;32m     44\u001b[0m     nets \u001b[39m=\u001b[39m wlan\u001b[39m.\u001b[39mscan()\n",
      "\u001b[0;31mAttributeError\u001b[0m: module 'network' has no attribute 'WLAN'"
     ]
    }
   ],
   "source": [
    "# Author: iTrue\n",
    "# Date: 2023-04-14\n",
    "# Description: Scan WiFi SSIDs\n",
    "\n",
    "import os\n",
    "import pandas as pd\n",
    "import subprocess\n",
    "\n",
    "def get_wifi_networks():\n",
    "    cmd = 'netsh wlan show networks mode=Bssid'\n",
    "    output = subprocess.check_output(cmd, shell=True)\n",
    "    output = output.decode('utf-8')\n",
    "    networks = []\n",
    "    network = {}\n",
    "\n",
    "    for line in output.split('\\n'):\n",
    "        line = line.strip()\n",
    "        if line.startswith('SSID'):\n",
    "            if network:\n",
    "                networks.append(network)\n",
    "            network = {}\n",
    "            ssid = line.split(':')[1].strip()\n",
    "            network['wifiname'] = ssid\n",
    "        elif line.startswith('BSSID'):\n",
    "            bssid = line.split(':')[1].strip()\n",
    "            network['bssid'] = bssid\n",
    "        elif line.startswith('Authentication'):\n",
    "            auth = line.split(':')[1].strip()\n",
    "            network['authentication'] = auth\n",
    "    if network:\n",
    "        networks.append(network)\n",
    "    df = pd.DataFrame(networks)\n",
    "    return df\n",
    "\n",
    "def scan_wifi():\n",
    "    if os.name == 'nt':\n",
    "        return get_wifi_networks()\n",
    "\n",
    "    else:\n",
    "        import network\n",
    "\n",
    "        wlan = network.WLAN(network.STA_IF)\n",
    "        wlan.active(True)\n",
    "        nets = wlan.scan()\n",
    "        ssids = [n[0].decode() for n in nets]\n",
    "        return ssids\n",
    "    \n",
    "if __name__ == '__main__':\n",
    "    # import pandas as pd\n",
    "    # # Create an empty DataFrame\n",
    "    # df = pd.DataFrame(columns=['wifi name', 'ssid'])\n",
    "    # ssids = scan_wifi()\n",
    "\n",
    "    # # Create a list of dictionaries for appending data\n",
    "    # data = [{'wifi name': ssid[0], 'ssid': ssid[1]} for ssid in ssids]\n",
    "\n",
    "    # # Concatenate the list of dictionaries to the DataFrame\n",
    "    # df = pd.concat([df, pd.DataFrame(data)], ignore_index=True)\n",
    "\n",
    "    # # Print the updated DataFrame\n",
    "    # print(df)\n",
    "    print(scan_wifi())\n"
   ]
  },
  {
   "cell_type": "code",
   "execution_count": 3,
   "metadata": {},
   "outputs": [
    {
     "name": "stdout",
     "output_type": "stream",
     "text": [
      "Collecting network\n",
      "  Downloading network-0.1.tar.gz (2.8 kB)\n",
      "  Preparing metadata (setup.py) ... \u001b[?25ldone\n",
      "\u001b[?25hBuilding wheels for collected packages: network\n",
      "  Building wheel for network (setup.py) ... \u001b[?25ldone\n",
      "\u001b[?25h  Created wheel for network: filename=network-0.1-py3-none-any.whl size=3138 sha256=16657ac64b4813cc65f69b40276d5f6399d65d50308c8999732aa347db88ab5b\n",
      "  Stored in directory: /Users/trieupham/Library/Caches/pip/wheels/3a/9a/a4/341d3b109494a43a5cdd444ca83be3a4bfe8c1267ad9f85332\n",
      "Successfully built network\n",
      "Installing collected packages: network\n",
      "Successfully installed network-0.1\n"
     ]
    }
   ],
   "source": [
    "# Author: iTrue\n",
    "# Date: 2023-04-14\n",
    "# Description: Connect to WiFi with Python known SSID and password\n",
    "# !pip install network\n",
    "import network\n",
    "\n",
    "def connect_to_wifi(ssid, password):\n",
    "    wlan = network.WLAN(network.STA_IF)\n",
    "    wlan.active(True)\n",
    "    if not wlan.isconnected():\n",
    "        print('connecting to network...')\n",
    "        wlan.connect(ssid, password)\n",
    "        while not wlan.isconnected():\n",
    "            pass\n",
    "    print('network config:', wlan.ifconfig())"
   ]
  },
  {
   "cell_type": "code",
   "execution_count": 1,
   "metadata": {},
   "outputs": [
    {
     "name": "stderr",
     "output_type": "stream",
     "text": [
      "WARNING: No IPv4 address found on awdl0 !\n",
      "WARNING: No IPv4 address found on llw0 !\n",
      "WARNING: more No IPv4 address found on en2 !\n"
     ]
    },
    {
     "ename": "Scapy_Exception",
     "evalue": "Permission denied: could not open /dev/bpf0. Make sure to be running Scapy as root ! (sudo)",
     "output_type": "error",
     "traceback": [
      "\u001b[0;31m---------------------------------------------------------------------------\u001b[0m",
      "\u001b[0;31mPermissionError\u001b[0m                           Traceback (most recent call last)",
      "File \u001b[0;32m/usr/local/anaconda3/envs/py_env/lib/python3.11/site-packages/scapy/arch/bpf/core.py:147\u001b[0m, in \u001b[0;36mget_dev_bpf\u001b[0;34m()\u001b[0m\n\u001b[1;32m    146\u001b[0m \u001b[39mtry\u001b[39;00m:\n\u001b[0;32m--> 147\u001b[0m     fd \u001b[39m=\u001b[39m os\u001b[39m.\u001b[39;49mopen(\u001b[39m\"\u001b[39;49m\u001b[39m/dev/bpf\u001b[39;49m\u001b[39m%i\u001b[39;49;00m\u001b[39m\"\u001b[39;49m \u001b[39m%\u001b[39;49m bpf, os\u001b[39m.\u001b[39;49mO_RDWR)\n\u001b[1;32m    148\u001b[0m     \u001b[39mreturn\u001b[39;00m (fd, bpf)\n",
      "\u001b[0;31mPermissionError\u001b[0m: [Errno 13] Permission denied: '/dev/bpf0'",
      "\nDuring handling of the above exception, another exception occurred:\n",
      "\u001b[0;31mScapy_Exception\u001b[0m                           Traceback (most recent call last)",
      "Cell \u001b[0;32mIn[1], line 17\u001b[0m\n\u001b[1;32m     14\u001b[0m packet \u001b[39m=\u001b[39m ether\u001b[39m/\u001b[39marp\n\u001b[1;32m     16\u001b[0m \u001b[39m# send the packet and capture response\u001b[39;00m\n\u001b[0;32m---> 17\u001b[0m result \u001b[39m=\u001b[39m srp(packet, timeout\u001b[39m=\u001b[39;49m\u001b[39m3\u001b[39;49m, verbose\u001b[39m=\u001b[39;49m\u001b[39m0\u001b[39;49m)[\u001b[39m0\u001b[39m]\n\u001b[1;32m     19\u001b[0m \u001b[39m# parse the response\u001b[39;00m\n\u001b[1;32m     20\u001b[0m devices \u001b[39m=\u001b[39m []\n",
      "File \u001b[0;32m/usr/local/anaconda3/envs/py_env/lib/python3.11/site-packages/scapy/sendrecv.py:687\u001b[0m, in \u001b[0;36msrp\u001b[0;34m(x, promisc, iface, iface_hint, filter, nofilter, type, *args, **kargs)\u001b[0m\n\u001b[1;32m    685\u001b[0m     iface \u001b[39m=\u001b[39m conf\u001b[39m.\u001b[39mroute\u001b[39m.\u001b[39mroute(iface_hint)[\u001b[39m0\u001b[39m]\n\u001b[1;32m    686\u001b[0m iface \u001b[39m=\u001b[39m resolve_iface(iface \u001b[39mor\u001b[39;00m conf\u001b[39m.\u001b[39miface)\n\u001b[0;32m--> 687\u001b[0m s \u001b[39m=\u001b[39m iface\u001b[39m.\u001b[39;49ml2socket()(promisc\u001b[39m=\u001b[39;49mpromisc, iface\u001b[39m=\u001b[39;49miface,\n\u001b[1;32m    688\u001b[0m                      \u001b[39mfilter\u001b[39;49m\u001b[39m=\u001b[39;49m\u001b[39mfilter\u001b[39;49m, nofilter\u001b[39m=\u001b[39;49mnofilter, \u001b[39mtype\u001b[39;49m\u001b[39m=\u001b[39;49m\u001b[39mtype\u001b[39;49m)\n\u001b[1;32m    689\u001b[0m result \u001b[39m=\u001b[39m sndrcv(s, x, \u001b[39m*\u001b[39margs, \u001b[39m*\u001b[39m\u001b[39m*\u001b[39mkargs)\n\u001b[1;32m    690\u001b[0m s\u001b[39m.\u001b[39mclose()\n",
      "File \u001b[0;32m/usr/local/anaconda3/envs/py_env/lib/python3.11/site-packages/scapy/arch/bpf/supersocket.py:331\u001b[0m, in \u001b[0;36mL2bpfListenSocket.__init__\u001b[0;34m(self, *args, **kwargs)\u001b[0m\n\u001b[1;32m    329\u001b[0m \u001b[39mdef\u001b[39;00m \u001b[39m__init__\u001b[39m(\u001b[39mself\u001b[39m, \u001b[39m*\u001b[39margs, \u001b[39m*\u001b[39m\u001b[39m*\u001b[39mkwargs):\n\u001b[1;32m    330\u001b[0m     \u001b[39mself\u001b[39m\u001b[39m.\u001b[39mreceived_frames \u001b[39m=\u001b[39m []\n\u001b[0;32m--> 331\u001b[0m     \u001b[39msuper\u001b[39;49m(L2bpfListenSocket, \u001b[39mself\u001b[39;49m)\u001b[39m.\u001b[39;49m\u001b[39m__init__\u001b[39;49m(\u001b[39m*\u001b[39;49margs, \u001b[39m*\u001b[39;49m\u001b[39m*\u001b[39;49mkwargs)\n",
      "File \u001b[0;32m/usr/local/anaconda3/envs/py_env/lib/python3.11/site-packages/scapy/arch/bpf/supersocket.py:108\u001b[0m, in \u001b[0;36m_L2bpfSocket.__init__\u001b[0;34m(self, iface, type, promisc, filter, nofilter, monitor)\u001b[0m\n\u001b[1;32m    106\u001b[0m \u001b[39m# Get the BPF handle\u001b[39;00m\n\u001b[1;32m    107\u001b[0m \u001b[39mself\u001b[39m\u001b[39m.\u001b[39mins \u001b[39m=\u001b[39m \u001b[39mNone\u001b[39;00m\n\u001b[0;32m--> 108\u001b[0m (\u001b[39mself\u001b[39m\u001b[39m.\u001b[39mins, \u001b[39mself\u001b[39m\u001b[39m.\u001b[39mdev_bpf) \u001b[39m=\u001b[39m get_dev_bpf()\n\u001b[1;32m    109\u001b[0m \u001b[39mself\u001b[39m\u001b[39m.\u001b[39mouts \u001b[39m=\u001b[39m \u001b[39mself\u001b[39m\u001b[39m.\u001b[39mins\n\u001b[1;32m    111\u001b[0m \u001b[39mif\u001b[39;00m FREEBSD:\n\u001b[1;32m    112\u001b[0m     \u001b[39m# Set the BPF timeval format. Availability issues here !\u001b[39;00m\n",
      "File \u001b[0;32m/usr/local/anaconda3/envs/py_env/lib/python3.11/site-packages/scapy/arch/bpf/core.py:151\u001b[0m, in \u001b[0;36mget_dev_bpf\u001b[0;34m()\u001b[0m\n\u001b[1;32m    149\u001b[0m     \u001b[39mexcept\u001b[39;00m \u001b[39mOSError\u001b[39;00m \u001b[39mas\u001b[39;00m ex:\n\u001b[1;32m    150\u001b[0m         \u001b[39mif\u001b[39;00m ex\u001b[39m.\u001b[39merrno \u001b[39m==\u001b[39m \u001b[39m13\u001b[39m:  \u001b[39m# Permission denied\u001b[39;00m\n\u001b[0;32m--> 151\u001b[0m             \u001b[39mraise\u001b[39;00m Scapy_Exception((\n\u001b[1;32m    152\u001b[0m                 \u001b[39m\"\u001b[39m\u001b[39mPermission denied: could not open /dev/bpf\u001b[39m\u001b[39m%i\u001b[39;00m\u001b[39m. \u001b[39m\u001b[39m\"\u001b[39m\n\u001b[1;32m    153\u001b[0m                 \u001b[39m\"\u001b[39m\u001b[39mMake sure to be running Scapy as root ! (sudo)\u001b[39m\u001b[39m\"\u001b[39m\n\u001b[1;32m    154\u001b[0m             ) \u001b[39m%\u001b[39m bpf)\n\u001b[1;32m    155\u001b[0m         \u001b[39mcontinue\u001b[39;00m\n\u001b[1;32m    157\u001b[0m \u001b[39mraise\u001b[39;00m Scapy_Exception(\u001b[39m\"\u001b[39m\u001b[39mNo /dev/bpf handle is available !\u001b[39m\u001b[39m\"\u001b[39m)\n",
      "\u001b[0;31mScapy_Exception\u001b[0m: Permission denied: could not open /dev/bpf0. Make sure to be running Scapy as root ! (sudo)"
     ]
    }
   ],
   "source": [
    "# Author: iTrue\n",
    "# Date: 2023-04-14\n",
    "# Scan all devices on the network\n",
    "# !pip install scapy\n",
    "# !pip install requests\n",
    "\n",
    "from scapy.all import ARP, Ether, srp\n",
    "import requests\n",
    "# create ARP packet\n",
    "arp = ARP(pdst=\"192.168.1.0/24\")\n",
    "# create Ether broadcast packet\n",
    "ether = Ether(dst=\"ff:ff:ff:ff:ff:ff\")\n",
    "# combine the two packets\n",
    "packet = ether/arp\n",
    "\n",
    "# send the packet and capture response\n",
    "result = srp(packet, timeout=3, verbose=0)[0]\n",
    "\n",
    "# parse the response\n",
    "devices = []\n",
    "for sent, received in result:\n",
    "    device = {'ip': received.psrc, 'mac': received.hwsrc}\n",
    "    try:\n",
    "        device_name = requests.get(f\"https://api.macvendors.com/{received.hwsrc}\").text.strip()\n",
    "    except:\n",
    "        device_name = 'Unknown'\n",
    "    device['device_name'] = device_name\n",
    "    devices.append(device)\n",
    "\n",
    "# print the devices\n",
    "for device in devices:\n",
    "    print(device)\n"
   ]
  },
  {
   "cell_type": "code",
   "execution_count": 3,
   "metadata": {},
   "outputs": [
    {
     "name": "stdout",
     "output_type": "stream",
     "text": [
      "Collecting python-nmap\n",
      "  Downloading python-nmap-0.7.1.tar.gz (44 kB)\n",
      "\u001b[2K     \u001b[90m━━━━━━━━━━━━━━━━━━━━━━━━━━━━━━━━━━━━━━━\u001b[0m \u001b[32m44.4/44.4 kB\u001b[0m \u001b[31m728.9 kB/s\u001b[0m eta \u001b[36m0:00:00\u001b[0ma \u001b[36m0:00:01\u001b[0m\n",
      "\u001b[?25h  Preparing metadata (setup.py) ... \u001b[?25ldone\n",
      "\u001b[?25hBuilding wheels for collected packages: python-nmap\n",
      "  Building wheel for python-nmap (setup.py) ... \u001b[?25ldone\n",
      "\u001b[?25h  Created wheel for python-nmap: filename=python_nmap-0.7.1-py2.py3-none-any.whl size=20634 sha256=685bd2cbe0e041ffc30697e1146dd477b56adafc118fea7821c80ee5746a6ac6\n",
      "  Stored in directory: /Users/trieupham/Library/Caches/pip/wheels/4a/8c/1a/aaade88fbb18b99e001cea0921931af9c05bca4c4a72868b51\n",
      "Successfully built python-nmap\n",
      "Installing collected packages: python-nmap\n",
      "Successfully installed python-nmap-0.7.1\n"
     ]
    },
    {
     "ename": "KeyError",
     "evalue": "'192.168.1.1'",
     "output_type": "error",
     "traceback": [
      "\u001b[0;31m---------------------------------------------------------------------------\u001b[0m",
      "\u001b[0;31mKeyError\u001b[0m                                  Traceback (most recent call last)",
      "Cell \u001b[0;32mIn[3], line 14\u001b[0m\n\u001b[1;32m     11\u001b[0m nm\u001b[39m.\u001b[39mscan(target_host, arguments\u001b[39m=\u001b[39m\u001b[39m\"\u001b[39m\u001b[39m-sV -p-\u001b[39m\u001b[39m\"\u001b[39m)\n\u001b[1;32m     13\u001b[0m \u001b[39m# loop through all the open ports\u001b[39;00m\n\u001b[0;32m---> 14\u001b[0m \u001b[39mfor\u001b[39;00m port \u001b[39min\u001b[39;00m nm[target_host][\u001b[39m\"\u001b[39m\u001b[39mtcp\u001b[39m\u001b[39m\"\u001b[39m]:\n\u001b[1;32m     15\u001b[0m     \u001b[39mif\u001b[39;00m nm[target_host][\u001b[39m\"\u001b[39m\u001b[39mtcp\u001b[39m\u001b[39m\"\u001b[39m][port][\u001b[39m\"\u001b[39m\u001b[39mstate\u001b[39m\u001b[39m\"\u001b[39m] \u001b[39m==\u001b[39m \u001b[39m\"\u001b[39m\u001b[39mopen\u001b[39m\u001b[39m\"\u001b[39m:\n\u001b[1;32m     16\u001b[0m         \u001b[39mprint\u001b[39m(\u001b[39mf\u001b[39m\u001b[39m\"\u001b[39m\u001b[39mPort \u001b[39m\u001b[39m{\u001b[39;00mport\u001b[39m}\u001b[39;00m\u001b[39m is open\u001b[39m\u001b[39m\"\u001b[39m)\n",
      "File \u001b[0;32m/usr/local/anaconda3/envs/py_env/lib/python3.11/site-packages/nmap/nmap.py:600\u001b[0m, in \u001b[0;36mPortScanner.__getitem__\u001b[0;34m(self, host)\u001b[0m\n\u001b[1;32m    596\u001b[0m \u001b[39melse\u001b[39;00m:\n\u001b[1;32m    597\u001b[0m     \u001b[39massert\u001b[39;00m (\n\u001b[1;32m    598\u001b[0m         \u001b[39mtype\u001b[39m(host) \u001b[39mis\u001b[39;00m \u001b[39mstr\u001b[39m\n\u001b[1;32m    599\u001b[0m     ), \u001b[39mf\u001b[39m\u001b[39m\"\u001b[39m\u001b[39mWrong type for [host], should be a string [was \u001b[39m\u001b[39m{\u001b[39;00m\u001b[39mtype\u001b[39m(host)\u001b[39m}\u001b[39;00m\u001b[39m]\u001b[39m\u001b[39m\"\u001b[39m\n\u001b[0;32m--> 600\u001b[0m \u001b[39mreturn\u001b[39;00m \u001b[39mself\u001b[39;49m\u001b[39m.\u001b[39;49m_scan_result[\u001b[39m\"\u001b[39;49m\u001b[39mscan\u001b[39;49m\u001b[39m\"\u001b[39;49m][host]\n",
      "\u001b[0;31mKeyError\u001b[0m: '192.168.1.1'"
     ]
    }
   ],
   "source": [
    "\n",
    "\n",
    "!pip install python-nmap\n",
    "import nmap\n",
    "\n",
    "# initialize nmap scanner\n",
    "nm = nmap.PortScanner()\n",
    "\n",
    "# define the host to scan\n",
    "target_host = \"192.168.1.1\"\n",
    "\n",
    "# perform the scan\n",
    "nm.scan(target_host, arguments=\"-sV -p-\")\n",
    "\n",
    "# loop through all the open ports\n",
    "for port in nm[target_host][\"tcp\"]:\n",
    "    if nm[target_host][\"tcp\"][port][\"state\"] == \"open\":\n",
    "        print(f\"Port {port} is open\")\n",
    "\n"
   ]
  },
  {
   "cell_type": "code",
   "execution_count": 1,
   "metadata": {},
   "outputs": [
    {
     "name": "stderr",
     "output_type": "stream",
     "text": [
      "WARNING: No IPv4 address found on awdl0 !\n",
      "WARNING: No IPv4 address found on llw0 !\n",
      "WARNING: more No IPv4 address found on en2 !\n",
      "sudo: a terminal is required to read the password; either use the -S option to read from standard input or configure an askpass helper\n",
      "sudo: a password is required\n"
     ]
    },
    {
     "ename": "Scapy_Exception",
     "evalue": "Permission denied: could not open /dev/bpf0. Make sure to be running Scapy as root ! (sudo)",
     "output_type": "error",
     "traceback": [
      "\u001b[0;31m---------------------------------------------------------------------------\u001b[0m",
      "\u001b[0;31mPermissionError\u001b[0m                           Traceback (most recent call last)",
      "File \u001b[0;32m/usr/local/anaconda3/envs/py_env/lib/python3.11/site-packages/scapy/arch/bpf/core.py:147\u001b[0m, in \u001b[0;36mget_dev_bpf\u001b[0;34m()\u001b[0m\n\u001b[1;32m    146\u001b[0m \u001b[39mtry\u001b[39;00m:\n\u001b[0;32m--> 147\u001b[0m     fd \u001b[39m=\u001b[39m os\u001b[39m.\u001b[39;49mopen(\u001b[39m\"\u001b[39;49m\u001b[39m/dev/bpf\u001b[39;49m\u001b[39m%i\u001b[39;49;00m\u001b[39m\"\u001b[39;49m \u001b[39m%\u001b[39;49m bpf, os\u001b[39m.\u001b[39;49mO_RDWR)\n\u001b[1;32m    148\u001b[0m     \u001b[39mreturn\u001b[39;00m (fd, bpf)\n",
      "\u001b[0;31mPermissionError\u001b[0m: [Errno 13] Permission denied: '/dev/bpf0'",
      "\nDuring handling of the above exception, another exception occurred:\n",
      "\u001b[0;31mScapy_Exception\u001b[0m                           Traceback (most recent call last)",
      "Cell \u001b[0;32mIn[1], line 20\u001b[0m\n\u001b[1;32m     17\u001b[0m packet \u001b[39m=\u001b[39m ether\u001b[39m/\u001b[39marp\n\u001b[1;32m     19\u001b[0m \u001b[39m# send the packet and capture response\u001b[39;00m\n\u001b[0;32m---> 20\u001b[0m result \u001b[39m=\u001b[39m srp(packet, timeout\u001b[39m=\u001b[39;49m\u001b[39m3\u001b[39;49m, verbose\u001b[39m=\u001b[39;49m\u001b[39m0\u001b[39;49m)[\u001b[39m0\u001b[39m]\n\u001b[1;32m     22\u001b[0m \u001b[39m# parse the response\u001b[39;00m\n\u001b[1;32m     23\u001b[0m devices \u001b[39m=\u001b[39m []\n",
      "File \u001b[0;32m/usr/local/anaconda3/envs/py_env/lib/python3.11/site-packages/scapy/sendrecv.py:687\u001b[0m, in \u001b[0;36msrp\u001b[0;34m(x, promisc, iface, iface_hint, filter, nofilter, type, *args, **kargs)\u001b[0m\n\u001b[1;32m    685\u001b[0m     iface \u001b[39m=\u001b[39m conf\u001b[39m.\u001b[39mroute\u001b[39m.\u001b[39mroute(iface_hint)[\u001b[39m0\u001b[39m]\n\u001b[1;32m    686\u001b[0m iface \u001b[39m=\u001b[39m resolve_iface(iface \u001b[39mor\u001b[39;00m conf\u001b[39m.\u001b[39miface)\n\u001b[0;32m--> 687\u001b[0m s \u001b[39m=\u001b[39m iface\u001b[39m.\u001b[39;49ml2socket()(promisc\u001b[39m=\u001b[39;49mpromisc, iface\u001b[39m=\u001b[39;49miface,\n\u001b[1;32m    688\u001b[0m                      \u001b[39mfilter\u001b[39;49m\u001b[39m=\u001b[39;49m\u001b[39mfilter\u001b[39;49m, nofilter\u001b[39m=\u001b[39;49mnofilter, \u001b[39mtype\u001b[39;49m\u001b[39m=\u001b[39;49m\u001b[39mtype\u001b[39;49m)\n\u001b[1;32m    689\u001b[0m result \u001b[39m=\u001b[39m sndrcv(s, x, \u001b[39m*\u001b[39margs, \u001b[39m*\u001b[39m\u001b[39m*\u001b[39mkargs)\n\u001b[1;32m    690\u001b[0m s\u001b[39m.\u001b[39mclose()\n",
      "File \u001b[0;32m/usr/local/anaconda3/envs/py_env/lib/python3.11/site-packages/scapy/arch/bpf/supersocket.py:331\u001b[0m, in \u001b[0;36mL2bpfListenSocket.__init__\u001b[0;34m(self, *args, **kwargs)\u001b[0m\n\u001b[1;32m    329\u001b[0m \u001b[39mdef\u001b[39;00m \u001b[39m__init__\u001b[39m(\u001b[39mself\u001b[39m, \u001b[39m*\u001b[39margs, \u001b[39m*\u001b[39m\u001b[39m*\u001b[39mkwargs):\n\u001b[1;32m    330\u001b[0m     \u001b[39mself\u001b[39m\u001b[39m.\u001b[39mreceived_frames \u001b[39m=\u001b[39m []\n\u001b[0;32m--> 331\u001b[0m     \u001b[39msuper\u001b[39;49m(L2bpfListenSocket, \u001b[39mself\u001b[39;49m)\u001b[39m.\u001b[39;49m\u001b[39m__init__\u001b[39;49m(\u001b[39m*\u001b[39;49margs, \u001b[39m*\u001b[39;49m\u001b[39m*\u001b[39;49mkwargs)\n",
      "File \u001b[0;32m/usr/local/anaconda3/envs/py_env/lib/python3.11/site-packages/scapy/arch/bpf/supersocket.py:108\u001b[0m, in \u001b[0;36m_L2bpfSocket.__init__\u001b[0;34m(self, iface, type, promisc, filter, nofilter, monitor)\u001b[0m\n\u001b[1;32m    106\u001b[0m \u001b[39m# Get the BPF handle\u001b[39;00m\n\u001b[1;32m    107\u001b[0m \u001b[39mself\u001b[39m\u001b[39m.\u001b[39mins \u001b[39m=\u001b[39m \u001b[39mNone\u001b[39;00m\n\u001b[0;32m--> 108\u001b[0m (\u001b[39mself\u001b[39m\u001b[39m.\u001b[39mins, \u001b[39mself\u001b[39m\u001b[39m.\u001b[39mdev_bpf) \u001b[39m=\u001b[39m get_dev_bpf()\n\u001b[1;32m    109\u001b[0m \u001b[39mself\u001b[39m\u001b[39m.\u001b[39mouts \u001b[39m=\u001b[39m \u001b[39mself\u001b[39m\u001b[39m.\u001b[39mins\n\u001b[1;32m    111\u001b[0m \u001b[39mif\u001b[39;00m FREEBSD:\n\u001b[1;32m    112\u001b[0m     \u001b[39m# Set the BPF timeval format. Availability issues here !\u001b[39;00m\n",
      "File \u001b[0;32m/usr/local/anaconda3/envs/py_env/lib/python3.11/site-packages/scapy/arch/bpf/core.py:151\u001b[0m, in \u001b[0;36mget_dev_bpf\u001b[0;34m()\u001b[0m\n\u001b[1;32m    149\u001b[0m     \u001b[39mexcept\u001b[39;00m \u001b[39mOSError\u001b[39;00m \u001b[39mas\u001b[39;00m ex:\n\u001b[1;32m    150\u001b[0m         \u001b[39mif\u001b[39;00m ex\u001b[39m.\u001b[39merrno \u001b[39m==\u001b[39m \u001b[39m13\u001b[39m:  \u001b[39m# Permission denied\u001b[39;00m\n\u001b[0;32m--> 151\u001b[0m             \u001b[39mraise\u001b[39;00m Scapy_Exception((\n\u001b[1;32m    152\u001b[0m                 \u001b[39m\"\u001b[39m\u001b[39mPermission denied: could not open /dev/bpf\u001b[39m\u001b[39m%i\u001b[39;00m\u001b[39m. \u001b[39m\u001b[39m\"\u001b[39m\n\u001b[1;32m    153\u001b[0m                 \u001b[39m\"\u001b[39m\u001b[39mMake sure to be running Scapy as root ! (sudo)\u001b[39m\u001b[39m\"\u001b[39m\n\u001b[1;32m    154\u001b[0m             ) \u001b[39m%\u001b[39m bpf)\n\u001b[1;32m    155\u001b[0m         \u001b[39mcontinue\u001b[39;00m\n\u001b[1;32m    157\u001b[0m \u001b[39mraise\u001b[39;00m Scapy_Exception(\u001b[39m\"\u001b[39m\u001b[39mNo /dev/bpf handle is available !\u001b[39m\u001b[39m\"\u001b[39m)\n",
      "\u001b[0;31mScapy_Exception\u001b[0m: Permission denied: could not open /dev/bpf0. Make sure to be running Scapy as root ! (sudo)"
     ]
    }
   ],
   "source": [
    "# Author: iTrue\n",
    "# Date: 2023-05-12\n",
    "# Scan all devices on the network\n",
    "\n",
    "from scapy.all import ARP, Ether, srp\n",
    "import requests\n",
    "\n",
    "# Disable IPv6 on Mac\n",
    "import os\n",
    "os.system('sudo networksetup -setv6off Wi-Fi')\n",
    "\n",
    "# create ARP packet\n",
    "arp = ARP(pdst=\"192.168.1.0/24\")\n",
    "# create Ether broadcast packet\n",
    "ether = Ether(dst=\"ff:ff:ff:ff:ff:ff\")\n",
    "# combine the two packets\n",
    "packet = ether/arp\n",
    "\n",
    "# send the packet and capture response\n",
    "result = srp(packet, timeout=3, verbose=0)[0]\n",
    "\n",
    "# parse the response\n",
    "devices = []\n",
    "for sent, received in result:\n",
    "    device = {'ip': received.psrc, 'mac': received.hwsrc}\n",
    "    try:\n",
    "        device_name = requests.get(f\"https://api.macvendors.com/{received.hwsrc}\").text.strip()\n",
    "    except:\n",
    "        device_name = 'Unknown'\n",
    "    device['device_name'] = device_name\n",
    "    devices.append(device)\n",
    "\n",
    "# print the devices\n",
    "for device in devices:\n",
    "    print(device)\n"
   ]
  }
 ],
 "metadata": {
  "kernelspec": {
   "display_name": "myenv",
   "language": "python",
   "name": "python3"
  },
  "language_info": {
   "codemirror_mode": {
    "name": "ipython",
    "version": 3
   },
   "file_extension": ".py",
   "mimetype": "text/x-python",
   "name": "python",
   "nbconvert_exporter": "python",
   "pygments_lexer": "ipython3",
   "version": "3.11.3"
  },
  "orig_nbformat": 4
 },
 "nbformat": 4,
 "nbformat_minor": 2
}
