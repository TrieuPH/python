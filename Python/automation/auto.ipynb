{
 "cells": [
  {
   "cell_type": "code",
   "execution_count": 6,
   "metadata": {},
   "outputs": [
    {
     "name": "stdout",
     "output_type": "stream",
     "text": [
      "Requirement already satisfied: pyautogui in c:\\users\\trieu.pham\\anaconda3\\envs\\myenv\\lib\\site-packages (0.9.54)\n",
      "Requirement already satisfied: pymsgbox in c:\\users\\trieu.pham\\anaconda3\\envs\\myenv\\lib\\site-packages (from pyautogui) (1.0.9)\n",
      "Requirement already satisfied: pytweening>=1.0.4 in c:\\users\\trieu.pham\\anaconda3\\envs\\myenv\\lib\\site-packages (from pyautogui) (1.0.7)\n",
      "Requirement already satisfied: pyscreeze>=0.1.21 in c:\\users\\trieu.pham\\anaconda3\\envs\\myenv\\lib\\site-packages (from pyautogui) (0.1.29)\n",
      "Requirement already satisfied: pygetwindow>=0.0.5 in c:\\users\\trieu.pham\\anaconda3\\envs\\myenv\\lib\\site-packages (from pyautogui) (0.0.9)\n",
      "Requirement already satisfied: mouseinfo in c:\\users\\trieu.pham\\anaconda3\\envs\\myenv\\lib\\site-packages (from pyautogui) (0.1.3)\n",
      "Requirement already satisfied: pyrect in c:\\users\\trieu.pham\\anaconda3\\envs\\myenv\\lib\\site-packages (from pygetwindow>=0.0.5->pyautogui) (0.2.0)\n",
      "Requirement already satisfied: pyscreenshot in c:\\users\\trieu.pham\\anaconda3\\envs\\myenv\\lib\\site-packages (from pyscreeze>=0.1.21->pyautogui) (3.1)\n",
      "Requirement already satisfied: Pillow>=9.3.0 in c:\\users\\trieu.pham\\anaconda3\\envs\\myenv\\lib\\site-packages (from pyscreeze>=0.1.21->pyautogui) (9.5.0)\n",
      "Requirement already satisfied: pyperclip in c:\\users\\trieu.pham\\anaconda3\\envs\\myenv\\lib\\site-packages (from mouseinfo->pyautogui) (1.8.2)\n",
      "Requirement already satisfied: EasyProcess in c:\\users\\trieu.pham\\anaconda3\\envs\\myenv\\lib\\site-packages (from pyscreenshot->pyscreeze>=0.1.21->pyautogui) (1.1)\n",
      "Requirement already satisfied: entrypoint2 in c:\\users\\trieu.pham\\anaconda3\\envs\\myenv\\lib\\site-packages (from pyscreenshot->pyscreeze>=0.1.21->pyautogui) (1.1)\n",
      "Requirement already satisfied: mss in c:\\users\\trieu.pham\\anaconda3\\envs\\myenv\\lib\\site-packages (from pyscreenshot->pyscreeze>=0.1.21->pyautogui) (9.0.1)\n"
     ]
    }
   ],
   "source": [
    "!pip install pyautogui\n",
    "import pyautogui\n",
    "import time\n",
    "\n",
    "# List of numbers to enter\n",
    "numbers = [73, 126, 0, 199, -1, 92, 28, 0, 75, 83, 0, 71, 0, 175, 108, 151, 4, 0, 20, 97, 86, 23, 22, 93, 119, 1, 0, 78, 0, 0, 106, 39, 0, 80, 108, 1, 0, 51, 61, 38, 136, 0, 0, 0, 8, 0, 0, 0, 0]\n",
    "\n",
    "# Function to enter a number and press F3\n",
    "def enter_and_press_f3(number):\n",
    "    \n",
    "    pyautogui.typewrite(str(number))  # Type the number\n",
    "    time.sleep(1)  # Wait for 1 second\n",
    "    pyautogui.press('f3')  # Press F3 key\n",
    "time.sleep(5)  # Wait for 5 seconds\n",
    "# Loop through the numbers and automate the process\n",
    "for number in numbers:\n",
    "    enter_and_press_f3(number)\n"
   ]
  },
  {
   "cell_type": "code",
   "execution_count": 15,
   "metadata": {},
   "outputs": [
    {
     "name": "stdout",
     "output_type": "stream",
     "text": [
      "Please click on the 'Your App Window Title' window...\n"
     ]
    },
    {
     "name": "stderr",
     "output_type": "stream",
     "text": [
      "Unhandled exception in listener callback\n",
      "Traceback (most recent call last):\n",
      "  File \"c:\\Users\\trieu.pham\\anaconda3\\envs\\myenv\\Lib\\site-packages\\pynput\\_util\\win32.py\", line 386, in _handler\n",
      "    converted = self._convert(code, msg, lpdata)\n",
      "                ^^^^^^^^^^^^^^^^^^^^^^^^^^^^^^^^\n",
      "  File \"c:\\Users\\trieu.pham\\anaconda3\\envs\\myenv\\Lib\\site-packages\\pynput\\_util\\win32.py\", line 401, in _convert\n",
      "    raise NotImplementedError()\n",
      "NotImplementedError\n",
      "\n",
      "During handling of the above exception, another exception occurred:\n",
      "\n",
      "Traceback (most recent call last):\n",
      "  File \"c:\\Users\\trieu.pham\\anaconda3\\envs\\myenv\\Lib\\site-packages\\pynput\\_util\\__init__.py\", line 228, in inner\n",
      "    return f(self, *args, **kwargs)\n",
      "           ^^^^^^^^^^^^^^^^^^^^^^^^\n",
      "  File \"c:\\Users\\trieu.pham\\anaconda3\\envs\\myenv\\Lib\\site-packages\\pynput\\_util\\win32.py\", line 390, in _handler\n",
      "    self._handle(code, msg, lpdata)\n",
      "  File \"c:\\Users\\trieu.pham\\anaconda3\\envs\\myenv\\Lib\\site-packages\\pynput\\mouse\\_win32.py\", line 212, in _handle\n",
      "    self.on_click(data.pt.x, data.pt.y, button, pressed)\n",
      "  File \"c:\\Users\\trieu.pham\\anaconda3\\envs\\myenv\\Lib\\site-packages\\pynput\\_util\\__init__.py\", line 144, in inner\n",
      "    if f(*args) is False:\n",
      "       ^^^^^^^^\n",
      "  File \"C:\\Users\\trieu.pham\\AppData\\Local\\Temp\\ipykernel_20024\\2872577908.py\", line 20, in on_click\n",
      "    activate_window_by_title(app_title)\n",
      "                             ^^^^^^^^^\n",
      "UnboundLocalError: cannot access local variable 'app_title' where it is not associated with a value\n"
     ]
    },
    {
     "ename": "UnboundLocalError",
     "evalue": "cannot access local variable 'app_title' where it is not associated with a value",
     "output_type": "error",
     "traceback": [
      "\u001b[1;31m---------------------------------------------------------------------------\u001b[0m",
      "\u001b[1;31mNotImplementedError\u001b[0m                       Traceback (most recent call last)",
      "File \u001b[1;32mc:\\Users\\trieu.pham\\anaconda3\\envs\\myenv\\Lib\\site-packages\\pynput\\_util\\win32.py:386\u001b[0m, in \u001b[0;36mListenerMixin._handler\u001b[1;34m(self, code, msg, lpdata)\u001b[0m\n\u001b[0;32m    385\u001b[0m \u001b[39mtry\u001b[39;00m:\n\u001b[1;32m--> 386\u001b[0m     converted \u001b[39m=\u001b[39m \u001b[39mself\u001b[39m\u001b[39m.\u001b[39m_convert(code, msg, lpdata)\n\u001b[0;32m    387\u001b[0m     \u001b[39mif\u001b[39;00m converted \u001b[39mis\u001b[39;00m \u001b[39mnot\u001b[39;00m \u001b[39mNone\u001b[39;00m:\n",
      "File \u001b[1;32mc:\\Users\\trieu.pham\\anaconda3\\envs\\myenv\\Lib\\site-packages\\pynput\\_util\\win32.py:401\u001b[0m, in \u001b[0;36mListenerMixin._convert\u001b[1;34m(self, code, msg, lpdata)\u001b[0m\n\u001b[0;32m    396\u001b[0m \u001b[39m\u001b[39m\u001b[39m\"\"\"The device specific callback handler.\u001b[39;00m\n\u001b[0;32m    397\u001b[0m \n\u001b[0;32m    398\u001b[0m \u001b[39mThis method converts a low-level message and data to a\u001b[39;00m\n\u001b[0;32m    399\u001b[0m \u001b[39m``WPARAM`` / ``LPARAM`` pair.\u001b[39;00m\n\u001b[0;32m    400\u001b[0m \u001b[39m\"\"\"\u001b[39;00m\n\u001b[1;32m--> 401\u001b[0m \u001b[39mraise\u001b[39;00m \u001b[39mNotImplementedError\u001b[39;00m()\n",
      "\u001b[1;31mNotImplementedError\u001b[0m: ",
      "\nDuring handling of the above exception, another exception occurred:\n",
      "\u001b[1;31mUnboundLocalError\u001b[0m                         Traceback (most recent call last)",
      "Cell \u001b[1;32mIn[15], line 31\u001b[0m\n\u001b[0;32m     29\u001b[0m \u001b[39mwith\u001b[39;00m mouse\u001b[39m.\u001b[39mListener(on_click\u001b[39m=\u001b[39mon_click) \u001b[39mas\u001b[39;00m listener:\n\u001b[0;32m     30\u001b[0m     \u001b[39mprint\u001b[39m(\u001b[39mf\u001b[39m\u001b[39m\"\u001b[39m\u001b[39mPlease click on the \u001b[39m\u001b[39m'\u001b[39m\u001b[39m{\u001b[39;00mapp_title\u001b[39m}\u001b[39;00m\u001b[39m'\u001b[39m\u001b[39m window...\u001b[39m\u001b[39m\"\u001b[39m)\n\u001b[1;32m---> 31\u001b[0m     listener\u001b[39m.\u001b[39mjoin()\n\u001b[0;32m     33\u001b[0m     \u001b[39m# Wait until the mouse click event is detected and get the app window title\u001b[39;00m\n\u001b[0;32m     34\u001b[0m     clicked_app_title \u001b[39m=\u001b[39m on_click(\u001b[39mNone\u001b[39;00m, \u001b[39mNone\u001b[39;00m, \u001b[39mNone\u001b[39;00m, \u001b[39mTrue\u001b[39;00m)\n",
      "File \u001b[1;32mc:\\Users\\trieu.pham\\anaconda3\\envs\\myenv\\Lib\\site-packages\\pynput\\_util\\__init__.py:276\u001b[0m, in \u001b[0;36mAbstractListener.join\u001b[1;34m(self, *args)\u001b[0m\n\u001b[0;32m    274\u001b[0m \u001b[39mexcept\u001b[39;00m \u001b[39mTypeError\u001b[39;00m:\n\u001b[0;32m    275\u001b[0m     \u001b[39mreturn\u001b[39;00m\n\u001b[1;32m--> 276\u001b[0m six\u001b[39m.\u001b[39mreraise(exc_type, exc_value, exc_traceback)\n",
      "File \u001b[1;32mc:\\Users\\trieu.pham\\anaconda3\\envs\\myenv\\Lib\\site-packages\\six.py:718\u001b[0m, in \u001b[0;36mreraise\u001b[1;34m(tp, value, tb)\u001b[0m\n\u001b[0;32m    716\u001b[0m         value \u001b[39m=\u001b[39m tp()\n\u001b[0;32m    717\u001b[0m     \u001b[39mif\u001b[39;00m value\u001b[39m.\u001b[39m__traceback__ \u001b[39mis\u001b[39;00m \u001b[39mnot\u001b[39;00m tb:\n\u001b[1;32m--> 718\u001b[0m         \u001b[39mraise\u001b[39;00m value\u001b[39m.\u001b[39mwith_traceback(tb)\n\u001b[0;32m    719\u001b[0m     \u001b[39mraise\u001b[39;00m value\n\u001b[0;32m    720\u001b[0m \u001b[39mfinally\u001b[39;00m:\n",
      "File \u001b[1;32mc:\\Users\\trieu.pham\\anaconda3\\envs\\myenv\\Lib\\site-packages\\pynput\\_util\\__init__.py:228\u001b[0m, in \u001b[0;36mAbstractListener._emitter.<locals>.inner\u001b[1;34m(self, *args, **kwargs)\u001b[0m\n\u001b[0;32m    224\u001b[0m \u001b[39m@functools\u001b[39m\u001b[39m.\u001b[39mwraps(f)\n\u001b[0;32m    225\u001b[0m \u001b[39mdef\u001b[39;00m \u001b[39minner\u001b[39m(\u001b[39mself\u001b[39m, \u001b[39m*\u001b[39margs, \u001b[39m*\u001b[39m\u001b[39m*\u001b[39mkwargs):\n\u001b[0;32m    226\u001b[0m     \u001b[39m# pylint: disable=W0702; we want to catch all exception\u001b[39;00m\n\u001b[0;32m    227\u001b[0m     \u001b[39mtry\u001b[39;00m:\n\u001b[1;32m--> 228\u001b[0m         \u001b[39mreturn\u001b[39;00m f(\u001b[39mself\u001b[39m, \u001b[39m*\u001b[39margs, \u001b[39m*\u001b[39m\u001b[39m*\u001b[39mkwargs)\n\u001b[0;32m    229\u001b[0m     \u001b[39mexcept\u001b[39;00m \u001b[39mException\u001b[39;00m \u001b[39mas\u001b[39;00m e:\n\u001b[0;32m    230\u001b[0m         \u001b[39mif\u001b[39;00m \u001b[39mnot\u001b[39;00m \u001b[39misinstance\u001b[39m(e, \u001b[39mself\u001b[39m\u001b[39m.\u001b[39m_HANDLED_EXCEPTIONS):\n",
      "File \u001b[1;32mc:\\Users\\trieu.pham\\anaconda3\\envs\\myenv\\Lib\\site-packages\\pynput\\_util\\win32.py:390\u001b[0m, in \u001b[0;36mListenerMixin._handler\u001b[1;34m(self, code, msg, lpdata)\u001b[0m\n\u001b[0;32m    388\u001b[0m         \u001b[39mself\u001b[39m\u001b[39m.\u001b[39m_message_loop\u001b[39m.\u001b[39mpost(\u001b[39mself\u001b[39m\u001b[39m.\u001b[39m_WM_PROCESS, \u001b[39m*\u001b[39mconverted)\n\u001b[0;32m    389\u001b[0m \u001b[39mexcept\u001b[39;00m \u001b[39mNotImplementedError\u001b[39;00m:\n\u001b[1;32m--> 390\u001b[0m     \u001b[39mself\u001b[39m\u001b[39m.\u001b[39m_handle(code, msg, lpdata)\n\u001b[0;32m    392\u001b[0m \u001b[39mif\u001b[39;00m \u001b[39mself\u001b[39m\u001b[39m.\u001b[39msuppress:\n\u001b[0;32m    393\u001b[0m     \u001b[39mself\u001b[39m\u001b[39m.\u001b[39msuppress_event()\n",
      "File \u001b[1;32mc:\\Users\\trieu.pham\\anaconda3\\envs\\myenv\\Lib\\site-packages\\pynput\\mouse\\_win32.py:212\u001b[0m, in \u001b[0;36mListener._handle\u001b[1;34m(self, code, msg, lpdata)\u001b[0m\n\u001b[0;32m    210\u001b[0m \u001b[39melif\u001b[39;00m msg \u001b[39min\u001b[39;00m \u001b[39mself\u001b[39m\u001b[39m.\u001b[39mCLICK_BUTTONS:\n\u001b[0;32m    211\u001b[0m     button, pressed \u001b[39m=\u001b[39m \u001b[39mself\u001b[39m\u001b[39m.\u001b[39mCLICK_BUTTONS[msg]\n\u001b[1;32m--> 212\u001b[0m     \u001b[39mself\u001b[39m\u001b[39m.\u001b[39mon_click(data\u001b[39m.\u001b[39mpt\u001b[39m.\u001b[39mx, data\u001b[39m.\u001b[39mpt\u001b[39m.\u001b[39my, button, pressed)\n\u001b[0;32m    214\u001b[0m \u001b[39melif\u001b[39;00m msg \u001b[39min\u001b[39;00m \u001b[39mself\u001b[39m\u001b[39m.\u001b[39mX_BUTTONS:\n\u001b[0;32m    215\u001b[0m     button, pressed \u001b[39m=\u001b[39m \u001b[39mself\u001b[39m\u001b[39m.\u001b[39mX_BUTTONS[msg][data\u001b[39m.\u001b[39mmouseData \u001b[39m>>\u001b[39m \u001b[39m16\u001b[39m]\n",
      "File \u001b[1;32mc:\\Users\\trieu.pham\\anaconda3\\envs\\myenv\\Lib\\site-packages\\pynput\\_util\\__init__.py:144\u001b[0m, in \u001b[0;36mAbstractListener.__init__.<locals>.wrapper.<locals>.inner\u001b[1;34m(*args)\u001b[0m\n\u001b[0;32m    143\u001b[0m \u001b[39mdef\u001b[39;00m \u001b[39minner\u001b[39m(\u001b[39m*\u001b[39margs):\n\u001b[1;32m--> 144\u001b[0m     \u001b[39mif\u001b[39;00m f(\u001b[39m*\u001b[39margs) \u001b[39mis\u001b[39;00m \u001b[39mFalse\u001b[39;00m:\n\u001b[0;32m    145\u001b[0m         \u001b[39mraise\u001b[39;00m \u001b[39mself\u001b[39m\u001b[39m.\u001b[39mStopException()\n",
      "Cell \u001b[1;32mIn[15], line 20\u001b[0m, in \u001b[0;36mon_click\u001b[1;34m(x, y, button, pressed)\u001b[0m\n\u001b[0;32m     18\u001b[0m \u001b[39mdef\u001b[39;00m \u001b[39mon_click\u001b[39m(x, y, button, pressed):\n\u001b[0;32m     19\u001b[0m     \u001b[39mif\u001b[39;00m pressed:\n\u001b[1;32m---> 20\u001b[0m         activate_window_by_title(app_title)\n\u001b[0;32m     21\u001b[0m         app_window \u001b[39m=\u001b[39m gw\u001b[39m.\u001b[39mgetActiveWindow()\n\u001b[0;32m     22\u001b[0m         app_title \u001b[39m=\u001b[39m app_window\u001b[39m.\u001b[39mtitle \u001b[39mif\u001b[39;00m app_window \u001b[39melse\u001b[39;00m \u001b[39mNone\u001b[39;00m\n",
      "\u001b[1;31mUnboundLocalError\u001b[0m: cannot access local variable 'app_title' where it is not associated with a value"
     ]
    }
   ],
   "source": [
    "import pygetwindow as gw\n",
    "from pynput import mouse\n",
    "\n",
    "# Function to find the app window by its title\n",
    "def find_window_by_title(title):\n",
    "    try:\n",
    "        return gw.getWindowsWithTitle(title)[0]\n",
    "    except IndexError:\n",
    "        return None\n",
    "\n",
    "# Function to activate the app window by its title\n",
    "def activate_window_by_title(title):\n",
    "    app_window = find_window_by_title(title)\n",
    "    if app_window:\n",
    "        app_window.activate()  # Bring the app window to the front (if it's not already)\n",
    "\n",
    "# Function to get the title of the active window at the click position\n",
    "def on_click(x, y, button, pressed):\n",
    "    if pressed:\n",
    "        activate_window_by_title(app_title)\n",
    "        app_window = gw.getActiveWindow()\n",
    "        app_title = app_window.title if app_window else None\n",
    "        return app_title\n",
    "\n",
    "# Example usage:\n",
    "app_title = \"Your App Window Title\"  # Replace this with the actual title of the app window\n",
    "\n",
    "# Start monitoring mouse events\n",
    "with mouse.Listener(on_click=on_click) as listener:\n",
    "    print(f\"Please click on the '{app_title}' window...\")\n",
    "    listener.join()\n",
    "\n",
    "    # Wait until the mouse click event is detected and get the app window title\n",
    "    clicked_app_title = on_click(None, None, None, True)\n",
    "\n",
    "if clicked_app_title:\n",
    "    print(\"Clicked App Title:\", clicked_app_title)\n",
    "else:\n",
    "    print(f\"App window with title '{app_title}' not found.\")\n"
   ]
  },
  {
   "cell_type": "code",
   "execution_count": 27,
   "metadata": {},
   "outputs": [
    {
     "name": "stdout",
     "output_type": "stream",
     "text": [
      "Found the window of Remote Desktop Connection\n",
      "Typed and saved the text in Notepad++.\n"
     ]
    }
   ],
   "source": [
    "import time\n",
    "import pygetwindow as gw\n",
    "import pyautogui\n",
    "\n",
    "def find_app_window(app_title):\n",
    "    try:\n",
    "        app_window = gw.getWindowsWithTitle(app_title)[0]\n",
    "        return app_window\n",
    "    except IndexError:\n",
    "        return None\n",
    "\n",
    "# Replace \"Notepad++\" with the actual title of your Notepad++ window\n",
    "notepadpp_title = \"Remote Desktop Connection\"\n",
    "\n",
    "# Find the Notepad++ window\n",
    "notepadpp_window = find_app_window(notepadpp_title)\n",
    "\n",
    "if notepadpp_window:\n",
    "    print(f\"Found the window of {notepadpp_title}\")\n",
    "\n",
    "    # Minimize the Notepad++ window (optional)\n",
    "    notepadpp_window.minimize()\n",
    "\n",
    "    # Wait for 1 second to ensure the window is minimized\n",
    "    time.sleep(1)\n",
    "\n",
    "    # Restore the Notepad++ window (bring it to the front again)\n",
    "    notepadpp_window.restore()\n",
    "\n",
    "    # Wait for 1 second to ensure the window is active\n",
    "    time.sleep(1)\n",
    "\n",
    "    # Type some text into Notepad++ using pyautogui\n",
    "    text_to_type = \"Hello, this is an automation test with Python!\"\n",
    "    pyautogui.write(text_to_type, interval=0.1)  # You can adjust the interval to control typing speed\n",
    "\n",
    "    # Save the content to a file (Press Ctrl + S) using pyautogui\n",
    "    pyautogui.hotkey('ctrl', 's')\n",
    "\n",
    "    # Wait for 1 second to ensure the save dialog appears\n",
    "    time.sleep(1)\n",
    "\n",
    "    # Type the file name and press Enter to save the file using pyautogui\n",
    "    file_name = \"automation_test.txt\"\n",
    "    pyautogui.write(file_name, interval=0.1)\n",
    "    pyautogui.press('enter')\n",
    "\n",
    "    print(f\"Typed and saved the text in Notepad++.\")\n",
    "\n",
    "else:\n",
    "    print(f\"Window of {notepadpp_title} not found.\")\n"
   ]
  }
 ],
 "metadata": {
  "kernelspec": {
   "display_name": "myenv",
   "language": "python",
   "name": "python3"
  },
  "language_info": {
   "codemirror_mode": {
    "name": "ipython",
    "version": 3
   },
   "file_extension": ".py",
   "mimetype": "text/x-python",
   "name": "python",
   "nbconvert_exporter": "python",
   "pygments_lexer": "ipython3",
   "version": "3.11.3"
  },
  "orig_nbformat": 4
 },
 "nbformat": 4,
 "nbformat_minor": 2
}
