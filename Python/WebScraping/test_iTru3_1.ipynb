import unittest
import requests
from bs4 import BeautifulSoup

class TestiTru3(unittest.TestCase):
    def test_get_website_content(self):
        url = 'https://storefc.gs25.com.vn'
        headers = {'User-Agent': 'Mozilla/5.0 (Macintosh; Intel Mac OS X 10_11_5) AppleWebKit/537.36 (KHTML, like Gecko) Chrome/50.0.2661.102 Safari/537.36'}
        result = requests.get(url, headers=headers)
        self.assertEqual(result.status_code, 200)
        self.assertTrue(result.content)

    def test_export_content_to_text_file(self):
        with open('iTru3_1.txt', 'r', encoding='utf-8') as f:
            content = f.read()
        self.assertTrue(content)

    def test_get_all_links(self):
        with open('iTru3_2.txt', 'r', encoding='utf-8') as f:
            links = f.readlines()
        self.assertTrue(links)

    def test_remove_duplicate_links(self):
        with open('iTru3_2.txt', 'r', encoding='utf-8') as f:
            links = f.readlines()
        unique_links = list(set(links))
        self.assertEqual(len(links), len(unique_links))

if __name__ == '__main__':
    unittest.main()