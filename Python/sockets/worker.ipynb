{
 "cells": [
  {
   "cell_type": "code",
   "execution_count": 1,
   "metadata": {},
   "outputs": [
    {
     "name": "stdout",
     "output_type": "stream",
     "text": [
      " * Serving Flask app '__main__'\n",
      " * Debug mode: off\n"
     ]
    },
    {
     "name": "stderr",
     "output_type": "stream",
     "text": [
      "WARNING: This is a development server. Do not use it in a production deployment. Use a production WSGI server instead.\n",
      " * Running on all addresses (0.0.0.0)\n",
      " * Running on http://127.0.0.1:5000\n",
      " * Running on http://192.168.1.63:5000\n",
      "Press CTRL+C to quit\n"
     ]
    }
   ],
   "source": [
    "from flask import Flask, request, jsonify\n",
    "import multiprocessing\n",
    "\n",
    "app = Flask(__name__)\n",
    "\n",
    "def process_data(data):\n",
    "    # Your CPU-intensive worker function\n",
    "    result = sum(data)  # Example task\n",
    "    return result\n",
    "\n",
    "@app.route('/process', methods=['POST'])\n",
    "def handle_process_request():\n",
    "    if request.method == 'POST':\n",
    "        data = request.json.get('data', [])\n",
    "        # Run processing on multiple CPUs\n",
    "        with multiprocessing.Pool() as pool:\n",
    "            result = pool.apply_async(process_data, (data,))\n",
    "            result = result.get()\n",
    "\n",
    "        return jsonify({'result': result})\n",
    "\n",
    "if __name__ == \"__main__\":\n",
    "    app.run(host='0.0.0.0', port=5000)\n"
   ]
  }
 ],
 "metadata": {
  "kernelspec": {
   "display_name": "pyenv",
   "language": "python",
   "name": "python3"
  },
  "language_info": {
   "codemirror_mode": {
    "name": "ipython",
    "version": 3
   },
   "file_extension": ".py",
   "mimetype": "text/x-python",
   "name": "python",
   "nbconvert_exporter": "python",
   "pygments_lexer": "ipython3",
   "version": "3.12.4"
  }
 },
 "nbformat": 4,
 "nbformat_minor": 2
}
