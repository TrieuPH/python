{
 "cells": [
  {
   "cell_type": "code",
   "execution_count": 2,
   "metadata": {},
   "outputs": [],
   "source": [
    "# Author: iTrue\n",
    "# Date: 2023-04-14\n",
    "# Description: Connect to WiFi with Python known SSID and password\n",
    "\n",
    "import network\n",
    "\n",
    "def connect_to_wifi(ssid, password):\n",
    "    wlan = network.WLAN(network.STA_IF)\n",
    "    wlan.active(True)\n",
    "    if not wlan.isconnected():\n",
    "        print('connecting to network...')\n",
    "        wlan.connect(ssid, password)\n",
    "        while not wlan.isconnected():\n",
    "            pass\n",
    "    print('network config:', wlan.ifconfig())"
   ]
  }
 ],
 "metadata": {
  "kernelspec": {
   "display_name": "myenv",
   "language": "python",
   "name": "python3"
  },
  "language_info": {
   "codemirror_mode": {
    "name": "ipython",
    "version": 3
   },
   "file_extension": ".py",
   "mimetype": "text/x-python",
   "name": "python",
   "nbconvert_exporter": "python",
   "pygments_lexer": "ipython3",
   "version": "3.11.2"
  },
  "orig_nbformat": 4
 },
 "nbformat": 4,
 "nbformat_minor": 2
}
