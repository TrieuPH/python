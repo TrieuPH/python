{
 "cells": [
  {
   "cell_type": "code",
   "execution_count": 37,
   "metadata": {},
   "outputs": [
    {
     "name": "stdout",
     "output_type": "stream",
     "text": [
      "    wifiname authentication bssid\n",
      "0  BTMSecure  WPA2-Personal    80\n"
     ]
    }
   ],
   "source": [
    "# Author: iTrue\n",
    "# Date: 2023-04-14\n",
    "# Description: Scan WiFi SSIDs\n",
    "\n",
    "import os\n",
    "import pandas as pd\n",
    "import subprocess\n",
    "\n",
    "def get_wifi_networks():\n",
    "    cmd = 'netsh wlan show networks mode=Bssid'\n",
    "    output = subprocess.check_output(cmd, shell=True)\n",
    "    output = output.decode('utf-8')\n",
    "    networks = []\n",
    "    network = {}\n",
    "    for line in output.split('\\n'):\n",
    "        line = line.strip()\n",
    "        if line.startswith('SSID'):\n",
    "            if network:\n",
    "                networks.append(network)\n",
    "            network = {}\n",
    "            ssid = line.split(':')[1].strip()\n",
    "            network['wifiname'] = ssid\n",
    "        elif line.startswith('BSSID'):\n",
    "            bssid = line.split(':')[1].strip()\n",
    "            network['bssid'] = bssid\n",
    "        elif line.startswith('Authentication'):\n",
    "            auth = line.split(':')[1].strip()\n",
    "            network['authentication'] = auth\n",
    "    if network:\n",
    "        networks.append(network)\n",
    "    df = pd.DataFrame(networks)\n",
    "    return df\n",
    "\n",
    "def scan_wifi():\n",
    "    if os.name == 'nt':\n",
    "        return get_wifi_networks()\n",
    "\n",
    "    else:\n",
    "        import network\n",
    "\n",
    "        wlan = network.WLAN(network.STA_IF)\n",
    "        wlan.active(True)\n",
    "        nets = wlan.scan()\n",
    "        ssids = [n[0].decode() for n in nets]\n",
    "        return ssids\n",
    "    \n",
    "if __name__ == '__main__':\n",
    "    # import pandas as pd\n",
    "    # # Create an empty DataFrame\n",
    "    # df = pd.DataFrame(columns=['wifi name', 'ssid'])\n",
    "    # ssids = scan_wifi()\n",
    "\n",
    "    # # Create a list of dictionaries for appending data\n",
    "    # data = [{'wifi name': ssid[0], 'ssid': ssid[1]} for ssid in ssids]\n",
    "\n",
    "    # # Concatenate the list of dictionaries to the DataFrame\n",
    "    # df = pd.concat([df, pd.DataFrame(data)], ignore_index=True)\n",
    "\n",
    "    # # Print the updated DataFrame\n",
    "    # print(df)\n",
    "    print(scan_wifi())\n"
   ]
  },
  {
   "cell_type": "code",
   "execution_count": null,
   "metadata": {},
   "outputs": [],
   "source": [
    "# Author: iTrue\n",
    "# Date: 2023-04-14\n",
    "# Description: Connect to WiFi with Python known SSID and password\n",
    "\n",
    "import network\n",
    "\n",
    "def connect_to_wifi(ssid, password):\n",
    "    wlan = network.WLAN(network.STA_IF)\n",
    "    wlan.active(True)\n",
    "    if not wlan.isconnected():\n",
    "        print('connecting to network...')\n",
    "        wlan.connect(ssid, password)\n",
    "        while not wlan.isconnected():\n",
    "            pass\n",
    "    print('network config:', wlan.ifconfig())"
   ]
  }
 ],
 "metadata": {
  "kernelspec": {
   "display_name": "myenv",
   "language": "python",
   "name": "python3"
  },
  "language_info": {
   "codemirror_mode": {
    "name": "ipython",
    "version": 3
   },
   "file_extension": ".py",
   "mimetype": "text/x-python",
   "name": "python",
   "nbconvert_exporter": "python",
   "pygments_lexer": "ipython3",
   "version": "3.11.2"
  },
  "orig_nbformat": 4
 },
 "nbformat": 4,
 "nbformat_minor": 2
}
