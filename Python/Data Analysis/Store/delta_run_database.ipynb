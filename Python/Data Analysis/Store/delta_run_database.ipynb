{
 "cells": [
  {
   "cell_type": "code",
   "execution_count": 1,
   "metadata": {},
   "outputs": [
    {
     "name": "stdout",
     "output_type": "stream",
     "text": [
      "Database path:  C:\\Users\\trieu.pham\\Dropbox\\Projects\\database\\FCdata.db\n"
     ]
    }
   ],
   "source": [
    "import os\n",
    "import pandas as pd\n",
    "import sqlite3\n",
    "import glob\n",
    "import os\n",
    "import logging\n",
    "\n",
    "db_path_1 = r'C:\\Users\\trieu.pham\\Dropbox\\Projects\\database\\FCdata.db'\n",
    "db_path_2 = r'C:\\Users\\PC\\Dropbox\\Projects\\database\\FCdata.db'\n",
    "db_path_3 = '/Users/trieupham/Dropbox/Projects/database/FCdata.db' # Mac\n",
    "\n",
    "directory_1 = r'C:\\Users\\trieu.pham\\Dropbox\\Projects\\data_xls\\detailTrans'\n",
    "directory_2 = r'C:\\Users\\PC\\Dropbox\\Projects\\data_xls\\detailTrans'\n",
    "directory_3 = '/Users/trieupham/Dropbox/Projects/data_xls/detailTrans' # Mac\n",
    "\n",
    "# Define directories where your .xlsx files are located\n",
    "directory_sales_by_category_1 = r'C:\\Users\\trieu.pham\\Dropbox\\Projects\\data_xls\\salebycategory'\n",
    "directory_sales_by_category_2 = r'C:\\Users\\PC\\Dropbox\\Projects\\data_xls\\salebycategory'\n",
    "directory_sales_by_category_3 = '/Users/trieupham/Dropbox/Projects/data_xls/salebycategory' # Mac\n",
    "\n",
    "directory_sales_by_store_1 = r'C:\\Users\\trieu.pham\\Dropbox\\Projects\\data_xls\\salebystore'\n",
    "directory_sales_by_store_2 = r'C:\\Users\\PC\\Dropbox\\Projects\\data_xls\\salebystore'\n",
    "directory_sales_by_store_3 = '/Users/trieupham/Dropbox/Projects/data_xls/salebystore' # Mac\n",
    "\n",
    "processed_files_log_path_1 = r'C:\\Users\\trieu.pham\\Dropbox\\Projects\\github\\Python\\Python\\Data Analysis\\Store\\log'\n",
    "processed_files_log_path_2 = r'C:\\Users\\PC\\Dropbox\\Projects\\github\\Python\\Python\\Data Analysis\\Store\\log'\n",
    "processed_files_log_path_3 = '/Users/trieupham/Dropbox/Projects/github/Python/Python/Data Analysis/Store/log' # Mac\n",
    "\n",
    "import os\n",
    "# Check if db_path exists\n",
    "if os.path.exists(db_path_1):\n",
    "    db_path = db_path_1\n",
    "    directory = directory_1\n",
    "    print('Database path: ', db_path)\n",
    "else:\n",
    "    if(os.path.exists(db_path_3)):\n",
    "        db_path = db_path_3\n",
    "        directory = directory_3\n",
    "        print('Database path: ', db_path)\n",
    "    if(os.path.exists(db_path_2)):\n",
    "        db_path = db_path_2\n",
    "        directory = directory_2\n",
    "        print('Database path: ', db_path)\n",
    "# Check if directory_sales_by_category exists\n",
    "if os.path.exists(directory_sales_by_category_1):\n",
    "    directory_sales_by_category = directory_sales_by_category_1\n",
    "else:\n",
    "    if(os.path.exists(directory_sales_by_category_3)):\n",
    "        directory_sales_by_category = directory_sales_by_category_3\n",
    "    if(os.path.exists(directory_sales_by_category_2)):\n",
    "        directory_sales_by_category = directory_sales_by_category_2\n",
    "\n",
    "# Check if directory_sales_by_store exists\n",
    "if os.path.exists(directory_sales_by_store_1):\n",
    "    directory_sales_by_store = directory_sales_by_store_1\n",
    "else:\n",
    "    if(os.path.exists(directory_sales_by_store_3)):\n",
    "        directory_sales_by_store = directory_sales_by_store_3\n",
    "    if(os.path.exists(directory_sales_by_store_2)):\n",
    "        directory_sales_by_store = directory_sales_by_store_2\n",
    "\n",
    "# Check if processed_files_log_path exists\n",
    "if os.path.exists(processed_files_log_path_1):\n",
    "    processed_files_log_path = processed_files_log_path_1\n",
    "else:\n",
    "    if(os.path.exists(processed_files_log_path_3)):\n",
    "        processed_files_log_path = processed_files_log_path_3\n",
    "    if(os.path.exists(processed_files_log_path_2)):\n",
    "        processed_files_log_path = processed_files_log_path_2\n"
   ]
  },
  {
   "cell_type": "code",
   "execution_count": 2,
   "metadata": {},
   "outputs": [],
   "source": [
    "# With FCdata.db, check if table hrs_employee exists, if not, create it, with columns: emp_id, emp_name, emp_position, emp_status, password\n",
    "conn = sqlite3.connect(db_path)\n",
    "cursor = conn.cursor()\n",
    "\n",
    "cursor.execute('''\n",
    "    CREATE TABLE IF NOT EXISTS hrs_employee (\n",
    "        emp_id INTEGER PRIMARY KEY,\n",
    "        emp_name TEXT,\n",
    "        emp_position TEXT,\n",
    "        emp_status TEXT,\n",
    "        phone TEXT\n",
    "    )\n",
    "''')\n",
    "cursor.execute('''\n",
    "    CREATE TABLE IF NOT EXISTS hrs_employee_password (\n",
    "        emp_id INTEGER PRIMARY KEY,\n",
    "        password TEXT\n",
    "    )\n",
    "''')\n",
    "conn.commit()\n",
    "conn.close()"
   ]
  },
  {
   "cell_type": "code",
   "execution_count": 3,
   "metadata": {},
   "outputs": [],
   "source": [
    "# from selenium import webdriver\n",
    "# from selenium.webdriver.common.keys import Keys\n",
    "# from selenium.webdriver.common.by import By\n",
    "# from selenium.webdriver.chrome.service import Service\n",
    "# from webdriver_manager.chrome import ChromeDriverManager\n",
    "\n",
    "# # Automate web browser control\n",
    "# from selenium.webdriver.common.action_chains import ActionChains\n",
    "\n",
    "# # URL of the website\n",
    "# url = 'https://storefc.gs25.com.vn/'\n",
    "\n",
    "# # Set up the ChromeDriver service using webdriver-manager\n",
    "# service = Service(ChromeDriverManager().install())\n",
    "\n",
    "# # Open the website using webdriver\n",
    "# try:\n",
    "#     #driver = webdriver.Chrome(service=service)\n",
    "#     driver = webdriver.Chrome()\n",
    "#     driver.get(url)\n",
    "#     # Add any additional automation steps here\n",
    "# except Exception as e:\n",
    "#     print(f\"An error occurred: {e}\")\n",
    "   \n",
    "# finally:\n",
    "#     driver.quit()\n"
   ]
  },
  {
   "cell_type": "code",
   "execution_count": 7,
   "metadata": {},
   "outputs": [
    {
     "name": "stdout",
     "output_type": "stream",
     "text": [
      "['detailTransExport2024-06-20__6aa76d11-a63b-4988-9ab4-c6899d8947b0.xlsx', 'detailTransExport2024-06-21__c7814487-c61f-43ab-a183-c850ceeaae22.xlsx', 'detailTransExport2024-06-22__a91cca7c-d648-4134-ade0-05ba3971f8f1.xlsx', 'detailTransExport2024-06-23__0909e2a5-b6d6-4c49-89bc-ff803f419cc5.xlsx', 'detailTransExport2024-06-24__e3ff305d-2668-44f9-a58e-c9f58f47c780.xlsx', 'detailTransExport2024-06-25__c7e0db98-1124-4bfe-9870-74297a561fad.xlsx', 'detailTransExport2024-06-26__a266c0b4-bb1e-4479-896a-d1e5e5eb0afc.xlsx', 'detailTransExport2024-06-27__6b7dc416-ac95-46f1-9184-fdd485588fb6.xlsx', 'detailTransExport2024-06-28__403fe7e1-18bb-4934-8799-e9acf061e249.xlsx', 'detailTransExport2024-06-29__8080ab37-a998-42ca-a29a-e0ebb36722b3.xlsx', 'detailTransExport2024-06-30__1a69008b-72de-440b-af3c-7b12d9f7a72d.xlsx', 'detailTransExport2024-07-01__2d8ae62a-1bfb-4dbf-b3fe-7388d8458656.xlsx', 'detailTransExport2024-07-02__85645aa7-1b87-4b0e-b72b-79414fa801a1.xlsx', 'detailTransExport2024-07-03__0e685bdd-2af2-4208-8bdf-b87605fd2169.xlsx', 'detailTransExport2024-07-04__9de4dc39-c9db-44e8-a6aa-683277748508.xlsx', 'detailTransExport2024-07-05__25bb01c0-83f3-48bf-b85c-e646a7420d14.xlsx', 'detailTransExport2024-07-06__786b8329-ad13-4bfe-bce3-60a336ff0900.xlsx', 'detailTransExport2024-07-07__911e6071-2de8-4641-99e8-b39848cb47e2.xlsx', 'detailTransExport2024-07-08__21a7f9d2-c6d4-4565-9cdb-dd5a273cf450.xlsx', 'detailTransExport2024-07-09__e0017b4f-2d0f-45e2-9881-1c42e4a26220.xlsx', 'detailTransExport2024-07-10__ca00778a-246a-4352-9ec4-25bf1bb96a3c.xlsx', 'detailTransExport2024-07-11__705e13b7-81c3-4862-92a0-c03578e594af.xlsx', 'detailTransExport2024-07-12__4dcda209-4961-41c1-b614-ea924d532547.xlsx', 'detailTransExport2024-07-13__2a0d5ffc-4628-4c76-9d18-70780635b722.xlsx', 'detailTransExport2024-07-14__93966ae5-9dc2-40ed-afa1-0dd06cf26f21.xlsx', 'detailTransExport2024-07-15__e9a02a22-aa4f-4e95-b623-46b2bac68771.xlsx', 'detailTransExport2024-07-16__cd1ede71-a2a6-46b3-adcf-17301f3af5e3.xlsx', 'detailTransExport2024-07-17__8822d6e2-32e3-445a-aa3d-e0e679cb1dd4.xlsx', 'detailTransExport2024-07-18__d49b25fa-5ffc-43d6-99dd-a825cd2fec46.xlsx', 'detailTransExport2024-07-19__000b3db0-53af-4975-8f88-a1514f49c428.xlsx', 'detailTransExport2024-07-20__b2831f46-5663-48be-9720-e8d0f9f51764.xlsx', 'detailTransExport2024-07-21__cdb165a3-3117-4496-b042-12d1b6be5e82.xlsx', 'detailTransExport2024-07-22__0ebaf20b-bae2-485c-b628-40e2eaf7ae7c.xlsx', 'detailTransExport2024-07-23__838255ee-30f6-4af2-982b-b4e8b83d78e2.xlsx', 'detailTransExport2024-07-24__593f03d8-f35b-4d47-aa69-0c8aefe6ab7a.xlsx', 'detailTransExport2024-07-25__d685e0dc-498a-42bb-afda-95c8c2dfda72.xlsx', 'detailTransExport2024-07-26__f3504e8a-9791-4798-a067-3dfbf3d5b9c1.xlsx', 'detailTransExport2024-07-27__5623f11d-41bf-4b2a-a64d-4b7b99c07dc5.xlsx', 'detailTransExport2024-07-28__e38029f3-9ca9-4904-bb0c-b43e46fb0821.xlsx', 'detailTransExport2024-07-29__cd8cdded-cb01-46a7-b669-26dfedf73936.xlsx', 'detailTransExport2024-07-30__a2317949-3b53-47f5-9406-e31a3394d77d.xlsx', 'detailTransExport2024-07-31__7e4315fb-dfd9-46b8-991d-7bde4c8b22a9.xlsx', 'detailTransExport2024-08-01__e20cc26e-dd20-4390-978d-3309fc3ce298.xlsx', 'detailTransExport2024-08-02__3d10a666-2d71-4673-b49a-724f3c31d742.xlsx', 'detailTransExport2024-08-03__44639498-a5d7-47f7-a0b8-b6ceea52c254.xlsx', 'detailTransExport2024-08-04__20f0d4be-7dbf-4b34-916b-1cd148872b0a.xlsx', 'detailTransExport2024-08-05__b603ce1f-9b5f-451e-ac0b-f7c4066c0036.xlsx', 'detailTransExport2024-08-06__6ba78b35-ffe8-4b13-8dca-f435d2a46e9b.xlsx', 'detailTransExport2024-08-07__e9eef1fc-2139-40d5-b0f9-dd2b5045f39e.xlsx', 'detailTransExport2024-08-08__d4c7b607-058e-4332-892f-e66517867b36.xlsx', 'detailTransExport2024-08-09__45ee2b9b-47f8-4e7d-840d-81a2034b2960.xlsx', 'detailTransExport2024-08-10__a56d8fa0-eb38-412a-af14-ead7f61334e1.xlsx', 'detailTransExport2024-08-11__0f83e857-e486-45a9-9170-d881aaf956fe.xlsx', 'detailTransExport2024-08-12__64f3d11e-1e04-486e-807a-c9f161a9428a.xlsx', 'detailTransExport2024-08-13__0615a669-d15c-4e36-ae70-a12eeae76597.xlsx', 'detailTransExport2024-08-14__a878dead-2051-4cc5-a236-5c3bb903f02d.xlsx', 'detailTransExport2024-08-15__bbdae74c-c03f-497b-9cc9-4f1ef7686411.xlsx', 'detailTransExport2024-08-16__ae17ae5c-b153-43f6-b2a4-93c387827764.xlsx', 'detailTransExport2024-08-17__443da0cd-dde9-4ec8-bfa2-cfb37a2bab3b.xlsx', 'detailTransExport2024-08-18__7511e76b-6c3a-46df-b427-49d2face2980.xlsx', 'detailTransExport2024-08-19__9adc8fac-259f-4e5d-869e-435793adfe6c.xlsx', 'detailTransExport2024-08-20__b4f96728-a73f-4f1f-ab8b-cdac0aaee9fe.xlsx', 'detailTransExport2024-08-21__ac782d08-4583-4393-92be-a96e49c23d89.xlsx', 'detailTransExport2024-08-22__ec1206da-b327-4652-acd2-0cb897d4b2a0.xlsx', 'detailTransExport2024-08-23__6cecc38d-a9d5-4f66-8ed4-fe940ebdd667.xlsx', 'detailTransExport2024-08-24__ab1fbe95-6154-4f8d-bf13-aab885c52902.xlsx', 'detailTransExport2024-08-25__12af0ff0-353e-4bcf-85b1-b9cd5048ba36.xlsx']\n"
     ]
    },
    {
     "data": {
      "text/plain": [
       "[]"
      ]
     },
     "execution_count": 7,
     "metadata": {},
     "output_type": "execute_result"
    }
   ],
   "source": [
    "# Setup basic logging\n",
    "logging.basicConfig(level=logging.INFO, format='%(asctime)s - %(levelname)s - %(message)s')\n",
    "\n",
    "# List all .xlsx files in the directory\n",
    "xlsx_files = glob.glob(os.path.join(directory, '*.xlsx'))\n",
    "\n",
    "# Exclude files that have been processed in log file, check file name only, not full path\n",
    "\n",
    "processed_files = []\n",
    "if os.path.exists(os.path.join(processed_files_log_path, 'processed_files.log')):\n",
    "    with open(os.path.join(processed_files_log_path, 'processed_files.log'), 'r') as f:\n",
    "        processed_files = f.read().splitlines()\n",
    "\n",
    "# Ensure processed_files only contains base file names\n",
    "processed_files = [os.path.basename(file) for file in processed_files]\n",
    "\n",
    "# Files which are in xlsx_files but not in processed_files\n",
    "files_to_process = [file for file in xlsx_files if os.path.basename(file) not in processed_files]\n",
    "\n",
    "# Output the files to process\n",
    "files_to_process\n"
   ]
  },
  {
   "cell_type": "code",
   "execution_count": 5,
   "metadata": {},
   "outputs": [
    {
     "name": "stderr",
     "output_type": "stream",
     "text": [
      "2024-08-26 15:33:27,477 - INFO - All files have been processed.\n"
     ]
    }
   ],
   "source": [
    "# Define a function to create missing columns in the table\n",
    "def add_missing_columns(conn, df):\n",
    "    existing_columns = [row[1] for row in conn.execute(\"PRAGMA table_info(detail_trans);\")]\n",
    "    new_columns = [col for col in df.columns if col not in existing_columns]\n",
    "    \n",
    "    for col in new_columns:\n",
    "        conn.execute(f'ALTER TABLE detail_trans ADD COLUMN \"{col}\" FLOAT;')\n",
    "        logging.info(f'Added new column: {col}')\n",
    "\n",
    "# Define a function to rename specific columns\n",
    "def rename_columns(df):\n",
    "    rename_map = {\n",
    "        'Ví VNPAY': 'VNPAY',\n",
    "        'Tiền VND': 'VND',\n",
    "        'Ví MOMO': 'MOMO',\n",
    "        'Ví ZaloPay': 'ZaloPay',\n",
    "        'Grab Order': 'GrabOrder'\n",
    "    }\n",
    "    df.rename(columns=rename_map, inplace=True)\n",
    "    return df\n",
    "\n",
    "# Use a context manager to ensure the database connection is closed properly\n",
    "with sqlite3.connect(db_path) as conn:\n",
    "    for file in files_to_process:\n",
    "        try:\n",
    "            # Load the data from the .xlsx file into a DataFrame\n",
    "            df = pd.read_excel(file)\n",
    "            \n",
    "            # Rename specific columns to match the database schema\n",
    "            df = rename_columns(df)\n",
    "            \n",
    "            # Add any missing columns to the detail_trans table\n",
    "            add_missing_columns(conn, df)\n",
    "            \n",
    "            # Insert the data into the detail_trans table\n",
    "            df.to_sql('detail_trans', conn, if_exists='append', index=False)\n",
    "            \n",
    "            logging.info(f'Successfully inserted data from {file}')\n",
    "        # Record file run to log file\n",
    "            with open(os.path.join(processed_files_log_path, 'processed_files.log'), 'a') as f:\n",
    "                f.write(f'{file}\\n')\n",
    "        except Exception as e:\n",
    "            logging.error(f'Error inserting data from {file}: {e}')\n",
    "            # Optionally, continue to the next file or handle the error as needed\n",
    "\n",
    "# No need to explicitly commit or close the connection, as the context manager handles it\n",
    "logging.info('All files have been processed.')"
   ]
  }
 ],
 "metadata": {
  "kernelspec": {
   "display_name": "pyenv",
   "language": "python",
   "name": "python3"
  },
  "language_info": {
   "codemirror_mode": {
    "name": "ipython",
    "version": 3
   },
   "file_extension": ".py",
   "mimetype": "text/x-python",
   "name": "python",
   "nbconvert_exporter": "python",
   "pygments_lexer": "ipython3",
   "version": "3.12.4"
  }
 },
 "nbformat": 4,
 "nbformat_minor": 2
}
