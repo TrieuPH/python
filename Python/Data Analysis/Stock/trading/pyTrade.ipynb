{
 "cells": [
  {
   "cell_type": "code",
   "execution_count": 20,
   "metadata": {},
   "outputs": [
    {
     "name": "stdout",
     "output_type": "stream",
     "text": [
      "https://lite.iboard.ssi.com.vn/login\n"
     ]
    }
   ],
   "source": [
    "# Read config.ini and get broker section\n",
    "import configparser\n",
    "\n",
    "config = configparser.ConfigParser()\n",
    "config.read('config.ini')\n",
    "\n",
    "print(config.get('broker','site'))"
   ]
  },
  {
   "cell_type": "code",
   "execution_count": 34,
   "metadata": {},
   "outputs": [
    {
     "name": "stdout",
     "output_type": "stream",
     "text": [
      "Page title is: CTCP Chứng khoán SSI\n",
      "root\n",
      "frameLogin\n",
      "clip0_21987_156843\n",
      "clip0_21987_156854\n",
      "clip0_21987_156869\n",
      "clip0_21987_156877\n",
      "Error: Message: Element <div id=\"root\"> is not reachable by keyboard\n",
      "Stacktrace:\n",
      "RemoteError@chrome://remote/content/shared/RemoteError.sys.mjs:8:8\n",
      "WebDriverError@chrome://remote/content/shared/webdriver/Errors.sys.mjs:193:5\n",
      "ElementNotInteractableError@chrome://remote/content/shared/webdriver/Errors.sys.mjs:353:5\n",
      "webdriverSendKeysToElement@chrome://remote/content/marionette/interaction.sys.mjs:669:13\n",
      "interaction.sendKeysToElement@chrome://remote/content/marionette/interaction.sys.mjs:641:11\n",
      "sendKeysToElement@chrome://remote/content/marionette/actors/MarionetteCommandsChild.sys.mjs:523:29\n",
      "receiveMessage@chrome://remote/content/marionette/actors/MarionetteCommandsChild.sys.mjs:151:31\n",
      "\n"
     ]
    }
   ],
   "source": [
    "# Check if library is installed\n",
    "try:\n",
    "    from selenium import webdriver\n",
    "    from selenium.webdriver.firefox.service import Service\n",
    "    from selenium.webdriver.firefox.options import Options\n",
    "    from selenium.webdriver.common.by import By\n",
    "    from selenium.webdriver.support.ui import WebDriverWait\n",
    "    from selenium.webdriver.support import expected_conditions as EC\n",
    "    from selenium.webdriver.common.keys import Keys  # Import Keys\n",
    "except ImportError:\n",
    "    exit('Please install the selenium library with \"pip install selenium\"')\n",
    "\n",
    "# Get the site URL from the config\n",
    "site_url = config.get('broker', 'site')\n",
    "\n",
    "# Set up Firefox options for headless mode\n",
    "firefox_options = Options()\n",
    "# firefox_options.add_argument(\"--headless\")\n",
    "# firefox_options.add_argument(\"--disable-gpu\")\n",
    "# firefox_options.add_argument(\"--no-sandbox\")\n",
    "\n",
    "# Initialize the WebDriver with the headless options\n",
    "driver = webdriver.Firefox(options=firefox_options)\n",
    "\n",
    "# Open the browser and navigate to the site\n",
    "driver.get(site_url)\n",
    "\n",
    "# Wait for the page to load\n",
    "driver.implicitly_wait(10)\n",
    "\n",
    "## Since it headless, print the message to the console to confirm website is loaded # Debugging purpose\n",
    "\n",
    "if driver.title:\n",
    "    print('Page title is: %s' % driver.title)\n",
    "else:\n",
    "    print('No page title found')\n",
    "\n",
    "\n",
    "# Enter the username and password\n",
    "try:\n",
    "    # List out all id in the page\n",
    "    for i in driver.find_elements(By.XPATH, '//*[@id]'):\n",
    "        print(i.get_attribute('id'))\n",
    "\n",
    "except Exception as e:\n",
    "    print('Xpath not found')\n",
    "\n",
    "try:\n",
    "    # List out all class in the page\n",
    "    # Send focus to the site page title\n",
    "    driver.find_element(By.XPATH, '//*[@id=\"root\"]').click()\n",
    "\n",
    "    # Use JavaScript to focus on the element\n",
    "    element = driver.find_element(By.XPATH, '//*[@id=\"root\"]')\n",
    "    driver.execute_script(\"arguments[0].focus();\", element)\n",
    "\n",
    "    # Send the Tab key three times\n",
    "    for _ in range(3):\n",
    "        element.send_keys(Keys.TAB)\n",
    "\n",
    "    # Enter username and password\n",
    "    username = driver.find_element(By.XPATH, '//*[@id=\"txt-username\"]')\n",
    "    username.send_keys(config.get('broker', 'username'))\n",
    "    password = driver.find_element(By.XPATH, '//*[@id=\"txt-password\"]')\n",
    "    password.send_keys(config.get('broker', 'password'))\n",
    "\n",
    "except Exception as e:\n",
    "    print(\"Error: %s\" % e)\n",
    "    driver.quit()\n",
    "\n",
    "# Close web browser\n",
    "# driver.quit()\n"
   ]
  },
  {
   "cell_type": "code",
   "execution_count": null,
   "metadata": {},
   "outputs": [],
   "source": []
  }
 ],
 "metadata": {
  "kernelspec": {
   "display_name": "py_env",
   "language": "python",
   "name": "python3"
  },
  "language_info": {
   "codemirror_mode": {
    "name": "ipython",
    "version": 3
   },
   "file_extension": ".py",
   "mimetype": "text/x-python",
   "name": "python",
   "nbconvert_exporter": "python",
   "pygments_lexer": "ipython3",
   "version": "3.12.7"
  }
 },
 "nbformat": 4,
 "nbformat_minor": 2
}
