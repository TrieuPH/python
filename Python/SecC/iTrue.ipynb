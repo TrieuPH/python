{
 "cells": [
  {
   "cell_type": "code",
   "execution_count": 1,
   "metadata": {},
   "outputs": [
    {
     "name": "stdout",
     "output_type": "stream",
     "text": [
      "  wifiname authentication bssid\n",
      "0    Triet  WPA2-Personal    80\n"
     ]
    }
   ],
   "source": [
    "# Author: iTrue\n",
    "# Date: 2023-04-14\n",
    "# Description: Scan WiFi SSIDs\n",
    "\n",
    "import os\n",
    "import pandas as pd\n",
    "import subprocess\n",
    "\n",
    "def get_wifi_networks():\n",
    "    cmd = 'netsh wlan show networks mode=Bssid'\n",
    "    output = subprocess.check_output(cmd, shell=True)\n",
    "    output = output.decode('utf-8')\n",
    "    networks = []\n",
    "    network = {}\n",
    "    for line in output.split('\\n'):\n",
    "        line = line.strip()\n",
    "        if line.startswith('SSID'):\n",
    "            if network:\n",
    "                networks.append(network)\n",
    "            network = {}\n",
    "            ssid = line.split(':')[1].strip()\n",
    "            network['wifiname'] = ssid\n",
    "        elif line.startswith('BSSID'):\n",
    "            bssid = line.split(':')[1].strip()\n",
    "            network['bssid'] = bssid\n",
    "        elif line.startswith('Authentication'):\n",
    "            auth = line.split(':')[1].strip()\n",
    "            network['authentication'] = auth\n",
    "    if network:\n",
    "        networks.append(network)\n",
    "    df = pd.DataFrame(networks)\n",
    "    return df\n",
    "\n",
    "def scan_wifi():\n",
    "    if os.name == 'nt':\n",
    "        return get_wifi_networks()\n",
    "\n",
    "    else:\n",
    "        import network\n",
    "\n",
    "        wlan = network.WLAN(network.STA_IF)\n",
    "        wlan.active(True)\n",
    "        nets = wlan.scan()\n",
    "        ssids = [n[0].decode() for n in nets]\n",
    "        return ssids\n",
    "    \n",
    "if __name__ == '__main__':\n",
    "    # import pandas as pd\n",
    "    # # Create an empty DataFrame\n",
    "    # df = pd.DataFrame(columns=['wifi name', 'ssid'])\n",
    "    # ssids = scan_wifi()\n",
    "\n",
    "    # # Create a list of dictionaries for appending data\n",
    "    # data = [{'wifi name': ssid[0], 'ssid': ssid[1]} for ssid in ssids]\n",
    "\n",
    "    # # Concatenate the list of dictionaries to the DataFrame\n",
    "    # df = pd.concat([df, pd.DataFrame(data)], ignore_index=True)\n",
    "\n",
    "    # # Print the updated DataFrame\n",
    "    # print(df)\n",
    "    print(scan_wifi())\n"
   ]
  },
  {
   "cell_type": "code",
   "execution_count": null,
   "metadata": {},
   "outputs": [
    {
     "name": "stdout",
     "output_type": "stream",
     "text": [
      "Collecting network\n",
      "  Downloading network-0.1.tar.gz (2.8 kB)\n",
      "  Preparing metadata (setup.py) ... \u001b[?25ldone\n",
      "\u001b[?25hBuilding wheels for collected packages: network\n",
      "  Building wheel for network (setup.py) ... \u001b[?25ldone\n",
      "\u001b[?25h  Created wheel for network: filename=network-0.1-py3-none-any.whl size=3138 sha256=16657ac64b4813cc65f69b40276d5f6399d65d50308c8999732aa347db88ab5b\n",
      "  Stored in directory: /Users/trieupham/Library/Caches/pip/wheels/3a/9a/a4/341d3b109494a43a5cdd444ca83be3a4bfe8c1267ad9f85332\n",
      "Successfully built network\n",
      "Installing collected packages: network\n",
      "Successfully installed network-0.1\n"
     ]
    }
   ],
   "source": [
    "# Author: iTrue\n",
    "# Date: 2023-04-14\n",
    "# Description: Connect to WiFi with Python known SSID and password\n",
    "# !pip install network\n",
    "import network\n",
    "\n",
    "def connect_to_wifi(ssid, password):\n",
    "    wlan = network.WLAN(network.STA_IF)\n",
    "    wlan.active(True)\n",
    "    if not wlan.isconnected():\n",
    "        print('connecting to network...')\n",
    "        wlan.connect(ssid, password)\n",
    "        while not wlan.isconnected():\n",
    "            pass\n",
    "    print('network config:', wlan.ifconfig())"
   ]
  },
  {
   "cell_type": "code",
   "execution_count": 7,
   "metadata": {},
   "outputs": [
    {
     "name": "stdout",
     "output_type": "stream",
     "text": [
      "Available devices in the network:\n",
      "IP                  MAC                  Device Name\n",
      "192.168.1.1\t80:69:33:f6:8e:06\tHUAWEI TECHNOLOGIES CO.,LTD\n",
      "192.168.1.22\t60:d9:c7:dd:0c:19\tApple, Inc.\n",
      "192.168.1.34\ta2:03:c2:f2:c2:81\t{\"errors\":{\"detail\":\"Not Found\"}}\n",
      "192.168.1.63\t9c:b6:d0:ea:77:8d\tRivet Networks\n",
      "192.168.1.49\tc0:b5:d7:0e:c7:63\tCHONGQING FUGUI ELECTRONICS CO.,LTD.\n",
      "192.168.1.68\t9a:52:0e:e8:90:2a\t{\"errors\":{\"detail\":\"Not Found\"}}\n",
      "192.168.1.94\t9e:f4:0d:33:53:f3\t{\"errors\":{\"detail\":\"Not Found\"}}\n"
     ]
    }
   ],
   "source": [
    "# Author: iTrue\n",
    "# Date: 2023-04-14\n",
    "# Scan all devices on the network\n",
    "# !pip install scapy\n",
    "# !pip install requests\n",
    "\n",
    "from scapy.all import ARP, Ether, srp\n",
    "import requests\n",
    "# create ARP packet\n",
    "arp = ARP(pdst=\"192.168.1.0/24\")\n",
    "# create Ether broadcast packet\n",
    "ether = Ether(dst=\"ff:ff:ff:ff:ff:ff\")\n",
    "# combine the two packets\n",
    "packet = ether/arp\n",
    "\n",
    "# send the packet and capture response\n",
    "result = srp(packet, timeout=3, verbose=0)[0]\n",
    "\n",
    "# parse the response\n",
    "devices = []\n",
    "for sent, received in result:\n",
    "    device = {'ip': received.psrc, 'mac': received.hwsrc}\n",
    "    try:\n",
    "        device_name = requests.get(f\"https://api.macvendors.com/{received.hwsrc}\").text.strip()\n",
    "    except:\n",
    "        device_name = 'Unknown'\n",
    "    device['device_name'] = device_name\n",
    "    devices.append(device)\n",
    "\n",
    "# print the devices\n",
    "print(\"Available devices in the network:\")\n",
    "print(\"IP\" + \" \"*18+\"MAC\"+\" \"*18+\"Device Name\")\n",
    "for device in devices:\n",
    "    print(f\"{device['ip']}\\t{device['mac']}\\t{device['device_name']}\")\n"
   ]
  },
  {
   "cell_type": "code",
   "execution_count": 4,
   "metadata": {},
   "outputs": [
    {
     "name": "stdout",
     "output_type": "stream",
     "text": [
      "Requirement already satisfied: python-nmap in c:\\users\\trieu pham\\anaconda3\\envs\\py_env\\lib\\site-packages (0.7.1)\n",
      "Port 53 is open\n",
      "Port 80 is open\n",
      "Port 443 is open\n",
      "Port 27998 is open\n",
      "Port 37443 is open\n",
      "Port 37444 is open\n"
     ]
    }
   ],
   "source": [
    "# Author: iTrue\n",
    "# Date: 2023-04-14\n",
    "# Description: Using nmap to scan open ports\n",
    "\n",
    "!pip install python-nmap\n",
    "import nmap\n",
    "\n",
    "# initialize nmap scanner\n",
    "nm = nmap.PortScanner()\n",
    "\n",
    "# define the host to scan\n",
    "target_host = \"192.168.1.1\"\n",
    "\n",
    "# perform the scan\n",
    "nm.scan(target_host, arguments=\"-sV -p-\")\n",
    "\n",
    "# loop through all the open ports\n",
    "for port in nm[target_host][\"tcp\"]:\n",
    "    if nm[target_host][\"tcp\"][port][\"state\"] == \"open\":\n",
    "        print(f\"Port {port} is open\")\n",
    "\n"
   ]
  },
  {
   "cell_type": "code",
   "execution_count": 3,
   "metadata": {},
   "outputs": [
    {
     "name": "stdout",
     "output_type": "stream",
     "text": [
      "Interface: en0\n",
      "192.168.1.1\t80:69:33:f6:8e:06\tHUAWEI TECHNOLOGIES CO.,LTD\n",
      "192.168.1.63\t9c:b6:d0:ea:77:8d\tRivet Networks\n",
      "192.168.1.68\t9a:52:0e:e8:90:2a\t{\"errors\":{\"detail\":\"Not Found\"}}\n"
     ]
    }
   ],
   "source": [
    "\n",
    "\n",
    "from scapy.all import ARP, Ether, srp\n",
    "import requests\n",
    "\n",
    "# create ARP packet\n",
    "arp = ARP(pdst=\"192.168.1.0/24\")\n",
    "# create Ether broadcast packet\n",
    "ether = Ether(dst=\"ff:ff:ff:ff:ff:ff\")\n",
    "# combine the two packets\n",
    "packet = ether/arp\n",
    "\n",
    "# send the packet and capture response\n",
    "result = srp(packet, timeout=3, verbose=0)[0]\n",
    "\n",
    "# parse the response\n",
    "devices = []\n",
    "for sent, received in result:\n",
    "    device = {'ip': received.psrc, 'mac': received.hwsrc}\n",
    "    try:\n",
    "        device_name = requests.get(f\"https://api.macvendors.com/{received.hwsrc}\").text.strip()\n",
    "    except:\n",
    "        device_name = 'Unknown'\n",
    "    device['device_name'] = device_name\n",
    "    devices.append(device)\n",
    "\n",
    "# print the devices in the same format as arp -a command\n",
    "print(\"Interface: en0\")\n",
    "for device in devices:\n",
    "    print(f\"{device['ip']}\\t{device['mac']}\\t{device['device_name']}\")\n"
   ]
  },
  {
   "cell_type": "code",
   "execution_count": 5,
   "metadata": {},
   "outputs": [
    {
     "name": "stdout",
     "output_type": "stream",
     "text": [
      "Collecting pyRDP\n",
      "  Obtaining dependency information for pyRDP from https://files.pythonhosted.org/packages/09/8e/f103435f4529450e7c9c98aa76b3439c382f9b11025072d89a8dc59bdcd5/pyrdp-0.1.5-py3-none-any.whl.metadata\n",
      "  Using cached pyrdp-0.1.5-py3-none-any.whl.metadata (719 bytes)\n",
      "Requirement already satisfied: numpy>=1.23.4 in c:\\users\\trieu.pham\\anaconda3\\envs\\pyenv\\lib\\site-packages (from pyRDP) (1.26.0)\n",
      "Using cached pyrdp-0.1.5-py3-none-any.whl (2.8 kB)\n",
      "Installing collected packages: pyRDP\n",
      "Successfully installed pyRDP-0.1.5\n"
     ]
    },
    {
     "ename": "ModuleNotFoundError",
     "evalue": "No module named 'pyRDP'",
     "output_type": "error",
     "traceback": [
      "\u001b[1;31m---------------------------------------------------------------------------\u001b[0m",
      "\u001b[1;31mModuleNotFoundError\u001b[0m                       Traceback (most recent call last)",
      "\u001b[1;32mc:\\Users\\trieu.pham\\OneDrive - BTM Global Consulting\\Projects\\github\\python\\python\\SecC\\iTrue.ipynb Cell 6\u001b[0m line \u001b[0;36m1\n\u001b[0;32m      <a href='vscode-notebook-cell:/c%3A/Users/trieu.pham/OneDrive%20-%20BTM%20Global%20Consulting/Projects/github/python/python/SecC/iTrue.ipynb#W5sZmlsZQ%3D%3D?line=7'>8</a>\u001b[0m \u001b[39mif\u001b[39;00m importlib\u001b[39m.\u001b[39mutil\u001b[39m.\u001b[39mfind_spec(\u001b[39m'\u001b[39m\u001b[39mpyRDP\u001b[39m\u001b[39m'\u001b[39m) \u001b[39mis\u001b[39;00m \u001b[39mNone\u001b[39;00m:\n\u001b[0;32m      <a href='vscode-notebook-cell:/c%3A/Users/trieu.pham/OneDrive%20-%20BTM%20Global%20Consulting/Projects/github/python/python/SecC/iTrue.ipynb#W5sZmlsZQ%3D%3D?line=8'>9</a>\u001b[0m     get_ipython()\u001b[39m.\u001b[39msystem(\u001b[39m'\u001b[39m\u001b[39mpip install pyRDP\u001b[39m\u001b[39m'\u001b[39m)\n\u001b[1;32m---> <a href='vscode-notebook-cell:/c%3A/Users/trieu.pham/OneDrive%20-%20BTM%20Global%20Consulting/Projects/github/python/python/SecC/iTrue.ipynb#W5sZmlsZQ%3D%3D?line=10'>11</a>\u001b[0m \u001b[39mfrom\u001b[39;00m \u001b[39mpyRDP\u001b[39;00m \u001b[39mimport\u001b[39;00m RDP\n\u001b[0;32m     <a href='vscode-notebook-cell:/c%3A/Users/trieu.pham/OneDrive%20-%20BTM%20Global%20Consulting/Projects/github/python/python/SecC/iTrue.ipynb#W5sZmlsZQ%3D%3D?line=12'>13</a>\u001b[0m \u001b[39m# create an instance of the RDP class\u001b[39;00m\n\u001b[0;32m     <a href='vscode-notebook-cell:/c%3A/Users/trieu.pham/OneDrive%20-%20BTM%20Global%20Consulting/Projects/github/python/python/SecC/iTrue.ipynb#W5sZmlsZQ%3D%3D?line=13'>14</a>\u001b[0m rdp \u001b[39m=\u001b[39m RDP()\n",
      "\u001b[1;31mModuleNotFoundError\u001b[0m: No module named 'pyRDP'"
     ]
    }
   ],
   "source": [
    "# Author: iTrue\n",
    "# Date: 2023-04-14\n",
    "# Description: Create Remote Desktop Connection\n",
    "\n",
    "# !pip install pyRDP\n",
    "# Check if pyRDP is installed then install it if not\n",
    "import importlib\n",
    "if importlib.util.find_spec('pyRDP') is None:\n",
    "    !pip install pyRDP\n",
    "\n",
    "from pyRDP import RDP\n",
    "\n",
    "# create an instance of the RDP class\n",
    "rdp = RDP()\n",
    "\n",
    "your_username = 'BTMAdmin'\n",
    "your_password = 'Xstore@123'\n",
    "remote_host_address = '10.2.104.181'\n",
    "\n",
    "# set the connection parameters\n",
    "rdp.set_credentials(username='your_username', password='your_password')\n",
    "rdp.set_destination(address='remote_host_address', port=3389)\n",
    "\n",
    "# connect to the remote desktop\n",
    "rdp.connect()"
   ]
  }
 ],
 "metadata": {
  "kernelspec": {
   "display_name": "myenv",
   "language": "python",
   "name": "python3"
  },
  "language_info": {
   "codemirror_mode": {
    "name": "ipython",
    "version": 3
   },
   "file_extension": ".py",
   "mimetype": "text/x-python",
   "name": "python",
   "nbconvert_exporter": "python",
   "pygments_lexer": "ipython3",
   "version": "3.11.5"
  },
  "orig_nbformat": 4
 },
 "nbformat": 4,
 "nbformat_minor": 2
}
