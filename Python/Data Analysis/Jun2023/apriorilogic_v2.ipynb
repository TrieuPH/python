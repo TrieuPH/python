{
 "cells": [
  {
   "cell_type": "code",
   "execution_count": 1,
   "metadata": {},
   "outputs": [
    {
     "data": {
      "text/html": [
       "<div>\n",
       "<style scoped>\n",
       "    .dataframe tbody tr th:only-of-type {\n",
       "        vertical-align: middle;\n",
       "    }\n",
       "\n",
       "    .dataframe tbody tr th {\n",
       "        vertical-align: top;\n",
       "    }\n",
       "\n",
       "    .dataframe thead th {\n",
       "        text-align: right;\n",
       "    }\n",
       "</style>\n",
       "<table border=\"1\" class=\"dataframe\">\n",
       "  <thead>\n",
       "    <tr style=\"text-align: right;\">\n",
       "      <th></th>\n",
       "      <th>Barcode</th>\n",
       "      <th>Category Name</th>\n",
       "      <th>SubCategory Name</th>\n",
       "    </tr>\n",
       "  </thead>\n",
       "  <tbody>\n",
       "    <tr>\n",
       "      <th>0</th>\n",
       "      <td>28935049502245</td>\n",
       "      <td>Carbonated Drinks - CSD</td>\n",
       "      <td>Sugar CSD</td>\n",
       "    </tr>\n",
       "    <tr>\n",
       "      <th>1</th>\n",
       "      <td>8934822212339</td>\n",
       "      <td>Import Beer</td>\n",
       "      <td>Import Beer Can</td>\n",
       "    </tr>\n",
       "    <tr>\n",
       "      <th>2</th>\n",
       "      <td>8934588022425</td>\n",
       "      <td>Carbonated Drinks - CSD</td>\n",
       "      <td>Sugar CSD</td>\n",
       "    </tr>\n",
       "    <tr>\n",
       "      <th>3</th>\n",
       "      <td>8934588012426</td>\n",
       "      <td>Carbonated Drinks - CSD</td>\n",
       "      <td>Sugar CSD</td>\n",
       "    </tr>\n",
       "    <tr>\n",
       "      <th>4</th>\n",
       "      <td>8934588193552</td>\n",
       "      <td>Juice</td>\n",
       "      <td>WIC/RIC Juice</td>\n",
       "    </tr>\n",
       "    <tr>\n",
       "      <th>...</th>\n",
       "      <td>...</td>\n",
       "      <td>...</td>\n",
       "      <td>...</td>\n",
       "    </tr>\n",
       "    <tr>\n",
       "      <th>5526</th>\n",
       "      <td>3073780543989</td>\n",
       "      <td>Raw Material &amp; Packages</td>\n",
       "      <td>Raw material</td>\n",
       "    </tr>\n",
       "    <tr>\n",
       "      <th>5527</th>\n",
       "      <td>8935049510758</td>\n",
       "      <td>Flavored Milk</td>\n",
       "      <td>Flavored Milk Sub</td>\n",
       "    </tr>\n",
       "    <tr>\n",
       "      <th>5528</th>\n",
       "      <td>8809055511965</td>\n",
       "      <td>Raw Material &amp; Packages</td>\n",
       "      <td>Raw material</td>\n",
       "    </tr>\n",
       "    <tr>\n",
       "      <th>5529</th>\n",
       "      <td>14100074106</td>\n",
       "      <td>Cookies</td>\n",
       "      <td>Other cookies</td>\n",
       "    </tr>\n",
       "    <tr>\n",
       "      <th>5530</th>\n",
       "      <td>4895138305648</td>\n",
       "      <td>Candy Category</td>\n",
       "      <td>Hard Candy</td>\n",
       "    </tr>\n",
       "  </tbody>\n",
       "</table>\n",
       "<p>5531 rows × 3 columns</p>\n",
       "</div>"
      ],
      "text/plain": [
       "             Barcode            Category Name   SubCategory Name\n",
       "0     28935049502245  Carbonated Drinks - CSD          Sugar CSD\n",
       "1      8934822212339              Import Beer    Import Beer Can\n",
       "2      8934588022425  Carbonated Drinks - CSD          Sugar CSD\n",
       "3      8934588012426  Carbonated Drinks - CSD          Sugar CSD\n",
       "4      8934588193552                    Juice      WIC/RIC Juice\n",
       "...              ...                      ...                ...\n",
       "5526   3073780543989  Raw Material & Packages       Raw material\n",
       "5527   8935049510758            Flavored Milk  Flavored Milk Sub\n",
       "5528   8809055511965  Raw Material & Packages       Raw material\n",
       "5529     14100074106                  Cookies      Other cookies\n",
       "5530   4895138305648           Candy Category         Hard Candy\n",
       "\n",
       "[5531 rows x 3 columns]"
      ]
     },
     "execution_count": 1,
     "metadata": {},
     "output_type": "execute_result"
    }
   ],
   "source": [
    "import dataRead as dr\n",
    "### Read DataPayment.xlsx file and return a DataCategory dataframe\n",
    "cateFileDir = r'C:\\Users\\Trieu Pham\\OneDrive - BTM Global Consulting\\Projects\\github\\python\\python\\Data Analysis\\DataCate.xlsx'\n",
    "df_cate = dr.DataCate(cateFileDir)\n",
    "df_cate"
   ]
  },
  {
   "cell_type": "code",
   "execution_count": 5,
   "metadata": {},
   "outputs": [
    {
     "name": "stdout",
     "output_type": "stream",
     "text": [
      "Reading file:  C:\\Users\\Trieu Pham\\OneDrive - BTM Global Consulting\\Projects\\data\\230101 Payment Summary - 2023-01-03T093340.600.xlsx\n"
     ]
    }
   ],
   "source": [
    "import dataRead as dr\n",
    "output_file_name = 'DataPayment'\n",
    "output_file_dir = r'C:\\Users\\Trieu Pham\\OneDrive - BTM Global Consulting\\Projects\\data csv\\outputFile'\n",
    "input_file_dir = r'C:\\Users\\Trieu Pham\\OneDrive - BTM Global Consulting\\Projects\\data'\n",
    "\n",
    "dr.DataPayment(df_cate, input_file_dir , output_file_name, output_file_dir)"
   ]
  },
  {
   "cell_type": "code",
   "execution_count": null,
   "metadata": {},
   "outputs": [],
   "source": [
    "outputfolder = r'C:\\Users\\Trieu Pham\\OneDrive - BTM Global Consulting\\Projects\\data csv'\n",
    "df = df_paymnet.merge(df_cate, on='Barcode')\n",
    "dr.ToCsv(df, 'data', outputfolder)"
   ]
  },
  {
   "cell_type": "code",
   "execution_count": null,
   "metadata": {},
   "outputs": [],
   "source": [
    "df"
   ]
  }
 ],
 "metadata": {
  "kernelspec": {
   "display_name": "myenv",
   "language": "python",
   "name": "python3"
  },
  "language_info": {
   "codemirror_mode": {
    "name": "ipython",
    "version": 3
   },
   "file_extension": ".py",
   "mimetype": "text/x-python",
   "name": "python",
   "nbconvert_exporter": "python",
   "pygments_lexer": "ipython3",
   "version": "3.11.3"
  },
  "orig_nbformat": 4
 },
 "nbformat": 4,
 "nbformat_minor": 2
}
