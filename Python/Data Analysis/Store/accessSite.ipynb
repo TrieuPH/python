{
 "cells": [
  {
   "cell_type": "code",
   "execution_count": null,
   "metadata": {},
   "outputs": [],
   "source": [
    "import configparser\n",
    "import traceback\n",
    "import os\n",
    "from selenium import webdriver\n",
    "from selenium.webdriver.edge.service import Service as EdgeService\n",
    "from selenium.webdriver.edge.options import Options\n",
    "from selenium.webdriver.common.by import By\n",
    "from selenium.webdriver.support.ui import WebDriverWait\n",
    "from selenium.webdriver.support import expected_conditions as EC\n",
    "\n",
    "try:\n",
    "    # Read the config.ini file\n",
    "    script_dir = os.getcwd()\n",
    "    # print(script_dir)\n",
    "    config_path = os.path.join(script_dir, 'config', 'config.ini')\n",
    "\n",
    "    config = configparser.ConfigParser()\n",
    "    config.read(config_path)\n",
    "    # print(config_path)\n",
    "\n",
    "    # Get the site URL from the config file\n",
    "    site_url = config['site']['url']\n",
    "\n",
    "    # Get the login credentials from the config file\n",
    "    username = config['login']['username']\n",
    "    password = config['login']['password']\n",
    "\n",
    "    # Set up the Edge WebDriver\n",
    "    edge_driver_path = os.path.join(script_dir, 'driver','msedgedriver.exe')\n",
    "    service = EdgeService(edge_driver_path)\n",
    "\n",
    "except Exception as e:\n",
    "    print(\"An error occurred:\")\n",
    "    traceback.print_exc()\n",
    "\n",
    "options = Options()\n",
    "options.use_chromium = True\n",
    "driver = webdriver.Edge(service=service, options=options)\n",
    "\n",
    "def open_browser(site_url):\n",
    "    try:\n",
    "        # Open the browser\n",
    "        \n",
    "        driver.get(site_url)\n",
    "        \n",
    "\n",
    "    except Exception as e:\n",
    "        print(\"An error occurred:\")\n",
    "        traceback.print_exc()\n",
    "\n",
    "def login(username, password):\n",
    "    try:\n",
    "        # Find the username and password fields and enter the login credentials\n",
    "        driver.find_element(By.XPATH, '/html/body/div[1]/section/section/main/div/div/div[1]/div/div/div/div/div/div[2]/div/section/form/div/div/div/div/div/div/div[1]/div/div/div/div[1]/div[1]/div/input').send_keys(username)\n",
    "        driver.find_element(By.XPATH,'/html/body/div[1]/section/section/main/div/div/div[1]/div/div/div/div/div/div[2]/div/section/form/div/div/div/div/div/div/div[1]/div/div/div/div[1]/div[2]/div/input').send_keys(password)\n",
    "        # Find the login button and click it\n",
    "        driver.find_element(By.XPATH, '/html/body/div[1]/section/section/main/div/div/div[1]/div/div/div/div/div/div[2]/div/section/form/div/div/div/div/div/div/div[1]/div/div/div/div[2]/div/button').click()\n",
    "        return driver\n",
    "    except Exception as e:\n",
    "        print(\"An error occurred:\")\n",
    "        traceback.print_exc()"
   ]
  },
  {
   "cell_type": "code",
   "execution_count": 13,
   "metadata": {},
   "outputs": [
    {
     "name": "stdout",
     "output_type": "stream",
     "text": [
      "An error occurred:\n"
     ]
    },
    {
     "name": "stderr",
     "output_type": "stream",
     "text": [
      "Traceback (most recent call last):\n",
      "  File \"C:\\Users\\PC\\AppData\\Local\\Temp\\ipykernel_25456\\3653759998.py\", line 5, in <module>\n",
      "    WebDriverWait(driver, 10).until(EC.presence_of_element_located((By.XPATH, '/html/body/div[1]/section/aside/div/div[2]/div/ul/li[4]/div')))\n",
      "  File \"c:\\Users\\PC\\anaconda3\\envs\\pyenv\\lib\\site-packages\\selenium\\webdriver\\support\\wait.py\", line 105, in until\n",
      "    raise TimeoutException(message, screen, stacktrace)\n",
      "selenium.common.exceptions.TimeoutException: Message: \n",
      "Stacktrace:\n",
      "\t(No symbol) [0x00007FF615726B05]\n",
      "\tMicrosoft::Applications::Events::EventProperty::empty [0x00007FF615A4F454+1437348]\n",
      "\tsqlite3_dbdata_init [0x00007FF615AF2D86+643174]\n",
      "\t(No symbol) [0x00007FF61564C9DB]\n",
      "\t(No symbol) [0x00007FF61564CAE3]\n",
      "\t(No symbol) [0x00007FF6156892F7]\n",
      "\t(No symbol) [0x00007FF61566C1DF]\n",
      "\t(No symbol) [0x00007FF615643437]\n",
      "\t(No symbol) [0x00007FF615686BFF]\n",
      "\t(No symbol) [0x00007FF61566BE03]\n",
      "\t(No symbol) [0x00007FF615642984]\n",
      "\t(No symbol) [0x00007FF615641E30]\n",
      "\t(No symbol) [0x00007FF615642571]\n",
      "\tMicrosoft::Applications::Events::EventProperty::empty [0x00007FF6159FBAE4+1094964]\n",
      "\t(No symbol) [0x00007FF6157632B8]\n",
      "\tMicrosoft::Applications::Events::EventProperty::empty [0x00007FF6159FAF23+1091955]\n",
      "\tMicrosoft::Applications::Events::EventProperty::empty [0x00007FF6159FAA89+1090777]\n",
      "\tMicrosoft::Applications::Events::ILogConfiguration::operator* [0x00007FF615800C91+461553]\n",
      "\tMicrosoft::Applications::Events::ILogConfiguration::operator* [0x00007FF6157FC9B4+444436]\n",
      "\tMicrosoft::Applications::Events::ILogConfiguration::operator* [0x00007FF6157FCAF9+444761]\n",
      "\tMicrosoft::Applications::Events::ILogConfiguration::operator* [0x00007FF6157F2176+401366]\n",
      "\tBaseThreadInitThunk [0x00007FFE5DE4259D+29]\n",
      "\tRtlUserThreadStart [0x00007FFE5F7EAF38+40]\n",
      "\n"
     ]
    }
   ],
   "source": [
    "open_browser(site_url)\n",
    "login(username, password)\n",
    "# Wait until to xpath is found, using wait DC\n",
    "try:\n",
    "    WebDriverWait(driver, 10).until(EC.presence_of_element_located((By.XPATH, '/html/body/div[1]/section/aside/div/div[2]/div/ul/li[4]/div')))\n",
    "    print(\"Login successful\")\n",
    "    #driver.get(site_url)\n",
    "except Exception as e:\n",
    "    print(\"An error occurred:\")\n",
    "    traceback.print_exc()\n",
    "\n",
    "\n"
   ]
  }
 ],
 "metadata": {
  "kernelspec": {
   "display_name": "pyenv",
   "language": "python",
   "name": "python3"
  },
  "language_info": {
   "codemirror_mode": {
    "name": "ipython",
    "version": 3
   },
   "file_extension": ".py",
   "mimetype": "text/x-python",
   "name": "python",
   "nbconvert_exporter": "python",
   "pygments_lexer": "ipython3",
   "version": "3.10.13"
  }
 },
 "nbformat": 4,
 "nbformat_minor": 2
}
