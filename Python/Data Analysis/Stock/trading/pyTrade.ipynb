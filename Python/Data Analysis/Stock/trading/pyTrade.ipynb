{
 "cells": [
  {
   "cell_type": "code",
   "execution_count": 3,
   "metadata": {},
   "outputs": [
    {
     "name": "stdout",
     "output_type": "stream",
     "text": [
      "https://iboard.ssi.com.vn\n"
     ]
    }
   ],
   "source": [
    "# Read config.ini and get broker section\n",
    "import configparser\n",
    "\n",
    "config = configparser.ConfigParser()\n",
    "config.read('config.ini')\n",
    "\n",
    "print(config.get('broker','site'))"
   ]
  },
  {
   "cell_type": "code",
   "execution_count": 11,
   "metadata": {},
   "outputs": [
    {
     "name": "stdout",
     "output_type": "stream",
     "text": [
      "Login button found\n",
      "Login button not found\n"
     ]
    }
   ],
   "source": [
    "# Check if library is installed\n",
    "try:\n",
    "    from selenium import webdriver\n",
    "    from selenium.webdriver.firefox.service import Service\n",
    "    from selenium.webdriver.firefox.options import Options\n",
    "    from selenium.webdriver.common.by import By\n",
    "except ImportError:\n",
    "    exit('Please install the selenium library with \"pip install selenium\"')\n",
    "\n",
    "# Get the site URL from the config\n",
    "site_url = config.get('broker', 'site')\n",
    "\n",
    "# Set up Firefox options for headless mode\n",
    "firefox_options = Options()\n",
    "firefox_options.add_argument(\"--headless\")\n",
    "firefox_options.add_argument(\"--disable-gpu\")\n",
    "firefox_options.add_argument(\"--no-sandbox\")\n",
    "\n",
    "# Initialize the WebDriver with the headless options\n",
    "driver = webdriver.Firefox(options=firefox_options)\n",
    "\n",
    "# Open the browser and navigate to the site\n",
    "driver.get(site_url)\n",
    "\n",
    "# Wait for the page to load\n",
    "driver.implicitly_wait(10)\n",
    "\n",
    "## Since it headless, print the message to the console to confirm website is loaded # Debugging purpose\n",
    "\n",
    "# if driver.title:\n",
    "#     print('Page title is: %s' % driver.title)\n",
    "# else:\n",
    "#     print('No page title found')\n",
    "\n",
    "# Print the page source to the text file\n",
    "with open('page_source.txt', 'w') as file:\n",
    "    file.write(driver.page_source)\n",
    "\n",
    "# Search the button name \"Login\" or \"Đăng nhập\" in Vietnamese in page source. If found, print the message to the console\n",
    "\n",
    "if 'Login' in driver.page_source or 'Đăng nhập' in driver.page_source:\n",
    "    print('Login button found')\n",
    "    # Click the login button that has the text 'Login'\n",
    "    try:\n",
    "        login_button = driver.find_element(By.CSS_SELECTOR, 'html body.scrollbar-thin.scrollbar-thumb-rounded-full.scrollbar-thumb-scroll.theme-classic div#root div.master-layout.bg-primary.text-color-primary.relative header#header.header div.top-header.h-8.px-2.md:px-2 div.flex.items-center.justify-items-end.h-full div div.user-guest button.btn.button-control.small.bg-crimson')\n",
    "        login_button.click()\n",
    "    except:\n",
    "        print('Login button not found')\n",
    "else:\n",
    "    try:\n",
    "        # If 'Đăng nhập' found, click the button\n",
    "        login_button = driver.find_element(By.LINK_TEXT, 'Đăng nhập')\n",
    "        login_button.click()\n",
    "        print('Đăng nhập button found')\n",
    "    except:\n",
    "        print('Đăng nhập button not found')\n",
    "\n",
    "    \n",
    "# Wait for the page to load\n",
    "driver.implicitly_wait(10)\n",
    "# Check if Username and Password fields are present\n",
    "if 'Username' in driver.page_source and 'Password' in driver.page_source:\n",
    "    print('Username and Password fields found')\n",
    "\n",
    "# Close web browser\n",
    "driver.quit()"
   ]
  },
  {
   "cell_type": "code",
   "execution_count": null,
   "metadata": {},
   "outputs": [],
   "source": []
  }
 ],
 "metadata": {
  "kernelspec": {
   "display_name": "py_env",
   "language": "python",
   "name": "python3"
  },
  "language_info": {
   "codemirror_mode": {
    "name": "ipython",
    "version": 3
   },
   "file_extension": ".py",
   "mimetype": "text/x-python",
   "name": "python",
   "nbconvert_exporter": "python",
   "pygments_lexer": "ipython3",
   "version": "3.12.7"
  }
 },
 "nbformat": 4,
 "nbformat_minor": 2
}
