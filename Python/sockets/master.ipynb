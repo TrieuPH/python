{
 "cells": [
  {
   "cell_type": "code",
   "execution_count": null,
   "metadata": {},
   "outputs": [],
   "source": [
    "import requests\n",
    "import multiprocessing\n",
    "import json\n",
    "\n",
    "def process_data_locally(data):\n",
    "    # Your CPU-intensive local function\n",
    "    result = sum(data)  # Example of CPU-intensive task\n",
    "    return result\n",
    "\n",
    "def send_data_to_worker(data_chunk):\n",
    "    url = \"http://192.168.1.63:5000/process\"  # Replace worker_pc_ip with the IP of the worker PC\n",
    "    # Convert data_chunk (range) to a list for JSON serialization\n",
    "    response = requests.post(url, json={'data': list(data_chunk)})\n",
    "    if response.status_code == 200:\n",
    "        return response.json()['result']\n",
    "    else:\n",
    "        print(\"Error communicating with the worker\")\n",
    "        return None\n",
    "\n",
    "\n",
    "if __name__ == \"__main__\":\n",
    "    # Your data to process\n",
    "    data = range(1, 1000000)\n",
    "\n",
    "    # Split data into two parts: one for local processing, one for the worker\n",
    "    data_chunks = [data[:len(data)//2], data[len(data)//2:]]\n",
    "\n",
    "    # Process part of the data locally\n",
    "    with multiprocessing.Pool() as pool:\n",
    "        local_result = pool.apply_async(process_data_locally, (data_chunks[0],))\n",
    "\n",
    "    # Send the other part to the worker PC\n",
    "    worker_result = send_data_to_worker(data_chunks[1])\n",
    "\n",
    "    # Collect the local result\n",
    "    local_result = local_result.get()\n",
    "\n",
    "    # Combine results from both local and worker\n",
    "    total_result = local_result + worker_result\n",
    "\n",
    "    print(\"Final Result:\", total_result)\n"
   ]
  }
 ],
 "metadata": {
  "kernelspec": {
   "display_name": "pyenv",
   "language": "python",
   "name": "python3"
  },
  "language_info": {
   "codemirror_mode": {
    "name": "ipython",
    "version": 3
   },
   "file_extension": ".py",
   "mimetype": "text/x-python",
   "name": "python",
   "nbconvert_exporter": "python",
   "pygments_lexer": "ipython3",
   "version": "3.10.13"
  }
 },
 "nbformat": 4,
 "nbformat_minor": 2
}
