{
 "cells": [
  {
   "cell_type": "code",
   "execution_count": 7,
   "metadata": {},
   "outputs": [
    {
     "ename": "ImportError",
     "evalue": "Unable to import required dependencies:\nnumpy: Error importing numpy: you should not try to import numpy from\n        its source directory; please exit the numpy source tree, and relaunch\n        your python interpreter from there.",
     "output_type": "error",
     "traceback": [
      "\u001b[1;31m---------------------------------------------------------------------------\u001b[0m",
      "\u001b[1;31mImportError\u001b[0m                               Traceback (most recent call last)",
      "Cell \u001b[1;32mIn[7], line 21\u001b[0m\n\u001b[0;32m     18\u001b[0m \u001b[38;5;66;03m# Install or upgrade numpy\u001b[39;00m\n\u001b[0;32m     19\u001b[0m install_or_upgrade(\u001b[38;5;124m\"\u001b[39m\u001b[38;5;124mnumpy\u001b[39m\u001b[38;5;124m\"\u001b[39m, version\u001b[38;5;241m=\u001b[39m\u001b[38;5;124m\"\u001b[39m\u001b[38;5;124m1.21.0\u001b[39m\u001b[38;5;124m\"\u001b[39m)\n\u001b[1;32m---> 21\u001b[0m \u001b[38;5;28;01mimport\u001b[39;00m \u001b[38;5;21;01mpandas\u001b[39;00m \u001b[38;5;28;01mas\u001b[39;00m \u001b[38;5;21;01mpd\u001b[39;00m\n\u001b[0;32m     22\u001b[0m \u001b[38;5;28;01mfrom\u001b[39;00m \u001b[38;5;21;01mdatetime\u001b[39;00m \u001b[38;5;28;01mimport\u001b[39;00m datetime, timedelta\n\u001b[0;32m     24\u001b[0m \u001b[38;5;66;03m# Read the CSV data into a DataFrame\u001b[39;00m\n",
      "File \u001b[1;32mc:\\Users\\trieu.pham\\anaconda3\\envs\\pyenv\\Lib\\site-packages\\pandas\\__init__.py:32\u001b[0m\n\u001b[0;32m     28\u001b[0m \u001b[38;5;28;01mif\u001b[39;00m _missing_dependencies:  \u001b[38;5;66;03m# pragma: no cover\u001b[39;00m\n\u001b[0;32m     29\u001b[0m     \u001b[38;5;28;01mraise\u001b[39;00m \u001b[38;5;167;01mImportError\u001b[39;00m(\n\u001b[0;32m     30\u001b[0m         \u001b[38;5;124m\"\u001b[39m\u001b[38;5;124mUnable to import required dependencies:\u001b[39m\u001b[38;5;130;01m\\n\u001b[39;00m\u001b[38;5;124m\"\u001b[39m \u001b[38;5;241m+\u001b[39m \u001b[38;5;124m\"\u001b[39m\u001b[38;5;130;01m\\n\u001b[39;00m\u001b[38;5;124m\"\u001b[39m\u001b[38;5;241m.\u001b[39mjoin(_missing_dependencies)\n\u001b[0;32m     31\u001b[0m     )\n\u001b[1;32m---> 32\u001b[0m \u001b[38;5;28;01mdel\u001b[39;00m _hard_dependencies, _dependency, _missing_dependencies\n\u001b[0;32m     34\u001b[0m \u001b[38;5;28;01mtry\u001b[39;00m:\n\u001b[0;32m     35\u001b[0m     \u001b[38;5;66;03m# numpy compat\u001b[39;00m\n\u001b[0;32m     36\u001b[0m     \u001b[38;5;28;01mfrom\u001b[39;00m \u001b[38;5;21;01mpandas\u001b[39;00m\u001b[38;5;21;01m.\u001b[39;00m\u001b[38;5;21;01mcompat\u001b[39;00m \u001b[38;5;28;01mimport\u001b[39;00m (\n\u001b[0;32m     37\u001b[0m         is_numpy_dev \u001b[38;5;28;01mas\u001b[39;00m _is_numpy_dev,  \u001b[38;5;66;03m# pyright: ignore[reportUnusedImport] # noqa: F401,E501\u001b[39;00m\n\u001b[0;32m     38\u001b[0m     )\n",
      "\u001b[1;31mImportError\u001b[0m: Unable to import required dependencies:\nnumpy: Error importing numpy: you should not try to import numpy from\n        its source directory; please exit the numpy source tree, and relaunch\n        your python interpreter from there."
     ]
    }
   ],
   "source": [
    "# Check if pandas is installed and upgrade if necessary\n",
    "import subprocess\n",
    "import pkg_resources\n",
    "\n",
    "def install_or_upgrade(package, version=None):\n",
    "    try:\n",
    "        current_version = pkg_resources.get_distribution(package).version\n",
    "        if version and current_version < version:\n",
    "            subprocess.check_call([\"pip\", \"install\", \"--upgrade\", f\"{package}=={version}\"])\n",
    "        elif not version:\n",
    "            subprocess.check_call([\"pip\", \"install\", package])\n",
    "    except pkg_resources.DistributionNotFound:\n",
    "        subprocess.check_call([\"pip\", \"install\", package])\n",
    "\n",
    "# Install or upgrade pandas\n",
    "install_or_upgrade(\"pandas\", version=\"1.3.0\")\n",
    "\n",
    "# Install or upgrade numpy\n",
    "install_or_upgrade(\"numpy\", version=\"1.21.0\")\n",
    "\n",
    "import pandas as pd\n",
    "from datetime import datetime, timedelta\n",
    "\n",
    "# Read the CSV data into a DataFrame\n",
    "df = pd.read_csv('test.csv', skipinitialspace=True)\n",
    "\n",
    "# Create a function to convert the time string to a timedelta object\n",
    "def time_str_to_timedelta(time_str):\n",
    "    if 'OFF' in time_str:\n",
    "        return timedelta()\n",
    "    start, end = map(lambda x: datetime.strptime(x, '%H:%M') if pd.notnull(x) else datetime.strptime('00:00', '%H:%M'), time_str.split('-'))\n",
    "    return end - start\n",
    "\n",
    "# Iterate through each row and calculate the total time worked\n",
    "total_times = []\n",
    "for index, row in df.iterrows():\n",
    "    total_time = timedelta()\n",
    "    for day in df.columns[1:]:\n",
    "        total_time += time_str_to_timedelta(row[day])\n",
    "    total_times.append(total_time)\n",
    "\n",
    "# Add a new column to the DataFrame for the total time worked\n",
    "df['TotalTimeWorked'] = total_times\n",
    "\n",
    "# Display the result\n",
    "print(df[['Họ và Tên', 'TotalTimeWorked']])\n"
   ]
  }
 ],
 "metadata": {
  "kernelspec": {
   "display_name": "pyenv",
   "language": "python",
   "name": "python3"
  },
  "language_info": {
   "codemirror_mode": {
    "name": "ipython",
    "version": 3
   },
   "file_extension": ".py",
   "mimetype": "text/x-python",
   "name": "python",
   "nbconvert_exporter": "python",
   "pygments_lexer": "ipython3",
   "version": "3.11.5"
  }
 },
 "nbformat": 4,
 "nbformat_minor": 2
}
