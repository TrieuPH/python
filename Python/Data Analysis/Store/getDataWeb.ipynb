{
 "cells": [
  {
   "cell_type": "code",
   "execution_count": 11,
   "metadata": {},
   "outputs": [],
   "source": [
    "from selenium import webdriver\n",
    "from selenium.webdriver.common.by import By\n",
    "from selenium.webdriver.firefox.service import Service as FirefoxService\n",
    "from selenium.webdriver.chrome.service import Service as ChromeService\n",
    "from webdriver_manager.firefox import GeckoDriverManager\n",
    "from selenium.webdriver.firefox.options import Options\n",
    "from webdriver_manager.chrome import ChromeDriverManager\n",
    "from selenium.webdriver.chrome.options import Options as ChromeOptions\n",
    "\n",
    "\n",
    "import platform"
   ]
  },
  {
   "cell_type": "code",
   "execution_count": 12,
   "metadata": {},
   "outputs": [
    {
     "name": "stdout",
     "output_type": "stream",
     "text": [
      "Selenium version: 4.22.0\n",
      "urllib3 version: 2.2.2\n"
     ]
    }
   ],
   "source": [
    "# Print version of selenium and urliib3\n",
    "print(\"Selenium version: \" + webdriver.__version__)\n",
    "import urllib3\n",
    "print(\"urllib3 version: \" + urllib3.__version__)"
   ]
  },
  {
   "cell_type": "code",
   "execution_count": 19,
   "metadata": {},
   "outputs": [],
   "source": [
    "# Declare the url\n",
    "url = \"https://storefc.gs25.com.vn/\"\n",
    "\n",
    "# User name and password\n",
    "username_value = \"vn0265@gs25.com.vn\"\n",
    "password_value = \"gs25@store\"\n"
   ]
  },
  {
   "cell_type": "code",
   "execution_count": 20,
   "metadata": {},
   "outputs": [],
   "source": [
    "# Set the options for the webdriver\n",
    "options = webdriver.FirefoxOptions()\n",
    "#options = webdriver.FirefoxOptions()\n",
    "options.headless = False\n",
    "\n",
    "# Initialize driver variable\n",
    "driver = None\n",
    "\n",
    "# Set the path to the webdriver\n",
    "# Platform macOS using Safari\n",
    "if platform.system() == 'Darwin':\n",
    "    driver = webdriver.Safari()\n",
    "# Platform Windows using Firefox\n",
    "elif platform.system() == 'Windows':\n",
    "   # Automatically manage driver\n",
    "    # Setup ChromeDriver\n",
    "    service = FirefoxService(GeckoDriverManager().install())\n",
    "    driver = webdriver.Firefox(service=service, options=options)\n",
    "\n",
    "# Navigate to URL\n",
    "driver.get(url)\n",
    "\n",
    "# Input login credentials\n",
    "login_input = driver.find_element(By.XPATH, '/html/body/div[1]/section/section/main/div/div/div[1]/div/div/div/div/div/div[2]/div/section/form/div[1]/div/input')\n",
    "login_input.send_keys(username_value)\n",
    "password_input = driver.find_element(By.XPATH, '/html/body/div[1]/section/section/main/div/div/div[1]/div/div/div/div/div/div[2]/div/section/form/div[2]/div/input')\n",
    "password_input.send_keys(password_value)\n",
    "\n",
    "# Click the login button\n",
    "login_button = driver.find_element(By.XPATH, '//*[@id=\"root\"]/section/section/main/div/div/div[1]/div/div/div/div/div/div[2]/div/section/form/div[3]/button')\n",
    "login_button.click()\n",
    "\n",
    "# Wait for the page to load\n",
    "driver.implicitly_wait(10)\n",
    "\n",
    "# Close the browser\n",
    "wait = input(\"Press enter to close the browser\")\n",
    "if driver is not None:\n",
    "    driver.close()"
   ]
  }
 ],
 "metadata": {
  "kernelspec": {
   "display_name": "py_env",
   "language": "python",
   "name": "python3"
  },
  "language_info": {
   "codemirror_mode": {
    "name": "ipython",
    "version": 3
   },
   "file_extension": ".py",
   "mimetype": "text/x-python",
   "name": "python",
   "nbconvert_exporter": "python",
   "pygments_lexer": "ipython3",
   "version": "3.12.4"
  }
 },
 "nbformat": 4,
 "nbformat_minor": 2
}
