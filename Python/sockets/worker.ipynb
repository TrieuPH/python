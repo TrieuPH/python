{
 "cells": [
  {
   "cell_type": "code",
   "execution_count": null,
   "metadata": {},
   "outputs": [],
   "source": [
    "from flask import Flask, request, jsonify\n",
    "import multiprocessing\n",
    "\n",
    "app = Flask(__name__)\n",
    "\n",
    "def process_data(data):\n",
    "    # Your CPU-intensive worker function\n",
    "    result = sum(data)  # Example task\n",
    "    return result\n",
    "\n",
    "@app.route('/process', methods=['POST'])\n",
    "def handle_process_request():\n",
    "    if request.method == 'POST':\n",
    "        data = request.json.get('data', [])\n",
    "        # Run processing on multiple CPUs\n",
    "        with multiprocessing.Pool() as pool:\n",
    "            result = pool.apply_async(process_data, (data,))\n",
    "            result = result.get()\n",
    "\n",
    "        return jsonify({'result': result})\n",
    "\n",
    "if __name__ == \"__main__\":\n",
    "    app.run(host='0.0.0.0', port=5000)\n"
   ]
  }
 ],
 "metadata": {
  "kernelspec": {
   "display_name": "pyenv",
   "language": "python",
   "name": "python3"
  },
  "language_info": {
   "name": "python",
   "version": "3.10.13"
  }
 },
 "nbformat": 4,
 "nbformat_minor": 2
}
