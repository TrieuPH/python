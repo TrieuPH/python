{
 "cells": [
  {
   "cell_type": "code",
   "execution_count": 1,
   "metadata": {},
   "outputs": [],
   "source": [
    "# import pandas as pd\n",
    "# import os\n",
    "# import glob\n",
    "# import concurrent.futures\n",
    "# import time\n",
    "\n",
    "# directory = 'C:\\\\Users\\\\Trieu Pham\\\\Desktop\\\\230105 Payment Summary - 2023-01-06T085450.177'\n",
    "# directory2 = 'C:\\\\Users\\\\trieu.pham\\\\Desktop\\\\230105 Payment Summary - 2023-01-06T085450.177'\n",
    "# cate_dir = 'C:\\\\Users\\\\Trieu Pham\\\\Desktop\\\\DataCate.xlsx'\n",
    "# cate_dir2 = 'C:\\\\Users\\\\trieu.pham\\\\Desktop\\\\DataCate.xlsx'\n",
    "\n",
    "# # list of Excel files to read data from\n",
    "# if os.path.exists(os.path.join(directory, '230101 Payment Summary - 2023-01-03T093340.600.xlsx')):\n",
    "#     excel_files = glob.glob(os.path.join(directory, '*.xlsx'))\n",
    "# else:\n",
    "#     excel_files = glob.glob(os.path.join(directory2, '*.xlsx'))\n",
    "# try:\n",
    "#     # use cols 0, Barcode; 2, Category Name\n",
    "#     # df2 = pd.read_excel(cate_dir, sheet_name='Sheet1', usecols=[0,2])\n",
    "#     # use cols 0, Barcode; 3, SubCategory Name\n",
    "#     df2 = pd.read_excel(cate_dir, sheet_name='Sheet1', usecols=[0,3])\n",
    "#     pass\n",
    "# except FileNotFoundError:\n",
    "#     # df2 = pd.read_excel(cate_dir2, sheet_name='Sheet1', usecols=[0,2])\n",
    "#     # use cols 0, Barcode; 3, SubCategory Name\n",
    "#     df2 = pd.read_excel(cate_dir2, sheet_name='Sheet1', usecols=[0,3])\n",
    "#     pass\n",
    "# # create an empty list to store the dataframes\n",
    "# # dfs = [] sho\n",
    "\n",
    "# # def excel2csv\n",
    "# def excel2csv(file):\n",
    "#     file_path = 'data.csv'\n",
    "#     # Check if exist file_path\n",
    "#     if not os.path.exists(file_path):\n",
    "#         with open(file_path, 'w') as f:\n",
    "#             pass\n",
    "\n",
    "#     # Read the first line of the file\n",
    "#     with open(file_path, 'r') as f:\n",
    "#         first_line = f.readline().strip()\n",
    "#     # Check if the first line contains the expected column names\n",
    "#     has_headers = 'InvoiceID' in first_line\n",
    "#     df = pd.read_excel(file, sheet_name='Sheet2', skiprows=2, usecols=[4,7])\n",
    "#     # df2 Category\n",
    "    \n",
    "#     # merge with Category, on \"Barcode\"\n",
    "#     df = df.merge(df2, on='Barcode', how='left')\n",
    "    \n",
    "#     # Check if the first line contains the expected column names\n",
    "#     df.to_csv('data.csv', mode='a', header= not has_headers, index=False)\n",
    "\n",
    "\n",
    "# # loop through the list of Excel files\n",
    "# with concurrent.futures.ThreadPoolExecutor() as executor:\n",
    "#     [executor.submit(excel2csv, file) for file in excel_files]\n",
    "#     # for file in excel_files:\n",
    "#     #     executor.submit(excel2csv,file)"
   ]
  },
  {
   "cell_type": "code",
   "execution_count": 1,
   "metadata": {},
   "outputs": [
    {
     "name": "stderr",
     "output_type": "stream",
     "text": [
      "C:\\Users\\Trieu Pham\\AppData\\Local\\Temp\\ipykernel_20244\\3206709353.py:8: DtypeWarning: Columns (1,2,3) have mixed types. Specify dtype option on import or set low_memory=False.\n",
      "  df1 = pd.read_csv(r'C:\\Users\\Trieu Pham\\OneDrive - BTM Global Consulting\\Projects\\data csv\\dataM1.csv',\n"
     ]
    }
   ],
   "source": [
    "# !pip install mlxtend\n",
    "import pandas as pd\n",
    "from mlxtend.preprocessing import TransactionEncoder\n",
    "from mlxtend.frequent_patterns import apriori, association_rules\n",
    "\n",
    "# Sample data\n",
    "try:\n",
    "    df1 = pd.read_csv(r'C:\\Users\\Trieu Pham\\OneDrive - BTM Global Consulting\\Projects\\data csv\\dataM1.csv', \n",
    "                      on_bad_lines = 'warn')\n",
    "except FileNotFoundError:\n",
    "    df1 = pd.read_csv(r'C:\\Users\\trieu.pham\\OneDrive - BTM Global Consulting\\Projects\\data csv\\dataM1.csv', \n",
    "                      on_bad_lines = 'warn')\n",
    "\n",
    "# Get data from Invoice ID with Barcode\n",
    "df1 = df1[['InvoiceID','SubCategory Name']]\n",
    "\n",
    "df1 = df1[df1.groupby('InvoiceID')['SubCategory Name'].transform('size') > 1]\n",
    "dataset_str = df1\n",
    "dataset_str = df1.groupby('InvoiceID').agg({\n",
    "    'SubCategory Name': lambda x: ','.join(str(i) for i in x)\n",
    "}).reset_index()"
   ]
  },
  {
   "cell_type": "code",
   "execution_count": 30,
   "metadata": {},
   "outputs": [
    {
     "data": {
      "text/html": [
       "<div>\n",
       "<style scoped>\n",
       "    .dataframe tbody tr th:only-of-type {\n",
       "        vertical-align: middle;\n",
       "    }\n",
       "\n",
       "    .dataframe tbody tr th {\n",
       "        vertical-align: top;\n",
       "    }\n",
       "\n",
       "    .dataframe thead th {\n",
       "        text-align: right;\n",
       "    }\n",
       "</style>\n",
       "<table border=\"1\" class=\"dataframe\">\n",
       "  <thead>\n",
       "    <tr style=\"text-align: right;\">\n",
       "      <th></th>\n",
       "      <th>InvoiceID</th>\n",
       "      <th>SubCategory Name</th>\n",
       "    </tr>\n",
       "  </thead>\n",
       "  <tbody>\n",
       "    <tr>\n",
       "      <th>0</th>\n",
       "      <td>VN0001010101230001</td>\n",
       "      <td>Mineral water,Mineral water</td>\n",
       "    </tr>\n",
       "    <tr>\n",
       "      <th>1</th>\n",
       "      <td>VN0001010101230002</td>\n",
       "      <td>Purified water,Purified water</td>\n",
       "    </tr>\n",
       "    <tr>\n",
       "      <th>2</th>\n",
       "      <td>VN0001010101230003</td>\n",
       "      <td>Other Ice Cream,Potato Snacks,Stick,UHT Milk,M...</td>\n",
       "    </tr>\n",
       "    <tr>\n",
       "      <th>3</th>\n",
       "      <td>VN0001010101230004</td>\n",
       "      <td>Distilled Spirits,Cup Of Ice,Add-on item Sub,D...</td>\n",
       "    </tr>\n",
       "    <tr>\n",
       "      <th>4</th>\n",
       "      <td>VN0001010101230005</td>\n",
       "      <td>Sports Drinks Sub,Sports Drinks Sub,Sports Dri...</td>\n",
       "    </tr>\n",
       "    <tr>\n",
       "      <th>...</th>\n",
       "      <td>...</td>\n",
       "      <td>...</td>\n",
       "    </tr>\n",
       "    <tr>\n",
       "      <th>1292416</th>\n",
       "      <td>VN9996023001230524</td>\n",
       "      <td>Purified water,Energy Drinks Sub</td>\n",
       "    </tr>\n",
       "    <tr>\n",
       "      <th>1292417</th>\n",
       "      <td>VN9996023001230535</td>\n",
       "      <td>Sugar CSD,Instant Sausage</td>\n",
       "    </tr>\n",
       "    <tr>\n",
       "      <th>1292418</th>\n",
       "      <td>VN9996023001230536</td>\n",
       "      <td>Sports Drinks Sub,No/Less Sugar CSD</td>\n",
       "    </tr>\n",
       "    <tr>\n",
       "      <th>1292419</th>\n",
       "      <td>VN9996023001230537</td>\n",
       "      <td>Sugar CSD,Onigiri,Cup Of Ice,Salty Snacks,Nuts...</td>\n",
       "    </tr>\n",
       "    <tr>\n",
       "      <th>1292420</th>\n",
       "      <td>VN9996023001230538</td>\n",
       "      <td>Sports Drinks Sub,Sports Drinks Sub</td>\n",
       "    </tr>\n",
       "  </tbody>\n",
       "</table>\n",
       "<p>1292421 rows × 2 columns</p>\n",
       "</div>"
      ],
      "text/plain": [
       "                  InvoiceID                                   SubCategory Name\n",
       "0        VN0001010101230001                        Mineral water,Mineral water\n",
       "1        VN0001010101230002                      Purified water,Purified water\n",
       "2        VN0001010101230003  Other Ice Cream,Potato Snacks,Stick,UHT Milk,M...\n",
       "3        VN0001010101230004  Distilled Spirits,Cup Of Ice,Add-on item Sub,D...\n",
       "4        VN0001010101230005  Sports Drinks Sub,Sports Drinks Sub,Sports Dri...\n",
       "...                     ...                                                ...\n",
       "1292416  VN9996023001230524                   Purified water,Energy Drinks Sub\n",
       "1292417  VN9996023001230535                          Sugar CSD,Instant Sausage\n",
       "1292418  VN9996023001230536                Sports Drinks Sub,No/Less Sugar CSD\n",
       "1292419  VN9996023001230537  Sugar CSD,Onigiri,Cup Of Ice,Salty Snacks,Nuts...\n",
       "1292420  VN9996023001230538                Sports Drinks Sub,Sports Drinks Sub\n",
       "\n",
       "[1292421 rows x 2 columns]"
      ]
     },
     "execution_count": 30,
     "metadata": {},
     "output_type": "execute_result"
    }
   ],
   "source": [
    "dataset_str"
   ]
  },
  {
   "cell_type": "code",
   "execution_count": 31,
   "metadata": {},
   "outputs": [],
   "source": [
    "dataset_str['StoreID'] = dataset_str['InvoiceID'].map(lambda x: x[:6])"
   ]
  },
  {
   "cell_type": "code",
   "execution_count": 32,
   "metadata": {},
   "outputs": [
    {
     "data": {
      "text/html": [
       "<div>\n",
       "<style scoped>\n",
       "    .dataframe tbody tr th:only-of-type {\n",
       "        vertical-align: middle;\n",
       "    }\n",
       "\n",
       "    .dataframe tbody tr th {\n",
       "        vertical-align: top;\n",
       "    }\n",
       "\n",
       "    .dataframe thead th {\n",
       "        text-align: right;\n",
       "    }\n",
       "</style>\n",
       "<table border=\"1\" class=\"dataframe\">\n",
       "  <thead>\n",
       "    <tr style=\"text-align: right;\">\n",
       "      <th></th>\n",
       "      <th>InvoiceID</th>\n",
       "      <th>SubCategory Name</th>\n",
       "      <th>StoreID</th>\n",
       "    </tr>\n",
       "  </thead>\n",
       "  <tbody>\n",
       "    <tr>\n",
       "      <th>0</th>\n",
       "      <td>VN0001010101230001</td>\n",
       "      <td>Mineral water,Mineral water</td>\n",
       "      <td>VN0001</td>\n",
       "    </tr>\n",
       "    <tr>\n",
       "      <th>1</th>\n",
       "      <td>VN0001010101230002</td>\n",
       "      <td>Purified water,Purified water</td>\n",
       "      <td>VN0001</td>\n",
       "    </tr>\n",
       "    <tr>\n",
       "      <th>2</th>\n",
       "      <td>VN0001010101230003</td>\n",
       "      <td>Other Ice Cream,Potato Snacks,Stick,UHT Milk,M...</td>\n",
       "      <td>VN0001</td>\n",
       "    </tr>\n",
       "    <tr>\n",
       "      <th>3</th>\n",
       "      <td>VN0001010101230004</td>\n",
       "      <td>Distilled Spirits,Cup Of Ice,Add-on item Sub,D...</td>\n",
       "      <td>VN0001</td>\n",
       "    </tr>\n",
       "    <tr>\n",
       "      <th>4</th>\n",
       "      <td>VN0001010101230005</td>\n",
       "      <td>Sports Drinks Sub,Sports Drinks Sub,Sports Dri...</td>\n",
       "      <td>VN0001</td>\n",
       "    </tr>\n",
       "    <tr>\n",
       "      <th>...</th>\n",
       "      <td>...</td>\n",
       "      <td>...</td>\n",
       "      <td>...</td>\n",
       "    </tr>\n",
       "    <tr>\n",
       "      <th>1292416</th>\n",
       "      <td>VN9996023001230524</td>\n",
       "      <td>Purified water,Energy Drinks Sub</td>\n",
       "      <td>VN9996</td>\n",
       "    </tr>\n",
       "    <tr>\n",
       "      <th>1292417</th>\n",
       "      <td>VN9996023001230535</td>\n",
       "      <td>Sugar CSD,Instant Sausage</td>\n",
       "      <td>VN9996</td>\n",
       "    </tr>\n",
       "    <tr>\n",
       "      <th>1292418</th>\n",
       "      <td>VN9996023001230536</td>\n",
       "      <td>Sports Drinks Sub,No/Less Sugar CSD</td>\n",
       "      <td>VN9996</td>\n",
       "    </tr>\n",
       "    <tr>\n",
       "      <th>1292419</th>\n",
       "      <td>VN9996023001230537</td>\n",
       "      <td>Sugar CSD,Onigiri,Cup Of Ice,Salty Snacks,Nuts...</td>\n",
       "      <td>VN9996</td>\n",
       "    </tr>\n",
       "    <tr>\n",
       "      <th>1292420</th>\n",
       "      <td>VN9996023001230538</td>\n",
       "      <td>Sports Drinks Sub,Sports Drinks Sub</td>\n",
       "      <td>VN9996</td>\n",
       "    </tr>\n",
       "  </tbody>\n",
       "</table>\n",
       "<p>1292421 rows × 3 columns</p>\n",
       "</div>"
      ],
      "text/plain": [
       "                  InvoiceID   \n",
       "0        VN0001010101230001  \\\n",
       "1        VN0001010101230002   \n",
       "2        VN0001010101230003   \n",
       "3        VN0001010101230004   \n",
       "4        VN0001010101230005   \n",
       "...                     ...   \n",
       "1292416  VN9996023001230524   \n",
       "1292417  VN9996023001230535   \n",
       "1292418  VN9996023001230536   \n",
       "1292419  VN9996023001230537   \n",
       "1292420  VN9996023001230538   \n",
       "\n",
       "                                          SubCategory Name StoreID  \n",
       "0                              Mineral water,Mineral water  VN0001  \n",
       "1                            Purified water,Purified water  VN0001  \n",
       "2        Other Ice Cream,Potato Snacks,Stick,UHT Milk,M...  VN0001  \n",
       "3        Distilled Spirits,Cup Of Ice,Add-on item Sub,D...  VN0001  \n",
       "4        Sports Drinks Sub,Sports Drinks Sub,Sports Dri...  VN0001  \n",
       "...                                                    ...     ...  \n",
       "1292416                   Purified water,Energy Drinks Sub  VN9996  \n",
       "1292417                          Sugar CSD,Instant Sausage  VN9996  \n",
       "1292418                Sports Drinks Sub,No/Less Sugar CSD  VN9996  \n",
       "1292419  Sugar CSD,Onigiri,Cup Of Ice,Salty Snacks,Nuts...  VN9996  \n",
       "1292420                Sports Drinks Sub,Sports Drinks Sub  VN9996  \n",
       "\n",
       "[1292421 rows x 3 columns]"
      ]
     },
     "execution_count": 32,
     "metadata": {},
     "output_type": "execute_result"
    }
   ],
   "source": [
    "dataset_str"
   ]
  },
  {
   "cell_type": "code",
   "execution_count": 33,
   "metadata": {},
   "outputs": [],
   "source": [
    "# Select StoreID, Example VN0001; Comment below if you want to get all data\n",
    "dataset_str = dataset_str[dataset_str['StoreID'] == 'VN0001']"
   ]
  },
  {
   "cell_type": "code",
   "execution_count": 34,
   "metadata": {},
   "outputs": [
    {
     "data": {
      "text/html": [
       "<div>\n",
       "<style scoped>\n",
       "    .dataframe tbody tr th:only-of-type {\n",
       "        vertical-align: middle;\n",
       "    }\n",
       "\n",
       "    .dataframe tbody tr th {\n",
       "        vertical-align: top;\n",
       "    }\n",
       "\n",
       "    .dataframe thead th {\n",
       "        text-align: right;\n",
       "    }\n",
       "</style>\n",
       "<table border=\"1\" class=\"dataframe\">\n",
       "  <thead>\n",
       "    <tr style=\"text-align: right;\">\n",
       "      <th></th>\n",
       "      <th>Add-on item Sub</th>\n",
       "      <th>Alternative Snacks</th>\n",
       "      <th>Babycare sub</th>\n",
       "      <th>Batteries Sub</th>\n",
       "      <th>Bento</th>\n",
       "      <th>Bingsu</th>\n",
       "      <th>Body Care</th>\n",
       "      <th>Can food</th>\n",
       "      <th>Cereal</th>\n",
       "      <th>Chilled Ready to eat Sub</th>\n",
       "      <th>...</th>\n",
       "      <th>Toothbrush</th>\n",
       "      <th>Toothpaste</th>\n",
       "      <th>Toys Candy</th>\n",
       "      <th>UHT Milk</th>\n",
       "      <th>Vegetarian food</th>\n",
       "      <th>WIC/RIC Juice</th>\n",
       "      <th>Wafflers</th>\n",
       "      <th>Wearables/Apparel/Umbrella</th>\n",
       "      <th>Western Coffee</th>\n",
       "      <th>nan</th>\n",
       "    </tr>\n",
       "  </thead>\n",
       "  <tbody>\n",
       "    <tr>\n",
       "      <th>0</th>\n",
       "      <td>False</td>\n",
       "      <td>False</td>\n",
       "      <td>False</td>\n",
       "      <td>False</td>\n",
       "      <td>False</td>\n",
       "      <td>False</td>\n",
       "      <td>False</td>\n",
       "      <td>False</td>\n",
       "      <td>False</td>\n",
       "      <td>False</td>\n",
       "      <td>...</td>\n",
       "      <td>False</td>\n",
       "      <td>False</td>\n",
       "      <td>False</td>\n",
       "      <td>False</td>\n",
       "      <td>False</td>\n",
       "      <td>False</td>\n",
       "      <td>False</td>\n",
       "      <td>False</td>\n",
       "      <td>False</td>\n",
       "      <td>False</td>\n",
       "    </tr>\n",
       "    <tr>\n",
       "      <th>1</th>\n",
       "      <td>False</td>\n",
       "      <td>False</td>\n",
       "      <td>False</td>\n",
       "      <td>False</td>\n",
       "      <td>False</td>\n",
       "      <td>False</td>\n",
       "      <td>False</td>\n",
       "      <td>False</td>\n",
       "      <td>False</td>\n",
       "      <td>False</td>\n",
       "      <td>...</td>\n",
       "      <td>False</td>\n",
       "      <td>False</td>\n",
       "      <td>False</td>\n",
       "      <td>False</td>\n",
       "      <td>False</td>\n",
       "      <td>False</td>\n",
       "      <td>False</td>\n",
       "      <td>False</td>\n",
       "      <td>False</td>\n",
       "      <td>False</td>\n",
       "    </tr>\n",
       "    <tr>\n",
       "      <th>2</th>\n",
       "      <td>False</td>\n",
       "      <td>False</td>\n",
       "      <td>False</td>\n",
       "      <td>False</td>\n",
       "      <td>False</td>\n",
       "      <td>False</td>\n",
       "      <td>False</td>\n",
       "      <td>False</td>\n",
       "      <td>False</td>\n",
       "      <td>False</td>\n",
       "      <td>...</td>\n",
       "      <td>False</td>\n",
       "      <td>False</td>\n",
       "      <td>False</td>\n",
       "      <td>True</td>\n",
       "      <td>False</td>\n",
       "      <td>False</td>\n",
       "      <td>False</td>\n",
       "      <td>False</td>\n",
       "      <td>False</td>\n",
       "      <td>False</td>\n",
       "    </tr>\n",
       "    <tr>\n",
       "      <th>3</th>\n",
       "      <td>True</td>\n",
       "      <td>False</td>\n",
       "      <td>False</td>\n",
       "      <td>False</td>\n",
       "      <td>False</td>\n",
       "      <td>False</td>\n",
       "      <td>False</td>\n",
       "      <td>False</td>\n",
       "      <td>False</td>\n",
       "      <td>False</td>\n",
       "      <td>...</td>\n",
       "      <td>False</td>\n",
       "      <td>False</td>\n",
       "      <td>False</td>\n",
       "      <td>False</td>\n",
       "      <td>False</td>\n",
       "      <td>False</td>\n",
       "      <td>False</td>\n",
       "      <td>False</td>\n",
       "      <td>False</td>\n",
       "      <td>False</td>\n",
       "    </tr>\n",
       "    <tr>\n",
       "      <th>4</th>\n",
       "      <td>False</td>\n",
       "      <td>False</td>\n",
       "      <td>False</td>\n",
       "      <td>False</td>\n",
       "      <td>False</td>\n",
       "      <td>False</td>\n",
       "      <td>False</td>\n",
       "      <td>False</td>\n",
       "      <td>False</td>\n",
       "      <td>False</td>\n",
       "      <td>...</td>\n",
       "      <td>False</td>\n",
       "      <td>False</td>\n",
       "      <td>False</td>\n",
       "      <td>False</td>\n",
       "      <td>False</td>\n",
       "      <td>False</td>\n",
       "      <td>False</td>\n",
       "      <td>False</td>\n",
       "      <td>False</td>\n",
       "      <td>False</td>\n",
       "    </tr>\n",
       "    <tr>\n",
       "      <th>...</th>\n",
       "      <td>...</td>\n",
       "      <td>...</td>\n",
       "      <td>...</td>\n",
       "      <td>...</td>\n",
       "      <td>...</td>\n",
       "      <td>...</td>\n",
       "      <td>...</td>\n",
       "      <td>...</td>\n",
       "      <td>...</td>\n",
       "      <td>...</td>\n",
       "      <td>...</td>\n",
       "      <td>...</td>\n",
       "      <td>...</td>\n",
       "      <td>...</td>\n",
       "      <td>...</td>\n",
       "      <td>...</td>\n",
       "      <td>...</td>\n",
       "      <td>...</td>\n",
       "      <td>...</td>\n",
       "      <td>...</td>\n",
       "      <td>...</td>\n",
       "    </tr>\n",
       "    <tr>\n",
       "      <th>9065</th>\n",
       "      <td>False</td>\n",
       "      <td>False</td>\n",
       "      <td>False</td>\n",
       "      <td>False</td>\n",
       "      <td>False</td>\n",
       "      <td>False</td>\n",
       "      <td>False</td>\n",
       "      <td>False</td>\n",
       "      <td>False</td>\n",
       "      <td>False</td>\n",
       "      <td>...</td>\n",
       "      <td>False</td>\n",
       "      <td>False</td>\n",
       "      <td>False</td>\n",
       "      <td>False</td>\n",
       "      <td>False</td>\n",
       "      <td>False</td>\n",
       "      <td>False</td>\n",
       "      <td>False</td>\n",
       "      <td>False</td>\n",
       "      <td>False</td>\n",
       "    </tr>\n",
       "    <tr>\n",
       "      <th>9066</th>\n",
       "      <td>False</td>\n",
       "      <td>False</td>\n",
       "      <td>False</td>\n",
       "      <td>False</td>\n",
       "      <td>False</td>\n",
       "      <td>False</td>\n",
       "      <td>False</td>\n",
       "      <td>False</td>\n",
       "      <td>False</td>\n",
       "      <td>False</td>\n",
       "      <td>...</td>\n",
       "      <td>False</td>\n",
       "      <td>False</td>\n",
       "      <td>False</td>\n",
       "      <td>False</td>\n",
       "      <td>False</td>\n",
       "      <td>False</td>\n",
       "      <td>False</td>\n",
       "      <td>False</td>\n",
       "      <td>False</td>\n",
       "      <td>False</td>\n",
       "    </tr>\n",
       "    <tr>\n",
       "      <th>9067</th>\n",
       "      <td>False</td>\n",
       "      <td>False</td>\n",
       "      <td>False</td>\n",
       "      <td>False</td>\n",
       "      <td>False</td>\n",
       "      <td>False</td>\n",
       "      <td>False</td>\n",
       "      <td>False</td>\n",
       "      <td>False</td>\n",
       "      <td>False</td>\n",
       "      <td>...</td>\n",
       "      <td>False</td>\n",
       "      <td>False</td>\n",
       "      <td>False</td>\n",
       "      <td>False</td>\n",
       "      <td>False</td>\n",
       "      <td>False</td>\n",
       "      <td>False</td>\n",
       "      <td>False</td>\n",
       "      <td>False</td>\n",
       "      <td>False</td>\n",
       "    </tr>\n",
       "    <tr>\n",
       "      <th>9068</th>\n",
       "      <td>True</td>\n",
       "      <td>False</td>\n",
       "      <td>False</td>\n",
       "      <td>False</td>\n",
       "      <td>False</td>\n",
       "      <td>False</td>\n",
       "      <td>False</td>\n",
       "      <td>False</td>\n",
       "      <td>False</td>\n",
       "      <td>False</td>\n",
       "      <td>...</td>\n",
       "      <td>False</td>\n",
       "      <td>False</td>\n",
       "      <td>False</td>\n",
       "      <td>False</td>\n",
       "      <td>False</td>\n",
       "      <td>False</td>\n",
       "      <td>False</td>\n",
       "      <td>False</td>\n",
       "      <td>False</td>\n",
       "      <td>False</td>\n",
       "    </tr>\n",
       "    <tr>\n",
       "      <th>9069</th>\n",
       "      <td>False</td>\n",
       "      <td>False</td>\n",
       "      <td>False</td>\n",
       "      <td>False</td>\n",
       "      <td>False</td>\n",
       "      <td>False</td>\n",
       "      <td>False</td>\n",
       "      <td>False</td>\n",
       "      <td>False</td>\n",
       "      <td>False</td>\n",
       "      <td>...</td>\n",
       "      <td>False</td>\n",
       "      <td>False</td>\n",
       "      <td>False</td>\n",
       "      <td>False</td>\n",
       "      <td>False</td>\n",
       "      <td>False</td>\n",
       "      <td>False</td>\n",
       "      <td>False</td>\n",
       "      <td>False</td>\n",
       "      <td>False</td>\n",
       "    </tr>\n",
       "  </tbody>\n",
       "</table>\n",
       "<p>9070 rows × 129 columns</p>\n",
       "</div>"
      ],
      "text/plain": [
       "      Add-on item Sub  Alternative Snacks  Babycare sub  Batteries Sub  Bento   \n",
       "0               False               False         False          False  False  \\\n",
       "1               False               False         False          False  False   \n",
       "2               False               False         False          False  False   \n",
       "3                True               False         False          False  False   \n",
       "4               False               False         False          False  False   \n",
       "...               ...                 ...           ...            ...    ...   \n",
       "9065            False               False         False          False  False   \n",
       "9066            False               False         False          False  False   \n",
       "9067            False               False         False          False  False   \n",
       "9068             True               False         False          False  False   \n",
       "9069            False               False         False          False  False   \n",
       "\n",
       "      Bingsu  Body Care  Can food  Cereal  Chilled Ready to eat Sub  ...   \n",
       "0      False      False     False   False                     False  ...  \\\n",
       "1      False      False     False   False                     False  ...   \n",
       "2      False      False     False   False                     False  ...   \n",
       "3      False      False     False   False                     False  ...   \n",
       "4      False      False     False   False                     False  ...   \n",
       "...      ...        ...       ...     ...                       ...  ...   \n",
       "9065   False      False     False   False                     False  ...   \n",
       "9066   False      False     False   False                     False  ...   \n",
       "9067   False      False     False   False                     False  ...   \n",
       "9068   False      False     False   False                     False  ...   \n",
       "9069   False      False     False   False                     False  ...   \n",
       "\n",
       "      Toothbrush  Toothpaste  Toys Candy  UHT Milk  Vegetarian food   \n",
       "0          False       False       False     False            False  \\\n",
       "1          False       False       False     False            False   \n",
       "2          False       False       False      True            False   \n",
       "3          False       False       False     False            False   \n",
       "4          False       False       False     False            False   \n",
       "...          ...         ...         ...       ...              ...   \n",
       "9065       False       False       False     False            False   \n",
       "9066       False       False       False     False            False   \n",
       "9067       False       False       False     False            False   \n",
       "9068       False       False       False     False            False   \n",
       "9069       False       False       False     False            False   \n",
       "\n",
       "      WIC/RIC Juice  Wafflers  Wearables/Apparel/Umbrella  Western Coffee   \n",
       "0             False     False                       False           False  \\\n",
       "1             False     False                       False           False   \n",
       "2             False     False                       False           False   \n",
       "3             False     False                       False           False   \n",
       "4             False     False                       False           False   \n",
       "...             ...       ...                         ...             ...   \n",
       "9065          False     False                       False           False   \n",
       "9066          False     False                       False           False   \n",
       "9067          False     False                       False           False   \n",
       "9068          False     False                       False           False   \n",
       "9069          False     False                       False           False   \n",
       "\n",
       "        nan  \n",
       "0     False  \n",
       "1     False  \n",
       "2     False  \n",
       "3     False  \n",
       "4     False  \n",
       "...     ...  \n",
       "9065  False  \n",
       "9066  False  \n",
       "9067  False  \n",
       "9068  False  \n",
       "9069  False  \n",
       "\n",
       "[9070 rows x 129 columns]"
      ]
     },
     "execution_count": 34,
     "metadata": {},
     "output_type": "execute_result"
    }
   ],
   "source": [
    "# Transform the data into a list of lists (transactions) with TransactionEncoder\n",
    "# create a TransactionEncoder object\n",
    "data = dataset_str[['SubCategory Name']]\n",
    "\n",
    "data = data.values.tolist()\n",
    "\n",
    "data = [x[0].split(',') for x in data]\n",
    "\n",
    "te = TransactionEncoder()\n",
    "\n",
    "# transform the data into a list of lists\n",
    "transactions = te.fit(data).transform(data)\n",
    "transactions = pd.DataFrame(transactions, columns=te.columns_)\n",
    "\n",
    "transactions"
   ]
  },
  {
   "cell_type": "code",
   "execution_count": 35,
   "metadata": {},
   "outputs": [
    {
     "data": {
      "text/html": [
       "<div>\n",
       "<style scoped>\n",
       "    .dataframe tbody tr th:only-of-type {\n",
       "        vertical-align: middle;\n",
       "    }\n",
       "\n",
       "    .dataframe tbody tr th {\n",
       "        vertical-align: top;\n",
       "    }\n",
       "\n",
       "    .dataframe thead th {\n",
       "        text-align: right;\n",
       "    }\n",
       "</style>\n",
       "<table border=\"1\" class=\"dataframe\">\n",
       "  <thead>\n",
       "    <tr style=\"text-align: right;\">\n",
       "      <th></th>\n",
       "      <th>support</th>\n",
       "      <th>itemsets</th>\n",
       "    </tr>\n",
       "  </thead>\n",
       "  <tbody>\n",
       "    <tr>\n",
       "      <th>0</th>\n",
       "      <td>0.040132</td>\n",
       "      <td>(Add-on item Sub)</td>\n",
       "    </tr>\n",
       "    <tr>\n",
       "      <th>1</th>\n",
       "      <td>0.013671</td>\n",
       "      <td>(Alternative Snacks)</td>\n",
       "    </tr>\n",
       "    <tr>\n",
       "      <th>2</th>\n",
       "      <td>0.021610</td>\n",
       "      <td>(Bento)</td>\n",
       "    </tr>\n",
       "    <tr>\n",
       "      <th>3</th>\n",
       "      <td>0.042889</td>\n",
       "      <td>(Chocolate Bar)</td>\n",
       "    </tr>\n",
       "    <tr>\n",
       "      <th>4</th>\n",
       "      <td>0.016979</td>\n",
       "      <td>(Chocolate Pack)</td>\n",
       "    </tr>\n",
       "    <tr>\n",
       "      <th>...</th>\n",
       "      <td>...</td>\n",
       "      <td>...</td>\n",
       "    </tr>\n",
       "    <tr>\n",
       "      <th>141</th>\n",
       "      <td>0.005292</td>\n",
       "      <td>(Purified water, Sugar CSD)</td>\n",
       "    </tr>\n",
       "    <tr>\n",
       "      <th>142</th>\n",
       "      <td>0.009041</td>\n",
       "      <td>(Purified water, Sugar Tea)</td>\n",
       "    </tr>\n",
       "    <tr>\n",
       "      <th>143</th>\n",
       "      <td>0.005954</td>\n",
       "      <td>(Sugar Tea, Savoury  Buns)</td>\n",
       "    </tr>\n",
       "    <tr>\n",
       "      <th>144</th>\n",
       "      <td>0.009372</td>\n",
       "      <td>(Sugar Tea, Sugar CSD)</td>\n",
       "    </tr>\n",
       "    <tr>\n",
       "      <th>145</th>\n",
       "      <td>0.006505</td>\n",
       "      <td>(WIC/RIC Juice, Sugar Tea)</td>\n",
       "    </tr>\n",
       "  </tbody>\n",
       "</table>\n",
       "<p>146 rows × 2 columns</p>\n",
       "</div>"
      ],
      "text/plain": [
       "      support                     itemsets\n",
       "0    0.040132            (Add-on item Sub)\n",
       "1    0.013671         (Alternative Snacks)\n",
       "2    0.021610                      (Bento)\n",
       "3    0.042889              (Chocolate Bar)\n",
       "4    0.016979             (Chocolate Pack)\n",
       "..        ...                          ...\n",
       "141  0.005292  (Purified water, Sugar CSD)\n",
       "142  0.009041  (Purified water, Sugar Tea)\n",
       "143  0.005954   (Sugar Tea, Savoury  Buns)\n",
       "144  0.009372       (Sugar Tea, Sugar CSD)\n",
       "145  0.006505   (WIC/RIC Juice, Sugar Tea)\n",
       "\n",
       "[146 rows x 2 columns]"
      ]
     },
     "execution_count": 35,
     "metadata": {},
     "output_type": "execute_result"
    }
   ],
   "source": [
    "# Calculate frequent itemsets using Apriori algorithm\n",
    "\n",
    "frequent_itemsets = apriori(transactions, min_support=0.005, use_colnames=True)\n",
    "\n",
    "frequent_itemsets"
   ]
  },
  {
   "cell_type": "code",
   "execution_count": 36,
   "metadata": {},
   "outputs": [
    {
     "data": {
      "text/html": [
       "<div>\n",
       "<style scoped>\n",
       "    .dataframe tbody tr th:only-of-type {\n",
       "        vertical-align: middle;\n",
       "    }\n",
       "\n",
       "    .dataframe tbody tr th {\n",
       "        vertical-align: top;\n",
       "    }\n",
       "\n",
       "    .dataframe thead th {\n",
       "        text-align: right;\n",
       "    }\n",
       "</style>\n",
       "<table border=\"1\" class=\"dataframe\">\n",
       "  <thead>\n",
       "    <tr style=\"text-align: right;\">\n",
       "      <th></th>\n",
       "      <th>antecedents</th>\n",
       "      <th>consequents</th>\n",
       "      <th>antecedent support</th>\n",
       "      <th>consequent support</th>\n",
       "      <th>support</th>\n",
       "      <th>confidence</th>\n",
       "      <th>lift</th>\n",
       "      <th>leverage</th>\n",
       "      <th>conviction</th>\n",
       "      <th>zhangs_metric</th>\n",
       "    </tr>\n",
       "  </thead>\n",
       "  <tbody>\n",
       "    <tr>\n",
       "      <th>0</th>\n",
       "      <td>(Add-on item Sub)</td>\n",
       "      <td>(Chocolate Bar)</td>\n",
       "      <td>0.040132</td>\n",
       "      <td>0.042889</td>\n",
       "      <td>0.005402</td>\n",
       "      <td>0.134615</td>\n",
       "      <td>3.138719</td>\n",
       "      <td>0.003681</td>\n",
       "      <td>1.105995</td>\n",
       "      <td>0.709888</td>\n",
       "    </tr>\n",
       "    <tr>\n",
       "      <th>1</th>\n",
       "      <td>(Chocolate Bar)</td>\n",
       "      <td>(Add-on item Sub)</td>\n",
       "      <td>0.042889</td>\n",
       "      <td>0.040132</td>\n",
       "      <td>0.005402</td>\n",
       "      <td>0.125964</td>\n",
       "      <td>3.138719</td>\n",
       "      <td>0.003681</td>\n",
       "      <td>1.098202</td>\n",
       "      <td>0.711932</td>\n",
       "    </tr>\n",
       "    <tr>\n",
       "      <th>2</th>\n",
       "      <td>(Add-on item Sub)</td>\n",
       "      <td>(Flavored Milk Sub)</td>\n",
       "      <td>0.040132</td>\n",
       "      <td>0.067034</td>\n",
       "      <td>0.012238</td>\n",
       "      <td>0.304945</td>\n",
       "      <td>4.549098</td>\n",
       "      <td>0.009548</td>\n",
       "      <td>1.342291</td>\n",
       "      <td>0.812796</td>\n",
       "    </tr>\n",
       "    <tr>\n",
       "      <th>3</th>\n",
       "      <td>(Flavored Milk Sub)</td>\n",
       "      <td>(Add-on item Sub)</td>\n",
       "      <td>0.067034</td>\n",
       "      <td>0.040132</td>\n",
       "      <td>0.012238</td>\n",
       "      <td>0.182566</td>\n",
       "      <td>4.549098</td>\n",
       "      <td>0.009548</td>\n",
       "      <td>1.174245</td>\n",
       "      <td>0.836232</td>\n",
       "    </tr>\n",
       "    <tr>\n",
       "      <th>4</th>\n",
       "      <td>(Add-on item Sub)</td>\n",
       "      <td>(Instant Noodles Pack)</td>\n",
       "      <td>0.040132</td>\n",
       "      <td>0.044983</td>\n",
       "      <td>0.005843</td>\n",
       "      <td>0.145604</td>\n",
       "      <td>3.236843</td>\n",
       "      <td>0.004038</td>\n",
       "      <td>1.117769</td>\n",
       "      <td>0.719950</td>\n",
       "    </tr>\n",
       "    <tr>\n",
       "      <th>...</th>\n",
       "      <td>...</td>\n",
       "      <td>...</td>\n",
       "      <td>...</td>\n",
       "      <td>...</td>\n",
       "      <td>...</td>\n",
       "      <td>...</td>\n",
       "      <td>...</td>\n",
       "      <td>...</td>\n",
       "      <td>...</td>\n",
       "      <td>...</td>\n",
       "    </tr>\n",
       "    <tr>\n",
       "      <th>125</th>\n",
       "      <td>(Savoury  Buns)</td>\n",
       "      <td>(Sugar Tea)</td>\n",
       "      <td>0.078831</td>\n",
       "      <td>0.110695</td>\n",
       "      <td>0.005954</td>\n",
       "      <td>0.075524</td>\n",
       "      <td>0.682278</td>\n",
       "      <td>-0.002773</td>\n",
       "      <td>0.961957</td>\n",
       "      <td>-0.335782</td>\n",
       "    </tr>\n",
       "    <tr>\n",
       "      <th>126</th>\n",
       "      <td>(Sugar Tea)</td>\n",
       "      <td>(Sugar CSD)</td>\n",
       "      <td>0.110695</td>\n",
       "      <td>0.058434</td>\n",
       "      <td>0.009372</td>\n",
       "      <td>0.084661</td>\n",
       "      <td>1.448827</td>\n",
       "      <td>0.002903</td>\n",
       "      <td>1.028653</td>\n",
       "      <td>0.348347</td>\n",
       "    </tr>\n",
       "    <tr>\n",
       "      <th>127</th>\n",
       "      <td>(Sugar CSD)</td>\n",
       "      <td>(Sugar Tea)</td>\n",
       "      <td>0.058434</td>\n",
       "      <td>0.110695</td>\n",
       "      <td>0.009372</td>\n",
       "      <td>0.160377</td>\n",
       "      <td>1.448827</td>\n",
       "      <td>0.002903</td>\n",
       "      <td>1.059173</td>\n",
       "      <td>0.329012</td>\n",
       "    </tr>\n",
       "    <tr>\n",
       "      <th>128</th>\n",
       "      <td>(WIC/RIC Juice)</td>\n",
       "      <td>(Sugar Tea)</td>\n",
       "      <td>0.027563</td>\n",
       "      <td>0.110695</td>\n",
       "      <td>0.006505</td>\n",
       "      <td>0.236000</td>\n",
       "      <td>2.131992</td>\n",
       "      <td>0.003454</td>\n",
       "      <td>1.164012</td>\n",
       "      <td>0.546005</td>\n",
       "    </tr>\n",
       "    <tr>\n",
       "      <th>129</th>\n",
       "      <td>(Sugar Tea)</td>\n",
       "      <td>(WIC/RIC Juice)</td>\n",
       "      <td>0.110695</td>\n",
       "      <td>0.027563</td>\n",
       "      <td>0.006505</td>\n",
       "      <td>0.058765</td>\n",
       "      <td>2.131992</td>\n",
       "      <td>0.003454</td>\n",
       "      <td>1.033150</td>\n",
       "      <td>0.597045</td>\n",
       "    </tr>\n",
       "  </tbody>\n",
       "</table>\n",
       "<p>130 rows × 10 columns</p>\n",
       "</div>"
      ],
      "text/plain": [
       "             antecedents             consequents  antecedent support   \n",
       "0      (Add-on item Sub)         (Chocolate Bar)            0.040132  \\\n",
       "1        (Chocolate Bar)       (Add-on item Sub)            0.042889   \n",
       "2      (Add-on item Sub)     (Flavored Milk Sub)            0.040132   \n",
       "3    (Flavored Milk Sub)       (Add-on item Sub)            0.067034   \n",
       "4      (Add-on item Sub)  (Instant Noodles Pack)            0.040132   \n",
       "..                   ...                     ...                 ...   \n",
       "125      (Savoury  Buns)             (Sugar Tea)            0.078831   \n",
       "126          (Sugar Tea)             (Sugar CSD)            0.110695   \n",
       "127          (Sugar CSD)             (Sugar Tea)            0.058434   \n",
       "128      (WIC/RIC Juice)             (Sugar Tea)            0.027563   \n",
       "129          (Sugar Tea)         (WIC/RIC Juice)            0.110695   \n",
       "\n",
       "     consequent support   support  confidence      lift  leverage  conviction   \n",
       "0              0.042889  0.005402    0.134615  3.138719  0.003681    1.105995  \\\n",
       "1              0.040132  0.005402    0.125964  3.138719  0.003681    1.098202   \n",
       "2              0.067034  0.012238    0.304945  4.549098  0.009548    1.342291   \n",
       "3              0.040132  0.012238    0.182566  4.549098  0.009548    1.174245   \n",
       "4              0.044983  0.005843    0.145604  3.236843  0.004038    1.117769   \n",
       "..                  ...       ...         ...       ...       ...         ...   \n",
       "125            0.110695  0.005954    0.075524  0.682278 -0.002773    0.961957   \n",
       "126            0.058434  0.009372    0.084661  1.448827  0.002903    1.028653   \n",
       "127            0.110695  0.009372    0.160377  1.448827  0.002903    1.059173   \n",
       "128            0.110695  0.006505    0.236000  2.131992  0.003454    1.164012   \n",
       "129            0.027563  0.006505    0.058765  2.131992  0.003454    1.033150   \n",
       "\n",
       "     zhangs_metric  \n",
       "0         0.709888  \n",
       "1         0.711932  \n",
       "2         0.812796  \n",
       "3         0.836232  \n",
       "4         0.719950  \n",
       "..             ...  \n",
       "125      -0.335782  \n",
       "126       0.348347  \n",
       "127       0.329012  \n",
       "128       0.546005  \n",
       "129       0.597045  \n",
       "\n",
       "[130 rows x 10 columns]"
      ]
     },
     "execution_count": 36,
     "metadata": {},
     "output_type": "execute_result"
    }
   ],
   "source": [
    "# 1. Support: It is the total number of transactions made for a particular product divided by the total number of transactions made. Zero represents no support while one represents the highest support. \n",
    "# Higher the value of support, the greater the importance of the itemset in the data.\n",
    "\n",
    "# support(A⇒ B) =P(A ∪ B)\n",
    "\n",
    "# Support (Books) = Freq (Books)/Total transactions made\n",
    "\n",
    "# Support (Books) = 6/100 = 0.06%\n",
    "\n",
    "# 2. Confidence: It is the ratio of combined transactions to individual transactions.\n",
    "\n",
    "# confidence(A⇒ B) =P(B|A)\n",
    "\n",
    "# Confidence (Books) = Combined transactions/Individual transaction\n",
    "\n",
    "# Confidence (Books) = 0.06/0.08 = 0.75\n",
    "\n",
    "# 3. Lift: It is the ratio of the confidence percent to the support percent.\n",
    "\n",
    "# Lift = 0.75/0.10 = 7.5\n",
    "\n",
    "# If the value of lift < 1, the combination is not bought by consumers frequently.\n",
    "# If the value of lift >1, the combination is brought frequently by the consumers.\n",
    "# If the value of lift = 1, then the purchase of antecedent makes no difference on the consequent.\n",
    "\n",
    "# 4. Zhang Metric\n",
    "# -1 to 1\n",
    "# The Zhang Metric is a metric that ranges from -1 to 1 to represent both positive association and perfect disassociation. \n",
    "# This is a useful metric if there are specific items that you should never put next to each other, even though they have been purchased previously.\n",
    "\n",
    "# Generate association rules from the frequent itemsets\n",
    "\n",
    "\n",
    "rules = association_rules(frequent_itemsets, metric=\"lift\", min_threshold=0)\n",
    "rules"
   ]
  },
  {
   "cell_type": "code",
   "execution_count": 37,
   "metadata": {},
   "outputs": [
    {
     "data": {
      "text/html": [
       "<div>\n",
       "<style scoped>\n",
       "    .dataframe tbody tr th:only-of-type {\n",
       "        vertical-align: middle;\n",
       "    }\n",
       "\n",
       "    .dataframe tbody tr th {\n",
       "        vertical-align: top;\n",
       "    }\n",
       "\n",
       "    .dataframe thead th {\n",
       "        text-align: right;\n",
       "    }\n",
       "</style>\n",
       "<table border=\"1\" class=\"dataframe\">\n",
       "  <thead>\n",
       "    <tr style=\"text-align: right;\">\n",
       "      <th></th>\n",
       "      <th>antecedents</th>\n",
       "      <th>consequents</th>\n",
       "      <th>antecedent support</th>\n",
       "      <th>consequent support</th>\n",
       "      <th>support</th>\n",
       "      <th>confidence</th>\n",
       "      <th>lift</th>\n",
       "      <th>leverage</th>\n",
       "      <th>conviction</th>\n",
       "      <th>zhangs_metric</th>\n",
       "    </tr>\n",
       "  </thead>\n",
       "  <tbody>\n",
       "    <tr>\n",
       "      <th>0</th>\n",
       "      <td>(Add-on item Sub)</td>\n",
       "      <td>(Chocolate Bar)</td>\n",
       "      <td>0.040132</td>\n",
       "      <td>0.042889</td>\n",
       "      <td>0.005402</td>\n",
       "      <td>0.134615</td>\n",
       "      <td>3.138719</td>\n",
       "      <td>0.003681</td>\n",
       "      <td>1.149313</td>\n",
       "      <td>0.709888</td>\n",
       "    </tr>\n",
       "    <tr>\n",
       "      <th>1</th>\n",
       "      <td>(Chocolate Bar)</td>\n",
       "      <td>(Add-on item Sub)</td>\n",
       "      <td>0.042889</td>\n",
       "      <td>0.040132</td>\n",
       "      <td>0.005402</td>\n",
       "      <td>0.125964</td>\n",
       "      <td>3.138719</td>\n",
       "      <td>0.003681</td>\n",
       "      <td>1.137937</td>\n",
       "      <td>0.711932</td>\n",
       "    </tr>\n",
       "    <tr>\n",
       "      <th>2</th>\n",
       "      <td>(Add-on item Sub)</td>\n",
       "      <td>(Flavored Milk Sub)</td>\n",
       "      <td>0.040132</td>\n",
       "      <td>0.067034</td>\n",
       "      <td>0.012238</td>\n",
       "      <td>0.304945</td>\n",
       "      <td>4.549098</td>\n",
       "      <td>0.009548</td>\n",
       "      <td>1.421128</td>\n",
       "      <td>0.812796</td>\n",
       "    </tr>\n",
       "    <tr>\n",
       "      <th>3</th>\n",
       "      <td>(Flavored Milk Sub)</td>\n",
       "      <td>(Add-on item Sub)</td>\n",
       "      <td>0.067034</td>\n",
       "      <td>0.040132</td>\n",
       "      <td>0.012238</td>\n",
       "      <td>0.182566</td>\n",
       "      <td>4.549098</td>\n",
       "      <td>0.009548</td>\n",
       "      <td>1.208369</td>\n",
       "      <td>0.836232</td>\n",
       "    </tr>\n",
       "    <tr>\n",
       "      <th>4</th>\n",
       "      <td>(Add-on item Sub)</td>\n",
       "      <td>(Instant Noodles Pack)</td>\n",
       "      <td>0.040132</td>\n",
       "      <td>0.044983</td>\n",
       "      <td>0.005843</td>\n",
       "      <td>0.145604</td>\n",
       "      <td>3.236843</td>\n",
       "      <td>0.004038</td>\n",
       "      <td>1.163579</td>\n",
       "      <td>0.719950</td>\n",
       "    </tr>\n",
       "    <tr>\n",
       "      <th>...</th>\n",
       "      <td>...</td>\n",
       "      <td>...</td>\n",
       "      <td>...</td>\n",
       "      <td>...</td>\n",
       "      <td>...</td>\n",
       "      <td>...</td>\n",
       "      <td>...</td>\n",
       "      <td>...</td>\n",
       "      <td>...</td>\n",
       "      <td>...</td>\n",
       "    </tr>\n",
       "    <tr>\n",
       "      <th>125</th>\n",
       "      <td>(Savoury  Buns)</td>\n",
       "      <td>(Sugar Tea)</td>\n",
       "      <td>0.078831</td>\n",
       "      <td>0.110695</td>\n",
       "      <td>0.005954</td>\n",
       "      <td>0.075524</td>\n",
       "      <td>0.682278</td>\n",
       "      <td>-0.002773</td>\n",
       "      <td>1.075254</td>\n",
       "      <td>-0.335782</td>\n",
       "    </tr>\n",
       "    <tr>\n",
       "      <th>126</th>\n",
       "      <td>(Sugar Tea)</td>\n",
       "      <td>(Sugar CSD)</td>\n",
       "      <td>0.110695</td>\n",
       "      <td>0.058434</td>\n",
       "      <td>0.009372</td>\n",
       "      <td>0.084661</td>\n",
       "      <td>1.448827</td>\n",
       "      <td>0.002903</td>\n",
       "      <td>1.082253</td>\n",
       "      <td>0.348347</td>\n",
       "    </tr>\n",
       "    <tr>\n",
       "      <th>127</th>\n",
       "      <td>(Sugar CSD)</td>\n",
       "      <td>(Sugar Tea)</td>\n",
       "      <td>0.058434</td>\n",
       "      <td>0.110695</td>\n",
       "      <td>0.009372</td>\n",
       "      <td>0.160377</td>\n",
       "      <td>1.448827</td>\n",
       "      <td>0.002903</td>\n",
       "      <td>1.179850</td>\n",
       "      <td>0.329012</td>\n",
       "    </tr>\n",
       "    <tr>\n",
       "      <th>128</th>\n",
       "      <td>(WIC/RIC Juice)</td>\n",
       "      <td>(Sugar Tea)</td>\n",
       "      <td>0.027563</td>\n",
       "      <td>0.110695</td>\n",
       "      <td>0.006505</td>\n",
       "      <td>0.236000</td>\n",
       "      <td>2.131992</td>\n",
       "      <td>0.003454</td>\n",
       "      <td>1.300386</td>\n",
       "      <td>0.546005</td>\n",
       "    </tr>\n",
       "    <tr>\n",
       "      <th>129</th>\n",
       "      <td>(Sugar Tea)</td>\n",
       "      <td>(WIC/RIC Juice)</td>\n",
       "      <td>0.110695</td>\n",
       "      <td>0.027563</td>\n",
       "      <td>0.006505</td>\n",
       "      <td>0.058765</td>\n",
       "      <td>2.131992</td>\n",
       "      <td>0.003454</td>\n",
       "      <td>1.055523</td>\n",
       "      <td>0.597045</td>\n",
       "    </tr>\n",
       "  </tbody>\n",
       "</table>\n",
       "<p>130 rows × 10 columns</p>\n",
       "</div>"
      ],
      "text/plain": [
       "             antecedents             consequents  antecedent support   \n",
       "0      (Add-on item Sub)         (Chocolate Bar)            0.040132  \\\n",
       "1        (Chocolate Bar)       (Add-on item Sub)            0.042889   \n",
       "2      (Add-on item Sub)     (Flavored Milk Sub)            0.040132   \n",
       "3    (Flavored Milk Sub)       (Add-on item Sub)            0.067034   \n",
       "4      (Add-on item Sub)  (Instant Noodles Pack)            0.040132   \n",
       "..                   ...                     ...                 ...   \n",
       "125      (Savoury  Buns)             (Sugar Tea)            0.078831   \n",
       "126          (Sugar Tea)             (Sugar CSD)            0.110695   \n",
       "127          (Sugar CSD)             (Sugar Tea)            0.058434   \n",
       "128      (WIC/RIC Juice)             (Sugar Tea)            0.027563   \n",
       "129          (Sugar Tea)         (WIC/RIC Juice)            0.110695   \n",
       "\n",
       "     consequent support   support  confidence      lift  leverage  conviction   \n",
       "0              0.042889  0.005402    0.134615  3.138719  0.003681    1.149313  \\\n",
       "1              0.040132  0.005402    0.125964  3.138719  0.003681    1.137937   \n",
       "2              0.067034  0.012238    0.304945  4.549098  0.009548    1.421128   \n",
       "3              0.040132  0.012238    0.182566  4.549098  0.009548    1.208369   \n",
       "4              0.044983  0.005843    0.145604  3.236843  0.004038    1.163579   \n",
       "..                  ...       ...         ...       ...       ...         ...   \n",
       "125            0.110695  0.005954    0.075524  0.682278 -0.002773    1.075254   \n",
       "126            0.058434  0.009372    0.084661  1.448827  0.002903    1.082253   \n",
       "127            0.110695  0.009372    0.160377  1.448827  0.002903    1.179850   \n",
       "128            0.110695  0.006505    0.236000  2.131992  0.003454    1.300386   \n",
       "129            0.027563  0.006505    0.058765  2.131992  0.003454    1.055523   \n",
       "\n",
       "     zhangs_metric  \n",
       "0         0.709888  \n",
       "1         0.711932  \n",
       "2         0.812796  \n",
       "3         0.836232  \n",
       "4         0.719950  \n",
       "..             ...  \n",
       "125      -0.335782  \n",
       "126       0.348347  \n",
       "127       0.329012  \n",
       "128       0.546005  \n",
       "129       0.597045  \n",
       "\n",
       "[130 rows x 10 columns]"
      ]
     },
     "execution_count": 37,
     "metadata": {},
     "output_type": "execute_result"
    }
   ],
   "source": [
    "rules['conviction'] = (1 - rules['support']) / (1 - rules['confidence'])\n",
    "\n",
    "rules"
   ]
  },
  {
   "cell_type": "code",
   "execution_count": 38,
   "metadata": {},
   "outputs": [
    {
     "data": {
      "application/vnd.plotly.v1+json": {
       "config": {
        "plotlyServerURL": "https://plot.ly"
       },
       "data": [
        {
         "customdata": [
          [
           [
            "Add-on item Sub"
           ],
           [
            "Chocolate Bar"
           ]
          ],
          [
           [
            "Chocolate Bar"
           ],
           [
            "Add-on item Sub"
           ]
          ],
          [
           [
            "Add-on item Sub"
           ],
           [
            "Flavored Milk Sub"
           ]
          ],
          [
           [
            "Flavored Milk Sub"
           ],
           [
            "Add-on item Sub"
           ]
          ],
          [
           [
            "Add-on item Sub"
           ],
           [
            "Instant Noodles Pack"
           ]
          ],
          [
           [
            "Instant Noodles Pack"
           ],
           [
            "Add-on item Sub"
           ]
          ],
          [
           [
            "Add-on item Sub"
           ],
           [
            "Sugar CSD"
           ]
          ],
          [
           [
            "Sugar CSD"
           ],
           [
            "Add-on item Sub"
           ]
          ],
          [
           [
            "Add-on item Sub"
           ],
           [
            "Sugar Tea"
           ]
          ],
          [
           [
            "Sugar Tea"
           ],
           [
            "Add-on item Sub"
           ]
          ],
          [
           [
            "Flavored Milk Sub"
           ],
           [
            "Chocolate Bar"
           ]
          ],
          [
           [
            "Chocolate Bar"
           ],
           [
            "Flavored Milk Sub"
           ]
          ],
          [
           [
            "Cup Of Ice"
           ],
           [
            "Coffee Drinks Sub"
           ]
          ],
          [
           [
            "Coffee Drinks Sub"
           ],
           [
            "Cup Of Ice"
           ]
          ],
          [
           [
            "Cup"
           ],
           [
            "Other Cuisine Sub"
           ]
          ],
          [
           [
            "Other Cuisine Sub"
           ],
           [
            "Cup"
           ]
          ],
          [
           [
            "Cup Of Ice"
           ],
           [
            "Energy Drinks Sub"
           ]
          ],
          [
           [
            "Energy Drinks Sub"
           ],
           [
            "Cup Of Ice"
           ]
          ],
          [
           [
            "Cup Of Ice"
           ],
           [
            "No/Less Sugar CSD"
           ]
          ],
          [
           [
            "No/Less Sugar CSD"
           ],
           [
            "Cup Of Ice"
           ]
          ],
          [
           [
            "Cup Of Ice"
           ],
           [
            "Other Cuisine Sub"
           ]
          ],
          [
           [
            "Other Cuisine Sub"
           ],
           [
            "Cup Of Ice"
           ]
          ],
          [
           [
            "Cup Of Ice"
           ],
           [
            "Sugar CSD"
           ]
          ],
          [
           [
            "Sugar CSD"
           ],
           [
            "Cup Of Ice"
           ]
          ],
          [
           [
            "Cup Of Ice"
           ],
           [
            "Sugar Tea"
           ]
          ],
          [
           [
            "Sugar Tea"
           ],
           [
            "Cup Of Ice"
           ]
          ],
          [
           [
            "Flavored Milk Sub"
           ],
           [
            "Drink"
           ]
          ],
          [
           [
            "Drink"
           ],
           [
            "Flavored Milk Sub"
           ]
          ],
          [
           [
            "Onigiri"
           ],
           [
            "Drink"
           ]
          ],
          [
           [
            "Drink"
           ],
           [
            "Onigiri"
           ]
          ],
          [
           [
            "Other Cuisine Sub"
           ],
           [
            "Drink"
           ]
          ],
          [
           [
            "Drink"
           ],
           [
            "Other Cuisine Sub"
           ]
          ],
          [
           [
            "Packaged bakery"
           ],
           [
            "Drink"
           ]
          ],
          [
           [
            "Drink"
           ],
           [
            "Packaged bakery"
           ]
          ],
          [
           [
            "Drink"
           ],
           [
            "Savoury  Buns"
           ]
          ],
          [
           [
            "Savoury  Buns"
           ],
           [
            "Drink"
           ]
          ],
          [
           [
            "Purified water"
           ],
           [
            "Energy Drinks Sub"
           ]
          ],
          [
           [
            "Energy Drinks Sub"
           ],
           [
            "Purified water"
           ]
          ],
          [
           [
            "Energy Drinks Sub"
           ],
           [
            "Savoury  Buns"
           ]
          ],
          [
           [
            "Savoury  Buns"
           ],
           [
            "Energy Drinks Sub"
           ]
          ],
          [
           [
            "Energy Drinks Sub"
           ],
           [
            "Sugar CSD"
           ]
          ],
          [
           [
            "Sugar CSD"
           ],
           [
            "Energy Drinks Sub"
           ]
          ],
          [
           [
            "Energy Drinks Sub"
           ],
           [
            "Sugar Tea"
           ]
          ],
          [
           [
            "Sugar Tea"
           ],
           [
            "Energy Drinks Sub"
           ]
          ],
          [
           [
            "Flavored Milk Sub"
           ],
           [
            "Onigiri"
           ]
          ],
          [
           [
            "Onigiri"
           ],
           [
            "Flavored Milk Sub"
           ]
          ],
          [
           [
            "Packaged bakery"
           ],
           [
            "Flavored Milk Sub"
           ]
          ],
          [
           [
            "Flavored Milk Sub"
           ],
           [
            "Packaged bakery"
           ]
          ],
          [
           [
            "Purified water"
           ],
           [
            "Flavored Milk Sub"
           ]
          ],
          [
           [
            "Flavored Milk Sub"
           ],
           [
            "Purified water"
           ]
          ],
          [
           [
            "Flavored Milk Sub"
           ],
           [
            "Savoury  Buns"
           ]
          ],
          [
           [
            "Savoury  Buns"
           ],
           [
            "Flavored Milk Sub"
           ]
          ],
          [
           [
            "Flavored Milk Sub"
           ],
           [
            "Sugar Tea"
           ]
          ],
          [
           [
            "Sugar Tea"
           ],
           [
            "Flavored Milk Sub"
           ]
          ],
          [
           [
            "Onigiri"
           ],
           [
            "Fried Food Sub"
           ]
          ],
          [
           [
            "Fried Food Sub"
           ],
           [
            "Onigiri"
           ]
          ],
          [
           [
            "Other Cuisine Sub"
           ],
           [
            "Fried Food Sub"
           ]
          ],
          [
           [
            "Fried Food Sub"
           ],
           [
            "Other Cuisine Sub"
           ]
          ],
          [
           [
            "Onigiri"
           ],
           [
            "Fruit Sub"
           ]
          ],
          [
           [
            "Fruit Sub"
           ],
           [
            "Onigiri"
           ]
          ],
          [
           [
            "Other Cuisine Sub"
           ],
           [
            "Fruit Sub"
           ]
          ],
          [
           [
            "Fruit Sub"
           ],
           [
            "Other Cuisine Sub"
           ]
          ],
          [
           [
            "Fruit Sub"
           ],
           [
            "Savoury  Buns"
           ]
          ],
          [
           [
            "Savoury  Buns"
           ],
           [
            "Fruit Sub"
           ]
          ],
          [
           [
            "Hot pot Thai"
           ],
           [
            "Instant Noodles Pack"
           ]
          ],
          [
           [
            "Instant Noodles Pack"
           ],
           [
            "Hot pot Thai"
           ]
          ],
          [
           [
            "Instant Noodles Cup"
           ],
           [
            "Instant Noodles Bowl"
           ]
          ],
          [
           [
            "Instant Noodles Bowl"
           ],
           [
            "Instant Noodles Cup"
           ]
          ],
          [
           [
            "Instant Noodles Bowl"
           ],
           [
            "Instant Noodles Pack"
           ]
          ],
          [
           [
            "Instant Noodles Pack"
           ],
           [
            "Instant Noodles Bowl"
           ]
          ],
          [
           [
            "Instant Noodles Bowl"
           ],
           [
            "Sugar Tea"
           ]
          ],
          [
           [
            "Sugar Tea"
           ],
           [
            "Instant Noodles Bowl"
           ]
          ],
          [
           [
            "Instant Noodles Cup"
           ],
           [
            "Instant Noodles Pack"
           ]
          ],
          [
           [
            "Instant Noodles Pack"
           ],
           [
            "Instant Noodles Cup"
           ]
          ],
          [
           [
            "Instant Noodles Cup"
           ],
           [
            "Instant Sausage"
           ]
          ],
          [
           [
            "Instant Sausage"
           ],
           [
            "Instant Noodles Cup"
           ]
          ],
          [
           [
            "Instant Noodles Cup"
           ],
           [
            "Other Cuisine Sub"
           ]
          ],
          [
           [
            "Other Cuisine Sub"
           ],
           [
            "Instant Noodles Cup"
           ]
          ],
          [
           [
            "Instant Noodles Cup"
           ],
           [
            "Purified water"
           ]
          ],
          [
           [
            "Purified water"
           ],
           [
            "Instant Noodles Cup"
           ]
          ],
          [
           [
            "Instant Noodles Cup"
           ],
           [
            "Sugar CSD"
           ]
          ],
          [
           [
            "Sugar CSD"
           ],
           [
            "Instant Noodles Cup"
           ]
          ],
          [
           [
            "Instant Noodles Cup"
           ],
           [
            "Sugar Tea"
           ]
          ],
          [
           [
            "Sugar Tea"
           ],
           [
            "Instant Noodles Cup"
           ]
          ],
          [
           [
            "Instant Sausage"
           ],
           [
            "Instant Noodles Pack"
           ]
          ],
          [
           [
            "Instant Noodles Pack"
           ],
           [
            "Instant Sausage"
           ]
          ],
          [
           [
            "No/Less Sugar CSD"
           ],
           [
            "Sugar CSD"
           ]
          ],
          [
           [
            "Sugar CSD"
           ],
           [
            "No/Less Sugar CSD"
           ]
          ],
          [
           [
            "Onigiri"
           ],
           [
            "Other Cuisine Sub"
           ]
          ],
          [
           [
            "Other Cuisine Sub"
           ],
           [
            "Onigiri"
           ]
          ],
          [
           [
            "Purified water"
           ],
           [
            "Onigiri"
           ]
          ],
          [
           [
            "Onigiri"
           ],
           [
            "Purified water"
           ]
          ],
          [
           [
            "Onigiri"
           ],
           [
            "Sandwich"
           ]
          ],
          [
           [
            "Sandwich"
           ],
           [
            "Onigiri"
           ]
          ],
          [
           [
            "Onigiri"
           ],
           [
            "Sugar Tea"
           ]
          ],
          [
           [
            "Sugar Tea"
           ],
           [
            "Onigiri"
           ]
          ],
          [
           [
            "Other Cuisine Sub"
           ],
           [
            "Others Steamed  bun"
           ]
          ],
          [
           [
            "Others Steamed  bun"
           ],
           [
            "Other Cuisine Sub"
           ]
          ],
          [
           [
            "Other Cuisine Sub"
           ],
           [
            "Savoury  Buns"
           ]
          ],
          [
           [
            "Savoury  Buns"
           ],
           [
            "Other Cuisine Sub"
           ]
          ],
          [
           [
            "Other Cuisine Sub"
           ],
           [
            "Sugar Tea"
           ]
          ],
          [
           [
            "Sugar Tea"
           ],
           [
            "Other Cuisine Sub"
           ]
          ],
          [
           [
            "Other Ice Cream"
           ],
           [
            "Stick"
           ]
          ],
          [
           [
            "Stick"
           ],
           [
            "Other Ice Cream"
           ]
          ],
          [
           [
            "Others Steamed  bun"
           ],
           [
            "Savoury  Buns"
           ]
          ],
          [
           [
            "Savoury  Buns"
           ],
           [
            "Others Steamed  bun"
           ]
          ],
          [
           [
            "Packaged bakery"
           ],
           [
            "Savoury  Buns"
           ]
          ],
          [
           [
            "Savoury  Buns"
           ],
           [
            "Packaged bakery"
           ]
          ],
          [
           [
            "Packaged bakery"
           ],
           [
            "Sugar Tea"
           ]
          ],
          [
           [
            "Sugar Tea"
           ],
           [
            "Packaged bakery"
           ]
          ],
          [
           [
            "Packaged bakery"
           ],
           [
            "UHT Milk"
           ]
          ],
          [
           [
            "UHT Milk"
           ],
           [
            "Packaged bakery"
           ]
          ],
          [
           [
            "Purified water"
           ],
           [
            "Potato Snacks"
           ]
          ],
          [
           [
            "Potato Snacks"
           ],
           [
            "Purified water"
           ]
          ],
          [
           [
            "Potato Snacks"
           ],
           [
            "Salty Snacks"
           ]
          ],
          [
           [
            "Salty Snacks"
           ],
           [
            "Potato Snacks"
           ]
          ],
          [
           [
            "Potato Snacks"
           ],
           [
            "Sugar CSD"
           ]
          ],
          [
           [
            "Sugar CSD"
           ],
           [
            "Potato Snacks"
           ]
          ],
          [
           [
            "Sugar Tea"
           ],
           [
            "Potato Snacks"
           ]
          ],
          [
           [
            "Potato Snacks"
           ],
           [
            "Sugar Tea"
           ]
          ],
          [
           [
            "Purified water"
           ],
           [
            "Sugar CSD"
           ]
          ],
          [
           [
            "Sugar CSD"
           ],
           [
            "Purified water"
           ]
          ],
          [
           [
            "Purified water"
           ],
           [
            "Sugar Tea"
           ]
          ],
          [
           [
            "Sugar Tea"
           ],
           [
            "Purified water"
           ]
          ],
          [
           [
            "Sugar Tea"
           ],
           [
            "Savoury  Buns"
           ]
          ],
          [
           [
            "Savoury  Buns"
           ],
           [
            "Sugar Tea"
           ]
          ],
          [
           [
            "Sugar Tea"
           ],
           [
            "Sugar CSD"
           ]
          ],
          [
           [
            "Sugar CSD"
           ],
           [
            "Sugar Tea"
           ]
          ],
          [
           [
            "WIC/RIC Juice"
           ],
           [
            "Sugar Tea"
           ]
          ],
          [
           [
            "Sugar Tea"
           ],
           [
            "WIC/RIC Juice"
           ]
          ]
         ],
         "hovertemplate": "support=%{x}<br>confidence=%{y}<br>lift=%{marker.size}<br>antecedents=%{customdata[0]}<br>consequents=%{customdata[1]}<extra></extra>",
         "legendgroup": "",
         "marker": {
          "color": "#636efa",
          "size": [
           3.138718607870279,
           3.138718607870279,
           4.549098105841527,
           4.5490981058415265,
           3.2368428140486967,
           3.2368428140486967,
           2.3977296288617045,
           2.397729628861704,
           1.7124633334792696,
           1.7124633334792696,
           2.1475443106480854,
           2.147544310648086,
           2.3534753981382375,
           2.3534753981382375,
           1.672443054599096,
           1.672443054599096,
           3.4349680092931454,
           3.434968009293145,
           2.3065399913377598,
           2.3065399913377598,
           0.6601135069059193,
           0.6601135069059193,
           2.3390437093760688,
           2.3390437093760688,
           1.600140581328799,
           1.600140581328799,
           1.4796971553377372,
           1.479697155337737,
           1.5300269905533066,
           1.5300269905533066,
           1.1145244531826002,
           1.1145244531826002,
           1.460127280324983,
           1.460127280324983,
           1.2582599586648169,
           1.258259958664817,
           0.7314204507415996,
           0.7314204507415996,
           0.9439463930325549,
           0.943946393032555,
           1.0947090989703927,
           1.0947090989703925,
           1.0260394453517523,
           1.0260394453517523,
           1.2852875037169196,
           1.2852875037169196,
           1.665943093775047,
           1.665943093775047,
           0.9214935284014231,
           0.9214935284014231,
           1.1683842473316157,
           1.168384247331616,
           0.802349811281191,
           0.8023498112811911,
           1.2757577888740417,
           1.2757577888740417,
           2.7254207928448646,
           2.7254207928448646,
           1.6045768418649777,
           1.6045768418649775,
           1.6781661126709053,
           1.678166112670905,
           1.8195097831461469,
           1.8195097831461473,
           3.6189010487916096,
           3.6189010487916096,
           2.358444947264698,
           2.358444947264698,
           2.956169169795577,
           2.9561691697955776,
           1.201311774179876,
           1.201311774179876,
           1.7540275115191875,
           1.7540275115191877,
           7.004544235162138,
           7.004544235162138,
           0.8449739422070485,
           0.8449739422070485,
           1.03353764588756,
           1.03353764588756,
           1.3796239360497105,
           1.3796239360497105,
           1.208647400107973,
           1.208647400107973,
           6.110723910417248,
           6.1107239104172475,
           2.3402676987582645,
           2.340267698758265,
           0.9686497836982488,
           0.9686497836982488,
           0.8659937049767559,
           0.8659937049767559,
           2.190125563979413,
           2.1901255639794126,
           0.9824965674027055,
           0.9824965674027055,
           2.188415202342918,
           2.188415202342918,
           1.540070153488684,
           1.540070153488684,
           0.5483815536575742,
           0.5483815536575742,
           10.72214226973684,
           10.722142269736842,
           2.4115311771561774,
           2.4115311771561774,
           0.9873510584170485,
           0.9873510584170485,
           0.7490006134514396,
           0.7490006134514396,
           2.085600242960649,
           2.0856002429606493,
           1.4001451087543804,
           1.4001451087543804,
           3.827749642903519,
           3.827749642903519,
           1.9266525053105086,
           1.9266525053105084,
           1.1765960440797516,
           1.1765960440797516,
           0.9573822404011082,
           0.9573822404011083,
           0.8633763315038215,
           0.8633763315038215,
           0.6822778814810687,
           0.6822778814810687,
           1.448827332180711,
           1.448827332180711,
           2.1319920318725103,
           2.1319920318725103
          ],
          "sizemode": "area",
          "sizeref": 0.026805355674342106,
          "symbol": "circle"
         },
         "mode": "markers",
         "name": "",
         "orientation": "v",
         "showlegend": false,
         "type": "scatter",
         "x": [
          0.005402425578831312,
          0.005402425578831312,
          0.012238147739801544,
          0.012238147739801544,
          0.005843439911797133,
          0.005843439911797133,
          0.005622932745314222,
          0.005622932745314222,
          0.007607497243660419,
          0.007607497243660419,
          0.006174200661521499,
          0.006174200661521499,
          0.006174200661521499,
          0.006174200661521499,
          0.005402425578831312,
          0.005402425578831312,
          0.02293274531422271,
          0.02293274531422271,
          0.0070562293274531425,
          0.0070562293274531425,
          0.005402425578831312,
          0.005402425578831312,
          0.010804851157662623,
          0.010804851157662623,
          0.014002205071664829,
          0.014002205071664829,
          0.005402425578831312,
          0.005402425578831312,
          0.0065049614112458656,
          0.0065049614112458656,
          0.006284454244762955,
          0.006284454244762955,
          0.005181918412348402,
          0.005181918412348402,
          0.005402425578831312,
          0.005402425578831312,
          0.005843439911797133,
          0.005843439911797133,
          0.006284454244762955,
          0.006284454244762955,
          0.005402425578831312,
          0.005402425578831312,
          0.009592061742006615,
          0.009592061742006615,
          0.006725468577728776,
          0.006725468577728776,
          0.007276736493936053,
          0.007276736493936053,
          0.005843439911797133,
          0.005843439911797133,
          0.006174200661521499,
          0.006174200661521499,
          0.005953693495038589,
          0.005953693495038589,
          0.005292171995589856,
          0.005292171995589856,
          0.014994487320837926,
          0.014994487320837926,
          0.006835722160970232,
          0.006835722160970232,
          0.00948180815876516,
          0.00948180815876516,
          0.00782800441014333,
          0.00782800441014333,
          0.005402425578831312,
          0.005402425578831312,
          0.006284454244762955,
          0.006284454244762955,
          0.005512679162072767,
          0.005512679162072767,
          0.005512679162072767,
          0.005512679162072767,
          0.005071664829106946,
          0.005071664829106946,
          0.010474090407938258,
          0.010474090407938258,
          0.005622932745314222,
          0.005622932745314222,
          0.006284454244762955,
          0.006284454244762955,
          0.005181918412348402,
          0.005181918412348402,
          0.008599779492833517,
          0.008599779492833517,
          0.00639470782800441,
          0.00639470782800441,
          0.005292171995589856,
          0.005292171995589856,
          0.00782800441014333,
          0.00782800441014333,
          0.00639470782800441,
          0.00639470782800441,
          0.008048511576626241,
          0.008048511576626241,
          0.008489525909592061,
          0.008489525909592061,
          0.009592061742006615,
          0.009592061742006615,
          0.01256890848952591,
          0.01256890848952591,
          0.006284454244762955,
          0.006284454244762955,
          0.005071664829106946,
          0.005071664829106946,
          0.008048511576626241,
          0.008048511576626241,
          0.005071664829106946,
          0.005071664829106946,
          0.005402425578831312,
          0.005402425578831312,
          0.005843439911797133,
          0.005843439911797133,
          0.006615214994487321,
          0.006615214994487321,
          0.008599779492833517,
          0.008599779492833517,
          0.005622932745314222,
          0.005622932745314222,
          0.0065049614112458656,
          0.0065049614112458656,
          0.005292171995589856,
          0.005292171995589856,
          0.009040793825799339,
          0.009040793825799339,
          0.005953693495038589,
          0.005953693495038589,
          0.009371554575523704,
          0.009371554575523704,
          0.0065049614112458656,
          0.0065049614112458656
         ],
         "xaxis": "x",
         "y": [
          0.1346153846153846,
          0.12596401028277635,
          0.30494505494505497,
          0.1825657894736842,
          0.14560439560439561,
          0.12990196078431374,
          0.1401098901098901,
          0.09622641509433962,
          0.18956043956043955,
          0.06872509960159362,
          0.09210526315789473,
          0.14395886889460155,
          0.07810320781032078,
          0.18604651162790697,
          0.17314487632508832,
          0.05218317358892439,
          0.2900976290097629,
          0.2715404699738903,
          0.08926080892608089,
          0.18233618233618235,
          0.06834030683403067,
          0.05218317358892439,
          0.13668061366806133,
          0.18490566037735848,
          0.17712691771269176,
          0.12649402390438247,
          0.0805921052631579,
          0.09919028340080971,
          0.08333333333333334,
          0.1194331983805668,
          0.06070287539936103,
          0.11538461538461539,
          0.07952622673434857,
          0.09514170040485831,
          0.09919028340080971,
          0.06853146853146853,
          0.06177156177156177,
          0.06919060052219321,
          0.07441253263707572,
          0.07972027972027973,
          0.0639686684073107,
          0.09245283018867924,
          0.11357702349869452,
          0.08665338645418326,
          0.10032894736842106,
          0.08615819209039549,
          0.11167512690355332,
          0.10855263157894737,
          0.06177156177156177,
          0.08717105263157894,
          0.09210526315789473,
          0.07832167832167833,
          0.08881578947368421,
          0.053784860557768925,
          0.06779661016949153,
          0.0995850622406639,
          0.1448349307774228,
          0.2821576763485477,
          0.08757062146892657,
          0.12525252525252525,
          0.09158679446219384,
          0.17373737373737375,
          0.14343434343434344,
          0.09930069930069932,
          0.1627906976744186,
          0.12009803921568628,
          0.09777015437392796,
          0.15159574468085105,
          0.1329787234042553,
          0.12254901960784313,
          0.1329787234042553,
          0.049800796812749,
          0.07890222984562607,
          0.1127450980392157,
          0.16295025728987994,
          0.4502369668246446,
          0.08747855917667238,
          0.054313099041533544,
          0.09777015437392796,
          0.06643356643356643,
          0.08061749571183534,
          0.08867924528301888,
          0.13379073756432247,
          0.07768924302788845,
          0.27488151658767773,
          0.14215686274509803,
          0.13675213675213674,
          0.09056603773584905,
          0.10028248587570623,
          0.07561235356762515,
          0.0675990675990676,
          0.08192090395480227,
          0.10310734463276838,
          0.17096018735363,
          0.10875706214689265,
          0.07669322709163345,
          0.0926517571884984,
          0.2265625,
          0.12140575079872205,
          0.15944055944055946,
          0.06070287539936103,
          0.05677290836653386,
          0.3026315789473684,
          0.1796875,
          0.19010416666666669,
          0.10209790209790211,
          0.07783417935702201,
          0.06433566433566434,
          0.0829103214890017,
          0.04880478087649402,
          0.08967851099830795,
          0.1358974358974359,
          0.06993006993006994,
          0.13245033112582782,
          0.17218543046357615,
          0.1911764705882353,
          0.11258278145695363,
          0.09622641509433962,
          0.05876494023904383,
          0.13024282560706402,
          0.05594405594405594,
          0.09056603773584905,
          0.09557109557109557,
          0.08167330677290836,
          0.053784860557768925,
          0.07552447552447553,
          0.0846613545816733,
          0.16037735849056603,
          0.23600000000000002,
          0.05876494023904383
         ],
         "yaxis": "y"
        }
       ],
       "layout": {
        "legend": {
         "itemsizing": "constant",
         "tracegroupgap": 0
        },
        "margin": {
         "t": 60
        },
        "template": {
         "data": {
          "bar": [
           {
            "error_x": {
             "color": "#2a3f5f"
            },
            "error_y": {
             "color": "#2a3f5f"
            },
            "marker": {
             "line": {
              "color": "#E5ECF6",
              "width": 0.5
             },
             "pattern": {
              "fillmode": "overlay",
              "size": 10,
              "solidity": 0.2
             }
            },
            "type": "bar"
           }
          ],
          "barpolar": [
           {
            "marker": {
             "line": {
              "color": "#E5ECF6",
              "width": 0.5
             },
             "pattern": {
              "fillmode": "overlay",
              "size": 10,
              "solidity": 0.2
             }
            },
            "type": "barpolar"
           }
          ],
          "carpet": [
           {
            "aaxis": {
             "endlinecolor": "#2a3f5f",
             "gridcolor": "white",
             "linecolor": "white",
             "minorgridcolor": "white",
             "startlinecolor": "#2a3f5f"
            },
            "baxis": {
             "endlinecolor": "#2a3f5f",
             "gridcolor": "white",
             "linecolor": "white",
             "minorgridcolor": "white",
             "startlinecolor": "#2a3f5f"
            },
            "type": "carpet"
           }
          ],
          "choropleth": [
           {
            "colorbar": {
             "outlinewidth": 0,
             "ticks": ""
            },
            "type": "choropleth"
           }
          ],
          "contour": [
           {
            "colorbar": {
             "outlinewidth": 0,
             "ticks": ""
            },
            "colorscale": [
             [
              0,
              "#0d0887"
             ],
             [
              0.1111111111111111,
              "#46039f"
             ],
             [
              0.2222222222222222,
              "#7201a8"
             ],
             [
              0.3333333333333333,
              "#9c179e"
             ],
             [
              0.4444444444444444,
              "#bd3786"
             ],
             [
              0.5555555555555556,
              "#d8576b"
             ],
             [
              0.6666666666666666,
              "#ed7953"
             ],
             [
              0.7777777777777778,
              "#fb9f3a"
             ],
             [
              0.8888888888888888,
              "#fdca26"
             ],
             [
              1,
              "#f0f921"
             ]
            ],
            "type": "contour"
           }
          ],
          "contourcarpet": [
           {
            "colorbar": {
             "outlinewidth": 0,
             "ticks": ""
            },
            "type": "contourcarpet"
           }
          ],
          "heatmap": [
           {
            "colorbar": {
             "outlinewidth": 0,
             "ticks": ""
            },
            "colorscale": [
             [
              0,
              "#0d0887"
             ],
             [
              0.1111111111111111,
              "#46039f"
             ],
             [
              0.2222222222222222,
              "#7201a8"
             ],
             [
              0.3333333333333333,
              "#9c179e"
             ],
             [
              0.4444444444444444,
              "#bd3786"
             ],
             [
              0.5555555555555556,
              "#d8576b"
             ],
             [
              0.6666666666666666,
              "#ed7953"
             ],
             [
              0.7777777777777778,
              "#fb9f3a"
             ],
             [
              0.8888888888888888,
              "#fdca26"
             ],
             [
              1,
              "#f0f921"
             ]
            ],
            "type": "heatmap"
           }
          ],
          "heatmapgl": [
           {
            "colorbar": {
             "outlinewidth": 0,
             "ticks": ""
            },
            "colorscale": [
             [
              0,
              "#0d0887"
             ],
             [
              0.1111111111111111,
              "#46039f"
             ],
             [
              0.2222222222222222,
              "#7201a8"
             ],
             [
              0.3333333333333333,
              "#9c179e"
             ],
             [
              0.4444444444444444,
              "#bd3786"
             ],
             [
              0.5555555555555556,
              "#d8576b"
             ],
             [
              0.6666666666666666,
              "#ed7953"
             ],
             [
              0.7777777777777778,
              "#fb9f3a"
             ],
             [
              0.8888888888888888,
              "#fdca26"
             ],
             [
              1,
              "#f0f921"
             ]
            ],
            "type": "heatmapgl"
           }
          ],
          "histogram": [
           {
            "marker": {
             "pattern": {
              "fillmode": "overlay",
              "size": 10,
              "solidity": 0.2
             }
            },
            "type": "histogram"
           }
          ],
          "histogram2d": [
           {
            "colorbar": {
             "outlinewidth": 0,
             "ticks": ""
            },
            "colorscale": [
             [
              0,
              "#0d0887"
             ],
             [
              0.1111111111111111,
              "#46039f"
             ],
             [
              0.2222222222222222,
              "#7201a8"
             ],
             [
              0.3333333333333333,
              "#9c179e"
             ],
             [
              0.4444444444444444,
              "#bd3786"
             ],
             [
              0.5555555555555556,
              "#d8576b"
             ],
             [
              0.6666666666666666,
              "#ed7953"
             ],
             [
              0.7777777777777778,
              "#fb9f3a"
             ],
             [
              0.8888888888888888,
              "#fdca26"
             ],
             [
              1,
              "#f0f921"
             ]
            ],
            "type": "histogram2d"
           }
          ],
          "histogram2dcontour": [
           {
            "colorbar": {
             "outlinewidth": 0,
             "ticks": ""
            },
            "colorscale": [
             [
              0,
              "#0d0887"
             ],
             [
              0.1111111111111111,
              "#46039f"
             ],
             [
              0.2222222222222222,
              "#7201a8"
             ],
             [
              0.3333333333333333,
              "#9c179e"
             ],
             [
              0.4444444444444444,
              "#bd3786"
             ],
             [
              0.5555555555555556,
              "#d8576b"
             ],
             [
              0.6666666666666666,
              "#ed7953"
             ],
             [
              0.7777777777777778,
              "#fb9f3a"
             ],
             [
              0.8888888888888888,
              "#fdca26"
             ],
             [
              1,
              "#f0f921"
             ]
            ],
            "type": "histogram2dcontour"
           }
          ],
          "mesh3d": [
           {
            "colorbar": {
             "outlinewidth": 0,
             "ticks": ""
            },
            "type": "mesh3d"
           }
          ],
          "parcoords": [
           {
            "line": {
             "colorbar": {
              "outlinewidth": 0,
              "ticks": ""
             }
            },
            "type": "parcoords"
           }
          ],
          "pie": [
           {
            "automargin": true,
            "type": "pie"
           }
          ],
          "scatter": [
           {
            "fillpattern": {
             "fillmode": "overlay",
             "size": 10,
             "solidity": 0.2
            },
            "type": "scatter"
           }
          ],
          "scatter3d": [
           {
            "line": {
             "colorbar": {
              "outlinewidth": 0,
              "ticks": ""
             }
            },
            "marker": {
             "colorbar": {
              "outlinewidth": 0,
              "ticks": ""
             }
            },
            "type": "scatter3d"
           }
          ],
          "scattercarpet": [
           {
            "marker": {
             "colorbar": {
              "outlinewidth": 0,
              "ticks": ""
             }
            },
            "type": "scattercarpet"
           }
          ],
          "scattergeo": [
           {
            "marker": {
             "colorbar": {
              "outlinewidth": 0,
              "ticks": ""
             }
            },
            "type": "scattergeo"
           }
          ],
          "scattergl": [
           {
            "marker": {
             "colorbar": {
              "outlinewidth": 0,
              "ticks": ""
             }
            },
            "type": "scattergl"
           }
          ],
          "scattermapbox": [
           {
            "marker": {
             "colorbar": {
              "outlinewidth": 0,
              "ticks": ""
             }
            },
            "type": "scattermapbox"
           }
          ],
          "scatterpolar": [
           {
            "marker": {
             "colorbar": {
              "outlinewidth": 0,
              "ticks": ""
             }
            },
            "type": "scatterpolar"
           }
          ],
          "scatterpolargl": [
           {
            "marker": {
             "colorbar": {
              "outlinewidth": 0,
              "ticks": ""
             }
            },
            "type": "scatterpolargl"
           }
          ],
          "scatterternary": [
           {
            "marker": {
             "colorbar": {
              "outlinewidth": 0,
              "ticks": ""
             }
            },
            "type": "scatterternary"
           }
          ],
          "surface": [
           {
            "colorbar": {
             "outlinewidth": 0,
             "ticks": ""
            },
            "colorscale": [
             [
              0,
              "#0d0887"
             ],
             [
              0.1111111111111111,
              "#46039f"
             ],
             [
              0.2222222222222222,
              "#7201a8"
             ],
             [
              0.3333333333333333,
              "#9c179e"
             ],
             [
              0.4444444444444444,
              "#bd3786"
             ],
             [
              0.5555555555555556,
              "#d8576b"
             ],
             [
              0.6666666666666666,
              "#ed7953"
             ],
             [
              0.7777777777777778,
              "#fb9f3a"
             ],
             [
              0.8888888888888888,
              "#fdca26"
             ],
             [
              1,
              "#f0f921"
             ]
            ],
            "type": "surface"
           }
          ],
          "table": [
           {
            "cells": {
             "fill": {
              "color": "#EBF0F8"
             },
             "line": {
              "color": "white"
             }
            },
            "header": {
             "fill": {
              "color": "#C8D4E3"
             },
             "line": {
              "color": "white"
             }
            },
            "type": "table"
           }
          ]
         },
         "layout": {
          "annotationdefaults": {
           "arrowcolor": "#2a3f5f",
           "arrowhead": 0,
           "arrowwidth": 1
          },
          "autotypenumbers": "strict",
          "coloraxis": {
           "colorbar": {
            "outlinewidth": 0,
            "ticks": ""
           }
          },
          "colorscale": {
           "diverging": [
            [
             0,
             "#8e0152"
            ],
            [
             0.1,
             "#c51b7d"
            ],
            [
             0.2,
             "#de77ae"
            ],
            [
             0.3,
             "#f1b6da"
            ],
            [
             0.4,
             "#fde0ef"
            ],
            [
             0.5,
             "#f7f7f7"
            ],
            [
             0.6,
             "#e6f5d0"
            ],
            [
             0.7,
             "#b8e186"
            ],
            [
             0.8,
             "#7fbc41"
            ],
            [
             0.9,
             "#4d9221"
            ],
            [
             1,
             "#276419"
            ]
           ],
           "sequential": [
            [
             0,
             "#0d0887"
            ],
            [
             0.1111111111111111,
             "#46039f"
            ],
            [
             0.2222222222222222,
             "#7201a8"
            ],
            [
             0.3333333333333333,
             "#9c179e"
            ],
            [
             0.4444444444444444,
             "#bd3786"
            ],
            [
             0.5555555555555556,
             "#d8576b"
            ],
            [
             0.6666666666666666,
             "#ed7953"
            ],
            [
             0.7777777777777778,
             "#fb9f3a"
            ],
            [
             0.8888888888888888,
             "#fdca26"
            ],
            [
             1,
             "#f0f921"
            ]
           ],
           "sequentialminus": [
            [
             0,
             "#0d0887"
            ],
            [
             0.1111111111111111,
             "#46039f"
            ],
            [
             0.2222222222222222,
             "#7201a8"
            ],
            [
             0.3333333333333333,
             "#9c179e"
            ],
            [
             0.4444444444444444,
             "#bd3786"
            ],
            [
             0.5555555555555556,
             "#d8576b"
            ],
            [
             0.6666666666666666,
             "#ed7953"
            ],
            [
             0.7777777777777778,
             "#fb9f3a"
            ],
            [
             0.8888888888888888,
             "#fdca26"
            ],
            [
             1,
             "#f0f921"
            ]
           ]
          },
          "colorway": [
           "#636efa",
           "#EF553B",
           "#00cc96",
           "#ab63fa",
           "#FFA15A",
           "#19d3f3",
           "#FF6692",
           "#B6E880",
           "#FF97FF",
           "#FECB52"
          ],
          "font": {
           "color": "#2a3f5f"
          },
          "geo": {
           "bgcolor": "white",
           "lakecolor": "white",
           "landcolor": "#E5ECF6",
           "showlakes": true,
           "showland": true,
           "subunitcolor": "white"
          },
          "hoverlabel": {
           "align": "left"
          },
          "hovermode": "closest",
          "mapbox": {
           "style": "light"
          },
          "paper_bgcolor": "white",
          "plot_bgcolor": "#E5ECF6",
          "polar": {
           "angularaxis": {
            "gridcolor": "white",
            "linecolor": "white",
            "ticks": ""
           },
           "bgcolor": "#E5ECF6",
           "radialaxis": {
            "gridcolor": "white",
            "linecolor": "white",
            "ticks": ""
           }
          },
          "scene": {
           "xaxis": {
            "backgroundcolor": "#E5ECF6",
            "gridcolor": "white",
            "gridwidth": 2,
            "linecolor": "white",
            "showbackground": true,
            "ticks": "",
            "zerolinecolor": "white"
           },
           "yaxis": {
            "backgroundcolor": "#E5ECF6",
            "gridcolor": "white",
            "gridwidth": 2,
            "linecolor": "white",
            "showbackground": true,
            "ticks": "",
            "zerolinecolor": "white"
           },
           "zaxis": {
            "backgroundcolor": "#E5ECF6",
            "gridcolor": "white",
            "gridwidth": 2,
            "linecolor": "white",
            "showbackground": true,
            "ticks": "",
            "zerolinecolor": "white"
           }
          },
          "shapedefaults": {
           "line": {
            "color": "#2a3f5f"
           }
          },
          "ternary": {
           "aaxis": {
            "gridcolor": "white",
            "linecolor": "white",
            "ticks": ""
           },
           "baxis": {
            "gridcolor": "white",
            "linecolor": "white",
            "ticks": ""
           },
           "bgcolor": "#E5ECF6",
           "caxis": {
            "gridcolor": "white",
            "linecolor": "white",
            "ticks": ""
           }
          },
          "title": {
           "x": 0.05
          },
          "xaxis": {
           "automargin": true,
           "gridcolor": "white",
           "linecolor": "white",
           "ticks": "",
           "title": {
            "standoff": 15
           },
           "zerolinecolor": "white",
           "zerolinewidth": 2
          },
          "yaxis": {
           "automargin": true,
           "gridcolor": "white",
           "linecolor": "white",
           "ticks": "",
           "title": {
            "standoff": 15
           },
           "zerolinecolor": "white",
           "zerolinewidth": 2
          }
         }
        },
        "xaxis": {
         "anchor": "y",
         "domain": [
          0,
          1
         ],
         "title": {
          "text": "support"
         }
        },
        "yaxis": {
         "anchor": "x",
         "domain": [
          0,
          1
         ],
         "title": {
          "text": "confidence"
         }
        }
       }
      }
     },
     "metadata": {},
     "output_type": "display_data"
    }
   ],
   "source": [
    "# %pip install plotly\n",
    "\n",
    "rules['antecedents'] = rules['antecedents'].apply(list)\n",
    "rules['consequents'] = rules['consequents'].apply(list)\n",
    "\n",
    "import plotly.express as px\n",
    "# install plotly: pip install plotly\n",
    "# install nbformat: pip install nbformat\n",
    "fig = px.scatter(rules, x='support', y='confidence', size='lift', \n",
    "                 hover_data=['antecedents', 'consequents'])\n",
    "fig.show()"
   ]
  },
  {
   "cell_type": "code",
   "execution_count": 39,
   "metadata": {},
   "outputs": [
    {
     "name": "stdout",
     "output_type": "stream",
     "text": [
      "             antecedents             consequents   support      lift   \n",
      "0      [Add-on item Sub]         [Chocolate Bar]  0.005402  3.138719  \\\n",
      "1        [Chocolate Bar]       [Add-on item Sub]  0.005402  3.138719   \n",
      "2      [Add-on item Sub]     [Flavored Milk Sub]  0.012238  4.549098   \n",
      "3    [Flavored Milk Sub]       [Add-on item Sub]  0.012238  4.549098   \n",
      "4      [Add-on item Sub]  [Instant Noodles Pack]  0.005843  3.236843   \n",
      "..                   ...                     ...       ...       ...   \n",
      "125      [Savoury  Buns]             [Sugar Tea]  0.005954  0.682278   \n",
      "126          [Sugar Tea]             [Sugar CSD]  0.009372  1.448827   \n",
      "127          [Sugar CSD]             [Sugar Tea]  0.009372  1.448827   \n",
      "128      [WIC/RIC Juice]             [Sugar Tea]  0.006505  2.131992   \n",
      "129          [Sugar Tea]         [WIC/RIC Juice]  0.006505  2.131992   \n",
      "\n",
      "     confidence  \n",
      "0      0.134615  \n",
      "1      0.125964  \n",
      "2      0.304945  \n",
      "3      0.182566  \n",
      "4      0.145604  \n",
      "..          ...  \n",
      "125    0.075524  \n",
      "126    0.084661  \n",
      "127    0.160377  \n",
      "128    0.236000  \n",
      "129    0.058765  \n",
      "\n",
      "[130 rows x 5 columns]\n"
     ]
    }
   ],
   "source": [
    "# Display the association rules with support, lift, and confidence\n",
    "import time\n",
    "print(rules[['antecedents', 'consequents', 'support', 'lift', 'confidence']])\n",
    "rules[['antecedents', 'consequents', 'support', 'lift', 'confidence']].to_csv('result.csv', index=False)"
   ]
  },
  {
   "cell_type": "code",
   "execution_count": 45,
   "metadata": {},
   "outputs": [
    {
     "data": {
      "image/png": "[encoded data removed]",
      "text/plain": [
       "<Figure size 640x480 with 1 Axes>"
      ]
     },
     "metadata": {},
     "output_type": "display_data"
    }
   ],
   "source": [
    "# Check if networkx and matplotlib are installed\n",
    "# !pip install networkx\n",
    "# !pip install matplotlib\n",
    "\n",
    "import networkx as nx\n",
    "import matplotlib.pyplot as plt\n",
    "\n",
    "# Create an empty directed graph\n",
    "G = nx.DiGraph()\n",
    "\n",
    "# Iterate through each row of the DataFrame and add edges to the graph\n",
    "for index, row in rules.iterrows():\n",
    "    antecedent = ', '.join(row['antecedents'])\n",
    "    consequent = ', '.join(row['consequents'])\n",
    "    support = row['support']\n",
    "    confidence = row['confidence']\n",
    "    lift = row['lift']\n",
    "    \n",
    "    # Add edges to the graph with the support or confidence as edge weight\n",
    "    G.add_edge(antecedent, consequent, weight=support)\n",
    "\n",
    "# Draw the graph using spring layout and label edges with their weights\n",
    "pos = nx.spring_layout(G)\n",
    "nx.draw(G, pos, with_labels=True, node_size=1500, font_size=8)\n",
    "labels = nx.get_edge_attributes(G, 'weight')\n",
    "nx.draw_networkx_edge_labels(G, pos, edge_labels=labels, font_size=8)\n",
    "plt.show()\n"
   ]
  },
  {
   "cell_type": "code",
   "execution_count": 41,
   "metadata": {},
   "outputs": [
    {
     "data": {
      "application/vnd.plotly.v1+json": {
       "config": {
        "plotlyServerURL": "https://plot.ly"
       },
       "data": [
        {
         "hoverinfo": "none",
         "line": {
          "color": "black",
          "width": 0.054024255788313116
         },
         "mode": "lines",
         "type": "scatter",
         "x": [
          -0.2798704748868339,
          -0.9327111727768242,
          null
         ],
         "y": [
          -0.08533671127878534,
          0.03632395404809687,
          null
         ]
        },
        {
         "hoverinfo": "none",
         "line": {
          "color": "black",
          "width": 0.12238147739801544
         },
         "mode": "lines",
         "type": "scatter",
         "x": [
          -0.2798704748868339,
          -0.38532567304897064,
          null
         ],
         "y": [
          -0.08533671127878534,
          -0.09567342606954125,
          null
         ]
        },
        {
         "hoverinfo": "none",
         "line": {
          "color": "black",
          "width": 0.05843439911797133
         },
         "mode": "lines",
         "type": "scatter",
         "x": [
          -0.2798704748868339,
          -0.04607331598511028,
          null
         ],
         "y": [
          -0.08533671127878534,
          0.5691631191597756,
          null
         ]
        },
        {
         "hoverinfo": "none",
         "line": {
          "color": "black",
          "width": 0.05622932745314223
         },
         "mode": "lines",
         "type": "scatter",
         "x": [
          -0.2798704748868339,
          0.3840306704231972,
          null
         ],
         "y": [
          -0.08533671127878534,
          0.2446940029928788,
          null
         ]
        },
        {
         "hoverinfo": "none",
         "line": {
          "color": "black",
          "width": 0.07607497243660419
         },
         "mode": "lines",
         "type": "scatter",
         "x": [
          -0.2798704748868339,
          0.06447804664444483,
          null
         ],
         "y": [
          -0.08533671127878534,
          -0.05965788920266929,
          null
         ]
        },
        {
         "hoverinfo": "none",
         "line": {
          "color": "black",
          "width": 0.054024255788313116
         },
         "mode": "lines",
         "type": "scatter",
         "x": [
          -0.9327111727768242,
          -0.2798704748868339,
          null
         ],
         "y": [
          0.03632395404809687,
          -0.08533671127878534,
          null
         ]
        },
        {
         "hoverinfo": "none",
         "line": {
          "color": "black",
          "width": 0.06174200661521499
         },
         "mode": "lines",
         "type": "scatter",
         "x": [
          -0.9327111727768242,
          -0.38532567304897064,
          null
         ],
         "y": [
          0.03632395404809687,
          -0.09567342606954125,
          null
         ]
        },
        {
         "hoverinfo": "none",
         "line": {
          "color": "black",
          "width": 0.12238147739801544
         },
         "mode": "lines",
         "type": "scatter",
         "x": [
          -0.38532567304897064,
          -0.2798704748868339,
          null
         ],
         "y": [
          -0.09567342606954125,
          -0.08533671127878534,
          null
         ]
        },
        {
         "hoverinfo": "none",
         "line": {
          "color": "black",
          "width": 0.06174200661521499
         },
         "mode": "lines",
         "type": "scatter",
         "x": [
          -0.38532567304897064,
          -0.9327111727768242,
          null
         ],
         "y": [
          -0.09567342606954125,
          0.03632395404809687,
          null
         ]
        },
        {
         "hoverinfo": "none",
         "line": {
          "color": "black",
          "width": 0.054024255788313116
         },
         "mode": "lines",
         "type": "scatter",
         "x": [
          -0.38532567304897064,
          -0.18913172707221196,
          null
         ],
         "y": [
          -0.09567342606954125,
          -0.5531089987566266,
          null
         ]
        },
        {
         "hoverinfo": "none",
         "line": {
          "color": "black",
          "width": 0.06725468577728777
         },
         "mode": "lines",
         "type": "scatter",
         "x": [
          -0.38532567304897064,
          -0.2882418431202802,
          null
         ],
         "y": [
          -0.09567342606954125,
          -0.3322792495086678,
          null
         ]
        },
        {
         "hoverinfo": "none",
         "line": {
          "color": "black",
          "width": 0.07276736493936053
         },
         "mode": "lines",
         "type": "scatter",
         "x": [
          -0.38532567304897064,
          -0.17793645032439956,
          null
         ],
         "y": [
          -0.09567342606954125,
          0.17240957768123794,
          null
         ]
        },
        {
         "hoverinfo": "none",
         "line": {
          "color": "black",
          "width": 0.05843439911797133
         },
         "mode": "lines",
         "type": "scatter",
         "x": [
          -0.38532567304897064,
          0.15714806623763225,
          null
         ],
         "y": [
          -0.09567342606954125,
          0.1258980689630793,
          null
         ]
        },
        {
         "hoverinfo": "none",
         "line": {
          "color": "black",
          "width": 0.06174200661521499
         },
         "mode": "lines",
         "type": "scatter",
         "x": [
          -0.38532567304897064,
          0.2355999926523654,
          null
         ],
         "y": [
          -0.09567342606954125,
          -0.4540043814406071,
          null
         ]
        },
        {
         "hoverinfo": "none",
         "line": {
          "color": "black",
          "width": 0.05953693495038589
         },
         "mode": "lines",
         "type": "scatter",
         "x": [
          -0.38532567304897064,
          0.06447804664444483,
          null
         ],
         "y": [
          -0.09567342606954125,
          -0.05965788920266929,
          null
         ]
        },
        {
         "hoverinfo": "none",
         "line": {
          "color": "black",
          "width": 0.05843439911797133
         },
         "mode": "lines",
         "type": "scatter",
         "x": [
          -0.04607331598511028,
          -0.2798704748868339,
          null
         ],
         "y": [
          0.5691631191597756,
          -0.08533671127878534,
          null
         ]
        },
        {
         "hoverinfo": "none",
         "line": {
          "color": "black",
          "width": 0.054024255788313116
         },
         "mode": "lines",
         "type": "scatter",
         "x": [
          -0.04607331598511028,
          0.7756299862089011,
          null
         ],
         "y": [
          0.5691631191597756,
          0.6913791235258715,
          null
         ]
        },
        {
         "hoverinfo": "none",
         "line": {
          "color": "black",
          "width": 0.05512679162072767
         },
         "mode": "lines",
         "type": "scatter",
         "x": [
          -0.04607331598511028,
          -0.49164510909252657,
          null
         ],
         "y": [
          0.5691631191597756,
          0.2819570610224665,
          null
         ]
        },
        {
         "hoverinfo": "none",
         "line": {
          "color": "black",
          "width": 0.05071664829106946
         },
         "mode": "lines",
         "type": "scatter",
         "x": [
          -0.04607331598511028,
          0.10624227842481816,
          null
         ],
         "y": [
          0.5691631191597756,
          0.3658555091081197,
          null
         ]
        },
        {
         "hoverinfo": "none",
         "line": {
          "color": "black",
          "width": 0.0639470782800441
         },
         "mode": "lines",
         "type": "scatter",
         "x": [
          -0.04607331598511028,
          0.3713555485374522,
          null
         ],
         "y": [
          0.5691631191597756,
          0.8972053792373055,
          null
         ]
        },
        {
         "hoverinfo": "none",
         "line": {
          "color": "black",
          "width": 0.05622932745314223
         },
         "mode": "lines",
         "type": "scatter",
         "x": [
          0.3840306704231972,
          -0.2798704748868339,
          null
         ],
         "y": [
          0.2446940029928788,
          -0.08533671127878534,
          null
         ]
        },
        {
         "hoverinfo": "none",
         "line": {
          "color": "black",
          "width": 0.10804851157662623
         },
         "mode": "lines",
         "type": "scatter",
         "x": [
          0.3840306704231972,
          0.5232420279655444,
          null
         ],
         "y": [
          0.2446940029928788,
          -0.016409565027468737,
          null
         ]
        },
        {
         "hoverinfo": "none",
         "line": {
          "color": "black",
          "width": 0.054024255788313116
         },
         "mode": "lines",
         "type": "scatter",
         "x": [
          0.3840306704231972,
          0.6017611995181724,
          null
         ],
         "y": [
          0.2446940029928788,
          -0.1725101268754411,
          null
         ]
        },
        {
         "hoverinfo": "none",
         "line": {
          "color": "black",
          "width": 0.05181918412348402
         },
         "mode": "lines",
         "type": "scatter",
         "x": [
          0.3840306704231972,
          0.10624227842481816,
          null
         ],
         "y": [
          0.2446940029928788,
          0.3658555091081197,
          null
         ]
        },
        {
         "hoverinfo": "none",
         "line": {
          "color": "black",
          "width": 0.05292171995589856
         },
         "mode": "lines",
         "type": "scatter",
         "x": [
          0.3840306704231972,
          0.18873243536504425,
          null
         ],
         "y": [
          0.2446940029928788,
          0.5738514083129804,
          null
         ]
        },
        {
         "hoverinfo": "none",
         "line": {
          "color": "black",
          "width": 0.05622932745314223
         },
         "mode": "lines",
         "type": "scatter",
         "x": [
          0.3840306704231972,
          0.13240216216981313,
          null
         ],
         "y": [
          0.2446940029928788,
          0.7068036526387478,
          null
         ]
        },
        {
         "hoverinfo": "none",
         "line": {
          "color": "black",
          "width": 0.05292171995589856
         },
         "mode": "lines",
         "type": "scatter",
         "x": [
          0.3840306704231972,
          0.15714806623763225,
          null
         ],
         "y": [
          0.2446940029928788,
          0.1258980689630793,
          null
         ]
        },
        {
         "hoverinfo": "none",
         "line": {
          "color": "black",
          "width": 0.09371554575523704
         },
         "mode": "lines",
         "type": "scatter",
         "x": [
          0.3840306704231972,
          0.06447804664444483,
          null
         ],
         "y": [
          0.2446940029928788,
          -0.05965788920266929,
          null
         ]
        },
        {
         "hoverinfo": "none",
         "line": {
          "color": "black",
          "width": 0.07607497243660419
         },
         "mode": "lines",
         "type": "scatter",
         "x": [
          0.06447804664444483,
          -0.2798704748868339,
          null
         ],
         "y": [
          -0.05965788920266929,
          -0.08533671127878534,
          null
         ]
        },
        {
         "hoverinfo": "none",
         "line": {
          "color": "black",
          "width": 0.14002205071664828
         },
         "mode": "lines",
         "type": "scatter",
         "x": [
          0.06447804664444483,
          0.5232420279655444,
          null
         ],
         "y": [
          -0.05965788920266929,
          -0.016409565027468737,
          null
         ]
        },
        {
         "hoverinfo": "none",
         "line": {
          "color": "black",
          "width": 0.09592061742006615
         },
         "mode": "lines",
         "type": "scatter",
         "x": [
          0.06447804664444483,
          0.6017611995181724,
          null
         ],
         "y": [
          -0.05965788920266929,
          -0.1725101268754411,
          null
         ]
        },
        {
         "hoverinfo": "none",
         "line": {
          "color": "black",
          "width": 0.05953693495038589
         },
         "mode": "lines",
         "type": "scatter",
         "x": [
          0.06447804664444483,
          -0.38532567304897064,
          null
         ],
         "y": [
          -0.05965788920266929,
          -0.09567342606954125,
          null
         ]
        },
        {
         "hoverinfo": "none",
         "line": {
          "color": "black",
          "width": 0.05512679162072767
         },
         "mode": "lines",
         "type": "scatter",
         "x": [
          0.06447804664444483,
          -0.49164510909252657,
          null
         ],
         "y": [
          -0.05965788920266929,
          0.2819570610224665,
          null
         ]
        },
        {
         "hoverinfo": "none",
         "line": {
          "color": "black",
          "width": 0.08599779492833518
         },
         "mode": "lines",
         "type": "scatter",
         "x": [
          0.06447804664444483,
          0.10624227842481816,
          null
         ],
         "y": [
          -0.05965788920266929,
          0.3658555091081197,
          null
         ]
        },
        {
         "hoverinfo": "none",
         "line": {
          "color": "black",
          "width": 0.0848952590959206
         },
         "mode": "lines",
         "type": "scatter",
         "x": [
          0.06447804664444483,
          -0.2882418431202802,
          null
         ],
         "y": [
          -0.05965788920266929,
          -0.3322792495086678,
          null
         ]
        },
        {
         "hoverinfo": "none",
         "line": {
          "color": "black",
          "width": 0.06284454244762955
         },
         "mode": "lines",
         "type": "scatter",
         "x": [
          0.06447804664444483,
          0.12860479047184348,
          null
         ],
         "y": [
          -0.05965788920266929,
          -0.4211954484494301,
          null
         ]
        },
        {
         "hoverinfo": "none",
         "line": {
          "color": "black",
          "width": 0.054024255788313116
         },
         "mode": "lines",
         "type": "scatter",
         "x": [
          0.06447804664444483,
          -0.17793645032439956,
          null
         ],
         "y": [
          -0.05965788920266929,
          0.17240957768123794,
          null
         ]
        },
        {
         "hoverinfo": "none",
         "line": {
          "color": "black",
          "width": 0.06504961411245866
         },
         "mode": "lines",
         "type": "scatter",
         "x": [
          0.06447804664444483,
          0.13240216216981313,
          null
         ],
         "y": [
          -0.05965788920266929,
          0.7068036526387478,
          null
         ]
        },
        {
         "hoverinfo": "none",
         "line": {
          "color": "black",
          "width": 0.09040793825799338
         },
         "mode": "lines",
         "type": "scatter",
         "x": [
          0.06447804664444483,
          0.15714806623763225,
          null
         ],
         "y": [
          -0.05965788920266929,
          0.1258980689630793,
          null
         ]
        },
        {
         "hoverinfo": "none",
         "line": {
          "color": "black",
          "width": 0.05953693495038589
         },
         "mode": "lines",
         "type": "scatter",
         "x": [
          0.06447804664444483,
          0.2355999926523654,
          null
         ],
         "y": [
          -0.05965788920266929,
          -0.4540043814406071,
          null
         ]
        },
        {
         "hoverinfo": "none",
         "line": {
          "color": "black",
          "width": 0.09371554575523704
         },
         "mode": "lines",
         "type": "scatter",
         "x": [
          0.06447804664444483,
          0.3840306704231972,
          null
         ],
         "y": [
          -0.05965788920266929,
          0.2446940029928788,
          null
         ]
        },
        {
         "hoverinfo": "none",
         "line": {
          "color": "black",
          "width": 0.06504961411245866
         },
         "mode": "lines",
         "type": "scatter",
         "x": [
          0.06447804664444483,
          -0.4858837984149925,
          null
         ],
         "y": [
          -0.05965788920266929,
          -0.8907771854848452,
          null
         ]
        },
        {
         "hoverinfo": "none",
         "line": {
          "color": "black",
          "width": 0.06174200661521499
         },
         "mode": "lines",
         "type": "scatter",
         "x": [
          0.5232420279655444,
          0.7791115231964156,
          null
         ],
         "y": [
          -0.016409565027468737,
          -0.5715759028991447,
          null
         ]
        },
        {
         "hoverinfo": "none",
         "line": {
          "color": "black",
          "width": 0.2293274531422271
         },
         "mode": "lines",
         "type": "scatter",
         "x": [
          0.5232420279655444,
          0.6017611995181724,
          null
         ],
         "y": [
          -0.016409565027468737,
          -0.1725101268754411,
          null
         ]
        },
        {
         "hoverinfo": "none",
         "line": {
          "color": "black",
          "width": 0.07056229327453142
         },
         "mode": "lines",
         "type": "scatter",
         "x": [
          0.5232420279655444,
          0.18873243536504425,
          null
         ],
         "y": [
          -0.016409565027468737,
          0.5738514083129804,
          null
         ]
        },
        {
         "hoverinfo": "none",
         "line": {
          "color": "black",
          "width": 0.054024255788313116
         },
         "mode": "lines",
         "type": "scatter",
         "x": [
          0.5232420279655444,
          0.12860479047184348,
          null
         ],
         "y": [
          -0.016409565027468737,
          -0.4211954484494301,
          null
         ]
        },
        {
         "hoverinfo": "none",
         "line": {
          "color": "black",
          "width": 0.10804851157662623
         },
         "mode": "lines",
         "type": "scatter",
         "x": [
          0.5232420279655444,
          0.3840306704231972,
          null
         ],
         "y": [
          -0.016409565027468737,
          0.2446940029928788,
          null
         ]
        },
        {
         "hoverinfo": "none",
         "line": {
          "color": "black",
          "width": 0.14002205071664828
         },
         "mode": "lines",
         "type": "scatter",
         "x": [
          0.5232420279655444,
          0.06447804664444483,
          null
         ],
         "y": [
          -0.016409565027468737,
          -0.05965788920266929,
          null
         ]
        },
        {
         "hoverinfo": "none",
         "line": {
          "color": "black",
          "width": 0.06174200661521499
         },
         "mode": "lines",
         "type": "scatter",
         "x": [
          0.7791115231964156,
          0.5232420279655444,
          null
         ],
         "y": [
          -0.5715759028991447,
          -0.016409565027468737,
          null
         ]
        },
        {
         "hoverinfo": "none",
         "line": {
          "color": "black",
          "width": 0.054024255788313116
         },
         "mode": "lines",
         "type": "scatter",
         "x": [
          0.9857639092853484,
          0.12860479047184348,
          null
         ],
         "y": [
          0.05086103786592815,
          -0.4211954484494301,
          null
         ]
        },
        {
         "hoverinfo": "none",
         "line": {
          "color": "black",
          "width": 0.054024255788313116
         },
         "mode": "lines",
         "type": "scatter",
         "x": [
          0.12860479047184348,
          0.9857639092853484,
          null
         ],
         "y": [
          -0.4211954484494301,
          0.05086103786592815,
          null
         ]
        },
        {
         "hoverinfo": "none",
         "line": {
          "color": "black",
          "width": 0.054024255788313116
         },
         "mode": "lines",
         "type": "scatter",
         "x": [
          0.12860479047184348,
          0.5232420279655444,
          null
         ],
         "y": [
          -0.4211954484494301,
          -0.016409565027468737,
          null
         ]
        },
        {
         "hoverinfo": "none",
         "line": {
          "color": "black",
          "width": 0.06284454244762955
         },
         "mode": "lines",
         "type": "scatter",
         "x": [
          0.12860479047184348,
          -0.18913172707221196,
          null
         ],
         "y": [
          -0.4211954484494301,
          -0.5531089987566266,
          null
         ]
        },
        {
         "hoverinfo": "none",
         "line": {
          "color": "black",
          "width": 0.14994487320837926
         },
         "mode": "lines",
         "type": "scatter",
         "x": [
          0.12860479047184348,
          -0.3746212502733049,
          null
         ],
         "y": [
          -0.4211954484494301,
          -0.7104403453678731,
          null
         ]
        },
        {
         "hoverinfo": "none",
         "line": {
          "color": "black",
          "width": 0.0948180815876516
         },
         "mode": "lines",
         "type": "scatter",
         "x": [
          0.12860479047184348,
          0.22430887107673417,
          null
         ],
         "y": [
          -0.4211954484494301,
          -0.8694826611116757,
          null
         ]
        },
        {
         "hoverinfo": "none",
         "line": {
          "color": "black",
          "width": 0.05622932745314223
         },
         "mode": "lines",
         "type": "scatter",
         "x": [
          0.12860479047184348,
          0.10624227842481816,
          null
         ],
         "y": [
          -0.4211954484494301,
          0.3658555091081197,
          null
         ]
        },
        {
         "hoverinfo": "none",
         "line": {
          "color": "black",
          "width": 0.0782800441014333
         },
         "mode": "lines",
         "type": "scatter",
         "x": [
          0.12860479047184348,
          -0.2882418431202802,
          null
         ],
         "y": [
          -0.4211954484494301,
          -0.3322792495086678,
          null
         ]
        },
        {
         "hoverinfo": "none",
         "line": {
          "color": "black",
          "width": 0.09592061742006615
         },
         "mode": "lines",
         "type": "scatter",
         "x": [
          0.12860479047184348,
          0.05460214712362696,
          null
         ],
         "y": [
          -0.4211954484494301,
          -0.2250611797074352,
          null
         ]
        },
        {
         "hoverinfo": "none",
         "line": {
          "color": "black",
          "width": 0.1256890848952591
         },
         "mode": "lines",
         "type": "scatter",
         "x": [
          0.12860479047184348,
          0.2355999926523654,
          null
         ],
         "y": [
          -0.4211954484494301,
          -0.4540043814406071,
          null
         ]
        },
        {
         "hoverinfo": "none",
         "line": {
          "color": "black",
          "width": 0.06284454244762955
         },
         "mode": "lines",
         "type": "scatter",
         "x": [
          0.12860479047184348,
          0.06447804664444483,
          null
         ],
         "y": [
          -0.4211954484494301,
          -0.05965788920266929,
          null
         ]
        },
        {
         "hoverinfo": "none",
         "line": {
          "color": "black",
          "width": 0.2293274531422271
         },
         "mode": "lines",
         "type": "scatter",
         "x": [
          0.6017611995181724,
          0.5232420279655444,
          null
         ],
         "y": [
          -0.1725101268754411,
          -0.016409565027468737,
          null
         ]
        },
        {
         "hoverinfo": "none",
         "line": {
          "color": "black",
          "width": 0.05843439911797133
         },
         "mode": "lines",
         "type": "scatter",
         "x": [
          0.6017611995181724,
          0.15714806623763225,
          null
         ],
         "y": [
          -0.1725101268754411,
          0.1258980689630793,
          null
         ]
        },
        {
         "hoverinfo": "none",
         "line": {
          "color": "black",
          "width": 0.06284454244762955
         },
         "mode": "lines",
         "type": "scatter",
         "x": [
          0.6017611995181724,
          0.2355999926523654,
          null
         ],
         "y": [
          -0.1725101268754411,
          -0.4540043814406071,
          null
         ]
        },
        {
         "hoverinfo": "none",
         "line": {
          "color": "black",
          "width": 0.054024255788313116
         },
         "mode": "lines",
         "type": "scatter",
         "x": [
          0.6017611995181724,
          0.3840306704231972,
          null
         ],
         "y": [
          -0.1725101268754411,
          0.2446940029928788,
          null
         ]
        },
        {
         "hoverinfo": "none",
         "line": {
          "color": "black",
          "width": 0.09592061742006615
         },
         "mode": "lines",
         "type": "scatter",
         "x": [
          0.6017611995181724,
          0.06447804664444483,
          null
         ],
         "y": [
          -0.1725101268754411,
          -0.05965788920266929,
          null
         ]
        },
        {
         "hoverinfo": "none",
         "line": {
          "color": "black",
          "width": 0.07056229327453142
         },
         "mode": "lines",
         "type": "scatter",
         "x": [
          0.18873243536504425,
          0.5232420279655444,
          null
         ],
         "y": [
          0.5738514083129804,
          -0.016409565027468737,
          null
         ]
        },
        {
         "hoverinfo": "none",
         "line": {
          "color": "black",
          "width": 0.05292171995589856
         },
         "mode": "lines",
         "type": "scatter",
         "x": [
          0.18873243536504425,
          0.3840306704231972,
          null
         ],
         "y": [
          0.5738514083129804,
          0.2446940029928788,
          null
         ]
        },
        {
         "hoverinfo": "none",
         "line": {
          "color": "black",
          "width": 0.054024255788313116
         },
         "mode": "lines",
         "type": "scatter",
         "x": [
          -0.18913172707221196,
          -0.38532567304897064,
          null
         ],
         "y": [
          -0.5531089987566266,
          -0.09567342606954125,
          null
         ]
        },
        {
         "hoverinfo": "none",
         "line": {
          "color": "black",
          "width": 0.06504961411245866
         },
         "mode": "lines",
         "type": "scatter",
         "x": [
          -0.18913172707221196,
          -0.2882418431202802,
          null
         ],
         "y": [
          -0.5531089987566266,
          -0.3322792495086678,
          null
         ]
        },
        {
         "hoverinfo": "none",
         "line": {
          "color": "black",
          "width": 0.06284454244762955
         },
         "mode": "lines",
         "type": "scatter",
         "x": [
          -0.18913172707221196,
          0.12860479047184348,
          null
         ],
         "y": [
          -0.5531089987566266,
          -0.4211954484494301,
          null
         ]
        },
        {
         "hoverinfo": "none",
         "line": {
          "color": "black",
          "width": 0.05181918412348402
         },
         "mode": "lines",
         "type": "scatter",
         "x": [
          -0.18913172707221196,
          -0.17793645032439956,
          null
         ],
         "y": [
          -0.5531089987566266,
          0.17240957768123794,
          null
         ]
        },
        {
         "hoverinfo": "none",
         "line": {
          "color": "black",
          "width": 0.054024255788313116
         },
         "mode": "lines",
         "type": "scatter",
         "x": [
          -0.18913172707221196,
          0.2355999926523654,
          null
         ],
         "y": [
          -0.5531089987566266,
          -0.4540043814406071,
          null
         ]
        },
        {
         "hoverinfo": "none",
         "line": {
          "color": "black",
          "width": 0.06504961411245866
         },
         "mode": "lines",
         "type": "scatter",
         "x": [
          -0.2882418431202802,
          -0.18913172707221196,
          null
         ],
         "y": [
          -0.3322792495086678,
          -0.5531089987566266,
          null
         ]
        },
        {
         "hoverinfo": "none",
         "line": {
          "color": "black",
          "width": 0.06725468577728777
         },
         "mode": "lines",
         "type": "scatter",
         "x": [
          -0.2882418431202802,
          -0.38532567304897064,
          null
         ],
         "y": [
          -0.3322792495086678,
          -0.09567342606954125,
          null
         ]
        },
        {
         "hoverinfo": "none",
         "line": {
          "color": "black",
          "width": 0.05292171995589856
         },
         "mode": "lines",
         "type": "scatter",
         "x": [
          -0.2882418431202802,
          -0.3746212502733049,
          null
         ],
         "y": [
          -0.3322792495086678,
          -0.7104403453678731,
          null
         ]
        },
        {
         "hoverinfo": "none",
         "line": {
          "color": "black",
          "width": 0.06835722160970231
         },
         "mode": "lines",
         "type": "scatter",
         "x": [
          -0.2882418431202802,
          0.22430887107673417,
          null
         ],
         "y": [
          -0.3322792495086678,
          -0.8694826611116757,
          null
         ]
        },
        {
         "hoverinfo": "none",
         "line": {
          "color": "black",
          "width": 0.0782800441014333
         },
         "mode": "lines",
         "type": "scatter",
         "x": [
          -0.2882418431202802,
          0.12860479047184348,
          null
         ],
         "y": [
          -0.3322792495086678,
          -0.4211954484494301,
          null
         ]
        },
        {
         "hoverinfo": "none",
         "line": {
          "color": "black",
          "width": 0.0639470782800441
         },
         "mode": "lines",
         "type": "scatter",
         "x": [
          -0.2882418431202802,
          0.15714806623763225,
          null
         ],
         "y": [
          -0.3322792495086678,
          0.1258980689630793,
          null
         ]
        },
        {
         "hoverinfo": "none",
         "line": {
          "color": "black",
          "width": 0.08048511576626241
         },
         "mode": "lines",
         "type": "scatter",
         "x": [
          -0.2882418431202802,
          -0.854804690897364,
          null
         ],
         "y": [
          -0.3322792495086678,
          0.2599134001283535,
          null
         ]
        },
        {
         "hoverinfo": "none",
         "line": {
          "color": "black",
          "width": 0.0848952590959206
         },
         "mode": "lines",
         "type": "scatter",
         "x": [
          -0.2882418431202802,
          0.06447804664444483,
          null
         ],
         "y": [
          -0.3322792495086678,
          -0.05965788920266929,
          null
         ]
        },
        {
         "hoverinfo": "none",
         "line": {
          "color": "black",
          "width": 0.05181918412348402
         },
         "mode": "lines",
         "type": "scatter",
         "x": [
          -0.17793645032439956,
          -0.18913172707221196,
          null
         ],
         "y": [
          0.17240957768123794,
          -0.5531089987566266,
          null
         ]
        },
        {
         "hoverinfo": "none",
         "line": {
          "color": "black",
          "width": 0.07276736493936053
         },
         "mode": "lines",
         "type": "scatter",
         "x": [
          -0.17793645032439956,
          -0.38532567304897064,
          null
         ],
         "y": [
          0.17240957768123794,
          -0.09567342606954125,
          null
         ]
        },
        {
         "hoverinfo": "none",
         "line": {
          "color": "black",
          "width": 0.05071664829106946
         },
         "mode": "lines",
         "type": "scatter",
         "x": [
          -0.17793645032439956,
          0.2355999926523654,
          null
         ],
         "y": [
          0.17240957768123794,
          -0.4540043814406071,
          null
         ]
        },
        {
         "hoverinfo": "none",
         "line": {
          "color": "black",
          "width": 0.054024255788313116
         },
         "mode": "lines",
         "type": "scatter",
         "x": [
          -0.17793645032439956,
          0.06447804664444483,
          null
         ],
         "y": [
          0.17240957768123794,
          -0.05965788920266929,
          null
         ]
        },
        {
         "hoverinfo": "none",
         "line": {
          "color": "black",
          "width": 0.05843439911797133
         },
         "mode": "lines",
         "type": "scatter",
         "x": [
          -0.17793645032439956,
          0.0421673038488341,
          null
         ],
         "y": [
          0.17240957768123794,
          0.9999999999999999,
          null
         ]
        },
        {
         "hoverinfo": "none",
         "line": {
          "color": "black",
          "width": 0.054024255788313116
         },
         "mode": "lines",
         "type": "scatter",
         "x": [
          0.2355999926523654,
          -0.18913172707221196,
          null
         ],
         "y": [
          -0.4540043814406071,
          -0.5531089987566266,
          null
         ]
        },
        {
         "hoverinfo": "none",
         "line": {
          "color": "black",
          "width": 0.06284454244762955
         },
         "mode": "lines",
         "type": "scatter",
         "x": [
          0.2355999926523654,
          0.6017611995181724,
          null
         ],
         "y": [
          -0.4540043814406071,
          -0.1725101268754411,
          null
         ]
        },
        {
         "hoverinfo": "none",
         "line": {
          "color": "black",
          "width": 0.06174200661521499
         },
         "mode": "lines",
         "type": "scatter",
         "x": [
          0.2355999926523654,
          -0.38532567304897064,
          null
         ],
         "y": [
          -0.4540043814406071,
          -0.09567342606954125,
          null
         ]
        },
        {
         "hoverinfo": "none",
         "line": {
          "color": "black",
          "width": 0.0782800441014333
         },
         "mode": "lines",
         "type": "scatter",
         "x": [
          0.2355999926523654,
          0.22430887107673417,
          null
         ],
         "y": [
          -0.4540043814406071,
          -0.8694826611116757,
          null
         ]
        },
        {
         "hoverinfo": "none",
         "line": {
          "color": "black",
          "width": 0.1256890848952591
         },
         "mode": "lines",
         "type": "scatter",
         "x": [
          0.2355999926523654,
          0.12860479047184348,
          null
         ],
         "y": [
          -0.4540043814406071,
          -0.4211954484494301,
          null
         ]
        },
        {
         "hoverinfo": "none",
         "line": {
          "color": "black",
          "width": 0.08048511576626241
         },
         "mode": "lines",
         "type": "scatter",
         "x": [
          0.2355999926523654,
          0.05460214712362696,
          null
         ],
         "y": [
          -0.4540043814406071,
          -0.2250611797074352,
          null
         ]
        },
        {
         "hoverinfo": "none",
         "line": {
          "color": "black",
          "width": 0.05071664829106946
         },
         "mode": "lines",
         "type": "scatter",
         "x": [
          0.2355999926523654,
          -0.17793645032439956,
          null
         ],
         "y": [
          -0.4540043814406071,
          0.17240957768123794,
          null
         ]
        },
        {
         "hoverinfo": "none",
         "line": {
          "color": "black",
          "width": 0.05953693495038589
         },
         "mode": "lines",
         "type": "scatter",
         "x": [
          0.2355999926523654,
          0.06447804664444483,
          null
         ],
         "y": [
          -0.4540043814406071,
          -0.05965788920266929,
          null
         ]
        },
        {
         "hoverinfo": "none",
         "line": {
          "color": "black",
          "width": 0.05843439911797133
         },
         "mode": "lines",
         "type": "scatter",
         "x": [
          0.15714806623763225,
          0.6017611995181724,
          null
         ],
         "y": [
          0.1258980689630793,
          -0.1725101268754411,
          null
         ]
        },
        {
         "hoverinfo": "none",
         "line": {
          "color": "black",
          "width": 0.05843439911797133
         },
         "mode": "lines",
         "type": "scatter",
         "x": [
          0.15714806623763225,
          -0.38532567304897064,
          null
         ],
         "y": [
          0.1258980689630793,
          -0.09567342606954125,
          null
         ]
        },
        {
         "hoverinfo": "none",
         "line": {
          "color": "black",
          "width": 0.06284454244762955
         },
         "mode": "lines",
         "type": "scatter",
         "x": [
          0.15714806623763225,
          0.10624227842481816,
          null
         ],
         "y": [
          0.1258980689630793,
          0.3658555091081197,
          null
         ]
        },
        {
         "hoverinfo": "none",
         "line": {
          "color": "black",
          "width": 0.0639470782800441
         },
         "mode": "lines",
         "type": "scatter",
         "x": [
          0.15714806623763225,
          -0.2882418431202802,
          null
         ],
         "y": [
          0.1258980689630793,
          -0.3322792495086678,
          null
         ]
        },
        {
         "hoverinfo": "none",
         "line": {
          "color": "black",
          "width": 0.06615214994487321
         },
         "mode": "lines",
         "type": "scatter",
         "x": [
          0.15714806623763225,
          0.13240216216981313,
          null
         ],
         "y": [
          0.1258980689630793,
          0.7068036526387478,
          null
         ]
        },
        {
         "hoverinfo": "none",
         "line": {
          "color": "black",
          "width": 0.05292171995589856
         },
         "mode": "lines",
         "type": "scatter",
         "x": [
          0.15714806623763225,
          0.3840306704231972,
          null
         ],
         "y": [
          0.1258980689630793,
          0.2446940029928788,
          null
         ]
        },
        {
         "hoverinfo": "none",
         "line": {
          "color": "black",
          "width": 0.09040793825799338
         },
         "mode": "lines",
         "type": "scatter",
         "x": [
          0.15714806623763225,
          0.06447804664444483,
          null
         ],
         "y": [
          0.1258980689630793,
          -0.05965788920266929,
          null
         ]
        },
        {
         "hoverinfo": "none",
         "line": {
          "color": "black",
          "width": 0.05292171995589856
         },
         "mode": "lines",
         "type": "scatter",
         "x": [
          -0.3746212502733049,
          -0.2882418431202802,
          null
         ],
         "y": [
          -0.7104403453678731,
          -0.3322792495086678,
          null
         ]
        },
        {
         "hoverinfo": "none",
         "line": {
          "color": "black",
          "width": 0.14994487320837926
         },
         "mode": "lines",
         "type": "scatter",
         "x": [
          -0.3746212502733049,
          0.12860479047184348,
          null
         ],
         "y": [
          -0.7104403453678731,
          -0.4211954484494301,
          null
         ]
        },
        {
         "hoverinfo": "none",
         "line": {
          "color": "black",
          "width": 0.06835722160970231
         },
         "mode": "lines",
         "type": "scatter",
         "x": [
          0.22430887107673417,
          -0.2882418431202802,
          null
         ],
         "y": [
          -0.8694826611116757,
          -0.3322792495086678,
          null
         ]
        },
        {
         "hoverinfo": "none",
         "line": {
          "color": "black",
          "width": 0.0948180815876516
         },
         "mode": "lines",
         "type": "scatter",
         "x": [
          0.22430887107673417,
          0.12860479047184348,
          null
         ],
         "y": [
          -0.8694826611116757,
          -0.4211954484494301,
          null
         ]
        },
        {
         "hoverinfo": "none",
         "line": {
          "color": "black",
          "width": 0.0782800441014333
         },
         "mode": "lines",
         "type": "scatter",
         "x": [
          0.22430887107673417,
          0.2355999926523654,
          null
         ],
         "y": [
          -0.8694826611116757,
          -0.4540043814406071,
          null
         ]
        },
        {
         "hoverinfo": "none",
         "line": {
          "color": "black",
          "width": 0.054024255788313116
         },
         "mode": "lines",
         "type": "scatter",
         "x": [
          0.7756299862089011,
          -0.04607331598511028,
          null
         ],
         "y": [
          0.6913791235258715,
          0.5691631191597756,
          null
         ]
        },
        {
         "hoverinfo": "none",
         "line": {
          "color": "black",
          "width": 0.06284454244762955
         },
         "mode": "lines",
         "type": "scatter",
         "x": [
          0.10624227842481816,
          -0.49164510909252657,
          null
         ],
         "y": [
          0.3658555091081197,
          0.2819570610224665,
          null
         ]
        },
        {
         "hoverinfo": "none",
         "line": {
          "color": "black",
          "width": 0.05071664829106946
         },
         "mode": "lines",
         "type": "scatter",
         "x": [
          0.10624227842481816,
          -0.04607331598511028,
          null
         ],
         "y": [
          0.3658555091081197,
          0.5691631191597756,
          null
         ]
        },
        {
         "hoverinfo": "none",
         "line": {
          "color": "black",
          "width": 0.10474090407938258
         },
         "mode": "lines",
         "type": "scatter",
         "x": [
          0.10624227842481816,
          0.3713555485374522,
          null
         ],
         "y": [
          0.3658555091081197,
          0.8972053792373055,
          null
         ]
        },
        {
         "hoverinfo": "none",
         "line": {
          "color": "black",
          "width": 0.05622932745314223
         },
         "mode": "lines",
         "type": "scatter",
         "x": [
          0.10624227842481816,
          0.12860479047184348,
          null
         ],
         "y": [
          0.3658555091081197,
          -0.4211954484494301,
          null
         ]
        },
        {
         "hoverinfo": "none",
         "line": {
          "color": "black",
          "width": 0.06284454244762955
         },
         "mode": "lines",
         "type": "scatter",
         "x": [
          0.10624227842481816,
          0.15714806623763225,
          null
         ],
         "y": [
          0.3658555091081197,
          0.1258980689630793,
          null
         ]
        },
        {
         "hoverinfo": "none",
         "line": {
          "color": "black",
          "width": 0.05181918412348402
         },
         "mode": "lines",
         "type": "scatter",
         "x": [
          0.10624227842481816,
          0.3840306704231972,
          null
         ],
         "y": [
          0.3658555091081197,
          0.2446940029928788,
          null
         ]
        },
        {
         "hoverinfo": "none",
         "line": {
          "color": "black",
          "width": 0.08599779492833518
         },
         "mode": "lines",
         "type": "scatter",
         "x": [
          0.10624227842481816,
          0.06447804664444483,
          null
         ],
         "y": [
          0.3658555091081197,
          -0.05965788920266929,
          null
         ]
        },
        {
         "hoverinfo": "none",
         "line": {
          "color": "black",
          "width": 0.06284454244762955
         },
         "mode": "lines",
         "type": "scatter",
         "x": [
          -0.49164510909252657,
          0.10624227842481816,
          null
         ],
         "y": [
          0.2819570610224665,
          0.3658555091081197,
          null
         ]
        },
        {
         "hoverinfo": "none",
         "line": {
          "color": "black",
          "width": 0.05512679162072767
         },
         "mode": "lines",
         "type": "scatter",
         "x": [
          -0.49164510909252657,
          -0.04607331598511028,
          null
         ],
         "y": [
          0.2819570610224665,
          0.5691631191597756,
          null
         ]
        },
        {
         "hoverinfo": "none",
         "line": {
          "color": "black",
          "width": 0.05512679162072767
         },
         "mode": "lines",
         "type": "scatter",
         "x": [
          -0.49164510909252657,
          0.06447804664444483,
          null
         ],
         "y": [
          0.2819570610224665,
          -0.05965788920266929,
          null
         ]
        },
        {
         "hoverinfo": "none",
         "line": {
          "color": "black",
          "width": 0.10474090407938258
         },
         "mode": "lines",
         "type": "scatter",
         "x": [
          0.3713555485374522,
          0.10624227842481816,
          null
         ],
         "y": [
          0.8972053792373055,
          0.3658555091081197,
          null
         ]
        },
        {
         "hoverinfo": "none",
         "line": {
          "color": "black",
          "width": 0.0639470782800441
         },
         "mode": "lines",
         "type": "scatter",
         "x": [
          0.3713555485374522,
          -0.04607331598511028,
          null
         ],
         "y": [
          0.8972053792373055,
          0.5691631191597756,
          null
         ]
        },
        {
         "hoverinfo": "none",
         "line": {
          "color": "black",
          "width": 0.08048511576626241
         },
         "mode": "lines",
         "type": "scatter",
         "x": [
          -0.854804690897364,
          -0.2882418431202802,
          null
         ],
         "y": [
          0.2599134001283535,
          -0.3322792495086678,
          null
         ]
        },
        {
         "hoverinfo": "none",
         "line": {
          "color": "black",
          "width": 0.09592061742006615
         },
         "mode": "lines",
         "type": "scatter",
         "x": [
          0.05460214712362696,
          0.12860479047184348,
          null
         ],
         "y": [
          -0.2250611797074352,
          -0.4211954484494301,
          null
         ]
        },
        {
         "hoverinfo": "none",
         "line": {
          "color": "black",
          "width": 0.08048511576626241
         },
         "mode": "lines",
         "type": "scatter",
         "x": [
          0.05460214712362696,
          0.2355999926523654,
          null
         ],
         "y": [
          -0.2250611797074352,
          -0.4540043814406071,
          null
         ]
        },
        {
         "hoverinfo": "none",
         "line": {
          "color": "black",
          "width": 0.05071664829106946
         },
         "mode": "lines",
         "type": "scatter",
         "x": [
          -0.8162192646009775,
          -0.11516514021738053,
          null
         ],
         "y": [
          -0.4605825307214371,
          -0.9492481870391188,
          null
         ]
        },
        {
         "hoverinfo": "none",
         "line": {
          "color": "black",
          "width": 0.05071664829106946
         },
         "mode": "lines",
         "type": "scatter",
         "x": [
          -0.11516514021738053,
          -0.8162192646009775,
          null
         ],
         "y": [
          -0.9492481870391188,
          -0.4605825307214371,
          null
         ]
        },
        {
         "hoverinfo": "none",
         "line": {
          "color": "black",
          "width": 0.05843439911797133
         },
         "mode": "lines",
         "type": "scatter",
         "x": [
          0.0421673038488341,
          -0.17793645032439956,
          null
         ],
         "y": [
          0.9999999999999999,
          0.17240957768123794,
          null
         ]
        },
        {
         "hoverinfo": "none",
         "line": {
          "color": "black",
          "width": 0.06615214994487321
         },
         "mode": "lines",
         "type": "scatter",
         "x": [
          0.13240216216981313,
          0.15714806623763225,
          null
         ],
         "y": [
          0.7068036526387478,
          0.1258980689630793,
          null
         ]
        },
        {
         "hoverinfo": "none",
         "line": {
          "color": "black",
          "width": 0.08599779492833518
         },
         "mode": "lines",
         "type": "scatter",
         "x": [
          0.13240216216981313,
          -0.3175510484390102,
          null
         ],
         "y": [
          0.7068036526387478,
          0.8910284942559263,
          null
         ]
        },
        {
         "hoverinfo": "none",
         "line": {
          "color": "black",
          "width": 0.05622932745314223
         },
         "mode": "lines",
         "type": "scatter",
         "x": [
          0.13240216216981313,
          0.3840306704231972,
          null
         ],
         "y": [
          0.7068036526387478,
          0.2446940029928788,
          null
         ]
        },
        {
         "hoverinfo": "none",
         "line": {
          "color": "black",
          "width": 0.06504961411245866
         },
         "mode": "lines",
         "type": "scatter",
         "x": [
          0.13240216216981313,
          0.06447804664444483,
          null
         ],
         "y": [
          0.7068036526387478,
          -0.05965788920266929,
          null
         ]
        },
        {
         "hoverinfo": "none",
         "line": {
          "color": "black",
          "width": 0.08599779492833518
         },
         "mode": "lines",
         "type": "scatter",
         "x": [
          -0.3175510484390102,
          0.13240216216981313,
          null
         ],
         "y": [
          0.8910284942559263,
          0.7068036526387478,
          null
         ]
        },
        {
         "hoverinfo": "none",
         "line": {
          "color": "black",
          "width": 0.06504961411245866
         },
         "mode": "lines",
         "type": "scatter",
         "x": [
          -0.4858837984149925,
          0.06447804664444483,
          null
         ],
         "y": [
          -0.8907771854848452,
          -0.05965788920266929,
          null
         ]
        },
        {
         "marker": {
          "color": "lightblue",
          "size": 40
         },
         "mode": "markers+text",
         "text": "Add-on item Sub",
         "textposition": "top center",
         "type": "scatter",
         "x": [
          -0.2798704748868339
         ],
         "y": [
          -0.08533671127878534
         ]
        },
        {
         "marker": {
          "color": "lightblue",
          "size": 40
         },
         "mode": "markers+text",
         "text": "Chocolate Bar",
         "textposition": "top center",
         "type": "scatter",
         "x": [
          -0.9327111727768242
         ],
         "y": [
          0.03632395404809687
         ]
        },
        {
         "marker": {
          "color": "lightblue",
          "size": 40
         },
         "mode": "markers+text",
         "text": "Flavored Milk Sub",
         "textposition": "top center",
         "type": "scatter",
         "x": [
          -0.38532567304897064
         ],
         "y": [
          -0.09567342606954125
         ]
        },
        {
         "marker": {
          "color": "lightblue",
          "size": 40
         },
         "mode": "markers+text",
         "text": "Instant Noodles Pack",
         "textposition": "top center",
         "type": "scatter",
         "x": [
          -0.04607331598511028
         ],
         "y": [
          0.5691631191597756
         ]
        },
        {
         "marker": {
          "color": "lightblue",
          "size": 40
         },
         "mode": "markers+text",
         "text": "Sugar CSD",
         "textposition": "top center",
         "type": "scatter",
         "x": [
          0.3840306704231972
         ],
         "y": [
          0.2446940029928788
         ]
        },
        {
         "marker": {
          "color": "lightblue",
          "size": 40
         },
         "mode": "markers+text",
         "text": "Sugar Tea",
         "textposition": "top center",
         "type": "scatter",
         "x": [
          0.06447804664444483
         ],
         "y": [
          -0.05965788920266929
         ]
        },
        {
         "marker": {
          "color": "lightblue",
          "size": 40
         },
         "mode": "markers+text",
         "text": "Cup Of Ice",
         "textposition": "top center",
         "type": "scatter",
         "x": [
          0.5232420279655444
         ],
         "y": [
          -0.016409565027468737
         ]
        },
        {
         "marker": {
          "color": "lightblue",
          "size": 40
         },
         "mode": "markers+text",
         "text": "Coffee Drinks Sub",
         "textposition": "top center",
         "type": "scatter",
         "x": [
          0.7791115231964156
         ],
         "y": [
          -0.5715759028991447
         ]
        },
        {
         "marker": {
          "color": "lightblue",
          "size": 40
         },
         "mode": "markers+text",
         "text": "Cup",
         "textposition": "top center",
         "type": "scatter",
         "x": [
          0.9857639092853484
         ],
         "y": [
          0.05086103786592815
         ]
        },
        {
         "marker": {
          "color": "lightblue",
          "size": 40
         },
         "mode": "markers+text",
         "text": "Other Cuisine Sub",
         "textposition": "top center",
         "type": "scatter",
         "x": [
          0.12860479047184348
         ],
         "y": [
          -0.4211954484494301
         ]
        },
        {
         "marker": {
          "color": "lightblue",
          "size": 40
         },
         "mode": "markers+text",
         "text": "Energy Drinks Sub",
         "textposition": "top center",
         "type": "scatter",
         "x": [
          0.6017611995181724
         ],
         "y": [
          -0.1725101268754411
         ]
        },
        {
         "marker": {
          "color": "lightblue",
          "size": 40
         },
         "mode": "markers+text",
         "text": "No/Less Sugar CSD",
         "textposition": "top center",
         "type": "scatter",
         "x": [
          0.18873243536504425
         ],
         "y": [
          0.5738514083129804
         ]
        },
        {
         "marker": {
          "color": "lightblue",
          "size": 40
         },
         "mode": "markers+text",
         "text": "Drink",
         "textposition": "top center",
         "type": "scatter",
         "x": [
          -0.18913172707221196
         ],
         "y": [
          -0.5531089987566266
         ]
        },
        {
         "marker": {
          "color": "lightblue",
          "size": 40
         },
         "mode": "markers+text",
         "text": "Onigiri",
         "textposition": "top center",
         "type": "scatter",
         "x": [
          -0.2882418431202802
         ],
         "y": [
          -0.3322792495086678
         ]
        },
        {
         "marker": {
          "color": "lightblue",
          "size": 40
         },
         "mode": "markers+text",
         "text": "Packaged bakery",
         "textposition": "top center",
         "type": "scatter",
         "x": [
          -0.17793645032439956
         ],
         "y": [
          0.17240957768123794
         ]
        },
        {
         "marker": {
          "color": "lightblue",
          "size": 40
         },
         "mode": "markers+text",
         "text": "Savoury  Buns",
         "textposition": "top center",
         "type": "scatter",
         "x": [
          0.2355999926523654
         ],
         "y": [
          -0.4540043814406071
         ]
        },
        {
         "marker": {
          "color": "lightblue",
          "size": 40
         },
         "mode": "markers+text",
         "text": "Purified water",
         "textposition": "top center",
         "type": "scatter",
         "x": [
          0.15714806623763225
         ],
         "y": [
          0.1258980689630793
         ]
        },
        {
         "marker": {
          "color": "lightblue",
          "size": 40
         },
         "mode": "markers+text",
         "text": "Fried Food Sub",
         "textposition": "top center",
         "type": "scatter",
         "x": [
          -0.3746212502733049
         ],
         "y": [
          -0.7104403453678731
         ]
        },
        {
         "marker": {
          "color": "lightblue",
          "size": 40
         },
         "mode": "markers+text",
         "text": "Fruit Sub",
         "textposition": "top center",
         "type": "scatter",
         "x": [
          0.22430887107673417
         ],
         "y": [
          -0.8694826611116757
         ]
        },
        {
         "marker": {
          "color": "lightblue",
          "size": 40
         },
         "mode": "markers+text",
         "text": "Hot pot Thai",
         "textposition": "top center",
         "type": "scatter",
         "x": [
          0.7756299862089011
         ],
         "y": [
          0.6913791235258715
         ]
        },
        {
         "marker": {
          "color": "lightblue",
          "size": 40
         },
         "mode": "markers+text",
         "text": "Instant Noodles Cup",
         "textposition": "top center",
         "type": "scatter",
         "x": [
          0.10624227842481816
         ],
         "y": [
          0.3658555091081197
         ]
        },
        {
         "marker": {
          "color": "lightblue",
          "size": 40
         },
         "mode": "markers+text",
         "text": "Instant Noodles Bowl",
         "textposition": "top center",
         "type": "scatter",
         "x": [
          -0.49164510909252657
         ],
         "y": [
          0.2819570610224665
         ]
        },
        {
         "marker": {
          "color": "lightblue",
          "size": 40
         },
         "mode": "markers+text",
         "text": "Instant Sausage",
         "textposition": "top center",
         "type": "scatter",
         "x": [
          0.3713555485374522
         ],
         "y": [
          0.8972053792373055
         ]
        },
        {
         "marker": {
          "color": "lightblue",
          "size": 40
         },
         "mode": "markers+text",
         "text": "Sandwich",
         "textposition": "top center",
         "type": "scatter",
         "x": [
          -0.854804690897364
         ],
         "y": [
          0.2599134001283535
         ]
        },
        {
         "marker": {
          "color": "lightblue",
          "size": 40
         },
         "mode": "markers+text",
         "text": "Others Steamed  bun",
         "textposition": "top center",
         "type": "scatter",
         "x": [
          0.05460214712362696
         ],
         "y": [
          -0.2250611797074352
         ]
        },
        {
         "marker": {
          "color": "lightblue",
          "size": 40
         },
         "mode": "markers+text",
         "text": "Other Ice Cream",
         "textposition": "top center",
         "type": "scatter",
         "x": [
          -0.8162192646009775
         ],
         "y": [
          -0.4605825307214371
         ]
        },
        {
         "marker": {
          "color": "lightblue",
          "size": 40
         },
         "mode": "markers+text",
         "text": "Stick",
         "textposition": "top center",
         "type": "scatter",
         "x": [
          -0.11516514021738053
         ],
         "y": [
          -0.9492481870391188
         ]
        },
        {
         "marker": {
          "color": "lightblue",
          "size": 40
         },
         "mode": "markers+text",
         "text": "UHT Milk",
         "textposition": "top center",
         "type": "scatter",
         "x": [
          0.0421673038488341
         ],
         "y": [
          0.9999999999999999
         ]
        },
        {
         "marker": {
          "color": "lightblue",
          "size": 40
         },
         "mode": "markers+text",
         "text": "Potato Snacks",
         "textposition": "top center",
         "type": "scatter",
         "x": [
          0.13240216216981313
         ],
         "y": [
          0.7068036526387478
         ]
        },
        {
         "marker": {
          "color": "lightblue",
          "size": 40
         },
         "mode": "markers+text",
         "text": "Salty Snacks",
         "textposition": "top center",
         "type": "scatter",
         "x": [
          -0.3175510484390102
         ],
         "y": [
          0.8910284942559263
         ]
        },
        {
         "marker": {
          "color": "lightblue",
          "size": 40
         },
         "mode": "markers+text",
         "text": "WIC/RIC Juice",
         "textposition": "top center",
         "type": "scatter",
         "x": [
          -0.4858837984149925
         ],
         "y": [
          -0.8907771854848452
         ]
        }
       ],
       "layout": {
        "hovermode": "closest",
        "margin": {
         "b": 20,
         "l": 5,
         "r": 5,
         "t": 40
        },
        "plot_bgcolor": "white",
        "showlegend": false,
        "template": {
         "data": {
          "bar": [
           {
            "error_x": {
             "color": "#2a3f5f"
            },
            "error_y": {
             "color": "#2a3f5f"
            },
            "marker": {
             "line": {
              "color": "#E5ECF6",
              "width": 0.5
             },
             "pattern": {
              "fillmode": "overlay",
              "size": 10,
              "solidity": 0.2
             }
            },
            "type": "bar"
           }
          ],
          "barpolar": [
           {
            "marker": {
             "line": {
              "color": "#E5ECF6",
              "width": 0.5
             },
             "pattern": {
              "fillmode": "overlay",
              "size": 10,
              "solidity": 0.2
             }
            },
            "type": "barpolar"
           }
          ],
          "carpet": [
           {
            "aaxis": {
             "endlinecolor": "#2a3f5f",
             "gridcolor": "white",
             "linecolor": "white",
             "minorgridcolor": "white",
             "startlinecolor": "#2a3f5f"
            },
            "baxis": {
             "endlinecolor": "#2a3f5f",
             "gridcolor": "white",
             "linecolor": "white",
             "minorgridcolor": "white",
             "startlinecolor": "#2a3f5f"
            },
            "type": "carpet"
           }
          ],
          "choropleth": [
           {
            "colorbar": {
             "outlinewidth": 0,
             "ticks": ""
            },
            "type": "choropleth"
           }
          ],
          "contour": [
           {
            "colorbar": {
             "outlinewidth": 0,
             "ticks": ""
            },
            "colorscale": [
             [
              0,
              "#0d0887"
             ],
             [
              0.1111111111111111,
              "#46039f"
             ],
             [
              0.2222222222222222,
              "#7201a8"
             ],
             [
              0.3333333333333333,
              "#9c179e"
             ],
             [
              0.4444444444444444,
              "#bd3786"
             ],
             [
              0.5555555555555556,
              "#d8576b"
             ],
             [
              0.6666666666666666,
              "#ed7953"
             ],
             [
              0.7777777777777778,
              "#fb9f3a"
             ],
             [
              0.8888888888888888,
              "#fdca26"
             ],
             [
              1,
              "#f0f921"
             ]
            ],
            "type": "contour"
           }
          ],
          "contourcarpet": [
           {
            "colorbar": {
             "outlinewidth": 0,
             "ticks": ""
            },
            "type": "contourcarpet"
           }
          ],
          "heatmap": [
           {
            "colorbar": {
             "outlinewidth": 0,
             "ticks": ""
            },
            "colorscale": [
             [
              0,
              "#0d0887"
             ],
             [
              0.1111111111111111,
              "#46039f"
             ],
             [
              0.2222222222222222,
              "#7201a8"
             ],
             [
              0.3333333333333333,
              "#9c179e"
             ],
             [
              0.4444444444444444,
              "#bd3786"
             ],
             [
              0.5555555555555556,
              "#d8576b"
             ],
             [
              0.6666666666666666,
              "#ed7953"
             ],
             [
              0.7777777777777778,
              "#fb9f3a"
             ],
             [
              0.8888888888888888,
              "#fdca26"
             ],
             [
              1,
              "#f0f921"
             ]
            ],
            "type": "heatmap"
           }
          ],
          "heatmapgl": [
           {
            "colorbar": {
             "outlinewidth": 0,
             "ticks": ""
            },
            "colorscale": [
             [
              0,
              "#0d0887"
             ],
             [
              0.1111111111111111,
              "#46039f"
             ],
             [
              0.2222222222222222,
              "#7201a8"
             ],
             [
              0.3333333333333333,
              "#9c179e"
             ],
             [
              0.4444444444444444,
              "#bd3786"
             ],
             [
              0.5555555555555556,
              "#d8576b"
             ],
             [
              0.6666666666666666,
              "#ed7953"
             ],
             [
              0.7777777777777778,
              "#fb9f3a"
             ],
             [
              0.8888888888888888,
              "#fdca26"
             ],
             [
              1,
              "#f0f921"
             ]
            ],
            "type": "heatmapgl"
           }
          ],
          "histogram": [
           {
            "marker": {
             "pattern": {
              "fillmode": "overlay",
              "size": 10,
              "solidity": 0.2
             }
            },
            "type": "histogram"
           }
          ],
          "histogram2d": [
           {
            "colorbar": {
             "outlinewidth": 0,
             "ticks": ""
            },
            "colorscale": [
             [
              0,
              "#0d0887"
             ],
             [
              0.1111111111111111,
              "#46039f"
             ],
             [
              0.2222222222222222,
              "#7201a8"
             ],
             [
              0.3333333333333333,
              "#9c179e"
             ],
             [
              0.4444444444444444,
              "#bd3786"
             ],
             [
              0.5555555555555556,
              "#d8576b"
             ],
             [
              0.6666666666666666,
              "#ed7953"
             ],
             [
              0.7777777777777778,
              "#fb9f3a"
             ],
             [
              0.8888888888888888,
              "#fdca26"
             ],
             [
              1,
              "#f0f921"
             ]
            ],
            "type": "histogram2d"
           }
          ],
          "histogram2dcontour": [
           {
            "colorbar": {
             "outlinewidth": 0,
             "ticks": ""
            },
            "colorscale": [
             [
              0,
              "#0d0887"
             ],
             [
              0.1111111111111111,
              "#46039f"
             ],
             [
              0.2222222222222222,
              "#7201a8"
             ],
             [
              0.3333333333333333,
              "#9c179e"
             ],
             [
              0.4444444444444444,
              "#bd3786"
             ],
             [
              0.5555555555555556,
              "#d8576b"
             ],
             [
              0.6666666666666666,
              "#ed7953"
             ],
             [
              0.7777777777777778,
              "#fb9f3a"
             ],
             [
              0.8888888888888888,
              "#fdca26"
             ],
             [
              1,
              "#f0f921"
             ]
            ],
            "type": "histogram2dcontour"
           }
          ],
          "mesh3d": [
           {
            "colorbar": {
             "outlinewidth": 0,
             "ticks": ""
            },
            "type": "mesh3d"
           }
          ],
          "parcoords": [
           {
            "line": {
             "colorbar": {
              "outlinewidth": 0,
              "ticks": ""
             }
            },
            "type": "parcoords"
           }
          ],
          "pie": [
           {
            "automargin": true,
            "type": "pie"
           }
          ],
          "scatter": [
           {
            "fillpattern": {
             "fillmode": "overlay",
             "size": 10,
             "solidity": 0.2
            },
            "type": "scatter"
           }
          ],
          "scatter3d": [
           {
            "line": {
             "colorbar": {
              "outlinewidth": 0,
              "ticks": ""
             }
            },
            "marker": {
             "colorbar": {
              "outlinewidth": 0,
              "ticks": ""
             }
            },
            "type": "scatter3d"
           }
          ],
          "scattercarpet": [
           {
            "marker": {
             "colorbar": {
              "outlinewidth": 0,
              "ticks": ""
             }
            },
            "type": "scattercarpet"
           }
          ],
          "scattergeo": [
           {
            "marker": {
             "colorbar": {
              "outlinewidth": 0,
              "ticks": ""
             }
            },
            "type": "scattergeo"
           }
          ],
          "scattergl": [
           {
            "marker": {
             "colorbar": {
              "outlinewidth": 0,
              "ticks": ""
             }
            },
            "type": "scattergl"
           }
          ],
          "scattermapbox": [
           {
            "marker": {
             "colorbar": {
              "outlinewidth": 0,
              "ticks": ""
             }
            },
            "type": "scattermapbox"
           }
          ],
          "scatterpolar": [
           {
            "marker": {
             "colorbar": {
              "outlinewidth": 0,
              "ticks": ""
             }
            },
            "type": "scatterpolar"
           }
          ],
          "scatterpolargl": [
           {
            "marker": {
             "colorbar": {
              "outlinewidth": 0,
              "ticks": ""
             }
            },
            "type": "scatterpolargl"
           }
          ],
          "scatterternary": [
           {
            "marker": {
             "colorbar": {
              "outlinewidth": 0,
              "ticks": ""
             }
            },
            "type": "scatterternary"
           }
          ],
          "surface": [
           {
            "colorbar": {
             "outlinewidth": 0,
             "ticks": ""
            },
            "colorscale": [
             [
              0,
              "#0d0887"
             ],
             [
              0.1111111111111111,
              "#46039f"
             ],
             [
              0.2222222222222222,
              "#7201a8"
             ],
             [
              0.3333333333333333,
              "#9c179e"
             ],
             [
              0.4444444444444444,
              "#bd3786"
             ],
             [
              0.5555555555555556,
              "#d8576b"
             ],
             [
              0.6666666666666666,
              "#ed7953"
             ],
             [
              0.7777777777777778,
              "#fb9f3a"
             ],
             [
              0.8888888888888888,
              "#fdca26"
             ],
             [
              1,
              "#f0f921"
             ]
            ],
            "type": "surface"
           }
          ],
          "table": [
           {
            "cells": {
             "fill": {
              "color": "#EBF0F8"
             },
             "line": {
              "color": "white"
             }
            },
            "header": {
             "fill": {
              "color": "#C8D4E3"
             },
             "line": {
              "color": "white"
             }
            },
            "type": "table"
           }
          ]
         },
         "layout": {
          "annotationdefaults": {
           "arrowcolor": "#2a3f5f",
           "arrowhead": 0,
           "arrowwidth": 1
          },
          "autotypenumbers": "strict",
          "coloraxis": {
           "colorbar": {
            "outlinewidth": 0,
            "ticks": ""
           }
          },
          "colorscale": {
           "diverging": [
            [
             0,
             "#8e0152"
            ],
            [
             0.1,
             "#c51b7d"
            ],
            [
             0.2,
             "#de77ae"
            ],
            [
             0.3,
             "#f1b6da"
            ],
            [
             0.4,
             "#fde0ef"
            ],
            [
             0.5,
             "#f7f7f7"
            ],
            [
             0.6,
             "#e6f5d0"
            ],
            [
             0.7,
             "#b8e186"
            ],
            [
             0.8,
             "#7fbc41"
            ],
            [
             0.9,
             "#4d9221"
            ],
            [
             1,
             "#276419"
            ]
           ],
           "sequential": [
            [
             0,
             "#0d0887"
            ],
            [
             0.1111111111111111,
             "#46039f"
            ],
            [
             0.2222222222222222,
             "#7201a8"
            ],
            [
             0.3333333333333333,
             "#9c179e"
            ],
            [
             0.4444444444444444,
             "#bd3786"
            ],
            [
             0.5555555555555556,
             "#d8576b"
            ],
            [
             0.6666666666666666,
             "#ed7953"
            ],
            [
             0.7777777777777778,
             "#fb9f3a"
            ],
            [
             0.8888888888888888,
             "#fdca26"
            ],
            [
             1,
             "#f0f921"
            ]
           ],
           "sequentialminus": [
            [
             0,
             "#0d0887"
            ],
            [
             0.1111111111111111,
             "#46039f"
            ],
            [
             0.2222222222222222,
             "#7201a8"
            ],
            [
             0.3333333333333333,
             "#9c179e"
            ],
            [
             0.4444444444444444,
             "#bd3786"
            ],
            [
             0.5555555555555556,
             "#d8576b"
            ],
            [
             0.6666666666666666,
             "#ed7953"
            ],
            [
             0.7777777777777778,
             "#fb9f3a"
            ],
            [
             0.8888888888888888,
             "#fdca26"
            ],
            [
             1,
             "#f0f921"
            ]
           ]
          },
          "colorway": [
           "#636efa",
           "#EF553B",
           "#00cc96",
           "#ab63fa",
           "#FFA15A",
           "#19d3f3",
           "#FF6692",
           "#B6E880",
           "#FF97FF",
           "#FECB52"
          ],
          "font": {
           "color": "#2a3f5f"
          },
          "geo": {
           "bgcolor": "white",
           "lakecolor": "white",
           "landcolor": "#E5ECF6",
           "showlakes": true,
           "showland": true,
           "subunitcolor": "white"
          },
          "hoverlabel": {
           "align": "left"
          },
          "hovermode": "closest",
          "mapbox": {
           "style": "light"
          },
          "paper_bgcolor": "white",
          "plot_bgcolor": "#E5ECF6",
          "polar": {
           "angularaxis": {
            "gridcolor": "white",
            "linecolor": "white",
            "ticks": ""
           },
           "bgcolor": "#E5ECF6",
           "radialaxis": {
            "gridcolor": "white",
            "linecolor": "white",
            "ticks": ""
           }
          },
          "scene": {
           "xaxis": {
            "backgroundcolor": "#E5ECF6",
            "gridcolor": "white",
            "gridwidth": 2,
            "linecolor": "white",
            "showbackground": true,
            "ticks": "",
            "zerolinecolor": "white"
           },
           "yaxis": {
            "backgroundcolor": "#E5ECF6",
            "gridcolor": "white",
            "gridwidth": 2,
            "linecolor": "white",
            "showbackground": true,
            "ticks": "",
            "zerolinecolor": "white"
           },
           "zaxis": {
            "backgroundcolor": "#E5ECF6",
            "gridcolor": "white",
            "gridwidth": 2,
            "linecolor": "white",
            "showbackground": true,
            "ticks": "",
            "zerolinecolor": "white"
           }
          },
          "shapedefaults": {
           "line": {
            "color": "#2a3f5f"
           }
          },
          "ternary": {
           "aaxis": {
            "gridcolor": "white",
            "linecolor": "white",
            "ticks": ""
           },
           "baxis": {
            "gridcolor": "white",
            "linecolor": "white",
            "ticks": ""
           },
           "bgcolor": "#E5ECF6",
           "caxis": {
            "gridcolor": "white",
            "linecolor": "white",
            "ticks": ""
           }
          },
          "title": {
           "x": 0.05
          },
          "xaxis": {
           "automargin": true,
           "gridcolor": "white",
           "linecolor": "white",
           "ticks": "",
           "title": {
            "standoff": 15
           },
           "zerolinecolor": "white",
           "zerolinewidth": 2
          },
          "yaxis": {
           "automargin": true,
           "gridcolor": "white",
           "linecolor": "white",
           "ticks": "",
           "title": {
            "standoff": 15
           },
           "zerolinecolor": "white",
           "zerolinewidth": 2
          }
         }
        },
        "title": {
         "text": "Items Set Rules Graph",
         "x": 0.5
        },
        "xaxis": {
         "showgrid": false,
         "showticklabels": false,
         "zeroline": false
        },
        "yaxis": {
         "showgrid": false,
         "showticklabels": false,
         "zeroline": false
        }
       }
      }
     },
     "metadata": {},
     "output_type": "display_data"
    }
   ],
   "source": [
    "import plotly.graph_objects as go\n",
    "import networkx as nx\n",
    "\n",
    "# Create an empty directed graph\n",
    "G = nx.DiGraph()\n",
    "\n",
    "# Iterate through each row of the DataFrame and add edges to the graph\n",
    "for index, row in rules.iterrows():\n",
    "    antecedent = ', '.join(row['antecedents'])\n",
    "    consequent = ', '.join(row['consequents'])\n",
    "    support = row['support']\n",
    "    confidence = row['confidence']\n",
    "    lift = row['lift']\n",
    "    conviction = row['conviction']\n",
    "\n",
    "    # Add edges to the graph with the support or confidence as edge weight\n",
    "    G.add_edge(antecedent, consequent, weight=support)\n",
    "\n",
    "# Get the node positions using spring layout\n",
    "pos = nx.spring_layout(G)\n",
    "\n",
    "# Create a list of edge traces\n",
    "edge_traces = []\n",
    "for edge in G.edges():\n",
    "    x0, y0 = pos[edge[0]]\n",
    "    x1, y1 = pos[edge[1]]\n",
    "    weight = G.get_edge_data(edge[0], edge[1])['weight']\n",
    "    edge_trace = go.Scatter(x=[x0, x1, None], y=[y0, y1, None],\n",
    "                            mode='lines', line=dict(width=weight*10, color='black'),\n",
    "                            hoverinfo='none')\n",
    "    edge_traces.append(edge_trace)\n",
    "\n",
    "# Create a list of node traces\n",
    "node_traces = []\n",
    "for node in G.nodes():\n",
    "    x, y = pos[node]\n",
    "    node_trace = go.Scatter(x=[x], y=[y], mode='markers+text', text=node,\n",
    "                            textposition='top center', marker=dict(size=40, color='lightblue'))\n",
    "    node_traces.append(node_trace)\n",
    "\n",
    "# Create the figure and add the edge and node traces\n",
    "fig = go.Figure(data=edge_traces + node_traces)\n",
    "\n",
    "# Set the layout properties\n",
    "fig.update_layout(title='Items Set Rules Graph', title_x=0.5, showlegend=False, hovermode='closest',\n",
    "                  plot_bgcolor='white', margin=dict(b=20, l=5, r=5, t=40), xaxis=dict(showgrid=False, zeroline=False,\n",
    "                  showticklabels=False), yaxis=dict(showgrid=False, zeroline=False, showticklabels=False))\n",
    "\n",
    "# Show the plot\n",
    "fig.show()\n"
   ]
  },
  {
   "cell_type": "code",
   "execution_count": 42,
   "metadata": {},
   "outputs": [
    {
     "data": {
      "application/vnd.plotly.v1+json": {
       "config": {
        "plotlyServerURL": "https://plot.ly"
       },
       "data": [
        {
         "hoverinfo": "text",
         "hovertext": "Support: 0.005",
         "line": {
          "color": "black",
          "width": 0.054024255788313116
         },
         "mode": "lines",
         "type": "scatter",
         "x": [
          0.5181002165010368,
          0.9745852714932723,
          null
         ],
         "y": [
          0.023598086515984603,
          0.15130951520466163,
          null
         ]
        },
        {
         "hoverinfo": "text",
         "hovertext": "Support: 0.012",
         "line": {
          "color": "black",
          "width": 0.12238147739801544
         },
         "mode": "lines",
         "type": "scatter",
         "x": [
          0.5181002165010368,
          0.9315189546520597,
          null
         ],
         "y": [
          0.023598086515984603,
          0.4215723567278796,
          null
         ]
        },
        {
         "hoverinfo": "text",
         "hovertext": "Support: 0.006",
         "line": {
          "color": "black",
          "width": 0.05843439911797133
         },
         "mode": "lines",
         "type": "scatter",
         "x": [
          0.5181002165010368,
          0.18204613199258127,
          null
         ],
         "y": [
          0.023598086515984603,
          0.2304213631860333,
          null
         ]
        },
        {
         "hoverinfo": "text",
         "hovertext": "Support: 0.006",
         "line": {
          "color": "black",
          "width": 0.05622932745314223
         },
         "mode": "lines",
         "type": "scatter",
         "x": [
          0.5181002165010368,
          -0.1877906989304254,
          null
         ],
         "y": [
          0.023598086515984603,
          -0.8017277455456218,
          null
         ]
        },
        {
         "hoverinfo": "text",
         "hovertext": "Support: 0.005",
         "line": {
          "color": "black",
          "width": 0.054024255788313116
         },
         "mode": "lines",
         "type": "scatter",
         "x": [
          0.9745852714932723,
          0.5181002165010368,
          null
         ],
         "y": [
          0.15130951520466163,
          0.023598086515984603,
          null
         ]
        },
        {
         "hoverinfo": "text",
         "hovertext": "Support: 0.006",
         "line": {
          "color": "black",
          "width": 0.06174200661521499
         },
         "mode": "lines",
         "type": "scatter",
         "x": [
          0.9745852714932723,
          0.9315189546520597,
          null
         ],
         "y": [
          0.15130951520466163,
          0.4215723567278796,
          null
         ]
        },
        {
         "hoverinfo": "text",
         "hovertext": "Support: 0.012",
         "line": {
          "color": "black",
          "width": 0.12238147739801544
         },
         "mode": "lines",
         "type": "scatter",
         "x": [
          0.9315189546520597,
          0.5181002165010368,
          null
         ],
         "y": [
          0.4215723567278796,
          0.023598086515984603,
          null
         ]
        },
        {
         "hoverinfo": "text",
         "hovertext": "Support: 0.006",
         "line": {
          "color": "black",
          "width": 0.05843439911797133
         },
         "mode": "lines",
         "type": "scatter",
         "x": [
          0.18204613199258127,
          0.5181002165010368,
          null
         ],
         "y": [
          0.2304213631860333,
          0.023598086515984603,
          null
         ]
        },
        {
         "hoverinfo": "text",
         "hovertext": "Support: 0.005",
         "line": {
          "color": "black",
          "width": 0.054024255788313116
         },
         "mode": "lines",
         "type": "scatter",
         "x": [
          0.18204613199258127,
          -0.2587022929087819,
          null
         ],
         "y": [
          0.2304213631860333,
          0.8304818576614942,
          null
         ]
        },
        {
         "hoverinfo": "text",
         "hovertext": "Support: 0.006",
         "line": {
          "color": "black",
          "width": 0.05512679162072767
         },
         "mode": "lines",
         "type": "scatter",
         "x": [
          0.18204613199258127,
          0.48452008726770085,
          null
         ],
         "y": [
          0.2304213631860333,
          0.9429832572577715,
          null
         ]
        },
        {
         "hoverinfo": "text",
         "hovertext": "Support: 0.006",
         "line": {
          "color": "black",
          "width": 0.0639470782800441
         },
         "mode": "lines",
         "type": "scatter",
         "x": [
          0.18204613199258127,
          0.6461389757054891,
          null
         ],
         "y": [
          0.2304213631860333,
          0.3801859962509213,
          null
         ]
        },
        {
         "hoverinfo": "text",
         "hovertext": "Support: 0.011",
         "line": {
          "color": "black",
          "width": 0.10804851157662623
         },
         "mode": "lines",
         "type": "scatter",
         "x": [
          -0.1877906989304254,
          -0.5399594829556861,
          null
         ],
         "y": [
          -0.8017277455456218,
          -0.6948103155863491,
          null
         ]
        },
        {
         "hoverinfo": "text",
         "hovertext": "Support: 0.006",
         "line": {
          "color": "black",
          "width": 0.06174200661521499
         },
         "mode": "lines",
         "type": "scatter",
         "x": [
          0.26705610118109896,
          -0.5399594829556861,
          null
         ],
         "y": [
          -0.40956847418885495,
          -0.6948103155863491,
          null
         ]
        },
        {
         "hoverinfo": "text",
         "hovertext": "Support: 0.023",
         "line": {
          "color": "black",
          "width": 0.2293274531422271
         },
         "mode": "lines",
         "type": "scatter",
         "x": [
          -0.5399594829556861,
          -0.39981025537002113,
          null
         ],
         "y": [
          -0.6948103155863491,
          -0.769393667032785,
          null
         ]
        },
        {
         "hoverinfo": "text",
         "hovertext": "Support: 0.011",
         "line": {
          "color": "black",
          "width": 0.10804851157662623
         },
         "mode": "lines",
         "type": "scatter",
         "x": [
          -0.5399594829556861,
          -0.1877906989304254,
          null
         ],
         "y": [
          -0.6948103155863491,
          -0.8017277455456218,
          null
         ]
        },
        {
         "hoverinfo": "text",
         "hovertext": "Support: 0.023",
         "line": {
          "color": "black",
          "width": 0.2293274531422271
         },
         "mode": "lines",
         "type": "scatter",
         "x": [
          -0.39981025537002113,
          -0.5399594829556861,
          null
         ],
         "y": [
          -0.769393667032785,
          -0.6948103155863491,
          null
         ]
        },
        {
         "hoverinfo": "text",
         "hovertext": "Support: 0.007",
         "line": {
          "color": "black",
          "width": 0.07056229327453142
         },
         "mode": "lines",
         "type": "scatter",
         "x": [
          -0.7156191243822906,
          -0.5399594829556861,
          null
         ],
         "y": [
          -0.2977531892958065,
          -0.6948103155863491,
          null
         ]
        },
        {
         "hoverinfo": "text",
         "hovertext": "Support: 0.005",
         "line": {
          "color": "black",
          "width": 0.05292171995589856
         },
         "mode": "lines",
         "type": "scatter",
         "x": [
          -0.7156191243822906,
          -0.1877906989304254,
          null
         ],
         "y": [
          -0.2977531892958065,
          -0.8017277455456218,
          null
         ]
        },
        {
         "hoverinfo": "text",
         "hovertext": "Support: 0.015",
         "line": {
          "color": "black",
          "width": 0.14994487320837926
         },
         "mode": "lines",
         "type": "scatter",
         "x": [
          0.14803308141229535,
          0.01964192722820173,
          null
         ],
         "y": [
          -0.8751867955659559,
          -0.4845790670580598,
          null
         ]
        },
        {
         "hoverinfo": "text",
         "hovertext": "Support: 0.015",
         "line": {
          "color": "black",
          "width": 0.14994487320837926
         },
         "mode": "lines",
         "type": "scatter",
         "x": [
          0.01964192722820173,
          0.14803308141229535,
          null
         ],
         "y": [
          -0.4845790670580598,
          -0.8751867955659559,
          null
         ]
        },
        {
         "hoverinfo": "text",
         "hovertext": "Support: 0.005",
         "line": {
          "color": "black",
          "width": 0.054024255788313116
         },
         "mode": "lines",
         "type": "scatter",
         "x": [
          -0.2587022929087819,
          0.18204613199258127,
          null
         ],
         "y": [
          0.8304818576614942,
          0.2304213631860333,
          null
         ]
        },
        {
         "hoverinfo": "text",
         "hovertext": "Support: 0.006",
         "line": {
          "color": "black",
          "width": 0.06284454244762955
         },
         "mode": "lines",
         "type": "scatter",
         "x": [
          0.48452008726770085,
          0.7821807847918435,
          null
         ],
         "y": [
          0.9429832572577715,
          0.7346942524746574,
          null
         ]
        },
        {
         "hoverinfo": "text",
         "hovertext": "Support: 0.006",
         "line": {
          "color": "black",
          "width": 0.05512679162072767
         },
         "mode": "lines",
         "type": "scatter",
         "x": [
          0.48452008726770085,
          0.18204613199258127,
          null
         ],
         "y": [
          0.9429832572577715,
          0.2304213631860333,
          null
         ]
        },
        {
         "hoverinfo": "text",
         "hovertext": "Support: 0.010",
         "line": {
          "color": "black",
          "width": 0.10474090407938258
         },
         "mode": "lines",
         "type": "scatter",
         "x": [
          0.7821807847918435,
          0.6461389757054891,
          null
         ],
         "y": [
          0.7346942524746574,
          0.3801859962509213,
          null
         ]
        },
        {
         "hoverinfo": "text",
         "hovertext": "Support: 0.010",
         "line": {
          "color": "black",
          "width": 0.10474090407938258
         },
         "mode": "lines",
         "type": "scatter",
         "x": [
          0.6461389757054891,
          0.7821807847918435,
          null
         ],
         "y": [
          0.3801859962509213,
          0.7346942524746574,
          null
         ]
        },
        {
         "hoverinfo": "text",
         "hovertext": "Support: 0.006",
         "line": {
          "color": "black",
          "width": 0.0639470782800441
         },
         "mode": "lines",
         "type": "scatter",
         "x": [
          0.6461389757054891,
          0.18204613199258127,
          null
         ],
         "y": [
          0.3801859962509213,
          0.2304213631860333,
          null
         ]
        },
        {
         "hoverinfo": "text",
         "hovertext": "Support: 0.008",
         "line": {
          "color": "black",
          "width": 0.08048511576626241
         },
         "mode": "lines",
         "type": "scatter",
         "x": [
          -0.6990923333304885,
          -0.30137701573943376,
          null
         ],
         "y": [
          0.5264441389437414,
          1,
          null
         ]
        },
        {
         "hoverinfo": "text",
         "hovertext": "Support: 0.008",
         "line": {
          "color": "black",
          "width": 0.08048511576626241
         },
         "mode": "lines",
         "type": "scatter",
         "x": [
          -0.30137701573943376,
          -0.6990923333304885,
          null
         ],
         "y": [
          1,
          0.5264441389437414,
          null
         ]
        },
        {
         "hoverinfo": "text",
         "hovertext": "Support: 0.010",
         "line": {
          "color": "black",
          "width": 0.09592061742006615
         },
         "mode": "lines",
         "type": "scatter",
         "x": [
          -0.35813813091020313,
          0.14803308141229535,
          null
         ],
         "y": [
          -0.07736811234158861,
          -0.8751867955659559,
          null
         ]
        },
        {
         "hoverinfo": "text",
         "hovertext": "Support: 0.008",
         "line": {
          "color": "black",
          "width": 0.08048511576626241
         },
         "mode": "lines",
         "type": "scatter",
         "x": [
          -0.35813813091020313,
          -0.9120910235682618,
          null
         ],
         "y": [
          -0.07736811234158861,
          0.409867106885868,
          null
         ]
        },
        {
         "hoverinfo": "text",
         "hovertext": "Support: 0.005",
         "line": {
          "color": "black",
          "width": 0.05071664829106946
         },
         "mode": "lines",
         "type": "scatter",
         "x": [
          -0.7879903868932754,
          -0.9078743437774703,
          null
         ],
         "y": [
          0.6747772902648789,
          -0.11241365395213897,
          null
         ]
        },
        {
         "hoverinfo": "text",
         "hovertext": "Support: 0.005",
         "line": {
          "color": "black",
          "width": 0.05071664829106946
         },
         "mode": "lines",
         "type": "scatter",
         "x": [
          -0.9078743437774703,
          -0.7879903868932754,
          null
         ],
         "y": [
          -0.11241365395213897,
          0.6747772902648789,
          null
         ]
        },
        {
         "hoverinfo": "text",
         "hovertext": "Support: 0.008",
         "line": {
          "color": "black",
          "width": 0.08048511576626241
         },
         "mode": "lines",
         "type": "scatter",
         "x": [
          -0.9120910235682618,
          -0.35813813091020313,
          null
         ],
         "y": [
          0.409867106885868,
          -0.07736811234158861,
          null
         ]
        },
        {
         "hoverinfo": "text",
         "hovertext": "Support: 0.006",
         "line": {
          "color": "black",
          "width": 0.05843439911797133
         },
         "mode": "lines",
         "type": "scatter",
         "x": [
          -0.2786340970409534,
          -0.7152896219950988,
          null
         ],
         "y": [
          0.36372802198492743,
          -0.44193571133886994,
          null
         ]
        },
        {
         "hoverinfo": "text",
         "hovertext": "Support: 0.009",
         "line": {
          "color": "black",
          "width": 0.08599779492833518
         },
         "mode": "lines",
         "type": "scatter",
         "x": [
          0.05661975909364605,
          0.4453023081397433,
          null
         ],
         "y": [
          -0.0992671424393864,
          -0.7054153385206724,
          null
         ]
        },
        {
         "hoverinfo": "text",
         "hovertext": "Support: 0.009",
         "line": {
          "color": "black",
          "width": 0.08599779492833518
         },
         "mode": "lines",
         "type": "scatter",
         "x": [
          0.4453023081397433,
          0.05661975909364605,
          null
         ],
         "y": [
          -0.7054153385206724,
          -0.0992671424393864,
          null
         ]
        },
        {
         "hoverinfo": "text",
         "hovertext": "Support: 0.007",
         "line": {
          "color": "black",
          "width": 0.06504961411245866
         },
         "mode": "lines",
         "type": "scatter",
         "x": [
          0.7724920632221645,
          0.8341331451212568,
          null
         ],
         "y": [
          -0.5889186472876378,
          -0.33172538320509204,
          null
         ]
        },
        {
         "hoverinfo": "text",
         "hovertext": "Item: Add-on item Sub<br>Trigger Chocolate Bar - Add-on item Sub, Support: 0.005, Lift: 2.398, Confidence: 0.140, Conviction: 1.156<br>Trigger Flavored Milk Sub - Add-on item Sub, Support: 0.012, Lift: 2.398, Confidence: 0.140, Conviction: 1.156<br>Trigger Instant Noodles Pack - Add-on item Sub, Support: 0.006, Lift: 2.398, Confidence: 0.140, Conviction: 1.156<br>Trigger Add-on item Sub - Chocolate Bar, Support: 0.005, Lift: 2.398, Confidence: 0.140, Conviction: 1.156<br>Trigger Add-on item Sub - Flavored Milk Sub, Support: 0.012, Lift: 2.398, Confidence: 0.140, Conviction: 1.156<br>Trigger Add-on item Sub - Instant Noodles Pack, Support: 0.006, Lift: 2.398, Confidence: 0.140, Conviction: 1.156<br>Trigger Add-on item Sub - Sugar CSD, Support: 0.006, Lift: 2.398, Confidence: 0.140, Conviction: 1.156<br>",
         "marker": {
          "color": "lightblue",
          "size": 40
         },
         "mode": "markers+text",
         "text": "Add-on item Sub",
         "type": "scatter",
         "x": [
          0.5181002165010368
         ],
         "y": [
          0.023598086515984603
         ]
        },
        {
         "hoverinfo": "text",
         "hovertext": "Item: Chocolate Bar<br>Trigger Add-on item Sub - Chocolate Bar, Support: 0.005, Lift: 2.148, Confidence: 0.144, Conviction: 1.161<br>Trigger Chocolate Bar - Add-on item Sub, Support: 0.005, Lift: 2.148, Confidence: 0.144, Conviction: 1.161<br>Trigger Chocolate Bar - Flavored Milk Sub, Support: 0.006, Lift: 2.148, Confidence: 0.144, Conviction: 1.161<br>",
         "marker": {
          "color": "lightblue",
          "size": 40
         },
         "mode": "markers+text",
         "text": "Chocolate Bar",
         "type": "scatter",
         "x": [
          0.9745852714932723
         ],
         "y": [
          0.15130951520466163
         ]
        },
        {
         "hoverinfo": "text",
         "hovertext": "Item: Flavored Milk Sub<br>Trigger Add-on item Sub - Flavored Milk Sub, Support: 0.012, Lift: 2.148, Confidence: 0.144, Conviction: 1.161<br>Trigger Chocolate Bar - Flavored Milk Sub, Support: 0.006, Lift: 2.148, Confidence: 0.144, Conviction: 1.161<br>Trigger Flavored Milk Sub - Add-on item Sub, Support: 0.012, Lift: 2.148, Confidence: 0.144, Conviction: 1.161<br>",
         "marker": {
          "color": "lightblue",
          "size": 40
         },
         "mode": "markers+text",
         "text": "Flavored Milk Sub",
         "type": "scatter",
         "x": [
          0.9315189546520597
         ],
         "y": [
          0.4215723567278796
         ]
        },
        {
         "hoverinfo": "text",
         "hovertext": "Item: Instant Noodles Pack<br>Trigger Add-on item Sub - Instant Noodles Pack, Support: 0.006, Lift: 6.111, Confidence: 0.142, Conviction: 1.158<br>Trigger Hot pot Thai - Instant Noodles Pack, Support: 0.005, Lift: 6.111, Confidence: 0.142, Conviction: 1.158<br>Trigger Instant Noodles Bowl - Instant Noodles Pack, Support: 0.006, Lift: 6.111, Confidence: 0.142, Conviction: 1.158<br>Trigger Instant Sausage - Instant Noodles Pack, Support: 0.006, Lift: 6.111, Confidence: 0.142, Conviction: 1.158<br>Trigger Instant Noodles Pack - Add-on item Sub, Support: 0.006, Lift: 6.111, Confidence: 0.142, Conviction: 1.158<br>Trigger Instant Noodles Pack - Hot pot Thai, Support: 0.005, Lift: 6.111, Confidence: 0.142, Conviction: 1.158<br>Trigger Instant Noodles Pack - Instant Noodles Bowl, Support: 0.006, Lift: 6.111, Confidence: 0.142, Conviction: 1.158<br>Trigger Instant Noodles Pack - Instant Sausage, Support: 0.006, Lift: 6.111, Confidence: 0.142, Conviction: 1.158<br>",
         "marker": {
          "color": "lightblue",
          "size": 40
         },
         "mode": "markers+text",
         "text": "Instant Noodles Pack",
         "type": "scatter",
         "x": [
          0.18204613199258127
         ],
         "y": [
          0.2304213631860333
         ]
        },
        {
         "hoverinfo": "text",
         "hovertext": "Item: Sugar CSD<br>Trigger Add-on item Sub - Sugar CSD, Support: 0.006, Lift: 2.340, Confidence: 0.137, Conviction: 1.152<br>Trigger Cup Of Ice - Sugar CSD, Support: 0.011, Lift: 2.340, Confidence: 0.137, Conviction: 1.152<br>Trigger No/Less Sugar CSD - Sugar CSD, Support: 0.005, Lift: 2.340, Confidence: 0.137, Conviction: 1.152<br>Trigger Sugar CSD - Cup Of Ice, Support: 0.011, Lift: 2.340, Confidence: 0.137, Conviction: 1.152<br>",
         "marker": {
          "color": "lightblue",
          "size": 40
         },
         "mode": "markers+text",
         "text": "Sugar CSD",
         "type": "scatter",
         "x": [
          -0.1877906989304254
         ],
         "y": [
          -0.8017277455456218
         ]
        },
        {
         "hoverinfo": "text",
         "hovertext": "Item: Coffee Drinks Sub<br>Trigger Coffee Drinks Sub - Cup Of Ice, Support: 0.006, Lift: 2.353, Confidence: 0.186, Conviction: 1.221<br>",
         "marker": {
          "color": "lightblue",
          "size": 40
         },
         "mode": "markers+text",
         "text": "Coffee Drinks Sub",
         "type": "scatter",
         "x": [
          0.26705610118109896
         ],
         "y": [
          -0.40956847418885495
         ]
        },
        {
         "hoverinfo": "text",
         "hovertext": "Item: Cup Of Ice<br>Trigger Coffee Drinks Sub - Cup Of Ice, Support: 0.006, Lift: 2.339, Confidence: 0.185, Conviction: 1.214<br>Trigger Energy Drinks Sub - Cup Of Ice, Support: 0.023, Lift: 2.339, Confidence: 0.185, Conviction: 1.214<br>Trigger No/Less Sugar CSD - Cup Of Ice, Support: 0.007, Lift: 2.339, Confidence: 0.185, Conviction: 1.214<br>Trigger Sugar CSD - Cup Of Ice, Support: 0.011, Lift: 2.339, Confidence: 0.185, Conviction: 1.214<br>Trigger Cup Of Ice - Energy Drinks Sub, Support: 0.023, Lift: 2.339, Confidence: 0.185, Conviction: 1.214<br>Trigger Cup Of Ice - Sugar CSD, Support: 0.011, Lift: 2.339, Confidence: 0.185, Conviction: 1.214<br>",
         "marker": {
          "color": "lightblue",
          "size": 40
         },
         "mode": "markers+text",
         "text": "Cup Of Ice",
         "type": "scatter",
         "x": [
          -0.5399594829556861
         ],
         "y": [
          -0.6948103155863491
         ]
        },
        {
         "hoverinfo": "text",
         "hovertext": "Item: Energy Drinks Sub<br>Trigger Cup Of Ice - Energy Drinks Sub, Support: 0.023, Lift: 3.435, Confidence: 0.272, Conviction: 1.341<br>Trigger Energy Drinks Sub - Cup Of Ice, Support: 0.023, Lift: 3.435, Confidence: 0.272, Conviction: 1.341<br>",
         "marker": {
          "color": "lightblue",
          "size": 40
         },
         "mode": "markers+text",
         "text": "Energy Drinks Sub",
         "type": "scatter",
         "x": [
          -0.39981025537002113
         ],
         "y": [
          -0.769393667032785
         ]
        },
        {
         "hoverinfo": "text",
         "hovertext": "Item: No/Less Sugar CSD<br>Trigger No/Less Sugar CSD - Cup Of Ice, Support: 0.007, Lift: 2.340, Confidence: 0.137, Conviction: 1.152<br>Trigger No/Less Sugar CSD - Sugar CSD, Support: 0.005, Lift: 2.340, Confidence: 0.137, Conviction: 1.152<br>",
         "marker": {
          "color": "lightblue",
          "size": 40
         },
         "mode": "markers+text",
         "text": "No/Less Sugar CSD",
         "type": "scatter",
         "x": [
          -0.7156191243822906
         ],
         "y": [
          -0.2977531892958065
         ]
        },
        {
         "hoverinfo": "text",
         "hovertext": "Item: Other Cuisine Sub<br>Trigger Fried Food Sub - Other Cuisine Sub, Support: 0.015, Lift: 2.188, Confidence: 0.227, Conviction: 1.281<br>Trigger Others Steamed  bun - Other Cuisine Sub, Support: 0.010, Lift: 2.188, Confidence: 0.227, Conviction: 1.281<br>Trigger Other Cuisine Sub - Fried Food Sub, Support: 0.015, Lift: 2.188, Confidence: 0.227, Conviction: 1.281<br>",
         "marker": {
          "color": "lightblue",
          "size": 40
         },
         "mode": "markers+text",
         "text": "Other Cuisine Sub",
         "type": "scatter",
         "x": [
          0.14803308141229535
         ],
         "y": [
          -0.8751867955659559
         ]
        },
        {
         "hoverinfo": "text",
         "hovertext": "Item: Fried Food Sub<br>Trigger Other Cuisine Sub - Fried Food Sub, Support: 0.015, Lift: 2.725, Confidence: 0.282, Conviction: 1.372<br>Trigger Fried Food Sub - Other Cuisine Sub, Support: 0.015, Lift: 2.725, Confidence: 0.282, Conviction: 1.372<br>",
         "marker": {
          "color": "lightblue",
          "size": 40
         },
         "mode": "markers+text",
         "text": "Fried Food Sub",
         "type": "scatter",
         "x": [
          0.01964192722820173
         ],
         "y": [
          -0.4845790670580598
         ]
        },
        {
         "hoverinfo": "text",
         "hovertext": "Item: Hot pot Thai<br>Trigger Instant Noodles Pack - Hot pot Thai, Support: 0.005, Lift: 3.619, Confidence: 0.120, Conviction: 1.130<br>Trigger Hot pot Thai - Instant Noodles Pack, Support: 0.005, Lift: 3.619, Confidence: 0.120, Conviction: 1.130<br>",
         "marker": {
          "color": "lightblue",
          "size": 40
         },
         "mode": "markers+text",
         "text": "Hot pot Thai",
         "type": "scatter",
         "x": [
          -0.2587022929087819
         ],
         "y": [
          0.8304818576614942
         ]
        },
        {
         "hoverinfo": "text",
         "hovertext": "Item: Instant Noodles Bowl<br>Trigger Instant Noodles Pack - Instant Noodles Bowl, Support: 0.006, Lift: 2.956, Confidence: 0.123, Conviction: 1.133<br>Trigger Instant Noodles Bowl - Instant Noodles Cup, Support: 0.006, Lift: 2.956, Confidence: 0.123, Conviction: 1.133<br>Trigger Instant Noodles Bowl - Instant Noodles Pack, Support: 0.006, Lift: 2.956, Confidence: 0.123, Conviction: 1.133<br>",
         "marker": {
          "color": "lightblue",
          "size": 40
         },
         "mode": "markers+text",
         "text": "Instant Noodles Bowl",
         "type": "scatter",
         "x": [
          0.48452008726770085
         ],
         "y": [
          0.9429832572577715
         ]
        },
        {
         "hoverinfo": "text",
         "hovertext": "Item: Instant Noodles Cup<br>Trigger Instant Noodles Bowl - Instant Noodles Cup, Support: 0.006, Lift: 7.005, Confidence: 0.450, Conviction: 1.800<br>Trigger Instant Sausage - Instant Noodles Cup, Support: 0.010, Lift: 7.005, Confidence: 0.450, Conviction: 1.800<br>Trigger Instant Noodles Cup - Instant Sausage, Support: 0.010, Lift: 7.005, Confidence: 0.450, Conviction: 1.800<br>",
         "marker": {
          "color": "lightblue",
          "size": 40
         },
         "mode": "markers+text",
         "text": "Instant Noodles Cup",
         "type": "scatter",
         "x": [
          0.7821807847918435
         ],
         "y": [
          0.7346942524746574
         ]
        },
        {
         "hoverinfo": "text",
         "hovertext": "Item: Instant Sausage<br>Trigger Instant Noodles Cup - Instant Sausage, Support: 0.010, Lift: 6.111, Confidence: 0.142, Conviction: 1.158<br>Trigger Instant Noodles Pack - Instant Sausage, Support: 0.006, Lift: 6.111, Confidence: 0.142, Conviction: 1.158<br>Trigger Instant Sausage - Instant Noodles Cup, Support: 0.010, Lift: 6.111, Confidence: 0.142, Conviction: 1.158<br>Trigger Instant Sausage - Instant Noodles Pack, Support: 0.006, Lift: 6.111, Confidence: 0.142, Conviction: 1.158<br>",
         "marker": {
          "color": "lightblue",
          "size": 40
         },
         "mode": "markers+text",
         "text": "Instant Sausage",
         "type": "scatter",
         "x": [
          0.6461389757054891
         ],
         "y": [
          0.3801859962509213
         ]
        },
        {
         "hoverinfo": "text",
         "hovertext": "Item: Onigiri<br>Trigger Sandwich - Onigiri, Support: 0.008, Lift: 2.190, Confidence: 0.171, Conviction: 1.197<br>Trigger Onigiri - Sandwich, Support: 0.008, Lift: 2.190, Confidence: 0.171, Conviction: 1.197<br>",
         "marker": {
          "color": "lightblue",
          "size": 40
         },
         "mode": "markers+text",
         "text": "Onigiri",
         "type": "scatter",
         "x": [
          -0.6990923333304885
         ],
         "y": [
          0.5264441389437414
         ]
        },
        {
         "hoverinfo": "text",
         "hovertext": "Item: Sandwich<br>Trigger Onigiri - Sandwich, Support: 0.008, Lift: 2.190, Confidence: 0.171, Conviction: 1.197<br>Trigger Sandwich - Onigiri, Support: 0.008, Lift: 2.190, Confidence: 0.171, Conviction: 1.197<br>",
         "marker": {
          "color": "lightblue",
          "size": 40
         },
         "mode": "markers+text",
         "text": "Sandwich",
         "type": "scatter",
         "x": [
          -0.30137701573943376
         ],
         "y": [
          1
         ]
        },
        {
         "hoverinfo": "text",
         "hovertext": "Item: Others Steamed  bun<br>Trigger Savoury  Buns - Others Steamed  bun, Support: 0.008, Lift: 2.412, Confidence: 0.102, Conviction: 1.105<br>Trigger Others Steamed  bun - Other Cuisine Sub, Support: 0.010, Lift: 2.412, Confidence: 0.102, Conviction: 1.105<br>Trigger Others Steamed  bun - Savoury  Buns, Support: 0.008, Lift: 2.412, Confidence: 0.102, Conviction: 1.105<br>",
         "marker": {
          "color": "lightblue",
          "size": 40
         },
         "mode": "markers+text",
         "text": "Others Steamed  bun",
         "type": "scatter",
         "x": [
          -0.35813813091020313
         ],
         "y": [
          -0.07736811234158861
         ]
        },
        {
         "hoverinfo": "text",
         "hovertext": "Item: Other Ice Cream<br>Trigger Stick - Other Ice Cream, Support: 0.005, Lift: 10.722, Confidence: 0.180, Conviction: 1.213<br>Trigger Other Ice Cream - Stick, Support: 0.005, Lift: 10.722, Confidence: 0.180, Conviction: 1.213<br>",
         "marker": {
          "color": "lightblue",
          "size": 40
         },
         "mode": "markers+text",
         "text": "Other Ice Cream",
         "type": "scatter",
         "x": [
          -0.7879903868932754
         ],
         "y": [
          0.6747772902648789
         ]
        },
        {
         "hoverinfo": "text",
         "hovertext": "Item: Stick<br>Trigger Other Ice Cream - Stick, Support: 0.005, Lift: 10.722, Confidence: 0.180, Conviction: 1.213<br>Trigger Stick - Other Ice Cream, Support: 0.005, Lift: 10.722, Confidence: 0.180, Conviction: 1.213<br>",
         "marker": {
          "color": "lightblue",
          "size": 40
         },
         "mode": "markers+text",
         "text": "Stick",
         "type": "scatter",
         "x": [
          -0.9078743437774703
         ],
         "y": [
          -0.11241365395213897
         ]
        },
        {
         "hoverinfo": "text",
         "hovertext": "Item: Savoury  Buns<br>Trigger Others Steamed  bun - Savoury  Buns, Support: 0.008, Lift: 2.412, Confidence: 0.102, Conviction: 1.105<br>Trigger Savoury  Buns - Others Steamed  bun, Support: 0.008, Lift: 2.412, Confidence: 0.102, Conviction: 1.105<br>",
         "marker": {
          "color": "lightblue",
          "size": 40
         },
         "mode": "markers+text",
         "text": "Savoury  Buns",
         "type": "scatter",
         "x": [
          -0.9120910235682618
         ],
         "y": [
          0.409867106885868
         ]
        },
        {
         "hoverinfo": "text",
         "hovertext": "Item: UHT Milk<br>Trigger UHT Milk - Packaged bakery, Support: 0.006, Lift: 2.086, Confidence: 0.136, Conviction: 1.151<br>",
         "marker": {
          "color": "lightblue",
          "size": 40
         },
         "mode": "markers+text",
         "text": "UHT Milk",
         "type": "scatter",
         "x": [
          -0.2786340970409534
         ],
         "y": [
          0.36372802198492743
         ]
        },
        {
         "hoverinfo": "text",
         "hovertext": "Item: Packaged bakery<br>Trigger UHT Milk - Packaged bakery, Support: 0.006, Lift: 2.086, Confidence: 0.136, Conviction: 1.151<br>",
         "marker": {
          "color": "lightblue",
          "size": 40
         },
         "mode": "markers+text",
         "text": "Packaged bakery",
         "type": "scatter",
         "x": [
          -0.7152896219950988
         ],
         "y": [
          -0.44193571133886994
         ]
        },
        {
         "hoverinfo": "text",
         "hovertext": "Item: Potato Snacks<br>Trigger Salty Snacks - Potato Snacks, Support: 0.009, Lift: 3.828, Confidence: 0.191, Conviction: 1.226<br>Trigger Potato Snacks - Salty Snacks, Support: 0.009, Lift: 3.828, Confidence: 0.191, Conviction: 1.226<br>",
         "marker": {
          "color": "lightblue",
          "size": 40
         },
         "mode": "markers+text",
         "text": "Potato Snacks",
         "type": "scatter",
         "x": [
          0.05661975909364605
         ],
         "y": [
          -0.0992671424393864
         ]
        },
        {
         "hoverinfo": "text",
         "hovertext": "Item: Salty Snacks<br>Trigger Potato Snacks - Salty Snacks, Support: 0.009, Lift: 3.828, Confidence: 0.191, Conviction: 1.226<br>Trigger Salty Snacks - Potato Snacks, Support: 0.009, Lift: 3.828, Confidence: 0.191, Conviction: 1.226<br>",
         "marker": {
          "color": "lightblue",
          "size": 40
         },
         "mode": "markers+text",
         "text": "Salty Snacks",
         "type": "scatter",
         "x": [
          0.4453023081397433
         ],
         "y": [
          -0.7054153385206724
         ]
        },
        {
         "hoverinfo": "text",
         "hovertext": "Item: WIC/RIC Juice<br>Trigger WIC/RIC Juice - Sugar Tea, Support: 0.007, Lift: 2.132, Confidence: 0.236, Conviction: 1.300<br>",
         "marker": {
          "color": "lightblue",
          "size": 40
         },
         "mode": "markers+text",
         "text": "WIC/RIC Juice",
         "type": "scatter",
         "x": [
          0.7724920632221645
         ],
         "y": [
          -0.5889186472876378
         ]
        },
        {
         "hoverinfo": "text",
         "hovertext": "Item: Sugar Tea<br>Trigger WIC/RIC Juice - Sugar Tea, Support: 0.007, Lift: 2.132, Confidence: 0.236, Conviction: 1.300<br>",
         "marker": {
          "color": "lightblue",
          "size": 40
         },
         "mode": "markers+text",
         "text": "Sugar Tea",
         "type": "scatter",
         "x": [
          0.8341331451212568
         ],
         "y": [
          -0.33172538320509204
         ]
        }
       ],
       "layout": {
        "hovermode": "closest",
        "margin": {
         "b": 20,
         "l": 5,
         "r": 5,
         "t": 40
        },
        "plot_bgcolor": "white",
        "showlegend": false,
        "template": {
         "data": {
          "bar": [
           {
            "error_x": {
             "color": "#2a3f5f"
            },
            "error_y": {
             "color": "#2a3f5f"
            },
            "marker": {
             "line": {
              "color": "#E5ECF6",
              "width": 0.5
             },
             "pattern": {
              "fillmode": "overlay",
              "size": 10,
              "solidity": 0.2
             }
            },
            "type": "bar"
           }
          ],
          "barpolar": [
           {
            "marker": {
             "line": {
              "color": "#E5ECF6",
              "width": 0.5
             },
             "pattern": {
              "fillmode": "overlay",
              "size": 10,
              "solidity": 0.2
             }
            },
            "type": "barpolar"
           }
          ],
          "carpet": [
           {
            "aaxis": {
             "endlinecolor": "#2a3f5f",
             "gridcolor": "white",
             "linecolor": "white",
             "minorgridcolor": "white",
             "startlinecolor": "#2a3f5f"
            },
            "baxis": {
             "endlinecolor": "#2a3f5f",
             "gridcolor": "white",
             "linecolor": "white",
             "minorgridcolor": "white",
             "startlinecolor": "#2a3f5f"
            },
            "type": "carpet"
           }
          ],
          "choropleth": [
           {
            "colorbar": {
             "outlinewidth": 0,
             "ticks": ""
            },
            "type": "choropleth"
           }
          ],
          "contour": [
           {
            "colorbar": {
             "outlinewidth": 0,
             "ticks": ""
            },
            "colorscale": [
             [
              0,
              "#0d0887"
             ],
             [
              0.1111111111111111,
              "#46039f"
             ],
             [
              0.2222222222222222,
              "#7201a8"
             ],
             [
              0.3333333333333333,
              "#9c179e"
             ],
             [
              0.4444444444444444,
              "#bd3786"
             ],
             [
              0.5555555555555556,
              "#d8576b"
             ],
             [
              0.6666666666666666,
              "#ed7953"
             ],
             [
              0.7777777777777778,
              "#fb9f3a"
             ],
             [
              0.8888888888888888,
              "#fdca26"
             ],
             [
              1,
              "#f0f921"
             ]
            ],
            "type": "contour"
           }
          ],
          "contourcarpet": [
           {
            "colorbar": {
             "outlinewidth": 0,
             "ticks": ""
            },
            "type": "contourcarpet"
           }
          ],
          "heatmap": [
           {
            "colorbar": {
             "outlinewidth": 0,
             "ticks": ""
            },
            "colorscale": [
             [
              0,
              "#0d0887"
             ],
             [
              0.1111111111111111,
              "#46039f"
             ],
             [
              0.2222222222222222,
              "#7201a8"
             ],
             [
              0.3333333333333333,
              "#9c179e"
             ],
             [
              0.4444444444444444,
              "#bd3786"
             ],
             [
              0.5555555555555556,
              "#d8576b"
             ],
             [
              0.6666666666666666,
              "#ed7953"
             ],
             [
              0.7777777777777778,
              "#fb9f3a"
             ],
             [
              0.8888888888888888,
              "#fdca26"
             ],
             [
              1,
              "#f0f921"
             ]
            ],
            "type": "heatmap"
           }
          ],
          "heatmapgl": [
           {
            "colorbar": {
             "outlinewidth": 0,
             "ticks": ""
            },
            "colorscale": [
             [
              0,
              "#0d0887"
             ],
             [
              0.1111111111111111,
              "#46039f"
             ],
             [
              0.2222222222222222,
              "#7201a8"
             ],
             [
              0.3333333333333333,
              "#9c179e"
             ],
             [
              0.4444444444444444,
              "#bd3786"
             ],
             [
              0.5555555555555556,
              "#d8576b"
             ],
             [
              0.6666666666666666,
              "#ed7953"
             ],
             [
              0.7777777777777778,
              "#fb9f3a"
             ],
             [
              0.8888888888888888,
              "#fdca26"
             ],
             [
              1,
              "#f0f921"
             ]
            ],
            "type": "heatmapgl"
           }
          ],
          "histogram": [
           {
            "marker": {
             "pattern": {
              "fillmode": "overlay",
              "size": 10,
              "solidity": 0.2
             }
            },
            "type": "histogram"
           }
          ],
          "histogram2d": [
           {
            "colorbar": {
             "outlinewidth": 0,
             "ticks": ""
            },
            "colorscale": [
             [
              0,
              "#0d0887"
             ],
             [
              0.1111111111111111,
              "#46039f"
             ],
             [
              0.2222222222222222,
              "#7201a8"
             ],
             [
              0.3333333333333333,
              "#9c179e"
             ],
             [
              0.4444444444444444,
              "#bd3786"
             ],
             [
              0.5555555555555556,
              "#d8576b"
             ],
             [
              0.6666666666666666,
              "#ed7953"
             ],
             [
              0.7777777777777778,
              "#fb9f3a"
             ],
             [
              0.8888888888888888,
              "#fdca26"
             ],
             [
              1,
              "#f0f921"
             ]
            ],
            "type": "histogram2d"
           }
          ],
          "histogram2dcontour": [
           {
            "colorbar": {
             "outlinewidth": 0,
             "ticks": ""
            },
            "colorscale": [
             [
              0,
              "#0d0887"
             ],
             [
              0.1111111111111111,
              "#46039f"
             ],
             [
              0.2222222222222222,
              "#7201a8"
             ],
             [
              0.3333333333333333,
              "#9c179e"
             ],
             [
              0.4444444444444444,
              "#bd3786"
             ],
             [
              0.5555555555555556,
              "#d8576b"
             ],
             [
              0.6666666666666666,
              "#ed7953"
             ],
             [
              0.7777777777777778,
              "#fb9f3a"
             ],
             [
              0.8888888888888888,
              "#fdca26"
             ],
             [
              1,
              "#f0f921"
             ]
            ],
            "type": "histogram2dcontour"
           }
          ],
          "mesh3d": [
           {
            "colorbar": {
             "outlinewidth": 0,
             "ticks": ""
            },
            "type": "mesh3d"
           }
          ],
          "parcoords": [
           {
            "line": {
             "colorbar": {
              "outlinewidth": 0,
              "ticks": ""
             }
            },
            "type": "parcoords"
           }
          ],
          "pie": [
           {
            "automargin": true,
            "type": "pie"
           }
          ],
          "scatter": [
           {
            "fillpattern": {
             "fillmode": "overlay",
             "size": 10,
             "solidity": 0.2
            },
            "type": "scatter"
           }
          ],
          "scatter3d": [
           {
            "line": {
             "colorbar": {
              "outlinewidth": 0,
              "ticks": ""
             }
            },
            "marker": {
             "colorbar": {
              "outlinewidth": 0,
              "ticks": ""
             }
            },
            "type": "scatter3d"
           }
          ],
          "scattercarpet": [
           {
            "marker": {
             "colorbar": {
              "outlinewidth": 0,
              "ticks": ""
             }
            },
            "type": "scattercarpet"
           }
          ],
          "scattergeo": [
           {
            "marker": {
             "colorbar": {
              "outlinewidth": 0,
              "ticks": ""
             }
            },
            "type": "scattergeo"
           }
          ],
          "scattergl": [
           {
            "marker": {
             "colorbar": {
              "outlinewidth": 0,
              "ticks": ""
             }
            },
            "type": "scattergl"
           }
          ],
          "scattermapbox": [
           {
            "marker": {
             "colorbar": {
              "outlinewidth": 0,
              "ticks": ""
             }
            },
            "type": "scattermapbox"
           }
          ],
          "scatterpolar": [
           {
            "marker": {
             "colorbar": {
              "outlinewidth": 0,
              "ticks": ""
             }
            },
            "type": "scatterpolar"
           }
          ],
          "scatterpolargl": [
           {
            "marker": {
             "colorbar": {
              "outlinewidth": 0,
              "ticks": ""
             }
            },
            "type": "scatterpolargl"
           }
          ],
          "scatterternary": [
           {
            "marker": {
             "colorbar": {
              "outlinewidth": 0,
              "ticks": ""
             }
            },
            "type": "scatterternary"
           }
          ],
          "surface": [
           {
            "colorbar": {
             "outlinewidth": 0,
             "ticks": ""
            },
            "colorscale": [
             [
              0,
              "#0d0887"
             ],
             [
              0.1111111111111111,
              "#46039f"
             ],
             [
              0.2222222222222222,
              "#7201a8"
             ],
             [
              0.3333333333333333,
              "#9c179e"
             ],
             [
              0.4444444444444444,
              "#bd3786"
             ],
             [
              0.5555555555555556,
              "#d8576b"
             ],
             [
              0.6666666666666666,
              "#ed7953"
             ],
             [
              0.7777777777777778,
              "#fb9f3a"
             ],
             [
              0.8888888888888888,
              "#fdca26"
             ],
             [
              1,
              "#f0f921"
             ]
            ],
            "type": "surface"
           }
          ],
          "table": [
           {
            "cells": {
             "fill": {
              "color": "#EBF0F8"
             },
             "line": {
              "color": "white"
             }
            },
            "header": {
             "fill": {
              "color": "#C8D4E3"
             },
             "line": {
              "color": "white"
             }
            },
            "type": "table"
           }
          ]
         },
         "layout": {
          "annotationdefaults": {
           "arrowcolor": "#2a3f5f",
           "arrowhead": 0,
           "arrowwidth": 1
          },
          "autotypenumbers": "strict",
          "coloraxis": {
           "colorbar": {
            "outlinewidth": 0,
            "ticks": ""
           }
          },
          "colorscale": {
           "diverging": [
            [
             0,
             "#8e0152"
            ],
            [
             0.1,
             "#c51b7d"
            ],
            [
             0.2,
             "#de77ae"
            ],
            [
             0.3,
             "#f1b6da"
            ],
            [
             0.4,
             "#fde0ef"
            ],
            [
             0.5,
             "#f7f7f7"
            ],
            [
             0.6,
             "#e6f5d0"
            ],
            [
             0.7,
             "#b8e186"
            ],
            [
             0.8,
             "#7fbc41"
            ],
            [
             0.9,
             "#4d9221"
            ],
            [
             1,
             "#276419"
            ]
           ],
           "sequential": [
            [
             0,
             "#0d0887"
            ],
            [
             0.1111111111111111,
             "#46039f"
            ],
            [
             0.2222222222222222,
             "#7201a8"
            ],
            [
             0.3333333333333333,
             "#9c179e"
            ],
            [
             0.4444444444444444,
             "#bd3786"
            ],
            [
             0.5555555555555556,
             "#d8576b"
            ],
            [
             0.6666666666666666,
             "#ed7953"
            ],
            [
             0.7777777777777778,
             "#fb9f3a"
            ],
            [
             0.8888888888888888,
             "#fdca26"
            ],
            [
             1,
             "#f0f921"
            ]
           ],
           "sequentialminus": [
            [
             0,
             "#0d0887"
            ],
            [
             0.1111111111111111,
             "#46039f"
            ],
            [
             0.2222222222222222,
             "#7201a8"
            ],
            [
             0.3333333333333333,
             "#9c179e"
            ],
            [
             0.4444444444444444,
             "#bd3786"
            ],
            [
             0.5555555555555556,
             "#d8576b"
            ],
            [
             0.6666666666666666,
             "#ed7953"
            ],
            [
             0.7777777777777778,
             "#fb9f3a"
            ],
            [
             0.8888888888888888,
             "#fdca26"
            ],
            [
             1,
             "#f0f921"
            ]
           ]
          },
          "colorway": [
           "#636efa",
           "#EF553B",
           "#00cc96",
           "#ab63fa",
           "#FFA15A",
           "#19d3f3",
           "#FF6692",
           "#B6E880",
           "#FF97FF",
           "#FECB52"
          ],
          "font": {
           "color": "#2a3f5f"
          },
          "geo": {
           "bgcolor": "white",
           "lakecolor": "white",
           "landcolor": "#E5ECF6",
           "showlakes": true,
           "showland": true,
           "subunitcolor": "white"
          },
          "hoverlabel": {
           "align": "left"
          },
          "hovermode": "closest",
          "mapbox": {
           "style": "light"
          },
          "paper_bgcolor": "white",
          "plot_bgcolor": "#E5ECF6",
          "polar": {
           "angularaxis": {
            "gridcolor": "white",
            "linecolor": "white",
            "ticks": ""
           },
           "bgcolor": "#E5ECF6",
           "radialaxis": {
            "gridcolor": "white",
            "linecolor": "white",
            "ticks": ""
           }
          },
          "scene": {
           "xaxis": {
            "backgroundcolor": "#E5ECF6",
            "gridcolor": "white",
            "gridwidth": 2,
            "linecolor": "white",
            "showbackground": true,
            "ticks": "",
            "zerolinecolor": "white"
           },
           "yaxis": {
            "backgroundcolor": "#E5ECF6",
            "gridcolor": "white",
            "gridwidth": 2,
            "linecolor": "white",
            "showbackground": true,
            "ticks": "",
            "zerolinecolor": "white"
           },
           "zaxis": {
            "backgroundcolor": "#E5ECF6",
            "gridcolor": "white",
            "gridwidth": 2,
            "linecolor": "white",
            "showbackground": true,
            "ticks": "",
            "zerolinecolor": "white"
           }
          },
          "shapedefaults": {
           "line": {
            "color": "#2a3f5f"
           }
          },
          "ternary": {
           "aaxis": {
            "gridcolor": "white",
            "linecolor": "white",
            "ticks": ""
           },
           "baxis": {
            "gridcolor": "white",
            "linecolor": "white",
            "ticks": ""
           },
           "bgcolor": "#E5ECF6",
           "caxis": {
            "gridcolor": "white",
            "linecolor": "white",
            "ticks": ""
           }
          },
          "title": {
           "x": 0.05
          },
          "xaxis": {
           "automargin": true,
           "gridcolor": "white",
           "linecolor": "white",
           "ticks": "",
           "title": {
            "standoff": 15
           },
           "zerolinecolor": "white",
           "zerolinewidth": 2
          },
          "yaxis": {
           "automargin": true,
           "gridcolor": "white",
           "linecolor": "white",
           "ticks": "",
           "title": {
            "standoff": 15
           },
           "zerolinecolor": "white",
           "zerolinewidth": 2
          }
         }
        },
        "title": {
         "text": "Items Set Rules Graph",
         "x": 0.5
        },
        "xaxis": {
         "showgrid": false,
         "showticklabels": false,
         "zeroline": false
        },
        "yaxis": {
         "showgrid": false,
         "showticklabels": false,
         "zeroline": false
        }
       }
      }
     },
     "metadata": {},
     "output_type": "display_data"
    }
   ],
   "source": [
    "import plotly.graph_objects as go\n",
    "import networkx as nx\n",
    "\n",
    "# Create an empty directed graph\n",
    "G = nx.DiGraph()\n",
    "\n",
    "# Iterate through each row of the DataFrame and add edges to the graph\n",
    "for index, row in rules.iterrows():\n",
    "    antecedent = ', '.join(row['antecedents'])\n",
    "    consequent = ', '.join(row['consequents'])\n",
    "    support = row['support']\n",
    "    confidence = row['confidence']\n",
    "    lift = row['lift']\n",
    "    conviction = row['conviction']\n",
    "    # Check if lift is greater than 2 and confidence is greater than 0.1\n",
    "    if lift >= 2 and confidence > 0.1:\n",
    "        # Add edges to the graph with the support or confidence as edge weight\n",
    "        G.add_edge(antecedent, consequent, weight=support)\n",
    "\n",
    "        # Add support, lift, and confidence as attributes to the nodes\n",
    "        G.add_node(antecedent, support=support, lift=lift, confidence=confidence, conviction=conviction)\n",
    "        G.add_node(consequent, support=support, lift=lift, confidence=confidence, conviction=conviction)\n",
    "\n",
    "# Get the node positions using spring layout\n",
    "pos = nx.spring_layout(G)\n",
    "\n",
    "# Create a list of edge traces\n",
    "edge_traces = []\n",
    "for edge in G.edges():\n",
    "    x0, y0 = pos[edge[0]]\n",
    "    x1, y1 = pos[edge[1]]\n",
    "    weight = G.get_edge_data(edge[0], edge[1])['weight']\n",
    "    edge_trace = go.Scatter(x=[x0, x1, None], y=[y0, y1, None],\n",
    "                            mode='lines', line=dict(width=weight*10, color='black'),\n",
    "                            hoverinfo='text',\n",
    "                            hovertext=f\"Support: {weight:.3f}\",\n",
    "                            )\n",
    "    edge_traces.append(edge_trace)\n",
    "\n",
    "# Create a list of node traces\n",
    "node_traces = []\n",
    "for node in G.nodes():\n",
    "    x, y = pos[node]\n",
    "    in_edges = G.in_edges(node)\n",
    "    out_edges = G.out_edges(node)\n",
    "    text = f\"Item: {node}<br>\"\n",
    "    for in_edge in in_edges:\n",
    "        antecedent = in_edge[0]\n",
    "        weight = G.get_edge_data(antecedent, node)['weight']\n",
    "        text += f\"Trigger {antecedent} - {node}, Support: {weight:.3f}, Lift: {G.nodes[node]['lift']:.3f}, Confidence: {G.nodes[node]['confidence']:.3f}, Conviction: {G.nodes[node]['conviction']:.3f}<br>\"\n",
    "    for out_edge in out_edges:\n",
    "        consequent = out_edge[1]\n",
    "        weight = G.get_edge_data(node, consequent)['weight']\n",
    "        text += f\"Trigger {node} - {consequent}, Support: {weight:.3f}, Lift: {G.nodes[node]['lift']:.3f}, Confidence: {G.nodes[node]['confidence']:.3f}, Conviction: {G.nodes[node]['conviction']:.3f}<br>\"\n",
    "    node_trace = go.Scatter(x=[x], y=[y], mode='markers+text', text=node,\n",
    "                            marker=dict(size=40, color='lightblue'),\n",
    "                            hoverinfo='text',\n",
    "                            hovertext=text\n",
    "                            )\n",
    "    node_traces.append(node_trace)\n",
    "\n",
    "# Create the figure and add the edge and node traces\n",
    "fig = go.Figure(data=edge_traces + node_traces)\n",
    "\n",
    "# Set the layout properties\n",
    "fig.update_layout(title='Items Set Rules Graph', title_x=0.5, showlegend=False, hovermode='closest',\n",
    "                  plot_bgcolor='white', margin=dict(b=20, l=5, r=5, t=40), xaxis=dict(showgrid=False, zeroline=False,\n",
    "                  showticklabels=False), yaxis=dict(showgrid=False, zeroline=False, showticklabels=False))\n",
    "\n",
    "# Show the plot\n",
    "fig.show()\n"
   ]
  },
  {
   "cell_type": "code",
   "execution_count": 44,
   "metadata": {},
   "outputs": [
    {
     "data": {
      "application/vnd.plotly.v1+json": {
       "config": {
        "plotlyServerURL": "https://plot.ly"
       },
       "data": [
        {
         "hoverinfo": "text",
         "hovertext": "Add-on item Sub - Chocolate Bar, Chocolate Bar - Add-on item Sub, Support: 0.005402, Lift: 2.397730, Confidence: 0.140110, Conviction: 1.156400",
         "line": {
          "color": "black",
          "width": 0.054024255788313116
         },
         "mode": "lines",
         "type": "scatter",
         "x": [
          -0.45661443935477025,
          -0.9565509754601743,
          null
         ],
         "y": [
          0.05252151842121482,
          -0.04765364611108157,
          null
         ]
        },
        {
         "hoverinfo": "text",
         "hovertext": "Add-on item Sub - Flavored Milk Sub, Flavored Milk Sub - Add-on item Sub, Support: 0.012238, Lift: 2.397730, Confidence: 0.140110, Conviction: 1.156400",
         "line": {
          "color": "black",
          "width": 0.12238147739801544
         },
         "mode": "lines",
         "type": "scatter",
         "x": [
          -0.45661443935477025,
          -0.6376592915086404,
          null
         ],
         "y": [
          0.05252151842121482,
          0.5741312230404022,
          null
         ]
        },
        {
         "hoverinfo": "text",
         "hovertext": "Add-on item Sub - Instant Noodles Pack, Instant Noodles Pack - Add-on item Sub, Support: 0.005843, Lift: 2.397730, Confidence: 0.140110, Conviction: 1.156400",
         "line": {
          "color": "black",
          "width": 0.05843439911797133
         },
         "mode": "lines",
         "type": "scatter",
         "x": [
          -0.45661443935477025,
          0.029366111176543593,
          null
         ],
         "y": [
          0.05252151842121482,
          0.13205555987360768,
          null
         ]
        },
        {
         "hoverinfo": "text",
         "hovertext": "Add-on item Sub - Sugar CSD, Sugar CSD - Add-on item Sub, Support: 0.005623, Lift: 2.397730, Confidence: 0.140110, Conviction: 1.156400",
         "line": {
          "color": "black",
          "width": 0.05622932745314223
         },
         "mode": "lines",
         "type": "scatter",
         "x": [
          -0.45661443935477025,
          0.15797512795072213,
          null
         ],
         "y": [
          0.05252151842121482,
          -0.7953596282297233,
          null
         ]
        },
        {
         "hoverinfo": "text",
         "hovertext": "Chocolate Bar - Add-on item Sub, Add-on item Sub - Chocolate Bar, Support: 0.005402, Lift: 2.147544, Confidence: 0.143959, Conviction: 1.160956",
         "line": {
          "color": "black",
          "width": 0.054024255788313116
         },
         "mode": "lines",
         "type": "scatter",
         "x": [
          -0.9565509754601743,
          -0.45661443935477025,
          null
         ],
         "y": [
          -0.04765364611108157,
          0.05252151842121482,
          null
         ]
        },
        {
         "hoverinfo": "text",
         "hovertext": "Chocolate Bar - Flavored Milk Sub, Flavored Milk Sub - Chocolate Bar, Support: 0.006174, Lift: 2.147544, Confidence: 0.143959, Conviction: 1.160956",
         "line": {
          "color": "black",
          "width": 0.06174200661521499
         },
         "mode": "lines",
         "type": "scatter",
         "x": [
          -0.9565509754601743,
          -0.6376592915086404,
          null
         ],
         "y": [
          -0.04765364611108157,
          0.5741312230404022,
          null
         ]
        },
        {
         "hoverinfo": "text",
         "hovertext": "Flavored Milk Sub - Add-on item Sub, Add-on item Sub - Flavored Milk Sub, Support: 0.012238, Lift: 2.147544, Confidence: 0.143959, Conviction: 1.160956",
         "line": {
          "color": "black",
          "width": 0.12238147739801544
         },
         "mode": "lines",
         "type": "scatter",
         "x": [
          -0.6376592915086404,
          -0.45661443935477025,
          null
         ],
         "y": [
          0.5741312230404022,
          0.05252151842121482,
          null
         ]
        },
        {
         "hoverinfo": "text",
         "hovertext": "Instant Noodles Pack - Add-on item Sub, Add-on item Sub - Instant Noodles Pack, Support: 0.005843, Lift: 6.110724, Confidence: 0.142157, Conviction: 1.158260",
         "line": {
          "color": "black",
          "width": 0.05843439911797133
         },
         "mode": "lines",
         "type": "scatter",
         "x": [
          0.029366111176543593,
          -0.45661443935477025,
          null
         ],
         "y": [
          0.13205555987360768,
          0.05252151842121482,
          null
         ]
        },
        {
         "hoverinfo": "text",
         "hovertext": "Instant Noodles Pack - Hot pot Thai, Hot pot Thai - Instant Noodles Pack, Support: 0.005402, Lift: 6.110724, Confidence: 0.142157, Conviction: 1.158260",
         "line": {
          "color": "black",
          "width": 0.054024255788313116
         },
         "mode": "lines",
         "type": "scatter",
         "x": [
          0.029366111176543593,
          -0.46144043732417955,
          null
         ],
         "y": [
          0.13205555987360768,
          -0.573965615580417,
          null
         ]
        },
        {
         "hoverinfo": "text",
         "hovertext": "Instant Noodles Pack - Instant Noodles Bowl, Instant Noodles Bowl - Instant Noodles Pack, Support: 0.005513, Lift: 6.110724, Confidence: 0.142157, Conviction: 1.158260",
         "line": {
          "color": "black",
          "width": 0.05512679162072767
         },
         "mode": "lines",
         "type": "scatter",
         "x": [
          0.029366111176543593,
          -0.6508023329993078,
          null
         ],
         "y": [
          0.13205555987360768,
          0.8029578865766058,
          null
         ]
        },
        {
         "hoverinfo": "text",
         "hovertext": "Instant Noodles Pack - Instant Sausage, Instant Sausage - Instant Noodles Pack, Support: 0.006395, Lift: 6.110724, Confidence: 0.142157, Conviction: 1.158260",
         "line": {
          "color": "black",
          "width": 0.0639470782800441
         },
         "mode": "lines",
         "type": "scatter",
         "x": [
          0.029366111176543593,
          0.20120512620071554,
          null
         ],
         "y": [
          0.13205555987360768,
          0.9448670606304673,
          null
         ]
        },
        {
         "hoverinfo": "text",
         "hovertext": "Sugar CSD - Cup Of Ice, Cup Of Ice - Sugar CSD, Support: 0.010805, Lift: 2.340268, Confidence: 0.136752, Conviction: 1.152285",
         "line": {
          "color": "black",
          "width": 0.10804851157662623
         },
         "mode": "lines",
         "type": "scatter",
         "x": [
          0.15797512795072213,
          -0.2775208454917112,
          null
         ],
         "y": [
          -0.7953596282297233,
          -0.2169488923047057,
          null
         ]
        },
        {
         "hoverinfo": "text",
         "hovertext": "Coffee Drinks Sub - Cup Of Ice, Cup Of Ice - Coffee Drinks Sub, Support: 0.006174, Lift: 2.353475, Confidence: 0.186047, Conviction: 1.220986",
         "line": {
          "color": "black",
          "width": 0.06174200661521499
         },
         "mode": "lines",
         "type": "scatter",
         "x": [
          -0.8623342502251152,
          -0.2775208454917112,
          null
         ],
         "y": [
          0.3075763063481478,
          -0.2169488923047057,
          null
         ]
        },
        {
         "hoverinfo": "text",
         "hovertext": "Cup Of Ice - Energy Drinks Sub, Energy Drinks Sub - Cup Of Ice, Support: 0.022933, Lift: 2.339044, Confidence: 0.184906, Conviction: 1.213596",
         "line": {
          "color": "black",
          "width": 0.2293274531422271
         },
         "mode": "lines",
         "type": "scatter",
         "x": [
          -0.2775208454917112,
          -0.7016931863575724,
          null
         ],
         "y": [
          -0.2169488923047057,
          -0.12696956261355627,
          null
         ]
        },
        {
         "hoverinfo": "text",
         "hovertext": "Cup Of Ice - Sugar CSD, Sugar CSD - Cup Of Ice, Support: 0.010805, Lift: 2.339044, Confidence: 0.184906, Conviction: 1.213596",
         "line": {
          "color": "black",
          "width": 0.10804851157662623
         },
         "mode": "lines",
         "type": "scatter",
         "x": [
          -0.2775208454917112,
          0.15797512795072213,
          null
         ],
         "y": [
          -0.2169488923047057,
          -0.7953596282297233,
          null
         ]
        },
        {
         "hoverinfo": "text",
         "hovertext": "Energy Drinks Sub - Cup Of Ice, Cup Of Ice - Energy Drinks Sub, Support: 0.022933, Lift: 3.434968, Confidence: 0.271540, Conviction: 1.341279",
         "line": {
          "color": "black",
          "width": 0.2293274531422271
         },
         "mode": "lines",
         "type": "scatter",
         "x": [
          -0.7016931863575724,
          -0.2775208454917112,
          null
         ],
         "y": [
          -0.12696956261355627,
          -0.2169488923047057,
          null
         ]
        },
        {
         "hoverinfo": "text",
         "hovertext": "No/Less Sugar CSD - Cup Of Ice, Cup Of Ice - No/Less Sugar CSD, Support: 0.007056, Lift: 2.340268, Confidence: 0.136752, Conviction: 1.152285",
         "line": {
          "color": "black",
          "width": 0.07056229327453142
         },
         "mode": "lines",
         "type": "scatter",
         "x": [
          0.26305868038763336,
          -0.2775208454917112,
          null
         ],
         "y": [
          0.11073435619705825,
          -0.2169488923047057,
          null
         ]
        },
        {
         "hoverinfo": "text",
         "hovertext": "No/Less Sugar CSD - Sugar CSD, Sugar CSD - No/Less Sugar CSD, Support: 0.005292, Lift: 2.340268, Confidence: 0.136752, Conviction: 1.152285",
         "line": {
          "color": "black",
          "width": 0.05292171995589856
         },
         "mode": "lines",
         "type": "scatter",
         "x": [
          0.26305868038763336,
          0.15797512795072213,
          null
         ],
         "y": [
          0.11073435619705825,
          -0.7953596282297233,
          null
         ]
        },
        {
         "hoverinfo": "text",
         "hovertext": "Other Cuisine Sub - Fried Food Sub, Fried Food Sub - Other Cuisine Sub, Support: 0.014994, Lift: 2.188415, Confidence: 0.226562, Conviction: 1.280527",
         "line": {
          "color": "black",
          "width": 0.14994487320837926
         },
         "mode": "lines",
         "type": "scatter",
         "x": [
          0.020683687423671743,
          0.008448816317467524,
          null
         ],
         "y": [
          0.3048007510254973,
          0.8197781724559503,
          null
         ]
        },
        {
         "hoverinfo": "text",
         "hovertext": "Fried Food Sub - Other Cuisine Sub, Other Cuisine Sub - Fried Food Sub, Support: 0.014994, Lift: 2.725421, Confidence: 0.282158, Conviction: 1.372175",
         "line": {
          "color": "black",
          "width": 0.14994487320837926
         },
         "mode": "lines",
         "type": "scatter",
         "x": [
          0.008448816317467524,
          0.020683687423671743,
          null
         ],
         "y": [
          0.8197781724559503,
          0.3048007510254973,
          null
         ]
        },
        {
         "hoverinfo": "text",
         "hovertext": "Hot pot Thai - Instant Noodles Pack, Instant Noodles Pack - Hot pot Thai, Support: 0.005402, Lift: 3.618901, Confidence: 0.120098, Conviction: 1.130350",
         "line": {
          "color": "black",
          "width": 0.054024255788313116
         },
         "mode": "lines",
         "type": "scatter",
         "x": [
          -0.46144043732417955,
          0.029366111176543593,
          null
         ],
         "y": [
          -0.573965615580417,
          0.13205555987360768,
          null
         ]
        },
        {
         "hoverinfo": "text",
         "hovertext": "Instant Noodles Bowl - Instant Noodles Cup, Instant Noodles Cup - Instant Noodles Bowl, Support: 0.006284, Lift: 2.956169, Confidence: 0.122549, Conviction: 1.133382",
         "line": {
          "color": "black",
          "width": 0.06284454244762955
         },
         "mode": "lines",
         "type": "scatter",
         "x": [
          -0.6508023329993078,
          -0.2583369247736308,
          null
         ],
         "y": [
          0.8029578865766058,
          1,
          null
         ]
        },
        {
         "hoverinfo": "text",
         "hovertext": "Instant Noodles Bowl - Instant Noodles Pack, Instant Noodles Pack - Instant Noodles Bowl, Support: 0.005513, Lift: 2.956169, Confidence: 0.122549, Conviction: 1.133382",
         "line": {
          "color": "black",
          "width": 0.05512679162072767
         },
         "mode": "lines",
         "type": "scatter",
         "x": [
          -0.6508023329993078,
          0.029366111176543593,
          null
         ],
         "y": [
          0.8029578865766058,
          0.13205555987360768,
          null
         ]
        },
        {
         "hoverinfo": "text",
         "hovertext": "Instant Noodles Cup - Instant Sausage, Instant Sausage - Instant Noodles Cup, Support: 0.010474, Lift: 7.004544, Confidence: 0.450237, Conviction: 1.799914",
         "line": {
          "color": "black",
          "width": 0.10474090407938258
         },
         "mode": "lines",
         "type": "scatter",
         "x": [
          -0.2583369247736308,
          0.20120512620071554,
          null
         ],
         "y": [
          1,
          0.9448670606304673,
          null
         ]
        },
        {
         "hoverinfo": "text",
         "hovertext": "Instant Sausage - Instant Noodles Cup, Instant Noodles Cup - Instant Sausage, Support: 0.010474, Lift: 6.110724, Confidence: 0.142157, Conviction: 1.158260",
         "line": {
          "color": "black",
          "width": 0.10474090407938258
         },
         "mode": "lines",
         "type": "scatter",
         "x": [
          0.20120512620071554,
          -0.2583369247736308,
          null
         ],
         "y": [
          0.9448670606304673,
          1,
          null
         ]
        },
        {
         "hoverinfo": "text",
         "hovertext": "Instant Sausage - Instant Noodles Pack, Instant Noodles Pack - Instant Sausage, Support: 0.006395, Lift: 6.110724, Confidence: 0.142157, Conviction: 1.158260",
         "line": {
          "color": "black",
          "width": 0.0639470782800441
         },
         "mode": "lines",
         "type": "scatter",
         "x": [
          0.20120512620071554,
          0.029366111176543593,
          null
         ],
         "y": [
          0.9448670606304673,
          0.13205555987360768,
          null
         ]
        },
        {
         "hoverinfo": "text",
         "hovertext": "Onigiri - Sandwich, Sandwich - Onigiri, Support: 0.008049, Lift: 2.190126, Confidence: 0.170960, Conviction: 1.196506",
         "line": {
          "color": "black",
          "width": 0.08048511576626241
         },
         "mode": "lines",
         "type": "scatter",
         "x": [
          0.8001463238133799,
          -0.11382996679820032,
          null
         ],
         "y": [
          -0.16344379946012977,
          -0.628477748227983,
          null
         ]
        },
        {
         "hoverinfo": "text",
         "hovertext": "Sandwich - Onigiri, Onigiri - Sandwich, Support: 0.008049, Lift: 2.190126, Confidence: 0.170960, Conviction: 1.196506",
         "line": {
          "color": "black",
          "width": 0.08048511576626241
         },
         "mode": "lines",
         "type": "scatter",
         "x": [
          -0.11382996679820032,
          0.8001463238133799,
          null
         ],
         "y": [
          -0.628477748227983,
          -0.16344379946012977,
          null
         ]
        },
        {
         "hoverinfo": "text",
         "hovertext": "Others Steamed  bun - Other Cuisine Sub, Other Cuisine Sub - Others Steamed  bun, Support: 0.009592, Lift: 2.411531, Confidence: 0.102098, Conviction: 1.104743",
         "line": {
          "color": "black",
          "width": 0.09592061742006615
         },
         "mode": "lines",
         "type": "scatter",
         "x": [
          0.3581288123587562,
          0.020683687423671743,
          null
         ],
         "y": [
          -0.17980606367571922,
          0.3048007510254973,
          null
         ]
        },
        {
         "hoverinfo": "text",
         "hovertext": "Others Steamed  bun - Savoury  Buns, Savoury  Buns - Others Steamed  bun, Support: 0.008049, Lift: 2.411531, Confidence: 0.102098, Conviction: 1.104743",
         "line": {
          "color": "black",
          "width": 0.08048511576626241
         },
         "mode": "lines",
         "type": "scatter",
         "x": [
          0.3581288123587562,
          0.8599958732605463,
          null
         ],
         "y": [
          -0.17980606367571922,
          0.162578054690113,
          null
         ]
        },
        {
         "hoverinfo": "text",
         "hovertext": "Other Ice Cream - Stick, Stick - Other Ice Cream, Support: 0.005072, Lift: 10.722142, Confidence: 0.179688, Conviction: 1.212865",
         "line": {
          "color": "black",
          "width": 0.05071664829106946
         },
         "mode": "lines",
         "type": "scatter",
         "x": [
          -0.1958700146355185,
          0.4967956486426087,
          null
         ],
         "y": [
          -0.9357633710971576,
          -0.538464849906986,
          null
         ]
        },
        {
         "hoverinfo": "text",
         "hovertext": "Stick - Other Ice Cream, Other Ice Cream - Stick, Support: 0.005072, Lift: 10.722142, Confidence: 0.179688, Conviction: 1.212865",
         "line": {
          "color": "black",
          "width": 0.05071664829106946
         },
         "mode": "lines",
         "type": "scatter",
         "x": [
          0.4967956486426087,
          -0.1958700146355185,
          null
         ],
         "y": [
          -0.538464849906986,
          -0.9357633710971576,
          null
         ]
        },
        {
         "hoverinfo": "text",
         "hovertext": "Savoury  Buns - Others Steamed  bun, Others Steamed  bun - Savoury  Buns, Support: 0.008049, Lift: 2.411531, Confidence: 0.102098, Conviction: 1.104743",
         "line": {
          "color": "black",
          "width": 0.08048511576626241
         },
         "mode": "lines",
         "type": "scatter",
         "x": [
          0.8599958732605463,
          0.3581288123587562,
          null
         ],
         "y": [
          0.162578054690113,
          -0.17980606367571922,
          null
         ]
        },
        {
         "hoverinfo": "text",
         "hovertext": "UHT Milk - Packaged bakery, Packaged bakery - UHT Milk, Support: 0.005843, Lift: 2.085600, Confidence: 0.135897, Conviction: 1.150508",
         "line": {
          "color": "black",
          "width": 0.05843439911797133
         },
         "mode": "lines",
         "type": "scatter",
         "x": [
          -0.681346323479305,
          0.020812231360553206,
          null
         ],
         "y": [
          -0.5106578761215271,
          -0.8989268507646921,
          null
         ]
        },
        {
         "hoverinfo": "text",
         "hovertext": "Potato Snacks - Salty Snacks, Salty Snacks - Potato Snacks, Support: 0.008600, Lift: 3.827750, Confidence: 0.191176, Conviction: 1.225731",
         "line": {
          "color": "black",
          "width": 0.08599779492833518
         },
         "mode": "lines",
         "type": "scatter",
         "x": [
          0.6941429888503801,
          0.8455268739970669,
          null
         ],
         "y": [
          0.5374877619523731,
          -0.2231162629418605,
          null
         ]
        },
        {
         "hoverinfo": "text",
         "hovertext": "Salty Snacks - Potato Snacks, Potato Snacks - Salty Snacks, Support: 0.008600, Lift: 3.827750, Confidence: 0.191176, Conviction: 1.225731",
         "line": {
          "color": "black",
          "width": 0.08599779492833518
         },
         "mode": "lines",
         "type": "scatter",
         "x": [
          0.8455268739970669,
          0.6941429888503801,
          null
         ],
         "y": [
          -0.2231162629418605,
          0.5374877619523731,
          null
         ]
        },
        {
         "hoverinfo": "text",
         "hovertext": "WIC/RIC Juice - Sugar Tea, Sugar Tea - WIC/RIC Juice, Support: 0.006505, Lift: 2.131992, Confidence: 0.236000, Conviction: 1.300386",
         "line": {
          "color": "black",
          "width": 0.06504961411245866
         },
         "mode": "lines",
         "type": "scatter",
         "x": [
          0.6804220305864711,
          0.8172906560816093,
          null
         ],
         "y": [
          -0.46297851135705037,
          0.5530440271811522,
          null
         ]
        },
        {
         "hoverinfo": "text",
         "hovertext": "Item: Add-on item Sub, Support: 0.005623, Lift: 2.397730, Confidence: 0.140110, Conviction: 1.156400",
         "marker": {
          "color": "lightblue",
          "size": 40
         },
         "mode": "markers+text",
         "text": "Add-on item Sub",
         "textposition": "top center",
         "type": "scatter",
         "x": [
          -0.45661443935477025
         ],
         "y": [
          0.05252151842121482
         ]
        },
        {
         "hoverinfo": "text",
         "hovertext": "Item: Chocolate Bar, Support: 0.006174, Lift: 2.147544, Confidence: 0.143959, Conviction: 1.160956",
         "marker": {
          "color": "lightblue",
          "size": 40
         },
         "mode": "markers+text",
         "text": "Chocolate Bar",
         "textposition": "top center",
         "type": "scatter",
         "x": [
          -0.9565509754601743
         ],
         "y": [
          -0.04765364611108157
         ]
        },
        {
         "hoverinfo": "text",
         "hovertext": "Item: Flavored Milk Sub, Support: 0.006174, Lift: 2.147544, Confidence: 0.143959, Conviction: 1.160956",
         "marker": {
          "color": "lightblue",
          "size": 40
         },
         "mode": "markers+text",
         "text": "Flavored Milk Sub",
         "textposition": "top center",
         "type": "scatter",
         "x": [
          -0.6376592915086404
         ],
         "y": [
          0.5741312230404022
         ]
        },
        {
         "hoverinfo": "text",
         "hovertext": "Item: Instant Noodles Pack, Support: 0.006395, Lift: 6.110724, Confidence: 0.142157, Conviction: 1.158260",
         "marker": {
          "color": "lightblue",
          "size": 40
         },
         "mode": "markers+text",
         "text": "Instant Noodles Pack",
         "textposition": "top center",
         "type": "scatter",
         "x": [
          0.029366111176543593
         ],
         "y": [
          0.13205555987360768
         ]
        },
        {
         "hoverinfo": "text",
         "hovertext": "Item: Sugar CSD, Support: 0.005292, Lift: 2.340268, Confidence: 0.136752, Conviction: 1.152285",
         "marker": {
          "color": "lightblue",
          "size": 40
         },
         "mode": "markers+text",
         "text": "Sugar CSD",
         "textposition": "top center",
         "type": "scatter",
         "x": [
          0.15797512795072213
         ],
         "y": [
          -0.7953596282297233
         ]
        },
        {
         "hoverinfo": "text",
         "hovertext": "Item: Coffee Drinks Sub, Support: 0.006174, Lift: 2.353475, Confidence: 0.186047, Conviction: 1.220986",
         "marker": {
          "color": "lightblue",
          "size": 40
         },
         "mode": "markers+text",
         "text": "Coffee Drinks Sub",
         "textposition": "top center",
         "type": "scatter",
         "x": [
          -0.8623342502251152
         ],
         "y": [
          0.3075763063481478
         ]
        },
        {
         "hoverinfo": "text",
         "hovertext": "Item: Cup Of Ice, Support: 0.010805, Lift: 2.339044, Confidence: 0.184906, Conviction: 1.213596",
         "marker": {
          "color": "lightblue",
          "size": 40
         },
         "mode": "markers+text",
         "text": "Cup Of Ice",
         "textposition": "top center",
         "type": "scatter",
         "x": [
          -0.2775208454917112
         ],
         "y": [
          -0.2169488923047057
         ]
        },
        {
         "hoverinfo": "text",
         "hovertext": "Item: Energy Drinks Sub, Support: 0.022933, Lift: 3.434968, Confidence: 0.271540, Conviction: 1.341279",
         "marker": {
          "color": "lightblue",
          "size": 40
         },
         "mode": "markers+text",
         "text": "Energy Drinks Sub",
         "textposition": "top center",
         "type": "scatter",
         "x": [
          -0.7016931863575724
         ],
         "y": [
          -0.12696956261355627
         ]
        },
        {
         "hoverinfo": "text",
         "hovertext": "Item: No/Less Sugar CSD, Support: 0.005292, Lift: 2.340268, Confidence: 0.136752, Conviction: 1.152285",
         "marker": {
          "color": "lightblue",
          "size": 40
         },
         "mode": "markers+text",
         "text": "No/Less Sugar CSD",
         "textposition": "top center",
         "type": "scatter",
         "x": [
          0.26305868038763336
         ],
         "y": [
          0.11073435619705825
         ]
        },
        {
         "hoverinfo": "text",
         "hovertext": "Item: Other Cuisine Sub, Support: 0.009592, Lift: 2.188415, Confidence: 0.226562, Conviction: 1.280527",
         "marker": {
          "color": "lightblue",
          "size": 40
         },
         "mode": "markers+text",
         "text": "Other Cuisine Sub",
         "textposition": "top center",
         "type": "scatter",
         "x": [
          0.020683687423671743
         ],
         "y": [
          0.3048007510254973
         ]
        },
        {
         "hoverinfo": "text",
         "hovertext": "Item: Fried Food Sub, Support: 0.014994, Lift: 2.725421, Confidence: 0.282158, Conviction: 1.372175",
         "marker": {
          "color": "lightblue",
          "size": 40
         },
         "mode": "markers+text",
         "text": "Fried Food Sub",
         "textposition": "top center",
         "type": "scatter",
         "x": [
          0.008448816317467524
         ],
         "y": [
          0.8197781724559503
         ]
        },
        {
         "hoverinfo": "text",
         "hovertext": "Item: Hot pot Thai, Support: 0.005402, Lift: 3.618901, Confidence: 0.120098, Conviction: 1.130350",
         "marker": {
          "color": "lightblue",
          "size": 40
         },
         "mode": "markers+text",
         "text": "Hot pot Thai",
         "textposition": "top center",
         "type": "scatter",
         "x": [
          -0.46144043732417955
         ],
         "y": [
          -0.573965615580417
         ]
        },
        {
         "hoverinfo": "text",
         "hovertext": "Item: Instant Noodles Bowl, Support: 0.005513, Lift: 2.956169, Confidence: 0.122549, Conviction: 1.133382",
         "marker": {
          "color": "lightblue",
          "size": 40
         },
         "mode": "markers+text",
         "text": "Instant Noodles Bowl",
         "textposition": "top center",
         "type": "scatter",
         "x": [
          -0.6508023329993078
         ],
         "y": [
          0.8029578865766058
         ]
        },
        {
         "hoverinfo": "text",
         "hovertext": "Item: Instant Noodles Cup, Support: 0.010474, Lift: 7.004544, Confidence: 0.450237, Conviction: 1.799914",
         "marker": {
          "color": "lightblue",
          "size": 40
         },
         "mode": "markers+text",
         "text": "Instant Noodles Cup",
         "textposition": "top center",
         "type": "scatter",
         "x": [
          -0.2583369247736308
         ],
         "y": [
          1
         ]
        },
        {
         "hoverinfo": "text",
         "hovertext": "Item: Instant Sausage, Support: 0.006395, Lift: 6.110724, Confidence: 0.142157, Conviction: 1.158260",
         "marker": {
          "color": "lightblue",
          "size": 40
         },
         "mode": "markers+text",
         "text": "Instant Sausage",
         "textposition": "top center",
         "type": "scatter",
         "x": [
          0.20120512620071554
         ],
         "y": [
          0.9448670606304673
         ]
        },
        {
         "hoverinfo": "text",
         "hovertext": "Item: Onigiri, Support: 0.008049, Lift: 2.190126, Confidence: 0.170960, Conviction: 1.196506",
         "marker": {
          "color": "lightblue",
          "size": 40
         },
         "mode": "markers+text",
         "text": "Onigiri",
         "textposition": "top center",
         "type": "scatter",
         "x": [
          0.8001463238133799
         ],
         "y": [
          -0.16344379946012977
         ]
        },
        {
         "hoverinfo": "text",
         "hovertext": "Item: Sandwich, Support: 0.008049, Lift: 2.190126, Confidence: 0.170960, Conviction: 1.196506",
         "marker": {
          "color": "lightblue",
          "size": 40
         },
         "mode": "markers+text",
         "text": "Sandwich",
         "textposition": "top center",
         "type": "scatter",
         "x": [
          -0.11382996679820032
         ],
         "y": [
          -0.628477748227983
         ]
        },
        {
         "hoverinfo": "text",
         "hovertext": "Item: Others Steamed  bun, Support: 0.008049, Lift: 2.411531, Confidence: 0.102098, Conviction: 1.104743",
         "marker": {
          "color": "lightblue",
          "size": 40
         },
         "mode": "markers+text",
         "text": "Others Steamed  bun",
         "textposition": "top center",
         "type": "scatter",
         "x": [
          0.3581288123587562
         ],
         "y": [
          -0.17980606367571922
         ]
        },
        {
         "hoverinfo": "text",
         "hovertext": "Item: Other Ice Cream, Support: 0.005072, Lift: 10.722142, Confidence: 0.179688, Conviction: 1.212865",
         "marker": {
          "color": "lightblue",
          "size": 40
         },
         "mode": "markers+text",
         "text": "Other Ice Cream",
         "textposition": "top center",
         "type": "scatter",
         "x": [
          -0.1958700146355185
         ],
         "y": [
          -0.9357633710971576
         ]
        },
        {
         "hoverinfo": "text",
         "hovertext": "Item: Stick, Support: 0.005072, Lift: 10.722142, Confidence: 0.179688, Conviction: 1.212865",
         "marker": {
          "color": "lightblue",
          "size": 40
         },
         "mode": "markers+text",
         "text": "Stick",
         "textposition": "top center",
         "type": "scatter",
         "x": [
          0.4967956486426087
         ],
         "y": [
          -0.538464849906986
         ]
        },
        {
         "hoverinfo": "text",
         "hovertext": "Item: Savoury  Buns, Support: 0.008049, Lift: 2.411531, Confidence: 0.102098, Conviction: 1.104743",
         "marker": {
          "color": "lightblue",
          "size": 40
         },
         "mode": "markers+text",
         "text": "Savoury  Buns",
         "textposition": "top center",
         "type": "scatter",
         "x": [
          0.8599958732605463
         ],
         "y": [
          0.162578054690113
         ]
        },
        {
         "hoverinfo": "text",
         "hovertext": "Item: UHT Milk, Support: 0.005843, Lift: 2.085600, Confidence: 0.135897, Conviction: 1.150508",
         "marker": {
          "color": "lightblue",
          "size": 40
         },
         "mode": "markers+text",
         "text": "UHT Milk",
         "textposition": "top center",
         "type": "scatter",
         "x": [
          -0.681346323479305
         ],
         "y": [
          -0.5106578761215271
         ]
        },
        {
         "hoverinfo": "text",
         "hovertext": "Item: Packaged bakery, Support: 0.005843, Lift: 2.085600, Confidence: 0.135897, Conviction: 1.150508",
         "marker": {
          "color": "lightblue",
          "size": 40
         },
         "mode": "markers+text",
         "text": "Packaged bakery",
         "textposition": "top center",
         "type": "scatter",
         "x": [
          0.020812231360553206
         ],
         "y": [
          -0.8989268507646921
         ]
        },
        {
         "hoverinfo": "text",
         "hovertext": "Item: Potato Snacks, Support: 0.008600, Lift: 3.827750, Confidence: 0.191176, Conviction: 1.225731",
         "marker": {
          "color": "lightblue",
          "size": 40
         },
         "mode": "markers+text",
         "text": "Potato Snacks",
         "textposition": "top center",
         "type": "scatter",
         "x": [
          0.6941429888503801
         ],
         "y": [
          0.5374877619523731
         ]
        },
        {
         "hoverinfo": "text",
         "hovertext": "Item: Salty Snacks, Support: 0.008600, Lift: 3.827750, Confidence: 0.191176, Conviction: 1.225731",
         "marker": {
          "color": "lightblue",
          "size": 40
         },
         "mode": "markers+text",
         "text": "Salty Snacks",
         "textposition": "top center",
         "type": "scatter",
         "x": [
          0.8455268739970669
         ],
         "y": [
          -0.2231162629418605
         ]
        },
        {
         "hoverinfo": "text",
         "hovertext": "Item: WIC/RIC Juice, Support: 0.006505, Lift: 2.131992, Confidence: 0.236000, Conviction: 1.300386",
         "marker": {
          "color": "lightblue",
          "size": 40
         },
         "mode": "markers+text",
         "text": "WIC/RIC Juice",
         "textposition": "top center",
         "type": "scatter",
         "x": [
          0.6804220305864711
         ],
         "y": [
          -0.46297851135705037
         ]
        },
        {
         "hoverinfo": "text",
         "hovertext": "Item: Sugar Tea, Support: 0.006505, Lift: 2.131992, Confidence: 0.236000, Conviction: 1.300386",
         "marker": {
          "color": "lightblue",
          "size": 40
         },
         "mode": "markers+text",
         "text": "Sugar Tea",
         "textposition": "top center",
         "type": "scatter",
         "x": [
          0.8172906560816093
         ],
         "y": [
          0.5530440271811522
         ]
        }
       ],
       "layout": {
        "hovermode": "closest",
        "margin": {
         "b": 20,
         "l": 5,
         "r": 5,
         "t": 40
        },
        "plot_bgcolor": "white",
        "showlegend": false,
        "template": {
         "data": {
          "bar": [
           {
            "error_x": {
             "color": "#2a3f5f"
            },
            "error_y": {
             "color": "#2a3f5f"
            },
            "marker": {
             "line": {
              "color": "#E5ECF6",
              "width": 0.5
             },
             "pattern": {
              "fillmode": "overlay",
              "size": 10,
              "solidity": 0.2
             }
            },
            "type": "bar"
           }
          ],
          "barpolar": [
           {
            "marker": {
             "line": {
              "color": "#E5ECF6",
              "width": 0.5
             },
             "pattern": {
              "fillmode": "overlay",
              "size": 10,
              "solidity": 0.2
             }
            },
            "type": "barpolar"
           }
          ],
          "carpet": [
           {
            "aaxis": {
             "endlinecolor": "#2a3f5f",
             "gridcolor": "white",
             "linecolor": "white",
             "minorgridcolor": "white",
             "startlinecolor": "#2a3f5f"
            },
            "baxis": {
             "endlinecolor": "#2a3f5f",
             "gridcolor": "white",
             "linecolor": "white",
             "minorgridcolor": "white",
             "startlinecolor": "#2a3f5f"
            },
            "type": "carpet"
           }
          ],
          "choropleth": [
           {
            "colorbar": {
             "outlinewidth": 0,
             "ticks": ""
            },
            "type": "choropleth"
           }
          ],
          "contour": [
           {
            "colorbar": {
             "outlinewidth": 0,
             "ticks": ""
            },
            "colorscale": [
             [
              0,
              "#0d0887"
             ],
             [
              0.1111111111111111,
              "#46039f"
             ],
             [
              0.2222222222222222,
              "#7201a8"
             ],
             [
              0.3333333333333333,
              "#9c179e"
             ],
             [
              0.4444444444444444,
              "#bd3786"
             ],
             [
              0.5555555555555556,
              "#d8576b"
             ],
             [
              0.6666666666666666,
              "#ed7953"
             ],
             [
              0.7777777777777778,
              "#fb9f3a"
             ],
             [
              0.8888888888888888,
              "#fdca26"
             ],
             [
              1,
              "#f0f921"
             ]
            ],
            "type": "contour"
           }
          ],
          "contourcarpet": [
           {
            "colorbar": {
             "outlinewidth": 0,
             "ticks": ""
            },
            "type": "contourcarpet"
           }
          ],
          "heatmap": [
           {
            "colorbar": {
             "outlinewidth": 0,
             "ticks": ""
            },
            "colorscale": [
             [
              0,
              "#0d0887"
             ],
             [
              0.1111111111111111,
              "#46039f"
             ],
             [
              0.2222222222222222,
              "#7201a8"
             ],
             [
              0.3333333333333333,
              "#9c179e"
             ],
             [
              0.4444444444444444,
              "#bd3786"
             ],
             [
              0.5555555555555556,
              "#d8576b"
             ],
             [
              0.6666666666666666,
              "#ed7953"
             ],
             [
              0.7777777777777778,
              "#fb9f3a"
             ],
             [
              0.8888888888888888,
              "#fdca26"
             ],
             [
              1,
              "#f0f921"
             ]
            ],
            "type": "heatmap"
           }
          ],
          "heatmapgl": [
           {
            "colorbar": {
             "outlinewidth": 0,
             "ticks": ""
            },
            "colorscale": [
             [
              0,
              "#0d0887"
             ],
             [
              0.1111111111111111,
              "#46039f"
             ],
             [
              0.2222222222222222,
              "#7201a8"
             ],
             [
              0.3333333333333333,
              "#9c179e"
             ],
             [
              0.4444444444444444,
              "#bd3786"
             ],
             [
              0.5555555555555556,
              "#d8576b"
             ],
             [
              0.6666666666666666,
              "#ed7953"
             ],
             [
              0.7777777777777778,
              "#fb9f3a"
             ],
             [
              0.8888888888888888,
              "#fdca26"
             ],
             [
              1,
              "#f0f921"
             ]
            ],
            "type": "heatmapgl"
           }
          ],
          "histogram": [
           {
            "marker": {
             "pattern": {
              "fillmode": "overlay",
              "size": 10,
              "solidity": 0.2
             }
            },
            "type": "histogram"
           }
          ],
          "histogram2d": [
           {
            "colorbar": {
             "outlinewidth": 0,
             "ticks": ""
            },
            "colorscale": [
             [
              0,
              "#0d0887"
             ],
             [
              0.1111111111111111,
              "#46039f"
             ],
             [
              0.2222222222222222,
              "#7201a8"
             ],
             [
              0.3333333333333333,
              "#9c179e"
             ],
             [
              0.4444444444444444,
              "#bd3786"
             ],
             [
              0.5555555555555556,
              "#d8576b"
             ],
             [
              0.6666666666666666,
              "#ed7953"
             ],
             [
              0.7777777777777778,
              "#fb9f3a"
             ],
             [
              0.8888888888888888,
              "#fdca26"
             ],
             [
              1,
              "#f0f921"
             ]
            ],
            "type": "histogram2d"
           }
          ],
          "histogram2dcontour": [
           {
            "colorbar": {
             "outlinewidth": 0,
             "ticks": ""
            },
            "colorscale": [
             [
              0,
              "#0d0887"
             ],
             [
              0.1111111111111111,
              "#46039f"
             ],
             [
              0.2222222222222222,
              "#7201a8"
             ],
             [
              0.3333333333333333,
              "#9c179e"
             ],
             [
              0.4444444444444444,
              "#bd3786"
             ],
             [
              0.5555555555555556,
              "#d8576b"
             ],
             [
              0.6666666666666666,
              "#ed7953"
             ],
             [
              0.7777777777777778,
              "#fb9f3a"
             ],
             [
              0.8888888888888888,
              "#fdca26"
             ],
             [
              1,
              "#f0f921"
             ]
            ],
            "type": "histogram2dcontour"
           }
          ],
          "mesh3d": [
           {
            "colorbar": {
             "outlinewidth": 0,
             "ticks": ""
            },
            "type": "mesh3d"
           }
          ],
          "parcoords": [
           {
            "line": {
             "colorbar": {
              "outlinewidth": 0,
              "ticks": ""
             }
            },
            "type": "parcoords"
           }
          ],
          "pie": [
           {
            "automargin": true,
            "type": "pie"
           }
          ],
          "scatter": [
           {
            "fillpattern": {
             "fillmode": "overlay",
             "size": 10,
             "solidity": 0.2
            },
            "type": "scatter"
           }
          ],
          "scatter3d": [
           {
            "line": {
             "colorbar": {
              "outlinewidth": 0,
              "ticks": ""
             }
            },
            "marker": {
             "colorbar": {
              "outlinewidth": 0,
              "ticks": ""
             }
            },
            "type": "scatter3d"
           }
          ],
          "scattercarpet": [
           {
            "marker": {
             "colorbar": {
              "outlinewidth": 0,
              "ticks": ""
             }
            },
            "type": "scattercarpet"
           }
          ],
          "scattergeo": [
           {
            "marker": {
             "colorbar": {
              "outlinewidth": 0,
              "ticks": ""
             }
            },
            "type": "scattergeo"
           }
          ],
          "scattergl": [
           {
            "marker": {
             "colorbar": {
              "outlinewidth": 0,
              "ticks": ""
             }
            },
            "type": "scattergl"
           }
          ],
          "scattermapbox": [
           {
            "marker": {
             "colorbar": {
              "outlinewidth": 0,
              "ticks": ""
             }
            },
            "type": "scattermapbox"
           }
          ],
          "scatterpolar": [
           {
            "marker": {
             "colorbar": {
              "outlinewidth": 0,
              "ticks": ""
             }
            },
            "type": "scatterpolar"
           }
          ],
          "scatterpolargl": [
           {
            "marker": {
             "colorbar": {
              "outlinewidth": 0,
              "ticks": ""
             }
            },
            "type": "scatterpolargl"
           }
          ],
          "scatterternary": [
           {
            "marker": {
             "colorbar": {
              "outlinewidth": 0,
              "ticks": ""
             }
            },
            "type": "scatterternary"
           }
          ],
          "surface": [
           {
            "colorbar": {
             "outlinewidth": 0,
             "ticks": ""
            },
            "colorscale": [
             [
              0,
              "#0d0887"
             ],
             [
              0.1111111111111111,
              "#46039f"
             ],
             [
              0.2222222222222222,
              "#7201a8"
             ],
             [
              0.3333333333333333,
              "#9c179e"
             ],
             [
              0.4444444444444444,
              "#bd3786"
             ],
             [
              0.5555555555555556,
              "#d8576b"
             ],
             [
              0.6666666666666666,
              "#ed7953"
             ],
             [
              0.7777777777777778,
              "#fb9f3a"
             ],
             [
              0.8888888888888888,
              "#fdca26"
             ],
             [
              1,
              "#f0f921"
             ]
            ],
            "type": "surface"
           }
          ],
          "table": [
           {
            "cells": {
             "fill": {
              "color": "#EBF0F8"
             },
             "line": {
              "color": "white"
             }
            },
            "header": {
             "fill": {
              "color": "#C8D4E3"
             },
             "line": {
              "color": "white"
             }
            },
            "type": "table"
           }
          ]
         },
         "layout": {
          "annotationdefaults": {
           "arrowcolor": "#2a3f5f",
           "arrowhead": 0,
           "arrowwidth": 1
          },
          "autotypenumbers": "strict",
          "coloraxis": {
           "colorbar": {
            "outlinewidth": 0,
            "ticks": ""
           }
          },
          "colorscale": {
           "diverging": [
            [
             0,
             "#8e0152"
            ],
            [
             0.1,
             "#c51b7d"
            ],
            [
             0.2,
             "#de77ae"
            ],
            [
             0.3,
             "#f1b6da"
            ],
            [
             0.4,
             "#fde0ef"
            ],
            [
             0.5,
             "#f7f7f7"
            ],
            [
             0.6,
             "#e6f5d0"
            ],
            [
             0.7,
             "#b8e186"
            ],
            [
             0.8,
             "#7fbc41"
            ],
            [
             0.9,
             "#4d9221"
            ],
            [
             1,
             "#276419"
            ]
           ],
           "sequential": [
            [
             0,
             "#0d0887"
            ],
            [
             0.1111111111111111,
             "#46039f"
            ],
            [
             0.2222222222222222,
             "#7201a8"
            ],
            [
             0.3333333333333333,
             "#9c179e"
            ],
            [
             0.4444444444444444,
             "#bd3786"
            ],
            [
             0.5555555555555556,
             "#d8576b"
            ],
            [
             0.6666666666666666,
             "#ed7953"
            ],
            [
             0.7777777777777778,
             "#fb9f3a"
            ],
            [
             0.8888888888888888,
             "#fdca26"
            ],
            [
             1,
             "#f0f921"
            ]
           ],
           "sequentialminus": [
            [
             0,
             "#0d0887"
            ],
            [
             0.1111111111111111,
             "#46039f"
            ],
            [
             0.2222222222222222,
             "#7201a8"
            ],
            [
             0.3333333333333333,
             "#9c179e"
            ],
            [
             0.4444444444444444,
             "#bd3786"
            ],
            [
             0.5555555555555556,
             "#d8576b"
            ],
            [
             0.6666666666666666,
             "#ed7953"
            ],
            [
             0.7777777777777778,
             "#fb9f3a"
            ],
            [
             0.8888888888888888,
             "#fdca26"
            ],
            [
             1,
             "#f0f921"
            ]
           ]
          },
          "colorway": [
           "#636efa",
           "#EF553B",
           "#00cc96",
           "#ab63fa",
           "#FFA15A",
           "#19d3f3",
           "#FF6692",
           "#B6E880",
           "#FF97FF",
           "#FECB52"
          ],
          "font": {
           "color": "#2a3f5f"
          },
          "geo": {
           "bgcolor": "white",
           "lakecolor": "white",
           "landcolor": "#E5ECF6",
           "showlakes": true,
           "showland": true,
           "subunitcolor": "white"
          },
          "hoverlabel": {
           "align": "left"
          },
          "hovermode": "closest",
          "mapbox": {
           "style": "light"
          },
          "paper_bgcolor": "white",
          "plot_bgcolor": "#E5ECF6",
          "polar": {
           "angularaxis": {
            "gridcolor": "white",
            "linecolor": "white",
            "ticks": ""
           },
           "bgcolor": "#E5ECF6",
           "radialaxis": {
            "gridcolor": "white",
            "linecolor": "white",
            "ticks": ""
           }
          },
          "scene": {
           "xaxis": {
            "backgroundcolor": "#E5ECF6",
            "gridcolor": "white",
            "gridwidth": 2,
            "linecolor": "white",
            "showbackground": true,
            "ticks": "",
            "zerolinecolor": "white"
           },
           "yaxis": {
            "backgroundcolor": "#E5ECF6",
            "gridcolor": "white",
            "gridwidth": 2,
            "linecolor": "white",
            "showbackground": true,
            "ticks": "",
            "zerolinecolor": "white"
           },
           "zaxis": {
            "backgroundcolor": "#E5ECF6",
            "gridcolor": "white",
            "gridwidth": 2,
            "linecolor": "white",
            "showbackground": true,
            "ticks": "",
            "zerolinecolor": "white"
           }
          },
          "shapedefaults": {
           "line": {
            "color": "#2a3f5f"
           }
          },
          "ternary": {
           "aaxis": {
            "gridcolor": "white",
            "linecolor": "white",
            "ticks": ""
           },
           "baxis": {
            "gridcolor": "white",
            "linecolor": "white",
            "ticks": ""
           },
           "bgcolor": "#E5ECF6",
           "caxis": {
            "gridcolor": "white",
            "linecolor": "white",
            "ticks": ""
           }
          },
          "title": {
           "x": 0.05
          },
          "xaxis": {
           "automargin": true,
           "gridcolor": "white",
           "linecolor": "white",
           "ticks": "",
           "title": {
            "standoff": 15
           },
           "zerolinecolor": "white",
           "zerolinewidth": 2
          },
          "yaxis": {
           "automargin": true,
           "gridcolor": "white",
           "linecolor": "white",
           "ticks": "",
           "title": {
            "standoff": 15
           },
           "zerolinecolor": "white",
           "zerolinewidth": 2
          }
         }
        },
        "title": {
         "text": "Items Set Rules Graph",
         "x": 0.5
        },
        "xaxis": {
         "showgrid": false,
         "showticklabels": false,
         "zeroline": false
        },
        "yaxis": {
         "showgrid": false,
         "showticklabels": false,
         "zeroline": false
        }
       }
      }
     },
     "metadata": {},
     "output_type": "display_data"
    }
   ],
   "source": [
    "import plotly.graph_objects as go\n",
    "import networkx as nx\n",
    "\n",
    "# Create an empty directed graph\n",
    "G = nx.DiGraph()\n",
    "\n",
    "# Iterate through each row of the DataFrame and add edges to the graph\n",
    "for index, row in rules.iterrows():\n",
    "    antecedent = ', '.join(row['antecedents'])\n",
    "    consequent = ', '.join(row['consequents'])\n",
    "    support = row['support']\n",
    "    confidence = row['confidence']\n",
    "    lift = row['lift']\n",
    "    conviction = row['conviction']\n",
    "    # Check if lift is greater than 2 and confidence is greater than 0.1\n",
    "    if lift >= 2 and confidence > 0.1:\n",
    "        # Add edges to the graph with the support or confidence as edge weight\n",
    "        G.add_edge(antecedent, consequent, weight=support)\n",
    "\n",
    "        # Add support, lift, and confidence as attributes to the nodes\n",
    "        G.add_node(antecedent, support=support, lift=lift, confidence=confidence, conviction=conviction)\n",
    "        G.add_node(consequent, support=support, lift=lift, confidence=confidence, conviction=conviction)\n",
    "\n",
    "# Get the node positions using spring layout\n",
    "pos = nx.spring_layout(G)\n",
    "\n",
    "# Create a list of edge traces\n",
    "edge_traces = []\n",
    "for edge in G.edges():\n",
    "    x0, y0 = pos[edge[0]]\n",
    "    x1, y1 = pos[edge[1]]\n",
    "    weight = G.get_edge_data(edge[0], edge[1])['weight']\n",
    "    # Get both trigger ways\n",
    "    trigger_way1 = f\"{edge[0]} - {edge[1]}\"\n",
    "    trigger_way2 = f\"{edge[1]} - {edge[0]}\"\n",
    "    edge_trace = go.Scatter(x=[x0, x1, None], y=[y0, y1, None],\n",
    "                            mode='lines', line=dict(width=weight*10, color='black'),\n",
    "                            hoverinfo='text',\n",
    "                            hovertext=f\"{trigger_way1}, {trigger_way2}, Support: {weight:.6f}, Lift: {G.nodes[edge[0]]['lift']:.6f}, Confidence: {G.nodes[edge[0]]['confidence']:.6f}, Conviction: {G.nodes[edge[0]]['conviction']:.6f}\"\n",
    "                            )\n",
    "    edge_traces.append(edge_trace)\n",
    "\n",
    "# Create a list of node traces\n",
    "node_traces = []\n",
    "for node in G.nodes():\n",
    "    x, y = pos[node]\n",
    "    node_trace = go.Scatter(x=[x], y=[y], mode='markers+text', text=node,\n",
    "                            textposition='top center', marker=dict(size=40, color='lightblue'),\n",
    "                            hoverinfo='text',\n",
    "                            hovertext=f\"Item: {node}, Support: {G.nodes[node]['support']:.6f}, Lift: {G.nodes[node]['lift']:.6f}, Confidence: {G.nodes[node]['confidence']:.6f}, Conviction: {G.nodes[node]['conviction']:.6f}\"\n",
    "                            )\n",
    "    node_traces.append(node_trace)\n",
    "\n",
    "# Create the figure and add the edge and node traces\n",
    "fig = go.Figure(data=edge_traces + node_traces)\n",
    "\n",
    "# Set the layout properties\n",
    "fig.update_layout(title='Items Set Rules Graph', title_x=0.5, showlegend=False, hovermode='closest',\n",
    "                  plot_bgcolor='white', margin=dict(b=20, l=5, r=5, t=40), xaxis=dict(showgrid=False, zeroline=False,\n",
    "                  showticklabels=False), yaxis=dict(showgrid=False, zeroline=False, showticklabels=False))\n",
    "\n",
    "# Show the plot\n",
    "fig.show()\n"
   ]
  },
  {
   "cell_type": "code",
   "execution_count": 47,
   "metadata": {},
   "outputs": [
    {
     "data": {
      "application/vnd.plotly.v1+json": {
       "config": {
        "plotlyServerURL": "https://plot.ly"
       },
       "data": [
        {
         "hoverinfo": "text",
         "hovertext": "Support: 0.005",
         "line": {
          "color": "black",
          "width": 0.054024255788313116
         },
         "mode": "lines",
         "type": "scatter",
         "x": [
          1,
          0.9730448723174075,
          null
         ],
         "y": [
          3.311369150076431e-9,
          0.23061587218946566,
          null
         ]
        },
        {
         "hoverinfo": "text",
         "hovertext": "Support: 0.012",
         "line": {
          "color": "black",
          "width": 0.12238147739801544
         },
         "mode": "lines",
         "type": "scatter",
         "x": [
          1,
          0.8936326505074494,
          null
         ],
         "y": [
          3.311369150076431e-9,
          0.44879919565949283,
          null
         ]
        },
        {
         "hoverinfo": "text",
         "hovertext": "Support: 0.006",
         "line": {
          "color": "black",
          "width": 0.05843439911797133
         },
         "mode": "lines",
         "type": "scatter",
         "x": [
          1,
          0.7660444381758019,
          null
         ],
         "y": [
          3.311369150076431e-9,
          0.6427875782349198,
          null
         ]
        },
        {
         "hoverinfo": "text",
         "hovertext": "Support: 0.006",
         "line": {
          "color": "black",
          "width": 0.05622932745314223
         },
         "mode": "lines",
         "type": "scatter",
         "x": [
          1,
          0.5971585517163593,
          null
         ],
         "y": [
          3.311369150076431e-9,
          0.8021231912877951,
          null
         ]
        },
        {
         "hoverinfo": "text",
         "hovertext": "Support: 0.005",
         "line": {
          "color": "black",
          "width": 0.054024255788313116
         },
         "mode": "lines",
         "type": "scatter",
         "x": [
          0.9730448723174075,
          1,
          null
         ],
         "y": [
          0.23061587218946566,
          3.311369150076431e-9,
          null
         ]
        },
        {
         "hoverinfo": "text",
         "hovertext": "Support: 0.006",
         "line": {
          "color": "black",
          "width": 0.06174200661521499
         },
         "mode": "lines",
         "type": "scatter",
         "x": [
          0.9730448723174075,
          0.8936326505074494,
          null
         ],
         "y": [
          0.23061587218946566,
          0.44879919565949283,
          null
         ]
        },
        {
         "hoverinfo": "text",
         "hovertext": "Support: 0.012",
         "line": {
          "color": "black",
          "width": 0.12238147739801544
         },
         "mode": "lines",
         "type": "scatter",
         "x": [
          0.8936326505074494,
          1,
          null
         ],
         "y": [
          0.44879919565949283,
          3.311369150076431e-9,
          null
         ]
        },
        {
         "hoverinfo": "text",
         "hovertext": "Support: 0.006",
         "line": {
          "color": "black",
          "width": 0.05843439911797133
         },
         "mode": "lines",
         "type": "scatter",
         "x": [
          0.7660444381758019,
          1,
          null
         ],
         "y": [
          0.6427875782349198,
          3.311369150076431e-9,
          null
         ]
        },
        {
         "hoverinfo": "text",
         "hovertext": "Support: 0.005",
         "line": {
          "color": "black",
          "width": 0.054024255788313116
         },
         "mode": "lines",
         "type": "scatter",
         "x": [
          0.7660444381758019,
          -0.8354877210712834,
          null
         ],
         "y": [
          0.6427875782349198,
          0.5495091106955677,
          null
         ]
        },
        {
         "hoverinfo": "text",
         "hovertext": "Support: 0.006",
         "line": {
          "color": "black",
          "width": 0.05512679162072767
         },
         "mode": "lines",
         "type": "scatter",
         "x": [
          0.7660444381758019,
          -0.9396926140540682,
          null
         ],
         "y": [
          0.6427875782349198,
          0.3420202164906344,
          null
         ]
        },
        {
         "hoverinfo": "text",
         "hovertext": "Support: 0.006",
         "line": {
          "color": "black",
          "width": 0.0639470782800441
         },
         "mode": "lines",
         "type": "scatter",
         "x": [
          0.7660444381758019,
          -0.9932383274122597,
          null
         ],
         "y": [
          0.6427875782349198,
          -0.11609289449607388,
          null
         ]
        },
        {
         "hoverinfo": "text",
         "hovertext": "Support: 0.011",
         "line": {
          "color": "black",
          "width": 0.10804851157662623
         },
         "mode": "lines",
         "type": "scatter",
         "x": [
          0.5971585517163593,
          0.1736482243070401,
          null
         ],
         "y": [
          0.8021231912877951,
          0.9848077318095404,
          null
         ]
        },
        {
         "hoverinfo": "text",
         "hovertext": "Support: 0.006",
         "line": {
          "color": "black",
          "width": 0.06174200661521499
         },
         "mode": "lines",
         "type": "scatter",
         "x": [
          0.3960797496188684,
          0.1736482243070401,
          null
         ],
         "y": [
          0.9182161114469799,
          0.9848077318095404,
          null
         ]
        },
        {
         "hoverinfo": "text",
         "hovertext": "Support: 0.023",
         "line": {
          "color": "black",
          "width": 0.2293274531422271
         },
         "mode": "lines",
         "type": "scatter",
         "x": [
          0.1736482243070401,
          -0.05814482140274741,
          null
         ],
         "y": [
          0.9848077318095404,
          0.998308183834402,
          null
         ]
        },
        {
         "hoverinfo": "text",
         "hovertext": "Support: 0.011",
         "line": {
          "color": "black",
          "width": 0.10804851157662623
         },
         "mode": "lines",
         "type": "scatter",
         "x": [
          0.1736482243070401,
          0.5971585517163593,
          null
         ],
         "y": [
          0.9848077318095404,
          0.8021231912877951,
          null
         ]
        },
        {
         "hoverinfo": "text",
         "hovertext": "Support: 0.023",
         "line": {
          "color": "black",
          "width": 0.2293274531422271
         },
         "mode": "lines",
         "type": "scatter",
         "x": [
          -0.05814482140274741,
          0.1736482243070401,
          null
         ],
         "y": [
          0.998308183834402,
          0.9848077318095404,
          null
         ]
        },
        {
         "hoverinfo": "text",
         "hovertext": "Support: 0.007",
         "line": {
          "color": "black",
          "width": 0.07056229327453142
         },
         "mode": "lines",
         "type": "scatter",
         "x": [
          -0.2868032439465284,
          0.1736482243070401,
          null
         ],
         "y": [
          0.9579895159958268,
          0.9848077318095404,
          null
         ]
        },
        {
         "hoverinfo": "text",
         "hovertext": "Support: 0.005",
         "line": {
          "color": "black",
          "width": 0.05292171995589856
         },
         "mode": "lines",
         "type": "scatter",
         "x": [
          -0.2868032439465284,
          0.5971585517163593,
          null
         ],
         "y": [
          0.9579895159958268,
          0.8021231912877951,
          null
         ]
        },
        {
         "hoverinfo": "text",
         "hovertext": "Support: 0.015",
         "line": {
          "color": "black",
          "width": 0.14994487320837926
         },
         "mode": "lines",
         "type": "scatter",
         "x": [
          -0.5000000577419995,
          -0.6862417438548781,
          null
         ],
         "y": [
          0.8660253904767848,
          0.7273736024142468,
          null
         ]
        },
        {
         "hoverinfo": "text",
         "hovertext": "Support: 0.015",
         "line": {
          "color": "black",
          "width": 0.14994487320837926
         },
         "mode": "lines",
         "type": "scatter",
         "x": [
          -0.6862417438548781,
          -0.5000000577419995,
          null
         ],
         "y": [
          0.7273736024142468,
          0.8660253904767848,
          null
         ]
        },
        {
         "hoverinfo": "text",
         "hovertext": "Support: 0.005",
         "line": {
          "color": "black",
          "width": 0.054024255788313116
         },
         "mode": "lines",
         "type": "scatter",
         "x": [
          -0.8354877210712834,
          0.7660444381758019,
          null
         ],
         "y": [
          0.5495091106955677,
          0.6427875782349198,
          null
         ]
        },
        {
         "hoverinfo": "text",
         "hovertext": "Support: 0.006",
         "line": {
          "color": "black",
          "width": 0.06284454244762955
         },
         "mode": "lines",
         "type": "scatter",
         "x": [
          -0.9396926140540682,
          -0.9932383274122597,
          null
         ],
         "y": [
          0.3420202164906344,
          0.11609296072345687,
          null
         ]
        },
        {
         "hoverinfo": "text",
         "hovertext": "Support: 0.006",
         "line": {
          "color": "black",
          "width": 0.05512679162072767
         },
         "mode": "lines",
         "type": "scatter",
         "x": [
          -0.9396926140540682,
          0.7660444381758019,
          null
         ],
         "y": [
          0.3420202164906344,
          0.6427875782349198,
          null
         ]
        },
        {
         "hoverinfo": "text",
         "hovertext": "Support: 0.010",
         "line": {
          "color": "black",
          "width": 0.10474090407938258
         },
         "mode": "lines",
         "type": "scatter",
         "x": [
          -0.9932383274122597,
          -0.9932383274122597,
          null
         ],
         "y": [
          0.11609296072345687,
          -0.11609289449607388,
          null
         ]
        },
        {
         "hoverinfo": "text",
         "hovertext": "Support: 0.010",
         "line": {
          "color": "black",
          "width": 0.10474090407938258
         },
         "mode": "lines",
         "type": "scatter",
         "x": [
          -0.9932383274122597,
          -0.9932383274122597,
          null
         ],
         "y": [
          -0.11609289449607388,
          0.11609296072345687,
          null
         ]
        },
        {
         "hoverinfo": "text",
         "hovertext": "Support: 0.006",
         "line": {
          "color": "black",
          "width": 0.0639470782800441
         },
         "mode": "lines",
         "type": "scatter",
         "x": [
          -0.9932383274122597,
          0.7660444381758019,
          null
         ],
         "y": [
          -0.11609289449607388,
          0.6427875782349198,
          null
         ]
        },
        {
         "hoverinfo": "text",
         "hovertext": "Support: 0.008",
         "line": {
          "color": "black",
          "width": 0.08048511576626241
         },
         "mode": "lines",
         "type": "scatter",
         "x": [
          -0.9396926140540682,
          -0.8354877806759281,
          null
         ],
         "y": [
          -0.34202015026325133,
          -0.5495089848635399,
          null
         ]
        },
        {
         "hoverinfo": "text",
         "hovertext": "Support: 0.008",
         "line": {
          "color": "black",
          "width": 0.08048511576626241
         },
         "mode": "lines",
         "type": "scatter",
         "x": [
          -0.8354877806759281,
          -0.9396926140540682,
          null
         ],
         "y": [
          -0.5495089848635399,
          -0.34202015026325133,
          null
         ]
        },
        {
         "hoverinfo": "text",
         "hovertext": "Support: 0.010",
         "line": {
          "color": "black",
          "width": 0.09592061742006615
         },
         "mode": "lines",
         "type": "scatter",
         "x": [
          -0.686241565040944,
          -0.5000000577419995,
          null
         ],
         "y": [
          -0.7273736553961532,
          0.8660253904767848,
          null
         ]
        },
        {
         "hoverinfo": "text",
         "hovertext": "Support: 0.008",
         "line": {
          "color": "black",
          "width": 0.08048511576626241
         },
         "mode": "lines",
         "type": "scatter",
         "x": [
          -0.686241565040944,
          -0.0581446463141036,
          null
         ],
         "y": [
          -0.7273736553961532,
          -0.9983081772116636,
          null
         ]
        },
        {
         "hoverinfo": "text",
         "hovertext": "Support: 0.005",
         "line": {
          "color": "black",
          "width": 0.05071664829106946
         },
         "mode": "lines",
         "type": "scatter",
         "x": [
          -0.49999990873038785,
          -0.28680333335349545,
          null
         ],
         "y": [
          -0.8660254434586911,
          -0.9579894497684438,
          null
         ]
        },
        {
         "hoverinfo": "text",
         "hovertext": "Support: 0.005",
         "line": {
          "color": "black",
          "width": 0.05071664829106946
         },
         "mode": "lines",
         "type": "scatter",
         "x": [
          -0.28680333335349545,
          -0.49999990873038785,
          null
         ],
         "y": [
          -0.9579894497684438,
          -0.8660254434586911,
          null
         ]
        },
        {
         "hoverinfo": "text",
         "hovertext": "Support: 0.008",
         "line": {
          "color": "black",
          "width": 0.08048511576626241
         },
         "mode": "lines",
         "type": "scatter",
         "x": [
          -0.0581446463141036,
          -0.686241565040944,
          null
         ],
         "y": [
          -0.9983081772116636,
          -0.7273736553961532,
          null
         ]
        },
        {
         "hoverinfo": "text",
         "hovertext": "Support: 0.006",
         "line": {
          "color": "black",
          "width": 0.05843439911797133
         },
         "mode": "lines",
         "type": "scatter",
         "x": [
          0.1736481647023954,
          0.3960795410026119,
          null
         ],
         "y": [
          -0.984807725186802,
          -0.918216224033531,
          null
         ]
        },
        {
         "hoverinfo": "text",
         "hovertext": "Support: 0.009",
         "line": {
          "color": "black",
          "width": 0.08599779492833518
         },
         "mode": "lines",
         "type": "scatter",
         "x": [
          0.597158611321004,
          0.7660443189665126,
          null
         ],
         "y": [
          -0.8021231846650568,
          -0.6427877504261156,
          null
         ]
        },
        {
         "hoverinfo": "text",
         "hovertext": "Support: 0.009",
         "line": {
          "color": "black",
          "width": 0.08599779492833518
         },
         "mode": "lines",
         "type": "scatter",
         "x": [
          0.7660443189665126,
          0.597158611321004,
          null
         ],
         "y": [
          -0.6427877504261156,
          -0.8021231846650568,
          null
         ]
        },
        {
         "hoverinfo": "text",
         "hovertext": "Support: 0.007",
         "line": {
          "color": "black",
          "width": 0.06504961411245866
         },
         "mode": "lines",
         "type": "scatter",
         "x": [
          0.8936327101120941,
          0.9730448723174075,
          null
         ],
         "y": [
          -0.44879906982746504,
          -0.23061595497369441,
          null
         ]
        },
        {
         "hoverinfo": "text",
         "hovertext": "Item: Add-on item Sub<br>Trigger Chocolate Bar - Add-on item Sub, Support: 0.005, Lift: 2.398, Confidence: 0.140, Conviction: 1.156<br>Trigger Flavored Milk Sub - Add-on item Sub, Support: 0.012, Lift: 2.398, Confidence: 0.140, Conviction: 1.156<br>Trigger Instant Noodles Pack - Add-on item Sub, Support: 0.006, Lift: 2.398, Confidence: 0.140, Conviction: 1.156<br>Trigger Add-on item Sub - Chocolate Bar, Support: 0.005, Lift: 2.398, Confidence: 0.140, Conviction: 1.156<br>Trigger Add-on item Sub - Flavored Milk Sub, Support: 0.012, Lift: 2.398, Confidence: 0.140, Conviction: 1.156<br>Trigger Add-on item Sub - Instant Noodles Pack, Support: 0.006, Lift: 2.398, Confidence: 0.140, Conviction: 1.156<br>Trigger Add-on item Sub - Sugar CSD, Support: 0.006, Lift: 2.398, Confidence: 0.140, Conviction: 1.156<br>",
         "marker": {
          "color": "lightblue",
          "size": 40
         },
         "mode": "markers+text",
         "text": "Add-on item Sub",
         "type": "scatter",
         "x": [
          1
         ],
         "y": [
          3.311369150076431e-9
         ]
        },
        {
         "hoverinfo": "text",
         "hovertext": "Item: Chocolate Bar<br>Trigger Add-on item Sub - Chocolate Bar, Support: 0.005, Lift: 2.148, Confidence: 0.144, Conviction: 1.161<br>Trigger Chocolate Bar - Add-on item Sub, Support: 0.005, Lift: 2.148, Confidence: 0.144, Conviction: 1.161<br>Trigger Chocolate Bar - Flavored Milk Sub, Support: 0.006, Lift: 2.148, Confidence: 0.144, Conviction: 1.161<br>",
         "marker": {
          "color": "lightblue",
          "size": 40
         },
         "mode": "markers+text",
         "text": "Chocolate Bar",
         "type": "scatter",
         "x": [
          0.9730448723174075
         ],
         "y": [
          0.23061587218946566
         ]
        },
        {
         "hoverinfo": "text",
         "hovertext": "Item: Flavored Milk Sub<br>Trigger Add-on item Sub - Flavored Milk Sub, Support: 0.012, Lift: 2.148, Confidence: 0.144, Conviction: 1.161<br>Trigger Chocolate Bar - Flavored Milk Sub, Support: 0.006, Lift: 2.148, Confidence: 0.144, Conviction: 1.161<br>Trigger Flavored Milk Sub - Add-on item Sub, Support: 0.012, Lift: 2.148, Confidence: 0.144, Conviction: 1.161<br>",
         "marker": {
          "color": "lightblue",
          "size": 40
         },
         "mode": "markers+text",
         "text": "Flavored Milk Sub",
         "type": "scatter",
         "x": [
          0.8936326505074494
         ],
         "y": [
          0.44879919565949283
         ]
        },
        {
         "hoverinfo": "text",
         "hovertext": "Item: Instant Noodles Pack<br>Trigger Add-on item Sub - Instant Noodles Pack, Support: 0.006, Lift: 6.111, Confidence: 0.142, Conviction: 1.158<br>Trigger Hot pot Thai - Instant Noodles Pack, Support: 0.005, Lift: 6.111, Confidence: 0.142, Conviction: 1.158<br>Trigger Instant Noodles Bowl - Instant Noodles Pack, Support: 0.006, Lift: 6.111, Confidence: 0.142, Conviction: 1.158<br>Trigger Instant Sausage - Instant Noodles Pack, Support: 0.006, Lift: 6.111, Confidence: 0.142, Conviction: 1.158<br>Trigger Instant Noodles Pack - Add-on item Sub, Support: 0.006, Lift: 6.111, Confidence: 0.142, Conviction: 1.158<br>Trigger Instant Noodles Pack - Hot pot Thai, Support: 0.005, Lift: 6.111, Confidence: 0.142, Conviction: 1.158<br>Trigger Instant Noodles Pack - Instant Noodles Bowl, Support: 0.006, Lift: 6.111, Confidence: 0.142, Conviction: 1.158<br>Trigger Instant Noodles Pack - Instant Sausage, Support: 0.006, Lift: 6.111, Confidence: 0.142, Conviction: 1.158<br>",
         "marker": {
          "color": "lightblue",
          "size": 40
         },
         "mode": "markers+text",
         "text": "Instant Noodles Pack",
         "type": "scatter",
         "x": [
          0.7660444381758019
         ],
         "y": [
          0.6427875782349198
         ]
        },
        {
         "hoverinfo": "text",
         "hovertext": "Item: Sugar CSD<br>Trigger Add-on item Sub - Sugar CSD, Support: 0.006, Lift: 2.340, Confidence: 0.137, Conviction: 1.152<br>Trigger Cup Of Ice - Sugar CSD, Support: 0.011, Lift: 2.340, Confidence: 0.137, Conviction: 1.152<br>Trigger No/Less Sugar CSD - Sugar CSD, Support: 0.005, Lift: 2.340, Confidence: 0.137, Conviction: 1.152<br>Trigger Sugar CSD - Cup Of Ice, Support: 0.011, Lift: 2.340, Confidence: 0.137, Conviction: 1.152<br>",
         "marker": {
          "color": "lightblue",
          "size": 40
         },
         "mode": "markers+text",
         "text": "Sugar CSD",
         "type": "scatter",
         "x": [
          0.5971585517163593
         ],
         "y": [
          0.8021231912877951
         ]
        },
        {
         "hoverinfo": "text",
         "hovertext": "Item: Coffee Drinks Sub<br>Trigger Coffee Drinks Sub - Cup Of Ice, Support: 0.006, Lift: 2.353, Confidence: 0.186, Conviction: 1.221<br>",
         "marker": {
          "color": "lightblue",
          "size": 40
         },
         "mode": "markers+text",
         "text": "Coffee Drinks Sub",
         "type": "scatter",
         "x": [
          0.3960797496188684
         ],
         "y": [
          0.9182161114469799
         ]
        },
        {
         "hoverinfo": "text",
         "hovertext": "Item: Cup Of Ice<br>Trigger Coffee Drinks Sub - Cup Of Ice, Support: 0.006, Lift: 2.339, Confidence: 0.185, Conviction: 1.214<br>Trigger Energy Drinks Sub - Cup Of Ice, Support: 0.023, Lift: 2.339, Confidence: 0.185, Conviction: 1.214<br>Trigger No/Less Sugar CSD - Cup Of Ice, Support: 0.007, Lift: 2.339, Confidence: 0.185, Conviction: 1.214<br>Trigger Sugar CSD - Cup Of Ice, Support: 0.011, Lift: 2.339, Confidence: 0.185, Conviction: 1.214<br>Trigger Cup Of Ice - Energy Drinks Sub, Support: 0.023, Lift: 2.339, Confidence: 0.185, Conviction: 1.214<br>Trigger Cup Of Ice - Sugar CSD, Support: 0.011, Lift: 2.339, Confidence: 0.185, Conviction: 1.214<br>",
         "marker": {
          "color": "lightblue",
          "size": 40
         },
         "mode": "markers+text",
         "text": "Cup Of Ice",
         "type": "scatter",
         "x": [
          0.1736482243070401
         ],
         "y": [
          0.9848077318095404
         ]
        },
        {
         "hoverinfo": "text",
         "hovertext": "Item: Energy Drinks Sub<br>Trigger Cup Of Ice - Energy Drinks Sub, Support: 0.023, Lift: 3.435, Confidence: 0.272, Conviction: 1.341<br>Trigger Energy Drinks Sub - Cup Of Ice, Support: 0.023, Lift: 3.435, Confidence: 0.272, Conviction: 1.341<br>",
         "marker": {
          "color": "lightblue",
          "size": 40
         },
         "mode": "markers+text",
         "text": "Energy Drinks Sub",
         "type": "scatter",
         "x": [
          -0.05814482140274741
         ],
         "y": [
          0.998308183834402
         ]
        },
        {
         "hoverinfo": "text",
         "hovertext": "Item: No/Less Sugar CSD<br>Trigger No/Less Sugar CSD - Cup Of Ice, Support: 0.007, Lift: 2.340, Confidence: 0.137, Conviction: 1.152<br>Trigger No/Less Sugar CSD - Sugar CSD, Support: 0.005, Lift: 2.340, Confidence: 0.137, Conviction: 1.152<br>",
         "marker": {
          "color": "lightblue",
          "size": 40
         },
         "mode": "markers+text",
         "text": "No/Less Sugar CSD",
         "type": "scatter",
         "x": [
          -0.2868032439465284
         ],
         "y": [
          0.9579895159958268
         ]
        },
        {
         "hoverinfo": "text",
         "hovertext": "Item: Other Cuisine Sub<br>Trigger Fried Food Sub - Other Cuisine Sub, Support: 0.015, Lift: 2.188, Confidence: 0.227, Conviction: 1.281<br>Trigger Others Steamed  bun - Other Cuisine Sub, Support: 0.010, Lift: 2.188, Confidence: 0.227, Conviction: 1.281<br>Trigger Other Cuisine Sub - Fried Food Sub, Support: 0.015, Lift: 2.188, Confidence: 0.227, Conviction: 1.281<br>",
         "marker": {
          "color": "lightblue",
          "size": 40
         },
         "mode": "markers+text",
         "text": "Other Cuisine Sub",
         "type": "scatter",
         "x": [
          -0.5000000577419995
         ],
         "y": [
          0.8660253904767848
         ]
        },
        {
         "hoverinfo": "text",
         "hovertext": "Item: Fried Food Sub<br>Trigger Other Cuisine Sub - Fried Food Sub, Support: 0.015, Lift: 2.725, Confidence: 0.282, Conviction: 1.372<br>Trigger Fried Food Sub - Other Cuisine Sub, Support: 0.015, Lift: 2.725, Confidence: 0.282, Conviction: 1.372<br>",
         "marker": {
          "color": "lightblue",
          "size": 40
         },
         "mode": "markers+text",
         "text": "Fried Food Sub",
         "type": "scatter",
         "x": [
          -0.6862417438548781
         ],
         "y": [
          0.7273736024142468
         ]
        },
        {
         "hoverinfo": "text",
         "hovertext": "Item: Hot pot Thai<br>Trigger Instant Noodles Pack - Hot pot Thai, Support: 0.005, Lift: 3.619, Confidence: 0.120, Conviction: 1.130<br>Trigger Hot pot Thai - Instant Noodles Pack, Support: 0.005, Lift: 3.619, Confidence: 0.120, Conviction: 1.130<br>",
         "marker": {
          "color": "lightblue",
          "size": 40
         },
         "mode": "markers+text",
         "text": "Hot pot Thai",
         "type": "scatter",
         "x": [
          -0.8354877210712834
         ],
         "y": [
          0.5495091106955677
         ]
        },
        {
         "hoverinfo": "text",
         "hovertext": "Item: Instant Noodles Bowl<br>Trigger Instant Noodles Pack - Instant Noodles Bowl, Support: 0.006, Lift: 2.956, Confidence: 0.123, Conviction: 1.133<br>Trigger Instant Noodles Bowl - Instant Noodles Cup, Support: 0.006, Lift: 2.956, Confidence: 0.123, Conviction: 1.133<br>Trigger Instant Noodles Bowl - Instant Noodles Pack, Support: 0.006, Lift: 2.956, Confidence: 0.123, Conviction: 1.133<br>",
         "marker": {
          "color": "lightblue",
          "size": 40
         },
         "mode": "markers+text",
         "text": "Instant Noodles Bowl",
         "type": "scatter",
         "x": [
          -0.9396926140540682
         ],
         "y": [
          0.3420202164906344
         ]
        },
        {
         "hoverinfo": "text",
         "hovertext": "Item: Instant Noodles Cup<br>Trigger Instant Noodles Bowl - Instant Noodles Cup, Support: 0.006, Lift: 7.005, Confidence: 0.450, Conviction: 1.800<br>Trigger Instant Sausage - Instant Noodles Cup, Support: 0.010, Lift: 7.005, Confidence: 0.450, Conviction: 1.800<br>Trigger Instant Noodles Cup - Instant Sausage, Support: 0.010, Lift: 7.005, Confidence: 0.450, Conviction: 1.800<br>",
         "marker": {
          "color": "lightblue",
          "size": 40
         },
         "mode": "markers+text",
         "text": "Instant Noodles Cup",
         "type": "scatter",
         "x": [
          -0.9932383274122597
         ],
         "y": [
          0.11609296072345687
         ]
        },
        {
         "hoverinfo": "text",
         "hovertext": "Item: Instant Sausage<br>Trigger Instant Noodles Cup - Instant Sausage, Support: 0.010, Lift: 6.111, Confidence: 0.142, Conviction: 1.158<br>Trigger Instant Noodles Pack - Instant Sausage, Support: 0.006, Lift: 6.111, Confidence: 0.142, Conviction: 1.158<br>Trigger Instant Sausage - Instant Noodles Cup, Support: 0.010, Lift: 6.111, Confidence: 0.142, Conviction: 1.158<br>Trigger Instant Sausage - Instant Noodles Pack, Support: 0.006, Lift: 6.111, Confidence: 0.142, Conviction: 1.158<br>",
         "marker": {
          "color": "lightblue",
          "size": 40
         },
         "mode": "markers+text",
         "text": "Instant Sausage",
         "type": "scatter",
         "x": [
          -0.9932383274122597
         ],
         "y": [
          -0.11609289449607388
         ]
        },
        {
         "hoverinfo": "text",
         "hovertext": "Item: Onigiri<br>Trigger Sandwich - Onigiri, Support: 0.008, Lift: 2.190, Confidence: 0.171, Conviction: 1.197<br>Trigger Onigiri - Sandwich, Support: 0.008, Lift: 2.190, Confidence: 0.171, Conviction: 1.197<br>",
         "marker": {
          "color": "lightblue",
          "size": 40
         },
         "mode": "markers+text",
         "text": "Onigiri",
         "type": "scatter",
         "x": [
          -0.9396926140540682
         ],
         "y": [
          -0.34202015026325133
         ]
        },
        {
         "hoverinfo": "text",
         "hovertext": "Item: Sandwich<br>Trigger Onigiri - Sandwich, Support: 0.008, Lift: 2.190, Confidence: 0.171, Conviction: 1.197<br>Trigger Sandwich - Onigiri, Support: 0.008, Lift: 2.190, Confidence: 0.171, Conviction: 1.197<br>",
         "marker": {
          "color": "lightblue",
          "size": 40
         },
         "mode": "markers+text",
         "text": "Sandwich",
         "type": "scatter",
         "x": [
          -0.8354877806759281
         ],
         "y": [
          -0.5495089848635399
         ]
        },
        {
         "hoverinfo": "text",
         "hovertext": "Item: Others Steamed  bun<br>Trigger Savoury  Buns - Others Steamed  bun, Support: 0.008, Lift: 2.412, Confidence: 0.102, Conviction: 1.105<br>Trigger Others Steamed  bun - Other Cuisine Sub, Support: 0.010, Lift: 2.412, Confidence: 0.102, Conviction: 1.105<br>Trigger Others Steamed  bun - Savoury  Buns, Support: 0.008, Lift: 2.412, Confidence: 0.102, Conviction: 1.105<br>",
         "marker": {
          "color": "lightblue",
          "size": 40
         },
         "mode": "markers+text",
         "text": "Others Steamed  bun",
         "type": "scatter",
         "x": [
          -0.686241565040944
         ],
         "y": [
          -0.7273736553961532
         ]
        },
        {
         "hoverinfo": "text",
         "hovertext": "Item: Other Ice Cream<br>Trigger Stick - Other Ice Cream, Support: 0.005, Lift: 10.722, Confidence: 0.180, Conviction: 1.213<br>Trigger Other Ice Cream - Stick, Support: 0.005, Lift: 10.722, Confidence: 0.180, Conviction: 1.213<br>",
         "marker": {
          "color": "lightblue",
          "size": 40
         },
         "mode": "markers+text",
         "text": "Other Ice Cream",
         "type": "scatter",
         "x": [
          -0.49999990873038785
         ],
         "y": [
          -0.8660254434586911
         ]
        },
        {
         "hoverinfo": "text",
         "hovertext": "Item: Stick<br>Trigger Other Ice Cream - Stick, Support: 0.005, Lift: 10.722, Confidence: 0.180, Conviction: 1.213<br>Trigger Stick - Other Ice Cream, Support: 0.005, Lift: 10.722, Confidence: 0.180, Conviction: 1.213<br>",
         "marker": {
          "color": "lightblue",
          "size": 40
         },
         "mode": "markers+text",
         "text": "Stick",
         "type": "scatter",
         "x": [
          -0.28680333335349545
         ],
         "y": [
          -0.9579894497684438
         ]
        },
        {
         "hoverinfo": "text",
         "hovertext": "Item: Savoury  Buns<br>Trigger Others Steamed  bun - Savoury  Buns, Support: 0.008, Lift: 2.412, Confidence: 0.102, Conviction: 1.105<br>Trigger Savoury  Buns - Others Steamed  bun, Support: 0.008, Lift: 2.412, Confidence: 0.102, Conviction: 1.105<br>",
         "marker": {
          "color": "lightblue",
          "size": 40
         },
         "mode": "markers+text",
         "text": "Savoury  Buns",
         "type": "scatter",
         "x": [
          -0.0581446463141036
         ],
         "y": [
          -0.9983081772116636
         ]
        },
        {
         "hoverinfo": "text",
         "hovertext": "Item: UHT Milk<br>Trigger UHT Milk - Packaged bakery, Support: 0.006, Lift: 2.086, Confidence: 0.136, Conviction: 1.151<br>",
         "marker": {
          "color": "lightblue",
          "size": 40
         },
         "mode": "markers+text",
         "text": "UHT Milk",
         "type": "scatter",
         "x": [
          0.1736481647023954
         ],
         "y": [
          -0.984807725186802
         ]
        },
        {
         "hoverinfo": "text",
         "hovertext": "Item: Packaged bakery<br>Trigger UHT Milk - Packaged bakery, Support: 0.006, Lift: 2.086, Confidence: 0.136, Conviction: 1.151<br>",
         "marker": {
          "color": "lightblue",
          "size": 40
         },
         "mode": "markers+text",
         "text": "Packaged bakery",
         "type": "scatter",
         "x": [
          0.3960795410026119
         ],
         "y": [
          -0.918216224033531
         ]
        },
        {
         "hoverinfo": "text",
         "hovertext": "Item: Potato Snacks<br>Trigger Salty Snacks - Potato Snacks, Support: 0.009, Lift: 3.828, Confidence: 0.191, Conviction: 1.226<br>Trigger Potato Snacks - Salty Snacks, Support: 0.009, Lift: 3.828, Confidence: 0.191, Conviction: 1.226<br>",
         "marker": {
          "color": "lightblue",
          "size": 40
         },
         "mode": "markers+text",
         "text": "Potato Snacks",
         "type": "scatter",
         "x": [
          0.597158611321004
         ],
         "y": [
          -0.8021231846650568
         ]
        },
        {
         "hoverinfo": "text",
         "hovertext": "Item: Salty Snacks<br>Trigger Potato Snacks - Salty Snacks, Support: 0.009, Lift: 3.828, Confidence: 0.191, Conviction: 1.226<br>Trigger Salty Snacks - Potato Snacks, Support: 0.009, Lift: 3.828, Confidence: 0.191, Conviction: 1.226<br>",
         "marker": {
          "color": "lightblue",
          "size": 40
         },
         "mode": "markers+text",
         "text": "Salty Snacks",
         "type": "scatter",
         "x": [
          0.7660443189665126
         ],
         "y": [
          -0.6427877504261156
         ]
        },
        {
         "hoverinfo": "text",
         "hovertext": "Item: WIC/RIC Juice<br>Trigger WIC/RIC Juice - Sugar Tea, Support: 0.007, Lift: 2.132, Confidence: 0.236, Conviction: 1.300<br>",
         "marker": {
          "color": "lightblue",
          "size": 40
         },
         "mode": "markers+text",
         "text": "WIC/RIC Juice",
         "type": "scatter",
         "x": [
          0.8936327101120941
         ],
         "y": [
          -0.44879906982746504
         ]
        },
        {
         "hoverinfo": "text",
         "hovertext": "Item: Sugar Tea<br>Trigger WIC/RIC Juice - Sugar Tea, Support: 0.007, Lift: 2.132, Confidence: 0.236, Conviction: 1.300<br>",
         "marker": {
          "color": "lightblue",
          "size": 40
         },
         "mode": "markers+text",
         "text": "Sugar Tea",
         "type": "scatter",
         "x": [
          0.9730448723174075
         ],
         "y": [
          -0.23061595497369441
         ]
        }
       ],
       "layout": {
        "hovermode": "closest",
        "margin": {
         "b": 20,
         "l": 5,
         "r": 5,
         "t": 40
        },
        "plot_bgcolor": "white",
        "showlegend": false,
        "template": {
         "data": {
          "bar": [
           {
            "error_x": {
             "color": "#2a3f5f"
            },
            "error_y": {
             "color": "#2a3f5f"
            },
            "marker": {
             "line": {
              "color": "#E5ECF6",
              "width": 0.5
             },
             "pattern": {
              "fillmode": "overlay",
              "size": 10,
              "solidity": 0.2
             }
            },
            "type": "bar"
           }
          ],
          "barpolar": [
           {
            "marker": {
             "line": {
              "color": "#E5ECF6",
              "width": 0.5
             },
             "pattern": {
              "fillmode": "overlay",
              "size": 10,
              "solidity": 0.2
             }
            },
            "type": "barpolar"
           }
          ],
          "carpet": [
           {
            "aaxis": {
             "endlinecolor": "#2a3f5f",
             "gridcolor": "white",
             "linecolor": "white",
             "minorgridcolor": "white",
             "startlinecolor": "#2a3f5f"
            },
            "baxis": {
             "endlinecolor": "#2a3f5f",
             "gridcolor": "white",
             "linecolor": "white",
             "minorgridcolor": "white",
             "startlinecolor": "#2a3f5f"
            },
            "type": "carpet"
           }
          ],
          "choropleth": [
           {
            "colorbar": {
             "outlinewidth": 0,
             "ticks": ""
            },
            "type": "choropleth"
           }
          ],
          "contour": [
           {
            "colorbar": {
             "outlinewidth": 0,
             "ticks": ""
            },
            "colorscale": [
             [
              0,
              "#0d0887"
             ],
             [
              0.1111111111111111,
              "#46039f"
             ],
             [
              0.2222222222222222,
              "#7201a8"
             ],
             [
              0.3333333333333333,
              "#9c179e"
             ],
             [
              0.4444444444444444,
              "#bd3786"
             ],
             [
              0.5555555555555556,
              "#d8576b"
             ],
             [
              0.6666666666666666,
              "#ed7953"
             ],
             [
              0.7777777777777778,
              "#fb9f3a"
             ],
             [
              0.8888888888888888,
              "#fdca26"
             ],
             [
              1,
              "#f0f921"
             ]
            ],
            "type": "contour"
           }
          ],
          "contourcarpet": [
           {
            "colorbar": {
             "outlinewidth": 0,
             "ticks": ""
            },
            "type": "contourcarpet"
           }
          ],
          "heatmap": [
           {
            "colorbar": {
             "outlinewidth": 0,
             "ticks": ""
            },
            "colorscale": [
             [
              0,
              "#0d0887"
             ],
             [
              0.1111111111111111,
              "#46039f"
             ],
             [
              0.2222222222222222,
              "#7201a8"
             ],
             [
              0.3333333333333333,
              "#9c179e"
             ],
             [
              0.4444444444444444,
              "#bd3786"
             ],
             [
              0.5555555555555556,
              "#d8576b"
             ],
             [
              0.6666666666666666,
              "#ed7953"
             ],
             [
              0.7777777777777778,
              "#fb9f3a"
             ],
             [
              0.8888888888888888,
              "#fdca26"
             ],
             [
              1,
              "#f0f921"
             ]
            ],
            "type": "heatmap"
           }
          ],
          "heatmapgl": [
           {
            "colorbar": {
             "outlinewidth": 0,
             "ticks": ""
            },
            "colorscale": [
             [
              0,
              "#0d0887"
             ],
             [
              0.1111111111111111,
              "#46039f"
             ],
             [
              0.2222222222222222,
              "#7201a8"
             ],
             [
              0.3333333333333333,
              "#9c179e"
             ],
             [
              0.4444444444444444,
              "#bd3786"
             ],
             [
              0.5555555555555556,
              "#d8576b"
             ],
             [
              0.6666666666666666,
              "#ed7953"
             ],
             [
              0.7777777777777778,
              "#fb9f3a"
             ],
             [
              0.8888888888888888,
              "#fdca26"
             ],
             [
              1,
              "#f0f921"
             ]
            ],
            "type": "heatmapgl"
           }
          ],
          "histogram": [
           {
            "marker": {
             "pattern": {
              "fillmode": "overlay",
              "size": 10,
              "solidity": 0.2
             }
            },
            "type": "histogram"
           }
          ],
          "histogram2d": [
           {
            "colorbar": {
             "outlinewidth": 0,
             "ticks": ""
            },
            "colorscale": [
             [
              0,
              "#0d0887"
             ],
             [
              0.1111111111111111,
              "#46039f"
             ],
             [
              0.2222222222222222,
              "#7201a8"
             ],
             [
              0.3333333333333333,
              "#9c179e"
             ],
             [
              0.4444444444444444,
              "#bd3786"
             ],
             [
              0.5555555555555556,
              "#d8576b"
             ],
             [
              0.6666666666666666,
              "#ed7953"
             ],
             [
              0.7777777777777778,
              "#fb9f3a"
             ],
             [
              0.8888888888888888,
              "#fdca26"
             ],
             [
              1,
              "#f0f921"
             ]
            ],
            "type": "histogram2d"
           }
          ],
          "histogram2dcontour": [
           {
            "colorbar": {
             "outlinewidth": 0,
             "ticks": ""
            },
            "colorscale": [
             [
              0,
              "#0d0887"
             ],
             [
              0.1111111111111111,
              "#46039f"
             ],
             [
              0.2222222222222222,
              "#7201a8"
             ],
             [
              0.3333333333333333,
              "#9c179e"
             ],
             [
              0.4444444444444444,
              "#bd3786"
             ],
             [
              0.5555555555555556,
              "#d8576b"
             ],
             [
              0.6666666666666666,
              "#ed7953"
             ],
             [
              0.7777777777777778,
              "#fb9f3a"
             ],
             [
              0.8888888888888888,
              "#fdca26"
             ],
             [
              1,
              "#f0f921"
             ]
            ],
            "type": "histogram2dcontour"
           }
          ],
          "mesh3d": [
           {
            "colorbar": {
             "outlinewidth": 0,
             "ticks": ""
            },
            "type": "mesh3d"
           }
          ],
          "parcoords": [
           {
            "line": {
             "colorbar": {
              "outlinewidth": 0,
              "ticks": ""
             }
            },
            "type": "parcoords"
           }
          ],
          "pie": [
           {
            "automargin": true,
            "type": "pie"
           }
          ],
          "scatter": [
           {
            "fillpattern": {
             "fillmode": "overlay",
             "size": 10,
             "solidity": 0.2
            },
            "type": "scatter"
           }
          ],
          "scatter3d": [
           {
            "line": {
             "colorbar": {
              "outlinewidth": 0,
              "ticks": ""
             }
            },
            "marker": {
             "colorbar": {
              "outlinewidth": 0,
              "ticks": ""
             }
            },
            "type": "scatter3d"
           }
          ],
          "scattercarpet": [
           {
            "marker": {
             "colorbar": {
              "outlinewidth": 0,
              "ticks": ""
             }
            },
            "type": "scattercarpet"
           }
          ],
          "scattergeo": [
           {
            "marker": {
             "colorbar": {
              "outlinewidth": 0,
              "ticks": ""
             }
            },
            "type": "scattergeo"
           }
          ],
          "scattergl": [
           {
            "marker": {
             "colorbar": {
              "outlinewidth": 0,
              "ticks": ""
             }
            },
            "type": "scattergl"
           }
          ],
          "scattermapbox": [
           {
            "marker": {
             "colorbar": {
              "outlinewidth": 0,
              "ticks": ""
             }
            },
            "type": "scattermapbox"
           }
          ],
          "scatterpolar": [
           {
            "marker": {
             "colorbar": {
              "outlinewidth": 0,
              "ticks": ""
             }
            },
            "type": "scatterpolar"
           }
          ],
          "scatterpolargl": [
           {
            "marker": {
             "colorbar": {
              "outlinewidth": 0,
              "ticks": ""
             }
            },
            "type": "scatterpolargl"
           }
          ],
          "scatterternary": [
           {
            "marker": {
             "colorbar": {
              "outlinewidth": 0,
              "ticks": ""
             }
            },
            "type": "scatterternary"
           }
          ],
          "surface": [
           {
            "colorbar": {
             "outlinewidth": 0,
             "ticks": ""
            },
            "colorscale": [
             [
              0,
              "#0d0887"
             ],
             [
              0.1111111111111111,
              "#46039f"
             ],
             [
              0.2222222222222222,
              "#7201a8"
             ],
             [
              0.3333333333333333,
              "#9c179e"
             ],
             [
              0.4444444444444444,
              "#bd3786"
             ],
             [
              0.5555555555555556,
              "#d8576b"
             ],
             [
              0.6666666666666666,
              "#ed7953"
             ],
             [
              0.7777777777777778,
              "#fb9f3a"
             ],
             [
              0.8888888888888888,
              "#fdca26"
             ],
             [
              1,
              "#f0f921"
             ]
            ],
            "type": "surface"
           }
          ],
          "table": [
           {
            "cells": {
             "fill": {
              "color": "#EBF0F8"
             },
             "line": {
              "color": "white"
             }
            },
            "header": {
             "fill": {
              "color": "#C8D4E3"
             },
             "line": {
              "color": "white"
             }
            },
            "type": "table"
           }
          ]
         },
         "layout": {
          "annotationdefaults": {
           "arrowcolor": "#2a3f5f",
           "arrowhead": 0,
           "arrowwidth": 1
          },
          "autotypenumbers": "strict",
          "coloraxis": {
           "colorbar": {
            "outlinewidth": 0,
            "ticks": ""
           }
          },
          "colorscale": {
           "diverging": [
            [
             0,
             "#8e0152"
            ],
            [
             0.1,
             "#c51b7d"
            ],
            [
             0.2,
             "#de77ae"
            ],
            [
             0.3,
             "#f1b6da"
            ],
            [
             0.4,
             "#fde0ef"
            ],
            [
             0.5,
             "#f7f7f7"
            ],
            [
             0.6,
             "#e6f5d0"
            ],
            [
             0.7,
             "#b8e186"
            ],
            [
             0.8,
             "#7fbc41"
            ],
            [
             0.9,
             "#4d9221"
            ],
            [
             1,
             "#276419"
            ]
           ],
           "sequential": [
            [
             0,
             "#0d0887"
            ],
            [
             0.1111111111111111,
             "#46039f"
            ],
            [
             0.2222222222222222,
             "#7201a8"
            ],
            [
             0.3333333333333333,
             "#9c179e"
            ],
            [
             0.4444444444444444,
             "#bd3786"
            ],
            [
             0.5555555555555556,
             "#d8576b"
            ],
            [
             0.6666666666666666,
             "#ed7953"
            ],
            [
             0.7777777777777778,
             "#fb9f3a"
            ],
            [
             0.8888888888888888,
             "#fdca26"
            ],
            [
             1,
             "#f0f921"
            ]
           ],
           "sequentialminus": [
            [
             0,
             "#0d0887"
            ],
            [
             0.1111111111111111,
             "#46039f"
            ],
            [
             0.2222222222222222,
             "#7201a8"
            ],
            [
             0.3333333333333333,
             "#9c179e"
            ],
            [
             0.4444444444444444,
             "#bd3786"
            ],
            [
             0.5555555555555556,
             "#d8576b"
            ],
            [
             0.6666666666666666,
             "#ed7953"
            ],
            [
             0.7777777777777778,
             "#fb9f3a"
            ],
            [
             0.8888888888888888,
             "#fdca26"
            ],
            [
             1,
             "#f0f921"
            ]
           ]
          },
          "colorway": [
           "#636efa",
           "#EF553B",
           "#00cc96",
           "#ab63fa",
           "#FFA15A",
           "#19d3f3",
           "#FF6692",
           "#B6E880",
           "#FF97FF",
           "#FECB52"
          ],
          "font": {
           "color": "#2a3f5f"
          },
          "geo": {
           "bgcolor": "white",
           "lakecolor": "white",
           "landcolor": "#E5ECF6",
           "showlakes": true,
           "showland": true,
           "subunitcolor": "white"
          },
          "hoverlabel": {
           "align": "left"
          },
          "hovermode": "closest",
          "mapbox": {
           "style": "light"
          },
          "paper_bgcolor": "white",
          "plot_bgcolor": "#E5ECF6",
          "polar": {
           "angularaxis": {
            "gridcolor": "white",
            "linecolor": "white",
            "ticks": ""
           },
           "bgcolor": "#E5ECF6",
           "radialaxis": {
            "gridcolor": "white",
            "linecolor": "white",
            "ticks": ""
           }
          },
          "scene": {
           "xaxis": {
            "backgroundcolor": "#E5ECF6",
            "gridcolor": "white",
            "gridwidth": 2,
            "linecolor": "white",
            "showbackground": true,
            "ticks": "",
            "zerolinecolor": "white"
           },
           "yaxis": {
            "backgroundcolor": "#E5ECF6",
            "gridcolor": "white",
            "gridwidth": 2,
            "linecolor": "white",
            "showbackground": true,
            "ticks": "",
            "zerolinecolor": "white"
           },
           "zaxis": {
            "backgroundcolor": "#E5ECF6",
            "gridcolor": "white",
            "gridwidth": 2,
            "linecolor": "white",
            "showbackground": true,
            "ticks": "",
            "zerolinecolor": "white"
           }
          },
          "shapedefaults": {
           "line": {
            "color": "#2a3f5f"
           }
          },
          "ternary": {
           "aaxis": {
            "gridcolor": "white",
            "linecolor": "white",
            "ticks": ""
           },
           "baxis": {
            "gridcolor": "white",
            "linecolor": "white",
            "ticks": ""
           },
           "bgcolor": "#E5ECF6",
           "caxis": {
            "gridcolor": "white",
            "linecolor": "white",
            "ticks": ""
           }
          },
          "title": {
           "x": 0.05
          },
          "xaxis": {
           "automargin": true,
           "gridcolor": "white",
           "linecolor": "white",
           "ticks": "",
           "title": {
            "standoff": 15
           },
           "zerolinecolor": "white",
           "zerolinewidth": 2
          },
          "yaxis": {
           "automargin": true,
           "gridcolor": "white",
           "linecolor": "white",
           "ticks": "",
           "title": {
            "standoff": 15
           },
           "zerolinecolor": "white",
           "zerolinewidth": 2
          }
         }
        },
        "title": {
         "text": "Items Set Rules Graph",
         "x": 0.5
        },
        "xaxis": {
         "showgrid": false,
         "showticklabels": false,
         "zeroline": false
        },
        "yaxis": {
         "showgrid": false,
         "showticklabels": false,
         "zeroline": false
        }
       }
      }
     },
     "metadata": {},
     "output_type": "display_data"
    }
   ],
   "source": [
    "import plotly.graph_objects as go\n",
    "import networkx as nx\n",
    "\n",
    "# Create an empty directed graph\n",
    "G = nx.DiGraph()\n",
    "\n",
    "# Iterate through each row of the DataFrame and add edges to the graph\n",
    "for index, row in rules.iterrows():\n",
    "    antecedent = ', '.join(row['antecedents'])\n",
    "    consequent = ', '.join(row['consequents'])\n",
    "    support = row['support']\n",
    "    confidence = row['confidence']\n",
    "    lift = row['lift']\n",
    "    conviction = row['conviction']\n",
    "    # Check if lift is greater than 2 and confidence is greater than 0.1\n",
    "    if lift >= 2 and confidence > 0.1:\n",
    "        # Add edges to the graph with the support or confidence as edge weight\n",
    "        G.add_edge(antecedent, consequent, weight=support)\n",
    "\n",
    "        # Add support, lift, and confidence as attributes to the nodes\n",
    "        G.add_node(antecedent, support=support, lift=lift, confidence=confidence, conviction=conviction)\n",
    "        G.add_node(consequent, support=support, lift=lift, confidence=confidence, conviction=conviction)\n",
    "\n",
    "# Get the node positions using circular layout\n",
    "pos = nx.circular_layout(G)\n",
    "\n",
    "# Create a list of edge traces\n",
    "edge_traces = []\n",
    "for edge in G.edges():\n",
    "    x0, y0 = pos[edge[0]]\n",
    "    x1, y1 = pos[edge[1]]\n",
    "    weight = G.get_edge_data(edge[0], edge[1])['weight']\n",
    "    edge_trace = go.Scatter(x=[x0, x1, None], y=[y0, y1, None],\n",
    "                            mode='lines', line=dict(width=weight*10, color='black'),\n",
    "                            hoverinfo='text',\n",
    "                            hovertext=f\"Support: {weight:.3f}\",\n",
    "                            )\n",
    "    edge_traces.append(edge_trace)\n",
    "\n",
    "# Create a list of node traces\n",
    "node_traces = []\n",
    "for node in G.nodes():\n",
    "    x, y = pos[node]\n",
    "    in_edges = G.in_edges(node)\n",
    "    out_edges = G.out_edges(node)\n",
    "    text = f\"Item: {node}<br>\"\n",
    "    for in_edge in in_edges:\n",
    "        antecedent = in_edge[0]\n",
    "        weight = G.get_edge_data(antecedent, node)['weight']\n",
    "        text += f\"Trigger {antecedent} - {node}, Support: {weight:.3f}, Lift: {G.nodes[node]['lift']:.3f}, Confidence: {G.nodes[node]['confidence']:.3f}, Conviction: {G.nodes[node]['conviction']:.3f}<br>\"\n",
    "    for out_edge in out_edges:\n",
    "        consequent = out_edge[1]\n",
    "        weight = G.get_edge_data(node, consequent)['weight']\n",
    "        text += f\"Trigger {node} - {consequent}, Support: {weight:.3f}, Lift: {G.nodes[node]['lift']:.3f}, Confidence: {G.nodes[node]['confidence']:.3f}, Conviction: {G.nodes[node]['conviction']:.3f}<br>\"\n",
    "    node_trace = go.Scatter(x=[x], y=[y], mode='markers+text', text=node,\n",
    "                            marker=dict(size=40, color='lightblue'),\n",
    "                            hoverinfo='text',\n",
    "                            hovertext=text\n",
    "                            )\n",
    "    node_traces.append(node_trace)\n",
    "\n",
    "# Create the figure and add the edge and node traces\n",
    "fig = go.Figure(data=edge_traces + node_traces)\n",
    "\n",
    "# Set the layout properties\n",
    "fig.update_layout(title='Items Set Rules Graph', title_x=0.5, showlegend=False, hovermode='closest',\n",
    "                  plot_bgcolor='white', margin=dict(b=20, l=5, r=5, t=40), xaxis=dict(showgrid=False, zeroline=False,\n",
    "                  showticklabels=False), yaxis=dict(showgrid=False, zeroline=False, showticklabels=False))\n",
    "\n",
    "# Show the plot\n",
    "fig.show()\n"
   ]
  }
 ],
 "metadata": {
  "kernelspec": {
   "display_name": "base",
   "language": "python",
   "name": "python3"
  },
  "language_info": {
   "codemirror_mode": {
    "name": "ipython",
    "version": 3
   },
   "file_extension": ".py",
   "mimetype": "text/x-python",
   "name": "python",
   "nbconvert_exporter": "python",
   "pygments_lexer": "ipython3",
   "version": "3.11.3"
  },
  "orig_nbformat": 4,
  "vscode": {
   "interpreter": {
    "hash": "4f2380935a852bfd6cd376048d8438f0291ac020ced12a3def74eecbc5a3998c"
   }
  }
 },
 "nbformat": 4,
 "nbformat_minor": 2
}
