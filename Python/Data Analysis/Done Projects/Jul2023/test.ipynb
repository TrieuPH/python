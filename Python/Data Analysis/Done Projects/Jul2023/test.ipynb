{
 "cells": [
  {
   "cell_type": "code",
   "execution_count": 1,
   "metadata": {},
   "outputs": [
    {
     "name": "stdout",
     "output_type": "stream",
     "text": [
      "Number of Mondays in the month: 4\n"
     ]
    }
   ],
   "source": [
    "import calendar\n",
    "\n",
    "def count_mondays_in_month(date_str):\n",
    "    # Convert the input date string to a datetime object\n",
    "    from datetime import datetime\n",
    "    date_obj = datetime.strptime(date_str, '%Y-%m-%d')\n",
    "    \n",
    "    # Get the year and month from the date\n",
    "    year = date_obj.year\n",
    "    month = date_obj.month\n",
    "    \n",
    "    # Get the number of days in the month\n",
    "    num_days_in_month = calendar.monthrange(year, month)[1]\n",
    "    \n",
    "    # Initialize a counter for Mondays\n",
    "    num_mondays = 0\n",
    "    \n",
    "    # Loop through the days in the month and count Mondays\n",
    "    for day in range(1, num_days_in_month + 1):\n",
    "        # Create a new date object for the current day\n",
    "        current_date = datetime(year, month, day)\n",
    "        # Check if the day is Monday (weekday == 0 means Monday)\n",
    "        if current_date.weekday() == 0:\n",
    "            num_mondays += 1\n",
    "    \n",
    "    return num_mondays\n",
    "\n",
    "# Test the function\n",
    "input_date = '2023-06-15'\n",
    "print(\"Number of Mondays in the month:\", count_mondays_in_month(input_date))"
   ]
  }
 ],
 "metadata": {
  "kernelspec": {
   "display_name": "pyenv",
   "language": "python",
   "name": "python3"
  },
  "language_info": {
   "codemirror_mode": {
    "name": "ipython",
    "version": 3
   },
   "file_extension": ".py",
   "mimetype": "text/x-python",
   "name": "python",
   "nbconvert_exporter": "python",
   "pygments_lexer": "ipython3",
   "version": "3.11.4"
  },
  "orig_nbformat": 4
 },
 "nbformat": 4,
 "nbformat_minor": 2
}
