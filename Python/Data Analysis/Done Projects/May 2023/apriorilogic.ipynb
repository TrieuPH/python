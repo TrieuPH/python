{
 "cells": [
  {
   "cell_type": "code",
   "execution_count": 31,
   "metadata": {},
   "outputs": [],
   "source": [
    "# import pandas as pd\n",
    "# import os\n",
    "# import glob\n",
    "# import concurrent.futures\n",
    "# import time\n",
    "\n",
    "# directory = 'C:\\\\Users\\\\Trieu Pham\\\\Desktop\\\\230105 Payment Summary - 2023-01-06T085450.177'\n",
    "# directory2 = 'C:\\\\Users\\\\trieu.pham\\\\Desktop\\\\230105 Payment Summary - 2023-01-06T085450.177'\n",
    "# cate_dir = 'C:\\\\Users\\\\Trieu Pham\\\\Desktop\\\\DataCate.xlsx'\n",
    "# cate_dir2 = 'C:\\\\Users\\\\trieu.pham\\\\Desktop\\\\DataCate.xlsx'\n",
    "\n",
    "# # list of Excel files to read data from\n",
    "# if os.path.exists(os.path.join(directory, '230101 Payment Summary - 2023-01-03T093340.600.xlsx')):\n",
    "#     excel_files = glob.glob(os.path.join(directory, '*.xlsx'))\n",
    "# else:\n",
    "#     excel_files = glob.glob(os.path.join(directory2, '*.xlsx'))\n",
    "# try:\n",
    "#     # use cols 0, Barcode; 2, Category Name\n",
    "#     # df2 = pd.read_excel(cate_dir, sheet_name='Sheet1', usecols=[0,2])\n",
    "#     # use cols 0, Barcode; 3, SubCategory Name\n",
    "#     df2 = pd.read_excel(cate_dir, sheet_name='Sheet1', usecols=[0,3])\n",
    "#     pass\n",
    "# except FileNotFoundError:\n",
    "#     # df2 = pd.read_excel(cate_dir2, sheet_name='Sheet1', usecols=[0,2])\n",
    "#     # use cols 0, Barcode; 3, SubCategory Name\n",
    "#     df2 = pd.read_excel(cate_dir2, sheet_name='Sheet1', usecols=[0,3])\n",
    "#     pass\n",
    "# # create an empty list to store the dataframes\n",
    "# # dfs = [] sho\n",
    "\n",
    "# # def excel2csv\n",
    "# def excel2csv(file):\n",
    "#     file_path = 'data.csv'\n",
    "#     # Check if exist file_path\n",
    "#     if not os.path.exists(file_path):\n",
    "#         with open(file_path, 'w') as f:\n",
    "#             pass\n",
    "\n",
    "#     # Read the first line of the file\n",
    "#     with open(file_path, 'r') as f:\n",
    "#         first_line = f.readline().strip()\n",
    "#     # Check if the first line contains the expected column names\n",
    "#     has_headers = 'InvoiceID' in first_line\n",
    "#     df = pd.read_excel(file, sheet_name='Sheet2', skiprows=2, usecols=[4,7])\n",
    "#     # df2 Category\n",
    "    \n",
    "#     # merge with Category, on \"Barcode\"\n",
    "#     df = df.merge(df2, on='Barcode', how='left')\n",
    "    \n",
    "#     # Check if the first line contains the expected column names\n",
    "#     df.to_csv('data.csv', mode='a', header= not has_headers, index=False)\n",
    "\n",
    "\n",
    "# # loop through the list of Excel files\n",
    "# with concurrent.futures.ThreadPoolExecutor() as executor:\n",
    "#     [executor.submit(excel2csv, file) for file in excel_files]\n",
    "#     # for file in excel_files:\n",
    "#     #     executor.submit(excel2csv,file)"
   ]
  },
  {
   "cell_type": "code",
   "execution_count": 32,
   "metadata": {},
   "outputs": [
    {
     "name": "stderr",
     "output_type": "stream",
     "text": [
      "C:\\Users\\trieu.pham\\AppData\\Local\\Temp\\ipykernel_31064\\3206709353.py:11: DtypeWarning:\n",
      "\n",
      "Columns (1,2,3) have mixed types. Specify dtype option on import or set low_memory=False.\n",
      "\n"
     ]
    }
   ],
   "source": [
    "# !pip install mlxtend\n",
    "import pandas as pd\n",
    "from mlxtend.preprocessing import TransactionEncoder\n",
    "from mlxtend.frequent_patterns import apriori, association_rules\n",
    "\n",
    "# Sample data\n",
    "try:\n",
    "    df1 = pd.read_csv(r'C:\\Users\\Trieu Pham\\OneDrive - BTM Global Consulting\\Projects\\data csv\\dataM1.csv', \n",
    "                      on_bad_lines = 'warn')\n",
    "except FileNotFoundError:\n",
    "    df1 = pd.read_csv(r'C:\\Users\\trieu.pham\\OneDrive - BTM Global Consulting\\Projects\\data csv\\dataM1.csv', \n",
    "                      on_bad_lines = 'warn')\n",
    "\n",
    "# Get data from Invoice ID with Barcode\n",
    "df1 = df1[['InvoiceID','SubCategory Name']]\n",
    "\n",
    "df1 = df1[df1.groupby('InvoiceID')['SubCategory Name'].transform('size') > 1]\n",
    "dataset_str = df1\n",
    "dataset_str = df1.groupby('InvoiceID').agg({\n",
    "    'SubCategory Name': lambda x: ','.join(str(i) for i in x)\n",
    "}).reset_index()"
   ]
  },
  {
   "cell_type": "code",
   "execution_count": 33,
   "metadata": {},
   "outputs": [
    {
     "data": {
      "text/html": [
       "<div>\n",
       "<style scoped>\n",
       "    .dataframe tbody tr th:only-of-type {\n",
       "        vertical-align: middle;\n",
       "    }\n",
       "\n",
       "    .dataframe tbody tr th {\n",
       "        vertical-align: top;\n",
       "    }\n",
       "\n",
       "    .dataframe thead th {\n",
       "        text-align: right;\n",
       "    }\n",
       "</style>\n",
       "<table border=\"1\" class=\"dataframe\">\n",
       "  <thead>\n",
       "    <tr style=\"text-align: right;\">\n",
       "      <th></th>\n",
       "      <th>InvoiceID</th>\n",
       "      <th>SubCategory Name</th>\n",
       "    </tr>\n",
       "  </thead>\n",
       "  <tbody>\n",
       "    <tr>\n",
       "      <th>0</th>\n",
       "      <td>VN0001010101230001</td>\n",
       "      <td>Mineral water,Mineral water</td>\n",
       "    </tr>\n",
       "    <tr>\n",
       "      <th>1</th>\n",
       "      <td>VN0001010101230002</td>\n",
       "      <td>Purified water,Purified water</td>\n",
       "    </tr>\n",
       "    <tr>\n",
       "      <th>2</th>\n",
       "      <td>VN0001010101230003</td>\n",
       "      <td>Other Ice Cream,Potato Snacks,Stick,UHT Milk,M...</td>\n",
       "    </tr>\n",
       "    <tr>\n",
       "      <th>3</th>\n",
       "      <td>VN0001010101230004</td>\n",
       "      <td>Distilled Spirits,Cup Of Ice,Add-on item Sub,D...</td>\n",
       "    </tr>\n",
       "    <tr>\n",
       "      <th>4</th>\n",
       "      <td>VN0001010101230005</td>\n",
       "      <td>Sports Drinks Sub,Sports Drinks Sub,Sports Dri...</td>\n",
       "    </tr>\n",
       "    <tr>\n",
       "      <th>...</th>\n",
       "      <td>...</td>\n",
       "      <td>...</td>\n",
       "    </tr>\n",
       "    <tr>\n",
       "      <th>1292416</th>\n",
       "      <td>VN9996023001230524</td>\n",
       "      <td>Purified water,Energy Drinks Sub</td>\n",
       "    </tr>\n",
       "    <tr>\n",
       "      <th>1292417</th>\n",
       "      <td>VN9996023001230535</td>\n",
       "      <td>Sugar CSD,Instant Sausage</td>\n",
       "    </tr>\n",
       "    <tr>\n",
       "      <th>1292418</th>\n",
       "      <td>VN9996023001230536</td>\n",
       "      <td>Sports Drinks Sub,No/Less Sugar CSD</td>\n",
       "    </tr>\n",
       "    <tr>\n",
       "      <th>1292419</th>\n",
       "      <td>VN9996023001230537</td>\n",
       "      <td>Sugar CSD,Onigiri,Cup Of Ice,Salty Snacks,Nuts...</td>\n",
       "    </tr>\n",
       "    <tr>\n",
       "      <th>1292420</th>\n",
       "      <td>VN9996023001230538</td>\n",
       "      <td>Sports Drinks Sub,Sports Drinks Sub</td>\n",
       "    </tr>\n",
       "  </tbody>\n",
       "</table>\n",
       "<p>1292421 rows × 2 columns</p>\n",
       "</div>"
      ],
      "text/plain": [
       "                  InvoiceID                                   SubCategory Name\n",
       "0        VN0001010101230001                        Mineral water,Mineral water\n",
       "1        VN0001010101230002                      Purified water,Purified water\n",
       "2        VN0001010101230003  Other Ice Cream,Potato Snacks,Stick,UHT Milk,M...\n",
       "3        VN0001010101230004  Distilled Spirits,Cup Of Ice,Add-on item Sub,D...\n",
       "4        VN0001010101230005  Sports Drinks Sub,Sports Drinks Sub,Sports Dri...\n",
       "...                     ...                                                ...\n",
       "1292416  VN9996023001230524                   Purified water,Energy Drinks Sub\n",
       "1292417  VN9996023001230535                          Sugar CSD,Instant Sausage\n",
       "1292418  VN9996023001230536                Sports Drinks Sub,No/Less Sugar CSD\n",
       "1292419  VN9996023001230537  Sugar CSD,Onigiri,Cup Of Ice,Salty Snacks,Nuts...\n",
       "1292420  VN9996023001230538                Sports Drinks Sub,Sports Drinks Sub\n",
       "\n",
       "[1292421 rows x 2 columns]"
      ]
     },
     "execution_count": 33,
     "metadata": {},
     "output_type": "execute_result"
    }
   ],
   "source": [
    "dataset_str"
   ]
  },
  {
   "cell_type": "code",
   "execution_count": 34,
   "metadata": {},
   "outputs": [],
   "source": [
    "dataset_str['StoreID'] = dataset_str['InvoiceID'].map(lambda x: x[:6])"
   ]
  },
  {
   "cell_type": "code",
   "execution_count": 35,
   "metadata": {},
   "outputs": [
    {
     "name": "stdout",
     "output_type": "stream",
     "text": [
      "<class 'pandas.core.frame.DataFrame'>\n",
      "RangeIndex: 1292421 entries, 0 to 1292420\n",
      "Data columns (total 3 columns):\n",
      " #   Column            Non-Null Count    Dtype \n",
      "---  ------            --------------    ----- \n",
      " 0   InvoiceID         1292421 non-null  object\n",
      " 1   SubCategory Name  1292421 non-null  object\n",
      " 2   StoreID           1292421 non-null  object\n",
      "dtypes: object(3)\n",
      "memory usage: 29.6+ MB\n",
      "None\n"
     ]
    },
    {
     "data": {
      "text/html": [
       "<div>\n",
       "<style scoped>\n",
       "    .dataframe tbody tr th:only-of-type {\n",
       "        vertical-align: middle;\n",
       "    }\n",
       "\n",
       "    .dataframe tbody tr th {\n",
       "        vertical-align: top;\n",
       "    }\n",
       "\n",
       "    .dataframe thead th {\n",
       "        text-align: right;\n",
       "    }\n",
       "</style>\n",
       "<table border=\"1\" class=\"dataframe\">\n",
       "  <thead>\n",
       "    <tr style=\"text-align: right;\">\n",
       "      <th></th>\n",
       "      <th>InvoiceID</th>\n",
       "      <th>SubCategory Name</th>\n",
       "      <th>StoreID</th>\n",
       "    </tr>\n",
       "  </thead>\n",
       "  <tbody>\n",
       "    <tr>\n",
       "      <th>0</th>\n",
       "      <td>VN0001010101230001</td>\n",
       "      <td>Mineral water,Mineral water</td>\n",
       "      <td>VN0001</td>\n",
       "    </tr>\n",
       "    <tr>\n",
       "      <th>1</th>\n",
       "      <td>VN0001010101230002</td>\n",
       "      <td>Purified water,Purified water</td>\n",
       "      <td>VN0001</td>\n",
       "    </tr>\n",
       "    <tr>\n",
       "      <th>2</th>\n",
       "      <td>VN0001010101230003</td>\n",
       "      <td>Other Ice Cream,Potato Snacks,Stick,UHT Milk,M...</td>\n",
       "      <td>VN0001</td>\n",
       "    </tr>\n",
       "    <tr>\n",
       "      <th>3</th>\n",
       "      <td>VN0001010101230004</td>\n",
       "      <td>Distilled Spirits,Cup Of Ice,Add-on item Sub,D...</td>\n",
       "      <td>VN0001</td>\n",
       "    </tr>\n",
       "    <tr>\n",
       "      <th>4</th>\n",
       "      <td>VN0001010101230005</td>\n",
       "      <td>Sports Drinks Sub,Sports Drinks Sub,Sports Dri...</td>\n",
       "      <td>VN0001</td>\n",
       "    </tr>\n",
       "    <tr>\n",
       "      <th>...</th>\n",
       "      <td>...</td>\n",
       "      <td>...</td>\n",
       "      <td>...</td>\n",
       "    </tr>\n",
       "    <tr>\n",
       "      <th>1292416</th>\n",
       "      <td>VN9996023001230524</td>\n",
       "      <td>Purified water,Energy Drinks Sub</td>\n",
       "      <td>VN9996</td>\n",
       "    </tr>\n",
       "    <tr>\n",
       "      <th>1292417</th>\n",
       "      <td>VN9996023001230535</td>\n",
       "      <td>Sugar CSD,Instant Sausage</td>\n",
       "      <td>VN9996</td>\n",
       "    </tr>\n",
       "    <tr>\n",
       "      <th>1292418</th>\n",
       "      <td>VN9996023001230536</td>\n",
       "      <td>Sports Drinks Sub,No/Less Sugar CSD</td>\n",
       "      <td>VN9996</td>\n",
       "    </tr>\n",
       "    <tr>\n",
       "      <th>1292419</th>\n",
       "      <td>VN9996023001230537</td>\n",
       "      <td>Sugar CSD,Onigiri,Cup Of Ice,Salty Snacks,Nuts...</td>\n",
       "      <td>VN9996</td>\n",
       "    </tr>\n",
       "    <tr>\n",
       "      <th>1292420</th>\n",
       "      <td>VN9996023001230538</td>\n",
       "      <td>Sports Drinks Sub,Sports Drinks Sub</td>\n",
       "      <td>VN9996</td>\n",
       "    </tr>\n",
       "  </tbody>\n",
       "</table>\n",
       "<p>1292421 rows × 3 columns</p>\n",
       "</div>"
      ],
      "text/plain": [
       "                  InvoiceID   \n",
       "0        VN0001010101230001  \\\n",
       "1        VN0001010101230002   \n",
       "2        VN0001010101230003   \n",
       "3        VN0001010101230004   \n",
       "4        VN0001010101230005   \n",
       "...                     ...   \n",
       "1292416  VN9996023001230524   \n",
       "1292417  VN9996023001230535   \n",
       "1292418  VN9996023001230536   \n",
       "1292419  VN9996023001230537   \n",
       "1292420  VN9996023001230538   \n",
       "\n",
       "                                          SubCategory Name StoreID  \n",
       "0                              Mineral water,Mineral water  VN0001  \n",
       "1                            Purified water,Purified water  VN0001  \n",
       "2        Other Ice Cream,Potato Snacks,Stick,UHT Milk,M...  VN0001  \n",
       "3        Distilled Spirits,Cup Of Ice,Add-on item Sub,D...  VN0001  \n",
       "4        Sports Drinks Sub,Sports Drinks Sub,Sports Dri...  VN0001  \n",
       "...                                                    ...     ...  \n",
       "1292416                   Purified water,Energy Drinks Sub  VN9996  \n",
       "1292417                          Sugar CSD,Instant Sausage  VN9996  \n",
       "1292418                Sports Drinks Sub,No/Less Sugar CSD  VN9996  \n",
       "1292419  Sugar CSD,Onigiri,Cup Of Ice,Salty Snacks,Nuts...  VN9996  \n",
       "1292420                Sports Drinks Sub,Sports Drinks Sub  VN9996  \n",
       "\n",
       "[1292421 rows x 3 columns]"
      ]
     },
     "execution_count": 35,
     "metadata": {},
     "output_type": "execute_result"
    }
   ],
   "source": [
    "print(dataset_str.info())\n",
    "dataset_str"
   ]
  },
  {
   "cell_type": "code",
   "execution_count": 36,
   "metadata": {},
   "outputs": [
    {
     "name": "stdout",
     "output_type": "stream",
     "text": [
      "Unique stores: 211\n"
     ]
    }
   ],
   "source": [
    "unique_stores = dataset_str['StoreID'].nunique()\n",
    "print(\"Unique stores:\", unique_stores)"
   ]
  },
  {
   "cell_type": "code",
   "execution_count": 37,
   "metadata": {},
   "outputs": [
    {
     "data": {
      "text/html": [
       "<div>\n",
       "<style scoped>\n",
       "    .dataframe tbody tr th:only-of-type {\n",
       "        vertical-align: middle;\n",
       "    }\n",
       "\n",
       "    .dataframe tbody tr th {\n",
       "        vertical-align: top;\n",
       "    }\n",
       "\n",
       "    .dataframe thead th {\n",
       "        text-align: right;\n",
       "    }\n",
       "</style>\n",
       "<table border=\"1\" class=\"dataframe\">\n",
       "  <thead>\n",
       "    <tr style=\"text-align: right;\">\n",
       "      <th></th>\n",
       "      <th>InvoiceID</th>\n",
       "      <th>SubCategory Name</th>\n",
       "      <th>StoreID</th>\n",
       "    </tr>\n",
       "  </thead>\n",
       "  <tbody>\n",
       "    <tr>\n",
       "      <th>0</th>\n",
       "      <td>VN0001010101230001</td>\n",
       "      <td>Mineral water,Mineral water</td>\n",
       "      <td>VN0001</td>\n",
       "    </tr>\n",
       "    <tr>\n",
       "      <th>1</th>\n",
       "      <td>VN0001010101230002</td>\n",
       "      <td>Purified water,Purified water</td>\n",
       "      <td>VN0001</td>\n",
       "    </tr>\n",
       "    <tr>\n",
       "      <th>2</th>\n",
       "      <td>VN0001010101230003</td>\n",
       "      <td>Other Ice Cream,Potato Snacks,Stick,UHT Milk,M...</td>\n",
       "      <td>VN0001</td>\n",
       "    </tr>\n",
       "    <tr>\n",
       "      <th>3</th>\n",
       "      <td>VN0001010101230004</td>\n",
       "      <td>Distilled Spirits,Cup Of Ice,Add-on item Sub,D...</td>\n",
       "      <td>VN0001</td>\n",
       "    </tr>\n",
       "    <tr>\n",
       "      <th>4</th>\n",
       "      <td>VN0001010101230005</td>\n",
       "      <td>Sports Drinks Sub,Sports Drinks Sub,Sports Dri...</td>\n",
       "      <td>VN0001</td>\n",
       "    </tr>\n",
       "    <tr>\n",
       "      <th>...</th>\n",
       "      <td>...</td>\n",
       "      <td>...</td>\n",
       "      <td>...</td>\n",
       "    </tr>\n",
       "    <tr>\n",
       "      <th>1292416</th>\n",
       "      <td>VN9996023001230524</td>\n",
       "      <td>Purified water,Energy Drinks Sub</td>\n",
       "      <td>VN9996</td>\n",
       "    </tr>\n",
       "    <tr>\n",
       "      <th>1292417</th>\n",
       "      <td>VN9996023001230535</td>\n",
       "      <td>Sugar CSD,Instant Sausage</td>\n",
       "      <td>VN9996</td>\n",
       "    </tr>\n",
       "    <tr>\n",
       "      <th>1292418</th>\n",
       "      <td>VN9996023001230536</td>\n",
       "      <td>Sports Drinks Sub,No/Less Sugar CSD</td>\n",
       "      <td>VN9996</td>\n",
       "    </tr>\n",
       "    <tr>\n",
       "      <th>1292419</th>\n",
       "      <td>VN9996023001230537</td>\n",
       "      <td>Sugar CSD,Onigiri,Cup Of Ice,Salty Snacks,Nuts...</td>\n",
       "      <td>VN9996</td>\n",
       "    </tr>\n",
       "    <tr>\n",
       "      <th>1292420</th>\n",
       "      <td>VN9996023001230538</td>\n",
       "      <td>Sports Drinks Sub,Sports Drinks Sub</td>\n",
       "      <td>VN9996</td>\n",
       "    </tr>\n",
       "  </tbody>\n",
       "</table>\n",
       "<p>1292421 rows × 3 columns</p>\n",
       "</div>"
      ],
      "text/plain": [
       "                  InvoiceID   \n",
       "0        VN0001010101230001  \\\n",
       "1        VN0001010101230002   \n",
       "2        VN0001010101230003   \n",
       "3        VN0001010101230004   \n",
       "4        VN0001010101230005   \n",
       "...                     ...   \n",
       "1292416  VN9996023001230524   \n",
       "1292417  VN9996023001230535   \n",
       "1292418  VN9996023001230536   \n",
       "1292419  VN9996023001230537   \n",
       "1292420  VN9996023001230538   \n",
       "\n",
       "                                          SubCategory Name StoreID  \n",
       "0                              Mineral water,Mineral water  VN0001  \n",
       "1                            Purified water,Purified water  VN0001  \n",
       "2        Other Ice Cream,Potato Snacks,Stick,UHT Milk,M...  VN0001  \n",
       "3        Distilled Spirits,Cup Of Ice,Add-on item Sub,D...  VN0001  \n",
       "4        Sports Drinks Sub,Sports Drinks Sub,Sports Dri...  VN0001  \n",
       "...                                                    ...     ...  \n",
       "1292416                   Purified water,Energy Drinks Sub  VN9996  \n",
       "1292417                          Sugar CSD,Instant Sausage  VN9996  \n",
       "1292418                Sports Drinks Sub,No/Less Sugar CSD  VN9996  \n",
       "1292419  Sugar CSD,Onigiri,Cup Of Ice,Salty Snacks,Nuts...  VN9996  \n",
       "1292420                Sports Drinks Sub,Sports Drinks Sub  VN9996  \n",
       "\n",
       "[1292421 rows x 3 columns]"
      ]
     },
     "execution_count": 37,
     "metadata": {},
     "output_type": "execute_result"
    }
   ],
   "source": [
    "# Backup dataset_str to dataset_str_bk\n",
    "dataset_str_bk = dataset_str.copy()\n",
    "dataset_str_bk"
   ]
  },
  {
   "cell_type": "code",
   "execution_count": 6,
   "metadata": {},
   "outputs": [],
   "source": [
    "# Select StoreID, Example VN0001; Comment below if you want to get all data\n",
    "# dataset_str = dataset_str[dataset_str['StoreID'] == 'VN0001']"
   ]
  },
  {
   "cell_type": "code",
   "execution_count": 7,
   "metadata": {},
   "outputs": [
    {
     "data": {
      "text/html": [
       "<div>\n",
       "<style scoped>\n",
       "    .dataframe tbody tr th:only-of-type {\n",
       "        vertical-align: middle;\n",
       "    }\n",
       "\n",
       "    .dataframe tbody tr th {\n",
       "        vertical-align: top;\n",
       "    }\n",
       "\n",
       "    .dataframe thead th {\n",
       "        text-align: right;\n",
       "    }\n",
       "</style>\n",
       "<table border=\"1\" class=\"dataframe\">\n",
       "  <thead>\n",
       "    <tr style=\"text-align: right;\">\n",
       "      <th></th>\n",
       "      <th>Add-on item Sub</th>\n",
       "      <th>Alternative Snacks</th>\n",
       "      <th>Babycare sub</th>\n",
       "      <th>Batteries Sub</th>\n",
       "      <th>Bento</th>\n",
       "      <th>Bingsu</th>\n",
       "      <th>Body Care</th>\n",
       "      <th>Can food</th>\n",
       "      <th>Cereal</th>\n",
       "      <th>Chilled Ready to eat Sub</th>\n",
       "      <th>...</th>\n",
       "      <th>Toothbrush</th>\n",
       "      <th>Toothpaste</th>\n",
       "      <th>Toys Candy</th>\n",
       "      <th>UHT Milk</th>\n",
       "      <th>Vegetarian food</th>\n",
       "      <th>WIC/RIC Juice</th>\n",
       "      <th>Wafflers</th>\n",
       "      <th>Wearables/Apparel/Umbrella</th>\n",
       "      <th>Western Coffee</th>\n",
       "      <th>nan</th>\n",
       "    </tr>\n",
       "  </thead>\n",
       "  <tbody>\n",
       "    <tr>\n",
       "      <th>0</th>\n",
       "      <td>False</td>\n",
       "      <td>False</td>\n",
       "      <td>False</td>\n",
       "      <td>False</td>\n",
       "      <td>False</td>\n",
       "      <td>False</td>\n",
       "      <td>False</td>\n",
       "      <td>False</td>\n",
       "      <td>False</td>\n",
       "      <td>False</td>\n",
       "      <td>...</td>\n",
       "      <td>False</td>\n",
       "      <td>False</td>\n",
       "      <td>False</td>\n",
       "      <td>False</td>\n",
       "      <td>False</td>\n",
       "      <td>False</td>\n",
       "      <td>False</td>\n",
       "      <td>False</td>\n",
       "      <td>False</td>\n",
       "      <td>False</td>\n",
       "    </tr>\n",
       "    <tr>\n",
       "      <th>1</th>\n",
       "      <td>False</td>\n",
       "      <td>False</td>\n",
       "      <td>False</td>\n",
       "      <td>False</td>\n",
       "      <td>False</td>\n",
       "      <td>False</td>\n",
       "      <td>False</td>\n",
       "      <td>False</td>\n",
       "      <td>False</td>\n",
       "      <td>False</td>\n",
       "      <td>...</td>\n",
       "      <td>False</td>\n",
       "      <td>False</td>\n",
       "      <td>False</td>\n",
       "      <td>False</td>\n",
       "      <td>False</td>\n",
       "      <td>False</td>\n",
       "      <td>False</td>\n",
       "      <td>False</td>\n",
       "      <td>False</td>\n",
       "      <td>False</td>\n",
       "    </tr>\n",
       "    <tr>\n",
       "      <th>2</th>\n",
       "      <td>False</td>\n",
       "      <td>False</td>\n",
       "      <td>False</td>\n",
       "      <td>False</td>\n",
       "      <td>False</td>\n",
       "      <td>False</td>\n",
       "      <td>False</td>\n",
       "      <td>False</td>\n",
       "      <td>False</td>\n",
       "      <td>False</td>\n",
       "      <td>...</td>\n",
       "      <td>False</td>\n",
       "      <td>False</td>\n",
       "      <td>False</td>\n",
       "      <td>True</td>\n",
       "      <td>False</td>\n",
       "      <td>False</td>\n",
       "      <td>False</td>\n",
       "      <td>False</td>\n",
       "      <td>False</td>\n",
       "      <td>False</td>\n",
       "    </tr>\n",
       "    <tr>\n",
       "      <th>3</th>\n",
       "      <td>True</td>\n",
       "      <td>False</td>\n",
       "      <td>False</td>\n",
       "      <td>False</td>\n",
       "      <td>False</td>\n",
       "      <td>False</td>\n",
       "      <td>False</td>\n",
       "      <td>False</td>\n",
       "      <td>False</td>\n",
       "      <td>False</td>\n",
       "      <td>...</td>\n",
       "      <td>False</td>\n",
       "      <td>False</td>\n",
       "      <td>False</td>\n",
       "      <td>False</td>\n",
       "      <td>False</td>\n",
       "      <td>False</td>\n",
       "      <td>False</td>\n",
       "      <td>False</td>\n",
       "      <td>False</td>\n",
       "      <td>False</td>\n",
       "    </tr>\n",
       "    <tr>\n",
       "      <th>4</th>\n",
       "      <td>False</td>\n",
       "      <td>False</td>\n",
       "      <td>False</td>\n",
       "      <td>False</td>\n",
       "      <td>False</td>\n",
       "      <td>False</td>\n",
       "      <td>False</td>\n",
       "      <td>False</td>\n",
       "      <td>False</td>\n",
       "      <td>False</td>\n",
       "      <td>...</td>\n",
       "      <td>False</td>\n",
       "      <td>False</td>\n",
       "      <td>False</td>\n",
       "      <td>False</td>\n",
       "      <td>False</td>\n",
       "      <td>False</td>\n",
       "      <td>False</td>\n",
       "      <td>False</td>\n",
       "      <td>False</td>\n",
       "      <td>False</td>\n",
       "    </tr>\n",
       "    <tr>\n",
       "      <th>...</th>\n",
       "      <td>...</td>\n",
       "      <td>...</td>\n",
       "      <td>...</td>\n",
       "      <td>...</td>\n",
       "      <td>...</td>\n",
       "      <td>...</td>\n",
       "      <td>...</td>\n",
       "      <td>...</td>\n",
       "      <td>...</td>\n",
       "      <td>...</td>\n",
       "      <td>...</td>\n",
       "      <td>...</td>\n",
       "      <td>...</td>\n",
       "      <td>...</td>\n",
       "      <td>...</td>\n",
       "      <td>...</td>\n",
       "      <td>...</td>\n",
       "      <td>...</td>\n",
       "      <td>...</td>\n",
       "      <td>...</td>\n",
       "      <td>...</td>\n",
       "    </tr>\n",
       "    <tr>\n",
       "      <th>9065</th>\n",
       "      <td>False</td>\n",
       "      <td>False</td>\n",
       "      <td>False</td>\n",
       "      <td>False</td>\n",
       "      <td>False</td>\n",
       "      <td>False</td>\n",
       "      <td>False</td>\n",
       "      <td>False</td>\n",
       "      <td>False</td>\n",
       "      <td>False</td>\n",
       "      <td>...</td>\n",
       "      <td>False</td>\n",
       "      <td>False</td>\n",
       "      <td>False</td>\n",
       "      <td>False</td>\n",
       "      <td>False</td>\n",
       "      <td>False</td>\n",
       "      <td>False</td>\n",
       "      <td>False</td>\n",
       "      <td>False</td>\n",
       "      <td>False</td>\n",
       "    </tr>\n",
       "    <tr>\n",
       "      <th>9066</th>\n",
       "      <td>False</td>\n",
       "      <td>False</td>\n",
       "      <td>False</td>\n",
       "      <td>False</td>\n",
       "      <td>False</td>\n",
       "      <td>False</td>\n",
       "      <td>False</td>\n",
       "      <td>False</td>\n",
       "      <td>False</td>\n",
       "      <td>False</td>\n",
       "      <td>...</td>\n",
       "      <td>False</td>\n",
       "      <td>False</td>\n",
       "      <td>False</td>\n",
       "      <td>False</td>\n",
       "      <td>False</td>\n",
       "      <td>False</td>\n",
       "      <td>False</td>\n",
       "      <td>False</td>\n",
       "      <td>False</td>\n",
       "      <td>False</td>\n",
       "    </tr>\n",
       "    <tr>\n",
       "      <th>9067</th>\n",
       "      <td>False</td>\n",
       "      <td>False</td>\n",
       "      <td>False</td>\n",
       "      <td>False</td>\n",
       "      <td>False</td>\n",
       "      <td>False</td>\n",
       "      <td>False</td>\n",
       "      <td>False</td>\n",
       "      <td>False</td>\n",
       "      <td>False</td>\n",
       "      <td>...</td>\n",
       "      <td>False</td>\n",
       "      <td>False</td>\n",
       "      <td>False</td>\n",
       "      <td>False</td>\n",
       "      <td>False</td>\n",
       "      <td>False</td>\n",
       "      <td>False</td>\n",
       "      <td>False</td>\n",
       "      <td>False</td>\n",
       "      <td>False</td>\n",
       "    </tr>\n",
       "    <tr>\n",
       "      <th>9068</th>\n",
       "      <td>True</td>\n",
       "      <td>False</td>\n",
       "      <td>False</td>\n",
       "      <td>False</td>\n",
       "      <td>False</td>\n",
       "      <td>False</td>\n",
       "      <td>False</td>\n",
       "      <td>False</td>\n",
       "      <td>False</td>\n",
       "      <td>False</td>\n",
       "      <td>...</td>\n",
       "      <td>False</td>\n",
       "      <td>False</td>\n",
       "      <td>False</td>\n",
       "      <td>False</td>\n",
       "      <td>False</td>\n",
       "      <td>False</td>\n",
       "      <td>False</td>\n",
       "      <td>False</td>\n",
       "      <td>False</td>\n",
       "      <td>False</td>\n",
       "    </tr>\n",
       "    <tr>\n",
       "      <th>9069</th>\n",
       "      <td>False</td>\n",
       "      <td>False</td>\n",
       "      <td>False</td>\n",
       "      <td>False</td>\n",
       "      <td>False</td>\n",
       "      <td>False</td>\n",
       "      <td>False</td>\n",
       "      <td>False</td>\n",
       "      <td>False</td>\n",
       "      <td>False</td>\n",
       "      <td>...</td>\n",
       "      <td>False</td>\n",
       "      <td>False</td>\n",
       "      <td>False</td>\n",
       "      <td>False</td>\n",
       "      <td>False</td>\n",
       "      <td>False</td>\n",
       "      <td>False</td>\n",
       "      <td>False</td>\n",
       "      <td>False</td>\n",
       "      <td>False</td>\n",
       "    </tr>\n",
       "  </tbody>\n",
       "</table>\n",
       "<p>9070 rows × 129 columns</p>\n",
       "</div>"
      ],
      "text/plain": [
       "      Add-on item Sub  Alternative Snacks  Babycare sub  Batteries Sub  Bento   \n",
       "0               False               False         False          False  False  \\\n",
       "1               False               False         False          False  False   \n",
       "2               False               False         False          False  False   \n",
       "3                True               False         False          False  False   \n",
       "4               False               False         False          False  False   \n",
       "...               ...                 ...           ...            ...    ...   \n",
       "9065            False               False         False          False  False   \n",
       "9066            False               False         False          False  False   \n",
       "9067            False               False         False          False  False   \n",
       "9068             True               False         False          False  False   \n",
       "9069            False               False         False          False  False   \n",
       "\n",
       "      Bingsu  Body Care  Can food  Cereal  Chilled Ready to eat Sub  ...   \n",
       "0      False      False     False   False                     False  ...  \\\n",
       "1      False      False     False   False                     False  ...   \n",
       "2      False      False     False   False                     False  ...   \n",
       "3      False      False     False   False                     False  ...   \n",
       "4      False      False     False   False                     False  ...   \n",
       "...      ...        ...       ...     ...                       ...  ...   \n",
       "9065   False      False     False   False                     False  ...   \n",
       "9066   False      False     False   False                     False  ...   \n",
       "9067   False      False     False   False                     False  ...   \n",
       "9068   False      False     False   False                     False  ...   \n",
       "9069   False      False     False   False                     False  ...   \n",
       "\n",
       "      Toothbrush  Toothpaste  Toys Candy  UHT Milk  Vegetarian food   \n",
       "0          False       False       False     False            False  \\\n",
       "1          False       False       False     False            False   \n",
       "2          False       False       False      True            False   \n",
       "3          False       False       False     False            False   \n",
       "4          False       False       False     False            False   \n",
       "...          ...         ...         ...       ...              ...   \n",
       "9065       False       False       False     False            False   \n",
       "9066       False       False       False     False            False   \n",
       "9067       False       False       False     False            False   \n",
       "9068       False       False       False     False            False   \n",
       "9069       False       False       False     False            False   \n",
       "\n",
       "      WIC/RIC Juice  Wafflers  Wearables/Apparel/Umbrella  Western Coffee   \n",
       "0             False     False                       False           False  \\\n",
       "1             False     False                       False           False   \n",
       "2             False     False                       False           False   \n",
       "3             False     False                       False           False   \n",
       "4             False     False                       False           False   \n",
       "...             ...       ...                         ...             ...   \n",
       "9065          False     False                       False           False   \n",
       "9066          False     False                       False           False   \n",
       "9067          False     False                       False           False   \n",
       "9068          False     False                       False           False   \n",
       "9069          False     False                       False           False   \n",
       "\n",
       "        nan  \n",
       "0     False  \n",
       "1     False  \n",
       "2     False  \n",
       "3     False  \n",
       "4     False  \n",
       "...     ...  \n",
       "9065  False  \n",
       "9066  False  \n",
       "9067  False  \n",
       "9068  False  \n",
       "9069  False  \n",
       "\n",
       "[9070 rows x 129 columns]"
      ]
     },
     "execution_count": 7,
     "metadata": {},
     "output_type": "execute_result"
    }
   ],
   "source": [
    "# Transform the data into a list of lists (transactions) with TransactionEncoder\n",
    "# create a TransactionEncoder object\n",
    "data = dataset_str[['SubCategory Name']]\n",
    "\n",
    "data = data.values.tolist()\n",
    "\n",
    "data = [x[0].split(',') for x in data]\n",
    "\n",
    "te = TransactionEncoder()\n",
    "\n",
    "# transform the data into a list of lists\n",
    "transactions = te.fit(data).transform(data)\n",
    "transactions = pd.DataFrame(transactions, columns=te.columns_)\n",
    "\n",
    "transactions"
   ]
  },
  {
   "cell_type": "code",
   "execution_count": 8,
   "metadata": {},
   "outputs": [
    {
     "data": {
      "text/html": [
       "<div>\n",
       "<style scoped>\n",
       "    .dataframe tbody tr th:only-of-type {\n",
       "        vertical-align: middle;\n",
       "    }\n",
       "\n",
       "    .dataframe tbody tr th {\n",
       "        vertical-align: top;\n",
       "    }\n",
       "\n",
       "    .dataframe thead th {\n",
       "        text-align: right;\n",
       "    }\n",
       "</style>\n",
       "<table border=\"1\" class=\"dataframe\">\n",
       "  <thead>\n",
       "    <tr style=\"text-align: right;\">\n",
       "      <th></th>\n",
       "      <th>support</th>\n",
       "      <th>itemsets</th>\n",
       "    </tr>\n",
       "  </thead>\n",
       "  <tbody>\n",
       "    <tr>\n",
       "      <th>0</th>\n",
       "      <td>0.040132</td>\n",
       "      <td>(Add-on item Sub)</td>\n",
       "    </tr>\n",
       "    <tr>\n",
       "      <th>1</th>\n",
       "      <td>0.013671</td>\n",
       "      <td>(Alternative Snacks)</td>\n",
       "    </tr>\n",
       "    <tr>\n",
       "      <th>2</th>\n",
       "      <td>0.021610</td>\n",
       "      <td>(Bento)</td>\n",
       "    </tr>\n",
       "    <tr>\n",
       "      <th>3</th>\n",
       "      <td>0.042889</td>\n",
       "      <td>(Chocolate Bar)</td>\n",
       "    </tr>\n",
       "    <tr>\n",
       "      <th>4</th>\n",
       "      <td>0.016979</td>\n",
       "      <td>(Chocolate Pack)</td>\n",
       "    </tr>\n",
       "    <tr>\n",
       "      <th>...</th>\n",
       "      <td>...</td>\n",
       "      <td>...</td>\n",
       "    </tr>\n",
       "    <tr>\n",
       "      <th>141</th>\n",
       "      <td>0.005292</td>\n",
       "      <td>(Sugar CSD, Purified water)</td>\n",
       "    </tr>\n",
       "    <tr>\n",
       "      <th>142</th>\n",
       "      <td>0.009041</td>\n",
       "      <td>(Purified water, Sugar Tea)</td>\n",
       "    </tr>\n",
       "    <tr>\n",
       "      <th>143</th>\n",
       "      <td>0.005954</td>\n",
       "      <td>(Savoury  Buns, Sugar Tea)</td>\n",
       "    </tr>\n",
       "    <tr>\n",
       "      <th>144</th>\n",
       "      <td>0.009372</td>\n",
       "      <td>(Sugar CSD, Sugar Tea)</td>\n",
       "    </tr>\n",
       "    <tr>\n",
       "      <th>145</th>\n",
       "      <td>0.006505</td>\n",
       "      <td>(WIC/RIC Juice, Sugar Tea)</td>\n",
       "    </tr>\n",
       "  </tbody>\n",
       "</table>\n",
       "<p>146 rows × 2 columns</p>\n",
       "</div>"
      ],
      "text/plain": [
       "      support                     itemsets\n",
       "0    0.040132            (Add-on item Sub)\n",
       "1    0.013671         (Alternative Snacks)\n",
       "2    0.021610                      (Bento)\n",
       "3    0.042889              (Chocolate Bar)\n",
       "4    0.016979             (Chocolate Pack)\n",
       "..        ...                          ...\n",
       "141  0.005292  (Sugar CSD, Purified water)\n",
       "142  0.009041  (Purified water, Sugar Tea)\n",
       "143  0.005954   (Savoury  Buns, Sugar Tea)\n",
       "144  0.009372       (Sugar CSD, Sugar Tea)\n",
       "145  0.006505   (WIC/RIC Juice, Sugar Tea)\n",
       "\n",
       "[146 rows x 2 columns]"
      ]
     },
     "execution_count": 8,
     "metadata": {},
     "output_type": "execute_result"
    }
   ],
   "source": [
    "# Calculate frequent itemsets using Apriori algorithm\n",
    "frequent_itemsets = apriori(transactions, min_support=0.005, use_colnames=True)\n",
    "\n",
    "frequent_itemsets"
   ]
  },
  {
   "cell_type": "code",
   "execution_count": 9,
   "metadata": {},
   "outputs": [
    {
     "data": {
      "text/html": [
       "<div>\n",
       "<style scoped>\n",
       "    .dataframe tbody tr th:only-of-type {\n",
       "        vertical-align: middle;\n",
       "    }\n",
       "\n",
       "    .dataframe tbody tr th {\n",
       "        vertical-align: top;\n",
       "    }\n",
       "\n",
       "    .dataframe thead th {\n",
       "        text-align: right;\n",
       "    }\n",
       "</style>\n",
       "<table border=\"1\" class=\"dataframe\">\n",
       "  <thead>\n",
       "    <tr style=\"text-align: right;\">\n",
       "      <th></th>\n",
       "      <th>antecedents</th>\n",
       "      <th>consequents</th>\n",
       "      <th>antecedent support</th>\n",
       "      <th>consequent support</th>\n",
       "      <th>support</th>\n",
       "      <th>confidence</th>\n",
       "      <th>lift</th>\n",
       "      <th>leverage</th>\n",
       "      <th>conviction</th>\n",
       "      <th>zhangs_metric</th>\n",
       "    </tr>\n",
       "  </thead>\n",
       "  <tbody>\n",
       "    <tr>\n",
       "      <th>0</th>\n",
       "      <td>(Add-on item Sub)</td>\n",
       "      <td>(Chocolate Bar)</td>\n",
       "      <td>0.040132</td>\n",
       "      <td>0.042889</td>\n",
       "      <td>0.005402</td>\n",
       "      <td>0.134615</td>\n",
       "      <td>3.138719</td>\n",
       "      <td>0.003681</td>\n",
       "      <td>1.105995</td>\n",
       "      <td>0.709888</td>\n",
       "    </tr>\n",
       "    <tr>\n",
       "      <th>1</th>\n",
       "      <td>(Chocolate Bar)</td>\n",
       "      <td>(Add-on item Sub)</td>\n",
       "      <td>0.042889</td>\n",
       "      <td>0.040132</td>\n",
       "      <td>0.005402</td>\n",
       "      <td>0.125964</td>\n",
       "      <td>3.138719</td>\n",
       "      <td>0.003681</td>\n",
       "      <td>1.098202</td>\n",
       "      <td>0.711932</td>\n",
       "    </tr>\n",
       "    <tr>\n",
       "      <th>2</th>\n",
       "      <td>(Add-on item Sub)</td>\n",
       "      <td>(Flavored Milk Sub)</td>\n",
       "      <td>0.040132</td>\n",
       "      <td>0.067034</td>\n",
       "      <td>0.012238</td>\n",
       "      <td>0.304945</td>\n",
       "      <td>4.549098</td>\n",
       "      <td>0.009548</td>\n",
       "      <td>1.342291</td>\n",
       "      <td>0.812796</td>\n",
       "    </tr>\n",
       "    <tr>\n",
       "      <th>3</th>\n",
       "      <td>(Flavored Milk Sub)</td>\n",
       "      <td>(Add-on item Sub)</td>\n",
       "      <td>0.067034</td>\n",
       "      <td>0.040132</td>\n",
       "      <td>0.012238</td>\n",
       "      <td>0.182566</td>\n",
       "      <td>4.549098</td>\n",
       "      <td>0.009548</td>\n",
       "      <td>1.174245</td>\n",
       "      <td>0.836232</td>\n",
       "    </tr>\n",
       "    <tr>\n",
       "      <th>4</th>\n",
       "      <td>(Instant Noodles Pack)</td>\n",
       "      <td>(Add-on item Sub)</td>\n",
       "      <td>0.044983</td>\n",
       "      <td>0.040132</td>\n",
       "      <td>0.005843</td>\n",
       "      <td>0.129902</td>\n",
       "      <td>3.236843</td>\n",
       "      <td>0.004038</td>\n",
       "      <td>1.103172</td>\n",
       "      <td>0.723607</td>\n",
       "    </tr>\n",
       "    <tr>\n",
       "      <th>...</th>\n",
       "      <td>...</td>\n",
       "      <td>...</td>\n",
       "      <td>...</td>\n",
       "      <td>...</td>\n",
       "      <td>...</td>\n",
       "      <td>...</td>\n",
       "      <td>...</td>\n",
       "      <td>...</td>\n",
       "      <td>...</td>\n",
       "      <td>...</td>\n",
       "    </tr>\n",
       "    <tr>\n",
       "      <th>125</th>\n",
       "      <td>(Sugar Tea)</td>\n",
       "      <td>(Savoury  Buns)</td>\n",
       "      <td>0.110695</td>\n",
       "      <td>0.078831</td>\n",
       "      <td>0.005954</td>\n",
       "      <td>0.053785</td>\n",
       "      <td>0.682278</td>\n",
       "      <td>-0.002773</td>\n",
       "      <td>0.973530</td>\n",
       "      <td>-0.343678</td>\n",
       "    </tr>\n",
       "    <tr>\n",
       "      <th>126</th>\n",
       "      <td>(Sugar CSD)</td>\n",
       "      <td>(Sugar Tea)</td>\n",
       "      <td>0.058434</td>\n",
       "      <td>0.110695</td>\n",
       "      <td>0.009372</td>\n",
       "      <td>0.160377</td>\n",
       "      <td>1.448827</td>\n",
       "      <td>0.002903</td>\n",
       "      <td>1.059173</td>\n",
       "      <td>0.329012</td>\n",
       "    </tr>\n",
       "    <tr>\n",
       "      <th>127</th>\n",
       "      <td>(Sugar Tea)</td>\n",
       "      <td>(Sugar CSD)</td>\n",
       "      <td>0.110695</td>\n",
       "      <td>0.058434</td>\n",
       "      <td>0.009372</td>\n",
       "      <td>0.084661</td>\n",
       "      <td>1.448827</td>\n",
       "      <td>0.002903</td>\n",
       "      <td>1.028653</td>\n",
       "      <td>0.348347</td>\n",
       "    </tr>\n",
       "    <tr>\n",
       "      <th>128</th>\n",
       "      <td>(WIC/RIC Juice)</td>\n",
       "      <td>(Sugar Tea)</td>\n",
       "      <td>0.027563</td>\n",
       "      <td>0.110695</td>\n",
       "      <td>0.006505</td>\n",
       "      <td>0.236000</td>\n",
       "      <td>2.131992</td>\n",
       "      <td>0.003454</td>\n",
       "      <td>1.164012</td>\n",
       "      <td>0.546005</td>\n",
       "    </tr>\n",
       "    <tr>\n",
       "      <th>129</th>\n",
       "      <td>(Sugar Tea)</td>\n",
       "      <td>(WIC/RIC Juice)</td>\n",
       "      <td>0.110695</td>\n",
       "      <td>0.027563</td>\n",
       "      <td>0.006505</td>\n",
       "      <td>0.058765</td>\n",
       "      <td>2.131992</td>\n",
       "      <td>0.003454</td>\n",
       "      <td>1.033150</td>\n",
       "      <td>0.597045</td>\n",
       "    </tr>\n",
       "  </tbody>\n",
       "</table>\n",
       "<p>130 rows × 10 columns</p>\n",
       "</div>"
      ],
      "text/plain": [
       "                antecedents          consequents  antecedent support   \n",
       "0         (Add-on item Sub)      (Chocolate Bar)            0.040132  \\\n",
       "1           (Chocolate Bar)    (Add-on item Sub)            0.042889   \n",
       "2         (Add-on item Sub)  (Flavored Milk Sub)            0.040132   \n",
       "3       (Flavored Milk Sub)    (Add-on item Sub)            0.067034   \n",
       "4    (Instant Noodles Pack)    (Add-on item Sub)            0.044983   \n",
       "..                      ...                  ...                 ...   \n",
       "125             (Sugar Tea)      (Savoury  Buns)            0.110695   \n",
       "126             (Sugar CSD)          (Sugar Tea)            0.058434   \n",
       "127             (Sugar Tea)          (Sugar CSD)            0.110695   \n",
       "128         (WIC/RIC Juice)          (Sugar Tea)            0.027563   \n",
       "129             (Sugar Tea)      (WIC/RIC Juice)            0.110695   \n",
       "\n",
       "     consequent support   support  confidence      lift  leverage  conviction   \n",
       "0              0.042889  0.005402    0.134615  3.138719  0.003681    1.105995  \\\n",
       "1              0.040132  0.005402    0.125964  3.138719  0.003681    1.098202   \n",
       "2              0.067034  0.012238    0.304945  4.549098  0.009548    1.342291   \n",
       "3              0.040132  0.012238    0.182566  4.549098  0.009548    1.174245   \n",
       "4              0.040132  0.005843    0.129902  3.236843  0.004038    1.103172   \n",
       "..                  ...       ...         ...       ...       ...         ...   \n",
       "125            0.078831  0.005954    0.053785  0.682278 -0.002773    0.973530   \n",
       "126            0.110695  0.009372    0.160377  1.448827  0.002903    1.059173   \n",
       "127            0.058434  0.009372    0.084661  1.448827  0.002903    1.028653   \n",
       "128            0.110695  0.006505    0.236000  2.131992  0.003454    1.164012   \n",
       "129            0.027563  0.006505    0.058765  2.131992  0.003454    1.033150   \n",
       "\n",
       "     zhangs_metric  \n",
       "0         0.709888  \n",
       "1         0.711932  \n",
       "2         0.812796  \n",
       "3         0.836232  \n",
       "4         0.723607  \n",
       "..             ...  \n",
       "125      -0.343678  \n",
       "126       0.329012  \n",
       "127       0.348347  \n",
       "128       0.546005  \n",
       "129       0.597045  \n",
       "\n",
       "[130 rows x 10 columns]"
      ]
     },
     "execution_count": 9,
     "metadata": {},
     "output_type": "execute_result"
    }
   ],
   "source": [
    "# 1. Support: It is the total number of transactions made for a particular product divided by the total number of transactions made. Zero represents no support while one represents the highest support. \n",
    "# Higher the value of support, the greater the importance of the itemset in the data.\n",
    "\n",
    "# support(A⇒ B) =P(A ∪ B)\n",
    "\n",
    "# Support (Books) = Freq (Books)/Total transactions made\n",
    "\n",
    "# Support (Books) = 6/100 = 0.06%\n",
    "\n",
    "# 2. Confidence: It is the ratio of combined transactions to individual transactions.\n",
    "\n",
    "# confidence(A⇒ B) =P(B|A)\n",
    "\n",
    "# Confidence (Books) = Combined transactions/Individual transaction\n",
    "\n",
    "# Confidence (Books) = 0.06/0.08 = 0.75\n",
    "\n",
    "# 3. Lift: It is the ratio of the confidence percent to the support percent.\n",
    "\n",
    "# Lift = 0.75/0.10 = 7.5\n",
    "\n",
    "# If the value of lift < 1, the combination is not bought by consumers frequently.\n",
    "# If the value of lift >1, the combination is brought frequently by the consumers.\n",
    "# If the value of lift = 1, then the purchase of antecedent makes no difference on the consequent.\n",
    "\n",
    "# 4. Zhang Metric\n",
    "# -1 to 1\n",
    "# The Zhang Metric is a metric that ranges from -1 to 1 to represent both positive association and perfect disassociation. \n",
    "# This is a useful metric if there are specific items that you should never put next to each other, even though they have been purchased previously.\n",
    "\n",
    "# Generate association rules from the frequent itemsets\n",
    "\n",
    "\n",
    "rules = association_rules(frequent_itemsets, metric=\"lift\", min_threshold=0)\n",
    "rules"
   ]
  },
  {
   "cell_type": "code",
   "execution_count": 10,
   "metadata": {},
   "outputs": [
    {
     "data": {
      "text/html": [
       "<div>\n",
       "<style scoped>\n",
       "    .dataframe tbody tr th:only-of-type {\n",
       "        vertical-align: middle;\n",
       "    }\n",
       "\n",
       "    .dataframe tbody tr th {\n",
       "        vertical-align: top;\n",
       "    }\n",
       "\n",
       "    .dataframe thead th {\n",
       "        text-align: right;\n",
       "    }\n",
       "</style>\n",
       "<table border=\"1\" class=\"dataframe\">\n",
       "  <thead>\n",
       "    <tr style=\"text-align: right;\">\n",
       "      <th></th>\n",
       "      <th>antecedents</th>\n",
       "      <th>consequents</th>\n",
       "      <th>antecedent support</th>\n",
       "      <th>consequent support</th>\n",
       "      <th>support</th>\n",
       "      <th>confidence</th>\n",
       "      <th>lift</th>\n",
       "      <th>leverage</th>\n",
       "      <th>conviction</th>\n",
       "      <th>zhangs_metric</th>\n",
       "    </tr>\n",
       "  </thead>\n",
       "  <tbody>\n",
       "    <tr>\n",
       "      <th>0</th>\n",
       "      <td>(Add-on item Sub)</td>\n",
       "      <td>(Chocolate Bar)</td>\n",
       "      <td>0.040132</td>\n",
       "      <td>0.042889</td>\n",
       "      <td>0.005402</td>\n",
       "      <td>0.134615</td>\n",
       "      <td>3.138719</td>\n",
       "      <td>0.003681</td>\n",
       "      <td>1.149313</td>\n",
       "      <td>0.709888</td>\n",
       "    </tr>\n",
       "    <tr>\n",
       "      <th>1</th>\n",
       "      <td>(Chocolate Bar)</td>\n",
       "      <td>(Add-on item Sub)</td>\n",
       "      <td>0.042889</td>\n",
       "      <td>0.040132</td>\n",
       "      <td>0.005402</td>\n",
       "      <td>0.125964</td>\n",
       "      <td>3.138719</td>\n",
       "      <td>0.003681</td>\n",
       "      <td>1.137937</td>\n",
       "      <td>0.711932</td>\n",
       "    </tr>\n",
       "    <tr>\n",
       "      <th>2</th>\n",
       "      <td>(Add-on item Sub)</td>\n",
       "      <td>(Flavored Milk Sub)</td>\n",
       "      <td>0.040132</td>\n",
       "      <td>0.067034</td>\n",
       "      <td>0.012238</td>\n",
       "      <td>0.304945</td>\n",
       "      <td>4.549098</td>\n",
       "      <td>0.009548</td>\n",
       "      <td>1.421128</td>\n",
       "      <td>0.812796</td>\n",
       "    </tr>\n",
       "    <tr>\n",
       "      <th>3</th>\n",
       "      <td>(Flavored Milk Sub)</td>\n",
       "      <td>(Add-on item Sub)</td>\n",
       "      <td>0.067034</td>\n",
       "      <td>0.040132</td>\n",
       "      <td>0.012238</td>\n",
       "      <td>0.182566</td>\n",
       "      <td>4.549098</td>\n",
       "      <td>0.009548</td>\n",
       "      <td>1.208369</td>\n",
       "      <td>0.836232</td>\n",
       "    </tr>\n",
       "    <tr>\n",
       "      <th>4</th>\n",
       "      <td>(Instant Noodles Pack)</td>\n",
       "      <td>(Add-on item Sub)</td>\n",
       "      <td>0.044983</td>\n",
       "      <td>0.040132</td>\n",
       "      <td>0.005843</td>\n",
       "      <td>0.129902</td>\n",
       "      <td>3.236843</td>\n",
       "      <td>0.004038</td>\n",
       "      <td>1.142580</td>\n",
       "      <td>0.723607</td>\n",
       "    </tr>\n",
       "    <tr>\n",
       "      <th>...</th>\n",
       "      <td>...</td>\n",
       "      <td>...</td>\n",
       "      <td>...</td>\n",
       "      <td>...</td>\n",
       "      <td>...</td>\n",
       "      <td>...</td>\n",
       "      <td>...</td>\n",
       "      <td>...</td>\n",
       "      <td>...</td>\n",
       "      <td>...</td>\n",
       "    </tr>\n",
       "    <tr>\n",
       "      <th>125</th>\n",
       "      <td>(Sugar Tea)</td>\n",
       "      <td>(Savoury  Buns)</td>\n",
       "      <td>0.110695</td>\n",
       "      <td>0.078831</td>\n",
       "      <td>0.005954</td>\n",
       "      <td>0.053785</td>\n",
       "      <td>0.682278</td>\n",
       "      <td>-0.002773</td>\n",
       "      <td>1.050550</td>\n",
       "      <td>-0.343678</td>\n",
       "    </tr>\n",
       "    <tr>\n",
       "      <th>126</th>\n",
       "      <td>(Sugar CSD)</td>\n",
       "      <td>(Sugar Tea)</td>\n",
       "      <td>0.058434</td>\n",
       "      <td>0.110695</td>\n",
       "      <td>0.009372</td>\n",
       "      <td>0.160377</td>\n",
       "      <td>1.448827</td>\n",
       "      <td>0.002903</td>\n",
       "      <td>1.179850</td>\n",
       "      <td>0.329012</td>\n",
       "    </tr>\n",
       "    <tr>\n",
       "      <th>127</th>\n",
       "      <td>(Sugar Tea)</td>\n",
       "      <td>(Sugar CSD)</td>\n",
       "      <td>0.110695</td>\n",
       "      <td>0.058434</td>\n",
       "      <td>0.009372</td>\n",
       "      <td>0.084661</td>\n",
       "      <td>1.448827</td>\n",
       "      <td>0.002903</td>\n",
       "      <td>1.082253</td>\n",
       "      <td>0.348347</td>\n",
       "    </tr>\n",
       "    <tr>\n",
       "      <th>128</th>\n",
       "      <td>(WIC/RIC Juice)</td>\n",
       "      <td>(Sugar Tea)</td>\n",
       "      <td>0.027563</td>\n",
       "      <td>0.110695</td>\n",
       "      <td>0.006505</td>\n",
       "      <td>0.236000</td>\n",
       "      <td>2.131992</td>\n",
       "      <td>0.003454</td>\n",
       "      <td>1.300386</td>\n",
       "      <td>0.546005</td>\n",
       "    </tr>\n",
       "    <tr>\n",
       "      <th>129</th>\n",
       "      <td>(Sugar Tea)</td>\n",
       "      <td>(WIC/RIC Juice)</td>\n",
       "      <td>0.110695</td>\n",
       "      <td>0.027563</td>\n",
       "      <td>0.006505</td>\n",
       "      <td>0.058765</td>\n",
       "      <td>2.131992</td>\n",
       "      <td>0.003454</td>\n",
       "      <td>1.055523</td>\n",
       "      <td>0.597045</td>\n",
       "    </tr>\n",
       "  </tbody>\n",
       "</table>\n",
       "<p>130 rows × 10 columns</p>\n",
       "</div>"
      ],
      "text/plain": [
       "                antecedents          consequents  antecedent support   \n",
       "0         (Add-on item Sub)      (Chocolate Bar)            0.040132  \\\n",
       "1           (Chocolate Bar)    (Add-on item Sub)            0.042889   \n",
       "2         (Add-on item Sub)  (Flavored Milk Sub)            0.040132   \n",
       "3       (Flavored Milk Sub)    (Add-on item Sub)            0.067034   \n",
       "4    (Instant Noodles Pack)    (Add-on item Sub)            0.044983   \n",
       "..                      ...                  ...                 ...   \n",
       "125             (Sugar Tea)      (Savoury  Buns)            0.110695   \n",
       "126             (Sugar CSD)          (Sugar Tea)            0.058434   \n",
       "127             (Sugar Tea)          (Sugar CSD)            0.110695   \n",
       "128         (WIC/RIC Juice)          (Sugar Tea)            0.027563   \n",
       "129             (Sugar Tea)      (WIC/RIC Juice)            0.110695   \n",
       "\n",
       "     consequent support   support  confidence      lift  leverage  conviction   \n",
       "0              0.042889  0.005402    0.134615  3.138719  0.003681    1.149313  \\\n",
       "1              0.040132  0.005402    0.125964  3.138719  0.003681    1.137937   \n",
       "2              0.067034  0.012238    0.304945  4.549098  0.009548    1.421128   \n",
       "3              0.040132  0.012238    0.182566  4.549098  0.009548    1.208369   \n",
       "4              0.040132  0.005843    0.129902  3.236843  0.004038    1.142580   \n",
       "..                  ...       ...         ...       ...       ...         ...   \n",
       "125            0.078831  0.005954    0.053785  0.682278 -0.002773    1.050550   \n",
       "126            0.110695  0.009372    0.160377  1.448827  0.002903    1.179850   \n",
       "127            0.058434  0.009372    0.084661  1.448827  0.002903    1.082253   \n",
       "128            0.110695  0.006505    0.236000  2.131992  0.003454    1.300386   \n",
       "129            0.027563  0.006505    0.058765  2.131992  0.003454    1.055523   \n",
       "\n",
       "     zhangs_metric  \n",
       "0         0.709888  \n",
       "1         0.711932  \n",
       "2         0.812796  \n",
       "3         0.836232  \n",
       "4         0.723607  \n",
       "..             ...  \n",
       "125      -0.343678  \n",
       "126       0.329012  \n",
       "127       0.348347  \n",
       "128       0.546005  \n",
       "129       0.597045  \n",
       "\n",
       "[130 rows x 10 columns]"
      ]
     },
     "execution_count": 10,
     "metadata": {},
     "output_type": "execute_result"
    }
   ],
   "source": [
    "rules['conviction'] = (1 - rules['support']) / (1 - rules['confidence'])\n",
    "\n",
    "rules"
   ]
  },
  {
   "cell_type": "code",
   "execution_count": 11,
   "metadata": {},
   "outputs": [
    {
     "data": {
      "application/vnd.plotly.v1+json": {
       "config": {
        "plotlyServerURL": "https://plot.ly"
       },
       "data": [
        {
         "customdata": [
          [
           [
            "Add-on item Sub"
           ],
           [
            "Chocolate Bar"
           ]
          ],
          [
           [
            "Chocolate Bar"
           ],
           [
            "Add-on item Sub"
           ]
          ],
          [
           [
            "Add-on item Sub"
           ],
           [
            "Flavored Milk Sub"
           ]
          ],
          [
           [
            "Flavored Milk Sub"
           ],
           [
            "Add-on item Sub"
           ]
          ],
          [
           [
            "Instant Noodles Pack"
           ],
           [
            "Add-on item Sub"
           ]
          ],
          [
           [
            "Add-on item Sub"
           ],
           [
            "Instant Noodles Pack"
           ]
          ],
          [
           [
            "Sugar CSD"
           ],
           [
            "Add-on item Sub"
           ]
          ],
          [
           [
            "Add-on item Sub"
           ],
           [
            "Sugar CSD"
           ]
          ],
          [
           [
            "Add-on item Sub"
           ],
           [
            "Sugar Tea"
           ]
          ],
          [
           [
            "Sugar Tea"
           ],
           [
            "Add-on item Sub"
           ]
          ],
          [
           [
            "Chocolate Bar"
           ],
           [
            "Flavored Milk Sub"
           ]
          ],
          [
           [
            "Flavored Milk Sub"
           ],
           [
            "Chocolate Bar"
           ]
          ],
          [
           [
            "Cup Of Ice"
           ],
           [
            "Coffee Drinks Sub"
           ]
          ],
          [
           [
            "Coffee Drinks Sub"
           ],
           [
            "Cup Of Ice"
           ]
          ],
          [
           [
            "Other Cuisine Sub"
           ],
           [
            "Cup"
           ]
          ],
          [
           [
            "Cup"
           ],
           [
            "Other Cuisine Sub"
           ]
          ],
          [
           [
            "Energy Drinks Sub"
           ],
           [
            "Cup Of Ice"
           ]
          ],
          [
           [
            "Cup Of Ice"
           ],
           [
            "Energy Drinks Sub"
           ]
          ],
          [
           [
            "No/Less Sugar CSD"
           ],
           [
            "Cup Of Ice"
           ]
          ],
          [
           [
            "Cup Of Ice"
           ],
           [
            "No/Less Sugar CSD"
           ]
          ],
          [
           [
            "Other Cuisine Sub"
           ],
           [
            "Cup Of Ice"
           ]
          ],
          [
           [
            "Cup Of Ice"
           ],
           [
            "Other Cuisine Sub"
           ]
          ],
          [
           [
            "Sugar CSD"
           ],
           [
            "Cup Of Ice"
           ]
          ],
          [
           [
            "Cup Of Ice"
           ],
           [
            "Sugar CSD"
           ]
          ],
          [
           [
            "Cup Of Ice"
           ],
           [
            "Sugar Tea"
           ]
          ],
          [
           [
            "Sugar Tea"
           ],
           [
            "Cup Of Ice"
           ]
          ],
          [
           [
            "Drink"
           ],
           [
            "Flavored Milk Sub"
           ]
          ],
          [
           [
            "Flavored Milk Sub"
           ],
           [
            "Drink"
           ]
          ],
          [
           [
            "Onigiri"
           ],
           [
            "Drink"
           ]
          ],
          [
           [
            "Drink"
           ],
           [
            "Onigiri"
           ]
          ],
          [
           [
            "Other Cuisine Sub"
           ],
           [
            "Drink"
           ]
          ],
          [
           [
            "Drink"
           ],
           [
            "Other Cuisine Sub"
           ]
          ],
          [
           [
            "Packaged bakery"
           ],
           [
            "Drink"
           ]
          ],
          [
           [
            "Drink"
           ],
           [
            "Packaged bakery"
           ]
          ],
          [
           [
            "Drink"
           ],
           [
            "Savoury  Buns"
           ]
          ],
          [
           [
            "Savoury  Buns"
           ],
           [
            "Drink"
           ]
          ],
          [
           [
            "Energy Drinks Sub"
           ],
           [
            "Purified water"
           ]
          ],
          [
           [
            "Purified water"
           ],
           [
            "Energy Drinks Sub"
           ]
          ],
          [
           [
            "Energy Drinks Sub"
           ],
           [
            "Savoury  Buns"
           ]
          ],
          [
           [
            "Savoury  Buns"
           ],
           [
            "Energy Drinks Sub"
           ]
          ],
          [
           [
            "Energy Drinks Sub"
           ],
           [
            "Sugar CSD"
           ]
          ],
          [
           [
            "Sugar CSD"
           ],
           [
            "Energy Drinks Sub"
           ]
          ],
          [
           [
            "Energy Drinks Sub"
           ],
           [
            "Sugar Tea"
           ]
          ],
          [
           [
            "Sugar Tea"
           ],
           [
            "Energy Drinks Sub"
           ]
          ],
          [
           [
            "Onigiri"
           ],
           [
            "Flavored Milk Sub"
           ]
          ],
          [
           [
            "Flavored Milk Sub"
           ],
           [
            "Onigiri"
           ]
          ],
          [
           [
            "Packaged bakery"
           ],
           [
            "Flavored Milk Sub"
           ]
          ],
          [
           [
            "Flavored Milk Sub"
           ],
           [
            "Packaged bakery"
           ]
          ],
          [
           [
            "Purified water"
           ],
           [
            "Flavored Milk Sub"
           ]
          ],
          [
           [
            "Flavored Milk Sub"
           ],
           [
            "Purified water"
           ]
          ],
          [
           [
            "Savoury  Buns"
           ],
           [
            "Flavored Milk Sub"
           ]
          ],
          [
           [
            "Flavored Milk Sub"
           ],
           [
            "Savoury  Buns"
           ]
          ],
          [
           [
            "Sugar Tea"
           ],
           [
            "Flavored Milk Sub"
           ]
          ],
          [
           [
            "Flavored Milk Sub"
           ],
           [
            "Sugar Tea"
           ]
          ],
          [
           [
            "Fried Food Sub"
           ],
           [
            "Onigiri"
           ]
          ],
          [
           [
            "Onigiri"
           ],
           [
            "Fried Food Sub"
           ]
          ],
          [
           [
            "Other Cuisine Sub"
           ],
           [
            "Fried Food Sub"
           ]
          ],
          [
           [
            "Fried Food Sub"
           ],
           [
            "Other Cuisine Sub"
           ]
          ],
          [
           [
            "Onigiri"
           ],
           [
            "Fruit Sub"
           ]
          ],
          [
           [
            "Fruit Sub"
           ],
           [
            "Onigiri"
           ]
          ],
          [
           [
            "Other Cuisine Sub"
           ],
           [
            "Fruit Sub"
           ]
          ],
          [
           [
            "Fruit Sub"
           ],
           [
            "Other Cuisine Sub"
           ]
          ],
          [
           [
            "Fruit Sub"
           ],
           [
            "Savoury  Buns"
           ]
          ],
          [
           [
            "Savoury  Buns"
           ],
           [
            "Fruit Sub"
           ]
          ],
          [
           [
            "Instant Noodles Pack"
           ],
           [
            "Hot pot Thai"
           ]
          ],
          [
           [
            "Hot pot Thai"
           ],
           [
            "Instant Noodles Pack"
           ]
          ],
          [
           [
            "Instant Noodles Cup"
           ],
           [
            "Instant Noodles Bowl"
           ]
          ],
          [
           [
            "Instant Noodles Bowl"
           ],
           [
            "Instant Noodles Cup"
           ]
          ],
          [
           [
            "Instant Noodles Pack"
           ],
           [
            "Instant Noodles Bowl"
           ]
          ],
          [
           [
            "Instant Noodles Bowl"
           ],
           [
            "Instant Noodles Pack"
           ]
          ],
          [
           [
            "Instant Noodles Bowl"
           ],
           [
            "Sugar Tea"
           ]
          ],
          [
           [
            "Sugar Tea"
           ],
           [
            "Instant Noodles Bowl"
           ]
          ],
          [
           [
            "Instant Noodles Pack"
           ],
           [
            "Instant Noodles Cup"
           ]
          ],
          [
           [
            "Instant Noodles Cup"
           ],
           [
            "Instant Noodles Pack"
           ]
          ],
          [
           [
            "Instant Noodles Cup"
           ],
           [
            "Instant Sausage"
           ]
          ],
          [
           [
            "Instant Sausage"
           ],
           [
            "Instant Noodles Cup"
           ]
          ],
          [
           [
            "Other Cuisine Sub"
           ],
           [
            "Instant Noodles Cup"
           ]
          ],
          [
           [
            "Instant Noodles Cup"
           ],
           [
            "Other Cuisine Sub"
           ]
          ],
          [
           [
            "Instant Noodles Cup"
           ],
           [
            "Purified water"
           ]
          ],
          [
           [
            "Purified water"
           ],
           [
            "Instant Noodles Cup"
           ]
          ],
          [
           [
            "Sugar CSD"
           ],
           [
            "Instant Noodles Cup"
           ]
          ],
          [
           [
            "Instant Noodles Cup"
           ],
           [
            "Sugar CSD"
           ]
          ],
          [
           [
            "Instant Noodles Cup"
           ],
           [
            "Sugar Tea"
           ]
          ],
          [
           [
            "Sugar Tea"
           ],
           [
            "Instant Noodles Cup"
           ]
          ],
          [
           [
            "Instant Noodles Pack"
           ],
           [
            "Instant Sausage"
           ]
          ],
          [
           [
            "Instant Sausage"
           ],
           [
            "Instant Noodles Pack"
           ]
          ],
          [
           [
            "Sugar CSD"
           ],
           [
            "No/Less Sugar CSD"
           ]
          ],
          [
           [
            "No/Less Sugar CSD"
           ],
           [
            "Sugar CSD"
           ]
          ],
          [
           [
            "Other Cuisine Sub"
           ],
           [
            "Onigiri"
           ]
          ],
          [
           [
            "Onigiri"
           ],
           [
            "Other Cuisine Sub"
           ]
          ],
          [
           [
            "Onigiri"
           ],
           [
            "Purified water"
           ]
          ],
          [
           [
            "Purified water"
           ],
           [
            "Onigiri"
           ]
          ],
          [
           [
            "Onigiri"
           ],
           [
            "Sandwich"
           ]
          ],
          [
           [
            "Sandwich"
           ],
           [
            "Onigiri"
           ]
          ],
          [
           [
            "Onigiri"
           ],
           [
            "Sugar Tea"
           ]
          ],
          [
           [
            "Sugar Tea"
           ],
           [
            "Onigiri"
           ]
          ],
          [
           [
            "Other Cuisine Sub"
           ],
           [
            "Others Steamed  bun"
           ]
          ],
          [
           [
            "Others Steamed  bun"
           ],
           [
            "Other Cuisine Sub"
           ]
          ],
          [
           [
            "Other Cuisine Sub"
           ],
           [
            "Savoury  Buns"
           ]
          ],
          [
           [
            "Savoury  Buns"
           ],
           [
            "Other Cuisine Sub"
           ]
          ],
          [
           [
            "Other Cuisine Sub"
           ],
           [
            "Sugar Tea"
           ]
          ],
          [
           [
            "Sugar Tea"
           ],
           [
            "Other Cuisine Sub"
           ]
          ],
          [
           [
            "Stick"
           ],
           [
            "Other Ice Cream"
           ]
          ],
          [
           [
            "Other Ice Cream"
           ],
           [
            "Stick"
           ]
          ],
          [
           [
            "Others Steamed  bun"
           ],
           [
            "Savoury  Buns"
           ]
          ],
          [
           [
            "Savoury  Buns"
           ],
           [
            "Others Steamed  bun"
           ]
          ],
          [
           [
            "Packaged bakery"
           ],
           [
            "Savoury  Buns"
           ]
          ],
          [
           [
            "Savoury  Buns"
           ],
           [
            "Packaged bakery"
           ]
          ],
          [
           [
            "Packaged bakery"
           ],
           [
            "Sugar Tea"
           ]
          ],
          [
           [
            "Sugar Tea"
           ],
           [
            "Packaged bakery"
           ]
          ],
          [
           [
            "Packaged bakery"
           ],
           [
            "UHT Milk"
           ]
          ],
          [
           [
            "UHT Milk"
           ],
           [
            "Packaged bakery"
           ]
          ],
          [
           [
            "Potato Snacks"
           ],
           [
            "Purified water"
           ]
          ],
          [
           [
            "Purified water"
           ],
           [
            "Potato Snacks"
           ]
          ],
          [
           [
            "Salty Snacks"
           ],
           [
            "Potato Snacks"
           ]
          ],
          [
           [
            "Potato Snacks"
           ],
           [
            "Salty Snacks"
           ]
          ],
          [
           [
            "Sugar CSD"
           ],
           [
            "Potato Snacks"
           ]
          ],
          [
           [
            "Potato Snacks"
           ],
           [
            "Sugar CSD"
           ]
          ],
          [
           [
            "Potato Snacks"
           ],
           [
            "Sugar Tea"
           ]
          ],
          [
           [
            "Sugar Tea"
           ],
           [
            "Potato Snacks"
           ]
          ],
          [
           [
            "Sugar CSD"
           ],
           [
            "Purified water"
           ]
          ],
          [
           [
            "Purified water"
           ],
           [
            "Sugar CSD"
           ]
          ],
          [
           [
            "Purified water"
           ],
           [
            "Sugar Tea"
           ]
          ],
          [
           [
            "Sugar Tea"
           ],
           [
            "Purified water"
           ]
          ],
          [
           [
            "Savoury  Buns"
           ],
           [
            "Sugar Tea"
           ]
          ],
          [
           [
            "Sugar Tea"
           ],
           [
            "Savoury  Buns"
           ]
          ],
          [
           [
            "Sugar CSD"
           ],
           [
            "Sugar Tea"
           ]
          ],
          [
           [
            "Sugar Tea"
           ],
           [
            "Sugar CSD"
           ]
          ],
          [
           [
            "WIC/RIC Juice"
           ],
           [
            "Sugar Tea"
           ]
          ],
          [
           [
            "Sugar Tea"
           ],
           [
            "WIC/RIC Juice"
           ]
          ]
         ],
         "hovertemplate": "support=%{x}<br>confidence=%{y}<br>lift=%{marker.size}<br>antecedents=%{customdata[0]}<br>consequents=%{customdata[1]}<extra></extra>",
         "legendgroup": "",
         "marker": {
          "color": "#636efa",
          "size": [
           3.138718607870279,
           3.138718607870279,
           4.549098105841527,
           4.5490981058415265,
           3.2368428140486967,
           3.2368428140486967,
           2.397729628861704,
           2.3977296288617045,
           1.7124633334792696,
           1.7124633334792696,
           2.147544310648086,
           2.1475443106480854,
           2.3534753981382375,
           2.3534753981382375,
           1.672443054599096,
           1.672443054599096,
           3.434968009293145,
           3.4349680092931454,
           2.3065399913377598,
           2.3065399913377598,
           0.6601135069059193,
           0.6601135069059193,
           2.3390437093760688,
           2.3390437093760688,
           1.600140581328799,
           1.600140581328799,
           1.479697155337737,
           1.4796971553377372,
           1.5300269905533066,
           1.5300269905533066,
           1.1145244531826002,
           1.1145244531826002,
           1.460127280324983,
           1.460127280324983,
           1.2582599586648169,
           1.258259958664817,
           0.7314204507415996,
           0.7314204507415996,
           0.9439463930325549,
           0.943946393032555,
           1.0947090989703927,
           1.0947090989703925,
           1.0260394453517523,
           1.0260394453517523,
           1.2852875037169196,
           1.2852875037169196,
           1.665943093775047,
           1.665943093775047,
           0.9214935284014231,
           0.9214935284014231,
           1.168384247331616,
           1.1683842473316157,
           0.8023498112811911,
           0.802349811281191,
           1.2757577888740417,
           1.2757577888740417,
           2.7254207928448646,
           2.7254207928448646,
           1.6045768418649777,
           1.6045768418649775,
           1.6781661126709053,
           1.678166112670905,
           1.8195097831461469,
           1.8195097831461473,
           3.6189010487916096,
           3.6189010487916096,
           2.358444947264698,
           2.358444947264698,
           2.9561691697955776,
           2.956169169795577,
           1.201311774179876,
           1.201311774179876,
           1.7540275115191877,
           1.7540275115191875,
           7.004544235162138,
           7.004544235162138,
           0.8449739422070485,
           0.8449739422070485,
           1.03353764588756,
           1.03353764588756,
           1.3796239360497105,
           1.3796239360497105,
           1.208647400107973,
           1.208647400107973,
           6.1107239104172475,
           6.110723910417248,
           2.340267698758265,
           2.3402676987582645,
           0.9686497836982488,
           0.9686497836982488,
           0.8659937049767559,
           0.8659937049767559,
           2.190125563979413,
           2.1901255639794126,
           0.9824965674027055,
           0.9824965674027055,
           2.188415202342918,
           2.188415202342918,
           1.540070153488684,
           1.540070153488684,
           0.5483815536575742,
           0.5483815536575742,
           10.722142269736842,
           10.72214226973684,
           2.4115311771561774,
           2.4115311771561774,
           0.9873510584170485,
           0.9873510584170485,
           0.7490006134514396,
           0.7490006134514396,
           2.085600242960649,
           2.0856002429606493,
           1.4001451087543804,
           1.4001451087543804,
           3.827749642903519,
           3.827749642903519,
           1.9266525053105084,
           1.9266525053105086,
           1.1765960440797516,
           1.1765960440797516,
           0.9573822404011083,
           0.9573822404011082,
           0.8633763315038215,
           0.8633763315038215,
           0.6822778814810687,
           0.6822778814810687,
           1.448827332180711,
           1.448827332180711,
           2.1319920318725103,
           2.1319920318725103
          ],
          "sizemode": "area",
          "sizeref": 0.026805355674342106,
          "symbol": "circle"
         },
         "mode": "markers",
         "name": "",
         "orientation": "v",
         "showlegend": false,
         "type": "scatter",
         "x": [
          0.005402425578831312,
          0.005402425578831312,
          0.012238147739801544,
          0.012238147739801544,
          0.005843439911797133,
          0.005843439911797133,
          0.005622932745314222,
          0.005622932745314222,
          0.007607497243660419,
          0.007607497243660419,
          0.006174200661521499,
          0.006174200661521499,
          0.006174200661521499,
          0.006174200661521499,
          0.005402425578831312,
          0.005402425578831312,
          0.02293274531422271,
          0.02293274531422271,
          0.0070562293274531425,
          0.0070562293274531425,
          0.005402425578831312,
          0.005402425578831312,
          0.010804851157662623,
          0.010804851157662623,
          0.014002205071664829,
          0.014002205071664829,
          0.005402425578831312,
          0.005402425578831312,
          0.0065049614112458656,
          0.0065049614112458656,
          0.006284454244762955,
          0.006284454244762955,
          0.005181918412348402,
          0.005181918412348402,
          0.005402425578831312,
          0.005402425578831312,
          0.005843439911797133,
          0.005843439911797133,
          0.006284454244762955,
          0.006284454244762955,
          0.005402425578831312,
          0.005402425578831312,
          0.009592061742006615,
          0.009592061742006615,
          0.006725468577728776,
          0.006725468577728776,
          0.007276736493936053,
          0.007276736493936053,
          0.005843439911797133,
          0.005843439911797133,
          0.006174200661521499,
          0.006174200661521499,
          0.005953693495038589,
          0.005953693495038589,
          0.005292171995589856,
          0.005292171995589856,
          0.014994487320837926,
          0.014994487320837926,
          0.006835722160970232,
          0.006835722160970232,
          0.00948180815876516,
          0.00948180815876516,
          0.00782800441014333,
          0.00782800441014333,
          0.005402425578831312,
          0.005402425578831312,
          0.006284454244762955,
          0.006284454244762955,
          0.005512679162072767,
          0.005512679162072767,
          0.005512679162072767,
          0.005512679162072767,
          0.005071664829106946,
          0.005071664829106946,
          0.010474090407938258,
          0.010474090407938258,
          0.005622932745314222,
          0.005622932745314222,
          0.006284454244762955,
          0.006284454244762955,
          0.005181918412348402,
          0.005181918412348402,
          0.008599779492833517,
          0.008599779492833517,
          0.00639470782800441,
          0.00639470782800441,
          0.005292171995589856,
          0.005292171995589856,
          0.00782800441014333,
          0.00782800441014333,
          0.00639470782800441,
          0.00639470782800441,
          0.008048511576626241,
          0.008048511576626241,
          0.008489525909592061,
          0.008489525909592061,
          0.009592061742006615,
          0.009592061742006615,
          0.01256890848952591,
          0.01256890848952591,
          0.006284454244762955,
          0.006284454244762955,
          0.005071664829106946,
          0.005071664829106946,
          0.008048511576626241,
          0.008048511576626241,
          0.005071664829106946,
          0.005071664829106946,
          0.005402425578831312,
          0.005402425578831312,
          0.005843439911797133,
          0.005843439911797133,
          0.006615214994487321,
          0.006615214994487321,
          0.008599779492833517,
          0.008599779492833517,
          0.005622932745314222,
          0.005622932745314222,
          0.0065049614112458656,
          0.0065049614112458656,
          0.005292171995589856,
          0.005292171995589856,
          0.009040793825799339,
          0.009040793825799339,
          0.005953693495038589,
          0.005953693495038589,
          0.009371554575523704,
          0.009371554575523704,
          0.0065049614112458656,
          0.0065049614112458656
         ],
         "xaxis": "x",
         "y": [
          0.1346153846153846,
          0.12596401028277635,
          0.30494505494505497,
          0.1825657894736842,
          0.12990196078431374,
          0.14560439560439561,
          0.09622641509433962,
          0.1401098901098901,
          0.18956043956043955,
          0.06872509960159362,
          0.14395886889460155,
          0.09210526315789473,
          0.07810320781032078,
          0.18604651162790697,
          0.05218317358892439,
          0.17314487632508832,
          0.2715404699738903,
          0.2900976290097629,
          0.18233618233618235,
          0.08926080892608089,
          0.05218317358892439,
          0.06834030683403067,
          0.18490566037735848,
          0.13668061366806133,
          0.17712691771269176,
          0.12649402390438247,
          0.09919028340080971,
          0.0805921052631579,
          0.08333333333333334,
          0.1194331983805668,
          0.06070287539936103,
          0.11538461538461539,
          0.07952622673434857,
          0.09514170040485831,
          0.09919028340080971,
          0.06853146853146853,
          0.06919060052219321,
          0.06177156177156177,
          0.07441253263707572,
          0.07972027972027973,
          0.0639686684073107,
          0.09245283018867924,
          0.11357702349869452,
          0.08665338645418326,
          0.08615819209039549,
          0.10032894736842106,
          0.11167512690355332,
          0.10855263157894737,
          0.06177156177156177,
          0.08717105263157894,
          0.07832167832167833,
          0.09210526315789473,
          0.053784860557768925,
          0.08881578947368421,
          0.0995850622406639,
          0.06779661016949153,
          0.1448349307774228,
          0.2821576763485477,
          0.08757062146892657,
          0.12525252525252525,
          0.09158679446219384,
          0.17373737373737375,
          0.14343434343434344,
          0.09930069930069932,
          0.12009803921568628,
          0.1627906976744186,
          0.09777015437392796,
          0.15159574468085105,
          0.12254901960784313,
          0.1329787234042553,
          0.1329787234042553,
          0.049800796812749,
          0.1127450980392157,
          0.07890222984562607,
          0.16295025728987994,
          0.4502369668246446,
          0.054313099041533544,
          0.08747855917667238,
          0.09777015437392796,
          0.06643356643356643,
          0.08867924528301888,
          0.08061749571183534,
          0.13379073756432247,
          0.07768924302788845,
          0.14215686274509803,
          0.27488151658767773,
          0.09056603773584905,
          0.13675213675213674,
          0.07561235356762515,
          0.10028248587570623,
          0.08192090395480227,
          0.0675990675990676,
          0.10310734463276838,
          0.17096018735363,
          0.10875706214689265,
          0.07669322709163345,
          0.0926517571884984,
          0.2265625,
          0.12140575079872205,
          0.15944055944055946,
          0.06070287539936103,
          0.05677290836653386,
          0.1796875,
          0.3026315789473684,
          0.19010416666666669,
          0.10209790209790211,
          0.07783417935702201,
          0.06433566433566434,
          0.0829103214890017,
          0.04880478087649402,
          0.08967851099830795,
          0.1358974358974359,
          0.13245033112582782,
          0.06993006993006994,
          0.1911764705882353,
          0.17218543046357615,
          0.09622641509433962,
          0.11258278145695363,
          0.13024282560706402,
          0.05876494023904383,
          0.09056603773584905,
          0.05594405594405594,
          0.09557109557109557,
          0.08167330677290836,
          0.07552447552447553,
          0.053784860557768925,
          0.16037735849056603,
          0.0846613545816733,
          0.23600000000000002,
          0.05876494023904383
         ],
         "yaxis": "y"
        }
       ],
       "layout": {
        "legend": {
         "itemsizing": "constant",
         "tracegroupgap": 0
        },
        "margin": {
         "t": 60
        },
        "template": {
         "data": {
          "bar": [
           {
            "error_x": {
             "color": "#2a3f5f"
            },
            "error_y": {
             "color": "#2a3f5f"
            },
            "marker": {
             "line": {
              "color": "#E5ECF6",
              "width": 0.5
             },
             "pattern": {
              "fillmode": "overlay",
              "size": 10,
              "solidity": 0.2
             }
            },
            "type": "bar"
           }
          ],
          "barpolar": [
           {
            "marker": {
             "line": {
              "color": "#E5ECF6",
              "width": 0.5
             },
             "pattern": {
              "fillmode": "overlay",
              "size": 10,
              "solidity": 0.2
             }
            },
            "type": "barpolar"
           }
          ],
          "carpet": [
           {
            "aaxis": {
             "endlinecolor": "#2a3f5f",
             "gridcolor": "white",
             "linecolor": "white",
             "minorgridcolor": "white",
             "startlinecolor": "#2a3f5f"
            },
            "baxis": {
             "endlinecolor": "#2a3f5f",
             "gridcolor": "white",
             "linecolor": "white",
             "minorgridcolor": "white",
             "startlinecolor": "#2a3f5f"
            },
            "type": "carpet"
           }
          ],
          "choropleth": [
           {
            "colorbar": {
             "outlinewidth": 0,
             "ticks": ""
            },
            "type": "choropleth"
           }
          ],
          "contour": [
           {
            "colorbar": {
             "outlinewidth": 0,
             "ticks": ""
            },
            "colorscale": [
             [
              0,
              "#0d0887"
             ],
             [
              0.1111111111111111,
              "#46039f"
             ],
             [
              0.2222222222222222,
              "#7201a8"
             ],
             [
              0.3333333333333333,
              "#9c179e"
             ],
             [
              0.4444444444444444,
              "#bd3786"
             ],
             [
              0.5555555555555556,
              "#d8576b"
             ],
             [
              0.6666666666666666,
              "#ed7953"
             ],
             [
              0.7777777777777778,
              "#fb9f3a"
             ],
             [
              0.8888888888888888,
              "#fdca26"
             ],
             [
              1,
              "#f0f921"
             ]
            ],
            "type": "contour"
           }
          ],
          "contourcarpet": [
           {
            "colorbar": {
             "outlinewidth": 0,
             "ticks": ""
            },
            "type": "contourcarpet"
           }
          ],
          "heatmap": [
           {
            "colorbar": {
             "outlinewidth": 0,
             "ticks": ""
            },
            "colorscale": [
             [
              0,
              "#0d0887"
             ],
             [
              0.1111111111111111,
              "#46039f"
             ],
             [
              0.2222222222222222,
              "#7201a8"
             ],
             [
              0.3333333333333333,
              "#9c179e"
             ],
             [
              0.4444444444444444,
              "#bd3786"
             ],
             [
              0.5555555555555556,
              "#d8576b"
             ],
             [
              0.6666666666666666,
              "#ed7953"
             ],
             [
              0.7777777777777778,
              "#fb9f3a"
             ],
             [
              0.8888888888888888,
              "#fdca26"
             ],
             [
              1,
              "#f0f921"
             ]
            ],
            "type": "heatmap"
           }
          ],
          "heatmapgl": [
           {
            "colorbar": {
             "outlinewidth": 0,
             "ticks": ""
            },
            "colorscale": [
             [
              0,
              "#0d0887"
             ],
             [
              0.1111111111111111,
              "#46039f"
             ],
             [
              0.2222222222222222,
              "#7201a8"
             ],
             [
              0.3333333333333333,
              "#9c179e"
             ],
             [
              0.4444444444444444,
              "#bd3786"
             ],
             [
              0.5555555555555556,
              "#d8576b"
             ],
             [
              0.6666666666666666,
              "#ed7953"
             ],
             [
              0.7777777777777778,
              "#fb9f3a"
             ],
             [
              0.8888888888888888,
              "#fdca26"
             ],
             [
              1,
              "#f0f921"
             ]
            ],
            "type": "heatmapgl"
           }
          ],
          "histogram": [
           {
            "marker": {
             "pattern": {
              "fillmode": "overlay",
              "size": 10,
              "solidity": 0.2
             }
            },
            "type": "histogram"
           }
          ],
          "histogram2d": [
           {
            "colorbar": {
             "outlinewidth": 0,
             "ticks": ""
            },
            "colorscale": [
             [
              0,
              "#0d0887"
             ],
             [
              0.1111111111111111,
              "#46039f"
             ],
             [
              0.2222222222222222,
              "#7201a8"
             ],
             [
              0.3333333333333333,
              "#9c179e"
             ],
             [
              0.4444444444444444,
              "#bd3786"
             ],
             [
              0.5555555555555556,
              "#d8576b"
             ],
             [
              0.6666666666666666,
              "#ed7953"
             ],
             [
              0.7777777777777778,
              "#fb9f3a"
             ],
             [
              0.8888888888888888,
              "#fdca26"
             ],
             [
              1,
              "#f0f921"
             ]
            ],
            "type": "histogram2d"
           }
          ],
          "histogram2dcontour": [
           {
            "colorbar": {
             "outlinewidth": 0,
             "ticks": ""
            },
            "colorscale": [
             [
              0,
              "#0d0887"
             ],
             [
              0.1111111111111111,
              "#46039f"
             ],
             [
              0.2222222222222222,
              "#7201a8"
             ],
             [
              0.3333333333333333,
              "#9c179e"
             ],
             [
              0.4444444444444444,
              "#bd3786"
             ],
             [
              0.5555555555555556,
              "#d8576b"
             ],
             [
              0.6666666666666666,
              "#ed7953"
             ],
             [
              0.7777777777777778,
              "#fb9f3a"
             ],
             [
              0.8888888888888888,
              "#fdca26"
             ],
             [
              1,
              "#f0f921"
             ]
            ],
            "type": "histogram2dcontour"
           }
          ],
          "mesh3d": [
           {
            "colorbar": {
             "outlinewidth": 0,
             "ticks": ""
            },
            "type": "mesh3d"
           }
          ],
          "parcoords": [
           {
            "line": {
             "colorbar": {
              "outlinewidth": 0,
              "ticks": ""
             }
            },
            "type": "parcoords"
           }
          ],
          "pie": [
           {
            "automargin": true,
            "type": "pie"
           }
          ],
          "scatter": [
           {
            "fillpattern": {
             "fillmode": "overlay",
             "size": 10,
             "solidity": 0.2
            },
            "type": "scatter"
           }
          ],
          "scatter3d": [
           {
            "line": {
             "colorbar": {
              "outlinewidth": 0,
              "ticks": ""
             }
            },
            "marker": {
             "colorbar": {
              "outlinewidth": 0,
              "ticks": ""
             }
            },
            "type": "scatter3d"
           }
          ],
          "scattercarpet": [
           {
            "marker": {
             "colorbar": {
              "outlinewidth": 0,
              "ticks": ""
             }
            },
            "type": "scattercarpet"
           }
          ],
          "scattergeo": [
           {
            "marker": {
             "colorbar": {
              "outlinewidth": 0,
              "ticks": ""
             }
            },
            "type": "scattergeo"
           }
          ],
          "scattergl": [
           {
            "marker": {
             "colorbar": {
              "outlinewidth": 0,
              "ticks": ""
             }
            },
            "type": "scattergl"
           }
          ],
          "scattermapbox": [
           {
            "marker": {
             "colorbar": {
              "outlinewidth": 0,
              "ticks": ""
             }
            },
            "type": "scattermapbox"
           }
          ],
          "scatterpolar": [
           {
            "marker": {
             "colorbar": {
              "outlinewidth": 0,
              "ticks": ""
             }
            },
            "type": "scatterpolar"
           }
          ],
          "scatterpolargl": [
           {
            "marker": {
             "colorbar": {
              "outlinewidth": 0,
              "ticks": ""
             }
            },
            "type": "scatterpolargl"
           }
          ],
          "scatterternary": [
           {
            "marker": {
             "colorbar": {
              "outlinewidth": 0,
              "ticks": ""
             }
            },
            "type": "scatterternary"
           }
          ],
          "surface": [
           {
            "colorbar": {
             "outlinewidth": 0,
             "ticks": ""
            },
            "colorscale": [
             [
              0,
              "#0d0887"
             ],
             [
              0.1111111111111111,
              "#46039f"
             ],
             [
              0.2222222222222222,
              "#7201a8"
             ],
             [
              0.3333333333333333,
              "#9c179e"
             ],
             [
              0.4444444444444444,
              "#bd3786"
             ],
             [
              0.5555555555555556,
              "#d8576b"
             ],
             [
              0.6666666666666666,
              "#ed7953"
             ],
             [
              0.7777777777777778,
              "#fb9f3a"
             ],
             [
              0.8888888888888888,
              "#fdca26"
             ],
             [
              1,
              "#f0f921"
             ]
            ],
            "type": "surface"
           }
          ],
          "table": [
           {
            "cells": {
             "fill": {
              "color": "#EBF0F8"
             },
             "line": {
              "color": "white"
             }
            },
            "header": {
             "fill": {
              "color": "#C8D4E3"
             },
             "line": {
              "color": "white"
             }
            },
            "type": "table"
           }
          ]
         },
         "layout": {
          "annotationdefaults": {
           "arrowcolor": "#2a3f5f",
           "arrowhead": 0,
           "arrowwidth": 1
          },
          "autotypenumbers": "strict",
          "coloraxis": {
           "colorbar": {
            "outlinewidth": 0,
            "ticks": ""
           }
          },
          "colorscale": {
           "diverging": [
            [
             0,
             "#8e0152"
            ],
            [
             0.1,
             "#c51b7d"
            ],
            [
             0.2,
             "#de77ae"
            ],
            [
             0.3,
             "#f1b6da"
            ],
            [
             0.4,
             "#fde0ef"
            ],
            [
             0.5,
             "#f7f7f7"
            ],
            [
             0.6,
             "#e6f5d0"
            ],
            [
             0.7,
             "#b8e186"
            ],
            [
             0.8,
             "#7fbc41"
            ],
            [
             0.9,
             "#4d9221"
            ],
            [
             1,
             "#276419"
            ]
           ],
           "sequential": [
            [
             0,
             "#0d0887"
            ],
            [
             0.1111111111111111,
             "#46039f"
            ],
            [
             0.2222222222222222,
             "#7201a8"
            ],
            [
             0.3333333333333333,
             "#9c179e"
            ],
            [
             0.4444444444444444,
             "#bd3786"
            ],
            [
             0.5555555555555556,
             "#d8576b"
            ],
            [
             0.6666666666666666,
             "#ed7953"
            ],
            [
             0.7777777777777778,
             "#fb9f3a"
            ],
            [
             0.8888888888888888,
             "#fdca26"
            ],
            [
             1,
             "#f0f921"
            ]
           ],
           "sequentialminus": [
            [
             0,
             "#0d0887"
            ],
            [
             0.1111111111111111,
             "#46039f"
            ],
            [
             0.2222222222222222,
             "#7201a8"
            ],
            [
             0.3333333333333333,
             "#9c179e"
            ],
            [
             0.4444444444444444,
             "#bd3786"
            ],
            [
             0.5555555555555556,
             "#d8576b"
            ],
            [
             0.6666666666666666,
             "#ed7953"
            ],
            [
             0.7777777777777778,
             "#fb9f3a"
            ],
            [
             0.8888888888888888,
             "#fdca26"
            ],
            [
             1,
             "#f0f921"
            ]
           ]
          },
          "colorway": [
           "#636efa",
           "#EF553B",
           "#00cc96",
           "#ab63fa",
           "#FFA15A",
           "#19d3f3",
           "#FF6692",
           "#B6E880",
           "#FF97FF",
           "#FECB52"
          ],
          "font": {
           "color": "#2a3f5f"
          },
          "geo": {
           "bgcolor": "white",
           "lakecolor": "white",
           "landcolor": "#E5ECF6",
           "showlakes": true,
           "showland": true,
           "subunitcolor": "white"
          },
          "hoverlabel": {
           "align": "left"
          },
          "hovermode": "closest",
          "mapbox": {
           "style": "light"
          },
          "paper_bgcolor": "white",
          "plot_bgcolor": "#E5ECF6",
          "polar": {
           "angularaxis": {
            "gridcolor": "white",
            "linecolor": "white",
            "ticks": ""
           },
           "bgcolor": "#E5ECF6",
           "radialaxis": {
            "gridcolor": "white",
            "linecolor": "white",
            "ticks": ""
           }
          },
          "scene": {
           "xaxis": {
            "backgroundcolor": "#E5ECF6",
            "gridcolor": "white",
            "gridwidth": 2,
            "linecolor": "white",
            "showbackground": true,
            "ticks": "",
            "zerolinecolor": "white"
           },
           "yaxis": {
            "backgroundcolor": "#E5ECF6",
            "gridcolor": "white",
            "gridwidth": 2,
            "linecolor": "white",
            "showbackground": true,
            "ticks": "",
            "zerolinecolor": "white"
           },
           "zaxis": {
            "backgroundcolor": "#E5ECF6",
            "gridcolor": "white",
            "gridwidth": 2,
            "linecolor": "white",
            "showbackground": true,
            "ticks": "",
            "zerolinecolor": "white"
           }
          },
          "shapedefaults": {
           "line": {
            "color": "#2a3f5f"
           }
          },
          "ternary": {
           "aaxis": {
            "gridcolor": "white",
            "linecolor": "white",
            "ticks": ""
           },
           "baxis": {
            "gridcolor": "white",
            "linecolor": "white",
            "ticks": ""
           },
           "bgcolor": "#E5ECF6",
           "caxis": {
            "gridcolor": "white",
            "linecolor": "white",
            "ticks": ""
           }
          },
          "title": {
           "x": 0.05
          },
          "xaxis": {
           "automargin": true,
           "gridcolor": "white",
           "linecolor": "white",
           "ticks": "",
           "title": {
            "standoff": 15
           },
           "zerolinecolor": "white",
           "zerolinewidth": 2
          },
          "yaxis": {
           "automargin": true,
           "gridcolor": "white",
           "linecolor": "white",
           "ticks": "",
           "title": {
            "standoff": 15
           },
           "zerolinecolor": "white",
           "zerolinewidth": 2
          }
         }
        },
        "xaxis": {
         "anchor": "y",
         "domain": [
          0,
          1
         ],
         "title": {
          "text": "support"
         }
        },
        "yaxis": {
         "anchor": "x",
         "domain": [
          0,
          1
         ],
         "title": {
          "text": "confidence"
         }
        }
       }
      }
     },
     "metadata": {},
     "output_type": "display_data"
    }
   ],
   "source": [
    "# %pip install plotly\n",
    "\n",
    "rules['antecedents'] = rules['antecedents'].apply(list)\n",
    "rules['consequents'] = rules['consequents'].apply(list)\n",
    "\n",
    "import plotly.express as px\n",
    "# install plotly: pip install plotly\n",
    "# install nbformat: pip install nbformat\n",
    "fig = px.scatter(rules, x='support', y='confidence', size='lift', \n",
    "                 hover_data=['antecedents', 'consequents'])\n",
    "fig.show()"
   ]
  },
  {
   "cell_type": "code",
   "execution_count": 12,
   "metadata": {},
   "outputs": [
    {
     "name": "stdout",
     "output_type": "stream",
     "text": [
      "                antecedents          consequents   support      lift   \n",
      "0         [Add-on item Sub]      [Chocolate Bar]  0.005402  3.138719  \\\n",
      "1           [Chocolate Bar]    [Add-on item Sub]  0.005402  3.138719   \n",
      "2         [Add-on item Sub]  [Flavored Milk Sub]  0.012238  4.549098   \n",
      "3       [Flavored Milk Sub]    [Add-on item Sub]  0.012238  4.549098   \n",
      "4    [Instant Noodles Pack]    [Add-on item Sub]  0.005843  3.236843   \n",
      "..                      ...                  ...       ...       ...   \n",
      "125             [Sugar Tea]      [Savoury  Buns]  0.005954  0.682278   \n",
      "126             [Sugar CSD]          [Sugar Tea]  0.009372  1.448827   \n",
      "127             [Sugar Tea]          [Sugar CSD]  0.009372  1.448827   \n",
      "128         [WIC/RIC Juice]          [Sugar Tea]  0.006505  2.131992   \n",
      "129             [Sugar Tea]      [WIC/RIC Juice]  0.006505  2.131992   \n",
      "\n",
      "     confidence  \n",
      "0      0.134615  \n",
      "1      0.125964  \n",
      "2      0.304945  \n",
      "3      0.182566  \n",
      "4      0.129902  \n",
      "..          ...  \n",
      "125    0.053785  \n",
      "126    0.160377  \n",
      "127    0.084661  \n",
      "128    0.236000  \n",
      "129    0.058765  \n",
      "\n",
      "[130 rows x 5 columns]\n"
     ]
    }
   ],
   "source": [
    "# Display the association rules with support, lift, and confidence\n",
    "import time\n",
    "print(rules[['antecedents', 'consequents', 'support', 'lift', 'confidence']])\n",
    "rules[['antecedents', 'consequents', 'support', 'lift', 'confidence']].to_csv('result.csv', index=False)"
   ]
  },
  {
   "cell_type": "code",
   "execution_count": 13,
   "metadata": {},
   "outputs": [
    {
     "data": {
      "image/png": "[encoded data removed]",
      "text/plain": [
       "<Figure size 640x480 with 1 Axes>"
      ]
     },
     "metadata": {},
     "output_type": "display_data"
    }
   ],
   "source": [
    "# Check if networkx and matplotlib are installed\n",
    "# !pip install networkx\n",
    "# !pip install matplotlib\n",
    "\n",
    "import networkx as nx\n",
    "import matplotlib.pyplot as plt\n",
    "\n",
    "# Create an empty directed graph\n",
    "G = nx.DiGraph()\n",
    "\n",
    "# Iterate through each row of the DataFrame and add edges to the graph\n",
    "for index, row in rules.iterrows():\n",
    "    antecedent = ', '.join(row['antecedents'])\n",
    "    consequent = ', '.join(row['consequents'])\n",
    "    support = row['support']\n",
    "    confidence = row['confidence']\n",
    "    lift = row['lift']\n",
    "    \n",
    "    # Add edges to the graph with the support or confidence as edge weight\n",
    "    G.add_edge(antecedent, consequent, weight=support)\n",
    "\n",
    "# Draw the graph using spring layout and label edges with their weights\n",
    "pos = nx.spring_layout(G)\n",
    "nx.draw(G, pos, with_labels=True, node_size=1500, font_size=8)\n",
    "labels = nx.get_edge_attributes(G, 'weight')\n",
    "nx.draw_networkx_edge_labels(G, pos, edge_labels=labels, font_size=8)\n",
    "plt.show()\n"
   ]
  },
  {
   "cell_type": "code",
   "execution_count": 14,
   "metadata": {},
   "outputs": [
    {
     "data": {
      "application/vnd.plotly.v1+json": {
       "config": {
        "plotlyServerURL": "https://plot.ly"
       },
       "data": [
        {
         "hoverinfo": "none",
         "line": {
          "color": "black",
          "width": 0.054024255788313116
         },
         "mode": "lines",
         "type": "scatter",
         "x": [
          0.038614584977942866,
          0.7452774007816051,
          null
         ],
         "y": [
          0.001138413209141388,
          0.2757477840064228,
          null
         ]
        },
        {
         "hoverinfo": "none",
         "line": {
          "color": "black",
          "width": 0.12238147739801544
         },
         "mode": "lines",
         "type": "scatter",
         "x": [
          0.038614584977942866,
          0.04818478446496627,
          null
         ],
         "y": [
          0.001138413209141388,
          0.20164731269406747,
          null
         ]
        },
        {
         "hoverinfo": "none",
         "line": {
          "color": "black",
          "width": 0.05843439911797133
         },
         "mode": "lines",
         "type": "scatter",
         "x": [
          0.038614584977942866,
          -0.5627857453490946,
          null
         ],
         "y": [
          0.001138413209141388,
          0.2698823709020911,
          null
         ]
        },
        {
         "hoverinfo": "none",
         "line": {
          "color": "black",
          "width": 0.05622932745314223
         },
         "mode": "lines",
         "type": "scatter",
         "x": [
          0.038614584977942866,
          0.009024559649789328,
          null
         ],
         "y": [
          0.001138413209141388,
          -0.6085671527645421,
          null
         ]
        },
        {
         "hoverinfo": "none",
         "line": {
          "color": "black",
          "width": 0.07607497243660419
         },
         "mode": "lines",
         "type": "scatter",
         "x": [
          0.038614584977942866,
          0.11116675065627996,
          null
         ],
         "y": [
          0.001138413209141388,
          -0.18568517327534687,
          null
         ]
        },
        {
         "hoverinfo": "none",
         "line": {
          "color": "black",
          "width": 0.054024255788313116
         },
         "mode": "lines",
         "type": "scatter",
         "x": [
          0.7452774007816051,
          0.038614584977942866,
          null
         ],
         "y": [
          0.2757477840064228,
          0.001138413209141388,
          null
         ]
        },
        {
         "hoverinfo": "none",
         "line": {
          "color": "black",
          "width": 0.06174200661521499
         },
         "mode": "lines",
         "type": "scatter",
         "x": [
          0.7452774007816051,
          0.04818478446496627,
          null
         ],
         "y": [
          0.2757477840064228,
          0.20164731269406747,
          null
         ]
        },
        {
         "hoverinfo": "none",
         "line": {
          "color": "black",
          "width": 0.12238147739801544
         },
         "mode": "lines",
         "type": "scatter",
         "x": [
          0.04818478446496627,
          0.038614584977942866,
          null
         ],
         "y": [
          0.20164731269406747,
          0.001138413209141388,
          null
         ]
        },
        {
         "hoverinfo": "none",
         "line": {
          "color": "black",
          "width": 0.06174200661521499
         },
         "mode": "lines",
         "type": "scatter",
         "x": [
          0.04818478446496627,
          0.7452774007816051,
          null
         ],
         "y": [
          0.20164731269406747,
          0.2757477840064228,
          null
         ]
        },
        {
         "hoverinfo": "none",
         "line": {
          "color": "black",
          "width": 0.054024255788313116
         },
         "mode": "lines",
         "type": "scatter",
         "x": [
          0.04818478446496627,
          -0.15871616170583094,
          null
         ],
         "y": [
          0.20164731269406747,
          0.4448796649439935,
          null
         ]
        },
        {
         "hoverinfo": "none",
         "line": {
          "color": "black",
          "width": 0.06725468577728777
         },
         "mode": "lines",
         "type": "scatter",
         "x": [
          0.04818478446496627,
          0.40315167689691683,
          null
         ],
         "y": [
          0.20164731269406747,
          0.20769241154504264,
          null
         ]
        },
        {
         "hoverinfo": "none",
         "line": {
          "color": "black",
          "width": 0.07276736493936053
         },
         "mode": "lines",
         "type": "scatter",
         "x": [
          0.04818478446496627,
          -0.5009889099928371,
          null
         ],
         "y": [
          0.20164731269406747,
          0.1470955116358554,
          null
         ]
        },
        {
         "hoverinfo": "none",
         "line": {
          "color": "black",
          "width": 0.05843439911797133
         },
         "mode": "lines",
         "type": "scatter",
         "x": [
          0.04818478446496627,
          -0.0825627711026646,
          null
         ],
         "y": [
          0.20164731269406747,
          -0.3134719285893937,
          null
         ]
        },
        {
         "hoverinfo": "none",
         "line": {
          "color": "black",
          "width": 0.06174200661521499
         },
         "mode": "lines",
         "type": "scatter",
         "x": [
          0.04818478446496627,
          0.21875011056489926,
          null
         ],
         "y": [
          0.20164731269406747,
          0.3300106922694984,
          null
         ]
        },
        {
         "hoverinfo": "none",
         "line": {
          "color": "black",
          "width": 0.05953693495038589
         },
         "mode": "lines",
         "type": "scatter",
         "x": [
          0.04818478446496627,
          0.11116675065627996,
          null
         ],
         "y": [
          0.20164731269406747,
          -0.18568517327534687,
          null
         ]
        },
        {
         "hoverinfo": "none",
         "line": {
          "color": "black",
          "width": 0.05843439911797133
         },
         "mode": "lines",
         "type": "scatter",
         "x": [
          -0.5627857453490946,
          0.038614584977942866,
          null
         ],
         "y": [
          0.2698823709020911,
          0.001138413209141388,
          null
         ]
        },
        {
         "hoverinfo": "none",
         "line": {
          "color": "black",
          "width": 0.054024255788313116
         },
         "mode": "lines",
         "type": "scatter",
         "x": [
          -0.5627857453490946,
          -0.9689848716708584,
          null
         ],
         "y": [
          0.2698823709020911,
          0.12212327581216623,
          null
         ]
        },
        {
         "hoverinfo": "none",
         "line": {
          "color": "black",
          "width": 0.05512679162072767
         },
         "mode": "lines",
         "type": "scatter",
         "x": [
          -0.5627857453490946,
          -0.06579818965053492,
          null
         ],
         "y": [
          0.2698823709020911,
          0.505978761208058,
          null
         ]
        },
        {
         "hoverinfo": "none",
         "line": {
          "color": "black",
          "width": 0.05071664829106946
         },
         "mode": "lines",
         "type": "scatter",
         "x": [
          -0.5627857453490946,
          -0.37144120461125013,
          null
         ],
         "y": [
          0.2698823709020911,
          -0.12986819022819746,
          null
         ]
        },
        {
         "hoverinfo": "none",
         "line": {
          "color": "black",
          "width": 0.0639470782800441
         },
         "mode": "lines",
         "type": "scatter",
         "x": [
          -0.5627857453490946,
          -0.9435761799962353,
          null
         ],
         "y": [
          0.2698823709020911,
          -0.23729639037692457,
          null
         ]
        },
        {
         "hoverinfo": "none",
         "line": {
          "color": "black",
          "width": 0.05622932745314223
         },
         "mode": "lines",
         "type": "scatter",
         "x": [
          0.009024559649789328,
          0.038614584977942866,
          null
         ],
         "y": [
          -0.6085671527645421,
          0.001138413209141388,
          null
         ]
        },
        {
         "hoverinfo": "none",
         "line": {
          "color": "black",
          "width": 0.10804851157662623
         },
         "mode": "lines",
         "type": "scatter",
         "x": [
          0.009024559649789328,
          0.37052453410096975,
          null
         ],
         "y": [
          -0.6085671527645421,
          -0.6081343693710233,
          null
         ]
        },
        {
         "hoverinfo": "none",
         "line": {
          "color": "black",
          "width": 0.054024255788313116
         },
         "mode": "lines",
         "type": "scatter",
         "x": [
          0.009024559649789328,
          0.32412996809148165,
          null
         ],
         "y": [
          -0.6085671527645421,
          -0.41282414012575225,
          null
         ]
        },
        {
         "hoverinfo": "none",
         "line": {
          "color": "black",
          "width": 0.05181918412348402
         },
         "mode": "lines",
         "type": "scatter",
         "x": [
          0.009024559649789328,
          -0.37144120461125013,
          null
         ],
         "y": [
          -0.6085671527645421,
          -0.12986819022819746,
          null
         ]
        },
        {
         "hoverinfo": "none",
         "line": {
          "color": "black",
          "width": 0.05292171995589856
         },
         "mode": "lines",
         "type": "scatter",
         "x": [
          0.009024559649789328,
          0.36112021169449104,
          null
         ],
         "y": [
          -0.6085671527645421,
          -0.997173273367568,
          null
         ]
        },
        {
         "hoverinfo": "none",
         "line": {
          "color": "black",
          "width": 0.05622932745314223
         },
         "mode": "lines",
         "type": "scatter",
         "x": [
          0.009024559649789328,
          -0.4833939877217876,
          null
         ],
         "y": [
          -0.6085671527645421,
          -0.4711573401511271,
          null
         ]
        },
        {
         "hoverinfo": "none",
         "line": {
          "color": "black",
          "width": 0.05292171995589856
         },
         "mode": "lines",
         "type": "scatter",
         "x": [
          0.009024559649789328,
          -0.0825627711026646,
          null
         ],
         "y": [
          -0.6085671527645421,
          -0.3134719285893937,
          null
         ]
        },
        {
         "hoverinfo": "none",
         "line": {
          "color": "black",
          "width": 0.09371554575523704
         },
         "mode": "lines",
         "type": "scatter",
         "x": [
          0.009024559649789328,
          0.11116675065627996,
          null
         ],
         "y": [
          -0.6085671527645421,
          -0.18568517327534687,
          null
         ]
        },
        {
         "hoverinfo": "none",
         "line": {
          "color": "black",
          "width": 0.07607497243660419
         },
         "mode": "lines",
         "type": "scatter",
         "x": [
          0.11116675065627996,
          0.038614584977942866,
          null
         ],
         "y": [
          -0.18568517327534687,
          0.001138413209141388,
          null
         ]
        },
        {
         "hoverinfo": "none",
         "line": {
          "color": "black",
          "width": 0.14002205071664828
         },
         "mode": "lines",
         "type": "scatter",
         "x": [
          0.11116675065627996,
          0.37052453410096975,
          null
         ],
         "y": [
          -0.18568517327534687,
          -0.6081343693710233,
          null
         ]
        },
        {
         "hoverinfo": "none",
         "line": {
          "color": "black",
          "width": 0.09592061742006615
         },
         "mode": "lines",
         "type": "scatter",
         "x": [
          0.11116675065627996,
          0.32412996809148165,
          null
         ],
         "y": [
          -0.18568517327534687,
          -0.41282414012575225,
          null
         ]
        },
        {
         "hoverinfo": "none",
         "line": {
          "color": "black",
          "width": 0.05953693495038589
         },
         "mode": "lines",
         "type": "scatter",
         "x": [
          0.11116675065627996,
          0.04818478446496627,
          null
         ],
         "y": [
          -0.18568517327534687,
          0.20164731269406747,
          null
         ]
        },
        {
         "hoverinfo": "none",
         "line": {
          "color": "black",
          "width": 0.05512679162072767
         },
         "mode": "lines",
         "type": "scatter",
         "x": [
          0.11116675065627996,
          -0.06579818965053492,
          null
         ],
         "y": [
          -0.18568517327534687,
          0.505978761208058,
          null
         ]
        },
        {
         "hoverinfo": "none",
         "line": {
          "color": "black",
          "width": 0.08599779492833518
         },
         "mode": "lines",
         "type": "scatter",
         "x": [
          0.11116675065627996,
          -0.37144120461125013,
          null
         ],
         "y": [
          -0.18568517327534687,
          -0.12986819022819746,
          null
         ]
        },
        {
         "hoverinfo": "none",
         "line": {
          "color": "black",
          "width": 0.0848952590959206
         },
         "mode": "lines",
         "type": "scatter",
         "x": [
          0.11116675065627996,
          0.40315167689691683,
          null
         ],
         "y": [
          -0.18568517327534687,
          0.20769241154504264,
          null
         ]
        },
        {
         "hoverinfo": "none",
         "line": {
          "color": "black",
          "width": 0.06284454244762955
         },
         "mode": "lines",
         "type": "scatter",
         "x": [
          0.11116675065627996,
          0.280621903183826,
          null
         ],
         "y": [
          -0.18568517327534687,
          0.024592820781311944,
          null
         ]
        },
        {
         "hoverinfo": "none",
         "line": {
          "color": "black",
          "width": 0.054024255788313116
         },
         "mode": "lines",
         "type": "scatter",
         "x": [
          0.11116675065627996,
          -0.5009889099928371,
          null
         ],
         "y": [
          -0.18568517327534687,
          0.1470955116358554,
          null
         ]
        },
        {
         "hoverinfo": "none",
         "line": {
          "color": "black",
          "width": 0.06504961411245866
         },
         "mode": "lines",
         "type": "scatter",
         "x": [
          0.11116675065627996,
          -0.4833939877217876,
          null
         ],
         "y": [
          -0.18568517327534687,
          -0.4711573401511271,
          null
         ]
        },
        {
         "hoverinfo": "none",
         "line": {
          "color": "black",
          "width": 0.09040793825799338
         },
         "mode": "lines",
         "type": "scatter",
         "x": [
          0.11116675065627996,
          -0.0825627711026646,
          null
         ],
         "y": [
          -0.18568517327534687,
          -0.3134719285893937,
          null
         ]
        },
        {
         "hoverinfo": "none",
         "line": {
          "color": "black",
          "width": 0.05953693495038589
         },
         "mode": "lines",
         "type": "scatter",
         "x": [
          0.11116675065627996,
          0.21875011056489926,
          null
         ],
         "y": [
          -0.18568517327534687,
          0.3300106922694984,
          null
         ]
        },
        {
         "hoverinfo": "none",
         "line": {
          "color": "black",
          "width": 0.09371554575523704
         },
         "mode": "lines",
         "type": "scatter",
         "x": [
          0.11116675065627996,
          0.009024559649789328,
          null
         ],
         "y": [
          -0.18568517327534687,
          -0.6085671527645421,
          null
         ]
        },
        {
         "hoverinfo": "none",
         "line": {
          "color": "black",
          "width": 0.06504961411245866
         },
         "mode": "lines",
         "type": "scatter",
         "x": [
          0.11116675065627996,
          0.8542646220141797,
          null
         ],
         "y": [
          -0.18568517327534687,
          -0.06649831438709534,
          null
         ]
        },
        {
         "hoverinfo": "none",
         "line": {
          "color": "black",
          "width": 0.06174200661521499
         },
         "mode": "lines",
         "type": "scatter",
         "x": [
          0.37052453410096975,
          0.8728679626774992,
          null
         ],
         "y": [
          -0.6081343693710233,
          -0.3958012322708681,
          null
         ]
        },
        {
         "hoverinfo": "none",
         "line": {
          "color": "black",
          "width": 0.2293274531422271
         },
         "mode": "lines",
         "type": "scatter",
         "x": [
          0.37052453410096975,
          0.32412996809148165,
          null
         ],
         "y": [
          -0.6081343693710233,
          -0.41282414012575225,
          null
         ]
        },
        {
         "hoverinfo": "none",
         "line": {
          "color": "black",
          "width": 0.07056229327453142
         },
         "mode": "lines",
         "type": "scatter",
         "x": [
          0.37052453410096975,
          0.36112021169449104,
          null
         ],
         "y": [
          -0.6081343693710233,
          -0.997173273367568,
          null
         ]
        },
        {
         "hoverinfo": "none",
         "line": {
          "color": "black",
          "width": 0.054024255788313116
         },
         "mode": "lines",
         "type": "scatter",
         "x": [
          0.37052453410096975,
          0.280621903183826,
          null
         ],
         "y": [
          -0.6081343693710233,
          0.024592820781311944,
          null
         ]
        },
        {
         "hoverinfo": "none",
         "line": {
          "color": "black",
          "width": 0.10804851157662623
         },
         "mode": "lines",
         "type": "scatter",
         "x": [
          0.37052453410096975,
          0.009024559649789328,
          null
         ],
         "y": [
          -0.6081343693710233,
          -0.6085671527645421,
          null
         ]
        },
        {
         "hoverinfo": "none",
         "line": {
          "color": "black",
          "width": 0.14002205071664828
         },
         "mode": "lines",
         "type": "scatter",
         "x": [
          0.37052453410096975,
          0.11116675065627996,
          null
         ],
         "y": [
          -0.6081343693710233,
          -0.18568517327534687,
          null
         ]
        },
        {
         "hoverinfo": "none",
         "line": {
          "color": "black",
          "width": 0.06174200661521499
         },
         "mode": "lines",
         "type": "scatter",
         "x": [
          0.8728679626774992,
          0.37052453410096975,
          null
         ],
         "y": [
          -0.3958012322708681,
          -0.6081343693710233,
          null
         ]
        },
        {
         "hoverinfo": "none",
         "line": {
          "color": "black",
          "width": 0.054024255788313116
         },
         "mode": "lines",
         "type": "scatter",
         "x": [
          0.280621903183826,
          -0.38213101587260795,
          null
         ],
         "y": [
          0.024592820781311944,
          -0.8289861602163126,
          null
         ]
        },
        {
         "hoverinfo": "none",
         "line": {
          "color": "black",
          "width": 0.054024255788313116
         },
         "mode": "lines",
         "type": "scatter",
         "x": [
          0.280621903183826,
          0.37052453410096975,
          null
         ],
         "y": [
          0.024592820781311944,
          -0.6081343693710233,
          null
         ]
        },
        {
         "hoverinfo": "none",
         "line": {
          "color": "black",
          "width": 0.06284454244762955
         },
         "mode": "lines",
         "type": "scatter",
         "x": [
          0.280621903183826,
          -0.15871616170583094,
          null
         ],
         "y": [
          0.024592820781311944,
          0.4448796649439935,
          null
         ]
        },
        {
         "hoverinfo": "none",
         "line": {
          "color": "black",
          "width": 0.14994487320837926
         },
         "mode": "lines",
         "type": "scatter",
         "x": [
          0.280621903183826,
          0.68520876131342,
          null
         ],
         "y": [
          0.024592820781311944,
          -0.3344916584187291,
          null
         ]
        },
        {
         "hoverinfo": "none",
         "line": {
          "color": "black",
          "width": 0.0948180815876516
         },
         "mode": "lines",
         "type": "scatter",
         "x": [
          0.280621903183826,
          0.1751558519364111,
          null
         ],
         "y": [
          0.024592820781311944,
          0.692786237071523,
          null
         ]
        },
        {
         "hoverinfo": "none",
         "line": {
          "color": "black",
          "width": 0.05622932745314223
         },
         "mode": "lines",
         "type": "scatter",
         "x": [
          0.280621903183826,
          -0.37144120461125013,
          null
         ],
         "y": [
          0.024592820781311944,
          -0.12986819022819746,
          null
         ]
        },
        {
         "hoverinfo": "none",
         "line": {
          "color": "black",
          "width": 0.0782800441014333
         },
         "mode": "lines",
         "type": "scatter",
         "x": [
          0.280621903183826,
          0.40315167689691683,
          null
         ],
         "y": [
          0.024592820781311944,
          0.20769241154504264,
          null
         ]
        },
        {
         "hoverinfo": "none",
         "line": {
          "color": "black",
          "width": 0.09592061742006615
         },
         "mode": "lines",
         "type": "scatter",
         "x": [
          0.280621903183826,
          0.5891274384422315,
          null
         ],
         "y": [
          0.024592820781311944,
          0.6636133114725501,
          null
         ]
        },
        {
         "hoverinfo": "none",
         "line": {
          "color": "black",
          "width": 0.1256890848952591
         },
         "mode": "lines",
         "type": "scatter",
         "x": [
          0.280621903183826,
          0.21875011056489926,
          null
         ],
         "y": [
          0.024592820781311944,
          0.3300106922694984,
          null
         ]
        },
        {
         "hoverinfo": "none",
         "line": {
          "color": "black",
          "width": 0.06284454244762955
         },
         "mode": "lines",
         "type": "scatter",
         "x": [
          0.280621903183826,
          0.11116675065627996,
          null
         ],
         "y": [
          0.024592820781311944,
          -0.18568517327534687,
          null
         ]
        },
        {
         "hoverinfo": "none",
         "line": {
          "color": "black",
          "width": 0.054024255788313116
         },
         "mode": "lines",
         "type": "scatter",
         "x": [
          -0.38213101587260795,
          0.280621903183826,
          null
         ],
         "y": [
          -0.8289861602163126,
          0.024592820781311944,
          null
         ]
        },
        {
         "hoverinfo": "none",
         "line": {
          "color": "black",
          "width": 0.2293274531422271
         },
         "mode": "lines",
         "type": "scatter",
         "x": [
          0.32412996809148165,
          0.37052453410096975,
          null
         ],
         "y": [
          -0.41282414012575225,
          -0.6081343693710233,
          null
         ]
        },
        {
         "hoverinfo": "none",
         "line": {
          "color": "black",
          "width": 0.05843439911797133
         },
         "mode": "lines",
         "type": "scatter",
         "x": [
          0.32412996809148165,
          -0.0825627711026646,
          null
         ],
         "y": [
          -0.41282414012575225,
          -0.3134719285893937,
          null
         ]
        },
        {
         "hoverinfo": "none",
         "line": {
          "color": "black",
          "width": 0.06284454244762955
         },
         "mode": "lines",
         "type": "scatter",
         "x": [
          0.32412996809148165,
          0.21875011056489926,
          null
         ],
         "y": [
          -0.41282414012575225,
          0.3300106922694984,
          null
         ]
        },
        {
         "hoverinfo": "none",
         "line": {
          "color": "black",
          "width": 0.054024255788313116
         },
         "mode": "lines",
         "type": "scatter",
         "x": [
          0.32412996809148165,
          0.009024559649789328,
          null
         ],
         "y": [
          -0.41282414012575225,
          -0.6085671527645421,
          null
         ]
        },
        {
         "hoverinfo": "none",
         "line": {
          "color": "black",
          "width": 0.09592061742006615
         },
         "mode": "lines",
         "type": "scatter",
         "x": [
          0.32412996809148165,
          0.11116675065627996,
          null
         ],
         "y": [
          -0.41282414012575225,
          -0.18568517327534687,
          null
         ]
        },
        {
         "hoverinfo": "none",
         "line": {
          "color": "black",
          "width": 0.07056229327453142
         },
         "mode": "lines",
         "type": "scatter",
         "x": [
          0.36112021169449104,
          0.37052453410096975,
          null
         ],
         "y": [
          -0.997173273367568,
          -0.6081343693710233,
          null
         ]
        },
        {
         "hoverinfo": "none",
         "line": {
          "color": "black",
          "width": 0.05292171995589856
         },
         "mode": "lines",
         "type": "scatter",
         "x": [
          0.36112021169449104,
          0.009024559649789328,
          null
         ],
         "y": [
          -0.997173273367568,
          -0.6085671527645421,
          null
         ]
        },
        {
         "hoverinfo": "none",
         "line": {
          "color": "black",
          "width": 0.054024255788313116
         },
         "mode": "lines",
         "type": "scatter",
         "x": [
          -0.15871616170583094,
          0.04818478446496627,
          null
         ],
         "y": [
          0.4448796649439935,
          0.20164731269406747,
          null
         ]
        },
        {
         "hoverinfo": "none",
         "line": {
          "color": "black",
          "width": 0.06504961411245866
         },
         "mode": "lines",
         "type": "scatter",
         "x": [
          -0.15871616170583094,
          0.40315167689691683,
          null
         ],
         "y": [
          0.4448796649439935,
          0.20769241154504264,
          null
         ]
        },
        {
         "hoverinfo": "none",
         "line": {
          "color": "black",
          "width": 0.06284454244762955
         },
         "mode": "lines",
         "type": "scatter",
         "x": [
          -0.15871616170583094,
          0.280621903183826,
          null
         ],
         "y": [
          0.4448796649439935,
          0.024592820781311944,
          null
         ]
        },
        {
         "hoverinfo": "none",
         "line": {
          "color": "black",
          "width": 0.05181918412348402
         },
         "mode": "lines",
         "type": "scatter",
         "x": [
          -0.15871616170583094,
          -0.5009889099928371,
          null
         ],
         "y": [
          0.4448796649439935,
          0.1470955116358554,
          null
         ]
        },
        {
         "hoverinfo": "none",
         "line": {
          "color": "black",
          "width": 0.054024255788313116
         },
         "mode": "lines",
         "type": "scatter",
         "x": [
          -0.15871616170583094,
          0.21875011056489926,
          null
         ],
         "y": [
          0.4448796649439935,
          0.3300106922694984,
          null
         ]
        },
        {
         "hoverinfo": "none",
         "line": {
          "color": "black",
          "width": 0.06504961411245866
         },
         "mode": "lines",
         "type": "scatter",
         "x": [
          0.40315167689691683,
          -0.15871616170583094,
          null
         ],
         "y": [
          0.20769241154504264,
          0.4448796649439935,
          null
         ]
        },
        {
         "hoverinfo": "none",
         "line": {
          "color": "black",
          "width": 0.06725468577728777
         },
         "mode": "lines",
         "type": "scatter",
         "x": [
          0.40315167689691683,
          0.04818478446496627,
          null
         ],
         "y": [
          0.20769241154504264,
          0.20164731269406747,
          null
         ]
        },
        {
         "hoverinfo": "none",
         "line": {
          "color": "black",
          "width": 0.05292171995589856
         },
         "mode": "lines",
         "type": "scatter",
         "x": [
          0.40315167689691683,
          0.68520876131342,
          null
         ],
         "y": [
          0.20769241154504264,
          -0.3344916584187291,
          null
         ]
        },
        {
         "hoverinfo": "none",
         "line": {
          "color": "black",
          "width": 0.06835722160970231
         },
         "mode": "lines",
         "type": "scatter",
         "x": [
          0.40315167689691683,
          0.1751558519364111,
          null
         ],
         "y": [
          0.20769241154504264,
          0.692786237071523,
          null
         ]
        },
        {
         "hoverinfo": "none",
         "line": {
          "color": "black",
          "width": 0.0782800441014333
         },
         "mode": "lines",
         "type": "scatter",
         "x": [
          0.40315167689691683,
          0.280621903183826,
          null
         ],
         "y": [
          0.20769241154504264,
          0.024592820781311944,
          null
         ]
        },
        {
         "hoverinfo": "none",
         "line": {
          "color": "black",
          "width": 0.0639470782800441
         },
         "mode": "lines",
         "type": "scatter",
         "x": [
          0.40315167689691683,
          -0.0825627711026646,
          null
         ],
         "y": [
          0.20769241154504264,
          -0.3134719285893937,
          null
         ]
        },
        {
         "hoverinfo": "none",
         "line": {
          "color": "black",
          "width": 0.08048511576626241
         },
         "mode": "lines",
         "type": "scatter",
         "x": [
          0.40315167689691683,
          0.8655363121834722,
          null
         ],
         "y": [
          0.20769241154504264,
          0.47393660792710274,
          null
         ]
        },
        {
         "hoverinfo": "none",
         "line": {
          "color": "black",
          "width": 0.0848952590959206
         },
         "mode": "lines",
         "type": "scatter",
         "x": [
          0.40315167689691683,
          0.11116675065627996,
          null
         ],
         "y": [
          0.20769241154504264,
          -0.18568517327534687,
          null
         ]
        },
        {
         "hoverinfo": "none",
         "line": {
          "color": "black",
          "width": 0.05181918412348402
         },
         "mode": "lines",
         "type": "scatter",
         "x": [
          -0.5009889099928371,
          -0.15871616170583094,
          null
         ],
         "y": [
          0.1470955116358554,
          0.4448796649439935,
          null
         ]
        },
        {
         "hoverinfo": "none",
         "line": {
          "color": "black",
          "width": 0.07276736493936053
         },
         "mode": "lines",
         "type": "scatter",
         "x": [
          -0.5009889099928371,
          0.04818478446496627,
          null
         ],
         "y": [
          0.1470955116358554,
          0.20164731269406747,
          null
         ]
        },
        {
         "hoverinfo": "none",
         "line": {
          "color": "black",
          "width": 0.05071664829106946
         },
         "mode": "lines",
         "type": "scatter",
         "x": [
          -0.5009889099928371,
          0.21875011056489926,
          null
         ],
         "y": [
          0.1470955116358554,
          0.3300106922694984,
          null
         ]
        },
        {
         "hoverinfo": "none",
         "line": {
          "color": "black",
          "width": 0.054024255788313116
         },
         "mode": "lines",
         "type": "scatter",
         "x": [
          -0.5009889099928371,
          0.11116675065627996,
          null
         ],
         "y": [
          0.1470955116358554,
          -0.18568517327534687,
          null
         ]
        },
        {
         "hoverinfo": "none",
         "line": {
          "color": "black",
          "width": 0.05843439911797133
         },
         "mode": "lines",
         "type": "scatter",
         "x": [
          -0.5009889099928371,
          -0.3915323492797808,
          null
         ],
         "y": [
          0.1470955116358554,
          0.9636026525939778,
          null
         ]
        },
        {
         "hoverinfo": "none",
         "line": {
          "color": "black",
          "width": 0.054024255788313116
         },
         "mode": "lines",
         "type": "scatter",
         "x": [
          0.21875011056489926,
          -0.15871616170583094,
          null
         ],
         "y": [
          0.3300106922694984,
          0.4448796649439935,
          null
         ]
        },
        {
         "hoverinfo": "none",
         "line": {
          "color": "black",
          "width": 0.06284454244762955
         },
         "mode": "lines",
         "type": "scatter",
         "x": [
          0.21875011056489926,
          0.32412996809148165,
          null
         ],
         "y": [
          0.3300106922694984,
          -0.41282414012575225,
          null
         ]
        },
        {
         "hoverinfo": "none",
         "line": {
          "color": "black",
          "width": 0.06174200661521499
         },
         "mode": "lines",
         "type": "scatter",
         "x": [
          0.21875011056489926,
          0.04818478446496627,
          null
         ],
         "y": [
          0.3300106922694984,
          0.20164731269406747,
          null
         ]
        },
        {
         "hoverinfo": "none",
         "line": {
          "color": "black",
          "width": 0.0782800441014333
         },
         "mode": "lines",
         "type": "scatter",
         "x": [
          0.21875011056489926,
          0.1751558519364111,
          null
         ],
         "y": [
          0.3300106922694984,
          0.692786237071523,
          null
         ]
        },
        {
         "hoverinfo": "none",
         "line": {
          "color": "black",
          "width": 0.1256890848952591
         },
         "mode": "lines",
         "type": "scatter",
         "x": [
          0.21875011056489926,
          0.280621903183826,
          null
         ],
         "y": [
          0.3300106922694984,
          0.024592820781311944,
          null
         ]
        },
        {
         "hoverinfo": "none",
         "line": {
          "color": "black",
          "width": 0.08048511576626241
         },
         "mode": "lines",
         "type": "scatter",
         "x": [
          0.21875011056489926,
          0.5891274384422315,
          null
         ],
         "y": [
          0.3300106922694984,
          0.6636133114725501,
          null
         ]
        },
        {
         "hoverinfo": "none",
         "line": {
          "color": "black",
          "width": 0.05071664829106946
         },
         "mode": "lines",
         "type": "scatter",
         "x": [
          0.21875011056489926,
          -0.5009889099928371,
          null
         ],
         "y": [
          0.3300106922694984,
          0.1470955116358554,
          null
         ]
        },
        {
         "hoverinfo": "none",
         "line": {
          "color": "black",
          "width": 0.05953693495038589
         },
         "mode": "lines",
         "type": "scatter",
         "x": [
          0.21875011056489926,
          0.11116675065627996,
          null
         ],
         "y": [
          0.3300106922694984,
          -0.18568517327534687,
          null
         ]
        },
        {
         "hoverinfo": "none",
         "line": {
          "color": "black",
          "width": 0.05843439911797133
         },
         "mode": "lines",
         "type": "scatter",
         "x": [
          -0.0825627711026646,
          0.32412996809148165,
          null
         ],
         "y": [
          -0.3134719285893937,
          -0.41282414012575225,
          null
         ]
        },
        {
         "hoverinfo": "none",
         "line": {
          "color": "black",
          "width": 0.05843439911797133
         },
         "mode": "lines",
         "type": "scatter",
         "x": [
          -0.0825627711026646,
          0.04818478446496627,
          null
         ],
         "y": [
          -0.3134719285893937,
          0.20164731269406747,
          null
         ]
        },
        {
         "hoverinfo": "none",
         "line": {
          "color": "black",
          "width": 0.06284454244762955
         },
         "mode": "lines",
         "type": "scatter",
         "x": [
          -0.0825627711026646,
          -0.37144120461125013,
          null
         ],
         "y": [
          -0.3134719285893937,
          -0.12986819022819746,
          null
         ]
        },
        {
         "hoverinfo": "none",
         "line": {
          "color": "black",
          "width": 0.0639470782800441
         },
         "mode": "lines",
         "type": "scatter",
         "x": [
          -0.0825627711026646,
          0.40315167689691683,
          null
         ],
         "y": [
          -0.3134719285893937,
          0.20769241154504264,
          null
         ]
        },
        {
         "hoverinfo": "none",
         "line": {
          "color": "black",
          "width": 0.06615214994487321
         },
         "mode": "lines",
         "type": "scatter",
         "x": [
          -0.0825627711026646,
          -0.4833939877217876,
          null
         ],
         "y": [
          -0.3134719285893937,
          -0.4711573401511271,
          null
         ]
        },
        {
         "hoverinfo": "none",
         "line": {
          "color": "black",
          "width": 0.05292171995589856
         },
         "mode": "lines",
         "type": "scatter",
         "x": [
          -0.0825627711026646,
          0.009024559649789328,
          null
         ],
         "y": [
          -0.3134719285893937,
          -0.6085671527645421,
          null
         ]
        },
        {
         "hoverinfo": "none",
         "line": {
          "color": "black",
          "width": 0.09040793825799338
         },
         "mode": "lines",
         "type": "scatter",
         "x": [
          -0.0825627711026646,
          0.11116675065627996,
          null
         ],
         "y": [
          -0.3134719285893937,
          -0.18568517327534687,
          null
         ]
        },
        {
         "hoverinfo": "none",
         "line": {
          "color": "black",
          "width": 0.05292171995589856
         },
         "mode": "lines",
         "type": "scatter",
         "x": [
          0.68520876131342,
          0.40315167689691683,
          null
         ],
         "y": [
          -0.3344916584187291,
          0.20769241154504264,
          null
         ]
        },
        {
         "hoverinfo": "none",
         "line": {
          "color": "black",
          "width": 0.14994487320837926
         },
         "mode": "lines",
         "type": "scatter",
         "x": [
          0.68520876131342,
          0.280621903183826,
          null
         ],
         "y": [
          -0.3344916584187291,
          0.024592820781311944,
          null
         ]
        },
        {
         "hoverinfo": "none",
         "line": {
          "color": "black",
          "width": 0.06835722160970231
         },
         "mode": "lines",
         "type": "scatter",
         "x": [
          0.1751558519364111,
          0.40315167689691683,
          null
         ],
         "y": [
          0.692786237071523,
          0.20769241154504264,
          null
         ]
        },
        {
         "hoverinfo": "none",
         "line": {
          "color": "black",
          "width": 0.0948180815876516
         },
         "mode": "lines",
         "type": "scatter",
         "x": [
          0.1751558519364111,
          0.280621903183826,
          null
         ],
         "y": [
          0.692786237071523,
          0.024592820781311944,
          null
         ]
        },
        {
         "hoverinfo": "none",
         "line": {
          "color": "black",
          "width": 0.0782800441014333
         },
         "mode": "lines",
         "type": "scatter",
         "x": [
          0.1751558519364111,
          0.21875011056489926,
          null
         ],
         "y": [
          0.692786237071523,
          0.3300106922694984,
          null
         ]
        },
        {
         "hoverinfo": "none",
         "line": {
          "color": "black",
          "width": 0.054024255788313116
         },
         "mode": "lines",
         "type": "scatter",
         "x": [
          -0.9689848716708584,
          -0.5627857453490946,
          null
         ],
         "y": [
          0.12212327581216623,
          0.2698823709020911,
          null
         ]
        },
        {
         "hoverinfo": "none",
         "line": {
          "color": "black",
          "width": 0.06284454244762955
         },
         "mode": "lines",
         "type": "scatter",
         "x": [
          -0.37144120461125013,
          -0.06579818965053492,
          null
         ],
         "y": [
          -0.12986819022819746,
          0.505978761208058,
          null
         ]
        },
        {
         "hoverinfo": "none",
         "line": {
          "color": "black",
          "width": 0.05071664829106946
         },
         "mode": "lines",
         "type": "scatter",
         "x": [
          -0.37144120461125013,
          -0.5627857453490946,
          null
         ],
         "y": [
          -0.12986819022819746,
          0.2698823709020911,
          null
         ]
        },
        {
         "hoverinfo": "none",
         "line": {
          "color": "black",
          "width": 0.10474090407938258
         },
         "mode": "lines",
         "type": "scatter",
         "x": [
          -0.37144120461125013,
          -0.9435761799962353,
          null
         ],
         "y": [
          -0.12986819022819746,
          -0.23729639037692457,
          null
         ]
        },
        {
         "hoverinfo": "none",
         "line": {
          "color": "black",
          "width": 0.05622932745314223
         },
         "mode": "lines",
         "type": "scatter",
         "x": [
          -0.37144120461125013,
          0.280621903183826,
          null
         ],
         "y": [
          -0.12986819022819746,
          0.024592820781311944,
          null
         ]
        },
        {
         "hoverinfo": "none",
         "line": {
          "color": "black",
          "width": 0.06284454244762955
         },
         "mode": "lines",
         "type": "scatter",
         "x": [
          -0.37144120461125013,
          -0.0825627711026646,
          null
         ],
         "y": [
          -0.12986819022819746,
          -0.3134719285893937,
          null
         ]
        },
        {
         "hoverinfo": "none",
         "line": {
          "color": "black",
          "width": 0.05181918412348402
         },
         "mode": "lines",
         "type": "scatter",
         "x": [
          -0.37144120461125013,
          0.009024559649789328,
          null
         ],
         "y": [
          -0.12986819022819746,
          -0.6085671527645421,
          null
         ]
        },
        {
         "hoverinfo": "none",
         "line": {
          "color": "black",
          "width": 0.08599779492833518
         },
         "mode": "lines",
         "type": "scatter",
         "x": [
          -0.37144120461125013,
          0.11116675065627996,
          null
         ],
         "y": [
          -0.12986819022819746,
          -0.18568517327534687,
          null
         ]
        },
        {
         "hoverinfo": "none",
         "line": {
          "color": "black",
          "width": 0.06284454244762955
         },
         "mode": "lines",
         "type": "scatter",
         "x": [
          -0.06579818965053492,
          -0.37144120461125013,
          null
         ],
         "y": [
          0.505978761208058,
          -0.12986819022819746,
          null
         ]
        },
        {
         "hoverinfo": "none",
         "line": {
          "color": "black",
          "width": 0.05512679162072767
         },
         "mode": "lines",
         "type": "scatter",
         "x": [
          -0.06579818965053492,
          -0.5627857453490946,
          null
         ],
         "y": [
          0.505978761208058,
          0.2698823709020911,
          null
         ]
        },
        {
         "hoverinfo": "none",
         "line": {
          "color": "black",
          "width": 0.05512679162072767
         },
         "mode": "lines",
         "type": "scatter",
         "x": [
          -0.06579818965053492,
          0.11116675065627996,
          null
         ],
         "y": [
          0.505978761208058,
          -0.18568517327534687,
          null
         ]
        },
        {
         "hoverinfo": "none",
         "line": {
          "color": "black",
          "width": 0.10474090407938258
         },
         "mode": "lines",
         "type": "scatter",
         "x": [
          -0.9435761799962353,
          -0.37144120461125013,
          null
         ],
         "y": [
          -0.23729639037692457,
          -0.12986819022819746,
          null
         ]
        },
        {
         "hoverinfo": "none",
         "line": {
          "color": "black",
          "width": 0.0639470782800441
         },
         "mode": "lines",
         "type": "scatter",
         "x": [
          -0.9435761799962353,
          -0.5627857453490946,
          null
         ],
         "y": [
          -0.23729639037692457,
          0.2698823709020911,
          null
         ]
        },
        {
         "hoverinfo": "none",
         "line": {
          "color": "black",
          "width": 0.08048511576626241
         },
         "mode": "lines",
         "type": "scatter",
         "x": [
          0.8655363121834722,
          0.40315167689691683,
          null
         ],
         "y": [
          0.47393660792710274,
          0.20769241154504264,
          null
         ]
        },
        {
         "hoverinfo": "none",
         "line": {
          "color": "black",
          "width": 0.09592061742006615
         },
         "mode": "lines",
         "type": "scatter",
         "x": [
          0.5891274384422315,
          0.280621903183826,
          null
         ],
         "y": [
          0.6636133114725501,
          0.024592820781311944,
          null
         ]
        },
        {
         "hoverinfo": "none",
         "line": {
          "color": "black",
          "width": 0.08048511576626241
         },
         "mode": "lines",
         "type": "scatter",
         "x": [
          0.5891274384422315,
          0.21875011056489926,
          null
         ],
         "y": [
          0.6636133114725501,
          0.3300106922694984,
          null
         ]
        },
        {
         "hoverinfo": "none",
         "line": {
          "color": "black",
          "width": 0.05071664829106946
         },
         "mode": "lines",
         "type": "scatter",
         "x": [
          -0.8045189049640907,
          -0.9665338056541922,
          null
         ],
         "y": [
          0.7731171320607525,
          0.49211036340932496,
          null
         ]
        },
        {
         "hoverinfo": "none",
         "line": {
          "color": "black",
          "width": 0.05071664829106946
         },
         "mode": "lines",
         "type": "scatter",
         "x": [
          -0.9665338056541922,
          -0.8045189049640907,
          null
         ],
         "y": [
          0.49211036340932496,
          0.7731171320607525,
          null
         ]
        },
        {
         "hoverinfo": "none",
         "line": {
          "color": "black",
          "width": 0.05843439911797133
         },
         "mode": "lines",
         "type": "scatter",
         "x": [
          -0.3915323492797808,
          -0.5009889099928371,
          null
         ],
         "y": [
          0.9636026525939778,
          0.1470955116358554,
          null
         ]
        },
        {
         "hoverinfo": "none",
         "line": {
          "color": "black",
          "width": 0.06615214994487321
         },
         "mode": "lines",
         "type": "scatter",
         "x": [
          -0.4833939877217876,
          -0.0825627711026646,
          null
         ],
         "y": [
          -0.4711573401511271,
          -0.3134719285893937,
          null
         ]
        },
        {
         "hoverinfo": "none",
         "line": {
          "color": "black",
          "width": 0.08599779492833518
         },
         "mode": "lines",
         "type": "scatter",
         "x": [
          -0.4833939877217876,
          -0.26976333605861563,
          null
         ],
         "y": [
          -0.4711573401511271,
          -1,
          null
         ]
        },
        {
         "hoverinfo": "none",
         "line": {
          "color": "black",
          "width": 0.05622932745314223
         },
         "mode": "lines",
         "type": "scatter",
         "x": [
          -0.4833939877217876,
          0.009024559649789328,
          null
         ],
         "y": [
          -0.4711573401511271,
          -0.6085671527645421,
          null
         ]
        },
        {
         "hoverinfo": "none",
         "line": {
          "color": "black",
          "width": 0.06504961411245866
         },
         "mode": "lines",
         "type": "scatter",
         "x": [
          -0.4833939877217876,
          0.11116675065627996,
          null
         ],
         "y": [
          -0.4711573401511271,
          -0.18568517327534687,
          null
         ]
        },
        {
         "hoverinfo": "none",
         "line": {
          "color": "black",
          "width": 0.08599779492833518
         },
         "mode": "lines",
         "type": "scatter",
         "x": [
          -0.26976333605861563,
          -0.4833939877217876,
          null
         ],
         "y": [
          -1,
          -0.4711573401511271,
          null
         ]
        },
        {
         "hoverinfo": "none",
         "line": {
          "color": "black",
          "width": 0.06504961411245866
         },
         "mode": "lines",
         "type": "scatter",
         "x": [
          0.8542646220141797,
          0.11116675065627996,
          null
         ],
         "y": [
          -0.06649831438709534,
          -0.18568517327534687,
          null
         ]
        },
        {
         "marker": {
          "color": "lightblue",
          "size": 40
         },
         "mode": "markers+text",
         "text": "Add-on item Sub",
         "textposition": "top center",
         "type": "scatter",
         "x": [
          0.038614584977942866
         ],
         "y": [
          0.001138413209141388
         ]
        },
        {
         "marker": {
          "color": "lightblue",
          "size": 40
         },
         "mode": "markers+text",
         "text": "Chocolate Bar",
         "textposition": "top center",
         "type": "scatter",
         "x": [
          0.7452774007816051
         ],
         "y": [
          0.2757477840064228
         ]
        },
        {
         "marker": {
          "color": "lightblue",
          "size": 40
         },
         "mode": "markers+text",
         "text": "Flavored Milk Sub",
         "textposition": "top center",
         "type": "scatter",
         "x": [
          0.04818478446496627
         ],
         "y": [
          0.20164731269406747
         ]
        },
        {
         "marker": {
          "color": "lightblue",
          "size": 40
         },
         "mode": "markers+text",
         "text": "Instant Noodles Pack",
         "textposition": "top center",
         "type": "scatter",
         "x": [
          -0.5627857453490946
         ],
         "y": [
          0.2698823709020911
         ]
        },
        {
         "marker": {
          "color": "lightblue",
          "size": 40
         },
         "mode": "markers+text",
         "text": "Sugar CSD",
         "textposition": "top center",
         "type": "scatter",
         "x": [
          0.009024559649789328
         ],
         "y": [
          -0.6085671527645421
         ]
        },
        {
         "marker": {
          "color": "lightblue",
          "size": 40
         },
         "mode": "markers+text",
         "text": "Sugar Tea",
         "textposition": "top center",
         "type": "scatter",
         "x": [
          0.11116675065627996
         ],
         "y": [
          -0.18568517327534687
         ]
        },
        {
         "marker": {
          "color": "lightblue",
          "size": 40
         },
         "mode": "markers+text",
         "text": "Cup Of Ice",
         "textposition": "top center",
         "type": "scatter",
         "x": [
          0.37052453410096975
         ],
         "y": [
          -0.6081343693710233
         ]
        },
        {
         "marker": {
          "color": "lightblue",
          "size": 40
         },
         "mode": "markers+text",
         "text": "Coffee Drinks Sub",
         "textposition": "top center",
         "type": "scatter",
         "x": [
          0.8728679626774992
         ],
         "y": [
          -0.3958012322708681
         ]
        },
        {
         "marker": {
          "color": "lightblue",
          "size": 40
         },
         "mode": "markers+text",
         "text": "Other Cuisine Sub",
         "textposition": "top center",
         "type": "scatter",
         "x": [
          0.280621903183826
         ],
         "y": [
          0.024592820781311944
         ]
        },
        {
         "marker": {
          "color": "lightblue",
          "size": 40
         },
         "mode": "markers+text",
         "text": "Cup",
         "textposition": "top center",
         "type": "scatter",
         "x": [
          -0.38213101587260795
         ],
         "y": [
          -0.8289861602163126
         ]
        },
        {
         "marker": {
          "color": "lightblue",
          "size": 40
         },
         "mode": "markers+text",
         "text": "Energy Drinks Sub",
         "textposition": "top center",
         "type": "scatter",
         "x": [
          0.32412996809148165
         ],
         "y": [
          -0.41282414012575225
         ]
        },
        {
         "marker": {
          "color": "lightblue",
          "size": 40
         },
         "mode": "markers+text",
         "text": "No/Less Sugar CSD",
         "textposition": "top center",
         "type": "scatter",
         "x": [
          0.36112021169449104
         ],
         "y": [
          -0.997173273367568
         ]
        },
        {
         "marker": {
          "color": "lightblue",
          "size": 40
         },
         "mode": "markers+text",
         "text": "Drink",
         "textposition": "top center",
         "type": "scatter",
         "x": [
          -0.15871616170583094
         ],
         "y": [
          0.4448796649439935
         ]
        },
        {
         "marker": {
          "color": "lightblue",
          "size": 40
         },
         "mode": "markers+text",
         "text": "Onigiri",
         "textposition": "top center",
         "type": "scatter",
         "x": [
          0.40315167689691683
         ],
         "y": [
          0.20769241154504264
         ]
        },
        {
         "marker": {
          "color": "lightblue",
          "size": 40
         },
         "mode": "markers+text",
         "text": "Packaged bakery",
         "textposition": "top center",
         "type": "scatter",
         "x": [
          -0.5009889099928371
         ],
         "y": [
          0.1470955116358554
         ]
        },
        {
         "marker": {
          "color": "lightblue",
          "size": 40
         },
         "mode": "markers+text",
         "text": "Savoury  Buns",
         "textposition": "top center",
         "type": "scatter",
         "x": [
          0.21875011056489926
         ],
         "y": [
          0.3300106922694984
         ]
        },
        {
         "marker": {
          "color": "lightblue",
          "size": 40
         },
         "mode": "markers+text",
         "text": "Purified water",
         "textposition": "top center",
         "type": "scatter",
         "x": [
          -0.0825627711026646
         ],
         "y": [
          -0.3134719285893937
         ]
        },
        {
         "marker": {
          "color": "lightblue",
          "size": 40
         },
         "mode": "markers+text",
         "text": "Fried Food Sub",
         "textposition": "top center",
         "type": "scatter",
         "x": [
          0.68520876131342
         ],
         "y": [
          -0.3344916584187291
         ]
        },
        {
         "marker": {
          "color": "lightblue",
          "size": 40
         },
         "mode": "markers+text",
         "text": "Fruit Sub",
         "textposition": "top center",
         "type": "scatter",
         "x": [
          0.1751558519364111
         ],
         "y": [
          0.692786237071523
         ]
        },
        {
         "marker": {
          "color": "lightblue",
          "size": 40
         },
         "mode": "markers+text",
         "text": "Hot pot Thai",
         "textposition": "top center",
         "type": "scatter",
         "x": [
          -0.9689848716708584
         ],
         "y": [
          0.12212327581216623
         ]
        },
        {
         "marker": {
          "color": "lightblue",
          "size": 40
         },
         "mode": "markers+text",
         "text": "Instant Noodles Cup",
         "textposition": "top center",
         "type": "scatter",
         "x": [
          -0.37144120461125013
         ],
         "y": [
          -0.12986819022819746
         ]
        },
        {
         "marker": {
          "color": "lightblue",
          "size": 40
         },
         "mode": "markers+text",
         "text": "Instant Noodles Bowl",
         "textposition": "top center",
         "type": "scatter",
         "x": [
          -0.06579818965053492
         ],
         "y": [
          0.505978761208058
         ]
        },
        {
         "marker": {
          "color": "lightblue",
          "size": 40
         },
         "mode": "markers+text",
         "text": "Instant Sausage",
         "textposition": "top center",
         "type": "scatter",
         "x": [
          -0.9435761799962353
         ],
         "y": [
          -0.23729639037692457
         ]
        },
        {
         "marker": {
          "color": "lightblue",
          "size": 40
         },
         "mode": "markers+text",
         "text": "Sandwich",
         "textposition": "top center",
         "type": "scatter",
         "x": [
          0.8655363121834722
         ],
         "y": [
          0.47393660792710274
         ]
        },
        {
         "marker": {
          "color": "lightblue",
          "size": 40
         },
         "mode": "markers+text",
         "text": "Others Steamed  bun",
         "textposition": "top center",
         "type": "scatter",
         "x": [
          0.5891274384422315
         ],
         "y": [
          0.6636133114725501
         ]
        },
        {
         "marker": {
          "color": "lightblue",
          "size": 40
         },
         "mode": "markers+text",
         "text": "Stick",
         "textposition": "top center",
         "type": "scatter",
         "x": [
          -0.8045189049640907
         ],
         "y": [
          0.7731171320607525
         ]
        },
        {
         "marker": {
          "color": "lightblue",
          "size": 40
         },
         "mode": "markers+text",
         "text": "Other Ice Cream",
         "textposition": "top center",
         "type": "scatter",
         "x": [
          -0.9665338056541922
         ],
         "y": [
          0.49211036340932496
         ]
        },
        {
         "marker": {
          "color": "lightblue",
          "size": 40
         },
         "mode": "markers+text",
         "text": "UHT Milk",
         "textposition": "top center",
         "type": "scatter",
         "x": [
          -0.3915323492797808
         ],
         "y": [
          0.9636026525939778
         ]
        },
        {
         "marker": {
          "color": "lightblue",
          "size": 40
         },
         "mode": "markers+text",
         "text": "Potato Snacks",
         "textposition": "top center",
         "type": "scatter",
         "x": [
          -0.4833939877217876
         ],
         "y": [
          -0.4711573401511271
         ]
        },
        {
         "marker": {
          "color": "lightblue",
          "size": 40
         },
         "mode": "markers+text",
         "text": "Salty Snacks",
         "textposition": "top center",
         "type": "scatter",
         "x": [
          -0.26976333605861563
         ],
         "y": [
          -1
         ]
        },
        {
         "marker": {
          "color": "lightblue",
          "size": 40
         },
         "mode": "markers+text",
         "text": "WIC/RIC Juice",
         "textposition": "top center",
         "type": "scatter",
         "x": [
          0.8542646220141797
         ],
         "y": [
          -0.06649831438709534
         ]
        }
       ],
       "layout": {
        "hovermode": "closest",
        "margin": {
         "b": 20,
         "l": 5,
         "r": 5,
         "t": 40
        },
        "plot_bgcolor": "white",
        "showlegend": false,
        "template": {
         "data": {
          "bar": [
           {
            "error_x": {
             "color": "#2a3f5f"
            },
            "error_y": {
             "color": "#2a3f5f"
            },
            "marker": {
             "line": {
              "color": "#E5ECF6",
              "width": 0.5
             },
             "pattern": {
              "fillmode": "overlay",
              "size": 10,
              "solidity": 0.2
             }
            },
            "type": "bar"
           }
          ],
          "barpolar": [
           {
            "marker": {
             "line": {
              "color": "#E5ECF6",
              "width": 0.5
             },
             "pattern": {
              "fillmode": "overlay",
              "size": 10,
              "solidity": 0.2
             }
            },
            "type": "barpolar"
           }
          ],
          "carpet": [
           {
            "aaxis": {
             "endlinecolor": "#2a3f5f",
             "gridcolor": "white",
             "linecolor": "white",
             "minorgridcolor": "white",
             "startlinecolor": "#2a3f5f"
            },
            "baxis": {
             "endlinecolor": "#2a3f5f",
             "gridcolor": "white",
             "linecolor": "white",
             "minorgridcolor": "white",
             "startlinecolor": "#2a3f5f"
            },
            "type": "carpet"
           }
          ],
          "choropleth": [
           {
            "colorbar": {
             "outlinewidth": 0,
             "ticks": ""
            },
            "type": "choropleth"
           }
          ],
          "contour": [
           {
            "colorbar": {
             "outlinewidth": 0,
             "ticks": ""
            },
            "colorscale": [
             [
              0,
              "#0d0887"
             ],
             [
              0.1111111111111111,
              "#46039f"
             ],
             [
              0.2222222222222222,
              "#7201a8"
             ],
             [
              0.3333333333333333,
              "#9c179e"
             ],
             [
              0.4444444444444444,
              "#bd3786"
             ],
             [
              0.5555555555555556,
              "#d8576b"
             ],
             [
              0.6666666666666666,
              "#ed7953"
             ],
             [
              0.7777777777777778,
              "#fb9f3a"
             ],
             [
              0.8888888888888888,
              "#fdca26"
             ],
             [
              1,
              "#f0f921"
             ]
            ],
            "type": "contour"
           }
          ],
          "contourcarpet": [
           {
            "colorbar": {
             "outlinewidth": 0,
             "ticks": ""
            },
            "type": "contourcarpet"
           }
          ],
          "heatmap": [
           {
            "colorbar": {
             "outlinewidth": 0,
             "ticks": ""
            },
            "colorscale": [
             [
              0,
              "#0d0887"
             ],
             [
              0.1111111111111111,
              "#46039f"
             ],
             [
              0.2222222222222222,
              "#7201a8"
             ],
             [
              0.3333333333333333,
              "#9c179e"
             ],
             [
              0.4444444444444444,
              "#bd3786"
             ],
             [
              0.5555555555555556,
              "#d8576b"
             ],
             [
              0.6666666666666666,
              "#ed7953"
             ],
             [
              0.7777777777777778,
              "#fb9f3a"
             ],
             [
              0.8888888888888888,
              "#fdca26"
             ],
             [
              1,
              "#f0f921"
             ]
            ],
            "type": "heatmap"
           }
          ],
          "heatmapgl": [
           {
            "colorbar": {
             "outlinewidth": 0,
             "ticks": ""
            },
            "colorscale": [
             [
              0,
              "#0d0887"
             ],
             [
              0.1111111111111111,
              "#46039f"
             ],
             [
              0.2222222222222222,
              "#7201a8"
             ],
             [
              0.3333333333333333,
              "#9c179e"
             ],
             [
              0.4444444444444444,
              "#bd3786"
             ],
             [
              0.5555555555555556,
              "#d8576b"
             ],
             [
              0.6666666666666666,
              "#ed7953"
             ],
             [
              0.7777777777777778,
              "#fb9f3a"
             ],
             [
              0.8888888888888888,
              "#fdca26"
             ],
             [
              1,
              "#f0f921"
             ]
            ],
            "type": "heatmapgl"
           }
          ],
          "histogram": [
           {
            "marker": {
             "pattern": {
              "fillmode": "overlay",
              "size": 10,
              "solidity": 0.2
             }
            },
            "type": "histogram"
           }
          ],
          "histogram2d": [
           {
            "colorbar": {
             "outlinewidth": 0,
             "ticks": ""
            },
            "colorscale": [
             [
              0,
              "#0d0887"
             ],
             [
              0.1111111111111111,
              "#46039f"
             ],
             [
              0.2222222222222222,
              "#7201a8"
             ],
             [
              0.3333333333333333,
              "#9c179e"
             ],
             [
              0.4444444444444444,
              "#bd3786"
             ],
             [
              0.5555555555555556,
              "#d8576b"
             ],
             [
              0.6666666666666666,
              "#ed7953"
             ],
             [
              0.7777777777777778,
              "#fb9f3a"
             ],
             [
              0.8888888888888888,
              "#fdca26"
             ],
             [
              1,
              "#f0f921"
             ]
            ],
            "type": "histogram2d"
           }
          ],
          "histogram2dcontour": [
           {
            "colorbar": {
             "outlinewidth": 0,
             "ticks": ""
            },
            "colorscale": [
             [
              0,
              "#0d0887"
             ],
             [
              0.1111111111111111,
              "#46039f"
             ],
             [
              0.2222222222222222,
              "#7201a8"
             ],
             [
              0.3333333333333333,
              "#9c179e"
             ],
             [
              0.4444444444444444,
              "#bd3786"
             ],
             [
              0.5555555555555556,
              "#d8576b"
             ],
             [
              0.6666666666666666,
              "#ed7953"
             ],
             [
              0.7777777777777778,
              "#fb9f3a"
             ],
             [
              0.8888888888888888,
              "#fdca26"
             ],
             [
              1,
              "#f0f921"
             ]
            ],
            "type": "histogram2dcontour"
           }
          ],
          "mesh3d": [
           {
            "colorbar": {
             "outlinewidth": 0,
             "ticks": ""
            },
            "type": "mesh3d"
           }
          ],
          "parcoords": [
           {
            "line": {
             "colorbar": {
              "outlinewidth": 0,
              "ticks": ""
             }
            },
            "type": "parcoords"
           }
          ],
          "pie": [
           {
            "automargin": true,
            "type": "pie"
           }
          ],
          "scatter": [
           {
            "fillpattern": {
             "fillmode": "overlay",
             "size": 10,
             "solidity": 0.2
            },
            "type": "scatter"
           }
          ],
          "scatter3d": [
           {
            "line": {
             "colorbar": {
              "outlinewidth": 0,
              "ticks": ""
             }
            },
            "marker": {
             "colorbar": {
              "outlinewidth": 0,
              "ticks": ""
             }
            },
            "type": "scatter3d"
           }
          ],
          "scattercarpet": [
           {
            "marker": {
             "colorbar": {
              "outlinewidth": 0,
              "ticks": ""
             }
            },
            "type": "scattercarpet"
           }
          ],
          "scattergeo": [
           {
            "marker": {
             "colorbar": {
              "outlinewidth": 0,
              "ticks": ""
             }
            },
            "type": "scattergeo"
           }
          ],
          "scattergl": [
           {
            "marker": {
             "colorbar": {
              "outlinewidth": 0,
              "ticks": ""
             }
            },
            "type": "scattergl"
           }
          ],
          "scattermapbox": [
           {
            "marker": {
             "colorbar": {
              "outlinewidth": 0,
              "ticks": ""
             }
            },
            "type": "scattermapbox"
           }
          ],
          "scatterpolar": [
           {
            "marker": {
             "colorbar": {
              "outlinewidth": 0,
              "ticks": ""
             }
            },
            "type": "scatterpolar"
           }
          ],
          "scatterpolargl": [
           {
            "marker": {
             "colorbar": {
              "outlinewidth": 0,
              "ticks": ""
             }
            },
            "type": "scatterpolargl"
           }
          ],
          "scatterternary": [
           {
            "marker": {
             "colorbar": {
              "outlinewidth": 0,
              "ticks": ""
             }
            },
            "type": "scatterternary"
           }
          ],
          "surface": [
           {
            "colorbar": {
             "outlinewidth": 0,
             "ticks": ""
            },
            "colorscale": [
             [
              0,
              "#0d0887"
             ],
             [
              0.1111111111111111,
              "#46039f"
             ],
             [
              0.2222222222222222,
              "#7201a8"
             ],
             [
              0.3333333333333333,
              "#9c179e"
             ],
             [
              0.4444444444444444,
              "#bd3786"
             ],
             [
              0.5555555555555556,
              "#d8576b"
             ],
             [
              0.6666666666666666,
              "#ed7953"
             ],
             [
              0.7777777777777778,
              "#fb9f3a"
             ],
             [
              0.8888888888888888,
              "#fdca26"
             ],
             [
              1,
              "#f0f921"
             ]
            ],
            "type": "surface"
           }
          ],
          "table": [
           {
            "cells": {
             "fill": {
              "color": "#EBF0F8"
             },
             "line": {
              "color": "white"
             }
            },
            "header": {
             "fill": {
              "color": "#C8D4E3"
             },
             "line": {
              "color": "white"
             }
            },
            "type": "table"
           }
          ]
         },
         "layout": {
          "annotationdefaults": {
           "arrowcolor": "#2a3f5f",
           "arrowhead": 0,
           "arrowwidth": 1
          },
          "autotypenumbers": "strict",
          "coloraxis": {
           "colorbar": {
            "outlinewidth": 0,
            "ticks": ""
           }
          },
          "colorscale": {
           "diverging": [
            [
             0,
             "#8e0152"
            ],
            [
             0.1,
             "#c51b7d"
            ],
            [
             0.2,
             "#de77ae"
            ],
            [
             0.3,
             "#f1b6da"
            ],
            [
             0.4,
             "#fde0ef"
            ],
            [
             0.5,
             "#f7f7f7"
            ],
            [
             0.6,
             "#e6f5d0"
            ],
            [
             0.7,
             "#b8e186"
            ],
            [
             0.8,
             "#7fbc41"
            ],
            [
             0.9,
             "#4d9221"
            ],
            [
             1,
             "#276419"
            ]
           ],
           "sequential": [
            [
             0,
             "#0d0887"
            ],
            [
             0.1111111111111111,
             "#46039f"
            ],
            [
             0.2222222222222222,
             "#7201a8"
            ],
            [
             0.3333333333333333,
             "#9c179e"
            ],
            [
             0.4444444444444444,
             "#bd3786"
            ],
            [
             0.5555555555555556,
             "#d8576b"
            ],
            [
             0.6666666666666666,
             "#ed7953"
            ],
            [
             0.7777777777777778,
             "#fb9f3a"
            ],
            [
             0.8888888888888888,
             "#fdca26"
            ],
            [
             1,
             "#f0f921"
            ]
           ],
           "sequentialminus": [
            [
             0,
             "#0d0887"
            ],
            [
             0.1111111111111111,
             "#46039f"
            ],
            [
             0.2222222222222222,
             "#7201a8"
            ],
            [
             0.3333333333333333,
             "#9c179e"
            ],
            [
             0.4444444444444444,
             "#bd3786"
            ],
            [
             0.5555555555555556,
             "#d8576b"
            ],
            [
             0.6666666666666666,
             "#ed7953"
            ],
            [
             0.7777777777777778,
             "#fb9f3a"
            ],
            [
             0.8888888888888888,
             "#fdca26"
            ],
            [
             1,
             "#f0f921"
            ]
           ]
          },
          "colorway": [
           "#636efa",
           "#EF553B",
           "#00cc96",
           "#ab63fa",
           "#FFA15A",
           "#19d3f3",
           "#FF6692",
           "#B6E880",
           "#FF97FF",
           "#FECB52"
          ],
          "font": {
           "color": "#2a3f5f"
          },
          "geo": {
           "bgcolor": "white",
           "lakecolor": "white",
           "landcolor": "#E5ECF6",
           "showlakes": true,
           "showland": true,
           "subunitcolor": "white"
          },
          "hoverlabel": {
           "align": "left"
          },
          "hovermode": "closest",
          "mapbox": {
           "style": "light"
          },
          "paper_bgcolor": "white",
          "plot_bgcolor": "#E5ECF6",
          "polar": {
           "angularaxis": {
            "gridcolor": "white",
            "linecolor": "white",
            "ticks": ""
           },
           "bgcolor": "#E5ECF6",
           "radialaxis": {
            "gridcolor": "white",
            "linecolor": "white",
            "ticks": ""
           }
          },
          "scene": {
           "xaxis": {
            "backgroundcolor": "#E5ECF6",
            "gridcolor": "white",
            "gridwidth": 2,
            "linecolor": "white",
            "showbackground": true,
            "ticks": "",
            "zerolinecolor": "white"
           },
           "yaxis": {
            "backgroundcolor": "#E5ECF6",
            "gridcolor": "white",
            "gridwidth": 2,
            "linecolor": "white",
            "showbackground": true,
            "ticks": "",
            "zerolinecolor": "white"
           },
           "zaxis": {
            "backgroundcolor": "#E5ECF6",
            "gridcolor": "white",
            "gridwidth": 2,
            "linecolor": "white",
            "showbackground": true,
            "ticks": "",
            "zerolinecolor": "white"
           }
          },
          "shapedefaults": {
           "line": {
            "color": "#2a3f5f"
           }
          },
          "ternary": {
           "aaxis": {
            "gridcolor": "white",
            "linecolor": "white",
            "ticks": ""
           },
           "baxis": {
            "gridcolor": "white",
            "linecolor": "white",
            "ticks": ""
           },
           "bgcolor": "#E5ECF6",
           "caxis": {
            "gridcolor": "white",
            "linecolor": "white",
            "ticks": ""
           }
          },
          "title": {
           "x": 0.05
          },
          "xaxis": {
           "automargin": true,
           "gridcolor": "white",
           "linecolor": "white",
           "ticks": "",
           "title": {
            "standoff": 15
           },
           "zerolinecolor": "white",
           "zerolinewidth": 2
          },
          "yaxis": {
           "automargin": true,
           "gridcolor": "white",
           "linecolor": "white",
           "ticks": "",
           "title": {
            "standoff": 15
           },
           "zerolinecolor": "white",
           "zerolinewidth": 2
          }
         }
        },
        "title": {
         "text": "Items Set Rules Graph",
         "x": 0.5
        },
        "xaxis": {
         "showgrid": false,
         "showticklabels": false,
         "zeroline": false
        },
        "yaxis": {
         "showgrid": false,
         "showticklabels": false,
         "zeroline": false
        }
       }
      }
     },
     "metadata": {},
     "output_type": "display_data"
    }
   ],
   "source": [
    "import plotly.graph_objects as go\n",
    "import networkx as nx\n",
    "\n",
    "# Create an empty directed graph\n",
    "G = nx.DiGraph()\n",
    "\n",
    "# Iterate through each row of the DataFrame and add edges to the graph\n",
    "for index, row in rules.iterrows():\n",
    "    antecedent = ', '.join(row['antecedents'])\n",
    "    consequent = ', '.join(row['consequents'])\n",
    "    support = row['support']\n",
    "    confidence = row['confidence']\n",
    "    lift = row['lift']\n",
    "    conviction = row['conviction']\n",
    "\n",
    "    # Add edges to the graph with the support or confidence as edge weight\n",
    "    G.add_edge(antecedent, consequent, weight=support)\n",
    "\n",
    "# Get the node positions using spring layout\n",
    "pos = nx.spring_layout(G)\n",
    "\n",
    "# Create a list of edge traces\n",
    "edge_traces = []\n",
    "for edge in G.edges():\n",
    "    x0, y0 = pos[edge[0]]\n",
    "    x1, y1 = pos[edge[1]]\n",
    "    weight = G.get_edge_data(edge[0], edge[1])['weight']\n",
    "    edge_trace = go.Scatter(x=[x0, x1, None], y=[y0, y1, None],\n",
    "                            mode='lines', line=dict(width=weight*10, color='black'),\n",
    "                            hoverinfo='none')\n",
    "    edge_traces.append(edge_trace)\n",
    "\n",
    "# Create a list of node traces\n",
    "node_traces = []\n",
    "for node in G.nodes():\n",
    "    x, y = pos[node]\n",
    "    node_trace = go.Scatter(x=[x], y=[y], mode='markers+text', text=node,\n",
    "                            textposition='top center', marker=dict(size=40, color='lightblue'))\n",
    "    node_traces.append(node_trace)\n",
    "\n",
    "# Create the figure and add the edge and node traces\n",
    "fig = go.Figure(data=edge_traces + node_traces)\n",
    "\n",
    "# Set the layout properties\n",
    "fig.update_layout(title='Items Set Rules Graph', title_x=0.5, showlegend=False, hovermode='closest',\n",
    "                  plot_bgcolor='white', margin=dict(b=20, l=5, r=5, t=40), xaxis=dict(showgrid=False, zeroline=False,\n",
    "                  showticklabels=False), yaxis=dict(showgrid=False, zeroline=False, showticklabels=False))\n",
    "\n",
    "# Show the plot\n",
    "fig.show()\n"
   ]
  },
  {
   "cell_type": "code",
   "execution_count": 15,
   "metadata": {},
   "outputs": [
    {
     "data": {
      "application/vnd.plotly.v1+json": {
       "config": {
        "plotlyServerURL": "https://plot.ly"
       },
       "data": [
        {
         "hoverinfo": "text",
         "hovertext": "Support: 0.005",
         "line": {
          "color": "black",
          "width": 0.054024255788313116
         },
         "mode": "lines",
         "type": "scatter",
         "x": [
          -0.16739773206653258,
          0.21230298974434644,
          null
         ],
         "y": [
          0.11231767292620146,
          -0.21050837417147714,
          null
         ]
        },
        {
         "hoverinfo": "text",
         "hovertext": "Support: 0.012",
         "line": {
          "color": "black",
          "width": 0.12238147739801544
         },
         "mode": "lines",
         "type": "scatter",
         "x": [
          -0.16739773206653258,
          -0.700175760732675,
          null
         ],
         "y": [
          0.11231767292620146,
          -0.023294256088784545,
          null
         ]
        },
        {
         "hoverinfo": "text",
         "hovertext": "Support: 0.006",
         "line": {
          "color": "black",
          "width": 0.05843439911797133
         },
         "mode": "lines",
         "type": "scatter",
         "x": [
          -0.16739773206653258,
          0.524971653452151,
          null
         ],
         "y": [
          0.11231767292620146,
          0.6557664402951382,
          null
         ]
        },
        {
         "hoverinfo": "text",
         "hovertext": "Support: 0.006",
         "line": {
          "color": "black",
          "width": 0.05622932745314223
         },
         "mode": "lines",
         "type": "scatter",
         "x": [
          -0.16739773206653258,
          -0.25551841545361714,
          null
         ],
         "y": [
          0.11231767292620146,
          0.7884960540626593,
          null
         ]
        },
        {
         "hoverinfo": "text",
         "hovertext": "Support: 0.005",
         "line": {
          "color": "black",
          "width": 0.054024255788313116
         },
         "mode": "lines",
         "type": "scatter",
         "x": [
          0.21230298974434644,
          -0.16739773206653258,
          null
         ],
         "y": [
          -0.21050837417147714,
          0.11231767292620146,
          null
         ]
        },
        {
         "hoverinfo": "text",
         "hovertext": "Support: 0.006",
         "line": {
          "color": "black",
          "width": 0.06174200661521499
         },
         "mode": "lines",
         "type": "scatter",
         "x": [
          0.21230298974434644,
          -0.700175760732675,
          null
         ],
         "y": [
          -0.21050837417147714,
          -0.023294256088784545,
          null
         ]
        },
        {
         "hoverinfo": "text",
         "hovertext": "Support: 0.012",
         "line": {
          "color": "black",
          "width": 0.12238147739801544
         },
         "mode": "lines",
         "type": "scatter",
         "x": [
          -0.700175760732675,
          -0.16739773206653258,
          null
         ],
         "y": [
          -0.023294256088784545,
          0.11231767292620146,
          null
         ]
        },
        {
         "hoverinfo": "text",
         "hovertext": "Support: 0.006",
         "line": {
          "color": "black",
          "width": 0.05843439911797133
         },
         "mode": "lines",
         "type": "scatter",
         "x": [
          0.524971653452151,
          -0.16739773206653258,
          null
         ],
         "y": [
          0.6557664402951382,
          0.11231767292620146,
          null
         ]
        },
        {
         "hoverinfo": "text",
         "hovertext": "Support: 0.005",
         "line": {
          "color": "black",
          "width": 0.054024255788313116
         },
         "mode": "lines",
         "type": "scatter",
         "x": [
          0.524971653452151,
          0.02452273806894359,
          null
         ],
         "y": [
          0.6557664402951382,
          0.8793352236226699,
          null
         ]
        },
        {
         "hoverinfo": "text",
         "hovertext": "Support: 0.006",
         "line": {
          "color": "black",
          "width": 0.05512679162072767
         },
         "mode": "lines",
         "type": "scatter",
         "x": [
          0.524971653452151,
          0.6084127221341621,
          null
         ],
         "y": [
          0.6557664402951382,
          0.2805502674336074,
          null
         ]
        },
        {
         "hoverinfo": "text",
         "hovertext": "Support: 0.006",
         "line": {
          "color": "black",
          "width": 0.0639470782800441
         },
         "mode": "lines",
         "type": "scatter",
         "x": [
          0.524971653452151,
          0.22413074890352178,
          null
         ],
         "y": [
          0.6557664402951382,
          0.3017134205070586,
          null
         ]
        },
        {
         "hoverinfo": "text",
         "hovertext": "Support: 0.011",
         "line": {
          "color": "black",
          "width": 0.10804851157662623
         },
         "mode": "lines",
         "type": "scatter",
         "x": [
          -0.25551841545361714,
          0.007499596450446303,
          null
         ],
         "y": [
          0.7884960540626593,
          0.45001887997176043,
          null
         ]
        },
        {
         "hoverinfo": "text",
         "hovertext": "Support: 0.006",
         "line": {
          "color": "black",
          "width": 0.06174200661521499
         },
         "mode": "lines",
         "type": "scatter",
         "x": [
          -0.11821591046125876,
          0.007499596450446303,
          null
         ],
         "y": [
          -0.5898866896347102,
          0.45001887997176043,
          null
         ]
        },
        {
         "hoverinfo": "text",
         "hovertext": "Support: 0.023",
         "line": {
          "color": "black",
          "width": 0.2293274531422271
         },
         "mode": "lines",
         "type": "scatter",
         "x": [
          0.007499596450446303,
          0.1463009675677053,
          null
         ],
         "y": [
          0.45001887997176043,
          0.12542112874137737,
          null
         ]
        },
        {
         "hoverinfo": "text",
         "hovertext": "Support: 0.011",
         "line": {
          "color": "black",
          "width": 0.10804851157662623
         },
         "mode": "lines",
         "type": "scatter",
         "x": [
          0.007499596450446303,
          -0.25551841545361714,
          null
         ],
         "y": [
          0.45001887997176043,
          0.7884960540626593,
          null
         ]
        },
        {
         "hoverinfo": "text",
         "hovertext": "Support: 0.023",
         "line": {
          "color": "black",
          "width": 0.2293274531422271
         },
         "mode": "lines",
         "type": "scatter",
         "x": [
          0.1463009675677053,
          0.007499596450446303,
          null
         ],
         "y": [
          0.12542112874137737,
          0.45001887997176043,
          null
         ]
        },
        {
         "hoverinfo": "text",
         "hovertext": "Support: 0.007",
         "line": {
          "color": "black",
          "width": 0.07056229327453142
         },
         "mode": "lines",
         "type": "scatter",
         "x": [
          0.041766318356936304,
          0.007499596450446303,
          null
         ],
         "y": [
          -0.1558735429064921,
          0.45001887997176043,
          null
         ]
        },
        {
         "hoverinfo": "text",
         "hovertext": "Support: 0.005",
         "line": {
          "color": "black",
          "width": 0.05292171995589856
         },
         "mode": "lines",
         "type": "scatter",
         "x": [
          0.041766318356936304,
          -0.25551841545361714,
          null
         ],
         "y": [
          -0.1558735429064921,
          0.7884960540626593,
          null
         ]
        },
        {
         "hoverinfo": "text",
         "hovertext": "Support: 0.015",
         "line": {
          "color": "black",
          "width": 0.14994487320837926
         },
         "mode": "lines",
         "type": "scatter",
         "x": [
          0.37077530732247915,
          0.004840745782718047,
          null
         ],
         "y": [
          -0.9538671060307964,
          -0.5466327180490776,
          null
         ]
        },
        {
         "hoverinfo": "text",
         "hovertext": "Support: 0.015",
         "line": {
          "color": "black",
          "width": 0.14994487320837926
         },
         "mode": "lines",
         "type": "scatter",
         "x": [
          0.004840745782718047,
          0.37077530732247915,
          null
         ],
         "y": [
          -0.5466327180490776,
          -0.9538671060307964,
          null
         ]
        },
        {
         "hoverinfo": "text",
         "hovertext": "Support: 0.005",
         "line": {
          "color": "black",
          "width": 0.054024255788313116
         },
         "mode": "lines",
         "type": "scatter",
         "x": [
          0.02452273806894359,
          0.524971653452151,
          null
         ],
         "y": [
          0.8793352236226699,
          0.6557664402951382,
          null
         ]
        },
        {
         "hoverinfo": "text",
         "hovertext": "Support: 0.006",
         "line": {
          "color": "black",
          "width": 0.06284454244762955
         },
         "mode": "lines",
         "type": "scatter",
         "x": [
          0.6084127221341621,
          -0.4256327590846933,
          null
         ],
         "y": [
          0.2805502674336074,
          0.21871257104701872,
          null
         ]
        },
        {
         "hoverinfo": "text",
         "hovertext": "Support: 0.006",
         "line": {
          "color": "black",
          "width": 0.05512679162072767
         },
         "mode": "lines",
         "type": "scatter",
         "x": [
          0.6084127221341621,
          0.524971653452151,
          null
         ],
         "y": [
          0.2805502674336074,
          0.6557664402951382,
          null
         ]
        },
        {
         "hoverinfo": "text",
         "hovertext": "Support: 0.010",
         "line": {
          "color": "black",
          "width": 0.10474090407938258
         },
         "mode": "lines",
         "type": "scatter",
         "x": [
          -0.4256327590846933,
          0.22413074890352178,
          null
         ],
         "y": [
          0.21871257104701872,
          0.3017134205070586,
          null
         ]
        },
        {
         "hoverinfo": "text",
         "hovertext": "Support: 0.010",
         "line": {
          "color": "black",
          "width": 0.10474090407938258
         },
         "mode": "lines",
         "type": "scatter",
         "x": [
          0.22413074890352178,
          -0.4256327590846933,
          null
         ],
         "y": [
          0.3017134205070586,
          0.21871257104701872,
          null
         ]
        },
        {
         "hoverinfo": "text",
         "hovertext": "Support: 0.006",
         "line": {
          "color": "black",
          "width": 0.0639470782800441
         },
         "mode": "lines",
         "type": "scatter",
         "x": [
          0.22413074890352178,
          0.524971653452151,
          null
         ],
         "y": [
          0.3017134205070586,
          0.6557664402951382,
          null
         ]
        },
        {
         "hoverinfo": "text",
         "hovertext": "Support: 0.008",
         "line": {
          "color": "black",
          "width": 0.08048511576626241
         },
         "mode": "lines",
         "type": "scatter",
         "x": [
          -0.5736530746777103,
          -0.8712699363978709,
          null
         ],
         "y": [
          -0.7622402211192914,
          0.01133275065760342,
          null
         ]
        },
        {
         "hoverinfo": "text",
         "hovertext": "Support: 0.008",
         "line": {
          "color": "black",
          "width": 0.08048511576626241
         },
         "mode": "lines",
         "type": "scatter",
         "x": [
          -0.8712699363978709,
          -0.5736530746777103,
          null
         ],
         "y": [
          0.01133275065760342,
          -0.7622402211192914,
          null
         ]
        },
        {
         "hoverinfo": "text",
         "hovertext": "Support: 0.010",
         "line": {
          "color": "black",
          "width": 0.09592061742006615
         },
         "mode": "lines",
         "type": "scatter",
         "x": [
          0.6483529982508108,
          0.37077530732247915,
          null
         ],
         "y": [
          -0.17339851383017665,
          -0.9538671060307964,
          null
         ]
        },
        {
         "hoverinfo": "text",
         "hovertext": "Support: 0.008",
         "line": {
          "color": "black",
          "width": 0.08048511576626241
         },
         "mode": "lines",
         "type": "scatter",
         "x": [
          0.6483529982508108,
          0.7860114876160732,
          null
         ],
         "y": [
          -0.17339851383017665,
          -0.5528689799122556,
          null
         ]
        },
        {
         "hoverinfo": "text",
         "hovertext": "Support: 0.005",
         "line": {
          "color": "black",
          "width": 0.05071664829106946
         },
         "mode": "lines",
         "type": "scatter",
         "x": [
          0.5228945254653813,
          0.9440162807619407,
          null
         ],
         "y": [
          0.5148343243624214,
          -0.20015033449107075,
          null
         ]
        },
        {
         "hoverinfo": "text",
         "hovertext": "Support: 0.005",
         "line": {
          "color": "black",
          "width": 0.05071664829106946
         },
         "mode": "lines",
         "type": "scatter",
         "x": [
          0.9440162807619407,
          0.5228945254653813,
          null
         ],
         "y": [
          -0.20015033449107075,
          0.5148343243624214,
          null
         ]
        },
        {
         "hoverinfo": "text",
         "hovertext": "Support: 0.008",
         "line": {
          "color": "black",
          "width": 0.08048511576626241
         },
         "mode": "lines",
         "type": "scatter",
         "x": [
          0.7860114876160732,
          0.6483529982508108,
          null
         ],
         "y": [
          -0.5528689799122556,
          -0.17339851383017665,
          null
         ]
        },
        {
         "hoverinfo": "text",
         "hovertext": "Support: 0.006",
         "line": {
          "color": "black",
          "width": 0.05843439911797133
         },
         "mode": "lines",
         "type": "scatter",
         "x": [
          0.1552947961654301,
          -0.6378180354319634,
          null
         ],
         "y": [
          -1,
          -0.7063632562315874,
          null
         ]
        },
        {
         "hoverinfo": "text",
         "hovertext": "Support: 0.009",
         "line": {
          "color": "black",
          "width": 0.08599779492833518
         },
         "mode": "lines",
         "type": "scatter",
         "x": [
          0.21402539288674796,
          -0.4300561016156724,
          null
         ],
         "y": [
          0.8832718168832748,
          0.8083761638090913,
          null
         ]
        },
        {
         "hoverinfo": "text",
         "hovertext": "Support: 0.009",
         "line": {
          "color": "black",
          "width": 0.08599779492833518
         },
         "mode": "lines",
         "type": "scatter",
         "x": [
          -0.4300561016156724,
          0.21402539288674796,
          null
         ],
         "y": [
          0.8083761638090913,
          0.8832718168832748,
          null
         ]
        },
        {
         "hoverinfo": "text",
         "hovertext": "Support: 0.007",
         "line": {
          "color": "black",
          "width": 0.06504961411245866
         },
         "mode": "lines",
         "type": "scatter",
         "x": [
          -0.34522702077442685,
          -0.9111545222333736,
          null
         ],
         "y": [
          0.10845715224303908,
          -0.263519874097201,
          null
         ]
        },
        {
         "hoverinfo": "text",
         "hovertext": "Item: Add-on item Sub<br>Trigger Chocolate Bar - Add-on item Sub, Support: 0.005, Lift: 2.398, Confidence: 0.140, Conviction: 1.156<br>Trigger Flavored Milk Sub - Add-on item Sub, Support: 0.012, Lift: 2.398, Confidence: 0.140, Conviction: 1.156<br>Trigger Instant Noodles Pack - Add-on item Sub, Support: 0.006, Lift: 2.398, Confidence: 0.140, Conviction: 1.156<br>Trigger Add-on item Sub - Chocolate Bar, Support: 0.005, Lift: 2.398, Confidence: 0.140, Conviction: 1.156<br>Trigger Add-on item Sub - Flavored Milk Sub, Support: 0.012, Lift: 2.398, Confidence: 0.140, Conviction: 1.156<br>Trigger Add-on item Sub - Instant Noodles Pack, Support: 0.006, Lift: 2.398, Confidence: 0.140, Conviction: 1.156<br>Trigger Add-on item Sub - Sugar CSD, Support: 0.006, Lift: 2.398, Confidence: 0.140, Conviction: 1.156<br>",
         "marker": {
          "color": "lightblue",
          "size": 40
         },
         "mode": "markers+text",
         "text": "Add-on item Sub",
         "type": "scatter",
         "x": [
          -0.16739773206653258
         ],
         "y": [
          0.11231767292620146
         ]
        },
        {
         "hoverinfo": "text",
         "hovertext": "Item: Chocolate Bar<br>Trigger Add-on item Sub - Chocolate Bar, Support: 0.005, Lift: 2.148, Confidence: 0.144, Conviction: 1.161<br>Trigger Chocolate Bar - Add-on item Sub, Support: 0.005, Lift: 2.148, Confidence: 0.144, Conviction: 1.161<br>Trigger Chocolate Bar - Flavored Milk Sub, Support: 0.006, Lift: 2.148, Confidence: 0.144, Conviction: 1.161<br>",
         "marker": {
          "color": "lightblue",
          "size": 40
         },
         "mode": "markers+text",
         "text": "Chocolate Bar",
         "type": "scatter",
         "x": [
          0.21230298974434644
         ],
         "y": [
          -0.21050837417147714
         ]
        },
        {
         "hoverinfo": "text",
         "hovertext": "Item: Flavored Milk Sub<br>Trigger Add-on item Sub - Flavored Milk Sub, Support: 0.012, Lift: 2.148, Confidence: 0.144, Conviction: 1.161<br>Trigger Chocolate Bar - Flavored Milk Sub, Support: 0.006, Lift: 2.148, Confidence: 0.144, Conviction: 1.161<br>Trigger Flavored Milk Sub - Add-on item Sub, Support: 0.012, Lift: 2.148, Confidence: 0.144, Conviction: 1.161<br>",
         "marker": {
          "color": "lightblue",
          "size": 40
         },
         "mode": "markers+text",
         "text": "Flavored Milk Sub",
         "type": "scatter",
         "x": [
          -0.700175760732675
         ],
         "y": [
          -0.023294256088784545
         ]
        },
        {
         "hoverinfo": "text",
         "hovertext": "Item: Instant Noodles Pack<br>Trigger Add-on item Sub - Instant Noodles Pack, Support: 0.006, Lift: 6.111, Confidence: 0.275, Conviction: 1.370<br>Trigger Hot pot Thai - Instant Noodles Pack, Support: 0.005, Lift: 6.111, Confidence: 0.275, Conviction: 1.370<br>Trigger Instant Noodles Bowl - Instant Noodles Pack, Support: 0.006, Lift: 6.111, Confidence: 0.275, Conviction: 1.370<br>Trigger Instant Sausage - Instant Noodles Pack, Support: 0.006, Lift: 6.111, Confidence: 0.275, Conviction: 1.370<br>Trigger Instant Noodles Pack - Add-on item Sub, Support: 0.006, Lift: 6.111, Confidence: 0.275, Conviction: 1.370<br>Trigger Instant Noodles Pack - Hot pot Thai, Support: 0.005, Lift: 6.111, Confidence: 0.275, Conviction: 1.370<br>Trigger Instant Noodles Pack - Instant Noodles Bowl, Support: 0.006, Lift: 6.111, Confidence: 0.275, Conviction: 1.370<br>Trigger Instant Noodles Pack - Instant Sausage, Support: 0.006, Lift: 6.111, Confidence: 0.275, Conviction: 1.370<br>",
         "marker": {
          "color": "lightblue",
          "size": 40
         },
         "mode": "markers+text",
         "text": "Instant Noodles Pack",
         "type": "scatter",
         "x": [
          0.524971653452151
         ],
         "y": [
          0.6557664402951382
         ]
        },
        {
         "hoverinfo": "text",
         "hovertext": "Item: Sugar CSD<br>Trigger Add-on item Sub - Sugar CSD, Support: 0.006, Lift: 2.340, Confidence: 0.137, Conviction: 1.152<br>Trigger Cup Of Ice - Sugar CSD, Support: 0.011, Lift: 2.340, Confidence: 0.137, Conviction: 1.152<br>Trigger No/Less Sugar CSD - Sugar CSD, Support: 0.005, Lift: 2.340, Confidence: 0.137, Conviction: 1.152<br>Trigger Sugar CSD - Cup Of Ice, Support: 0.011, Lift: 2.340, Confidence: 0.137, Conviction: 1.152<br>",
         "marker": {
          "color": "lightblue",
          "size": 40
         },
         "mode": "markers+text",
         "text": "Sugar CSD",
         "type": "scatter",
         "x": [
          -0.25551841545361714
         ],
         "y": [
          0.7884960540626593
         ]
        },
        {
         "hoverinfo": "text",
         "hovertext": "Item: Coffee Drinks Sub<br>Trigger Coffee Drinks Sub - Cup Of Ice, Support: 0.006, Lift: 2.353, Confidence: 0.186, Conviction: 1.221<br>",
         "marker": {
          "color": "lightblue",
          "size": 40
         },
         "mode": "markers+text",
         "text": "Coffee Drinks Sub",
         "type": "scatter",
         "x": [
          -0.11821591046125876
         ],
         "y": [
          -0.5898866896347102
         ]
        },
        {
         "hoverinfo": "text",
         "hovertext": "Item: Cup Of Ice<br>Trigger Coffee Drinks Sub - Cup Of Ice, Support: 0.006, Lift: 2.339, Confidence: 0.137, Conviction: 1.146<br>Trigger Energy Drinks Sub - Cup Of Ice, Support: 0.023, Lift: 2.339, Confidence: 0.137, Conviction: 1.146<br>Trigger No/Less Sugar CSD - Cup Of Ice, Support: 0.007, Lift: 2.339, Confidence: 0.137, Conviction: 1.146<br>Trigger Sugar CSD - Cup Of Ice, Support: 0.011, Lift: 2.339, Confidence: 0.137, Conviction: 1.146<br>Trigger Cup Of Ice - Energy Drinks Sub, Support: 0.023, Lift: 2.339, Confidence: 0.137, Conviction: 1.146<br>Trigger Cup Of Ice - Sugar CSD, Support: 0.011, Lift: 2.339, Confidence: 0.137, Conviction: 1.146<br>",
         "marker": {
          "color": "lightblue",
          "size": 40
         },
         "mode": "markers+text",
         "text": "Cup Of Ice",
         "type": "scatter",
         "x": [
          0.007499596450446303
         ],
         "y": [
          0.45001887997176043
         ]
        },
        {
         "hoverinfo": "text",
         "hovertext": "Item: Energy Drinks Sub<br>Trigger Cup Of Ice - Energy Drinks Sub, Support: 0.023, Lift: 3.435, Confidence: 0.290, Conviction: 1.376<br>Trigger Energy Drinks Sub - Cup Of Ice, Support: 0.023, Lift: 3.435, Confidence: 0.290, Conviction: 1.376<br>",
         "marker": {
          "color": "lightblue",
          "size": 40
         },
         "mode": "markers+text",
         "text": "Energy Drinks Sub",
         "type": "scatter",
         "x": [
          0.1463009675677053
         ],
         "y": [
          0.12542112874137737
         ]
        },
        {
         "hoverinfo": "text",
         "hovertext": "Item: No/Less Sugar CSD<br>Trigger No/Less Sugar CSD - Cup Of Ice, Support: 0.007, Lift: 2.340, Confidence: 0.137, Conviction: 1.152<br>Trigger No/Less Sugar CSD - Sugar CSD, Support: 0.005, Lift: 2.340, Confidence: 0.137, Conviction: 1.152<br>",
         "marker": {
          "color": "lightblue",
          "size": 40
         },
         "mode": "markers+text",
         "text": "No/Less Sugar CSD",
         "type": "scatter",
         "x": [
          0.041766318356936304
         ],
         "y": [
          -0.1558735429064921
         ]
        },
        {
         "hoverinfo": "text",
         "hovertext": "Item: Other Cuisine Sub<br>Trigger Fried Food Sub - Other Cuisine Sub, Support: 0.015, Lift: 2.188, Confidence: 0.227, Conviction: 1.281<br>Trigger Others Steamed  bun - Other Cuisine Sub, Support: 0.010, Lift: 2.188, Confidence: 0.227, Conviction: 1.281<br>Trigger Other Cuisine Sub - Fried Food Sub, Support: 0.015, Lift: 2.188, Confidence: 0.227, Conviction: 1.281<br>",
         "marker": {
          "color": "lightblue",
          "size": 40
         },
         "mode": "markers+text",
         "text": "Other Cuisine Sub",
         "type": "scatter",
         "x": [
          0.37077530732247915
         ],
         "y": [
          -0.9538671060307964
         ]
        },
        {
         "hoverinfo": "text",
         "hovertext": "Item: Fried Food Sub<br>Trigger Other Cuisine Sub - Fried Food Sub, Support: 0.015, Lift: 2.725, Confidence: 0.282, Conviction: 1.372<br>Trigger Fried Food Sub - Other Cuisine Sub, Support: 0.015, Lift: 2.725, Confidence: 0.282, Conviction: 1.372<br>",
         "marker": {
          "color": "lightblue",
          "size": 40
         },
         "mode": "markers+text",
         "text": "Fried Food Sub",
         "type": "scatter",
         "x": [
          0.004840745782718047
         ],
         "y": [
          -0.5466327180490776
         ]
        },
        {
         "hoverinfo": "text",
         "hovertext": "Item: Hot pot Thai<br>Trigger Instant Noodles Pack - Hot pot Thai, Support: 0.005, Lift: 3.619, Confidence: 0.163, Conviction: 1.188<br>Trigger Hot pot Thai - Instant Noodles Pack, Support: 0.005, Lift: 3.619, Confidence: 0.163, Conviction: 1.188<br>",
         "marker": {
          "color": "lightblue",
          "size": 40
         },
         "mode": "markers+text",
         "text": "Hot pot Thai",
         "type": "scatter",
         "x": [
          0.02452273806894359
         ],
         "y": [
          0.8793352236226699
         ]
        },
        {
         "hoverinfo": "text",
         "hovertext": "Item: Instant Noodles Bowl<br>Trigger Instant Noodles Pack - Instant Noodles Bowl, Support: 0.006, Lift: 2.956, Confidence: 0.133, Conviction: 1.147<br>Trigger Instant Noodles Bowl - Instant Noodles Cup, Support: 0.006, Lift: 2.956, Confidence: 0.133, Conviction: 1.147<br>Trigger Instant Noodles Bowl - Instant Noodles Pack, Support: 0.006, Lift: 2.956, Confidence: 0.133, Conviction: 1.147<br>",
         "marker": {
          "color": "lightblue",
          "size": 40
         },
         "mode": "markers+text",
         "text": "Instant Noodles Bowl",
         "type": "scatter",
         "x": [
          0.6084127221341621
         ],
         "y": [
          0.2805502674336074
         ]
        },
        {
         "hoverinfo": "text",
         "hovertext": "Item: Instant Noodles Cup<br>Trigger Instant Noodles Bowl - Instant Noodles Cup, Support: 0.006, Lift: 7.005, Confidence: 0.450, Conviction: 1.800<br>Trigger Instant Sausage - Instant Noodles Cup, Support: 0.010, Lift: 7.005, Confidence: 0.450, Conviction: 1.800<br>Trigger Instant Noodles Cup - Instant Sausage, Support: 0.010, Lift: 7.005, Confidence: 0.450, Conviction: 1.800<br>",
         "marker": {
          "color": "lightblue",
          "size": 40
         },
         "mode": "markers+text",
         "text": "Instant Noodles Cup",
         "type": "scatter",
         "x": [
          -0.4256327590846933
         ],
         "y": [
          0.21871257104701872
         ]
        },
        {
         "hoverinfo": "text",
         "hovertext": "Item: Instant Sausage<br>Trigger Instant Noodles Cup - Instant Sausage, Support: 0.010, Lift: 6.111, Confidence: 0.275, Conviction: 1.370<br>Trigger Instant Noodles Pack - Instant Sausage, Support: 0.006, Lift: 6.111, Confidence: 0.275, Conviction: 1.370<br>Trigger Instant Sausage - Instant Noodles Cup, Support: 0.010, Lift: 6.111, Confidence: 0.275, Conviction: 1.370<br>Trigger Instant Sausage - Instant Noodles Pack, Support: 0.006, Lift: 6.111, Confidence: 0.275, Conviction: 1.370<br>",
         "marker": {
          "color": "lightblue",
          "size": 40
         },
         "mode": "markers+text",
         "text": "Instant Sausage",
         "type": "scatter",
         "x": [
          0.22413074890352178
         ],
         "y": [
          0.3017134205070586
         ]
        },
        {
         "hoverinfo": "text",
         "hovertext": "Item: Onigiri<br>Trigger Sandwich - Onigiri, Support: 0.008, Lift: 2.190, Confidence: 0.171, Conviction: 1.197<br>Trigger Onigiri - Sandwich, Support: 0.008, Lift: 2.190, Confidence: 0.171, Conviction: 1.197<br>",
         "marker": {
          "color": "lightblue",
          "size": 40
         },
         "mode": "markers+text",
         "text": "Onigiri",
         "type": "scatter",
         "x": [
          -0.5736530746777103
         ],
         "y": [
          -0.7622402211192914
         ]
        },
        {
         "hoverinfo": "text",
         "hovertext": "Item: Sandwich<br>Trigger Onigiri - Sandwich, Support: 0.008, Lift: 2.190, Confidence: 0.171, Conviction: 1.197<br>Trigger Sandwich - Onigiri, Support: 0.008, Lift: 2.190, Confidence: 0.171, Conviction: 1.197<br>",
         "marker": {
          "color": "lightblue",
          "size": 40
         },
         "mode": "markers+text",
         "text": "Sandwich",
         "type": "scatter",
         "x": [
          -0.8712699363978709
         ],
         "y": [
          0.01133275065760342
         ]
        },
        {
         "hoverinfo": "text",
         "hovertext": "Item: Others Steamed  bun<br>Trigger Savoury  Buns - Others Steamed  bun, Support: 0.008, Lift: 2.412, Confidence: 0.102, Conviction: 1.105<br>Trigger Others Steamed  bun - Other Cuisine Sub, Support: 0.010, Lift: 2.412, Confidence: 0.102, Conviction: 1.105<br>Trigger Others Steamed  bun - Savoury  Buns, Support: 0.008, Lift: 2.412, Confidence: 0.102, Conviction: 1.105<br>",
         "marker": {
          "color": "lightblue",
          "size": 40
         },
         "mode": "markers+text",
         "text": "Others Steamed  bun",
         "type": "scatter",
         "x": [
          0.6483529982508108
         ],
         "y": [
          -0.17339851383017665
         ]
        },
        {
         "hoverinfo": "text",
         "hovertext": "Item: Stick<br>Trigger Other Ice Cream - Stick, Support: 0.005, Lift: 10.722, Confidence: 0.303, Conviction: 1.427<br>Trigger Stick - Other Ice Cream, Support: 0.005, Lift: 10.722, Confidence: 0.303, Conviction: 1.427<br>",
         "marker": {
          "color": "lightblue",
          "size": 40
         },
         "mode": "markers+text",
         "text": "Stick",
         "type": "scatter",
         "x": [
          0.5228945254653813
         ],
         "y": [
          0.5148343243624214
         ]
        },
        {
         "hoverinfo": "text",
         "hovertext": "Item: Other Ice Cream<br>Trigger Stick - Other Ice Cream, Support: 0.005, Lift: 10.722, Confidence: 0.303, Conviction: 1.427<br>Trigger Other Ice Cream - Stick, Support: 0.005, Lift: 10.722, Confidence: 0.303, Conviction: 1.427<br>",
         "marker": {
          "color": "lightblue",
          "size": 40
         },
         "mode": "markers+text",
         "text": "Other Ice Cream",
         "type": "scatter",
         "x": [
          0.9440162807619407
         ],
         "y": [
          -0.20015033449107075
         ]
        },
        {
         "hoverinfo": "text",
         "hovertext": "Item: Savoury  Buns<br>Trigger Others Steamed  bun - Savoury  Buns, Support: 0.008, Lift: 2.412, Confidence: 0.102, Conviction: 1.105<br>Trigger Savoury  Buns - Others Steamed  bun, Support: 0.008, Lift: 2.412, Confidence: 0.102, Conviction: 1.105<br>",
         "marker": {
          "color": "lightblue",
          "size": 40
         },
         "mode": "markers+text",
         "text": "Savoury  Buns",
         "type": "scatter",
         "x": [
          0.7860114876160732
         ],
         "y": [
          -0.5528689799122556
         ]
        },
        {
         "hoverinfo": "text",
         "hovertext": "Item: UHT Milk<br>Trigger UHT Milk - Packaged bakery, Support: 0.006, Lift: 2.086, Confidence: 0.136, Conviction: 1.151<br>",
         "marker": {
          "color": "lightblue",
          "size": 40
         },
         "mode": "markers+text",
         "text": "UHT Milk",
         "type": "scatter",
         "x": [
          0.1552947961654301
         ],
         "y": [
          -1
         ]
        },
        {
         "hoverinfo": "text",
         "hovertext": "Item: Packaged bakery<br>Trigger UHT Milk - Packaged bakery, Support: 0.006, Lift: 2.086, Confidence: 0.136, Conviction: 1.151<br>",
         "marker": {
          "color": "lightblue",
          "size": 40
         },
         "mode": "markers+text",
         "text": "Packaged bakery",
         "type": "scatter",
         "x": [
          -0.6378180354319634
         ],
         "y": [
          -0.7063632562315874
         ]
        },
        {
         "hoverinfo": "text",
         "hovertext": "Item: Salty Snacks<br>Trigger Potato Snacks - Salty Snacks, Support: 0.009, Lift: 3.828, Confidence: 0.172, Conviction: 1.198<br>Trigger Salty Snacks - Potato Snacks, Support: 0.009, Lift: 3.828, Confidence: 0.172, Conviction: 1.198<br>",
         "marker": {
          "color": "lightblue",
          "size": 40
         },
         "mode": "markers+text",
         "text": "Salty Snacks",
         "type": "scatter",
         "x": [
          0.21402539288674796
         ],
         "y": [
          0.8832718168832748
         ]
        },
        {
         "hoverinfo": "text",
         "hovertext": "Item: Potato Snacks<br>Trigger Salty Snacks - Potato Snacks, Support: 0.009, Lift: 3.828, Confidence: 0.172, Conviction: 1.198<br>Trigger Potato Snacks - Salty Snacks, Support: 0.009, Lift: 3.828, Confidence: 0.172, Conviction: 1.198<br>",
         "marker": {
          "color": "lightblue",
          "size": 40
         },
         "mode": "markers+text",
         "text": "Potato Snacks",
         "type": "scatter",
         "x": [
          -0.4300561016156724
         ],
         "y": [
          0.8083761638090913
         ]
        },
        {
         "hoverinfo": "text",
         "hovertext": "Item: WIC/RIC Juice<br>Trigger WIC/RIC Juice - Sugar Tea, Support: 0.007, Lift: 2.132, Confidence: 0.236, Conviction: 1.300<br>",
         "marker": {
          "color": "lightblue",
          "size": 40
         },
         "mode": "markers+text",
         "text": "WIC/RIC Juice",
         "type": "scatter",
         "x": [
          -0.34522702077442685
         ],
         "y": [
          0.10845715224303908
         ]
        },
        {
         "hoverinfo": "text",
         "hovertext": "Item: Sugar Tea<br>Trigger WIC/RIC Juice - Sugar Tea, Support: 0.007, Lift: 2.132, Confidence: 0.236, Conviction: 1.300<br>",
         "marker": {
          "color": "lightblue",
          "size": 40
         },
         "mode": "markers+text",
         "text": "Sugar Tea",
         "type": "scatter",
         "x": [
          -0.9111545222333736
         ],
         "y": [
          -0.263519874097201
         ]
        }
       ],
       "layout": {
        "hovermode": "closest",
        "margin": {
         "b": 20,
         "l": 5,
         "r": 5,
         "t": 40
        },
        "plot_bgcolor": "white",
        "showlegend": false,
        "template": {
         "data": {
          "bar": [
           {
            "error_x": {
             "color": "#2a3f5f"
            },
            "error_y": {
             "color": "#2a3f5f"
            },
            "marker": {
             "line": {
              "color": "#E5ECF6",
              "width": 0.5
             },
             "pattern": {
              "fillmode": "overlay",
              "size": 10,
              "solidity": 0.2
             }
            },
            "type": "bar"
           }
          ],
          "barpolar": [
           {
            "marker": {
             "line": {
              "color": "#E5ECF6",
              "width": 0.5
             },
             "pattern": {
              "fillmode": "overlay",
              "size": 10,
              "solidity": 0.2
             }
            },
            "type": "barpolar"
           }
          ],
          "carpet": [
           {
            "aaxis": {
             "endlinecolor": "#2a3f5f",
             "gridcolor": "white",
             "linecolor": "white",
             "minorgridcolor": "white",
             "startlinecolor": "#2a3f5f"
            },
            "baxis": {
             "endlinecolor": "#2a3f5f",
             "gridcolor": "white",
             "linecolor": "white",
             "minorgridcolor": "white",
             "startlinecolor": "#2a3f5f"
            },
            "type": "carpet"
           }
          ],
          "choropleth": [
           {
            "colorbar": {
             "outlinewidth": 0,
             "ticks": ""
            },
            "type": "choropleth"
           }
          ],
          "contour": [
           {
            "colorbar": {
             "outlinewidth": 0,
             "ticks": ""
            },
            "colorscale": [
             [
              0,
              "#0d0887"
             ],
             [
              0.1111111111111111,
              "#46039f"
             ],
             [
              0.2222222222222222,
              "#7201a8"
             ],
             [
              0.3333333333333333,
              "#9c179e"
             ],
             [
              0.4444444444444444,
              "#bd3786"
             ],
             [
              0.5555555555555556,
              "#d8576b"
             ],
             [
              0.6666666666666666,
              "#ed7953"
             ],
             [
              0.7777777777777778,
              "#fb9f3a"
             ],
             [
              0.8888888888888888,
              "#fdca26"
             ],
             [
              1,
              "#f0f921"
             ]
            ],
            "type": "contour"
           }
          ],
          "contourcarpet": [
           {
            "colorbar": {
             "outlinewidth": 0,
             "ticks": ""
            },
            "type": "contourcarpet"
           }
          ],
          "heatmap": [
           {
            "colorbar": {
             "outlinewidth": 0,
             "ticks": ""
            },
            "colorscale": [
             [
              0,
              "#0d0887"
             ],
             [
              0.1111111111111111,
              "#46039f"
             ],
             [
              0.2222222222222222,
              "#7201a8"
             ],
             [
              0.3333333333333333,
              "#9c179e"
             ],
             [
              0.4444444444444444,
              "#bd3786"
             ],
             [
              0.5555555555555556,
              "#d8576b"
             ],
             [
              0.6666666666666666,
              "#ed7953"
             ],
             [
              0.7777777777777778,
              "#fb9f3a"
             ],
             [
              0.8888888888888888,
              "#fdca26"
             ],
             [
              1,
              "#f0f921"
             ]
            ],
            "type": "heatmap"
           }
          ],
          "heatmapgl": [
           {
            "colorbar": {
             "outlinewidth": 0,
             "ticks": ""
            },
            "colorscale": [
             [
              0,
              "#0d0887"
             ],
             [
              0.1111111111111111,
              "#46039f"
             ],
             [
              0.2222222222222222,
              "#7201a8"
             ],
             [
              0.3333333333333333,
              "#9c179e"
             ],
             [
              0.4444444444444444,
              "#bd3786"
             ],
             [
              0.5555555555555556,
              "#d8576b"
             ],
             [
              0.6666666666666666,
              "#ed7953"
             ],
             [
              0.7777777777777778,
              "#fb9f3a"
             ],
             [
              0.8888888888888888,
              "#fdca26"
             ],
             [
              1,
              "#f0f921"
             ]
            ],
            "type": "heatmapgl"
           }
          ],
          "histogram": [
           {
            "marker": {
             "pattern": {
              "fillmode": "overlay",
              "size": 10,
              "solidity": 0.2
             }
            },
            "type": "histogram"
           }
          ],
          "histogram2d": [
           {
            "colorbar": {
             "outlinewidth": 0,
             "ticks": ""
            },
            "colorscale": [
             [
              0,
              "#0d0887"
             ],
             [
              0.1111111111111111,
              "#46039f"
             ],
             [
              0.2222222222222222,
              "#7201a8"
             ],
             [
              0.3333333333333333,
              "#9c179e"
             ],
             [
              0.4444444444444444,
              "#bd3786"
             ],
             [
              0.5555555555555556,
              "#d8576b"
             ],
             [
              0.6666666666666666,
              "#ed7953"
             ],
             [
              0.7777777777777778,
              "#fb9f3a"
             ],
             [
              0.8888888888888888,
              "#fdca26"
             ],
             [
              1,
              "#f0f921"
             ]
            ],
            "type": "histogram2d"
           }
          ],
          "histogram2dcontour": [
           {
            "colorbar": {
             "outlinewidth": 0,
             "ticks": ""
            },
            "colorscale": [
             [
              0,
              "#0d0887"
             ],
             [
              0.1111111111111111,
              "#46039f"
             ],
             [
              0.2222222222222222,
              "#7201a8"
             ],
             [
              0.3333333333333333,
              "#9c179e"
             ],
             [
              0.4444444444444444,
              "#bd3786"
             ],
             [
              0.5555555555555556,
              "#d8576b"
             ],
             [
              0.6666666666666666,
              "#ed7953"
             ],
             [
              0.7777777777777778,
              "#fb9f3a"
             ],
             [
              0.8888888888888888,
              "#fdca26"
             ],
             [
              1,
              "#f0f921"
             ]
            ],
            "type": "histogram2dcontour"
           }
          ],
          "mesh3d": [
           {
            "colorbar": {
             "outlinewidth": 0,
             "ticks": ""
            },
            "type": "mesh3d"
           }
          ],
          "parcoords": [
           {
            "line": {
             "colorbar": {
              "outlinewidth": 0,
              "ticks": ""
             }
            },
            "type": "parcoords"
           }
          ],
          "pie": [
           {
            "automargin": true,
            "type": "pie"
           }
          ],
          "scatter": [
           {
            "fillpattern": {
             "fillmode": "overlay",
             "size": 10,
             "solidity": 0.2
            },
            "type": "scatter"
           }
          ],
          "scatter3d": [
           {
            "line": {
             "colorbar": {
              "outlinewidth": 0,
              "ticks": ""
             }
            },
            "marker": {
             "colorbar": {
              "outlinewidth": 0,
              "ticks": ""
             }
            },
            "type": "scatter3d"
           }
          ],
          "scattercarpet": [
           {
            "marker": {
             "colorbar": {
              "outlinewidth": 0,
              "ticks": ""
             }
            },
            "type": "scattercarpet"
           }
          ],
          "scattergeo": [
           {
            "marker": {
             "colorbar": {
              "outlinewidth": 0,
              "ticks": ""
             }
            },
            "type": "scattergeo"
           }
          ],
          "scattergl": [
           {
            "marker": {
             "colorbar": {
              "outlinewidth": 0,
              "ticks": ""
             }
            },
            "type": "scattergl"
           }
          ],
          "scattermapbox": [
           {
            "marker": {
             "colorbar": {
              "outlinewidth": 0,
              "ticks": ""
             }
            },
            "type": "scattermapbox"
           }
          ],
          "scatterpolar": [
           {
            "marker": {
             "colorbar": {
              "outlinewidth": 0,
              "ticks": ""
             }
            },
            "type": "scatterpolar"
           }
          ],
          "scatterpolargl": [
           {
            "marker": {
             "colorbar": {
              "outlinewidth": 0,
              "ticks": ""
             }
            },
            "type": "scatterpolargl"
           }
          ],
          "scatterternary": [
           {
            "marker": {
             "colorbar": {
              "outlinewidth": 0,
              "ticks": ""
             }
            },
            "type": "scatterternary"
           }
          ],
          "surface": [
           {
            "colorbar": {
             "outlinewidth": 0,
             "ticks": ""
            },
            "colorscale": [
             [
              0,
              "#0d0887"
             ],
             [
              0.1111111111111111,
              "#46039f"
             ],
             [
              0.2222222222222222,
              "#7201a8"
             ],
             [
              0.3333333333333333,
              "#9c179e"
             ],
             [
              0.4444444444444444,
              "#bd3786"
             ],
             [
              0.5555555555555556,
              "#d8576b"
             ],
             [
              0.6666666666666666,
              "#ed7953"
             ],
             [
              0.7777777777777778,
              "#fb9f3a"
             ],
             [
              0.8888888888888888,
              "#fdca26"
             ],
             [
              1,
              "#f0f921"
             ]
            ],
            "type": "surface"
           }
          ],
          "table": [
           {
            "cells": {
             "fill": {
              "color": "#EBF0F8"
             },
             "line": {
              "color": "white"
             }
            },
            "header": {
             "fill": {
              "color": "#C8D4E3"
             },
             "line": {
              "color": "white"
             }
            },
            "type": "table"
           }
          ]
         },
         "layout": {
          "annotationdefaults": {
           "arrowcolor": "#2a3f5f",
           "arrowhead": 0,
           "arrowwidth": 1
          },
          "autotypenumbers": "strict",
          "coloraxis": {
           "colorbar": {
            "outlinewidth": 0,
            "ticks": ""
           }
          },
          "colorscale": {
           "diverging": [
            [
             0,
             "#8e0152"
            ],
            [
             0.1,
             "#c51b7d"
            ],
            [
             0.2,
             "#de77ae"
            ],
            [
             0.3,
             "#f1b6da"
            ],
            [
             0.4,
             "#fde0ef"
            ],
            [
             0.5,
             "#f7f7f7"
            ],
            [
             0.6,
             "#e6f5d0"
            ],
            [
             0.7,
             "#b8e186"
            ],
            [
             0.8,
             "#7fbc41"
            ],
            [
             0.9,
             "#4d9221"
            ],
            [
             1,
             "#276419"
            ]
           ],
           "sequential": [
            [
             0,
             "#0d0887"
            ],
            [
             0.1111111111111111,
             "#46039f"
            ],
            [
             0.2222222222222222,
             "#7201a8"
            ],
            [
             0.3333333333333333,
             "#9c179e"
            ],
            [
             0.4444444444444444,
             "#bd3786"
            ],
            [
             0.5555555555555556,
             "#d8576b"
            ],
            [
             0.6666666666666666,
             "#ed7953"
            ],
            [
             0.7777777777777778,
             "#fb9f3a"
            ],
            [
             0.8888888888888888,
             "#fdca26"
            ],
            [
             1,
             "#f0f921"
            ]
           ],
           "sequentialminus": [
            [
             0,
             "#0d0887"
            ],
            [
             0.1111111111111111,
             "#46039f"
            ],
            [
             0.2222222222222222,
             "#7201a8"
            ],
            [
             0.3333333333333333,
             "#9c179e"
            ],
            [
             0.4444444444444444,
             "#bd3786"
            ],
            [
             0.5555555555555556,
             "#d8576b"
            ],
            [
             0.6666666666666666,
             "#ed7953"
            ],
            [
             0.7777777777777778,
             "#fb9f3a"
            ],
            [
             0.8888888888888888,
             "#fdca26"
            ],
            [
             1,
             "#f0f921"
            ]
           ]
          },
          "colorway": [
           "#636efa",
           "#EF553B",
           "#00cc96",
           "#ab63fa",
           "#FFA15A",
           "#19d3f3",
           "#FF6692",
           "#B6E880",
           "#FF97FF",
           "#FECB52"
          ],
          "font": {
           "color": "#2a3f5f"
          },
          "geo": {
           "bgcolor": "white",
           "lakecolor": "white",
           "landcolor": "#E5ECF6",
           "showlakes": true,
           "showland": true,
           "subunitcolor": "white"
          },
          "hoverlabel": {
           "align": "left"
          },
          "hovermode": "closest",
          "mapbox": {
           "style": "light"
          },
          "paper_bgcolor": "white",
          "plot_bgcolor": "#E5ECF6",
          "polar": {
           "angularaxis": {
            "gridcolor": "white",
            "linecolor": "white",
            "ticks": ""
           },
           "bgcolor": "#E5ECF6",
           "radialaxis": {
            "gridcolor": "white",
            "linecolor": "white",
            "ticks": ""
           }
          },
          "scene": {
           "xaxis": {
            "backgroundcolor": "#E5ECF6",
            "gridcolor": "white",
            "gridwidth": 2,
            "linecolor": "white",
            "showbackground": true,
            "ticks": "",
            "zerolinecolor": "white"
           },
           "yaxis": {
            "backgroundcolor": "#E5ECF6",
            "gridcolor": "white",
            "gridwidth": 2,
            "linecolor": "white",
            "showbackground": true,
            "ticks": "",
            "zerolinecolor": "white"
           },
           "zaxis": {
            "backgroundcolor": "#E5ECF6",
            "gridcolor": "white",
            "gridwidth": 2,
            "linecolor": "white",
            "showbackground": true,
            "ticks": "",
            "zerolinecolor": "white"
           }
          },
          "shapedefaults": {
           "line": {
            "color": "#2a3f5f"
           }
          },
          "ternary": {
           "aaxis": {
            "gridcolor": "white",
            "linecolor": "white",
            "ticks": ""
           },
           "baxis": {
            "gridcolor": "white",
            "linecolor": "white",
            "ticks": ""
           },
           "bgcolor": "#E5ECF6",
           "caxis": {
            "gridcolor": "white",
            "linecolor": "white",
            "ticks": ""
           }
          },
          "title": {
           "x": 0.05
          },
          "xaxis": {
           "automargin": true,
           "gridcolor": "white",
           "linecolor": "white",
           "ticks": "",
           "title": {
            "standoff": 15
           },
           "zerolinecolor": "white",
           "zerolinewidth": 2
          },
          "yaxis": {
           "automargin": true,
           "gridcolor": "white",
           "linecolor": "white",
           "ticks": "",
           "title": {
            "standoff": 15
           },
           "zerolinecolor": "white",
           "zerolinewidth": 2
          }
         }
        },
        "title": {
         "text": "Items Set Rules Graph",
         "x": 0.5
        },
        "xaxis": {
         "showgrid": false,
         "showticklabels": false,
         "zeroline": false
        },
        "yaxis": {
         "showgrid": false,
         "showticklabels": false,
         "zeroline": false
        }
       }
      }
     },
     "metadata": {},
     "output_type": "display_data"
    }
   ],
   "source": [
    "import plotly.graph_objects as go\n",
    "import networkx as nx\n",
    "\n",
    "# Create an empty directed graph\n",
    "G = nx.DiGraph()\n",
    "\n",
    "# Iterate through each row of the DataFrame and add edges to the graph\n",
    "for index, row in rules.iterrows():\n",
    "    antecedent = ', '.join(row['antecedents'])\n",
    "    consequent = ', '.join(row['consequents'])\n",
    "    support = row['support']\n",
    "    confidence = row['confidence']\n",
    "    lift = row['lift']\n",
    "    conviction = row['conviction']\n",
    "    # Check if lift is greater than 2 and confidence is greater than 0.1\n",
    "    if lift >= 2 and confidence > 0.1:\n",
    "        # Add edges to the graph with the support or confidence as edge weight\n",
    "        G.add_edge(antecedent, consequent, weight=support)\n",
    "\n",
    "        # Add support, lift, and confidence as attributes to the nodes\n",
    "        G.add_node(antecedent, support=support, lift=lift, confidence=confidence, conviction=conviction)\n",
    "        G.add_node(consequent, support=support, lift=lift, confidence=confidence, conviction=conviction)\n",
    "\n",
    "# Get the node positions using spring layout\n",
    "pos = nx.spring_layout(G)\n",
    "\n",
    "# Create a list of edge traces\n",
    "edge_traces = []\n",
    "for edge in G.edges():\n",
    "    x0, y0 = pos[edge[0]]\n",
    "    x1, y1 = pos[edge[1]]\n",
    "    weight = G.get_edge_data(edge[0], edge[1])['weight']\n",
    "    edge_trace = go.Scatter(x=[x0, x1, None], y=[y0, y1, None],\n",
    "                            mode='lines', line=dict(width=weight*10, color='black'),\n",
    "                            hoverinfo='text',\n",
    "                            hovertext=f\"Support: {weight:.3f}\",\n",
    "                            )\n",
    "    edge_traces.append(edge_trace)\n",
    "\n",
    "# Create a list of node traces\n",
    "node_traces = []\n",
    "for node in G.nodes():\n",
    "    x, y = pos[node]\n",
    "    in_edges = G.in_edges(node)\n",
    "    out_edges = G.out_edges(node)\n",
    "    text = f\"Item: {node}<br>\"\n",
    "    for in_edge in in_edges:\n",
    "        antecedent = in_edge[0]\n",
    "        weight = G.get_edge_data(antecedent, node)['weight']\n",
    "        text += f\"Trigger {antecedent} - {node}, Support: {weight:.3f}, Lift: {G.nodes[node]['lift']:.3f}, Confidence: {G.nodes[node]['confidence']:.3f}, Conviction: {G.nodes[node]['conviction']:.3f}<br>\"\n",
    "    for out_edge in out_edges:\n",
    "        consequent = out_edge[1]\n",
    "        weight = G.get_edge_data(node, consequent)['weight']\n",
    "        text += f\"Trigger {node} - {consequent}, Support: {weight:.3f}, Lift: {G.nodes[node]['lift']:.3f}, Confidence: {G.nodes[node]['confidence']:.3f}, Conviction: {G.nodes[node]['conviction']:.3f}<br>\"\n",
    "    node_trace = go.Scatter(x=[x], y=[y], mode='markers+text', text=node,\n",
    "                            marker=dict(size=40, color='lightblue'),\n",
    "                            hoverinfo='text',\n",
    "                            hovertext=text\n",
    "                            )\n",
    "    node_traces.append(node_trace)\n",
    "\n",
    "# Create the figure and add the edge and node traces\n",
    "fig = go.Figure(data=edge_traces + node_traces)\n",
    "\n",
    "# Set the layout properties\n",
    "fig.update_layout(title='Items Set Rules Graph', title_x=0.5, showlegend=False, hovermode='closest',\n",
    "                  plot_bgcolor='white', margin=dict(b=20, l=5, r=5, t=40), xaxis=dict(showgrid=False, zeroline=False,\n",
    "                  showticklabels=False), yaxis=dict(showgrid=False, zeroline=False, showticklabels=False))\n",
    "\n",
    "# Show the plot\n",
    "fig.show()\n"
   ]
  },
  {
   "cell_type": "code",
   "execution_count": 16,
   "metadata": {},
   "outputs": [
    {
     "data": {
      "application/vnd.plotly.v1+json": {
       "config": {
        "plotlyServerURL": "https://plot.ly"
       },
       "data": [
        {
         "hoverinfo": "text",
         "hovertext": "Add-on item Sub - Chocolate Bar, Chocolate Bar - Add-on item Sub, Support: 0.005402, Lift: 2.397730, Confidence: 0.140110, Conviction: 1.156400",
         "line": {
          "color": "black",
          "width": 0.054024255788313116
         },
         "mode": "lines",
         "type": "scatter",
         "x": [
          0.36537435126777046,
          0.07166616045901326,
          null
         ],
         "y": [
          0.10637273357352005,
          -0.12936225361632656,
          null
         ]
        },
        {
         "hoverinfo": "text",
         "hovertext": "Add-on item Sub - Flavored Milk Sub, Flavored Milk Sub - Add-on item Sub, Support: 0.012238, Lift: 2.397730, Confidence: 0.140110, Conviction: 1.156400",
         "line": {
          "color": "black",
          "width": 0.12238147739801544
         },
         "mode": "lines",
         "type": "scatter",
         "x": [
          0.36537435126777046,
          1,
          null
         ],
         "y": [
          0.10637273357352005,
          0.14787701348870114,
          null
         ]
        },
        {
         "hoverinfo": "text",
         "hovertext": "Add-on item Sub - Instant Noodles Pack, Instant Noodles Pack - Add-on item Sub, Support: 0.005843, Lift: 2.397730, Confidence: 0.140110, Conviction: 1.156400",
         "line": {
          "color": "black",
          "width": 0.05843439911797133
         },
         "mode": "lines",
         "type": "scatter",
         "x": [
          0.36537435126777046,
          0.47444073975501083,
          null
         ],
         "y": [
          0.10637273357352005,
          -0.14159395545854384,
          null
         ]
        },
        {
         "hoverinfo": "text",
         "hovertext": "Add-on item Sub - Sugar CSD, Sugar CSD - Add-on item Sub, Support: 0.005623, Lift: 2.397730, Confidence: 0.140110, Conviction: 1.156400",
         "line": {
          "color": "black",
          "width": 0.05622932745314223
         },
         "mode": "lines",
         "type": "scatter",
         "x": [
          0.36537435126777046,
          -0.8744819296184537,
          null
         ],
         "y": [
          0.10637273357352005,
          -0.1404239435381263,
          null
         ]
        },
        {
         "hoverinfo": "text",
         "hovertext": "Chocolate Bar - Add-on item Sub, Add-on item Sub - Chocolate Bar, Support: 0.005402, Lift: 2.147544, Confidence: 0.143959, Conviction: 1.160956",
         "line": {
          "color": "black",
          "width": 0.054024255788313116
         },
         "mode": "lines",
         "type": "scatter",
         "x": [
          0.07166616045901326,
          0.36537435126777046,
          null
         ],
         "y": [
          -0.12936225361632656,
          0.10637273357352005,
          null
         ]
        },
        {
         "hoverinfo": "text",
         "hovertext": "Chocolate Bar - Flavored Milk Sub, Flavored Milk Sub - Chocolate Bar, Support: 0.006174, Lift: 2.147544, Confidence: 0.143959, Conviction: 1.160956",
         "line": {
          "color": "black",
          "width": 0.06174200661521499
         },
         "mode": "lines",
         "type": "scatter",
         "x": [
          0.07166616045901326,
          1,
          null
         ],
         "y": [
          -0.12936225361632656,
          0.14787701348870114,
          null
         ]
        },
        {
         "hoverinfo": "text",
         "hovertext": "Flavored Milk Sub - Add-on item Sub, Add-on item Sub - Flavored Milk Sub, Support: 0.012238, Lift: 2.147544, Confidence: 0.143959, Conviction: 1.160956",
         "line": {
          "color": "black",
          "width": 0.12238147739801544
         },
         "mode": "lines",
         "type": "scatter",
         "x": [
          1,
          0.36537435126777046,
          null
         ],
         "y": [
          0.14787701348870114,
          0.10637273357352005,
          null
         ]
        },
        {
         "hoverinfo": "text",
         "hovertext": "Instant Noodles Pack - Add-on item Sub, Add-on item Sub - Instant Noodles Pack, Support: 0.005843, Lift: 6.110724, Confidence: 0.274882, Conviction: 1.370266",
         "line": {
          "color": "black",
          "width": 0.05843439911797133
         },
         "mode": "lines",
         "type": "scatter",
         "x": [
          0.47444073975501083,
          0.36537435126777046,
          null
         ],
         "y": [
          -0.14159395545854384,
          0.10637273357352005,
          null
         ]
        },
        {
         "hoverinfo": "text",
         "hovertext": "Instant Noodles Pack - Hot pot Thai, Hot pot Thai - Instant Noodles Pack, Support: 0.005402, Lift: 6.110724, Confidence: 0.274882, Conviction: 1.370266",
         "line": {
          "color": "black",
          "width": 0.054024255788313116
         },
         "mode": "lines",
         "type": "scatter",
         "x": [
          0.47444073975501083,
          0.24292638397676522,
          null
         ],
         "y": [
          -0.14159395545854384,
          -0.875312797481624,
          null
         ]
        },
        {
         "hoverinfo": "text",
         "hovertext": "Instant Noodles Pack - Instant Noodles Bowl, Instant Noodles Bowl - Instant Noodles Pack, Support: 0.005513, Lift: 6.110724, Confidence: 0.274882, Conviction: 1.370266",
         "line": {
          "color": "black",
          "width": 0.05512679162072767
         },
         "mode": "lines",
         "type": "scatter",
         "x": [
          0.47444073975501083,
          -0.1259738353498276,
          null
         ],
         "y": [
          -0.14159395545854384,
          0.5379820632211243,
          null
         ]
        },
        {
         "hoverinfo": "text",
         "hovertext": "Instant Noodles Pack - Instant Sausage, Instant Sausage - Instant Noodles Pack, Support: 0.006395, Lift: 6.110724, Confidence: 0.274882, Conviction: 1.370266",
         "line": {
          "color": "black",
          "width": 0.0639470782800441
         },
         "mode": "lines",
         "type": "scatter",
         "x": [
          0.47444073975501083,
          -0.011930563685737318,
          null
         ],
         "y": [
          -0.14159395545854384,
          -0.4050275314761257,
          null
         ]
        },
        {
         "hoverinfo": "text",
         "hovertext": "Sugar CSD - Cup Of Ice, Cup Of Ice - Sugar CSD, Support: 0.010805, Lift: 2.340268, Confidence: 0.136752, Conviction: 1.152285",
         "line": {
          "color": "black",
          "width": 0.10804851157662623
         },
         "mode": "lines",
         "type": "scatter",
         "x": [
          -0.8744819296184537,
          -0.8920759840818145,
          null
         ],
         "y": [
          -0.1404239435381263,
          -0.2696876108128669,
          null
         ]
        },
        {
         "hoverinfo": "text",
         "hovertext": "Coffee Drinks Sub - Cup Of Ice, Cup Of Ice - Coffee Drinks Sub, Support: 0.006174, Lift: 2.353475, Confidence: 0.186047, Conviction: 1.220986",
         "line": {
          "color": "black",
          "width": 0.06174200661521499
         },
         "mode": "lines",
         "type": "scatter",
         "x": [
          0.09945924615139766,
          -0.8920759840818145,
          null
         ],
         "y": [
          -0.06986135751421067,
          -0.2696876108128669,
          null
         ]
        },
        {
         "hoverinfo": "text",
         "hovertext": "Cup Of Ice - Energy Drinks Sub, Energy Drinks Sub - Cup Of Ice, Support: 0.022933, Lift: 2.339044, Confidence: 0.136681, Conviction: 1.145804",
         "line": {
          "color": "black",
          "width": 0.2293274531422271
         },
         "mode": "lines",
         "type": "scatter",
         "x": [
          -0.8920759840818145,
          -0.9105053377064426,
          null
         ],
         "y": [
          -0.2696876108128669,
          0.11500286272873567,
          null
         ]
        },
        {
         "hoverinfo": "text",
         "hovertext": "Cup Of Ice - Sugar CSD, Sugar CSD - Cup Of Ice, Support: 0.010805, Lift: 2.339044, Confidence: 0.136681, Conviction: 1.145804",
         "line": {
          "color": "black",
          "width": 0.10804851157662623
         },
         "mode": "lines",
         "type": "scatter",
         "x": [
          -0.8920759840818145,
          -0.8744819296184537,
          null
         ],
         "y": [
          -0.2696876108128669,
          -0.1404239435381263,
          null
         ]
        },
        {
         "hoverinfo": "text",
         "hovertext": "Energy Drinks Sub - Cup Of Ice, Cup Of Ice - Energy Drinks Sub, Support: 0.022933, Lift: 3.434968, Confidence: 0.290098, Conviction: 1.376340",
         "line": {
          "color": "black",
          "width": 0.2293274531422271
         },
         "mode": "lines",
         "type": "scatter",
         "x": [
          -0.9105053377064426,
          -0.8920759840818145,
          null
         ],
         "y": [
          0.11500286272873567,
          -0.2696876108128669,
          null
         ]
        },
        {
         "hoverinfo": "text",
         "hovertext": "No/Less Sugar CSD - Cup Of Ice, Cup Of Ice - No/Less Sugar CSD, Support: 0.007056, Lift: 2.340268, Confidence: 0.136752, Conviction: 1.152285",
         "line": {
          "color": "black",
          "width": 0.07056229327453142
         },
         "mode": "lines",
         "type": "scatter",
         "x": [
          -0.20498145855821867,
          -0.8920759840818145,
          null
         ],
         "y": [
          -0.6175418972510052,
          -0.2696876108128669,
          null
         ]
        },
        {
         "hoverinfo": "text",
         "hovertext": "No/Less Sugar CSD - Sugar CSD, Sugar CSD - No/Less Sugar CSD, Support: 0.005292, Lift: 2.340268, Confidence: 0.136752, Conviction: 1.152285",
         "line": {
          "color": "black",
          "width": 0.05292171995589856
         },
         "mode": "lines",
         "type": "scatter",
         "x": [
          -0.20498145855821867,
          -0.8744819296184537,
          null
         ],
         "y": [
          -0.6175418972510052,
          -0.1404239435381263,
          null
         ]
        },
        {
         "hoverinfo": "text",
         "hovertext": "Other Cuisine Sub - Fried Food Sub, Fried Food Sub - Other Cuisine Sub, Support: 0.014994, Lift: 2.188415, Confidence: 0.226562, Conviction: 1.280527",
         "line": {
          "color": "black",
          "width": 0.14994487320837926
         },
         "mode": "lines",
         "type": "scatter",
         "x": [
          0.18707784800806368,
          0.1587310913751187,
          null
         ],
         "y": [
          0.7521015701296491,
          0.24401359525438493,
          null
         ]
        },
        {
         "hoverinfo": "text",
         "hovertext": "Fried Food Sub - Other Cuisine Sub, Other Cuisine Sub - Fried Food Sub, Support: 0.014994, Lift: 2.725421, Confidence: 0.282158, Conviction: 1.372175",
         "line": {
          "color": "black",
          "width": 0.14994487320837926
         },
         "mode": "lines",
         "type": "scatter",
         "x": [
          0.1587310913751187,
          0.18707784800806368,
          null
         ],
         "y": [
          0.24401359525438493,
          0.7521015701296491,
          null
         ]
        },
        {
         "hoverinfo": "text",
         "hovertext": "Hot pot Thai - Instant Noodles Pack, Instant Noodles Pack - Hot pot Thai, Support: 0.005402, Lift: 3.618901, Confidence: 0.162791, Conviction: 1.187992",
         "line": {
          "color": "black",
          "width": 0.054024255788313116
         },
         "mode": "lines",
         "type": "scatter",
         "x": [
          0.24292638397676522,
          0.47444073975501083,
          null
         ],
         "y": [
          -0.875312797481624,
          -0.14159395545854384,
          null
         ]
        },
        {
         "hoverinfo": "text",
         "hovertext": "Instant Noodles Bowl - Instant Noodles Cup, Instant Noodles Cup - Instant Noodles Bowl, Support: 0.006284, Lift: 2.956169, Confidence: 0.132979, Conviction: 1.147016",
         "line": {
          "color": "black",
          "width": 0.06284454244762955
         },
         "mode": "lines",
         "type": "scatter",
         "x": [
          -0.1259738353498276,
          -0.49800707893245927,
          null
         ],
         "y": [
          0.5379820632211243,
          -0.24312131739306625,
          null
         ]
        },
        {
         "hoverinfo": "text",
         "hovertext": "Instant Noodles Bowl - Instant Noodles Pack, Instant Noodles Pack - Instant Noodles Bowl, Support: 0.005513, Lift: 2.956169, Confidence: 0.132979, Conviction: 1.147016",
         "line": {
          "color": "black",
          "width": 0.05512679162072767
         },
         "mode": "lines",
         "type": "scatter",
         "x": [
          -0.1259738353498276,
          0.47444073975501083,
          null
         ],
         "y": [
          0.5379820632211243,
          -0.14159395545854384,
          null
         ]
        },
        {
         "hoverinfo": "text",
         "hovertext": "Instant Noodles Cup - Instant Sausage, Instant Sausage - Instant Noodles Cup, Support: 0.010474, Lift: 7.004544, Confidence: 0.450237, Conviction: 1.799914",
         "line": {
          "color": "black",
          "width": 0.10474090407938258
         },
         "mode": "lines",
         "type": "scatter",
         "x": [
          -0.49800707893245927,
          -0.011930563685737318,
          null
         ],
         "y": [
          -0.24312131739306625,
          -0.4050275314761257,
          null
         ]
        },
        {
         "hoverinfo": "text",
         "hovertext": "Instant Sausage - Instant Noodles Cup, Instant Noodles Cup - Instant Sausage, Support: 0.010474, Lift: 6.110724, Confidence: 0.274882, Conviction: 1.370266",
         "line": {
          "color": "black",
          "width": 0.10474090407938258
         },
         "mode": "lines",
         "type": "scatter",
         "x": [
          -0.011930563685737318,
          -0.49800707893245927,
          null
         ],
         "y": [
          -0.4050275314761257,
          -0.24312131739306625,
          null
         ]
        },
        {
         "hoverinfo": "text",
         "hovertext": "Instant Sausage - Instant Noodles Pack, Instant Noodles Pack - Instant Sausage, Support: 0.006395, Lift: 6.110724, Confidence: 0.274882, Conviction: 1.370266",
         "line": {
          "color": "black",
          "width": 0.0639470782800441
         },
         "mode": "lines",
         "type": "scatter",
         "x": [
          -0.011930563685737318,
          0.47444073975501083,
          null
         ],
         "y": [
          -0.4050275314761257,
          -0.14159395545854384,
          null
         ]
        },
        {
         "hoverinfo": "text",
         "hovertext": "Onigiri - Sandwich, Sandwich - Onigiri, Support: 0.008049, Lift: 2.190126, Confidence: 0.170960, Conviction: 1.196506",
         "line": {
          "color": "black",
          "width": 0.08048511576626241
         },
         "mode": "lines",
         "type": "scatter",
         "x": [
          0.04435014971927053,
          0.7675280920296782,
          null
         ],
         "y": [
          -0.8992498615750496,
          -0.582848091988485,
          null
         ]
        },
        {
         "hoverinfo": "text",
         "hovertext": "Sandwich - Onigiri, Onigiri - Sandwich, Support: 0.008049, Lift: 2.190126, Confidence: 0.170960, Conviction: 1.196506",
         "line": {
          "color": "black",
          "width": 0.08048511576626241
         },
         "mode": "lines",
         "type": "scatter",
         "x": [
          0.7675280920296782,
          0.04435014971927053,
          null
         ],
         "y": [
          -0.582848091988485,
          -0.8992498615750496,
          null
         ]
        },
        {
         "hoverinfo": "text",
         "hovertext": "Others Steamed  bun - Other Cuisine Sub, Other Cuisine Sub - Others Steamed  bun, Support: 0.009592, Lift: 2.411531, Confidence: 0.102098, Conviction: 1.104743",
         "line": {
          "color": "black",
          "width": 0.09592061742006615
         },
         "mode": "lines",
         "type": "scatter",
         "x": [
          0.26773846949971636,
          0.18707784800806368,
          null
         ],
         "y": [
          0.5203539509290671,
          0.7521015701296491,
          null
         ]
        },
        {
         "hoverinfo": "text",
         "hovertext": "Others Steamed  bun - Savoury  Buns, Savoury  Buns - Others Steamed  bun, Support: 0.008049, Lift: 2.411531, Confidence: 0.102098, Conviction: 1.104743",
         "line": {
          "color": "black",
          "width": 0.08048511576626241
         },
         "mode": "lines",
         "type": "scatter",
         "x": [
          0.26773846949971636,
          0.5791451312101668,
          null
         ],
         "y": [
          0.5203539509290671,
          0.8868916854995318,
          null
         ]
        },
        {
         "hoverinfo": "text",
         "hovertext": "Stick - Other Ice Cream, Other Ice Cream - Stick, Support: 0.005072, Lift: 10.722142, Confidence: 0.302632, Conviction: 1.426690",
         "line": {
          "color": "black",
          "width": 0.05071664829106946
         },
         "mode": "lines",
         "type": "scatter",
         "x": [
          0.5647372636610243,
          0.994817951194247,
          null
         ],
         "y": [
          -0.4928686006627802,
          0.3771201912211396,
          null
         ]
        },
        {
         "hoverinfo": "text",
         "hovertext": "Other Ice Cream - Stick, Stick - Other Ice Cream, Support: 0.005072, Lift: 10.722142, Confidence: 0.302632, Conviction: 1.426690",
         "line": {
          "color": "black",
          "width": 0.05071664829106946
         },
         "mode": "lines",
         "type": "scatter",
         "x": [
          0.994817951194247,
          0.5647372636610243,
          null
         ],
         "y": [
          0.3771201912211396,
          -0.4928686006627802,
          null
         ]
        },
        {
         "hoverinfo": "text",
         "hovertext": "Savoury  Buns - Others Steamed  bun, Others Steamed  bun - Savoury  Buns, Support: 0.008049, Lift: 2.411531, Confidence: 0.102098, Conviction: 1.104743",
         "line": {
          "color": "black",
          "width": 0.08048511576626241
         },
         "mode": "lines",
         "type": "scatter",
         "x": [
          0.5791451312101668,
          0.26773846949971636,
          null
         ],
         "y": [
          0.8868916854995318,
          0.5203539509290671,
          null
         ]
        },
        {
         "hoverinfo": "text",
         "hovertext": "UHT Milk - Packaged bakery, Packaged bakery - UHT Milk, Support: 0.005843, Lift: 2.085600, Confidence: 0.135897, Conviction: 1.150508",
         "line": {
          "color": "black",
          "width": 0.05843439911797133
         },
         "mode": "lines",
         "type": "scatter",
         "x": [
          -0.25380310748329526,
          -0.5273674252663649,
          null
         ],
         "y": [
          0.14625929922947334,
          -0.7096414811249374,
          null
         ]
        },
        {
         "hoverinfo": "text",
         "hovertext": "Salty Snacks - Potato Snacks, Potato Snacks - Salty Snacks, Support: 0.008600, Lift: 3.827750, Confidence: 0.172185, Conviction: 1.197611",
         "line": {
          "color": "black",
          "width": 0.08599779492833518
         },
         "mode": "lines",
         "type": "scatter",
         "x": [
          -0.42692790362934824,
          -0.6961438816259585,
          null
         ],
         "y": [
          0.8247796481523338,
          0.7452988172197513,
          null
         ]
        },
        {
         "hoverinfo": "text",
         "hovertext": "Potato Snacks - Salty Snacks, Salty Snacks - Potato Snacks, Support: 0.008600, Lift: 3.827750, Confidence: 0.172185, Conviction: 1.197611",
         "line": {
          "color": "black",
          "width": 0.08599779492833518
         },
         "mode": "lines",
         "type": "scatter",
         "x": [
          -0.6961438816259585,
          -0.42692790362934824,
          null
         ],
         "y": [
          0.7452988172197513,
          0.8247796481523338,
          null
         ]
        },
        {
         "hoverinfo": "text",
         "hovertext": "WIC/RIC Juice - Sugar Tea, Sugar Tea - WIC/RIC Juice, Support: 0.006505, Lift: 2.131992, Confidence: 0.236000, Conviction: 1.300386",
         "line": {
          "color": "black",
          "width": 0.06504961411245866
         },
         "mode": "lines",
         "type": "scatter",
         "x": [
          0.2749514739010643,
          -0.6707458462703859,
          null
         ],
         "y": [
          -0.24354378892966905,
          0.41603105817540365,
          null
         ]
        },
        {
         "hoverinfo": "text",
         "hovertext": "Item: Add-on item Sub, Support: 0.005623, Lift: 2.397730, Confidence: 0.140110, Conviction: 1.156400",
         "marker": {
          "color": "lightblue",
          "size": 40
         },
         "mode": "markers+text",
         "text": "Add-on item Sub",
         "textposition": "top center",
         "type": "scatter",
         "x": [
          0.36537435126777046
         ],
         "y": [
          0.10637273357352005
         ]
        },
        {
         "hoverinfo": "text",
         "hovertext": "Item: Chocolate Bar, Support: 0.006174, Lift: 2.147544, Confidence: 0.143959, Conviction: 1.160956",
         "marker": {
          "color": "lightblue",
          "size": 40
         },
         "mode": "markers+text",
         "text": "Chocolate Bar",
         "textposition": "top center",
         "type": "scatter",
         "x": [
          0.07166616045901326
         ],
         "y": [
          -0.12936225361632656
         ]
        },
        {
         "hoverinfo": "text",
         "hovertext": "Item: Flavored Milk Sub, Support: 0.006174, Lift: 2.147544, Confidence: 0.143959, Conviction: 1.160956",
         "marker": {
          "color": "lightblue",
          "size": 40
         },
         "mode": "markers+text",
         "text": "Flavored Milk Sub",
         "textposition": "top center",
         "type": "scatter",
         "x": [
          1
         ],
         "y": [
          0.14787701348870114
         ]
        },
        {
         "hoverinfo": "text",
         "hovertext": "Item: Instant Noodles Pack, Support: 0.006395, Lift: 6.110724, Confidence: 0.274882, Conviction: 1.370266",
         "marker": {
          "color": "lightblue",
          "size": 40
         },
         "mode": "markers+text",
         "text": "Instant Noodles Pack",
         "textposition": "top center",
         "type": "scatter",
         "x": [
          0.47444073975501083
         ],
         "y": [
          -0.14159395545854384
         ]
        },
        {
         "hoverinfo": "text",
         "hovertext": "Item: Sugar CSD, Support: 0.005292, Lift: 2.340268, Confidence: 0.136752, Conviction: 1.152285",
         "marker": {
          "color": "lightblue",
          "size": 40
         },
         "mode": "markers+text",
         "text": "Sugar CSD",
         "textposition": "top center",
         "type": "scatter",
         "x": [
          -0.8744819296184537
         ],
         "y": [
          -0.1404239435381263
         ]
        },
        {
         "hoverinfo": "text",
         "hovertext": "Item: Coffee Drinks Sub, Support: 0.006174, Lift: 2.353475, Confidence: 0.186047, Conviction: 1.220986",
         "marker": {
          "color": "lightblue",
          "size": 40
         },
         "mode": "markers+text",
         "text": "Coffee Drinks Sub",
         "textposition": "top center",
         "type": "scatter",
         "x": [
          0.09945924615139766
         ],
         "y": [
          -0.06986135751421067
         ]
        },
        {
         "hoverinfo": "text",
         "hovertext": "Item: Cup Of Ice, Support: 0.010805, Lift: 2.339044, Confidence: 0.136681, Conviction: 1.145804",
         "marker": {
          "color": "lightblue",
          "size": 40
         },
         "mode": "markers+text",
         "text": "Cup Of Ice",
         "textposition": "top center",
         "type": "scatter",
         "x": [
          -0.8920759840818145
         ],
         "y": [
          -0.2696876108128669
         ]
        },
        {
         "hoverinfo": "text",
         "hovertext": "Item: Energy Drinks Sub, Support: 0.022933, Lift: 3.434968, Confidence: 0.290098, Conviction: 1.376340",
         "marker": {
          "color": "lightblue",
          "size": 40
         },
         "mode": "markers+text",
         "text": "Energy Drinks Sub",
         "textposition": "top center",
         "type": "scatter",
         "x": [
          -0.9105053377064426
         ],
         "y": [
          0.11500286272873567
         ]
        },
        {
         "hoverinfo": "text",
         "hovertext": "Item: No/Less Sugar CSD, Support: 0.005292, Lift: 2.340268, Confidence: 0.136752, Conviction: 1.152285",
         "marker": {
          "color": "lightblue",
          "size": 40
         },
         "mode": "markers+text",
         "text": "No/Less Sugar CSD",
         "textposition": "top center",
         "type": "scatter",
         "x": [
          -0.20498145855821867
         ],
         "y": [
          -0.6175418972510052
         ]
        },
        {
         "hoverinfo": "text",
         "hovertext": "Item: Other Cuisine Sub, Support: 0.009592, Lift: 2.188415, Confidence: 0.226562, Conviction: 1.280527",
         "marker": {
          "color": "lightblue",
          "size": 40
         },
         "mode": "markers+text",
         "text": "Other Cuisine Sub",
         "textposition": "top center",
         "type": "scatter",
         "x": [
          0.18707784800806368
         ],
         "y": [
          0.7521015701296491
         ]
        },
        {
         "hoverinfo": "text",
         "hovertext": "Item: Fried Food Sub, Support: 0.014994, Lift: 2.725421, Confidence: 0.282158, Conviction: 1.372175",
         "marker": {
          "color": "lightblue",
          "size": 40
         },
         "mode": "markers+text",
         "text": "Fried Food Sub",
         "textposition": "top center",
         "type": "scatter",
         "x": [
          0.1587310913751187
         ],
         "y": [
          0.24401359525438493
         ]
        },
        {
         "hoverinfo": "text",
         "hovertext": "Item: Hot pot Thai, Support: 0.005402, Lift: 3.618901, Confidence: 0.162791, Conviction: 1.187992",
         "marker": {
          "color": "lightblue",
          "size": 40
         },
         "mode": "markers+text",
         "text": "Hot pot Thai",
         "textposition": "top center",
         "type": "scatter",
         "x": [
          0.24292638397676522
         ],
         "y": [
          -0.875312797481624
         ]
        },
        {
         "hoverinfo": "text",
         "hovertext": "Item: Instant Noodles Bowl, Support: 0.005513, Lift: 2.956169, Confidence: 0.132979, Conviction: 1.147016",
         "marker": {
          "color": "lightblue",
          "size": 40
         },
         "mode": "markers+text",
         "text": "Instant Noodles Bowl",
         "textposition": "top center",
         "type": "scatter",
         "x": [
          -0.1259738353498276
         ],
         "y": [
          0.5379820632211243
         ]
        },
        {
         "hoverinfo": "text",
         "hovertext": "Item: Instant Noodles Cup, Support: 0.010474, Lift: 7.004544, Confidence: 0.450237, Conviction: 1.799914",
         "marker": {
          "color": "lightblue",
          "size": 40
         },
         "mode": "markers+text",
         "text": "Instant Noodles Cup",
         "textposition": "top center",
         "type": "scatter",
         "x": [
          -0.49800707893245927
         ],
         "y": [
          -0.24312131739306625
         ]
        },
        {
         "hoverinfo": "text",
         "hovertext": "Item: Instant Sausage, Support: 0.006395, Lift: 6.110724, Confidence: 0.274882, Conviction: 1.370266",
         "marker": {
          "color": "lightblue",
          "size": 40
         },
         "mode": "markers+text",
         "text": "Instant Sausage",
         "textposition": "top center",
         "type": "scatter",
         "x": [
          -0.011930563685737318
         ],
         "y": [
          -0.4050275314761257
         ]
        },
        {
         "hoverinfo": "text",
         "hovertext": "Item: Onigiri, Support: 0.008049, Lift: 2.190126, Confidence: 0.170960, Conviction: 1.196506",
         "marker": {
          "color": "lightblue",
          "size": 40
         },
         "mode": "markers+text",
         "text": "Onigiri",
         "textposition": "top center",
         "type": "scatter",
         "x": [
          0.04435014971927053
         ],
         "y": [
          -0.8992498615750496
         ]
        },
        {
         "hoverinfo": "text",
         "hovertext": "Item: Sandwich, Support: 0.008049, Lift: 2.190126, Confidence: 0.170960, Conviction: 1.196506",
         "marker": {
          "color": "lightblue",
          "size": 40
         },
         "mode": "markers+text",
         "text": "Sandwich",
         "textposition": "top center",
         "type": "scatter",
         "x": [
          0.7675280920296782
         ],
         "y": [
          -0.582848091988485
         ]
        },
        {
         "hoverinfo": "text",
         "hovertext": "Item: Others Steamed  bun, Support: 0.008049, Lift: 2.411531, Confidence: 0.102098, Conviction: 1.104743",
         "marker": {
          "color": "lightblue",
          "size": 40
         },
         "mode": "markers+text",
         "text": "Others Steamed  bun",
         "textposition": "top center",
         "type": "scatter",
         "x": [
          0.26773846949971636
         ],
         "y": [
          0.5203539509290671
         ]
        },
        {
         "hoverinfo": "text",
         "hovertext": "Item: Stick, Support: 0.005072, Lift: 10.722142, Confidence: 0.302632, Conviction: 1.426690",
         "marker": {
          "color": "lightblue",
          "size": 40
         },
         "mode": "markers+text",
         "text": "Stick",
         "textposition": "top center",
         "type": "scatter",
         "x": [
          0.5647372636610243
         ],
         "y": [
          -0.4928686006627802
         ]
        },
        {
         "hoverinfo": "text",
         "hovertext": "Item: Other Ice Cream, Support: 0.005072, Lift: 10.722142, Confidence: 0.302632, Conviction: 1.426690",
         "marker": {
          "color": "lightblue",
          "size": 40
         },
         "mode": "markers+text",
         "text": "Other Ice Cream",
         "textposition": "top center",
         "type": "scatter",
         "x": [
          0.994817951194247
         ],
         "y": [
          0.3771201912211396
         ]
        },
        {
         "hoverinfo": "text",
         "hovertext": "Item: Savoury  Buns, Support: 0.008049, Lift: 2.411531, Confidence: 0.102098, Conviction: 1.104743",
         "marker": {
          "color": "lightblue",
          "size": 40
         },
         "mode": "markers+text",
         "text": "Savoury  Buns",
         "textposition": "top center",
         "type": "scatter",
         "x": [
          0.5791451312101668
         ],
         "y": [
          0.8868916854995318
         ]
        },
        {
         "hoverinfo": "text",
         "hovertext": "Item: UHT Milk, Support: 0.005843, Lift: 2.085600, Confidence: 0.135897, Conviction: 1.150508",
         "marker": {
          "color": "lightblue",
          "size": 40
         },
         "mode": "markers+text",
         "text": "UHT Milk",
         "textposition": "top center",
         "type": "scatter",
         "x": [
          -0.25380310748329526
         ],
         "y": [
          0.14625929922947334
         ]
        },
        {
         "hoverinfo": "text",
         "hovertext": "Item: Packaged bakery, Support: 0.005843, Lift: 2.085600, Confidence: 0.135897, Conviction: 1.150508",
         "marker": {
          "color": "lightblue",
          "size": 40
         },
         "mode": "markers+text",
         "text": "Packaged bakery",
         "textposition": "top center",
         "type": "scatter",
         "x": [
          -0.5273674252663649
         ],
         "y": [
          -0.7096414811249374
         ]
        },
        {
         "hoverinfo": "text",
         "hovertext": "Item: Salty Snacks, Support: 0.008600, Lift: 3.827750, Confidence: 0.172185, Conviction: 1.197611",
         "marker": {
          "color": "lightblue",
          "size": 40
         },
         "mode": "markers+text",
         "text": "Salty Snacks",
         "textposition": "top center",
         "type": "scatter",
         "x": [
          -0.42692790362934824
         ],
         "y": [
          0.8247796481523338
         ]
        },
        {
         "hoverinfo": "text",
         "hovertext": "Item: Potato Snacks, Support: 0.008600, Lift: 3.827750, Confidence: 0.172185, Conviction: 1.197611",
         "marker": {
          "color": "lightblue",
          "size": 40
         },
         "mode": "markers+text",
         "text": "Potato Snacks",
         "textposition": "top center",
         "type": "scatter",
         "x": [
          -0.6961438816259585
         ],
         "y": [
          0.7452988172197513
         ]
        },
        {
         "hoverinfo": "text",
         "hovertext": "Item: WIC/RIC Juice, Support: 0.006505, Lift: 2.131992, Confidence: 0.236000, Conviction: 1.300386",
         "marker": {
          "color": "lightblue",
          "size": 40
         },
         "mode": "markers+text",
         "text": "WIC/RIC Juice",
         "textposition": "top center",
         "type": "scatter",
         "x": [
          0.2749514739010643
         ],
         "y": [
          -0.24354378892966905
         ]
        },
        {
         "hoverinfo": "text",
         "hovertext": "Item: Sugar Tea, Support: 0.006505, Lift: 2.131992, Confidence: 0.236000, Conviction: 1.300386",
         "marker": {
          "color": "lightblue",
          "size": 40
         },
         "mode": "markers+text",
         "text": "Sugar Tea",
         "textposition": "top center",
         "type": "scatter",
         "x": [
          -0.6707458462703859
         ],
         "y": [
          0.41603105817540365
         ]
        }
       ],
       "layout": {
        "hovermode": "closest",
        "margin": {
         "b": 20,
         "l": 5,
         "r": 5,
         "t": 40
        },
        "plot_bgcolor": "white",
        "showlegend": false,
        "template": {
         "data": {
          "bar": [
           {
            "error_x": {
             "color": "#2a3f5f"
            },
            "error_y": {
             "color": "#2a3f5f"
            },
            "marker": {
             "line": {
              "color": "#E5ECF6",
              "width": 0.5
             },
             "pattern": {
              "fillmode": "overlay",
              "size": 10,
              "solidity": 0.2
             }
            },
            "type": "bar"
           }
          ],
          "barpolar": [
           {
            "marker": {
             "line": {
              "color": "#E5ECF6",
              "width": 0.5
             },
             "pattern": {
              "fillmode": "overlay",
              "size": 10,
              "solidity": 0.2
             }
            },
            "type": "barpolar"
           }
          ],
          "carpet": [
           {
            "aaxis": {
             "endlinecolor": "#2a3f5f",
             "gridcolor": "white",
             "linecolor": "white",
             "minorgridcolor": "white",
             "startlinecolor": "#2a3f5f"
            },
            "baxis": {
             "endlinecolor": "#2a3f5f",
             "gridcolor": "white",
             "linecolor": "white",
             "minorgridcolor": "white",
             "startlinecolor": "#2a3f5f"
            },
            "type": "carpet"
           }
          ],
          "choropleth": [
           {
            "colorbar": {
             "outlinewidth": 0,
             "ticks": ""
            },
            "type": "choropleth"
           }
          ],
          "contour": [
           {
            "colorbar": {
             "outlinewidth": 0,
             "ticks": ""
            },
            "colorscale": [
             [
              0,
              "#0d0887"
             ],
             [
              0.1111111111111111,
              "#46039f"
             ],
             [
              0.2222222222222222,
              "#7201a8"
             ],
             [
              0.3333333333333333,
              "#9c179e"
             ],
             [
              0.4444444444444444,
              "#bd3786"
             ],
             [
              0.5555555555555556,
              "#d8576b"
             ],
             [
              0.6666666666666666,
              "#ed7953"
             ],
             [
              0.7777777777777778,
              "#fb9f3a"
             ],
             [
              0.8888888888888888,
              "#fdca26"
             ],
             [
              1,
              "#f0f921"
             ]
            ],
            "type": "contour"
           }
          ],
          "contourcarpet": [
           {
            "colorbar": {
             "outlinewidth": 0,
             "ticks": ""
            },
            "type": "contourcarpet"
           }
          ],
          "heatmap": [
           {
            "colorbar": {
             "outlinewidth": 0,
             "ticks": ""
            },
            "colorscale": [
             [
              0,
              "#0d0887"
             ],
             [
              0.1111111111111111,
              "#46039f"
             ],
             [
              0.2222222222222222,
              "#7201a8"
             ],
             [
              0.3333333333333333,
              "#9c179e"
             ],
             [
              0.4444444444444444,
              "#bd3786"
             ],
             [
              0.5555555555555556,
              "#d8576b"
             ],
             [
              0.6666666666666666,
              "#ed7953"
             ],
             [
              0.7777777777777778,
              "#fb9f3a"
             ],
             [
              0.8888888888888888,
              "#fdca26"
             ],
             [
              1,
              "#f0f921"
             ]
            ],
            "type": "heatmap"
           }
          ],
          "heatmapgl": [
           {
            "colorbar": {
             "outlinewidth": 0,
             "ticks": ""
            },
            "colorscale": [
             [
              0,
              "#0d0887"
             ],
             [
              0.1111111111111111,
              "#46039f"
             ],
             [
              0.2222222222222222,
              "#7201a8"
             ],
             [
              0.3333333333333333,
              "#9c179e"
             ],
             [
              0.4444444444444444,
              "#bd3786"
             ],
             [
              0.5555555555555556,
              "#d8576b"
             ],
             [
              0.6666666666666666,
              "#ed7953"
             ],
             [
              0.7777777777777778,
              "#fb9f3a"
             ],
             [
              0.8888888888888888,
              "#fdca26"
             ],
             [
              1,
              "#f0f921"
             ]
            ],
            "type": "heatmapgl"
           }
          ],
          "histogram": [
           {
            "marker": {
             "pattern": {
              "fillmode": "overlay",
              "size": 10,
              "solidity": 0.2
             }
            },
            "type": "histogram"
           }
          ],
          "histogram2d": [
           {
            "colorbar": {
             "outlinewidth": 0,
             "ticks": ""
            },
            "colorscale": [
             [
              0,
              "#0d0887"
             ],
             [
              0.1111111111111111,
              "#46039f"
             ],
             [
              0.2222222222222222,
              "#7201a8"
             ],
             [
              0.3333333333333333,
              "#9c179e"
             ],
             [
              0.4444444444444444,
              "#bd3786"
             ],
             [
              0.5555555555555556,
              "#d8576b"
             ],
             [
              0.6666666666666666,
              "#ed7953"
             ],
             [
              0.7777777777777778,
              "#fb9f3a"
             ],
             [
              0.8888888888888888,
              "#fdca26"
             ],
             [
              1,
              "#f0f921"
             ]
            ],
            "type": "histogram2d"
           }
          ],
          "histogram2dcontour": [
           {
            "colorbar": {
             "outlinewidth": 0,
             "ticks": ""
            },
            "colorscale": [
             [
              0,
              "#0d0887"
             ],
             [
              0.1111111111111111,
              "#46039f"
             ],
             [
              0.2222222222222222,
              "#7201a8"
             ],
             [
              0.3333333333333333,
              "#9c179e"
             ],
             [
              0.4444444444444444,
              "#bd3786"
             ],
             [
              0.5555555555555556,
              "#d8576b"
             ],
             [
              0.6666666666666666,
              "#ed7953"
             ],
             [
              0.7777777777777778,
              "#fb9f3a"
             ],
             [
              0.8888888888888888,
              "#fdca26"
             ],
             [
              1,
              "#f0f921"
             ]
            ],
            "type": "histogram2dcontour"
           }
          ],
          "mesh3d": [
           {
            "colorbar": {
             "outlinewidth": 0,
             "ticks": ""
            },
            "type": "mesh3d"
           }
          ],
          "parcoords": [
           {
            "line": {
             "colorbar": {
              "outlinewidth": 0,
              "ticks": ""
             }
            },
            "type": "parcoords"
           }
          ],
          "pie": [
           {
            "automargin": true,
            "type": "pie"
           }
          ],
          "scatter": [
           {
            "fillpattern": {
             "fillmode": "overlay",
             "size": 10,
             "solidity": 0.2
            },
            "type": "scatter"
           }
          ],
          "scatter3d": [
           {
            "line": {
             "colorbar": {
              "outlinewidth": 0,
              "ticks": ""
             }
            },
            "marker": {
             "colorbar": {
              "outlinewidth": 0,
              "ticks": ""
             }
            },
            "type": "scatter3d"
           }
          ],
          "scattercarpet": [
           {
            "marker": {
             "colorbar": {
              "outlinewidth": 0,
              "ticks": ""
             }
            },
            "type": "scattercarpet"
           }
          ],
          "scattergeo": [
           {
            "marker": {
             "colorbar": {
              "outlinewidth": 0,
              "ticks": ""
             }
            },
            "type": "scattergeo"
           }
          ],
          "scattergl": [
           {
            "marker": {
             "colorbar": {
              "outlinewidth": 0,
              "ticks": ""
             }
            },
            "type": "scattergl"
           }
          ],
          "scattermapbox": [
           {
            "marker": {
             "colorbar": {
              "outlinewidth": 0,
              "ticks": ""
             }
            },
            "type": "scattermapbox"
           }
          ],
          "scatterpolar": [
           {
            "marker": {
             "colorbar": {
              "outlinewidth": 0,
              "ticks": ""
             }
            },
            "type": "scatterpolar"
           }
          ],
          "scatterpolargl": [
           {
            "marker": {
             "colorbar": {
              "outlinewidth": 0,
              "ticks": ""
             }
            },
            "type": "scatterpolargl"
           }
          ],
          "scatterternary": [
           {
            "marker": {
             "colorbar": {
              "outlinewidth": 0,
              "ticks": ""
             }
            },
            "type": "scatterternary"
           }
          ],
          "surface": [
           {
            "colorbar": {
             "outlinewidth": 0,
             "ticks": ""
            },
            "colorscale": [
             [
              0,
              "#0d0887"
             ],
             [
              0.1111111111111111,
              "#46039f"
             ],
             [
              0.2222222222222222,
              "#7201a8"
             ],
             [
              0.3333333333333333,
              "#9c179e"
             ],
             [
              0.4444444444444444,
              "#bd3786"
             ],
             [
              0.5555555555555556,
              "#d8576b"
             ],
             [
              0.6666666666666666,
              "#ed7953"
             ],
             [
              0.7777777777777778,
              "#fb9f3a"
             ],
             [
              0.8888888888888888,
              "#fdca26"
             ],
             [
              1,
              "#f0f921"
             ]
            ],
            "type": "surface"
           }
          ],
          "table": [
           {
            "cells": {
             "fill": {
              "color": "#EBF0F8"
             },
             "line": {
              "color": "white"
             }
            },
            "header": {
             "fill": {
              "color": "#C8D4E3"
             },
             "line": {
              "color": "white"
             }
            },
            "type": "table"
           }
          ]
         },
         "layout": {
          "annotationdefaults": {
           "arrowcolor": "#2a3f5f",
           "arrowhead": 0,
           "arrowwidth": 1
          },
          "autotypenumbers": "strict",
          "coloraxis": {
           "colorbar": {
            "outlinewidth": 0,
            "ticks": ""
           }
          },
          "colorscale": {
           "diverging": [
            [
             0,
             "#8e0152"
            ],
            [
             0.1,
             "#c51b7d"
            ],
            [
             0.2,
             "#de77ae"
            ],
            [
             0.3,
             "#f1b6da"
            ],
            [
             0.4,
             "#fde0ef"
            ],
            [
             0.5,
             "#f7f7f7"
            ],
            [
             0.6,
             "#e6f5d0"
            ],
            [
             0.7,
             "#b8e186"
            ],
            [
             0.8,
             "#7fbc41"
            ],
            [
             0.9,
             "#4d9221"
            ],
            [
             1,
             "#276419"
            ]
           ],
           "sequential": [
            [
             0,
             "#0d0887"
            ],
            [
             0.1111111111111111,
             "#46039f"
            ],
            [
             0.2222222222222222,
             "#7201a8"
            ],
            [
             0.3333333333333333,
             "#9c179e"
            ],
            [
             0.4444444444444444,
             "#bd3786"
            ],
            [
             0.5555555555555556,
             "#d8576b"
            ],
            [
             0.6666666666666666,
             "#ed7953"
            ],
            [
             0.7777777777777778,
             "#fb9f3a"
            ],
            [
             0.8888888888888888,
             "#fdca26"
            ],
            [
             1,
             "#f0f921"
            ]
           ],
           "sequentialminus": [
            [
             0,
             "#0d0887"
            ],
            [
             0.1111111111111111,
             "#46039f"
            ],
            [
             0.2222222222222222,
             "#7201a8"
            ],
            [
             0.3333333333333333,
             "#9c179e"
            ],
            [
             0.4444444444444444,
             "#bd3786"
            ],
            [
             0.5555555555555556,
             "#d8576b"
            ],
            [
             0.6666666666666666,
             "#ed7953"
            ],
            [
             0.7777777777777778,
             "#fb9f3a"
            ],
            [
             0.8888888888888888,
             "#fdca26"
            ],
            [
             1,
             "#f0f921"
            ]
           ]
          },
          "colorway": [
           "#636efa",
           "#EF553B",
           "#00cc96",
           "#ab63fa",
           "#FFA15A",
           "#19d3f3",
           "#FF6692",
           "#B6E880",
           "#FF97FF",
           "#FECB52"
          ],
          "font": {
           "color": "#2a3f5f"
          },
          "geo": {
           "bgcolor": "white",
           "lakecolor": "white",
           "landcolor": "#E5ECF6",
           "showlakes": true,
           "showland": true,
           "subunitcolor": "white"
          },
          "hoverlabel": {
           "align": "left"
          },
          "hovermode": "closest",
          "mapbox": {
           "style": "light"
          },
          "paper_bgcolor": "white",
          "plot_bgcolor": "#E5ECF6",
          "polar": {
           "angularaxis": {
            "gridcolor": "white",
            "linecolor": "white",
            "ticks": ""
           },
           "bgcolor": "#E5ECF6",
           "radialaxis": {
            "gridcolor": "white",
            "linecolor": "white",
            "ticks": ""
           }
          },
          "scene": {
           "xaxis": {
            "backgroundcolor": "#E5ECF6",
            "gridcolor": "white",
            "gridwidth": 2,
            "linecolor": "white",
            "showbackground": true,
            "ticks": "",
            "zerolinecolor": "white"
           },
           "yaxis": {
            "backgroundcolor": "#E5ECF6",
            "gridcolor": "white",
            "gridwidth": 2,
            "linecolor": "white",
            "showbackground": true,
            "ticks": "",
            "zerolinecolor": "white"
           },
           "zaxis": {
            "backgroundcolor": "#E5ECF6",
            "gridcolor": "white",
            "gridwidth": 2,
            "linecolor": "white",
            "showbackground": true,
            "ticks": "",
            "zerolinecolor": "white"
           }
          },
          "shapedefaults": {
           "line": {
            "color": "#2a3f5f"
           }
          },
          "ternary": {
           "aaxis": {
            "gridcolor": "white",
            "linecolor": "white",
            "ticks": ""
           },
           "baxis": {
            "gridcolor": "white",
            "linecolor": "white",
            "ticks": ""
           },
           "bgcolor": "#E5ECF6",
           "caxis": {
            "gridcolor": "white",
            "linecolor": "white",
            "ticks": ""
           }
          },
          "title": {
           "x": 0.05
          },
          "xaxis": {
           "automargin": true,
           "gridcolor": "white",
           "linecolor": "white",
           "ticks": "",
           "title": {
            "standoff": 15
           },
           "zerolinecolor": "white",
           "zerolinewidth": 2
          },
          "yaxis": {
           "automargin": true,
           "gridcolor": "white",
           "linecolor": "white",
           "ticks": "",
           "title": {
            "standoff": 15
           },
           "zerolinecolor": "white",
           "zerolinewidth": 2
          }
         }
        },
        "title": {
         "text": "Items Set Rules Graph",
         "x": 0.5
        },
        "xaxis": {
         "showgrid": false,
         "showticklabels": false,
         "zeroline": false
        },
        "yaxis": {
         "showgrid": false,
         "showticklabels": false,
         "zeroline": false
        }
       }
      }
     },
     "metadata": {},
     "output_type": "display_data"
    }
   ],
   "source": [
    "import plotly.graph_objects as go\n",
    "import networkx as nx\n",
    "\n",
    "# Create an empty directed graph\n",
    "G = nx.DiGraph()\n",
    "\n",
    "# Iterate through each row of the DataFrame and add edges to the graph\n",
    "for index, row in rules.iterrows():\n",
    "    antecedent = ', '.join(row['antecedents'])\n",
    "    consequent = ', '.join(row['consequents'])\n",
    "    support = row['support']\n",
    "    confidence = row['confidence']\n",
    "    lift = row['lift']\n",
    "    conviction = row['conviction']\n",
    "    # Check if lift is greater than 2 and confidence is greater than 0.1\n",
    "    if lift >= 2 and confidence > 0.1:\n",
    "        # Add edges to the graph with the support or confidence as edge weight\n",
    "        G.add_edge(antecedent, consequent, weight=support)\n",
    "\n",
    "        # Add support, lift, and confidence as attributes to the nodes\n",
    "        G.add_node(antecedent, support=support, lift=lift, confidence=confidence, conviction=conviction)\n",
    "        G.add_node(consequent, support=support, lift=lift, confidence=confidence, conviction=conviction)\n",
    "\n",
    "# Get the node positions using spring layout\n",
    "pos = nx.spring_layout(G)\n",
    "\n",
    "# Create a list of edge traces\n",
    "edge_traces = []\n",
    "for edge in G.edges():\n",
    "    x0, y0 = pos[edge[0]]\n",
    "    x1, y1 = pos[edge[1]]\n",
    "    weight = G.get_edge_data(edge[0], edge[1])['weight']\n",
    "    # Get both trigger ways\n",
    "    trigger_way1 = f\"{edge[0]} - {edge[1]}\"\n",
    "    trigger_way2 = f\"{edge[1]} - {edge[0]}\"\n",
    "    edge_trace = go.Scatter(x=[x0, x1, None], y=[y0, y1, None],\n",
    "                            mode='lines', line=dict(width=weight*10, color='black'),\n",
    "                            hoverinfo='text',\n",
    "                            hovertext=f\"{trigger_way1}, {trigger_way2}, Support: {weight:.6f}, Lift: {G.nodes[edge[0]]['lift']:.6f}, Confidence: {G.nodes[edge[0]]['confidence']:.6f}, Conviction: {G.nodes[edge[0]]['conviction']:.6f}\"\n",
    "                            )\n",
    "    edge_traces.append(edge_trace)\n",
    "\n",
    "# Create a list of node traces\n",
    "node_traces = []\n",
    "for node in G.nodes():\n",
    "    x, y = pos[node]\n",
    "    node_trace = go.Scatter(x=[x], y=[y], mode='markers+text', text=node,\n",
    "                            textposition='top center', marker=dict(size=40, color='lightblue'),\n",
    "                            hoverinfo='text',\n",
    "                            hovertext=f\"Item: {node}, Support: {G.nodes[node]['support']:.6f}, Lift: {G.nodes[node]['lift']:.6f}, Confidence: {G.nodes[node]['confidence']:.6f}, Conviction: {G.nodes[node]['conviction']:.6f}\"\n",
    "                            )\n",
    "    node_traces.append(node_trace)\n",
    "\n",
    "# Create the figure and add the edge and node traces\n",
    "fig = go.Figure(data=edge_traces + node_traces)\n",
    "\n",
    "# Set the layout properties\n",
    "fig.update_layout(title='Items Set Rules Graph', title_x=0.5, showlegend=False, hovermode='closest',\n",
    "                  plot_bgcolor='white', margin=dict(b=20, l=5, r=5, t=40), xaxis=dict(showgrid=False, zeroline=False,\n",
    "                  showticklabels=False), yaxis=dict(showgrid=False, zeroline=False, showticklabels=False))\n",
    "\n",
    "# Show the plot\n",
    "fig.show()\n"
   ]
  },
  {
   "cell_type": "code",
   "execution_count": 17,
   "metadata": {},
   "outputs": [
    {
     "data": {
      "application/vnd.plotly.v1+json": {
       "config": {
        "plotlyServerURL": "https://plot.ly"
       },
       "data": [
        {
         "hoverinfo": "text",
         "hovertext": "Support: 0.005",
         "line": {
          "color": "black",
          "width": 0.054024255788313116
         },
         "mode": "lines",
         "type": "scatter",
         "x": [
          1,
          0.9730448723174075,
          null
         ],
         "y": [
          3.311369150076431e-9,
          0.23061587218946566,
          null
         ]
        },
        {
         "hoverinfo": "text",
         "hovertext": "Support: 0.012",
         "line": {
          "color": "black",
          "width": 0.12238147739801544
         },
         "mode": "lines",
         "type": "scatter",
         "x": [
          1,
          0.8936326505074494,
          null
         ],
         "y": [
          3.311369150076431e-9,
          0.44879919565949283,
          null
         ]
        },
        {
         "hoverinfo": "text",
         "hovertext": "Support: 0.006",
         "line": {
          "color": "black",
          "width": 0.05843439911797133
         },
         "mode": "lines",
         "type": "scatter",
         "x": [
          1,
          0.7660444381758019,
          null
         ],
         "y": [
          3.311369150076431e-9,
          0.6427875782349198,
          null
         ]
        },
        {
         "hoverinfo": "text",
         "hovertext": "Support: 0.006",
         "line": {
          "color": "black",
          "width": 0.05622932745314223
         },
         "mode": "lines",
         "type": "scatter",
         "x": [
          1,
          0.5971585517163593,
          null
         ],
         "y": [
          3.311369150076431e-9,
          0.8021231912877951,
          null
         ]
        },
        {
         "hoverinfo": "text",
         "hovertext": "Support: 0.005",
         "line": {
          "color": "black",
          "width": 0.054024255788313116
         },
         "mode": "lines",
         "type": "scatter",
         "x": [
          0.9730448723174075,
          1,
          null
         ],
         "y": [
          0.23061587218946566,
          3.311369150076431e-9,
          null
         ]
        },
        {
         "hoverinfo": "text",
         "hovertext": "Support: 0.006",
         "line": {
          "color": "black",
          "width": 0.06174200661521499
         },
         "mode": "lines",
         "type": "scatter",
         "x": [
          0.9730448723174075,
          0.8936326505074494,
          null
         ],
         "y": [
          0.23061587218946566,
          0.44879919565949283,
          null
         ]
        },
        {
         "hoverinfo": "text",
         "hovertext": "Support: 0.012",
         "line": {
          "color": "black",
          "width": 0.12238147739801544
         },
         "mode": "lines",
         "type": "scatter",
         "x": [
          0.8936326505074494,
          1,
          null
         ],
         "y": [
          0.44879919565949283,
          3.311369150076431e-9,
          null
         ]
        },
        {
         "hoverinfo": "text",
         "hovertext": "Support: 0.006",
         "line": {
          "color": "black",
          "width": 0.05843439911797133
         },
         "mode": "lines",
         "type": "scatter",
         "x": [
          0.7660444381758019,
          1,
          null
         ],
         "y": [
          0.6427875782349198,
          3.311369150076431e-9,
          null
         ]
        },
        {
         "hoverinfo": "text",
         "hovertext": "Support: 0.005",
         "line": {
          "color": "black",
          "width": 0.054024255788313116
         },
         "mode": "lines",
         "type": "scatter",
         "x": [
          0.7660444381758019,
          -0.8354877210712834,
          null
         ],
         "y": [
          0.6427875782349198,
          0.5495091106955677,
          null
         ]
        },
        {
         "hoverinfo": "text",
         "hovertext": "Support: 0.006",
         "line": {
          "color": "black",
          "width": 0.05512679162072767
         },
         "mode": "lines",
         "type": "scatter",
         "x": [
          0.7660444381758019,
          -0.9396926140540682,
          null
         ],
         "y": [
          0.6427875782349198,
          0.3420202164906344,
          null
         ]
        },
        {
         "hoverinfo": "text",
         "hovertext": "Support: 0.006",
         "line": {
          "color": "black",
          "width": 0.0639470782800441
         },
         "mode": "lines",
         "type": "scatter",
         "x": [
          0.7660444381758019,
          -0.9932383274122597,
          null
         ],
         "y": [
          0.6427875782349198,
          -0.11609289449607388,
          null
         ]
        },
        {
         "hoverinfo": "text",
         "hovertext": "Support: 0.011",
         "line": {
          "color": "black",
          "width": 0.10804851157662623
         },
         "mode": "lines",
         "type": "scatter",
         "x": [
          0.5971585517163593,
          0.1736482243070401,
          null
         ],
         "y": [
          0.8021231912877951,
          0.9848077318095404,
          null
         ]
        },
        {
         "hoverinfo": "text",
         "hovertext": "Support: 0.006",
         "line": {
          "color": "black",
          "width": 0.06174200661521499
         },
         "mode": "lines",
         "type": "scatter",
         "x": [
          0.3960797496188684,
          0.1736482243070401,
          null
         ],
         "y": [
          0.9182161114469799,
          0.9848077318095404,
          null
         ]
        },
        {
         "hoverinfo": "text",
         "hovertext": "Support: 0.023",
         "line": {
          "color": "black",
          "width": 0.2293274531422271
         },
         "mode": "lines",
         "type": "scatter",
         "x": [
          0.1736482243070401,
          -0.05814482140274741,
          null
         ],
         "y": [
          0.9848077318095404,
          0.998308183834402,
          null
         ]
        },
        {
         "hoverinfo": "text",
         "hovertext": "Support: 0.011",
         "line": {
          "color": "black",
          "width": 0.10804851157662623
         },
         "mode": "lines",
         "type": "scatter",
         "x": [
          0.1736482243070401,
          0.5971585517163593,
          null
         ],
         "y": [
          0.9848077318095404,
          0.8021231912877951,
          null
         ]
        },
        {
         "hoverinfo": "text",
         "hovertext": "Support: 0.023",
         "line": {
          "color": "black",
          "width": 0.2293274531422271
         },
         "mode": "lines",
         "type": "scatter",
         "x": [
          -0.05814482140274741,
          0.1736482243070401,
          null
         ],
         "y": [
          0.998308183834402,
          0.9848077318095404,
          null
         ]
        },
        {
         "hoverinfo": "text",
         "hovertext": "Support: 0.007",
         "line": {
          "color": "black",
          "width": 0.07056229327453142
         },
         "mode": "lines",
         "type": "scatter",
         "x": [
          -0.2868032439465284,
          0.1736482243070401,
          null
         ],
         "y": [
          0.9579895159958268,
          0.9848077318095404,
          null
         ]
        },
        {
         "hoverinfo": "text",
         "hovertext": "Support: 0.005",
         "line": {
          "color": "black",
          "width": 0.05292171995589856
         },
         "mode": "lines",
         "type": "scatter",
         "x": [
          -0.2868032439465284,
          0.5971585517163593,
          null
         ],
         "y": [
          0.9579895159958268,
          0.8021231912877951,
          null
         ]
        },
        {
         "hoverinfo": "text",
         "hovertext": "Support: 0.015",
         "line": {
          "color": "black",
          "width": 0.14994487320837926
         },
         "mode": "lines",
         "type": "scatter",
         "x": [
          -0.5000000577419995,
          -0.6862417438548781,
          null
         ],
         "y": [
          0.8660253904767848,
          0.7273736024142468,
          null
         ]
        },
        {
         "hoverinfo": "text",
         "hovertext": "Support: 0.015",
         "line": {
          "color": "black",
          "width": 0.14994487320837926
         },
         "mode": "lines",
         "type": "scatter",
         "x": [
          -0.6862417438548781,
          -0.5000000577419995,
          null
         ],
         "y": [
          0.7273736024142468,
          0.8660253904767848,
          null
         ]
        },
        {
         "hoverinfo": "text",
         "hovertext": "Support: 0.005",
         "line": {
          "color": "black",
          "width": 0.054024255788313116
         },
         "mode": "lines",
         "type": "scatter",
         "x": [
          -0.8354877210712834,
          0.7660444381758019,
          null
         ],
         "y": [
          0.5495091106955677,
          0.6427875782349198,
          null
         ]
        },
        {
         "hoverinfo": "text",
         "hovertext": "Support: 0.006",
         "line": {
          "color": "black",
          "width": 0.06284454244762955
         },
         "mode": "lines",
         "type": "scatter",
         "x": [
          -0.9396926140540682,
          -0.9932383274122597,
          null
         ],
         "y": [
          0.3420202164906344,
          0.11609296072345687,
          null
         ]
        },
        {
         "hoverinfo": "text",
         "hovertext": "Support: 0.006",
         "line": {
          "color": "black",
          "width": 0.05512679162072767
         },
         "mode": "lines",
         "type": "scatter",
         "x": [
          -0.9396926140540682,
          0.7660444381758019,
          null
         ],
         "y": [
          0.3420202164906344,
          0.6427875782349198,
          null
         ]
        },
        {
         "hoverinfo": "text",
         "hovertext": "Support: 0.010",
         "line": {
          "color": "black",
          "width": 0.10474090407938258
         },
         "mode": "lines",
         "type": "scatter",
         "x": [
          -0.9932383274122597,
          -0.9932383274122597,
          null
         ],
         "y": [
          0.11609296072345687,
          -0.11609289449607388,
          null
         ]
        },
        {
         "hoverinfo": "text",
         "hovertext": "Support: 0.010",
         "line": {
          "color": "black",
          "width": 0.10474090407938258
         },
         "mode": "lines",
         "type": "scatter",
         "x": [
          -0.9932383274122597,
          -0.9932383274122597,
          null
         ],
         "y": [
          -0.11609289449607388,
          0.11609296072345687,
          null
         ]
        },
        {
         "hoverinfo": "text",
         "hovertext": "Support: 0.006",
         "line": {
          "color": "black",
          "width": 0.0639470782800441
         },
         "mode": "lines",
         "type": "scatter",
         "x": [
          -0.9932383274122597,
          0.7660444381758019,
          null
         ],
         "y": [
          -0.11609289449607388,
          0.6427875782349198,
          null
         ]
        },
        {
         "hoverinfo": "text",
         "hovertext": "Support: 0.008",
         "line": {
          "color": "black",
          "width": 0.08048511576626241
         },
         "mode": "lines",
         "type": "scatter",
         "x": [
          -0.9396926140540682,
          -0.8354877806759281,
          null
         ],
         "y": [
          -0.34202015026325133,
          -0.5495089848635399,
          null
         ]
        },
        {
         "hoverinfo": "text",
         "hovertext": "Support: 0.008",
         "line": {
          "color": "black",
          "width": 0.08048511576626241
         },
         "mode": "lines",
         "type": "scatter",
         "x": [
          -0.8354877806759281,
          -0.9396926140540682,
          null
         ],
         "y": [
          -0.5495089848635399,
          -0.34202015026325133,
          null
         ]
        },
        {
         "hoverinfo": "text",
         "hovertext": "Support: 0.010",
         "line": {
          "color": "black",
          "width": 0.09592061742006615
         },
         "mode": "lines",
         "type": "scatter",
         "x": [
          -0.686241565040944,
          -0.5000000577419995,
          null
         ],
         "y": [
          -0.7273736553961532,
          0.8660253904767848,
          null
         ]
        },
        {
         "hoverinfo": "text",
         "hovertext": "Support: 0.008",
         "line": {
          "color": "black",
          "width": 0.08048511576626241
         },
         "mode": "lines",
         "type": "scatter",
         "x": [
          -0.686241565040944,
          -0.0581446463141036,
          null
         ],
         "y": [
          -0.7273736553961532,
          -0.9983081772116636,
          null
         ]
        },
        {
         "hoverinfo": "text",
         "hovertext": "Support: 0.005",
         "line": {
          "color": "black",
          "width": 0.05071664829106946
         },
         "mode": "lines",
         "type": "scatter",
         "x": [
          -0.49999990873038785,
          -0.28680333335349545,
          null
         ],
         "y": [
          -0.8660254434586911,
          -0.9579894497684438,
          null
         ]
        },
        {
         "hoverinfo": "text",
         "hovertext": "Support: 0.005",
         "line": {
          "color": "black",
          "width": 0.05071664829106946
         },
         "mode": "lines",
         "type": "scatter",
         "x": [
          -0.28680333335349545,
          -0.49999990873038785,
          null
         ],
         "y": [
          -0.9579894497684438,
          -0.8660254434586911,
          null
         ]
        },
        {
         "hoverinfo": "text",
         "hovertext": "Support: 0.008",
         "line": {
          "color": "black",
          "width": 0.08048511576626241
         },
         "mode": "lines",
         "type": "scatter",
         "x": [
          -0.0581446463141036,
          -0.686241565040944,
          null
         ],
         "y": [
          -0.9983081772116636,
          -0.7273736553961532,
          null
         ]
        },
        {
         "hoverinfo": "text",
         "hovertext": "Support: 0.006",
         "line": {
          "color": "black",
          "width": 0.05843439911797133
         },
         "mode": "lines",
         "type": "scatter",
         "x": [
          0.1736481647023954,
          0.3960795410026119,
          null
         ],
         "y": [
          -0.984807725186802,
          -0.918216224033531,
          null
         ]
        },
        {
         "hoverinfo": "text",
         "hovertext": "Support: 0.009",
         "line": {
          "color": "black",
          "width": 0.08599779492833518
         },
         "mode": "lines",
         "type": "scatter",
         "x": [
          0.597158611321004,
          0.7660443189665126,
          null
         ],
         "y": [
          -0.8021231846650568,
          -0.6427877504261156,
          null
         ]
        },
        {
         "hoverinfo": "text",
         "hovertext": "Support: 0.009",
         "line": {
          "color": "black",
          "width": 0.08599779492833518
         },
         "mode": "lines",
         "type": "scatter",
         "x": [
          0.7660443189665126,
          0.597158611321004,
          null
         ],
         "y": [
          -0.6427877504261156,
          -0.8021231846650568,
          null
         ]
        },
        {
         "hoverinfo": "text",
         "hovertext": "Support: 0.007",
         "line": {
          "color": "black",
          "width": 0.06504961411245866
         },
         "mode": "lines",
         "type": "scatter",
         "x": [
          0.8936327101120941,
          0.9730448723174075,
          null
         ],
         "y": [
          -0.44879906982746504,
          -0.23061595497369441,
          null
         ]
        },
        {
         "hoverinfo": "text",
         "hovertext": "Item: Add-on item Sub<br>Trigger Chocolate Bar - Add-on item Sub, Support: 0.005, Lift: 2.398, Confidence: 0.140, Conviction: 1.156<br>Trigger Flavored Milk Sub - Add-on item Sub, Support: 0.012, Lift: 2.398, Confidence: 0.140, Conviction: 1.156<br>Trigger Instant Noodles Pack - Add-on item Sub, Support: 0.006, Lift: 2.398, Confidence: 0.140, Conviction: 1.156<br>Trigger Add-on item Sub - Chocolate Bar, Support: 0.005, Lift: 2.398, Confidence: 0.140, Conviction: 1.156<br>Trigger Add-on item Sub - Flavored Milk Sub, Support: 0.012, Lift: 2.398, Confidence: 0.140, Conviction: 1.156<br>Trigger Add-on item Sub - Instant Noodles Pack, Support: 0.006, Lift: 2.398, Confidence: 0.140, Conviction: 1.156<br>Trigger Add-on item Sub - Sugar CSD, Support: 0.006, Lift: 2.398, Confidence: 0.140, Conviction: 1.156<br>",
         "marker": {
          "color": "lightblue",
          "size": 40
         },
         "mode": "markers+text",
         "text": "Add-on item Sub",
         "type": "scatter",
         "x": [
          1
         ],
         "y": [
          3.311369150076431e-9
         ]
        },
        {
         "hoverinfo": "text",
         "hovertext": "Item: Chocolate Bar<br>Trigger Add-on item Sub - Chocolate Bar, Support: 0.005, Lift: 2.148, Confidence: 0.144, Conviction: 1.161<br>Trigger Chocolate Bar - Add-on item Sub, Support: 0.005, Lift: 2.148, Confidence: 0.144, Conviction: 1.161<br>Trigger Chocolate Bar - Flavored Milk Sub, Support: 0.006, Lift: 2.148, Confidence: 0.144, Conviction: 1.161<br>",
         "marker": {
          "color": "lightblue",
          "size": 40
         },
         "mode": "markers+text",
         "text": "Chocolate Bar",
         "type": "scatter",
         "x": [
          0.9730448723174075
         ],
         "y": [
          0.23061587218946566
         ]
        },
        {
         "hoverinfo": "text",
         "hovertext": "Item: Flavored Milk Sub<br>Trigger Add-on item Sub - Flavored Milk Sub, Support: 0.012, Lift: 2.148, Confidence: 0.144, Conviction: 1.161<br>Trigger Chocolate Bar - Flavored Milk Sub, Support: 0.006, Lift: 2.148, Confidence: 0.144, Conviction: 1.161<br>Trigger Flavored Milk Sub - Add-on item Sub, Support: 0.012, Lift: 2.148, Confidence: 0.144, Conviction: 1.161<br>",
         "marker": {
          "color": "lightblue",
          "size": 40
         },
         "mode": "markers+text",
         "text": "Flavored Milk Sub",
         "type": "scatter",
         "x": [
          0.8936326505074494
         ],
         "y": [
          0.44879919565949283
         ]
        },
        {
         "hoverinfo": "text",
         "hovertext": "Item: Instant Noodles Pack<br>Trigger Add-on item Sub - Instant Noodles Pack, Support: 0.006, Lift: 6.111, Confidence: 0.275, Conviction: 1.370<br>Trigger Hot pot Thai - Instant Noodles Pack, Support: 0.005, Lift: 6.111, Confidence: 0.275, Conviction: 1.370<br>Trigger Instant Noodles Bowl - Instant Noodles Pack, Support: 0.006, Lift: 6.111, Confidence: 0.275, Conviction: 1.370<br>Trigger Instant Sausage - Instant Noodles Pack, Support: 0.006, Lift: 6.111, Confidence: 0.275, Conviction: 1.370<br>Trigger Instant Noodles Pack - Add-on item Sub, Support: 0.006, Lift: 6.111, Confidence: 0.275, Conviction: 1.370<br>Trigger Instant Noodles Pack - Hot pot Thai, Support: 0.005, Lift: 6.111, Confidence: 0.275, Conviction: 1.370<br>Trigger Instant Noodles Pack - Instant Noodles Bowl, Support: 0.006, Lift: 6.111, Confidence: 0.275, Conviction: 1.370<br>Trigger Instant Noodles Pack - Instant Sausage, Support: 0.006, Lift: 6.111, Confidence: 0.275, Conviction: 1.370<br>",
         "marker": {
          "color": "lightblue",
          "size": 40
         },
         "mode": "markers+text",
         "text": "Instant Noodles Pack",
         "type": "scatter",
         "x": [
          0.7660444381758019
         ],
         "y": [
          0.6427875782349198
         ]
        },
        {
         "hoverinfo": "text",
         "hovertext": "Item: Sugar CSD<br>Trigger Add-on item Sub - Sugar CSD, Support: 0.006, Lift: 2.340, Confidence: 0.137, Conviction: 1.152<br>Trigger Cup Of Ice - Sugar CSD, Support: 0.011, Lift: 2.340, Confidence: 0.137, Conviction: 1.152<br>Trigger No/Less Sugar CSD - Sugar CSD, Support: 0.005, Lift: 2.340, Confidence: 0.137, Conviction: 1.152<br>Trigger Sugar CSD - Cup Of Ice, Support: 0.011, Lift: 2.340, Confidence: 0.137, Conviction: 1.152<br>",
         "marker": {
          "color": "lightblue",
          "size": 40
         },
         "mode": "markers+text",
         "text": "Sugar CSD",
         "type": "scatter",
         "x": [
          0.5971585517163593
         ],
         "y": [
          0.8021231912877951
         ]
        },
        {
         "hoverinfo": "text",
         "hovertext": "Item: Coffee Drinks Sub<br>Trigger Coffee Drinks Sub - Cup Of Ice, Support: 0.006, Lift: 2.353, Confidence: 0.186, Conviction: 1.221<br>",
         "marker": {
          "color": "lightblue",
          "size": 40
         },
         "mode": "markers+text",
         "text": "Coffee Drinks Sub",
         "type": "scatter",
         "x": [
          0.3960797496188684
         ],
         "y": [
          0.9182161114469799
         ]
        },
        {
         "hoverinfo": "text",
         "hovertext": "Item: Cup Of Ice<br>Trigger Coffee Drinks Sub - Cup Of Ice, Support: 0.006, Lift: 2.339, Confidence: 0.137, Conviction: 1.146<br>Trigger Energy Drinks Sub - Cup Of Ice, Support: 0.023, Lift: 2.339, Confidence: 0.137, Conviction: 1.146<br>Trigger No/Less Sugar CSD - Cup Of Ice, Support: 0.007, Lift: 2.339, Confidence: 0.137, Conviction: 1.146<br>Trigger Sugar CSD - Cup Of Ice, Support: 0.011, Lift: 2.339, Confidence: 0.137, Conviction: 1.146<br>Trigger Cup Of Ice - Energy Drinks Sub, Support: 0.023, Lift: 2.339, Confidence: 0.137, Conviction: 1.146<br>Trigger Cup Of Ice - Sugar CSD, Support: 0.011, Lift: 2.339, Confidence: 0.137, Conviction: 1.146<br>",
         "marker": {
          "color": "lightblue",
          "size": 40
         },
         "mode": "markers+text",
         "text": "Cup Of Ice",
         "type": "scatter",
         "x": [
          0.1736482243070401
         ],
         "y": [
          0.9848077318095404
         ]
        },
        {
         "hoverinfo": "text",
         "hovertext": "Item: Energy Drinks Sub<br>Trigger Cup Of Ice - Energy Drinks Sub, Support: 0.023, Lift: 3.435, Confidence: 0.290, Conviction: 1.376<br>Trigger Energy Drinks Sub - Cup Of Ice, Support: 0.023, Lift: 3.435, Confidence: 0.290, Conviction: 1.376<br>",
         "marker": {
          "color": "lightblue",
          "size": 40
         },
         "mode": "markers+text",
         "text": "Energy Drinks Sub",
         "type": "scatter",
         "x": [
          -0.05814482140274741
         ],
         "y": [
          0.998308183834402
         ]
        },
        {
         "hoverinfo": "text",
         "hovertext": "Item: No/Less Sugar CSD<br>Trigger No/Less Sugar CSD - Cup Of Ice, Support: 0.007, Lift: 2.340, Confidence: 0.137, Conviction: 1.152<br>Trigger No/Less Sugar CSD - Sugar CSD, Support: 0.005, Lift: 2.340, Confidence: 0.137, Conviction: 1.152<br>",
         "marker": {
          "color": "lightblue",
          "size": 40
         },
         "mode": "markers+text",
         "text": "No/Less Sugar CSD",
         "type": "scatter",
         "x": [
          -0.2868032439465284
         ],
         "y": [
          0.9579895159958268
         ]
        },
        {
         "hoverinfo": "text",
         "hovertext": "Item: Other Cuisine Sub<br>Trigger Fried Food Sub - Other Cuisine Sub, Support: 0.015, Lift: 2.188, Confidence: 0.227, Conviction: 1.281<br>Trigger Others Steamed  bun - Other Cuisine Sub, Support: 0.010, Lift: 2.188, Confidence: 0.227, Conviction: 1.281<br>Trigger Other Cuisine Sub - Fried Food Sub, Support: 0.015, Lift: 2.188, Confidence: 0.227, Conviction: 1.281<br>",
         "marker": {
          "color": "lightblue",
          "size": 40
         },
         "mode": "markers+text",
         "text": "Other Cuisine Sub",
         "type": "scatter",
         "x": [
          -0.5000000577419995
         ],
         "y": [
          0.8660253904767848
         ]
        },
        {
         "hoverinfo": "text",
         "hovertext": "Item: Fried Food Sub<br>Trigger Other Cuisine Sub - Fried Food Sub, Support: 0.015, Lift: 2.725, Confidence: 0.282, Conviction: 1.372<br>Trigger Fried Food Sub - Other Cuisine Sub, Support: 0.015, Lift: 2.725, Confidence: 0.282, Conviction: 1.372<br>",
         "marker": {
          "color": "lightblue",
          "size": 40
         },
         "mode": "markers+text",
         "text": "Fried Food Sub",
         "type": "scatter",
         "x": [
          -0.6862417438548781
         ],
         "y": [
          0.7273736024142468
         ]
        },
        {
         "hoverinfo": "text",
         "hovertext": "Item: Hot pot Thai<br>Trigger Instant Noodles Pack - Hot pot Thai, Support: 0.005, Lift: 3.619, Confidence: 0.163, Conviction: 1.188<br>Trigger Hot pot Thai - Instant Noodles Pack, Support: 0.005, Lift: 3.619, Confidence: 0.163, Conviction: 1.188<br>",
         "marker": {
          "color": "lightblue",
          "size": 40
         },
         "mode": "markers+text",
         "text": "Hot pot Thai",
         "type": "scatter",
         "x": [
          -0.8354877210712834
         ],
         "y": [
          0.5495091106955677
         ]
        },
        {
         "hoverinfo": "text",
         "hovertext": "Item: Instant Noodles Bowl<br>Trigger Instant Noodles Pack - Instant Noodles Bowl, Support: 0.006, Lift: 2.956, Confidence: 0.133, Conviction: 1.147<br>Trigger Instant Noodles Bowl - Instant Noodles Cup, Support: 0.006, Lift: 2.956, Confidence: 0.133, Conviction: 1.147<br>Trigger Instant Noodles Bowl - Instant Noodles Pack, Support: 0.006, Lift: 2.956, Confidence: 0.133, Conviction: 1.147<br>",
         "marker": {
          "color": "lightblue",
          "size": 40
         },
         "mode": "markers+text",
         "text": "Instant Noodles Bowl",
         "type": "scatter",
         "x": [
          -0.9396926140540682
         ],
         "y": [
          0.3420202164906344
         ]
        },
        {
         "hoverinfo": "text",
         "hovertext": "Item: Instant Noodles Cup<br>Trigger Instant Noodles Bowl - Instant Noodles Cup, Support: 0.006, Lift: 7.005, Confidence: 0.450, Conviction: 1.800<br>Trigger Instant Sausage - Instant Noodles Cup, Support: 0.010, Lift: 7.005, Confidence: 0.450, Conviction: 1.800<br>Trigger Instant Noodles Cup - Instant Sausage, Support: 0.010, Lift: 7.005, Confidence: 0.450, Conviction: 1.800<br>",
         "marker": {
          "color": "lightblue",
          "size": 40
         },
         "mode": "markers+text",
         "text": "Instant Noodles Cup",
         "type": "scatter",
         "x": [
          -0.9932383274122597
         ],
         "y": [
          0.11609296072345687
         ]
        },
        {
         "hoverinfo": "text",
         "hovertext": "Item: Instant Sausage<br>Trigger Instant Noodles Cup - Instant Sausage, Support: 0.010, Lift: 6.111, Confidence: 0.275, Conviction: 1.370<br>Trigger Instant Noodles Pack - Instant Sausage, Support: 0.006, Lift: 6.111, Confidence: 0.275, Conviction: 1.370<br>Trigger Instant Sausage - Instant Noodles Cup, Support: 0.010, Lift: 6.111, Confidence: 0.275, Conviction: 1.370<br>Trigger Instant Sausage - Instant Noodles Pack, Support: 0.006, Lift: 6.111, Confidence: 0.275, Conviction: 1.370<br>",
         "marker": {
          "color": "lightblue",
          "size": 40
         },
         "mode": "markers+text",
         "text": "Instant Sausage",
         "type": "scatter",
         "x": [
          -0.9932383274122597
         ],
         "y": [
          -0.11609289449607388
         ]
        },
        {
         "hoverinfo": "text",
         "hovertext": "Item: Onigiri<br>Trigger Sandwich - Onigiri, Support: 0.008, Lift: 2.190, Confidence: 0.171, Conviction: 1.197<br>Trigger Onigiri - Sandwich, Support: 0.008, Lift: 2.190, Confidence: 0.171, Conviction: 1.197<br>",
         "marker": {
          "color": "lightblue",
          "size": 40
         },
         "mode": "markers+text",
         "text": "Onigiri",
         "type": "scatter",
         "x": [
          -0.9396926140540682
         ],
         "y": [
          -0.34202015026325133
         ]
        },
        {
         "hoverinfo": "text",
         "hovertext": "Item: Sandwich<br>Trigger Onigiri - Sandwich, Support: 0.008, Lift: 2.190, Confidence: 0.171, Conviction: 1.197<br>Trigger Sandwich - Onigiri, Support: 0.008, Lift: 2.190, Confidence: 0.171, Conviction: 1.197<br>",
         "marker": {
          "color": "lightblue",
          "size": 40
         },
         "mode": "markers+text",
         "text": "Sandwich",
         "type": "scatter",
         "x": [
          -0.8354877806759281
         ],
         "y": [
          -0.5495089848635399
         ]
        },
        {
         "hoverinfo": "text",
         "hovertext": "Item: Others Steamed  bun<br>Trigger Savoury  Buns - Others Steamed  bun, Support: 0.008, Lift: 2.412, Confidence: 0.102, Conviction: 1.105<br>Trigger Others Steamed  bun - Other Cuisine Sub, Support: 0.010, Lift: 2.412, Confidence: 0.102, Conviction: 1.105<br>Trigger Others Steamed  bun - Savoury  Buns, Support: 0.008, Lift: 2.412, Confidence: 0.102, Conviction: 1.105<br>",
         "marker": {
          "color": "lightblue",
          "size": 40
         },
         "mode": "markers+text",
         "text": "Others Steamed  bun",
         "type": "scatter",
         "x": [
          -0.686241565040944
         ],
         "y": [
          -0.7273736553961532
         ]
        },
        {
         "hoverinfo": "text",
         "hovertext": "Item: Stick<br>Trigger Other Ice Cream - Stick, Support: 0.005, Lift: 10.722, Confidence: 0.303, Conviction: 1.427<br>Trigger Stick - Other Ice Cream, Support: 0.005, Lift: 10.722, Confidence: 0.303, Conviction: 1.427<br>",
         "marker": {
          "color": "lightblue",
          "size": 40
         },
         "mode": "markers+text",
         "text": "Stick",
         "type": "scatter",
         "x": [
          -0.49999990873038785
         ],
         "y": [
          -0.8660254434586911
         ]
        },
        {
         "hoverinfo": "text",
         "hovertext": "Item: Other Ice Cream<br>Trigger Stick - Other Ice Cream, Support: 0.005, Lift: 10.722, Confidence: 0.303, Conviction: 1.427<br>Trigger Other Ice Cream - Stick, Support: 0.005, Lift: 10.722, Confidence: 0.303, Conviction: 1.427<br>",
         "marker": {
          "color": "lightblue",
          "size": 40
         },
         "mode": "markers+text",
         "text": "Other Ice Cream",
         "type": "scatter",
         "x": [
          -0.28680333335349545
         ],
         "y": [
          -0.9579894497684438
         ]
        },
        {
         "hoverinfo": "text",
         "hovertext": "Item: Savoury  Buns<br>Trigger Others Steamed  bun - Savoury  Buns, Support: 0.008, Lift: 2.412, Confidence: 0.102, Conviction: 1.105<br>Trigger Savoury  Buns - Others Steamed  bun, Support: 0.008, Lift: 2.412, Confidence: 0.102, Conviction: 1.105<br>",
         "marker": {
          "color": "lightblue",
          "size": 40
         },
         "mode": "markers+text",
         "text": "Savoury  Buns",
         "type": "scatter",
         "x": [
          -0.0581446463141036
         ],
         "y": [
          -0.9983081772116636
         ]
        },
        {
         "hoverinfo": "text",
         "hovertext": "Item: UHT Milk<br>Trigger UHT Milk - Packaged bakery, Support: 0.006, Lift: 2.086, Confidence: 0.136, Conviction: 1.151<br>",
         "marker": {
          "color": "lightblue",
          "size": 40
         },
         "mode": "markers+text",
         "text": "UHT Milk",
         "type": "scatter",
         "x": [
          0.1736481647023954
         ],
         "y": [
          -0.984807725186802
         ]
        },
        {
         "hoverinfo": "text",
         "hovertext": "Item: Packaged bakery<br>Trigger UHT Milk - Packaged bakery, Support: 0.006, Lift: 2.086, Confidence: 0.136, Conviction: 1.151<br>",
         "marker": {
          "color": "lightblue",
          "size": 40
         },
         "mode": "markers+text",
         "text": "Packaged bakery",
         "type": "scatter",
         "x": [
          0.3960795410026119
         ],
         "y": [
          -0.918216224033531
         ]
        },
        {
         "hoverinfo": "text",
         "hovertext": "Item: Salty Snacks<br>Trigger Potato Snacks - Salty Snacks, Support: 0.009, Lift: 3.828, Confidence: 0.172, Conviction: 1.198<br>Trigger Salty Snacks - Potato Snacks, Support: 0.009, Lift: 3.828, Confidence: 0.172, Conviction: 1.198<br>",
         "marker": {
          "color": "lightblue",
          "size": 40
         },
         "mode": "markers+text",
         "text": "Salty Snacks",
         "type": "scatter",
         "x": [
          0.597158611321004
         ],
         "y": [
          -0.8021231846650568
         ]
        },
        {
         "hoverinfo": "text",
         "hovertext": "Item: Potato Snacks<br>Trigger Salty Snacks - Potato Snacks, Support: 0.009, Lift: 3.828, Confidence: 0.172, Conviction: 1.198<br>Trigger Potato Snacks - Salty Snacks, Support: 0.009, Lift: 3.828, Confidence: 0.172, Conviction: 1.198<br>",
         "marker": {
          "color": "lightblue",
          "size": 40
         },
         "mode": "markers+text",
         "text": "Potato Snacks",
         "type": "scatter",
         "x": [
          0.7660443189665126
         ],
         "y": [
          -0.6427877504261156
         ]
        },
        {
         "hoverinfo": "text",
         "hovertext": "Item: WIC/RIC Juice<br>Trigger WIC/RIC Juice - Sugar Tea, Support: 0.007, Lift: 2.132, Confidence: 0.236, Conviction: 1.300<br>",
         "marker": {
          "color": "lightblue",
          "size": 40
         },
         "mode": "markers+text",
         "text": "WIC/RIC Juice",
         "type": "scatter",
         "x": [
          0.8936327101120941
         ],
         "y": [
          -0.44879906982746504
         ]
        },
        {
         "hoverinfo": "text",
         "hovertext": "Item: Sugar Tea<br>Trigger WIC/RIC Juice - Sugar Tea, Support: 0.007, Lift: 2.132, Confidence: 0.236, Conviction: 1.300<br>",
         "marker": {
          "color": "lightblue",
          "size": 40
         },
         "mode": "markers+text",
         "text": "Sugar Tea",
         "type": "scatter",
         "x": [
          0.9730448723174075
         ],
         "y": [
          -0.23061595497369441
         ]
        }
       ],
       "layout": {
        "hovermode": "closest",
        "margin": {
         "b": 20,
         "l": 5,
         "r": 5,
         "t": 40
        },
        "plot_bgcolor": "white",
        "showlegend": false,
        "template": {
         "data": {
          "bar": [
           {
            "error_x": {
             "color": "#2a3f5f"
            },
            "error_y": {
             "color": "#2a3f5f"
            },
            "marker": {
             "line": {
              "color": "#E5ECF6",
              "width": 0.5
             },
             "pattern": {
              "fillmode": "overlay",
              "size": 10,
              "solidity": 0.2
             }
            },
            "type": "bar"
           }
          ],
          "barpolar": [
           {
            "marker": {
             "line": {
              "color": "#E5ECF6",
              "width": 0.5
             },
             "pattern": {
              "fillmode": "overlay",
              "size": 10,
              "solidity": 0.2
             }
            },
            "type": "barpolar"
           }
          ],
          "carpet": [
           {
            "aaxis": {
             "endlinecolor": "#2a3f5f",
             "gridcolor": "white",
             "linecolor": "white",
             "minorgridcolor": "white",
             "startlinecolor": "#2a3f5f"
            },
            "baxis": {
             "endlinecolor": "#2a3f5f",
             "gridcolor": "white",
             "linecolor": "white",
             "minorgridcolor": "white",
             "startlinecolor": "#2a3f5f"
            },
            "type": "carpet"
           }
          ],
          "choropleth": [
           {
            "colorbar": {
             "outlinewidth": 0,
             "ticks": ""
            },
            "type": "choropleth"
           }
          ],
          "contour": [
           {
            "colorbar": {
             "outlinewidth": 0,
             "ticks": ""
            },
            "colorscale": [
             [
              0,
              "#0d0887"
             ],
             [
              0.1111111111111111,
              "#46039f"
             ],
             [
              0.2222222222222222,
              "#7201a8"
             ],
             [
              0.3333333333333333,
              "#9c179e"
             ],
             [
              0.4444444444444444,
              "#bd3786"
             ],
             [
              0.5555555555555556,
              "#d8576b"
             ],
             [
              0.6666666666666666,
              "#ed7953"
             ],
             [
              0.7777777777777778,
              "#fb9f3a"
             ],
             [
              0.8888888888888888,
              "#fdca26"
             ],
             [
              1,
              "#f0f921"
             ]
            ],
            "type": "contour"
           }
          ],
          "contourcarpet": [
           {
            "colorbar": {
             "outlinewidth": 0,
             "ticks": ""
            },
            "type": "contourcarpet"
           }
          ],
          "heatmap": [
           {
            "colorbar": {
             "outlinewidth": 0,
             "ticks": ""
            },
            "colorscale": [
             [
              0,
              "#0d0887"
             ],
             [
              0.1111111111111111,
              "#46039f"
             ],
             [
              0.2222222222222222,
              "#7201a8"
             ],
             [
              0.3333333333333333,
              "#9c179e"
             ],
             [
              0.4444444444444444,
              "#bd3786"
             ],
             [
              0.5555555555555556,
              "#d8576b"
             ],
             [
              0.6666666666666666,
              "#ed7953"
             ],
             [
              0.7777777777777778,
              "#fb9f3a"
             ],
             [
              0.8888888888888888,
              "#fdca26"
             ],
             [
              1,
              "#f0f921"
             ]
            ],
            "type": "heatmap"
           }
          ],
          "heatmapgl": [
           {
            "colorbar": {
             "outlinewidth": 0,
             "ticks": ""
            },
            "colorscale": [
             [
              0,
              "#0d0887"
             ],
             [
              0.1111111111111111,
              "#46039f"
             ],
             [
              0.2222222222222222,
              "#7201a8"
             ],
             [
              0.3333333333333333,
              "#9c179e"
             ],
             [
              0.4444444444444444,
              "#bd3786"
             ],
             [
              0.5555555555555556,
              "#d8576b"
             ],
             [
              0.6666666666666666,
              "#ed7953"
             ],
             [
              0.7777777777777778,
              "#fb9f3a"
             ],
             [
              0.8888888888888888,
              "#fdca26"
             ],
             [
              1,
              "#f0f921"
             ]
            ],
            "type": "heatmapgl"
           }
          ],
          "histogram": [
           {
            "marker": {
             "pattern": {
              "fillmode": "overlay",
              "size": 10,
              "solidity": 0.2
             }
            },
            "type": "histogram"
           }
          ],
          "histogram2d": [
           {
            "colorbar": {
             "outlinewidth": 0,
             "ticks": ""
            },
            "colorscale": [
             [
              0,
              "#0d0887"
             ],
             [
              0.1111111111111111,
              "#46039f"
             ],
             [
              0.2222222222222222,
              "#7201a8"
             ],
             [
              0.3333333333333333,
              "#9c179e"
             ],
             [
              0.4444444444444444,
              "#bd3786"
             ],
             [
              0.5555555555555556,
              "#d8576b"
             ],
             [
              0.6666666666666666,
              "#ed7953"
             ],
             [
              0.7777777777777778,
              "#fb9f3a"
             ],
             [
              0.8888888888888888,
              "#fdca26"
             ],
             [
              1,
              "#f0f921"
             ]
            ],
            "type": "histogram2d"
           }
          ],
          "histogram2dcontour": [
           {
            "colorbar": {
             "outlinewidth": 0,
             "ticks": ""
            },
            "colorscale": [
             [
              0,
              "#0d0887"
             ],
             [
              0.1111111111111111,
              "#46039f"
             ],
             [
              0.2222222222222222,
              "#7201a8"
             ],
             [
              0.3333333333333333,
              "#9c179e"
             ],
             [
              0.4444444444444444,
              "#bd3786"
             ],
             [
              0.5555555555555556,
              "#d8576b"
             ],
             [
              0.6666666666666666,
              "#ed7953"
             ],
             [
              0.7777777777777778,
              "#fb9f3a"
             ],
             [
              0.8888888888888888,
              "#fdca26"
             ],
             [
              1,
              "#f0f921"
             ]
            ],
            "type": "histogram2dcontour"
           }
          ],
          "mesh3d": [
           {
            "colorbar": {
             "outlinewidth": 0,
             "ticks": ""
            },
            "type": "mesh3d"
           }
          ],
          "parcoords": [
           {
            "line": {
             "colorbar": {
              "outlinewidth": 0,
              "ticks": ""
             }
            },
            "type": "parcoords"
           }
          ],
          "pie": [
           {
            "automargin": true,
            "type": "pie"
           }
          ],
          "scatter": [
           {
            "fillpattern": {
             "fillmode": "overlay",
             "size": 10,
             "solidity": 0.2
            },
            "type": "scatter"
           }
          ],
          "scatter3d": [
           {
            "line": {
             "colorbar": {
              "outlinewidth": 0,
              "ticks": ""
             }
            },
            "marker": {
             "colorbar": {
              "outlinewidth": 0,
              "ticks": ""
             }
            },
            "type": "scatter3d"
           }
          ],
          "scattercarpet": [
           {
            "marker": {
             "colorbar": {
              "outlinewidth": 0,
              "ticks": ""
             }
            },
            "type": "scattercarpet"
           }
          ],
          "scattergeo": [
           {
            "marker": {
             "colorbar": {
              "outlinewidth": 0,
              "ticks": ""
             }
            },
            "type": "scattergeo"
           }
          ],
          "scattergl": [
           {
            "marker": {
             "colorbar": {
              "outlinewidth": 0,
              "ticks": ""
             }
            },
            "type": "scattergl"
           }
          ],
          "scattermapbox": [
           {
            "marker": {
             "colorbar": {
              "outlinewidth": 0,
              "ticks": ""
             }
            },
            "type": "scattermapbox"
           }
          ],
          "scatterpolar": [
           {
            "marker": {
             "colorbar": {
              "outlinewidth": 0,
              "ticks": ""
             }
            },
            "type": "scatterpolar"
           }
          ],
          "scatterpolargl": [
           {
            "marker": {
             "colorbar": {
              "outlinewidth": 0,
              "ticks": ""
             }
            },
            "type": "scatterpolargl"
           }
          ],
          "scatterternary": [
           {
            "marker": {
             "colorbar": {
              "outlinewidth": 0,
              "ticks": ""
             }
            },
            "type": "scatterternary"
           }
          ],
          "surface": [
           {
            "colorbar": {
             "outlinewidth": 0,
             "ticks": ""
            },
            "colorscale": [
             [
              0,
              "#0d0887"
             ],
             [
              0.1111111111111111,
              "#46039f"
             ],
             [
              0.2222222222222222,
              "#7201a8"
             ],
             [
              0.3333333333333333,
              "#9c179e"
             ],
             [
              0.4444444444444444,
              "#bd3786"
             ],
             [
              0.5555555555555556,
              "#d8576b"
             ],
             [
              0.6666666666666666,
              "#ed7953"
             ],
             [
              0.7777777777777778,
              "#fb9f3a"
             ],
             [
              0.8888888888888888,
              "#fdca26"
             ],
             [
              1,
              "#f0f921"
             ]
            ],
            "type": "surface"
           }
          ],
          "table": [
           {
            "cells": {
             "fill": {
              "color": "#EBF0F8"
             },
             "line": {
              "color": "white"
             }
            },
            "header": {
             "fill": {
              "color": "#C8D4E3"
             },
             "line": {
              "color": "white"
             }
            },
            "type": "table"
           }
          ]
         },
         "layout": {
          "annotationdefaults": {
           "arrowcolor": "#2a3f5f",
           "arrowhead": 0,
           "arrowwidth": 1
          },
          "autotypenumbers": "strict",
          "coloraxis": {
           "colorbar": {
            "outlinewidth": 0,
            "ticks": ""
           }
          },
          "colorscale": {
           "diverging": [
            [
             0,
             "#8e0152"
            ],
            [
             0.1,
             "#c51b7d"
            ],
            [
             0.2,
             "#de77ae"
            ],
            [
             0.3,
             "#f1b6da"
            ],
            [
             0.4,
             "#fde0ef"
            ],
            [
             0.5,
             "#f7f7f7"
            ],
            [
             0.6,
             "#e6f5d0"
            ],
            [
             0.7,
             "#b8e186"
            ],
            [
             0.8,
             "#7fbc41"
            ],
            [
             0.9,
             "#4d9221"
            ],
            [
             1,
             "#276419"
            ]
           ],
           "sequential": [
            [
             0,
             "#0d0887"
            ],
            [
             0.1111111111111111,
             "#46039f"
            ],
            [
             0.2222222222222222,
             "#7201a8"
            ],
            [
             0.3333333333333333,
             "#9c179e"
            ],
            [
             0.4444444444444444,
             "#bd3786"
            ],
            [
             0.5555555555555556,
             "#d8576b"
            ],
            [
             0.6666666666666666,
             "#ed7953"
            ],
            [
             0.7777777777777778,
             "#fb9f3a"
            ],
            [
             0.8888888888888888,
             "#fdca26"
            ],
            [
             1,
             "#f0f921"
            ]
           ],
           "sequentialminus": [
            [
             0,
             "#0d0887"
            ],
            [
             0.1111111111111111,
             "#46039f"
            ],
            [
             0.2222222222222222,
             "#7201a8"
            ],
            [
             0.3333333333333333,
             "#9c179e"
            ],
            [
             0.4444444444444444,
             "#bd3786"
            ],
            [
             0.5555555555555556,
             "#d8576b"
            ],
            [
             0.6666666666666666,
             "#ed7953"
            ],
            [
             0.7777777777777778,
             "#fb9f3a"
            ],
            [
             0.8888888888888888,
             "#fdca26"
            ],
            [
             1,
             "#f0f921"
            ]
           ]
          },
          "colorway": [
           "#636efa",
           "#EF553B",
           "#00cc96",
           "#ab63fa",
           "#FFA15A",
           "#19d3f3",
           "#FF6692",
           "#B6E880",
           "#FF97FF",
           "#FECB52"
          ],
          "font": {
           "color": "#2a3f5f"
          },
          "geo": {
           "bgcolor": "white",
           "lakecolor": "white",
           "landcolor": "#E5ECF6",
           "showlakes": true,
           "showland": true,
           "subunitcolor": "white"
          },
          "hoverlabel": {
           "align": "left"
          },
          "hovermode": "closest",
          "mapbox": {
           "style": "light"
          },
          "paper_bgcolor": "white",
          "plot_bgcolor": "#E5ECF6",
          "polar": {
           "angularaxis": {
            "gridcolor": "white",
            "linecolor": "white",
            "ticks": ""
           },
           "bgcolor": "#E5ECF6",
           "radialaxis": {
            "gridcolor": "white",
            "linecolor": "white",
            "ticks": ""
           }
          },
          "scene": {
           "xaxis": {
            "backgroundcolor": "#E5ECF6",
            "gridcolor": "white",
            "gridwidth": 2,
            "linecolor": "white",
            "showbackground": true,
            "ticks": "",
            "zerolinecolor": "white"
           },
           "yaxis": {
            "backgroundcolor": "#E5ECF6",
            "gridcolor": "white",
            "gridwidth": 2,
            "linecolor": "white",
            "showbackground": true,
            "ticks": "",
            "zerolinecolor": "white"
           },
           "zaxis": {
            "backgroundcolor": "#E5ECF6",
            "gridcolor": "white",
            "gridwidth": 2,
            "linecolor": "white",
            "showbackground": true,
            "ticks": "",
            "zerolinecolor": "white"
           }
          },
          "shapedefaults": {
           "line": {
            "color": "#2a3f5f"
           }
          },
          "ternary": {
           "aaxis": {
            "gridcolor": "white",
            "linecolor": "white",
            "ticks": ""
           },
           "baxis": {
            "gridcolor": "white",
            "linecolor": "white",
            "ticks": ""
           },
           "bgcolor": "#E5ECF6",
           "caxis": {
            "gridcolor": "white",
            "linecolor": "white",
            "ticks": ""
           }
          },
          "title": {
           "x": 0.05
          },
          "xaxis": {
           "automargin": true,
           "gridcolor": "white",
           "linecolor": "white",
           "ticks": "",
           "title": {
            "standoff": 15
           },
           "zerolinecolor": "white",
           "zerolinewidth": 2
          },
          "yaxis": {
           "automargin": true,
           "gridcolor": "white",
           "linecolor": "white",
           "ticks": "",
           "title": {
            "standoff": 15
           },
           "zerolinecolor": "white",
           "zerolinewidth": 2
          }
         }
        },
        "title": {
         "text": "Items Set Rules Graph",
         "x": 0.5
        },
        "xaxis": {
         "showgrid": false,
         "showticklabels": false,
         "zeroline": false
        },
        "yaxis": {
         "showgrid": false,
         "showticklabels": false,
         "zeroline": false
        }
       }
      }
     },
     "metadata": {},
     "output_type": "display_data"
    }
   ],
   "source": [
    "import plotly.graph_objects as go\n",
    "import networkx as nx\n",
    "\n",
    "# Create an empty directed graph\n",
    "G = nx.DiGraph()\n",
    "\n",
    "# Iterate through each row of the DataFrame and add edges to the graph\n",
    "for index, row in rules.iterrows():\n",
    "    antecedent = ', '.join(row['antecedents'])\n",
    "    consequent = ', '.join(row['consequents'])\n",
    "    support = row['support']\n",
    "    confidence = row['confidence']\n",
    "    lift = row['lift']\n",
    "    conviction = row['conviction']\n",
    "    # Check if lift is greater than 2 and confidence is greater than 0.1\n",
    "    if lift >= 2 and confidence > 0.1:\n",
    "        # Add edges to the graph with the support or confidence as edge weight\n",
    "        G.add_edge(antecedent, consequent, weight=support)\n",
    "\n",
    "        # Add support, lift, and confidence as attributes to the nodes\n",
    "        G.add_node(antecedent, support=support, lift=lift, confidence=confidence, conviction=conviction)\n",
    "        G.add_node(consequent, support=support, lift=lift, confidence=confidence, conviction=conviction)\n",
    "\n",
    "# Get the node positions using circular layout\n",
    "pos = nx.circular_layout(G)\n",
    "\n",
    "# Create a list of edge traces\n",
    "edge_traces = []\n",
    "for edge in G.edges():\n",
    "    x0, y0 = pos[edge[0]]\n",
    "    x1, y1 = pos[edge[1]]\n",
    "    weight = G.get_edge_data(edge[0], edge[1])['weight']\n",
    "    edge_trace = go.Scatter(x=[x0, x1, None], y=[y0, y1, None],\n",
    "                            mode='lines', line=dict(width=weight*10, color='black'),\n",
    "                            hoverinfo='text',\n",
    "                            hovertext=f\"Support: {weight:.3f}\",\n",
    "                            )\n",
    "    edge_traces.append(edge_trace)\n",
    "\n",
    "# Create a list of node traces\n",
    "node_traces = []\n",
    "for node in G.nodes():\n",
    "    x, y = pos[node]\n",
    "    in_edges = G.in_edges(node)\n",
    "    out_edges = G.out_edges(node)\n",
    "    text = f\"Item: {node}<br>\"\n",
    "    for in_edge in in_edges:\n",
    "        antecedent = in_edge[0]\n",
    "        weight = G.get_edge_data(antecedent, node)['weight']\n",
    "        text += f\"Trigger {antecedent} - {node}, Support: {weight:.3f}, Lift: {G.nodes[node]['lift']:.3f}, Confidence: {G.nodes[node]['confidence']:.3f}, Conviction: {G.nodes[node]['conviction']:.3f}<br>\"\n",
    "    for out_edge in out_edges:\n",
    "        consequent = out_edge[1]\n",
    "        weight = G.get_edge_data(node, consequent)['weight']\n",
    "        text += f\"Trigger {node} - {consequent}, Support: {weight:.3f}, Lift: {G.nodes[node]['lift']:.3f}, Confidence: {G.nodes[node]['confidence']:.3f}, Conviction: {G.nodes[node]['conviction']:.3f}<br>\"\n",
    "    node_trace = go.Scatter(x=[x], y=[y], mode='markers+text', text=node,\n",
    "                            marker=dict(size=40, color='lightblue'),\n",
    "                            hoverinfo='text',\n",
    "                            hovertext=text\n",
    "                            )\n",
    "    node_traces.append(node_trace)\n",
    "\n",
    "# Create the figure and add the edge and node traces\n",
    "fig = go.Figure(data=edge_traces + node_traces)\n",
    "\n",
    "# Set the layout properties\n",
    "fig.update_layout(title='Items Set Rules Graph', title_x=0.5, showlegend=False, hovermode='closest',\n",
    "                  plot_bgcolor='white', margin=dict(b=20, l=5, r=5, t=40), xaxis=dict(showgrid=False, zeroline=False,\n",
    "                  showticklabels=False), yaxis=dict(showgrid=False, zeroline=False, showticklabels=False))\n",
    "\n",
    "# Show the plot\n",
    "fig.show()\n"
   ]
  }
 ],
 "metadata": {
  "kernelspec": {
   "display_name": "base",
   "language": "python",
   "name": "python3"
  },
  "language_info": {
   "codemirror_mode": {
    "name": "ipython",
    "version": 3
   },
   "file_extension": ".py",
   "mimetype": "text/x-python",
   "name": "python",
   "nbconvert_exporter": "python",
   "pygments_lexer": "ipython3",
   "version": "3.11.3"
  },
  "orig_nbformat": 4,
  "vscode": {
   "interpreter": {
    "hash": "4f2380935a852bfd6cd376048d8438f0291ac020ced12a3def74eecbc5a3998c"
   }
  }
 },
 "nbformat": 4,
 "nbformat_minor": 2
}
